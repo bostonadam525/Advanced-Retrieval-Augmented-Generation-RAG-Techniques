{
  "nbformat": 4,
  "nbformat_minor": 0,
  "metadata": {
    "colab": {
      "provenance": []
    },
    "kernelspec": {
      "name": "python3",
      "display_name": "Python 3"
    },
    "language_info": {
      "name": "python"
    }
  },
  "cells": [
    {
      "cell_type": "markdown",
      "source": [
        "# Vector Databases Overview in LlamaIndex\n",
        "* Notebook by Adam Lang\n",
        "* Date: 3/21/2024\n",
        "* We will go over basic Vector Database techniques using LlamaIndex and the following Vector DBs:\n",
        "  1. Chroma\n",
        "  2. Pinecone"
      ],
      "metadata": {
        "id": "Vgx98qLbaEMN"
      }
    },
    {
      "cell_type": "code",
      "execution_count": 2,
      "metadata": {
        "colab": {
          "base_uri": "https://localhost:8080/"
        },
        "id": "JznH304taAru",
        "outputId": "b05835b1-2459-42a2-e4aa-f8be013f491b"
      },
      "outputs": [
        {
          "output_type": "stream",
          "name": "stdout",
          "text": [
            "Collecting llama-index\n",
            "  Downloading llama_index-0.10.20-py3-none-any.whl (5.6 kB)\n",
            "Collecting llama-index-agent-openai<0.2.0,>=0.1.4 (from llama-index)\n",
            "  Downloading llama_index_agent_openai-0.1.6-py3-none-any.whl (12 kB)\n",
            "Collecting llama-index-cli<0.2.0,>=0.1.2 (from llama-index)\n",
            "  Downloading llama_index_cli-0.1.11-py3-none-any.whl (26 kB)\n",
            "Collecting llama-index-core<0.11.0,>=0.10.20 (from llama-index)\n",
            "  Downloading llama_index_core-0.10.21.post1-py3-none-any.whl (15.4 MB)\n",
            "\u001b[2K     \u001b[90m━━━━━━━━━━━━━━━━━━━━━━━━━━━━━━━━━━━━━━━━\u001b[0m \u001b[32m15.4/15.4 MB\u001b[0m \u001b[31m27.6 MB/s\u001b[0m eta \u001b[36m0:00:00\u001b[0m\n",
            "\u001b[?25hCollecting llama-index-embeddings-openai<0.2.0,>=0.1.5 (from llama-index)\n",
            "  Downloading llama_index_embeddings_openai-0.1.7-py3-none-any.whl (6.0 kB)\n",
            "Collecting llama-index-indices-managed-llama-cloud<0.2.0,>=0.1.2 (from llama-index)\n",
            "  Downloading llama_index_indices_managed_llama_cloud-0.1.4-py3-none-any.whl (6.6 kB)\n",
            "Collecting llama-index-legacy<0.10.0,>=0.9.48 (from llama-index)\n",
            "  Downloading llama_index_legacy-0.9.48-py3-none-any.whl (2.0 MB)\n",
            "\u001b[2K     \u001b[90m━━━━━━━━━━━━━━━━━━━━━━━━━━━━━━━━━━━━━━━━\u001b[0m \u001b[32m2.0/2.0 MB\u001b[0m \u001b[31m45.0 MB/s\u001b[0m eta \u001b[36m0:00:00\u001b[0m\n",
            "\u001b[?25hCollecting llama-index-llms-openai<0.2.0,>=0.1.5 (from llama-index)\n",
            "  Downloading llama_index_llms_openai-0.1.12-py3-none-any.whl (10 kB)\n",
            "Collecting llama-index-multi-modal-llms-openai<0.2.0,>=0.1.3 (from llama-index)\n",
            "  Downloading llama_index_multi_modal_llms_openai-0.1.4-py3-none-any.whl (5.8 kB)\n",
            "Collecting llama-index-program-openai<0.2.0,>=0.1.3 (from llama-index)\n",
            "  Downloading llama_index_program_openai-0.1.4-py3-none-any.whl (4.1 kB)\n",
            "Collecting llama-index-question-gen-openai<0.2.0,>=0.1.2 (from llama-index)\n",
            "  Downloading llama_index_question_gen_openai-0.1.3-py3-none-any.whl (2.9 kB)\n",
            "Collecting llama-index-readers-file<0.2.0,>=0.1.4 (from llama-index)\n",
            "  Downloading llama_index_readers_file-0.1.11-py3-none-any.whl (36 kB)\n",
            "Collecting llama-index-readers-llama-parse<0.2.0,>=0.1.2 (from llama-index)\n",
            "  Downloading llama_index_readers_llama_parse-0.1.3-py3-none-any.whl (2.5 kB)\n",
            "Requirement already satisfied: PyYAML>=6.0.1 in /usr/local/lib/python3.10/dist-packages (from llama-index-core<0.11.0,>=0.10.20->llama-index) (6.0.1)\n",
            "Requirement already satisfied: SQLAlchemy[asyncio]>=1.4.49 in /usr/local/lib/python3.10/dist-packages (from llama-index-core<0.11.0,>=0.10.20->llama-index) (2.0.28)\n",
            "Requirement already satisfied: aiohttp<4.0.0,>=3.8.6 in /usr/local/lib/python3.10/dist-packages (from llama-index-core<0.11.0,>=0.10.20->llama-index) (3.9.3)\n",
            "Collecting dataclasses-json (from llama-index-core<0.11.0,>=0.10.20->llama-index)\n",
            "  Downloading dataclasses_json-0.6.4-py3-none-any.whl (28 kB)\n",
            "Collecting deprecated>=1.2.9.3 (from llama-index-core<0.11.0,>=0.10.20->llama-index)\n",
            "  Downloading Deprecated-1.2.14-py2.py3-none-any.whl (9.6 kB)\n",
            "Collecting dirtyjson<2.0.0,>=1.0.8 (from llama-index-core<0.11.0,>=0.10.20->llama-index)\n",
            "  Downloading dirtyjson-1.0.8-py3-none-any.whl (25 kB)\n",
            "Requirement already satisfied: fsspec>=2023.5.0 in /usr/local/lib/python3.10/dist-packages (from llama-index-core<0.11.0,>=0.10.20->llama-index) (2023.6.0)\n",
            "Collecting httpx (from llama-index-core<0.11.0,>=0.10.20->llama-index)\n",
            "  Downloading httpx-0.27.0-py3-none-any.whl (75 kB)\n",
            "\u001b[2K     \u001b[90m━━━━━━━━━━━━━━━━━━━━━━━━━━━━━━━━━━━━━━━━\u001b[0m \u001b[32m75.6/75.6 kB\u001b[0m \u001b[31m5.8 MB/s\u001b[0m eta \u001b[36m0:00:00\u001b[0m\n",
            "\u001b[?25hCollecting llamaindex-py-client<0.2.0,>=0.1.13 (from llama-index-core<0.11.0,>=0.10.20->llama-index)\n",
            "  Downloading llamaindex_py_client-0.1.13-py3-none-any.whl (107 kB)\n",
            "\u001b[2K     \u001b[90m━━━━━━━━━━━━━━━━━━━━━━━━━━━━━━━━━━━━━━━━\u001b[0m \u001b[32m108.0/108.0 kB\u001b[0m \u001b[31m11.7 MB/s\u001b[0m eta \u001b[36m0:00:00\u001b[0m\n",
            "\u001b[?25hRequirement already satisfied: nest-asyncio<2.0.0,>=1.5.8 in /usr/local/lib/python3.10/dist-packages (from llama-index-core<0.11.0,>=0.10.20->llama-index) (1.6.0)\n",
            "Requirement already satisfied: networkx>=3.0 in /usr/local/lib/python3.10/dist-packages (from llama-index-core<0.11.0,>=0.10.20->llama-index) (3.2.1)\n",
            "Requirement already satisfied: nltk<4.0.0,>=3.8.1 in /usr/local/lib/python3.10/dist-packages (from llama-index-core<0.11.0,>=0.10.20->llama-index) (3.8.1)\n",
            "Requirement already satisfied: numpy in /usr/local/lib/python3.10/dist-packages (from llama-index-core<0.11.0,>=0.10.20->llama-index) (1.25.2)\n",
            "Collecting openai>=1.1.0 (from llama-index-core<0.11.0,>=0.10.20->llama-index)\n",
            "  Downloading openai-1.14.2-py3-none-any.whl (262 kB)\n",
            "\u001b[2K     \u001b[90m━━━━━━━━━━━━━━━━━━━━━━━━━━━━━━━━━━━━━━━━\u001b[0m \u001b[32m262.4/262.4 kB\u001b[0m \u001b[31m20.7 MB/s\u001b[0m eta \u001b[36m0:00:00\u001b[0m\n",
            "\u001b[?25hRequirement already satisfied: pandas in /usr/local/lib/python3.10/dist-packages (from llama-index-core<0.11.0,>=0.10.20->llama-index) (1.5.3)\n",
            "Requirement already satisfied: pillow>=9.0.0 in /usr/local/lib/python3.10/dist-packages (from llama-index-core<0.11.0,>=0.10.20->llama-index) (9.4.0)\n",
            "Requirement already satisfied: requests>=2.31.0 in /usr/local/lib/python3.10/dist-packages (from llama-index-core<0.11.0,>=0.10.20->llama-index) (2.31.0)\n",
            "Requirement already satisfied: tenacity<9.0.0,>=8.2.0 in /usr/local/lib/python3.10/dist-packages (from llama-index-core<0.11.0,>=0.10.20->llama-index) (8.2.3)\n",
            "Collecting tiktoken>=0.3.3 (from llama-index-core<0.11.0,>=0.10.20->llama-index)\n",
            "  Downloading tiktoken-0.6.0-cp310-cp310-manylinux_2_17_x86_64.manylinux2014_x86_64.whl (1.8 MB)\n",
            "\u001b[2K     \u001b[90m━━━━━━━━━━━━━━━━━━━━━━━━━━━━━━━━━━━━━━━━\u001b[0m \u001b[32m1.8/1.8 MB\u001b[0m \u001b[31m55.5 MB/s\u001b[0m eta \u001b[36m0:00:00\u001b[0m\n",
            "\u001b[?25hRequirement already satisfied: tqdm<5.0.0,>=4.66.1 in /usr/local/lib/python3.10/dist-packages (from llama-index-core<0.11.0,>=0.10.20->llama-index) (4.66.2)\n",
            "Requirement already satisfied: typing-extensions>=4.5.0 in /usr/local/lib/python3.10/dist-packages (from llama-index-core<0.11.0,>=0.10.20->llama-index) (4.10.0)\n",
            "Collecting typing-inspect>=0.8.0 (from llama-index-core<0.11.0,>=0.10.20->llama-index)\n",
            "  Downloading typing_inspect-0.9.0-py3-none-any.whl (8.8 kB)\n",
            "Requirement already satisfied: beautifulsoup4<5.0.0,>=4.12.3 in /usr/local/lib/python3.10/dist-packages (from llama-index-readers-file<0.2.0,>=0.1.4->llama-index) (4.12.3)\n",
            "Collecting bs4<0.0.3,>=0.0.2 (from llama-index-readers-file<0.2.0,>=0.1.4->llama-index)\n",
            "  Downloading bs4-0.0.2-py2.py3-none-any.whl (1.2 kB)\n",
            "Collecting pymupdf<2.0.0,>=1.23.21 (from llama-index-readers-file<0.2.0,>=0.1.4->llama-index)\n",
            "  Downloading PyMuPDF-1.23.26-cp310-none-manylinux2014_x86_64.whl (4.4 MB)\n",
            "\u001b[2K     \u001b[90m━━━━━━━━━━━━━━━━━━━━━━━━━━━━━━━━━━━━━━━━\u001b[0m \u001b[32m4.4/4.4 MB\u001b[0m \u001b[31m47.8 MB/s\u001b[0m eta \u001b[36m0:00:00\u001b[0m\n",
            "\u001b[?25hCollecting pypdf<5.0.0,>=4.0.1 (from llama-index-readers-file<0.2.0,>=0.1.4->llama-index)\n",
            "  Downloading pypdf-4.1.0-py3-none-any.whl (286 kB)\n",
            "\u001b[2K     \u001b[90m━━━━━━━━━━━━━━━━━━━━━━━━━━━━━━━━━━━━━━━━\u001b[0m \u001b[32m286.1/286.1 kB\u001b[0m \u001b[31m30.1 MB/s\u001b[0m eta \u001b[36m0:00:00\u001b[0m\n",
            "\u001b[?25hCollecting striprtf<0.0.27,>=0.0.26 (from llama-index-readers-file<0.2.0,>=0.1.4->llama-index)\n",
            "  Downloading striprtf-0.0.26-py3-none-any.whl (6.9 kB)\n",
            "Collecting llama-parse<0.4.0,>=0.3.3 (from llama-index-readers-llama-parse<0.2.0,>=0.1.2->llama-index)\n",
            "  Downloading llama_parse-0.3.9-py3-none-any.whl (6.8 kB)\n",
            "Requirement already satisfied: aiosignal>=1.1.2 in /usr/local/lib/python3.10/dist-packages (from aiohttp<4.0.0,>=3.8.6->llama-index-core<0.11.0,>=0.10.20->llama-index) (1.3.1)\n",
            "Requirement already satisfied: attrs>=17.3.0 in /usr/local/lib/python3.10/dist-packages (from aiohttp<4.0.0,>=3.8.6->llama-index-core<0.11.0,>=0.10.20->llama-index) (23.2.0)\n",
            "Requirement already satisfied: frozenlist>=1.1.1 in /usr/local/lib/python3.10/dist-packages (from aiohttp<4.0.0,>=3.8.6->llama-index-core<0.11.0,>=0.10.20->llama-index) (1.4.1)\n",
            "Requirement already satisfied: multidict<7.0,>=4.5 in /usr/local/lib/python3.10/dist-packages (from aiohttp<4.0.0,>=3.8.6->llama-index-core<0.11.0,>=0.10.20->llama-index) (6.0.5)\n",
            "Requirement already satisfied: yarl<2.0,>=1.0 in /usr/local/lib/python3.10/dist-packages (from aiohttp<4.0.0,>=3.8.6->llama-index-core<0.11.0,>=0.10.20->llama-index) (1.9.4)\n",
            "Requirement already satisfied: async-timeout<5.0,>=4.0 in /usr/local/lib/python3.10/dist-packages (from aiohttp<4.0.0,>=3.8.6->llama-index-core<0.11.0,>=0.10.20->llama-index) (4.0.3)\n",
            "Requirement already satisfied: soupsieve>1.2 in /usr/local/lib/python3.10/dist-packages (from beautifulsoup4<5.0.0,>=4.12.3->llama-index-readers-file<0.2.0,>=0.1.4->llama-index) (2.5)\n",
            "Requirement already satisfied: wrapt<2,>=1.10 in /usr/local/lib/python3.10/dist-packages (from deprecated>=1.2.9.3->llama-index-core<0.11.0,>=0.10.20->llama-index) (1.14.1)\n",
            "Requirement already satisfied: pydantic>=1.10 in /usr/local/lib/python3.10/dist-packages (from llamaindex-py-client<0.2.0,>=0.1.13->llama-index-core<0.11.0,>=0.10.20->llama-index) (2.6.4)\n",
            "Requirement already satisfied: anyio in /usr/local/lib/python3.10/dist-packages (from httpx->llama-index-core<0.11.0,>=0.10.20->llama-index) (3.7.1)\n",
            "Requirement already satisfied: certifi in /usr/local/lib/python3.10/dist-packages (from httpx->llama-index-core<0.11.0,>=0.10.20->llama-index) (2024.2.2)\n",
            "Collecting httpcore==1.* (from httpx->llama-index-core<0.11.0,>=0.10.20->llama-index)\n",
            "  Downloading httpcore-1.0.4-py3-none-any.whl (77 kB)\n",
            "\u001b[2K     \u001b[90m━━━━━━━━━━━━━━━━━━━━━━━━━━━━━━━━━━━━━━━━\u001b[0m \u001b[32m77.8/77.8 kB\u001b[0m \u001b[31m7.3 MB/s\u001b[0m eta \u001b[36m0:00:00\u001b[0m\n",
            "\u001b[?25hRequirement already satisfied: idna in /usr/local/lib/python3.10/dist-packages (from httpx->llama-index-core<0.11.0,>=0.10.20->llama-index) (3.6)\n",
            "Requirement already satisfied: sniffio in /usr/local/lib/python3.10/dist-packages (from httpx->llama-index-core<0.11.0,>=0.10.20->llama-index) (1.3.1)\n",
            "Collecting h11<0.15,>=0.13 (from httpcore==1.*->httpx->llama-index-core<0.11.0,>=0.10.20->llama-index)\n",
            "  Downloading h11-0.14.0-py3-none-any.whl (58 kB)\n",
            "\u001b[2K     \u001b[90m━━━━━━━━━━━━━━━━━━━━━━━━━━━━━━━━━━━━━━━━\u001b[0m \u001b[32m58.3/58.3 kB\u001b[0m \u001b[31m4.9 MB/s\u001b[0m eta \u001b[36m0:00:00\u001b[0m\n",
            "\u001b[?25hRequirement already satisfied: click in /usr/local/lib/python3.10/dist-packages (from nltk<4.0.0,>=3.8.1->llama-index-core<0.11.0,>=0.10.20->llama-index) (8.1.7)\n",
            "Requirement already satisfied: joblib in /usr/local/lib/python3.10/dist-packages (from nltk<4.0.0,>=3.8.1->llama-index-core<0.11.0,>=0.10.20->llama-index) (1.3.2)\n",
            "Requirement already satisfied: regex>=2021.8.3 in /usr/local/lib/python3.10/dist-packages (from nltk<4.0.0,>=3.8.1->llama-index-core<0.11.0,>=0.10.20->llama-index) (2023.12.25)\n",
            "Requirement already satisfied: distro<2,>=1.7.0 in /usr/lib/python3/dist-packages (from openai>=1.1.0->llama-index-core<0.11.0,>=0.10.20->llama-index) (1.7.0)\n",
            "Collecting PyMuPDFb==1.23.22 (from pymupdf<2.0.0,>=1.23.21->llama-index-readers-file<0.2.0,>=0.1.4->llama-index)\n",
            "  Downloading PyMuPDFb-1.23.22-py3-none-manylinux2014_x86_64.manylinux_2_17_x86_64.whl (30.6 MB)\n",
            "\u001b[2K     \u001b[90m━━━━━━━━━━━━━━━━━━━━━━━━━━━━━━━━━━━━━━━━\u001b[0m \u001b[32m30.6/30.6 MB\u001b[0m \u001b[31m38.5 MB/s\u001b[0m eta \u001b[36m0:00:00\u001b[0m\n",
            "\u001b[?25hRequirement already satisfied: charset-normalizer<4,>=2 in /usr/local/lib/python3.10/dist-packages (from requests>=2.31.0->llama-index-core<0.11.0,>=0.10.20->llama-index) (3.3.2)\n",
            "Requirement already satisfied: urllib3<3,>=1.21.1 in /usr/local/lib/python3.10/dist-packages (from requests>=2.31.0->llama-index-core<0.11.0,>=0.10.20->llama-index) (2.0.7)\n",
            "Requirement already satisfied: greenlet!=0.4.17 in /usr/local/lib/python3.10/dist-packages (from SQLAlchemy[asyncio]>=1.4.49->llama-index-core<0.11.0,>=0.10.20->llama-index) (3.0.3)\n",
            "Collecting mypy-extensions>=0.3.0 (from typing-inspect>=0.8.0->llama-index-core<0.11.0,>=0.10.20->llama-index)\n",
            "  Downloading mypy_extensions-1.0.0-py3-none-any.whl (4.7 kB)\n",
            "Collecting marshmallow<4.0.0,>=3.18.0 (from dataclasses-json->llama-index-core<0.11.0,>=0.10.20->llama-index)\n",
            "  Downloading marshmallow-3.21.1-py3-none-any.whl (49 kB)\n",
            "\u001b[2K     \u001b[90m━━━━━━━━━━━━━━━━━━━━━━━━━━━━━━━━━━━━━━━━\u001b[0m \u001b[32m49.4/49.4 kB\u001b[0m \u001b[31m5.8 MB/s\u001b[0m eta \u001b[36m0:00:00\u001b[0m\n",
            "\u001b[?25hRequirement already satisfied: python-dateutil>=2.8.1 in /usr/local/lib/python3.10/dist-packages (from pandas->llama-index-core<0.11.0,>=0.10.20->llama-index) (2.8.2)\n",
            "Requirement already satisfied: pytz>=2020.1 in /usr/local/lib/python3.10/dist-packages (from pandas->llama-index-core<0.11.0,>=0.10.20->llama-index) (2023.4)\n",
            "Requirement already satisfied: exceptiongroup in /usr/local/lib/python3.10/dist-packages (from anyio->httpx->llama-index-core<0.11.0,>=0.10.20->llama-index) (1.2.0)\n",
            "Requirement already satisfied: packaging>=17.0 in /usr/local/lib/python3.10/dist-packages (from marshmallow<4.0.0,>=3.18.0->dataclasses-json->llama-index-core<0.11.0,>=0.10.20->llama-index) (24.0)\n",
            "Requirement already satisfied: annotated-types>=0.4.0 in /usr/local/lib/python3.10/dist-packages (from pydantic>=1.10->llamaindex-py-client<0.2.0,>=0.1.13->llama-index-core<0.11.0,>=0.10.20->llama-index) (0.6.0)\n",
            "Requirement already satisfied: pydantic-core==2.16.3 in /usr/local/lib/python3.10/dist-packages (from pydantic>=1.10->llamaindex-py-client<0.2.0,>=0.1.13->llama-index-core<0.11.0,>=0.10.20->llama-index) (2.16.3)\n",
            "Requirement already satisfied: six>=1.5 in /usr/local/lib/python3.10/dist-packages (from python-dateutil>=2.8.1->pandas->llama-index-core<0.11.0,>=0.10.20->llama-index) (1.16.0)\n",
            "Installing collected packages: striprtf, dirtyjson, pypdf, PyMuPDFb, mypy-extensions, marshmallow, h11, deprecated, typing-inspect, tiktoken, pymupdf, httpcore, bs4, httpx, dataclasses-json, openai, llamaindex-py-client, llama-index-legacy, llama-index-core, llama-parse, llama-index-readers-file, llama-index-llms-openai, llama-index-indices-managed-llama-cloud, llama-index-embeddings-openai, llama-index-readers-llama-parse, llama-index-multi-modal-llms-openai, llama-index-cli, llama-index-agent-openai, llama-index-program-openai, llama-index-question-gen-openai, llama-index\n",
            "Successfully installed PyMuPDFb-1.23.22 bs4-0.0.2 dataclasses-json-0.6.4 deprecated-1.2.14 dirtyjson-1.0.8 h11-0.14.0 httpcore-1.0.4 httpx-0.27.0 llama-index-0.10.20 llama-index-agent-openai-0.1.6 llama-index-cli-0.1.11 llama-index-core-0.10.21.post1 llama-index-embeddings-openai-0.1.7 llama-index-indices-managed-llama-cloud-0.1.4 llama-index-legacy-0.9.48 llama-index-llms-openai-0.1.12 llama-index-multi-modal-llms-openai-0.1.4 llama-index-program-openai-0.1.4 llama-index-question-gen-openai-0.1.3 llama-index-readers-file-0.1.11 llama-index-readers-llama-parse-0.1.3 llama-parse-0.3.9 llamaindex-py-client-0.1.13 marshmallow-3.21.1 mypy-extensions-1.0.0 openai-1.14.2 pymupdf-1.23.26 pypdf-4.1.0 striprtf-0.0.26 tiktoken-0.6.0 typing-inspect-0.9.0\n"
          ]
        }
      ],
      "source": [
        "## install llamaindex\n",
        "!pip install llama-index"
      ]
    },
    {
      "cell_type": "markdown",
      "source": [
        "### Setup OpenAI Access"
      ],
      "metadata": {
        "id": "g-SGGJkAahhp"
      }
    },
    {
      "cell_type": "code",
      "source": [
        "import os\n",
        "os.environ[\"OPENAI_API_KEY\"] = '<your_key>'"
      ],
      "metadata": {
        "id": "EyCjUKDGaZ0y"
      },
      "execution_count": 3,
      "outputs": []
    },
    {
      "cell_type": "markdown",
      "source": [
        "### Download Data\n",
        "* We are going to use an Uber dataset"
      ],
      "metadata": {
        "id": "uXp8zDMeaqaR"
      }
    },
    {
      "cell_type": "code",
      "source": [
        "!mkdir -p data\n",
        "!wget 'https://raw.githubusercontent.com/jerryjliu/llama_index/main/docs/examples/data/10k/uber_2021.pdf' -O 'data/uber_2021.pdf'"
      ],
      "metadata": {
        "colab": {
          "base_uri": "https://localhost:8080/"
        },
        "id": "CVv71h6dapgZ",
        "outputId": "96ffd14d-3ab9-4a06-889b-23f18d4b485b"
      },
      "execution_count": 4,
      "outputs": [
        {
          "output_type": "stream",
          "name": "stdout",
          "text": [
            "--2024-03-21 19:11:02--  https://raw.githubusercontent.com/jerryjliu/llama_index/main/docs/examples/data/10k/uber_2021.pdf\n",
            "Resolving raw.githubusercontent.com (raw.githubusercontent.com)... 185.199.108.133, 185.199.109.133, 185.199.110.133, ...\n",
            "Connecting to raw.githubusercontent.com (raw.githubusercontent.com)|185.199.108.133|:443... connected.\n",
            "HTTP request sent, awaiting response... 200 OK\n",
            "Length: 1880483 (1.8M) [application/octet-stream]\n",
            "Saving to: ‘data/uber_2021.pdf’\n",
            "\n",
            "data/uber_2021.pdf  100%[===================>]   1.79M  9.16MB/s    in 0.2s    \n",
            "\n",
            "2024-03-21 19:11:02 (9.16 MB/s) - ‘data/uber_2021.pdf’ saved [1880483/1880483]\n",
            "\n"
          ]
        }
      ]
    },
    {
      "cell_type": "markdown",
      "source": [
        "### Load Data"
      ],
      "metadata": {
        "id": "EIpFFYHzbT6K"
      }
    },
    {
      "cell_type": "code",
      "source": [
        "from pathlib import Path\n",
        "from llama_index.core import download_loader\n",
        "\n",
        "# instantiate PDFReader\n",
        "PDFReader = download_loader(\"PDFReader\")\n",
        "loader = PDFReader()\n",
        "documents = loader.load_data(file=Path('./data/uber_2021.pdf'))"
      ],
      "metadata": {
        "colab": {
          "base_uri": "https://localhost:8080/"
        },
        "id": "eKHSZBNmbHx6",
        "outputId": "fc469c29-d623-4c1a-ec03-3de70175cd7a"
      },
      "execution_count": 5,
      "outputs": [
        {
          "output_type": "stream",
          "name": "stderr",
          "text": [
            "<ipython-input-5-15c2f8c611eb>:5: DeprecationWarning: Call to deprecated function (or staticmethod) download_loader. (`download_loader()` is deprecated. Please install tool using pip install directly instead.)\n",
            "  PDFReader = download_loader(\"PDFReader\")\n"
          ]
        }
      ]
    },
    {
      "cell_type": "markdown",
      "source": [
        "# 1. VectorStoreIndex\n",
        "* create a `VectorStoreIndex`"
      ],
      "metadata": {
        "id": "mzDbtKUqb6k5"
      }
    },
    {
      "cell_type": "code",
      "source": [
        "from llama_index.core import VectorStoreIndex"
      ],
      "metadata": {
        "id": "L7NSCXjlblJc"
      },
      "execution_count": 7,
      "outputs": []
    },
    {
      "cell_type": "code",
      "source": [
        "# construct an index by loading documents into a VectorStoreIndex\n",
        "index = VectorStoreIndex.from_documents(documents)"
      ],
      "metadata": {
        "id": "8qB6Bkw3cGXj"
      },
      "execution_count": 8,
      "outputs": []
    },
    {
      "cell_type": "markdown",
      "source": [
        "### Save index to local disk"
      ],
      "metadata": {
        "id": "_SkJ2pt-cQ-Z"
      }
    },
    {
      "cell_type": "code",
      "source": [
        "# create an index directory\n",
        "!mkdir index"
      ],
      "metadata": {
        "id": "oO4DSemecO35"
      },
      "execution_count": 9,
      "outputs": []
    },
    {
      "cell_type": "code",
      "source": [
        "# save within an index folder\n",
        "index.storage_context.persist(persist_dir=\"./index\")"
      ],
      "metadata": {
        "id": "VyFzDLa4cTxj"
      },
      "execution_count": 10,
      "outputs": []
    },
    {
      "cell_type": "code",
      "source": [
        "# import libraries from llamaindex\n",
        "from llama_index.core import StorageContext, load_index_from_storage"
      ],
      "metadata": {
        "id": "leo1tQ80ct8C"
      },
      "execution_count": 13,
      "outputs": []
    },
    {
      "cell_type": "code",
      "source": [
        "# rebuild storage context\n",
        "storage_context = StorageContext.from_defaults(persist_dir=\"./index\")"
      ],
      "metadata": {
        "id": "O1sIR9AychOB"
      },
      "execution_count": 14,
      "outputs": []
    },
    {
      "cell_type": "code",
      "source": [
        "# load the index\n",
        "index = load_index_from_storage(storage_context)"
      ],
      "metadata": {
        "id": "ZJV8dxXscrVF"
      },
      "execution_count": 15,
      "outputs": []
    },
    {
      "cell_type": "markdown",
      "source": [
        "# 2. Using ChromaDB with LlamaIndex"
      ],
      "metadata": {
        "id": "-X9cxEfSdMRV"
      }
    },
    {
      "cell_type": "code",
      "source": [
        "!pip install chromadb llama-index-vector-stores-chroma"
      ],
      "metadata": {
        "colab": {
          "base_uri": "https://localhost:8080/"
        },
        "id": "TDfTyr3bc8dD",
        "outputId": "2aca51ec-c9ea-4e79-bc2f-4d0e5ccede90"
      },
      "execution_count": 19,
      "outputs": [
        {
          "output_type": "stream",
          "name": "stdout",
          "text": [
            "Requirement already satisfied: chromadb in /usr/local/lib/python3.10/dist-packages (0.4.24)\n",
            "Collecting llama-index-vector-stores-chroma\n",
            "  Downloading llama_index_vector_stores_chroma-0.1.6-py3-none-any.whl (4.7 kB)\n",
            "Requirement already satisfied: build>=1.0.3 in /usr/local/lib/python3.10/dist-packages (from chromadb) (1.1.1)\n",
            "Requirement already satisfied: requests>=2.28 in /usr/local/lib/python3.10/dist-packages (from chromadb) (2.31.0)\n",
            "Requirement already satisfied: pydantic>=1.9 in /usr/local/lib/python3.10/dist-packages (from chromadb) (2.6.4)\n",
            "Requirement already satisfied: chroma-hnswlib==0.7.3 in /usr/local/lib/python3.10/dist-packages (from chromadb) (0.7.3)\n",
            "Requirement already satisfied: fastapi>=0.95.2 in /usr/local/lib/python3.10/dist-packages (from chromadb) (0.110.0)\n",
            "Requirement already satisfied: uvicorn[standard]>=0.18.3 in /usr/local/lib/python3.10/dist-packages (from chromadb) (0.29.0)\n",
            "Requirement already satisfied: numpy>=1.22.5 in /usr/local/lib/python3.10/dist-packages (from chromadb) (1.25.2)\n",
            "Requirement already satisfied: posthog>=2.4.0 in /usr/local/lib/python3.10/dist-packages (from chromadb) (3.5.0)\n",
            "Requirement already satisfied: typing-extensions>=4.5.0 in /usr/local/lib/python3.10/dist-packages (from chromadb) (4.10.0)\n",
            "Requirement already satisfied: pulsar-client>=3.1.0 in /usr/local/lib/python3.10/dist-packages (from chromadb) (3.4.0)\n",
            "Requirement already satisfied: onnxruntime>=1.14.1 in /usr/local/lib/python3.10/dist-packages (from chromadb) (1.17.1)\n",
            "Requirement already satisfied: opentelemetry-api>=1.2.0 in /usr/local/lib/python3.10/dist-packages (from chromadb) (1.23.0)\n",
            "Requirement already satisfied: opentelemetry-exporter-otlp-proto-grpc>=1.2.0 in /usr/local/lib/python3.10/dist-packages (from chromadb) (1.23.0)\n",
            "Requirement already satisfied: opentelemetry-instrumentation-fastapi>=0.41b0 in /usr/local/lib/python3.10/dist-packages (from chromadb) (0.44b0)\n",
            "Requirement already satisfied: opentelemetry-sdk>=1.2.0 in /usr/local/lib/python3.10/dist-packages (from chromadb) (1.23.0)\n",
            "Requirement already satisfied: tokenizers>=0.13.2 in /usr/local/lib/python3.10/dist-packages (from chromadb) (0.15.2)\n",
            "Requirement already satisfied: pypika>=0.48.9 in /usr/local/lib/python3.10/dist-packages (from chromadb) (0.48.9)\n",
            "Requirement already satisfied: tqdm>=4.65.0 in /usr/local/lib/python3.10/dist-packages (from chromadb) (4.66.2)\n",
            "Requirement already satisfied: overrides>=7.3.1 in /usr/local/lib/python3.10/dist-packages (from chromadb) (7.7.0)\n",
            "Requirement already satisfied: importlib-resources in /usr/local/lib/python3.10/dist-packages (from chromadb) (6.3.0)\n",
            "Requirement already satisfied: grpcio>=1.58.0 in /usr/local/lib/python3.10/dist-packages (from chromadb) (1.62.1)\n",
            "Requirement already satisfied: bcrypt>=4.0.1 in /usr/local/lib/python3.10/dist-packages (from chromadb) (4.1.2)\n",
            "Requirement already satisfied: typer>=0.9.0 in /usr/local/lib/python3.10/dist-packages (from chromadb) (0.9.0)\n",
            "Requirement already satisfied: kubernetes>=28.1.0 in /usr/local/lib/python3.10/dist-packages (from chromadb) (29.0.0)\n",
            "Requirement already satisfied: tenacity>=8.2.3 in /usr/local/lib/python3.10/dist-packages (from chromadb) (8.2.3)\n",
            "Requirement already satisfied: PyYAML>=6.0.0 in /usr/local/lib/python3.10/dist-packages (from chromadb) (6.0.1)\n",
            "Requirement already satisfied: mmh3>=4.0.1 in /usr/local/lib/python3.10/dist-packages (from chromadb) (4.1.0)\n",
            "Requirement already satisfied: orjson>=3.9.12 in /usr/local/lib/python3.10/dist-packages (from chromadb) (3.9.15)\n",
            "Requirement already satisfied: llama-index-core<0.11.0,>=0.10.1 in /usr/local/lib/python3.10/dist-packages (from llama-index-vector-stores-chroma) (0.10.21.post1)\n",
            "Requirement already satisfied: packaging>=19.0 in /usr/local/lib/python3.10/dist-packages (from build>=1.0.3->chromadb) (24.0)\n",
            "Requirement already satisfied: pyproject_hooks in /usr/local/lib/python3.10/dist-packages (from build>=1.0.3->chromadb) (1.0.0)\n",
            "Requirement already satisfied: tomli>=1.1.0 in /usr/local/lib/python3.10/dist-packages (from build>=1.0.3->chromadb) (2.0.1)\n",
            "Requirement already satisfied: starlette<0.37.0,>=0.36.3 in /usr/local/lib/python3.10/dist-packages (from fastapi>=0.95.2->chromadb) (0.36.3)\n",
            "Requirement already satisfied: certifi>=14.05.14 in /usr/local/lib/python3.10/dist-packages (from kubernetes>=28.1.0->chromadb) (2024.2.2)\n",
            "Requirement already satisfied: six>=1.9.0 in /usr/local/lib/python3.10/dist-packages (from kubernetes>=28.1.0->chromadb) (1.16.0)\n",
            "Requirement already satisfied: python-dateutil>=2.5.3 in /usr/local/lib/python3.10/dist-packages (from kubernetes>=28.1.0->chromadb) (2.8.2)\n",
            "Requirement already satisfied: google-auth>=1.0.1 in /usr/local/lib/python3.10/dist-packages (from kubernetes>=28.1.0->chromadb) (2.27.0)\n",
            "Requirement already satisfied: websocket-client!=0.40.0,!=0.41.*,!=0.42.*,>=0.32.0 in /usr/local/lib/python3.10/dist-packages (from kubernetes>=28.1.0->chromadb) (1.7.0)\n",
            "Requirement already satisfied: requests-oauthlib in /usr/local/lib/python3.10/dist-packages (from kubernetes>=28.1.0->chromadb) (1.4.0)\n",
            "Requirement already satisfied: oauthlib>=3.2.2 in /usr/local/lib/python3.10/dist-packages (from kubernetes>=28.1.0->chromadb) (3.2.2)\n",
            "Requirement already satisfied: urllib3>=1.24.2 in /usr/local/lib/python3.10/dist-packages (from kubernetes>=28.1.0->chromadb) (2.0.7)\n",
            "Requirement already satisfied: SQLAlchemy[asyncio]>=1.4.49 in /usr/local/lib/python3.10/dist-packages (from llama-index-core<0.11.0,>=0.10.1->llama-index-vector-stores-chroma) (2.0.28)\n",
            "Requirement already satisfied: aiohttp<4.0.0,>=3.8.6 in /usr/local/lib/python3.10/dist-packages (from llama-index-core<0.11.0,>=0.10.1->llama-index-vector-stores-chroma) (3.9.3)\n",
            "Requirement already satisfied: dataclasses-json in /usr/local/lib/python3.10/dist-packages (from llama-index-core<0.11.0,>=0.10.1->llama-index-vector-stores-chroma) (0.6.4)\n",
            "Requirement already satisfied: deprecated>=1.2.9.3 in /usr/local/lib/python3.10/dist-packages (from llama-index-core<0.11.0,>=0.10.1->llama-index-vector-stores-chroma) (1.2.14)\n",
            "Requirement already satisfied: dirtyjson<2.0.0,>=1.0.8 in /usr/local/lib/python3.10/dist-packages (from llama-index-core<0.11.0,>=0.10.1->llama-index-vector-stores-chroma) (1.0.8)\n",
            "Requirement already satisfied: fsspec>=2023.5.0 in /usr/local/lib/python3.10/dist-packages (from llama-index-core<0.11.0,>=0.10.1->llama-index-vector-stores-chroma) (2023.6.0)\n",
            "Requirement already satisfied: httpx in /usr/local/lib/python3.10/dist-packages (from llama-index-core<0.11.0,>=0.10.1->llama-index-vector-stores-chroma) (0.27.0)\n",
            "Requirement already satisfied: llamaindex-py-client<0.2.0,>=0.1.13 in /usr/local/lib/python3.10/dist-packages (from llama-index-core<0.11.0,>=0.10.1->llama-index-vector-stores-chroma) (0.1.13)\n",
            "Requirement already satisfied: nest-asyncio<2.0.0,>=1.5.8 in /usr/local/lib/python3.10/dist-packages (from llama-index-core<0.11.0,>=0.10.1->llama-index-vector-stores-chroma) (1.6.0)\n",
            "Requirement already satisfied: networkx>=3.0 in /usr/local/lib/python3.10/dist-packages (from llama-index-core<0.11.0,>=0.10.1->llama-index-vector-stores-chroma) (3.2.1)\n",
            "Requirement already satisfied: nltk<4.0.0,>=3.8.1 in /usr/local/lib/python3.10/dist-packages (from llama-index-core<0.11.0,>=0.10.1->llama-index-vector-stores-chroma) (3.8.1)\n",
            "Requirement already satisfied: openai>=1.1.0 in /usr/local/lib/python3.10/dist-packages (from llama-index-core<0.11.0,>=0.10.1->llama-index-vector-stores-chroma) (1.14.2)\n",
            "Requirement already satisfied: pandas in /usr/local/lib/python3.10/dist-packages (from llama-index-core<0.11.0,>=0.10.1->llama-index-vector-stores-chroma) (1.5.3)\n",
            "Requirement already satisfied: pillow>=9.0.0 in /usr/local/lib/python3.10/dist-packages (from llama-index-core<0.11.0,>=0.10.1->llama-index-vector-stores-chroma) (9.4.0)\n",
            "Requirement already satisfied: tiktoken>=0.3.3 in /usr/local/lib/python3.10/dist-packages (from llama-index-core<0.11.0,>=0.10.1->llama-index-vector-stores-chroma) (0.6.0)\n",
            "Requirement already satisfied: typing-inspect>=0.8.0 in /usr/local/lib/python3.10/dist-packages (from llama-index-core<0.11.0,>=0.10.1->llama-index-vector-stores-chroma) (0.9.0)\n",
            "Requirement already satisfied: coloredlogs in /usr/local/lib/python3.10/dist-packages (from onnxruntime>=1.14.1->chromadb) (15.0.1)\n",
            "Requirement already satisfied: flatbuffers in /usr/local/lib/python3.10/dist-packages (from onnxruntime>=1.14.1->chromadb) (24.3.7)\n",
            "Requirement already satisfied: protobuf in /usr/local/lib/python3.10/dist-packages (from onnxruntime>=1.14.1->chromadb) (3.20.3)\n",
            "Requirement already satisfied: sympy in /usr/local/lib/python3.10/dist-packages (from onnxruntime>=1.14.1->chromadb) (1.12)\n",
            "Requirement already satisfied: importlib-metadata<7.0,>=6.0 in /usr/local/lib/python3.10/dist-packages (from opentelemetry-api>=1.2.0->chromadb) (6.11.0)\n",
            "Requirement already satisfied: googleapis-common-protos~=1.52 in /usr/local/lib/python3.10/dist-packages (from opentelemetry-exporter-otlp-proto-grpc>=1.2.0->chromadb) (1.63.0)\n",
            "Requirement already satisfied: opentelemetry-exporter-otlp-proto-common==1.23.0 in /usr/local/lib/python3.10/dist-packages (from opentelemetry-exporter-otlp-proto-grpc>=1.2.0->chromadb) (1.23.0)\n",
            "Requirement already satisfied: opentelemetry-proto==1.23.0 in /usr/local/lib/python3.10/dist-packages (from opentelemetry-exporter-otlp-proto-grpc>=1.2.0->chromadb) (1.23.0)\n",
            "Requirement already satisfied: opentelemetry-instrumentation-asgi==0.44b0 in /usr/local/lib/python3.10/dist-packages (from opentelemetry-instrumentation-fastapi>=0.41b0->chromadb) (0.44b0)\n",
            "Requirement already satisfied: opentelemetry-instrumentation==0.44b0 in /usr/local/lib/python3.10/dist-packages (from opentelemetry-instrumentation-fastapi>=0.41b0->chromadb) (0.44b0)\n",
            "Requirement already satisfied: opentelemetry-semantic-conventions==0.44b0 in /usr/local/lib/python3.10/dist-packages (from opentelemetry-instrumentation-fastapi>=0.41b0->chromadb) (0.44b0)\n",
            "Requirement already satisfied: opentelemetry-util-http==0.44b0 in /usr/local/lib/python3.10/dist-packages (from opentelemetry-instrumentation-fastapi>=0.41b0->chromadb) (0.44b0)\n",
            "Requirement already satisfied: setuptools>=16.0 in /usr/local/lib/python3.10/dist-packages (from opentelemetry-instrumentation==0.44b0->opentelemetry-instrumentation-fastapi>=0.41b0->chromadb) (67.7.2)\n",
            "Requirement already satisfied: wrapt<2.0.0,>=1.0.0 in /usr/local/lib/python3.10/dist-packages (from opentelemetry-instrumentation==0.44b0->opentelemetry-instrumentation-fastapi>=0.41b0->chromadb) (1.14.1)\n",
            "Requirement already satisfied: asgiref~=3.0 in /usr/local/lib/python3.10/dist-packages (from opentelemetry-instrumentation-asgi==0.44b0->opentelemetry-instrumentation-fastapi>=0.41b0->chromadb) (3.8.0)\n",
            "Requirement already satisfied: monotonic>=1.5 in /usr/local/lib/python3.10/dist-packages (from posthog>=2.4.0->chromadb) (1.6)\n",
            "Requirement already satisfied: backoff>=1.10.0 in /usr/local/lib/python3.10/dist-packages (from posthog>=2.4.0->chromadb) (2.2.1)\n",
            "Requirement already satisfied: annotated-types>=0.4.0 in /usr/local/lib/python3.10/dist-packages (from pydantic>=1.9->chromadb) (0.6.0)\n",
            "Requirement already satisfied: pydantic-core==2.16.3 in /usr/local/lib/python3.10/dist-packages (from pydantic>=1.9->chromadb) (2.16.3)\n",
            "Requirement already satisfied: charset-normalizer<4,>=2 in /usr/local/lib/python3.10/dist-packages (from requests>=2.28->chromadb) (3.3.2)\n",
            "Requirement already satisfied: idna<4,>=2.5 in /usr/local/lib/python3.10/dist-packages (from requests>=2.28->chromadb) (3.6)\n",
            "Requirement already satisfied: huggingface_hub<1.0,>=0.16.4 in /usr/local/lib/python3.10/dist-packages (from tokenizers>=0.13.2->chromadb) (0.20.3)\n",
            "Requirement already satisfied: click<9.0.0,>=7.1.1 in /usr/local/lib/python3.10/dist-packages (from typer>=0.9.0->chromadb) (8.1.7)\n",
            "Requirement already satisfied: h11>=0.8 in /usr/local/lib/python3.10/dist-packages (from uvicorn[standard]>=0.18.3->chromadb) (0.14.0)\n",
            "Requirement already satisfied: httptools>=0.5.0 in /usr/local/lib/python3.10/dist-packages (from uvicorn[standard]>=0.18.3->chromadb) (0.6.1)\n",
            "Requirement already satisfied: python-dotenv>=0.13 in /usr/local/lib/python3.10/dist-packages (from uvicorn[standard]>=0.18.3->chromadb) (1.0.1)\n",
            "Requirement already satisfied: uvloop!=0.15.0,!=0.15.1,>=0.14.0 in /usr/local/lib/python3.10/dist-packages (from uvicorn[standard]>=0.18.3->chromadb) (0.19.0)\n",
            "Requirement already satisfied: watchfiles>=0.13 in /usr/local/lib/python3.10/dist-packages (from uvicorn[standard]>=0.18.3->chromadb) (0.21.0)\n",
            "Requirement already satisfied: websockets>=10.4 in /usr/local/lib/python3.10/dist-packages (from uvicorn[standard]>=0.18.3->chromadb) (12.0)\n",
            "Requirement already satisfied: aiosignal>=1.1.2 in /usr/local/lib/python3.10/dist-packages (from aiohttp<4.0.0,>=3.8.6->llama-index-core<0.11.0,>=0.10.1->llama-index-vector-stores-chroma) (1.3.1)\n",
            "Requirement already satisfied: attrs>=17.3.0 in /usr/local/lib/python3.10/dist-packages (from aiohttp<4.0.0,>=3.8.6->llama-index-core<0.11.0,>=0.10.1->llama-index-vector-stores-chroma) (23.2.0)\n",
            "Requirement already satisfied: frozenlist>=1.1.1 in /usr/local/lib/python3.10/dist-packages (from aiohttp<4.0.0,>=3.8.6->llama-index-core<0.11.0,>=0.10.1->llama-index-vector-stores-chroma) (1.4.1)\n",
            "Requirement already satisfied: multidict<7.0,>=4.5 in /usr/local/lib/python3.10/dist-packages (from aiohttp<4.0.0,>=3.8.6->llama-index-core<0.11.0,>=0.10.1->llama-index-vector-stores-chroma) (6.0.5)\n",
            "Requirement already satisfied: yarl<2.0,>=1.0 in /usr/local/lib/python3.10/dist-packages (from aiohttp<4.0.0,>=3.8.6->llama-index-core<0.11.0,>=0.10.1->llama-index-vector-stores-chroma) (1.9.4)\n",
            "Requirement already satisfied: async-timeout<5.0,>=4.0 in /usr/local/lib/python3.10/dist-packages (from aiohttp<4.0.0,>=3.8.6->llama-index-core<0.11.0,>=0.10.1->llama-index-vector-stores-chroma) (4.0.3)\n",
            "Requirement already satisfied: cachetools<6.0,>=2.0.0 in /usr/local/lib/python3.10/dist-packages (from google-auth>=1.0.1->kubernetes>=28.1.0->chromadb) (5.3.3)\n",
            "Requirement already satisfied: pyasn1-modules>=0.2.1 in /usr/local/lib/python3.10/dist-packages (from google-auth>=1.0.1->kubernetes>=28.1.0->chromadb) (0.3.0)\n",
            "Requirement already satisfied: rsa<5,>=3.1.4 in /usr/local/lib/python3.10/dist-packages (from google-auth>=1.0.1->kubernetes>=28.1.0->chromadb) (4.9)\n",
            "Requirement already satisfied: filelock in /usr/local/lib/python3.10/dist-packages (from huggingface_hub<1.0,>=0.16.4->tokenizers>=0.13.2->chromadb) (3.13.1)\n",
            "Requirement already satisfied: zipp>=0.5 in /usr/local/lib/python3.10/dist-packages (from importlib-metadata<7.0,>=6.0->opentelemetry-api>=1.2.0->chromadb) (3.18.1)\n",
            "Requirement already satisfied: anyio in /usr/local/lib/python3.10/dist-packages (from httpx->llama-index-core<0.11.0,>=0.10.1->llama-index-vector-stores-chroma) (3.7.1)\n",
            "Requirement already satisfied: httpcore==1.* in /usr/local/lib/python3.10/dist-packages (from httpx->llama-index-core<0.11.0,>=0.10.1->llama-index-vector-stores-chroma) (1.0.4)\n",
            "Requirement already satisfied: sniffio in /usr/local/lib/python3.10/dist-packages (from httpx->llama-index-core<0.11.0,>=0.10.1->llama-index-vector-stores-chroma) (1.3.1)\n",
            "Requirement already satisfied: joblib in /usr/local/lib/python3.10/dist-packages (from nltk<4.0.0,>=3.8.1->llama-index-core<0.11.0,>=0.10.1->llama-index-vector-stores-chroma) (1.3.2)\n",
            "Requirement already satisfied: regex>=2021.8.3 in /usr/local/lib/python3.10/dist-packages (from nltk<4.0.0,>=3.8.1->llama-index-core<0.11.0,>=0.10.1->llama-index-vector-stores-chroma) (2023.12.25)\n",
            "Requirement already satisfied: distro<2,>=1.7.0 in /usr/lib/python3/dist-packages (from openai>=1.1.0->llama-index-core<0.11.0,>=0.10.1->llama-index-vector-stores-chroma) (1.7.0)\n",
            "Requirement already satisfied: greenlet!=0.4.17 in /usr/local/lib/python3.10/dist-packages (from SQLAlchemy[asyncio]>=1.4.49->llama-index-core<0.11.0,>=0.10.1->llama-index-vector-stores-chroma) (3.0.3)\n",
            "Requirement already satisfied: mypy-extensions>=0.3.0 in /usr/local/lib/python3.10/dist-packages (from typing-inspect>=0.8.0->llama-index-core<0.11.0,>=0.10.1->llama-index-vector-stores-chroma) (1.0.0)\n",
            "Requirement already satisfied: humanfriendly>=9.1 in /usr/local/lib/python3.10/dist-packages (from coloredlogs->onnxruntime>=1.14.1->chromadb) (10.0)\n",
            "Requirement already satisfied: marshmallow<4.0.0,>=3.18.0 in /usr/local/lib/python3.10/dist-packages (from dataclasses-json->llama-index-core<0.11.0,>=0.10.1->llama-index-vector-stores-chroma) (3.21.1)\n",
            "Requirement already satisfied: pytz>=2020.1 in /usr/local/lib/python3.10/dist-packages (from pandas->llama-index-core<0.11.0,>=0.10.1->llama-index-vector-stores-chroma) (2023.4)\n",
            "Requirement already satisfied: mpmath>=0.19 in /usr/local/lib/python3.10/dist-packages (from sympy->onnxruntime>=1.14.1->chromadb) (1.3.0)\n",
            "Requirement already satisfied: exceptiongroup in /usr/local/lib/python3.10/dist-packages (from anyio->httpx->llama-index-core<0.11.0,>=0.10.1->llama-index-vector-stores-chroma) (1.2.0)\n",
            "Requirement already satisfied: pyasn1<0.6.0,>=0.4.6 in /usr/local/lib/python3.10/dist-packages (from pyasn1-modules>=0.2.1->google-auth>=1.0.1->kubernetes>=28.1.0->chromadb) (0.5.1)\n",
            "Installing collected packages: llama-index-vector-stores-chroma\n",
            "Successfully installed llama-index-vector-stores-chroma-0.1.6\n"
          ]
        }
      ]
    },
    {
      "cell_type": "code",
      "source": [
        "# import libraries\n",
        "import chromadb\n",
        "from llama_index.core import VectorStoreIndex, SimpleDirectoryReader\n",
        "from llama_index.vector_stores.chroma import ChromaVectorStore\n",
        "from llama_index.core import StorageContext"
      ],
      "metadata": {
        "id": "8WwWezI7dQpX"
      },
      "execution_count": 21,
      "outputs": []
    },
    {
      "cell_type": "code",
      "source": [
        "# load documents\n",
        "documents = SimpleDirectoryReader(\"./data\").load_data()"
      ],
      "metadata": {
        "id": "fY7egtvDdkG2"
      },
      "execution_count": 22,
      "outputs": []
    },
    {
      "cell_type": "code",
      "source": [
        "# initialize client, setting path to save data\n",
        "db = chromadb.PersistentClient(path=\"./chroma_db\")"
      ],
      "metadata": {
        "id": "CbKEVVmAeV3I"
      },
      "execution_count": 23,
      "outputs": []
    },
    {
      "cell_type": "code",
      "source": [
        "# create a collection\n",
        "chroma_collection = db.get_or_create_collection(\"quickstart\")"
      ],
      "metadata": {
        "id": "PMXIqLynegDo"
      },
      "execution_count": 24,
      "outputs": []
    },
    {
      "cell_type": "code",
      "source": [
        "# assign chroma as the vector_store to the context\n",
        "vector_store = ChromaVectorStore(chroma_collection=chroma_collection)\n",
        "storage_context = StorageContext.from_defaults(vector_store=vector_store)"
      ],
      "metadata": {
        "id": "ifpWUOcjek-G"
      },
      "execution_count": 26,
      "outputs": []
    },
    {
      "cell_type": "code",
      "source": [
        "# create an index\n",
        "index = VectorStoreIndex.from_documents(\n",
        "    documents, storage_context=storage_context\n",
        ")"
      ],
      "metadata": {
        "id": "ugTUpVloenwu"
      },
      "execution_count": 27,
      "outputs": []
    },
    {
      "cell_type": "markdown",
      "source": [
        "#### Result of the above code is a chromaDB vector store:\n",
        "![image.png](data:image/png;base64,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)"
      ],
      "metadata": {
        "id": "TnwDamm1fTrY"
      }
    },
    {
      "cell_type": "markdown",
      "source": [
        "# 3. Using Pinecone Vector Database with LlamaIndex"
      ],
      "metadata": {
        "id": "pvgCcpUefn_Q"
      }
    },
    {
      "cell_type": "code",
      "source": [
        "!pip install pinecone-client llama-index-vector-stores-pinecone"
      ],
      "metadata": {
        "colab": {
          "base_uri": "https://localhost:8080/"
        },
        "id": "EW0AJaOfe8b7",
        "outputId": "b2ac2d8b-d7d3-48ce-e936-38c16797a2db"
      },
      "execution_count": 48,
      "outputs": [
        {
          "output_type": "stream",
          "name": "stdout",
          "text": [
            "Requirement already satisfied: pinecone-client in /usr/local/lib/python3.10/dist-packages (3.1.0)\n",
            "Collecting llama-index-vector-stores-pinecone\n",
            "  Downloading llama_index_vector_stores_pinecone-0.1.4-py3-none-any.whl (6.3 kB)\n",
            "Requirement already satisfied: certifi>=2019.11.17 in /usr/local/lib/python3.10/dist-packages (from pinecone-client) (2024.2.2)\n",
            "Requirement already satisfied: tqdm>=4.64.1 in /usr/local/lib/python3.10/dist-packages (from pinecone-client) (4.66.2)\n",
            "Requirement already satisfied: typing-extensions>=3.7.4 in /usr/local/lib/python3.10/dist-packages (from pinecone-client) (4.10.0)\n",
            "Requirement already satisfied: urllib3>=1.26.0 in /usr/local/lib/python3.10/dist-packages (from pinecone-client) (2.0.7)\n",
            "Requirement already satisfied: llama-index-core<0.11.0,>=0.10.11.post1 in /usr/local/lib/python3.10/dist-packages (from llama-index-vector-stores-pinecone) (0.10.21.post1)\n",
            "Requirement already satisfied: PyYAML>=6.0.1 in /usr/local/lib/python3.10/dist-packages (from llama-index-core<0.11.0,>=0.10.11.post1->llama-index-vector-stores-pinecone) (6.0.1)\n",
            "Requirement already satisfied: SQLAlchemy[asyncio]>=1.4.49 in /usr/local/lib/python3.10/dist-packages (from llama-index-core<0.11.0,>=0.10.11.post1->llama-index-vector-stores-pinecone) (2.0.28)\n",
            "Requirement already satisfied: aiohttp<4.0.0,>=3.8.6 in /usr/local/lib/python3.10/dist-packages (from llama-index-core<0.11.0,>=0.10.11.post1->llama-index-vector-stores-pinecone) (3.9.3)\n",
            "Requirement already satisfied: dataclasses-json in /usr/local/lib/python3.10/dist-packages (from llama-index-core<0.11.0,>=0.10.11.post1->llama-index-vector-stores-pinecone) (0.6.4)\n",
            "Requirement already satisfied: deprecated>=1.2.9.3 in /usr/local/lib/python3.10/dist-packages (from llama-index-core<0.11.0,>=0.10.11.post1->llama-index-vector-stores-pinecone) (1.2.14)\n",
            "Requirement already satisfied: dirtyjson<2.0.0,>=1.0.8 in /usr/local/lib/python3.10/dist-packages (from llama-index-core<0.11.0,>=0.10.11.post1->llama-index-vector-stores-pinecone) (1.0.8)\n",
            "Requirement already satisfied: fsspec>=2023.5.0 in /usr/local/lib/python3.10/dist-packages (from llama-index-core<0.11.0,>=0.10.11.post1->llama-index-vector-stores-pinecone) (2023.6.0)\n",
            "Requirement already satisfied: httpx in /usr/local/lib/python3.10/dist-packages (from llama-index-core<0.11.0,>=0.10.11.post1->llama-index-vector-stores-pinecone) (0.27.0)\n",
            "Requirement already satisfied: llamaindex-py-client<0.2.0,>=0.1.13 in /usr/local/lib/python3.10/dist-packages (from llama-index-core<0.11.0,>=0.10.11.post1->llama-index-vector-stores-pinecone) (0.1.13)\n",
            "Requirement already satisfied: nest-asyncio<2.0.0,>=1.5.8 in /usr/local/lib/python3.10/dist-packages (from llama-index-core<0.11.0,>=0.10.11.post1->llama-index-vector-stores-pinecone) (1.6.0)\n",
            "Requirement already satisfied: networkx>=3.0 in /usr/local/lib/python3.10/dist-packages (from llama-index-core<0.11.0,>=0.10.11.post1->llama-index-vector-stores-pinecone) (3.2.1)\n",
            "Requirement already satisfied: nltk<4.0.0,>=3.8.1 in /usr/local/lib/python3.10/dist-packages (from llama-index-core<0.11.0,>=0.10.11.post1->llama-index-vector-stores-pinecone) (3.8.1)\n",
            "Requirement already satisfied: numpy in /usr/local/lib/python3.10/dist-packages (from llama-index-core<0.11.0,>=0.10.11.post1->llama-index-vector-stores-pinecone) (1.25.2)\n",
            "Requirement already satisfied: openai>=1.1.0 in /usr/local/lib/python3.10/dist-packages (from llama-index-core<0.11.0,>=0.10.11.post1->llama-index-vector-stores-pinecone) (1.14.2)\n",
            "Requirement already satisfied: pandas in /usr/local/lib/python3.10/dist-packages (from llama-index-core<0.11.0,>=0.10.11.post1->llama-index-vector-stores-pinecone) (1.5.3)\n",
            "Requirement already satisfied: pillow>=9.0.0 in /usr/local/lib/python3.10/dist-packages (from llama-index-core<0.11.0,>=0.10.11.post1->llama-index-vector-stores-pinecone) (9.4.0)\n",
            "Requirement already satisfied: requests>=2.31.0 in /usr/local/lib/python3.10/dist-packages (from llama-index-core<0.11.0,>=0.10.11.post1->llama-index-vector-stores-pinecone) (2.31.0)\n",
            "Requirement already satisfied: tenacity<9.0.0,>=8.2.0 in /usr/local/lib/python3.10/dist-packages (from llama-index-core<0.11.0,>=0.10.11.post1->llama-index-vector-stores-pinecone) (8.2.3)\n",
            "Requirement already satisfied: tiktoken>=0.3.3 in /usr/local/lib/python3.10/dist-packages (from llama-index-core<0.11.0,>=0.10.11.post1->llama-index-vector-stores-pinecone) (0.6.0)\n",
            "Requirement already satisfied: typing-inspect>=0.8.0 in /usr/local/lib/python3.10/dist-packages (from llama-index-core<0.11.0,>=0.10.11.post1->llama-index-vector-stores-pinecone) (0.9.0)\n",
            "Requirement already satisfied: aiosignal>=1.1.2 in /usr/local/lib/python3.10/dist-packages (from aiohttp<4.0.0,>=3.8.6->llama-index-core<0.11.0,>=0.10.11.post1->llama-index-vector-stores-pinecone) (1.3.1)\n",
            "Requirement already satisfied: attrs>=17.3.0 in /usr/local/lib/python3.10/dist-packages (from aiohttp<4.0.0,>=3.8.6->llama-index-core<0.11.0,>=0.10.11.post1->llama-index-vector-stores-pinecone) (23.2.0)\n",
            "Requirement already satisfied: frozenlist>=1.1.1 in /usr/local/lib/python3.10/dist-packages (from aiohttp<4.0.0,>=3.8.6->llama-index-core<0.11.0,>=0.10.11.post1->llama-index-vector-stores-pinecone) (1.4.1)\n",
            "Requirement already satisfied: multidict<7.0,>=4.5 in /usr/local/lib/python3.10/dist-packages (from aiohttp<4.0.0,>=3.8.6->llama-index-core<0.11.0,>=0.10.11.post1->llama-index-vector-stores-pinecone) (6.0.5)\n",
            "Requirement already satisfied: yarl<2.0,>=1.0 in /usr/local/lib/python3.10/dist-packages (from aiohttp<4.0.0,>=3.8.6->llama-index-core<0.11.0,>=0.10.11.post1->llama-index-vector-stores-pinecone) (1.9.4)\n",
            "Requirement already satisfied: async-timeout<5.0,>=4.0 in /usr/local/lib/python3.10/dist-packages (from aiohttp<4.0.0,>=3.8.6->llama-index-core<0.11.0,>=0.10.11.post1->llama-index-vector-stores-pinecone) (4.0.3)\n",
            "Requirement already satisfied: wrapt<2,>=1.10 in /usr/local/lib/python3.10/dist-packages (from deprecated>=1.2.9.3->llama-index-core<0.11.0,>=0.10.11.post1->llama-index-vector-stores-pinecone) (1.14.1)\n",
            "Requirement already satisfied: pydantic>=1.10 in /usr/local/lib/python3.10/dist-packages (from llamaindex-py-client<0.2.0,>=0.1.13->llama-index-core<0.11.0,>=0.10.11.post1->llama-index-vector-stores-pinecone) (2.6.4)\n",
            "Requirement already satisfied: anyio in /usr/local/lib/python3.10/dist-packages (from httpx->llama-index-core<0.11.0,>=0.10.11.post1->llama-index-vector-stores-pinecone) (3.7.1)\n",
            "Requirement already satisfied: httpcore==1.* in /usr/local/lib/python3.10/dist-packages (from httpx->llama-index-core<0.11.0,>=0.10.11.post1->llama-index-vector-stores-pinecone) (1.0.4)\n",
            "Requirement already satisfied: idna in /usr/local/lib/python3.10/dist-packages (from httpx->llama-index-core<0.11.0,>=0.10.11.post1->llama-index-vector-stores-pinecone) (3.6)\n",
            "Requirement already satisfied: sniffio in /usr/local/lib/python3.10/dist-packages (from httpx->llama-index-core<0.11.0,>=0.10.11.post1->llama-index-vector-stores-pinecone) (1.3.1)\n",
            "Requirement already satisfied: h11<0.15,>=0.13 in /usr/local/lib/python3.10/dist-packages (from httpcore==1.*->httpx->llama-index-core<0.11.0,>=0.10.11.post1->llama-index-vector-stores-pinecone) (0.14.0)\n",
            "Requirement already satisfied: click in /usr/local/lib/python3.10/dist-packages (from nltk<4.0.0,>=3.8.1->llama-index-core<0.11.0,>=0.10.11.post1->llama-index-vector-stores-pinecone) (8.1.7)\n",
            "Requirement already satisfied: joblib in /usr/local/lib/python3.10/dist-packages (from nltk<4.0.0,>=3.8.1->llama-index-core<0.11.0,>=0.10.11.post1->llama-index-vector-stores-pinecone) (1.3.2)\n",
            "Requirement already satisfied: regex>=2021.8.3 in /usr/local/lib/python3.10/dist-packages (from nltk<4.0.0,>=3.8.1->llama-index-core<0.11.0,>=0.10.11.post1->llama-index-vector-stores-pinecone) (2023.12.25)\n",
            "Requirement already satisfied: distro<2,>=1.7.0 in /usr/lib/python3/dist-packages (from openai>=1.1.0->llama-index-core<0.11.0,>=0.10.11.post1->llama-index-vector-stores-pinecone) (1.7.0)\n",
            "Requirement already satisfied: charset-normalizer<4,>=2 in /usr/local/lib/python3.10/dist-packages (from requests>=2.31.0->llama-index-core<0.11.0,>=0.10.11.post1->llama-index-vector-stores-pinecone) (3.3.2)\n",
            "Requirement already satisfied: greenlet!=0.4.17 in /usr/local/lib/python3.10/dist-packages (from SQLAlchemy[asyncio]>=1.4.49->llama-index-core<0.11.0,>=0.10.11.post1->llama-index-vector-stores-pinecone) (3.0.3)\n",
            "Requirement already satisfied: mypy-extensions>=0.3.0 in /usr/local/lib/python3.10/dist-packages (from typing-inspect>=0.8.0->llama-index-core<0.11.0,>=0.10.11.post1->llama-index-vector-stores-pinecone) (1.0.0)\n",
            "Requirement already satisfied: marshmallow<4.0.0,>=3.18.0 in /usr/local/lib/python3.10/dist-packages (from dataclasses-json->llama-index-core<0.11.0,>=0.10.11.post1->llama-index-vector-stores-pinecone) (3.21.1)\n",
            "Requirement already satisfied: python-dateutil>=2.8.1 in /usr/local/lib/python3.10/dist-packages (from pandas->llama-index-core<0.11.0,>=0.10.11.post1->llama-index-vector-stores-pinecone) (2.8.2)\n",
            "Requirement already satisfied: pytz>=2020.1 in /usr/local/lib/python3.10/dist-packages (from pandas->llama-index-core<0.11.0,>=0.10.11.post1->llama-index-vector-stores-pinecone) (2023.4)\n",
            "Requirement already satisfied: exceptiongroup in /usr/local/lib/python3.10/dist-packages (from anyio->httpx->llama-index-core<0.11.0,>=0.10.11.post1->llama-index-vector-stores-pinecone) (1.2.0)\n",
            "Requirement already satisfied: packaging>=17.0 in /usr/local/lib/python3.10/dist-packages (from marshmallow<4.0.0,>=3.18.0->dataclasses-json->llama-index-core<0.11.0,>=0.10.11.post1->llama-index-vector-stores-pinecone) (24.0)\n",
            "Requirement already satisfied: annotated-types>=0.4.0 in /usr/local/lib/python3.10/dist-packages (from pydantic>=1.10->llamaindex-py-client<0.2.0,>=0.1.13->llama-index-core<0.11.0,>=0.10.11.post1->llama-index-vector-stores-pinecone) (0.6.0)\n",
            "Requirement already satisfied: pydantic-core==2.16.3 in /usr/local/lib/python3.10/dist-packages (from pydantic>=1.10->llamaindex-py-client<0.2.0,>=0.1.13->llama-index-core<0.11.0,>=0.10.11.post1->llama-index-vector-stores-pinecone) (2.16.3)\n",
            "Requirement already satisfied: six>=1.5 in /usr/local/lib/python3.10/dist-packages (from python-dateutil>=2.8.1->pandas->llama-index-core<0.11.0,>=0.10.11.post1->llama-index-vector-stores-pinecone) (1.16.0)\n",
            "Installing collected packages: llama-index-vector-stores-pinecone\n",
            "Successfully installed llama-index-vector-stores-pinecone-0.1.4\n"
          ]
        }
      ]
    },
    {
      "cell_type": "code",
      "source": [
        "# import pinecone\n",
        "from pinecone import Pinecone\n",
        "import os"
      ],
      "metadata": {
        "id": "moBem6Ubftkj"
      },
      "execution_count": 37,
      "outputs": []
    },
    {
      "cell_type": "code",
      "source": [
        "# initalize client connection to Pinecone\n",
        "pc = Pinecone(api_key=\"<your_api_key\", environment='us-east1-gcp')"
      ],
      "metadata": {
        "id": "fCVPF8dYfyyQ"
      },
      "execution_count": 41,
      "outputs": []
    },
    {
      "cell_type": "code",
      "source": [
        "# create serverless index for text-embedding-ada-002\n",
        "pc.create_index(\n",
        "    name=\"quickstart\",\n",
        "    dimension=1536,\n",
        "    metric=\"euclidean\",\n",
        "    spec=ServerlessSpec(cloud=\"aws\", region=\"us-west-2\"),\n",
        ")"
      ],
      "metadata": {
        "id": "3HESjXcEgFd7"
      },
      "execution_count": 44,
      "outputs": []
    },
    {
      "cell_type": "code",
      "source": [
        "# create pinecone index\n",
        "pinecone_index = pinecone.Index(\"quickstart\", host=\"localhost\")"
      ],
      "metadata": {
        "id": "VCZ3wm0Zhtwx"
      },
      "execution_count": 46,
      "outputs": []
    },
    {
      "cell_type": "code",
      "source": [
        "# load some documents\n",
        "documents = SimpleDirectoryReader(\"./data\").load_data()"
      ],
      "metadata": {
        "id": "tHZ85Ic4i7iL"
      },
      "execution_count": 47,
      "outputs": []
    },
    {
      "cell_type": "code",
      "source": [
        "# import llamaindex pineconevectorstore\n",
        "from llama_index.vector_stores.pinecone import PineconeVectorStore\n",
        "\n",
        "#instatiate vector store\n",
        "vector_store = PineconeVectorStore(pinecone_index=pinecone_index)"
      ],
      "metadata": {
        "id": "ywSVY6cMjKAc"
      },
      "execution_count": 50,
      "outputs": []
    },
    {
      "cell_type": "code",
      "source": [
        "# create storage_context\n",
        "storage_context = StorageContext.from_defaults(vector_store=vector_store)"
      ],
      "metadata": {
        "id": "etCmGDRhjxhG"
      },
      "execution_count": 51,
      "outputs": []
    },
    {
      "cell_type": "code",
      "source": [
        "# create index\n",
        "index = VectorStoreIndex.from_documents(\n",
        "    documents, storage_context=storage_context\n",
        ")"
      ],
      "metadata": {
        "id": "X003yP5dkLq8"
      },
      "execution_count": null,
      "outputs": []
    },
    {
      "cell_type": "markdown",
      "source": [
        "That's it, the code should create a vector index in your pinecone vector database."
      ],
      "metadata": {
        "id": "OchXdMpkkoaY"
      }
    },
    {
      "cell_type": "code",
      "source": [],
      "metadata": {
        "id": "5xZ6fa8Lkrwr"
      },
      "execution_count": null,
      "outputs": []
    }
  ]
}