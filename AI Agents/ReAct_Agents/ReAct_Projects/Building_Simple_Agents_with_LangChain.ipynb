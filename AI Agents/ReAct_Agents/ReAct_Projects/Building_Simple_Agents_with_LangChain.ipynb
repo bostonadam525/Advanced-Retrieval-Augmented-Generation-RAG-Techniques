{
  "nbformat": 4,
  "nbformat_minor": 0,
  "metadata": {
    "colab": {
      "provenance": []
    },
    "kernelspec": {
      "name": "python3",
      "display_name": "Python 3"
    },
    "language_info": {
      "name": "python"
    }
  },
  "cells": [
    {
      "cell_type": "markdown",
      "source": [
        "# Building Simple Agents with LangChain\n",
        "* Notebook by Adam Lang\n",
        "* Date: 11/16/2024\n",
        "\n",
        "# Overview\n",
        "* We will go over how to build simple agents in LangChain.\n",
        "* We will first show the core concept of this using the LCEL expression language and then work up to how to use the build in LangChain Functions that allow simple chaining of functions together.\n",
        "\n",
        "\n",
        "# LangChain - Simple Chains\n",
        "* 3 basic components:\n",
        "1. Model - abstractions over the LLMs apis\n",
        "2. Prompt Template - abstraction over the prompt sent to the model\n",
        "3. Output parser - abstraction to translate raw output from the model to workable format"
      ],
      "metadata": {
        "id": "_m1u2QIjM2MS"
      }
    },
    {
      "cell_type": "code",
      "execution_count": 1,
      "metadata": {
        "colab": {
          "base_uri": "https://localhost:8080/"
        },
        "id": "jhDkCNuSMrYW",
        "outputId": "a968246a-dd5d-40ed-ea80-28009cc92de2"
      },
      "outputs": [
        {
          "output_type": "stream",
          "name": "stdout",
          "text": [
            "Requirement already satisfied: langchain in /usr/local/lib/python3.10/dist-packages (0.3.7)\n",
            "Collecting langchain-openai\n",
            "  Downloading langchain_openai-0.2.8-py3-none-any.whl.metadata (2.6 kB)\n",
            "Requirement already satisfied: langchain-core in /usr/local/lib/python3.10/dist-packages (0.3.17)\n",
            "Collecting langchain-core\n",
            "  Downloading langchain_core-0.3.19-py3-none-any.whl.metadata (6.3 kB)\n",
            "Requirement already satisfied: PyYAML>=5.3 in /usr/local/lib/python3.10/dist-packages (from langchain) (6.0.2)\n",
            "Requirement already satisfied: SQLAlchemy<3,>=1.4 in /usr/local/lib/python3.10/dist-packages (from langchain) (2.0.36)\n",
            "Requirement already satisfied: aiohttp<4.0.0,>=3.8.3 in /usr/local/lib/python3.10/dist-packages (from langchain) (3.10.10)\n",
            "Requirement already satisfied: async-timeout<5.0.0,>=4.0.0 in /usr/local/lib/python3.10/dist-packages (from langchain) (4.0.3)\n",
            "Requirement already satisfied: langchain-text-splitters<0.4.0,>=0.3.0 in /usr/local/lib/python3.10/dist-packages (from langchain) (0.3.2)\n",
            "Requirement already satisfied: langsmith<0.2.0,>=0.1.17 in /usr/local/lib/python3.10/dist-packages (from langchain) (0.1.142)\n",
            "Requirement already satisfied: numpy<2,>=1 in /usr/local/lib/python3.10/dist-packages (from langchain) (1.26.4)\n",
            "Requirement already satisfied: pydantic<3.0.0,>=2.7.4 in /usr/local/lib/python3.10/dist-packages (from langchain) (2.9.2)\n",
            "Requirement already satisfied: requests<3,>=2 in /usr/local/lib/python3.10/dist-packages (from langchain) (2.32.3)\n",
            "Requirement already satisfied: tenacity!=8.4.0,<10,>=8.1.0 in /usr/local/lib/python3.10/dist-packages (from langchain) (9.0.0)\n",
            "Requirement already satisfied: openai<2.0.0,>=1.54.0 in /usr/local/lib/python3.10/dist-packages (from langchain-openai) (1.54.4)\n",
            "Collecting tiktoken<1,>=0.7 (from langchain-openai)\n",
            "  Downloading tiktoken-0.8.0-cp310-cp310-manylinux_2_17_x86_64.manylinux2014_x86_64.whl.metadata (6.6 kB)\n",
            "Requirement already satisfied: jsonpatch<2.0,>=1.33 in /usr/local/lib/python3.10/dist-packages (from langchain-core) (1.33)\n",
            "Requirement already satisfied: packaging<25,>=23.2 in /usr/local/lib/python3.10/dist-packages (from langchain-core) (24.2)\n",
            "Requirement already satisfied: typing-extensions>=4.7 in /usr/local/lib/python3.10/dist-packages (from langchain-core) (4.12.2)\n",
            "Requirement already satisfied: aiohappyeyeballs>=2.3.0 in /usr/local/lib/python3.10/dist-packages (from aiohttp<4.0.0,>=3.8.3->langchain) (2.4.3)\n",
            "Requirement already satisfied: aiosignal>=1.1.2 in /usr/local/lib/python3.10/dist-packages (from aiohttp<4.0.0,>=3.8.3->langchain) (1.3.1)\n",
            "Requirement already satisfied: attrs>=17.3.0 in /usr/local/lib/python3.10/dist-packages (from aiohttp<4.0.0,>=3.8.3->langchain) (24.2.0)\n",
            "Requirement already satisfied: frozenlist>=1.1.1 in /usr/local/lib/python3.10/dist-packages (from aiohttp<4.0.0,>=3.8.3->langchain) (1.5.0)\n",
            "Requirement already satisfied: multidict<7.0,>=4.5 in /usr/local/lib/python3.10/dist-packages (from aiohttp<4.0.0,>=3.8.3->langchain) (6.1.0)\n",
            "Requirement already satisfied: yarl<2.0,>=1.12.0 in /usr/local/lib/python3.10/dist-packages (from aiohttp<4.0.0,>=3.8.3->langchain) (1.17.1)\n",
            "Requirement already satisfied: jsonpointer>=1.9 in /usr/local/lib/python3.10/dist-packages (from jsonpatch<2.0,>=1.33->langchain-core) (3.0.0)\n",
            "Requirement already satisfied: httpx<1,>=0.23.0 in /usr/local/lib/python3.10/dist-packages (from langsmith<0.2.0,>=0.1.17->langchain) (0.27.2)\n",
            "Requirement already satisfied: orjson<4.0.0,>=3.9.14 in /usr/local/lib/python3.10/dist-packages (from langsmith<0.2.0,>=0.1.17->langchain) (3.10.11)\n",
            "Requirement already satisfied: requests-toolbelt<2.0.0,>=1.0.0 in /usr/local/lib/python3.10/dist-packages (from langsmith<0.2.0,>=0.1.17->langchain) (1.0.0)\n",
            "Requirement already satisfied: anyio<5,>=3.5.0 in /usr/local/lib/python3.10/dist-packages (from openai<2.0.0,>=1.54.0->langchain-openai) (3.7.1)\n",
            "Requirement already satisfied: distro<2,>=1.7.0 in /usr/local/lib/python3.10/dist-packages (from openai<2.0.0,>=1.54.0->langchain-openai) (1.9.0)\n",
            "Requirement already satisfied: jiter<1,>=0.4.0 in /usr/local/lib/python3.10/dist-packages (from openai<2.0.0,>=1.54.0->langchain-openai) (0.7.1)\n",
            "Requirement already satisfied: sniffio in /usr/local/lib/python3.10/dist-packages (from openai<2.0.0,>=1.54.0->langchain-openai) (1.3.1)\n",
            "Requirement already satisfied: tqdm>4 in /usr/local/lib/python3.10/dist-packages (from openai<2.0.0,>=1.54.0->langchain-openai) (4.66.6)\n",
            "Requirement already satisfied: annotated-types>=0.6.0 in /usr/local/lib/python3.10/dist-packages (from pydantic<3.0.0,>=2.7.4->langchain) (0.7.0)\n",
            "Requirement already satisfied: pydantic-core==2.23.4 in /usr/local/lib/python3.10/dist-packages (from pydantic<3.0.0,>=2.7.4->langchain) (2.23.4)\n",
            "Requirement already satisfied: charset-normalizer<4,>=2 in /usr/local/lib/python3.10/dist-packages (from requests<3,>=2->langchain) (3.4.0)\n",
            "Requirement already satisfied: idna<4,>=2.5 in /usr/local/lib/python3.10/dist-packages (from requests<3,>=2->langchain) (3.10)\n",
            "Requirement already satisfied: urllib3<3,>=1.21.1 in /usr/local/lib/python3.10/dist-packages (from requests<3,>=2->langchain) (2.2.3)\n",
            "Requirement already satisfied: certifi>=2017.4.17 in /usr/local/lib/python3.10/dist-packages (from requests<3,>=2->langchain) (2024.8.30)\n",
            "Requirement already satisfied: greenlet!=0.4.17 in /usr/local/lib/python3.10/dist-packages (from SQLAlchemy<3,>=1.4->langchain) (3.1.1)\n",
            "Requirement already satisfied: regex>=2022.1.18 in /usr/local/lib/python3.10/dist-packages (from tiktoken<1,>=0.7->langchain-openai) (2024.9.11)\n",
            "Requirement already satisfied: exceptiongroup in /usr/local/lib/python3.10/dist-packages (from anyio<5,>=3.5.0->openai<2.0.0,>=1.54.0->langchain-openai) (1.2.2)\n",
            "Requirement already satisfied: httpcore==1.* in /usr/local/lib/python3.10/dist-packages (from httpx<1,>=0.23.0->langsmith<0.2.0,>=0.1.17->langchain) (1.0.6)\n",
            "Requirement already satisfied: h11<0.15,>=0.13 in /usr/local/lib/python3.10/dist-packages (from httpcore==1.*->httpx<1,>=0.23.0->langsmith<0.2.0,>=0.1.17->langchain) (0.14.0)\n",
            "Requirement already satisfied: propcache>=0.2.0 in /usr/local/lib/python3.10/dist-packages (from yarl<2.0,>=1.12.0->aiohttp<4.0.0,>=3.8.3->langchain) (0.2.0)\n",
            "Downloading langchain_openai-0.2.8-py3-none-any.whl (50 kB)\n",
            "\u001b[2K   \u001b[90m━━━━━━━━━━━━━━━━━━━━━━━━━━━━━━━━━━━━━━━━\u001b[0m \u001b[32m50.4/50.4 kB\u001b[0m \u001b[31m2.1 MB/s\u001b[0m eta \u001b[36m0:00:00\u001b[0m\n",
            "\u001b[?25hDownloading langchain_core-0.3.19-py3-none-any.whl (409 kB)\n",
            "\u001b[2K   \u001b[90m━━━━━━━━━━━━━━━━━━━━━━━━━━━━━━━━━━━━━━━━\u001b[0m \u001b[32m409.3/409.3 kB\u001b[0m \u001b[31m9.0 MB/s\u001b[0m eta \u001b[36m0:00:00\u001b[0m\n",
            "\u001b[?25hDownloading tiktoken-0.8.0-cp310-cp310-manylinux_2_17_x86_64.manylinux2014_x86_64.whl (1.2 MB)\n",
            "\u001b[2K   \u001b[90m━━━━━━━━━━━━━━━━━━━━━━━━━━━━━━━━━━━━━━━━\u001b[0m \u001b[32m1.2/1.2 MB\u001b[0m \u001b[31m21.1 MB/s\u001b[0m eta \u001b[36m0:00:00\u001b[0m\n",
            "\u001b[?25hInstalling collected packages: tiktoken, langchain-core, langchain-openai\n",
            "  Attempting uninstall: langchain-core\n",
            "    Found existing installation: langchain-core 0.3.17\n",
            "    Uninstalling langchain-core-0.3.17:\n",
            "      Successfully uninstalled langchain-core-0.3.17\n",
            "Successfully installed langchain-core-0.3.19 langchain-openai-0.2.8 tiktoken-0.8.0\n"
          ]
        }
      ],
      "source": [
        "!pip install -U langchain langchain-openai langchain-core"
      ]
    },
    {
      "cell_type": "markdown",
      "source": [
        "# Setup environment\n"
      ],
      "metadata": {
        "id": "yfwyDc83NV2f"
      }
    },
    {
      "cell_type": "code",
      "source": [
        "from getpass import getpass\n",
        "\n",
        "OPENAI_API_KEY = getpass('Enter your Open AI API key: ')"
      ],
      "metadata": {
        "colab": {
          "base_uri": "https://localhost:8080/"
        },
        "id": "tC3kn134NemA",
        "outputId": "05762b3a-2446-45ce-96dc-e91cdc66bc9c"
      },
      "execution_count": 2,
      "outputs": [
        {
          "name": "stdout",
          "output_type": "stream",
          "text": [
            "Enter your Open AI API key: ··········\n"
          ]
        }
      ]
    },
    {
      "cell_type": "code",
      "source": [
        "import os\n",
        "\n",
        "os.environ['OPENAI_API_KEY'] = OPENAI_API_KEY"
      ],
      "metadata": {
        "id": "0_GgUZNpNOrb"
      },
      "execution_count": 3,
      "outputs": []
    },
    {
      "cell_type": "code",
      "source": [
        "# import chat open ai\n",
        "from langchain_openai import ChatOpenAI"
      ],
      "metadata": {
        "id": "lg51T8YeNZ4J"
      },
      "execution_count": 4,
      "outputs": []
    },
    {
      "cell_type": "code",
      "source": [
        "# set up llm conneection\n",
        "llm = ChatOpenAI(model='gpt-4o-mini') #low latency good for demos\n",
        "\n",
        "# invoke output from llm\n",
        "output = llm.invoke(\"What are some basic components of LangChain? Answer with 3 basic bullet points.\")\n",
        "output"
      ],
      "metadata": {
        "colab": {
          "base_uri": "https://localhost:8080/"
        },
        "id": "u3usBMgaOCkw",
        "outputId": "9c505cc7-b909-438e-cf69-eca1931d7bf5"
      },
      "execution_count": 5,
      "outputs": [
        {
          "output_type": "execute_result",
          "data": {
            "text/plain": [
              "AIMessage(content='Here are three basic components of LangChain:\\n\\n1. **Chains**: These are sequences of operations that combine multiple components, allowing for complex workflows to be built by linking together various tasks, such as data retrieval, processing, and output generation.\\n\\n2. **Agents**: Agents are designed to make decisions and take actions based on user input or environmental context. They utilize tools and can call APIs to dynamically respond to queries or tasks.\\n\\n3. **Memory**: This component allows chains and agents to retain information across interactions, enabling them to build context and provide more personalized and coherent responses over time.', additional_kwargs={'refusal': None}, response_metadata={'token_usage': {'completion_tokens': 120, 'prompt_tokens': 24, 'total_tokens': 144, 'completion_tokens_details': {'accepted_prediction_tokens': 0, 'audio_tokens': 0, 'reasoning_tokens': 0, 'rejected_prediction_tokens': 0}, 'prompt_tokens_details': {'audio_tokens': 0, 'cached_tokens': 0}}, 'model_name': 'gpt-4o-mini-2024-07-18', 'system_fingerprint': 'fp_0ba0d124f1', 'finish_reason': 'stop', 'logprobs': None}, id='run-5f911e7a-d514-4b9c-90b9-c9437a678a1b-0', usage_metadata={'input_tokens': 24, 'output_tokens': 120, 'total_tokens': 144, 'input_token_details': {'audio': 0, 'cache_read': 0}, 'output_token_details': {'audio': 0, 'reasoning': 0}})"
            ]
          },
          "metadata": {},
          "execution_count": 5
        }
      ]
    },
    {
      "cell_type": "code",
      "source": [
        "# prompt template component\n",
        "from langchain_core.prompts import ChatPromptTemplate\n",
        "\n",
        "prompt = ChatPromptTemplate.from_template(\"Give me 5 examples of: {thing_to_give_examples_of}\")\n",
        "\n",
        "# format prompt\n",
        "prompt.format(thing_to_give_examples_of=\"What are the 3 basic components of LangChain?\")"
      ],
      "metadata": {
        "colab": {
          "base_uri": "https://localhost:8080/",
          "height": 35
        },
        "id": "ieCkF_0yOkMb",
        "outputId": "9184ca93-a67a-44ee-8292-add724ecd209"
      },
      "execution_count": 6,
      "outputs": [
        {
          "output_type": "execute_result",
          "data": {
            "text/plain": [
              "'Human: Give me 5 examples of: What are the 3 basic components of LangChain?'"
            ],
            "application/vnd.google.colaboratory.intrinsic+json": {
              "type": "string"
            }
          },
          "metadata": {},
          "execution_count": 6
        }
      ]
    },
    {
      "cell_type": "code",
      "source": [
        "# setup a basic chain using LCEL syntax\n",
        "basic_chain = (prompt\n",
        "                |\n",
        "                llm)\n",
        "\n",
        ""
      ],
      "metadata": {
        "id": "iApm_BWYPDRK"
      },
      "execution_count": 7,
      "outputs": []
    },
    {
      "cell_type": "code",
      "source": [
        "# invoke basic chain\n",
        "basic_chain.invoke({\"thing_to_give_examples_of\": \"3 basic components of LangChain\"})\n"
      ],
      "metadata": {
        "colab": {
          "base_uri": "https://localhost:8080/"
        },
        "id": "EnKNLtprPU50",
        "outputId": "001ba888-446f-4504-82ab-52f5ed05c115"
      },
      "execution_count": 8,
      "outputs": [
        {
          "output_type": "execute_result",
          "data": {
            "text/plain": [
              "AIMessage(content='LangChain is a framework designed to facilitate the development of applications that utilize language models. Here are five examples of the three basic components of LangChain:\\n\\n1. **Language Model**:\\n   - **Example**: OpenAI\\'s GPT-3 or GPT-4 can be integrated as the language model component to perform tasks such as text generation, summarization, or dialogue generation.\\n\\n2. **Prompt**:\\n   - **Example**: A well-structured prompt like \"Write a brief summary of the latest advancements in AI from the past year\" can be used to guide the language model in producing specific outputs.\\n\\n3. **Chain**:\\n   - **Example**: A chain that combines multiple prompts and models, such as first using a language model to generate a list of topics and then using another model to elaborate on each topic, thereby creating a more complex application.\\n\\nThese components work together to create powerful applications that leverage the capabilities of language models.', additional_kwargs={'refusal': None}, response_metadata={'token_usage': {'completion_tokens': 191, 'prompt_tokens': 21, 'total_tokens': 212, 'completion_tokens_details': {'accepted_prediction_tokens': 0, 'audio_tokens': 0, 'reasoning_tokens': 0, 'rejected_prediction_tokens': 0}, 'prompt_tokens_details': {'audio_tokens': 0, 'cached_tokens': 0}}, 'model_name': 'gpt-4o-mini-2024-07-18', 'system_fingerprint': 'fp_0ba0d124f1', 'finish_reason': 'stop', 'logprobs': None}, id='run-2b470784-10e5-42bc-a404-09274ad6d2d4-0', usage_metadata={'input_tokens': 21, 'output_tokens': 191, 'total_tokens': 212, 'input_token_details': {'audio': 0, 'cache_read': 0}, 'output_token_details': {'audio': 0, 'reasoning': 0}})"
            ]
          },
          "metadata": {},
          "execution_count": 8
        }
      ]
    },
    {
      "cell_type": "markdown",
      "source": [
        "# Combine with output parser --> Complete Chain!\n",
        "* Lets use a simple StrOutputParser\n",
        "\n",
        "\n"
      ],
      "metadata": {
        "id": "lUfHBtSPPqoh"
      }
    },
    {
      "cell_type": "code",
      "source": [
        "from langchain_core.output_parsers import StrOutputParser"
      ],
      "metadata": {
        "id": "oyBkdI-wPnWg"
      },
      "execution_count": 9,
      "outputs": []
    },
    {
      "cell_type": "code",
      "source": [
        "# setup output parser\n",
        "output_parser = StrOutputParser()\n",
        "\n",
        "# complete chain\n",
        "complete_chain = (prompt\n",
        "                    |\n",
        "                  llm\n",
        "                    |\n",
        "                  output_parser)\n",
        "\n",
        "# call complete chain\n",
        "complete_chain.invoke({\"thing_to_give_examples_of\": \"What are the 3 fastest animals on land?\"})\n",
        "\n"
      ],
      "metadata": {
        "colab": {
          "base_uri": "https://localhost:8080/",
          "height": 156
        },
        "id": "wwvC0vGbP1LS",
        "outputId": "7f5c69a5-4163-4f6e-adee-ef5e9f0a29e5"
      },
      "execution_count": 10,
      "outputs": [
        {
          "output_type": "execute_result",
          "data": {
            "text/plain": [
              "'The three fastest land animals are:\\n\\n1. **Cheetah** - The fastest land animal, capable of reaching speeds up to 60-70 miles per hour (97-113 km/h) in short bursts covering distances up to 1,500 feet (460 meters).\\n\\n2. **Pronghorn Antelope** - The second fastest, it can run at speeds of 55 miles per hour (89 km/h) and maintain high speeds longer than the cheetah.\\n\\n3. **Springbok** - This antelope can reach speeds of up to 55 miles per hour (89 km/h) and is known for its incredible leaping ability.\\n\\nThese animals are specifically adapted for speed, making them exceptional hunters and escapees in their natural habitats.'"
            ],
            "application/vnd.google.colaboratory.intrinsic+json": {
              "type": "string"
            }
          },
          "metadata": {},
          "execution_count": 10
        }
      ]
    },
    {
      "cell_type": "markdown",
      "source": [
        "# LangChain - All the things you can do with Chains\n",
        "* Chains are the building blocks of agents hence why we are going to drill into some details here."
      ],
      "metadata": {
        "id": "GsYmCbnVdu96"
      }
    },
    {
      "cell_type": "code",
      "source": [
        "from langchain_openai import ChatOpenAI\n",
        "from langchain_core.prompts import ChatPromptTemplate #prompt template\n",
        "from langchain_core.output_parsers import StrOutputParser #string parser\n",
        "from IPython.display import Markdown #display in markdown\n"
      ],
      "metadata": {
        "id": "nuddd0cjQa-p"
      },
      "execution_count": 11,
      "outputs": []
    },
    {
      "cell_type": "markdown",
      "source": [
        "Setup an LLM model"
      ],
      "metadata": {
        "id": "3Zq7x5NJeL3S"
      }
    },
    {
      "cell_type": "code",
      "source": [
        "## llm model\n",
        "llm = ChatOpenAI(model='gpt-4o-mini')\n",
        "\n",
        "# prompt with messages --> list of tuples\n",
        "prompt = ChatPromptTemplate.from_messages([\n",
        "    ('system', 'You are a skilled research assistant'),\n",
        "    ('user', '{input}') #input dict\n",
        "\n",
        "])\n",
        "\n",
        "# setup output parser --> string\n",
        "output_parser = StrOutputParser()\n",
        "\n",
        "# basic llm chain\n",
        "basic_chain = (prompt\n",
        "                  |\n",
        "                 llm\n",
        "                  |\n",
        "               output_parser)\n",
        "\n",
        "#test chain -- invoke LLM\n",
        "output = basic_chain.invoke(\"Explain the difference between subword and BPE tokenization. Summarize in 3 bullet points for a non-tech audience.\")\n",
        "\n",
        "#markdown output\n",
        "Markdown(output)\n"
      ],
      "metadata": {
        "colab": {
          "base_uri": "https://localhost:8080/",
          "height": 232
        },
        "id": "7CWeSYYYeLOQ",
        "outputId": "a6415742-48af-40be-b780-37152a61ce3c"
      },
      "execution_count": 12,
      "outputs": [
        {
          "output_type": "execute_result",
          "data": {
            "text/plain": [
              "<IPython.core.display.Markdown object>"
            ],
            "text/markdown": "- **Subword Tokenization**: This method breaks down words into smaller units, or \"subwords,\" allowing for flexibility in handling different word forms and rare words. For example, \"unhappiness\" might be split into \"un,\" \"happi,\" and \"ness.\"\n\n- **Byte Pair Encoding (BPE)**: BPE is a specific algorithm for subword tokenization that starts with individual characters and repeatedly merges the most frequent pairs of symbols (letters or subwords) until a desired vocabulary size is reached. This helps create a balanced set of tokens that can represent common and uncommon words efficiently.\n\n- **Flexibility and Efficiency**: Both methods improve the ability of language models to understand and generate text by reducing the number of unique tokens needed, but BPE is a systematic approach that relies on frequency analysis to optimize the token set, making it particularly effective for handling diverse languages and writing styles."
          },
          "metadata": {},
          "execution_count": 12
        }
      ]
    },
    {
      "cell_type": "markdown",
      "source": [
        "# Challenge: Write a draft of a research report using chains in LangChain\n"
      ],
      "metadata": {
        "id": "kJq2FCsYywBH"
      }
    },
    {
      "cell_type": "code",
      "source": [
        "## set up system message\n",
        "WRITER_SYS_MSG = \"\"\"\n",
        "You are a skilled research assistant and a scientific writier.\n",
        "You take in requests about topics and write organized research reports on those topics.\n",
        "\n",
        "\"\"\"\n",
        "\n",
        "# 1. Setup prompt template\n",
        "# note: you can use \"human\" or \"user\" for the input\n",
        "prompt = ChatPromptTemplate.from_messages([\n",
        "    ('system', WRITER_SYS_MSG),\n",
        "    ('human', 'Write an organized research report about this topic:\\n\\n{topic}.') #only have to feed topic\n",
        "])\n",
        "\n",
        "## 2. init llm - set temperature to 0 --> deterministic (precise)\n",
        "llm = ChatOpenAI(model='gpt-4o-mini', temperature=0)\n",
        "\n",
        "# 3. setup output parser\n",
        "output_parser = StrOutputParser()\n",
        "\n",
        "# 4. Setup chain\n",
        "writer_chain = (prompt\n",
        "                  |\n",
        "                llm\n",
        "                  |\n",
        "                output_parser)"
      ],
      "metadata": {
        "id": "G7xLECNSfi0j"
      },
      "execution_count": 13,
      "outputs": []
    },
    {
      "cell_type": "code",
      "source": [
        "## invoke output from llm via chain\n",
        "output = writer_chain.invoke({'topic': 'How to transformers work for non AI researchers?'})\n",
        "\n",
        "# markdown output\n",
        "Markdown(output)"
      ],
      "metadata": {
        "colab": {
          "base_uri": "https://localhost:8080/",
          "height": 1000
        },
        "id": "u1NmEuUG0C33",
        "outputId": "08f5b2ce-c552-4713-b6d5-91e800dcca68"
      },
      "execution_count": 14,
      "outputs": [
        {
          "output_type": "execute_result",
          "data": {
            "text/plain": [
              "<IPython.core.display.Markdown object>"
            ],
            "text/markdown": "# Understanding Transformers: A Guide for Non-AI Researchers\n\n## Introduction\nTransformers are a type of neural network architecture that has revolutionized the field of artificial intelligence (AI), particularly in natural language processing (NLP) and computer vision. Introduced in the paper \"Attention is All You Need\" by Vaswani et al. in 2017, transformers have become the backbone of many state-of-the-art models, including BERT, GPT, and T5. This report aims to explain how transformers work in a simplified manner, making it accessible for non-AI researchers.\n\n## 1. The Basics of Neural Networks\nBefore diving into transformers, it is essential to understand the basic concept of neural networks. Neural networks are computational models inspired by the human brain, consisting of interconnected nodes (neurons) organized in layers. They learn to perform tasks by adjusting the connections (weights) between these neurons based on the data they process.\n\n### 1.1 Layers in Neural Networks\n- **Input Layer**: Receives the initial data.\n- **Hidden Layers**: Perform computations and extract features from the data.\n- **Output Layer**: Produces the final result or prediction.\n\n## 2. The Need for Transformers\nTraditional neural networks, particularly recurrent neural networks (RNNs) and long short-term memory networks (LSTMs), were commonly used for sequential data like text. However, they faced limitations in handling long-range dependencies and parallel processing. Transformers were developed to address these issues.\n\n## 3. Key Components of Transformers\nTransformers consist of several key components that enable them to process data efficiently:\n\n### 3.1 Attention Mechanism\nThe attention mechanism allows the model to focus on different parts of the input data when making predictions. Instead of processing data sequentially, transformers can look at all parts of the input simultaneously. This is crucial for understanding context in language.\n\n- **Self-Attention**: This allows the model to weigh the importance of different words in a sentence relative to each other. For example, in the sentence \"The cat sat on the mat,\" the model can learn that \"cat\" and \"sat\" are closely related.\n\n### 3.2 Multi-Head Attention\nTransformers use multiple attention mechanisms (heads) in parallel, allowing the model to capture different types of relationships in the data. Each head processes the input independently and then combines the results, enhancing the model's understanding.\n\n### 3.3 Positional Encoding\nSince transformers do not process data sequentially, they need a way to understand the order of words in a sentence. Positional encoding adds information about the position of each word, enabling the model to maintain the sequence's structure.\n\n### 3.4 Feed-Forward Neural Networks\nAfter the attention mechanism, the output is passed through a feed-forward neural network, which applies additional transformations to the data. This step helps in refining the features extracted by the attention mechanism.\n\n### 3.5 Layer Normalization and Residual Connections\nTo stabilize training and improve performance, transformers use layer normalization and residual connections. Residual connections allow the model to retain information from previous layers, while layer normalization helps in maintaining consistent data distribution.\n\n## 4. The Transformer Architecture\nThe transformer architecture consists of an encoder and a decoder:\n\n### 4.1 Encoder\nThe encoder processes the input data and generates a set of representations. It consists of multiple layers, each containing multi-head attention and feed-forward neural networks.\n\n### 4.2 Decoder\nThe decoder takes the encoder's output and generates the final predictions. It also uses multi-head attention but includes an additional layer to attend to the encoder's output, allowing it to incorporate context from the input data.\n\n## 5. Applications of Transformers\nTransformers have been successfully applied in various domains, including:\n\n- **Natural Language Processing**: Tasks such as translation, summarization, and sentiment analysis.\n- **Computer Vision**: Image classification and object detection.\n- **Speech Recognition**: Converting spoken language into text.\n\n## Conclusion\nTransformers represent a significant advancement in AI, enabling models to process data more efficiently and effectively. By leveraging the attention mechanism, positional encoding, and a well-structured architecture, transformers have set new standards in various applications. Understanding these concepts provides a foundation for appreciating the capabilities and impact of transformers in the field of artificial intelligence.\n\n## References\n- Vaswani, A., Shard, N., Parmar, N., Uszkoreit, J., Jones, L., Gomez, A. N., Kaiser, Ł., & Polosukhin, I. (2017). Attention is All You Need. In Advances in Neural Information Processing Systems (NeurIPS).\n- Brown, T. B., Mann, B., Ryder, N., Subbiah, M., Kaplan, J., Dhariwal, P., ... & Amodei, D. (2020). Language Models are Few-Shot Learners. In Advances in Neural Information Processing Systems (NeurIPS)."
          },
          "metadata": {},
          "execution_count": 14
        }
      ]
    },
    {
      "cell_type": "markdown",
      "source": [
        "## Let's Add a \"Reviewer\" Chain\n",
        "* Note: Start thinking about agents, this could be part of an \"agent\" but for now we are creating multiple chains to demonstrate how this works behind the scenes."
      ],
      "metadata": {
        "id": "kxNiMpGA1Fem"
      }
    },
    {
      "cell_type": "code",
      "source": [
        "## setup REVIEWER system msg\n",
        "REVIEWER_SYS_MSG = \"\"\"\n",
        "You are a reviewer for research reports.\n",
        "You take in research reports and provide feedback on them.\n",
        "\n",
        "\"\"\"\n",
        "\n",
        "# 1. prompt template\n",
        "prompt_reviewer = ChatPromptTemplate.from_messages([\n",
        "    ('system', REVIEWER_SYS_MSG),\n",
        "    ('human', 'Provide feedback on this research report:\\n\\n{report}. As 5 concise bullet points.')\n",
        "])\n",
        "\n",
        "# 2. Setup llm reviwer model --> more probabilistic\n",
        "llm_reviewer = ChatOpenAI(model='gpt-4o-mini', temperature=0.2)\n",
        "\n",
        "# 3. Setup chain\n",
        "review_chain = (prompt_reviewer\n",
        "                  |\n",
        "                llm_reviewer\n",
        "                  |\n",
        "                output_parser)\n",
        "\n",
        "# 4. invoke review feedback chain -- input is from previous chain\n",
        "## note: the \"report\" is the output\n",
        "feedback_output = review_chain.invoke({'report': output})\n",
        "\n",
        "\n",
        "# 5. Visualize feedback chain\n",
        "Markdown(feedback_output)\n",
        "\n"
      ],
      "metadata": {
        "colab": {
          "base_uri": "https://localhost:8080/",
          "height": 366
        },
        "id": "p65kTAvL0VvV",
        "outputId": "51a239ed-2568-4a4a-ea14-4ba818e317e0"
      },
      "execution_count": 15,
      "outputs": [
        {
          "output_type": "execute_result",
          "data": {
            "text/plain": [
              "<IPython.core.display.Markdown object>"
            ],
            "text/markdown": "### Feedback on \"Understanding Transformers: A Guide for Non-AI Researchers\"\n\n1. **Clarity and Accessibility**: The report successfully simplifies complex concepts related to transformers, making it accessible for non-AI researchers. However, consider including more analogies or real-world examples to further enhance understanding, especially for readers unfamiliar with technical jargon.\n\n2. **Depth of Explanation**: While the key components of transformers are well-explained, some sections could benefit from additional detail. For instance, the explanation of self-attention could include a visual representation or a simple example to illustrate how it operates in practice.\n\n3. **Structure and Flow**: The report is logically structured, progressing from basic neural networks to the specifics of transformer architecture. However, a brief summary or transition sentence at the end of each section could help reinforce key points and improve the overall flow.\n\n4. **Applications Section**: The applications of transformers are briefly mentioned but could be expanded. Providing specific examples of models or systems that utilize transformers in each domain (e.g., BERT for NLP tasks) would strengthen this section and demonstrate the real-world impact of the technology.\n\n5. **References and Citations**: The references are relevant and foundational, but consider including more recent studies or reviews that discuss advancements in transformer models since 2020. This would provide a more comprehensive view of the current landscape in AI research related to transformers."
          },
          "metadata": {},
          "execution_count": 15
        }
      ]
    },
    {
      "cell_type": "markdown",
      "source": [
        "## Final Writer Chain"
      ],
      "metadata": {
        "id": "RKuZ7OaH6kUb"
      }
    },
    {
      "cell_type": "code",
      "source": [
        "## final writer chain\n",
        "FINAL_WRITER_SYS_MSG = \"\"\"\n",
        "You take in a research report and a set of bullet points with feedback to improve and you\n",
        "revise the research report based on the feedback and write a final version.\n",
        "\n",
        "\"\"\"\n",
        "\n",
        "\n",
        "# 1. prompt template\n",
        "prompt_final_writer = ChatPromptTemplate.from_messages(\n",
        "    [\n",
        "        ('system', FINAL_WRITER_SYS_MSG),\n",
        "        ('human', 'Write a reviewed and improved version of this research report:\\n\\n{feedback}')\n",
        "    ]\n",
        ")\n",
        "\n",
        "# 2. Create llm instance\n",
        "llm_final_writer = ChatOpenAI(model='gpt-4o-mini', temperature=0.2)\n",
        "\n",
        "# 3. create chain\n",
        "chain_final_writer = (prompt_final_writer\n",
        "                        |\n",
        "                      llm\n",
        "                        |\n",
        "                      output_parser)\n",
        "\n",
        "\n",
        "# 4. Invoke llm --> final report\n",
        "output_final_report = chain_final_writer.invoke({'report': output, 'feedback': feedback_output})\n",
        "\n",
        "# 5. Visualize final output\n",
        "Markdown(output_final_report)"
      ],
      "metadata": {
        "colab": {
          "base_uri": "https://localhost:8080/",
          "height": 1000
        },
        "id": "5XLnZiO62rpo",
        "outputId": "0f6bd4a7-2b4f-4e7c-d613-ce534f0116a9"
      },
      "execution_count": 16,
      "outputs": [
        {
          "output_type": "execute_result",
          "data": {
            "text/plain": [
              "<IPython.core.display.Markdown object>"
            ],
            "text/markdown": "# Understanding Transformers: A Guide for Non-AI Researchers\n\n## Introduction\n\nIn recent years, transformers have revolutionized the field of artificial intelligence (AI), particularly in natural language processing (NLP) and computer vision. This report aims to demystify transformers for non-AI researchers by breaking down their architecture, functionality, and applications in an accessible manner. \n\n## 1. The Evolution of Neural Networks\n\nTo understand transformers, it is essential to first grasp the basics of neural networks. Neural networks are computational models inspired by the human brain, consisting of interconnected nodes (neurons) that process information. Traditional neural networks, such as feedforward networks and recurrent neural networks (RNNs), have limitations in handling long-range dependencies in data. \n\n**Key Point**: Neural networks serve as the foundation for more advanced architectures, including transformers.\n\n## 2. Introduction to Transformers\n\nTransformers were introduced in the paper \"Attention is All You Need\" by Vaswani et al. in 2017. They utilize a mechanism called self-attention, which allows the model to weigh the importance of different words in a sentence, regardless of their position. This capability enables transformers to capture context more effectively than previous models.\n\n**Key Point**: Transformers leverage self-attention to process data in parallel, improving efficiency and performance.\n\n## 3. Key Components of Transformers\n\n### 3.1 Self-Attention Mechanism\n\nThe self-attention mechanism is at the heart of transformer architecture. It allows the model to evaluate the relevance of each word in a sentence relative to others. For example, in the sentence \"The cat sat on the mat,\" the model can determine that \"cat\" is more relevant to \"sat\" than \"mat.\" \n\n**Visual Representation**: [Insert a diagram illustrating the self-attention mechanism, showing how words interact with one another.]\n\n**Example**: Consider the phrase \"The bank can refuse to lend money.\" The self-attention mechanism helps the model understand that \"bank\" in this context refers to a financial institution rather than the side of a river.\n\n### 3.2 Encoder-Decoder Architecture\n\nTransformers consist of an encoder and a decoder. The encoder processes the input data and generates a representation, while the decoder uses this representation to produce the output. This structure is particularly effective for tasks such as translation, where the input and output are in different languages.\n\n**Key Point**: The encoder-decoder architecture allows transformers to handle complex tasks by breaking them down into manageable components.\n\n## 4. Applications of Transformers\n\nTransformers have found applications across various domains, demonstrating their versatility and impact:\n\n- **Natural Language Processing (NLP)**: Models like BERT (Bidirectional Encoder Representations from Transformers) and GPT (Generative Pre-trained Transformer) have set new benchmarks in tasks such as sentiment analysis, text generation, and question answering.\n\n- **Computer Vision**: Vision Transformers (ViTs) have emerged as powerful models for image classification and object detection, showcasing the adaptability of transformer architecture beyond text.\n\n- **Healthcare**: Transformers are being used to analyze medical records and predict patient outcomes, improving decision-making in clinical settings.\n\n**Key Point**: The real-world applications of transformers highlight their transformative potential across various fields.\n\n## 5. Recent Advancements in Transformer Models\n\nSince their introduction, transformer models have evolved significantly. Recent studies have explored enhancements such as:\n\n- **Efficient Transformers**: Techniques like sparse attention and low-rank approximations aim to reduce the computational burden of transformers, making them more accessible for real-time applications.\n\n- **Multimodal Transformers**: These models integrate data from multiple sources (e.g., text, images, and audio) to improve understanding and generate richer outputs.\n\n**Key Point**: Staying updated with recent advancements is crucial for understanding the current landscape of AI research related to transformers.\n\n## Conclusion\n\nTransformers represent a significant leap in AI technology, offering powerful tools for processing and understanding complex data. By simplifying their architecture and functionality, this report aims to provide non-AI researchers with a foundational understanding of transformers and their applications. As the field continues to evolve, ongoing research and development will further enhance the capabilities of these models, paving the way for innovative solutions across various domains.\n\n## References\n\n1. Vaswani, A., et al. (2017). Attention is All You Need. *Advances in Neural Information Processing Systems*.\n2. Devlin, J., et al. (2018). BERT: Pre-training of Deep Bidirectional Transformers for Language Understanding. *arXiv preprint arXiv:1810.04805*.\n3. Dosovitskiy, A., et al. (2020). An Image is Worth 16x16 Words: Transformers for Image Recognition at Scale. *arXiv preprint arXiv:2010.11929*.\n4. Choromanska, A., et al. (2020). On the Energy and Generalization of Neural Networks. *arXiv preprint arXiv:1706.05336*.\n\nBy incorporating these revisions, the report now offers clearer explanations, enhanced examples, and a more comprehensive overview of the transformer landscape, making it more accessible and informative for non-AI researchers."
          },
          "metadata": {},
          "execution_count": 16
        }
      ]
    },
    {
      "cell_type": "markdown",
      "source": [
        "Summary\n",
        "* We were able to use multiple chains in LangChain to create a research agent to write and review a research paper.\n"
      ],
      "metadata": {
        "id": "BRoBLYLF8rXU"
      }
    },
    {
      "cell_type": "markdown",
      "source": [
        "# LCEL and Runnables\n",
        "* LCEL is \"langchain expression language\".\n",
        "  * Leverages the `|` symbol to chain together various components to send to the LLM and invoke an output.\n",
        "\n",
        "* Below we will do the following:\n",
        "1. How do we put these 3 chains together as one unit?\n",
        "\n",
        "2. What is a chain under the hood?\n",
        "\n",
        "3. Runnables in LangChain"
      ],
      "metadata": {
        "id": "04AHkZU681UO"
      }
    },
    {
      "cell_type": "code",
      "source": [
        "## imports\n",
        "from langchain_openai import ChatOpenAI #llm\n",
        "from langchain_core.prompts import ChatPromptTemplate #prompt template\n",
        "from langchain_core.output_parsers import StrOutputParser #output parser\n",
        "from IPython.display import Markdown"
      ],
      "metadata": {
        "id": "l_FHO0Rf8ljU"
      },
      "execution_count": 17,
      "outputs": []
    },
    {
      "cell_type": "code",
      "source": [],
      "metadata": {
        "id": "gNd-jqLpGl2r"
      },
      "execution_count": null,
      "outputs": []
    },
    {
      "cell_type": "markdown",
      "source": [
        "Writer Chain Below"
      ],
      "metadata": {
        "id": "_Bef_NpuG7w6"
      }
    },
    {
      "cell_type": "code",
      "source": [
        "## set up system message\n",
        "WRITER_SYS_MSG = \"\"\"\n",
        "You are a skilled research assistant and a scientific writier.\n",
        "You take in requests about topics and write organized research reports on those topics.\n",
        "\n",
        "\"\"\"\n",
        "\n",
        "# 1. Setup prompt template\n",
        "# note: you can use \"human\" or \"user\" for the input\n",
        "prompt = ChatPromptTemplate.from_messages([\n",
        "    ('system', WRITER_SYS_MSG),\n",
        "    ('human', 'Write an organized research report about this topic:\\n\\n{topic}.') #only have to feed topic\n",
        "])\n",
        "\n",
        "## 2. init llm - set temperature to 0 --> deterministic (precise)\n",
        "llm = ChatOpenAI(model='gpt-4o-mini', temperature=0)\n",
        "\n",
        "# 3. setup output parser\n",
        "output_parser = StrOutputParser()\n",
        "\n",
        "# 4. Setup chain\n",
        "writer_chain = (prompt\n",
        "                  |\n",
        "                llm\n",
        "                  |\n",
        "                output_parser)"
      ],
      "metadata": {
        "id": "1Vm42amfG36Q"
      },
      "execution_count": 18,
      "outputs": []
    },
    {
      "cell_type": "markdown",
      "source": [
        "What is the datatype for the `writer_chain`"
      ],
      "metadata": {
        "id": "91ZC3zHjIFRo"
      }
    },
    {
      "cell_type": "code",
      "source": [
        "type(writer_chain)"
      ],
      "metadata": {
        "colab": {
          "base_uri": "https://localhost:8080/",
          "height": 222
        },
        "id": "OkME6q62Hb2A",
        "outputId": "f7e10a80-bef5-448a-e09a-b29ee3040bdc"
      },
      "execution_count": 21,
      "outputs": [
        {
          "output_type": "execute_result",
          "data": {
            "text/plain": [
              "langchain_core.runnables.base.RunnableSequence"
            ],
            "text/html": [
              "<div style=\"max-width:800px; border: 1px solid var(--colab-border-color);\"><style>\n",
              "      pre.function-repr-contents {\n",
              "        overflow-x: auto;\n",
              "        padding: 8px 12px;\n",
              "        max-height: 500px;\n",
              "      }\n",
              "\n",
              "      pre.function-repr-contents.function-repr-contents-collapsed {\n",
              "        cursor: pointer;\n",
              "        max-height: 100px;\n",
              "      }\n",
              "    </style>\n",
              "    <pre style=\"white-space: initial; background:\n",
              "         var(--colab-secondary-surface-color); padding: 8px 12px;\n",
              "         border-bottom: 1px solid var(--colab-border-color);\"><b>langchain_core.runnables.base.RunnableSequence</b><br/>def __init__(*steps: RunnableLike, name: Optional[str]=None, first: Optional[Runnable[Any, Any]]=None, middle: Optional[list[Runnable[Any, Any]]]=None, last: Optional[Runnable[Any, Any]]=None) -&gt; None</pre><pre class=\"function-repr-contents function-repr-contents-collapsed\" style=\"\"><a class=\"filepath\" style=\"display:none\" href=\"#\">/usr/local/lib/python3.10/dist-packages/langchain_core/runnables/base.py</a>Sequence of Runnables, where the output of each is the input of the next.\n",
              "\n",
              "**RunnableSequence** is the most important composition operator in LangChain\n",
              "as it is used in virtually every chain.\n",
              "\n",
              "A RunnableSequence can be instantiated directly or more commonly by using the `|`\n",
              "operator where either the left or right operands (or both) must be a Runnable.\n",
              "\n",
              "Any RunnableSequence automatically supports sync, async, batch.\n",
              "\n",
              "The default implementations of `batch` and `abatch` utilize threadpools and\n",
              "asyncio gather and will be faster than naive invocation of invoke or ainvoke\n",
              "for IO bound Runnables.\n",
              "\n",
              "Batching is implemented by invoking the batch method on each component of the\n",
              "RunnableSequence in order.\n",
              "\n",
              "A RunnableSequence preserves the streaming properties of its components, so if all\n",
              "components of the sequence implement a `transform` method -- which\n",
              "is the method that implements the logic to map a streaming input to a streaming\n",
              "output -- then the sequence will be able to stream input to output!\n",
              "\n",
              "If any component of the sequence does not implement transform then the\n",
              "streaming will only begin after this component is run. If there are\n",
              "multiple blocking components, streaming begins after the last one.\n",
              "\n",
              "Please note: RunnableLambdas do not support `transform` by default! So if\n",
              "    you need to use a RunnableLambdas be careful about where you place them in a\n",
              "    RunnableSequence (if you need to use the .stream()/.astream() methods).\n",
              "\n",
              "    If you need arbitrary logic and need streaming, you can subclass\n",
              "    Runnable, and implement `transform` for whatever logic you need.\n",
              "\n",
              "Here is a simple example that uses simple functions to illustrate the use of\n",
              "RunnableSequence:\n",
              "\n",
              "    .. code-block:: python\n",
              "\n",
              "        from langchain_core.runnables import RunnableLambda\n",
              "\n",
              "        def add_one(x: int) -&gt; int:\n",
              "            return x + 1\n",
              "\n",
              "        def mul_two(x: int) -&gt; int:\n",
              "            return x * 2\n",
              "\n",
              "        runnable_1 = RunnableLambda(add_one)\n",
              "        runnable_2 = RunnableLambda(mul_two)\n",
              "        sequence = runnable_1 | runnable_2\n",
              "        # Or equivalently:\n",
              "        # sequence = RunnableSequence(first=runnable_1, last=runnable_2)\n",
              "        sequence.invoke(1)\n",
              "        await sequence.ainvoke(1)\n",
              "\n",
              "        sequence.batch([1, 2, 3])\n",
              "        await sequence.abatch([1, 2, 3])\n",
              "\n",
              "Here&#x27;s an example that uses streams JSON output generated by an LLM:\n",
              "\n",
              "    .. code-block:: python\n",
              "\n",
              "        from langchain_core.output_parsers.json import SimpleJsonOutputParser\n",
              "        from langchain_openai import ChatOpenAI\n",
              "\n",
              "        prompt = PromptTemplate.from_template(\n",
              "            &#x27;In JSON format, give me a list of {topic} and their &#x27;\n",
              "            &#x27;corresponding names in French, Spanish and in a &#x27;\n",
              "            &#x27;Cat Language.&#x27;\n",
              "        )\n",
              "\n",
              "        model = ChatOpenAI()\n",
              "        chain = prompt | model | SimpleJsonOutputParser()\n",
              "\n",
              "        async for chunk in chain.astream({&#x27;topic&#x27;: &#x27;colors&#x27;}):\n",
              "            print(&#x27;-&#x27;)  # noqa: T201\n",
              "            print(chunk, sep=&#x27;&#x27;, flush=True)  # noqa: T201</pre>\n",
              "      <script>\n",
              "      if (google.colab.kernel.accessAllowed && google.colab.files && google.colab.files.view) {\n",
              "        for (const element of document.querySelectorAll('.filepath')) {\n",
              "          element.style.display = 'block'\n",
              "          element.onclick = (event) => {\n",
              "            event.preventDefault();\n",
              "            event.stopPropagation();\n",
              "            google.colab.files.view(element.textContent, 2659);\n",
              "          };\n",
              "        }\n",
              "      }\n",
              "      for (const element of document.querySelectorAll('.function-repr-contents')) {\n",
              "        element.onclick = (event) => {\n",
              "          event.preventDefault();\n",
              "          event.stopPropagation();\n",
              "          element.classList.toggle('function-repr-contents-collapsed');\n",
              "        };\n",
              "      }\n",
              "      </script>\n",
              "      </div>"
            ]
          },
          "metadata": {},
          "execution_count": 21
        }
      ]
    },
    {
      "cell_type": "markdown",
      "source": [
        "Summary\n",
        "* We can see its a `RunnableSequence`"
      ],
      "metadata": {
        "id": "F1BffdQLILKC"
      }
    },
    {
      "cell_type": "markdown",
      "source": [
        "Reviewer Chain Below"
      ],
      "metadata": {
        "id": "tfF1rrTDG-UH"
      }
    },
    {
      "cell_type": "code",
      "source": [
        "## setup REVIEWER system msg\n",
        "REVIEWER_SYS_MSG = \"\"\"\n",
        "You are a reviewer for research reports.\n",
        "You take in research reports and provide feedback on them.\n",
        "\n",
        "\"\"\"\n",
        "\n",
        "# 1. prompt template\n",
        "prompt_reviewer = ChatPromptTemplate.from_messages([\n",
        "    ('system', REVIEWER_SYS_MSG),\n",
        "    ('human', 'Provide feedback on this research report:\\n\\n{report}. As 5 concise bullet points.')\n",
        "])\n",
        "\n",
        "# 2. Setup llm reviwer model --> more probabilistic\n",
        "llm_reviewer = ChatOpenAI(model='gpt-4o-mini', temperature=0.2)\n",
        "\n",
        "# 3. Setup chain\n",
        "review_chain = (prompt_reviewer\n",
        "                  |\n",
        "                llm_reviewer\n",
        "                  |\n",
        "                output_parser)\n",
        "\n",
        "# 4. invoke review feedback chain -- input is from previous chain\n",
        "## note: the \"report\" is the output\n",
        "feedback_output = review_chain.invoke({'report': output})\n",
        "\n",
        "\n",
        "# 5. Visualize feedback chain\n",
        "Markdown(feedback_output)\n",
        "\n"
      ],
      "metadata": {
        "colab": {
          "base_uri": "https://localhost:8080/",
          "height": 383
        },
        "outputId": "d512948e-8f97-4f96-b329-802dd679e0fb",
        "id": "OJr0_6ThHC4K"
      },
      "execution_count": 19,
      "outputs": [
        {
          "output_type": "execute_result",
          "data": {
            "text/plain": [
              "<IPython.core.display.Markdown object>"
            ],
            "text/markdown": "### Feedback on \"Understanding Transformers: A Guide for Non-AI Researchers\"\n\n1. **Clarity and Accessibility**: The report does a commendable job of simplifying complex concepts related to transformers for a non-AI audience. The use of clear headings and subheadings enhances readability. However, consider adding more analogies or real-world examples to further bridge the gap for readers unfamiliar with technical jargon.\n\n2. **Depth of Explanation**: While the report covers key components of transformers, some sections could benefit from deeper explanations. For instance, the self-attention mechanism could include a brief example illustrating how it calculates attention scores, which would help demystify the process for readers.\n\n3. **Visual Aids**: The inclusion of diagrams or flowcharts illustrating the transformer architecture and the attention mechanism would greatly enhance understanding. Visual aids can help non-experts grasp the relationships between components more intuitively.\n\n4. **Applications Section**: The applications of transformers are briefly mentioned, but this section could be expanded with specific examples or case studies. Highlighting notable transformer-based models in each application area could provide context and demonstrate their real-world impact.\n\n5. **References and Further Reading**: The references provided are relevant, but consider adding a section for further reading or resources, such as beginner-friendly tutorials, videos, or articles. This would encourage interested readers to explore the topic more deeply and provide them with additional learning materials."
          },
          "metadata": {},
          "execution_count": 19
        }
      ]
    },
    {
      "cell_type": "markdown",
      "source": [
        "What is the datatype for Review Chain\n"
      ],
      "metadata": {
        "id": "vbd5T0twK0dt"
      }
    },
    {
      "cell_type": "code",
      "source": [
        "type(review_chain)"
      ],
      "metadata": {
        "colab": {
          "base_uri": "https://localhost:8080/",
          "height": 222
        },
        "id": "MmrTqDKJKzrf",
        "outputId": "00721662-fa76-4d28-c428-308f6b726380"
      },
      "execution_count": 23,
      "outputs": [
        {
          "output_type": "execute_result",
          "data": {
            "text/plain": [
              "langchain_core.runnables.base.RunnableSequence"
            ],
            "text/html": [
              "<div style=\"max-width:800px; border: 1px solid var(--colab-border-color);\"><style>\n",
              "      pre.function-repr-contents {\n",
              "        overflow-x: auto;\n",
              "        padding: 8px 12px;\n",
              "        max-height: 500px;\n",
              "      }\n",
              "\n",
              "      pre.function-repr-contents.function-repr-contents-collapsed {\n",
              "        cursor: pointer;\n",
              "        max-height: 100px;\n",
              "      }\n",
              "    </style>\n",
              "    <pre style=\"white-space: initial; background:\n",
              "         var(--colab-secondary-surface-color); padding: 8px 12px;\n",
              "         border-bottom: 1px solid var(--colab-border-color);\"><b>langchain_core.runnables.base.RunnableSequence</b><br/>def __init__(*steps: RunnableLike, name: Optional[str]=None, first: Optional[Runnable[Any, Any]]=None, middle: Optional[list[Runnable[Any, Any]]]=None, last: Optional[Runnable[Any, Any]]=None) -&gt; None</pre><pre class=\"function-repr-contents function-repr-contents-collapsed\" style=\"\"><a class=\"filepath\" style=\"display:none\" href=\"#\">/usr/local/lib/python3.10/dist-packages/langchain_core/runnables/base.py</a>Sequence of Runnables, where the output of each is the input of the next.\n",
              "\n",
              "**RunnableSequence** is the most important composition operator in LangChain\n",
              "as it is used in virtually every chain.\n",
              "\n",
              "A RunnableSequence can be instantiated directly or more commonly by using the `|`\n",
              "operator where either the left or right operands (or both) must be a Runnable.\n",
              "\n",
              "Any RunnableSequence automatically supports sync, async, batch.\n",
              "\n",
              "The default implementations of `batch` and `abatch` utilize threadpools and\n",
              "asyncio gather and will be faster than naive invocation of invoke or ainvoke\n",
              "for IO bound Runnables.\n",
              "\n",
              "Batching is implemented by invoking the batch method on each component of the\n",
              "RunnableSequence in order.\n",
              "\n",
              "A RunnableSequence preserves the streaming properties of its components, so if all\n",
              "components of the sequence implement a `transform` method -- which\n",
              "is the method that implements the logic to map a streaming input to a streaming\n",
              "output -- then the sequence will be able to stream input to output!\n",
              "\n",
              "If any component of the sequence does not implement transform then the\n",
              "streaming will only begin after this component is run. If there are\n",
              "multiple blocking components, streaming begins after the last one.\n",
              "\n",
              "Please note: RunnableLambdas do not support `transform` by default! So if\n",
              "    you need to use a RunnableLambdas be careful about where you place them in a\n",
              "    RunnableSequence (if you need to use the .stream()/.astream() methods).\n",
              "\n",
              "    If you need arbitrary logic and need streaming, you can subclass\n",
              "    Runnable, and implement `transform` for whatever logic you need.\n",
              "\n",
              "Here is a simple example that uses simple functions to illustrate the use of\n",
              "RunnableSequence:\n",
              "\n",
              "    .. code-block:: python\n",
              "\n",
              "        from langchain_core.runnables import RunnableLambda\n",
              "\n",
              "        def add_one(x: int) -&gt; int:\n",
              "            return x + 1\n",
              "\n",
              "        def mul_two(x: int) -&gt; int:\n",
              "            return x * 2\n",
              "\n",
              "        runnable_1 = RunnableLambda(add_one)\n",
              "        runnable_2 = RunnableLambda(mul_two)\n",
              "        sequence = runnable_1 | runnable_2\n",
              "        # Or equivalently:\n",
              "        # sequence = RunnableSequence(first=runnable_1, last=runnable_2)\n",
              "        sequence.invoke(1)\n",
              "        await sequence.ainvoke(1)\n",
              "\n",
              "        sequence.batch([1, 2, 3])\n",
              "        await sequence.abatch([1, 2, 3])\n",
              "\n",
              "Here&#x27;s an example that uses streams JSON output generated by an LLM:\n",
              "\n",
              "    .. code-block:: python\n",
              "\n",
              "        from langchain_core.output_parsers.json import SimpleJsonOutputParser\n",
              "        from langchain_openai import ChatOpenAI\n",
              "\n",
              "        prompt = PromptTemplate.from_template(\n",
              "            &#x27;In JSON format, give me a list of {topic} and their &#x27;\n",
              "            &#x27;corresponding names in French, Spanish and in a &#x27;\n",
              "            &#x27;Cat Language.&#x27;\n",
              "        )\n",
              "\n",
              "        model = ChatOpenAI()\n",
              "        chain = prompt | model | SimpleJsonOutputParser()\n",
              "\n",
              "        async for chunk in chain.astream({&#x27;topic&#x27;: &#x27;colors&#x27;}):\n",
              "            print(&#x27;-&#x27;)  # noqa: T201\n",
              "            print(chunk, sep=&#x27;&#x27;, flush=True)  # noqa: T201</pre>\n",
              "      <script>\n",
              "      if (google.colab.kernel.accessAllowed && google.colab.files && google.colab.files.view) {\n",
              "        for (const element of document.querySelectorAll('.filepath')) {\n",
              "          element.style.display = 'block'\n",
              "          element.onclick = (event) => {\n",
              "            event.preventDefault();\n",
              "            event.stopPropagation();\n",
              "            google.colab.files.view(element.textContent, 2659);\n",
              "          };\n",
              "        }\n",
              "      }\n",
              "      for (const element of document.querySelectorAll('.function-repr-contents')) {\n",
              "        element.onclick = (event) => {\n",
              "          event.preventDefault();\n",
              "          event.stopPropagation();\n",
              "          element.classList.toggle('function-repr-contents-collapsed');\n",
              "        };\n",
              "      }\n",
              "      </script>\n",
              "      </div>"
            ]
          },
          "metadata": {},
          "execution_count": 23
        }
      ]
    },
    {
      "cell_type": "markdown",
      "source": [
        "Summary\n",
        "* We can see it is a `RunnableSequence`"
      ],
      "metadata": {
        "id": "nrAr4scoK78h"
      }
    },
    {
      "cell_type": "markdown",
      "source": [
        "Final Writer Chain"
      ],
      "metadata": {
        "id": "qDQuXvV1HKt_"
      }
    },
    {
      "cell_type": "code",
      "source": [
        "## final writer chain\n",
        "FINAL_WRITER_SYS_MSG = \"\"\"\n",
        "You take in a research report and a set of bullet points with feedback to improve and you\n",
        "revise the research report based on the feedback and write a final version.\n",
        "\n",
        "\"\"\"\n",
        "\n",
        "\n",
        "# 1. prompt template\n",
        "prompt_final_writer = ChatPromptTemplate.from_messages(\n",
        "    [\n",
        "        ('system', FINAL_WRITER_SYS_MSG),\n",
        "        ('human', 'Write a reviewed and improved version of this research report:\\n\\n{feedback}')\n",
        "    ]\n",
        ")\n",
        "\n",
        "# 2. Create llm instance\n",
        "llm_final_writer = ChatOpenAI(model='gpt-4o-mini', temperature=0.2)\n",
        "\n",
        "# 3. create chain\n",
        "chain_final_writer = (prompt_final_writer\n",
        "                        |\n",
        "                      llm\n",
        "                        |\n",
        "                      output_parser)\n",
        "\n",
        "\n",
        "# 4. Invoke llm --> final report\n",
        "output_final_report = chain_final_writer.invoke({'report': output, 'feedback': feedback_output})\n",
        "\n",
        "# 5. Visualize final output\n",
        "Markdown(output_final_report)"
      ],
      "metadata": {
        "colab": {
          "base_uri": "https://localhost:8080/",
          "height": 1000
        },
        "outputId": "53418b8f-9383-456d-cef7-8e1f5e4acb7d",
        "id": "vxYk0eF6HO3q"
      },
      "execution_count": 20,
      "outputs": [
        {
          "output_type": "execute_result",
          "data": {
            "text/plain": [
              "<IPython.core.display.Markdown object>"
            ],
            "text/markdown": "# Understanding Transformers: A Guide for Non-AI Researchers\n\n## Introduction\n\nIn recent years, transformers have revolutionized the field of artificial intelligence (AI), particularly in natural language processing (NLP). This report aims to demystify transformers for non-AI researchers by breaking down their components, mechanisms, and applications in an accessible manner. \n\n## What is a Transformer?\n\nA transformer is a type of neural network architecture that processes data in parallel, making it highly efficient for tasks involving sequential data, such as text. Unlike traditional models that process data sequentially, transformers can analyze entire sequences simultaneously, allowing for faster training and improved performance.\n\n## Key Components of Transformers\n\n### 1. Input Embeddings\n\nTransformers begin by converting input data (e.g., words in a sentence) into numerical representations called embeddings. These embeddings capture the semantic meaning of words and allow the model to understand context.\n\n### 2. Self-Attention Mechanism\n\nThe self-attention mechanism is a core component of transformers that enables the model to weigh the importance of different words in a sentence relative to each other. \n\n**Example**: Consider the sentence \"The cat sat on the mat.\" When processing the word \"sat,\" the self-attention mechanism evaluates the relevance of \"cat\" and \"mat\" to determine how much attention to give to each word. It calculates attention scores based on the relationships between words, allowing the model to focus on the most relevant parts of the input.\n\n### 3. Multi-Head Attention\n\nTo capture various relationships in the data, transformers use multi-head attention, which involves multiple self-attention mechanisms running in parallel. This allows the model to learn different aspects of the input simultaneously.\n\n### 4. Feed-Forward Neural Networks\n\nAfter the attention layers, the data is passed through feed-forward neural networks, which apply additional transformations to the information, enhancing the model's ability to learn complex patterns.\n\n### 5. Positional Encoding\n\nSince transformers process data in parallel, they require a method to understand the order of words in a sequence. Positional encoding adds information about the position of each word, enabling the model to maintain the sequence's structure.\n\n## Visual Representation of Transformer Architecture\n\n![Transformer Architecture](https://example.com/transformer-architecture-diagram)  \n*Figure 1: Diagram illustrating the architecture of a transformer, including input embeddings, self-attention, multi-head attention, feed-forward networks, and positional encoding.*\n\n## Applications of Transformers\n\nTransformers have found applications across various domains, demonstrating their versatility and effectiveness. Here are some notable examples:\n\n### 1. Natural Language Processing\n\nTransformers are the backbone of many state-of-the-art NLP models, such as BERT and GPT-3. These models excel in tasks like text generation, translation, and sentiment analysis.\n\n### 2. Computer Vision\n\nTransformers are increasingly being used in computer vision tasks, such as image classification and object detection. Vision Transformers (ViTs) have shown promising results, rivaling traditional convolutional neural networks.\n\n### 3. Healthcare\n\nIn healthcare, transformers are applied to analyze medical texts, predict patient outcomes, and assist in diagnostics by processing large volumes of clinical data.\n\n### 4. Robotics\n\nTransformers are also being explored in robotics for tasks like natural language understanding and decision-making, enabling robots to interact more effectively with humans.\n\n## Conclusion\n\nTransformers represent a significant advancement in AI, offering powerful tools for a wide range of applications. By understanding their components and mechanisms, non-AI researchers can appreciate the impact of this technology on various fields.\n\n## References and Further Reading\n\n1. Vaswani, A., et al. (2017). \"Attention is All You Need.\" *Advances in Neural Information Processing Systems*.\n2. Devlin, J., et al. (2018). \"BERT: Pre-training of Deep Bidirectional Transformers for Language Understanding.\" *arXiv preprint arXiv:1810.04805*.\n3. Dosovitskiy, A., et al. (2020). \"An Image is Worth 16x16 Words: Transformers for Image Recognition at Scale.\" *arXiv preprint arXiv:2010.11929*.\n\n### Further Resources\n\n- [The Illustrated Transformer](https://jalammar.github.io/illustrated-transformer/)\n- [Transformers Explained Visually](https://towardsdatascience.com/transformers-explained-visually-1c1c1c1c1c1c)\n- [YouTube: Transformers in NLP](https://www.youtube.com/watch?v=1g0g0g0g0g0)\n\nBy incorporating these enhancements, this report aims to provide a clearer, more comprehensive understanding of transformers for non-AI researchers, encouraging further exploration of this fascinating topic."
          },
          "metadata": {},
          "execution_count": 20
        }
      ]
    },
    {
      "cell_type": "markdown",
      "source": [
        "What is the datatype for the Final Chain?"
      ],
      "metadata": {
        "id": "-WvzvRngLAkR"
      }
    },
    {
      "cell_type": "code",
      "source": [
        "type(chain_final_writer)"
      ],
      "metadata": {
        "colab": {
          "base_uri": "https://localhost:8080/",
          "height": 222
        },
        "id": "Z4j-AYqLHYGZ",
        "outputId": "089ff18d-be7c-4d54-9c82-abc3226bbb59"
      },
      "execution_count": 24,
      "outputs": [
        {
          "output_type": "execute_result",
          "data": {
            "text/plain": [
              "langchain_core.runnables.base.RunnableSequence"
            ],
            "text/html": [
              "<div style=\"max-width:800px; border: 1px solid var(--colab-border-color);\"><style>\n",
              "      pre.function-repr-contents {\n",
              "        overflow-x: auto;\n",
              "        padding: 8px 12px;\n",
              "        max-height: 500px;\n",
              "      }\n",
              "\n",
              "      pre.function-repr-contents.function-repr-contents-collapsed {\n",
              "        cursor: pointer;\n",
              "        max-height: 100px;\n",
              "      }\n",
              "    </style>\n",
              "    <pre style=\"white-space: initial; background:\n",
              "         var(--colab-secondary-surface-color); padding: 8px 12px;\n",
              "         border-bottom: 1px solid var(--colab-border-color);\"><b>langchain_core.runnables.base.RunnableSequence</b><br/>def __init__(*steps: RunnableLike, name: Optional[str]=None, first: Optional[Runnable[Any, Any]]=None, middle: Optional[list[Runnable[Any, Any]]]=None, last: Optional[Runnable[Any, Any]]=None) -&gt; None</pre><pre class=\"function-repr-contents function-repr-contents-collapsed\" style=\"\"><a class=\"filepath\" style=\"display:none\" href=\"#\">/usr/local/lib/python3.10/dist-packages/langchain_core/runnables/base.py</a>Sequence of Runnables, where the output of each is the input of the next.\n",
              "\n",
              "**RunnableSequence** is the most important composition operator in LangChain\n",
              "as it is used in virtually every chain.\n",
              "\n",
              "A RunnableSequence can be instantiated directly or more commonly by using the `|`\n",
              "operator where either the left or right operands (or both) must be a Runnable.\n",
              "\n",
              "Any RunnableSequence automatically supports sync, async, batch.\n",
              "\n",
              "The default implementations of `batch` and `abatch` utilize threadpools and\n",
              "asyncio gather and will be faster than naive invocation of invoke or ainvoke\n",
              "for IO bound Runnables.\n",
              "\n",
              "Batching is implemented by invoking the batch method on each component of the\n",
              "RunnableSequence in order.\n",
              "\n",
              "A RunnableSequence preserves the streaming properties of its components, so if all\n",
              "components of the sequence implement a `transform` method -- which\n",
              "is the method that implements the logic to map a streaming input to a streaming\n",
              "output -- then the sequence will be able to stream input to output!\n",
              "\n",
              "If any component of the sequence does not implement transform then the\n",
              "streaming will only begin after this component is run. If there are\n",
              "multiple blocking components, streaming begins after the last one.\n",
              "\n",
              "Please note: RunnableLambdas do not support `transform` by default! So if\n",
              "    you need to use a RunnableLambdas be careful about where you place them in a\n",
              "    RunnableSequence (if you need to use the .stream()/.astream() methods).\n",
              "\n",
              "    If you need arbitrary logic and need streaming, you can subclass\n",
              "    Runnable, and implement `transform` for whatever logic you need.\n",
              "\n",
              "Here is a simple example that uses simple functions to illustrate the use of\n",
              "RunnableSequence:\n",
              "\n",
              "    .. code-block:: python\n",
              "\n",
              "        from langchain_core.runnables import RunnableLambda\n",
              "\n",
              "        def add_one(x: int) -&gt; int:\n",
              "            return x + 1\n",
              "\n",
              "        def mul_two(x: int) -&gt; int:\n",
              "            return x * 2\n",
              "\n",
              "        runnable_1 = RunnableLambda(add_one)\n",
              "        runnable_2 = RunnableLambda(mul_two)\n",
              "        sequence = runnable_1 | runnable_2\n",
              "        # Or equivalently:\n",
              "        # sequence = RunnableSequence(first=runnable_1, last=runnable_2)\n",
              "        sequence.invoke(1)\n",
              "        await sequence.ainvoke(1)\n",
              "\n",
              "        sequence.batch([1, 2, 3])\n",
              "        await sequence.abatch([1, 2, 3])\n",
              "\n",
              "Here&#x27;s an example that uses streams JSON output generated by an LLM:\n",
              "\n",
              "    .. code-block:: python\n",
              "\n",
              "        from langchain_core.output_parsers.json import SimpleJsonOutputParser\n",
              "        from langchain_openai import ChatOpenAI\n",
              "\n",
              "        prompt = PromptTemplate.from_template(\n",
              "            &#x27;In JSON format, give me a list of {topic} and their &#x27;\n",
              "            &#x27;corresponding names in French, Spanish and in a &#x27;\n",
              "            &#x27;Cat Language.&#x27;\n",
              "        )\n",
              "\n",
              "        model = ChatOpenAI()\n",
              "        chain = prompt | model | SimpleJsonOutputParser()\n",
              "\n",
              "        async for chunk in chain.astream({&#x27;topic&#x27;: &#x27;colors&#x27;}):\n",
              "            print(&#x27;-&#x27;)  # noqa: T201\n",
              "            print(chunk, sep=&#x27;&#x27;, flush=True)  # noqa: T201</pre>\n",
              "      <script>\n",
              "      if (google.colab.kernel.accessAllowed && google.colab.files && google.colab.files.view) {\n",
              "        for (const element of document.querySelectorAll('.filepath')) {\n",
              "          element.style.display = 'block'\n",
              "          element.onclick = (event) => {\n",
              "            event.preventDefault();\n",
              "            event.stopPropagation();\n",
              "            google.colab.files.view(element.textContent, 2659);\n",
              "          };\n",
              "        }\n",
              "      }\n",
              "      for (const element of document.querySelectorAll('.function-repr-contents')) {\n",
              "        element.onclick = (event) => {\n",
              "          event.preventDefault();\n",
              "          event.stopPropagation();\n",
              "          element.classList.toggle('function-repr-contents-collapsed');\n",
              "        };\n",
              "      }\n",
              "      </script>\n",
              "      </div>"
            ]
          },
          "metadata": {},
          "execution_count": 24
        }
      ]
    },
    {
      "cell_type": "markdown",
      "source": [
        "Summary:\n",
        "* We can see ALL CHAINS above are Runnnable Sequences!\n",
        "\n",
        "\n"
      ],
      "metadata": {
        "id": "pHkxPfFZLGOK"
      }
    },
    {
      "cell_type": "markdown",
      "source": [
        "## What is a `RunnableSequence`?\n",
        "* Allows chaining of building blocks and llm objects.\n",
        "* We can see how this works from scratch."
      ],
      "metadata": {
        "id": "eFwPQg25LNlB"
      }
    },
    {
      "cell_type": "code",
      "source": [
        "## imports\n",
        "from langchain_core.runnables import RunnableSequence, RunnableLambda"
      ],
      "metadata": {
        "id": "mIvIXdeWLFfO"
      },
      "execution_count": 25,
      "outputs": []
    },
    {
      "cell_type": "code",
      "source": [
        "# What is a RunnableSequence\n",
        "# A squence of Runnables\n",
        "# What is a Runnable?\n",
        "## A runnable is an object with some standard methods like invoke, batch, etc...\n",
        "## Idea is that you can compose these objects together to create a pipeline in your llm application\n",
        "\n",
        "\n",
        "# create a dummy function\n",
        "def sum_x_to_x(x: int) -> int:\n",
        "  return x + x\n",
        "\n",
        "def multiply_x_by_x(x: int) -> int:\n",
        "  return x * x\n",
        "\n",
        "# define runnables\n",
        "runnable_1 = RunnableLambda(sum_x_to_x)\n",
        "runnable_2 = RunnableLambda(multiply_x_by_x)\n",
        "\n",
        "\n",
        "# define RunnableSequence\n",
        "runnable_sequence = RunnableSequence(first=runnable_1, last=runnable_2)\n",
        "\n",
        "# invoke runnable\n",
        "runnable_sequence.invoke(2)\n"
      ],
      "metadata": {
        "colab": {
          "base_uri": "https://localhost:8080/"
        },
        "id": "ziHKp-9xLhKZ",
        "outputId": "b11f3534-5e07-4a01-a476-39b9bb78f116"
      },
      "execution_count": 26,
      "outputs": [
        {
          "output_type": "execute_result",
          "data": {
            "text/plain": [
              "16"
            ]
          },
          "metadata": {},
          "execution_count": 26
        }
      ]
    },
    {
      "cell_type": "markdown",
      "source": [
        "Summary\n",
        "* We just chained together operations!"
      ],
      "metadata": {
        "id": "o1NVRsD_MfH2"
      }
    },
    {
      "cell_type": "markdown",
      "source": [
        "## Let's put together 3 chains\n",
        "* writer_chain + review_chain + final_writer_chain\n",
        "\n",
        "* Essentially we are creating \"Routing\" chains: inputs + outputs\n",
        "\n",
        "### Composed Chain\n",
        "* Below is a composed chain:\n",
        "\n",
        "![Screenshot 2024-11-18 at 12.02.28 PM.png](data:image/png;base64,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)\n",
        "\n",
        "\n"
      ],
      "metadata": {
        "id": "TkYvkPwXMq69"
      }
    },
    {
      "cell_type": "code",
      "source": [
        "# first we need to import RunnablePassthrough\n",
        "from langchain_core.runnables import RunnablePassthrough\n"
      ],
      "metadata": {
        "id": "HCebJHZ6Mc_V"
      },
      "execution_count": 27,
      "outputs": []
    },
    {
      "cell_type": "code",
      "source": [
        "## composed chain\n",
        "composed_chain = {'report': writer_chain} | RunnablePassthrough().assign(feedback=review_chain) | chain_final_writer\n",
        "\n",
        "\n",
        "\n",
        "# output final report from chain\n",
        "output_final_report = composed_chain.invoke({'topic': 'Using AI for personal productivity.'})\n",
        "\n",
        "\n",
        "# output response\n",
        "Markdown(output_final_report)"
      ],
      "metadata": {
        "colab": {
          "base_uri": "https://localhost:8080/",
          "height": 1000
        },
        "id": "C5ygMxjeN0Gq",
        "outputId": "bf9a49f3-75f5-44df-a845-6e3dc6c9c33c"
      },
      "execution_count": 33,
      "outputs": [
        {
          "output_type": "execute_result",
          "data": {
            "text/plain": [
              "<IPython.core.display.Markdown object>"
            ],
            "text/markdown": "# Research Report: Using AI for Personal Productivity\n\n## Introduction\nArtificial Intelligence (AI) has rapidly transformed various aspects of our lives, including personal productivity. This report explores the applications, benefits, challenges, and future trends of AI in enhancing individual productivity. By examining real-world examples and providing actionable insights, this report aims to offer a comprehensive understanding of how AI can be leveraged for personal efficiency.\n\n## Applications of AI in Personal Productivity\nAI technologies are being integrated into various tools and platforms to enhance personal productivity. Key applications include:\n\n- **Task Management**: AI-driven applications like Todoist and Trello utilize machine learning algorithms to prioritize tasks based on deadlines and user behavior.\n- **Virtual Assistants**: Tools such as Google Assistant and Siri help users manage schedules, set reminders, and answer queries, streamlining daily tasks.\n- **Time Tracking**: Applications like RescueTime analyze user activity to provide insights into time usage, helping individuals identify areas for improvement.\n- **Content Creation**: AI tools like Grammarly and Jasper assist in writing and editing, enhancing the quality of content produced.\n\n### Case Studies\n1. **Todoist**: A user reported that by utilizing Todoist's AI features, they were able to increase their task completion rate by 30% within a month, demonstrating the effectiveness of AI in task management.\n2. **Grammarly**: A freelance writer noted that using Grammarly not only improved their writing quality but also reduced editing time by 50%, showcasing the impact of AI on content creation.\n\n## Benefits of AI in Personal Productivity\nThe integration of AI into personal productivity tools offers several advantages:\n\n- **Increased Efficiency**: AI automates repetitive tasks, allowing users to focus on more complex activities.\n- **Enhanced Decision-Making**: AI provides data-driven insights that help users make informed decisions quickly.\n- **Personalization**: AI tools adapt to individual user preferences, creating a tailored experience that enhances productivity.\n\n## Challenges of AI in Personal Productivity\nWhile AI presents numerous benefits, it also poses challenges that need to be addressed:\n\n- **Over-Reliance on Technology**: Users may become overly dependent on AI tools, potentially diminishing critical thinking skills. \n  - **Solution**: Encourage users to balance AI assistance with manual processes to maintain cognitive engagement.\n  \n- **Data Privacy Concerns**: The use of AI often involves data collection, raising concerns about privacy and security.\n  - **Solution**: Implement best practices for data management, such as using encrypted platforms and being transparent about data usage.\n\n- **Integration Issues**: Users may face difficulties integrating AI tools into their existing workflows.\n  - **Solution**: Provide comprehensive onboarding and support to help users adapt to new technologies.\n\n## Future Trends in AI and Personal Productivity\nThe future of AI in personal productivity is promising, with several emerging trends:\n\n- **Natural Language Processing (NLP)**: Advances in NLP will lead to more intuitive virtual assistants capable of understanding context and nuance in user requests.\n- **AI-Powered Analytics**: Tools that analyze productivity patterns will become more sophisticated, offering personalized recommendations for improvement.\n- **Ethical AI**: As AI becomes more prevalent, discussions around ethical implications, such as bias in algorithms and the impact on employment, will gain importance.\n\n### Leading Companies\nCompanies like Notion and Microsoft are at the forefront of integrating AI into productivity tools, continuously innovating to enhance user experience and efficiency.\n\n## Conclusion\nAI has the potential to significantly enhance personal productivity by automating tasks, providing insights, and personalizing user experiences. However, it is crucial to address the challenges associated with its use, including over-reliance and data privacy concerns. By staying informed about future trends and ethical considerations, individuals can effectively leverage AI to improve their productivity.\n\n## References\n1. Smith, J. (2023). \"The Impact of AI on Personal Productivity: A Comprehensive Review.\" Journal of Productivity Research.\n2. Johnson, L. (2023). \"AI Tools for Task Management: A Case Study.\" Productivity Insights.\n3. Williams, R. (2023). \"Ethical Considerations in AI Development.\" AI Ethics Journal.\n4. Brown, T. (2023). \"The Future of Work: AI and Productivity.\" Future Tech Review.\n\nThis revised report incorporates the feedback provided, enhancing clarity, depth of analysis, and addressing challenges while ensuring the inclusion of relevant and up-to-date references."
          },
          "metadata": {},
          "execution_count": 33
        }
      ]
    },
    {
      "cell_type": "markdown",
      "source": [
        "## Let's modify the chain above"
      ],
      "metadata": {
        "id": "AsNXdu5TRE29"
      }
    },
    {
      "cell_type": "code",
      "source": [
        "# chain final writer\n",
        "chain_final_writer = prompt_final_writer | llm_final_writer #notice we are not parsing to string output parser\n",
        "\n",
        "## composed chain\n",
        "composed_chain = {'report': writer_chain} | RunnablePassthrough().assign(feedback=review_chain) | chain_final_writer\n",
        "\n",
        "\n",
        "\n",
        "# output final report from chain\n",
        "output = composed_chain.invoke({'topic': 'Using AI for personal productivity.'})\n",
        "\n",
        "\n",
        "# output response\n",
        "output"
      ],
      "metadata": {
        "colab": {
          "base_uri": "https://localhost:8080/"
        },
        "id": "tT-69jtNPwUP",
        "outputId": "0090a644-7d49-4bf1-8120-54ef6cb3ebd2"
      },
      "execution_count": 36,
      "outputs": [
        {
          "output_type": "execute_result",
          "data": {
            "text/plain": [
              "AIMessage(content='### Revised Research Report: Using AI for Personal Productivity\\n\\n#### Introduction\\n\\nIn recent years, artificial intelligence (AI) has emerged as a transformative force in various sectors, including personal productivity. This report explores the applications of AI tools designed to enhance individual efficiency, examining both their benefits and challenges. By analyzing current trends and providing real-world examples, this report aims to offer a comprehensive understanding of how AI can be leveraged to improve personal productivity.\\n\\n#### Applications of AI in Personal Productivity\\n\\nAI technologies have been integrated into numerous productivity tools, ranging from virtual assistants to project management software. These tools automate routine tasks, streamline workflows, and provide personalized recommendations. For instance, AI-driven applications like Todoist and Trello utilize machine learning algorithms to prioritize tasks based on user behavior and deadlines, significantly reducing the time spent on planning.\\n\\n**Case Study: AI in Action**\\n\\nA notable example is the use of AI by a marketing team at XYZ Corporation. By implementing an AI-powered analytics tool, the team was able to analyze customer data more efficiently, leading to a 30% increase in campaign effectiveness. User testimonials from team members highlighted how the tool not only saved time but also provided insights that were previously overlooked, thereby enhancing overall productivity.\\n\\n#### Benefits of AI in Personal Productivity\\n\\nThe advantages of AI in personal productivity are manifold. Firstly, AI tools can automate repetitive tasks, allowing individuals to focus on more strategic activities. Secondly, they can enhance decision-making by providing data-driven insights. Lastly, AI can facilitate better time management through intelligent scheduling and reminders.\\n\\n#### Challenges of AI in Personal Productivity\\n\\nDespite the benefits, the integration of AI in personal productivity is not without challenges. Privacy concerns are paramount, as many AI tools require access to personal data to function effectively. Additionally, there is a risk of over-reliance on technology, which can lead to decreased critical thinking skills.\\n\\n**Mitigating Challenges**\\n\\nTo address these challenges, users can adopt several strategies. For privacy concerns, individuals should choose AI tools that prioritize data security and offer transparent privacy policies. To reduce dependence on technology, users can set boundaries on tool usage, ensuring that they maintain a balance between leveraging AI and exercising their own judgment.\\n\\n#### Future Trends in AI and Personal Productivity\\n\\nThe future of AI in personal productivity is promising, with several emerging technologies poised to reshape the landscape. For example, advancements in natural language processing (NLP) are enabling more intuitive interactions with AI tools. Companies like OpenAI and Google are at the forefront of these developments, creating applications that can understand and respond to user queries in a conversational manner.\\n\\nMoreover, the rise of AI-driven personal coaches, such as Replika, suggests a shift towards more personalized productivity solutions that adapt to individual user needs. These innovations indicate a trend towards more integrated and user-friendly AI applications in the workplace.\\n\\n#### Conclusion\\n\\nIn conclusion, AI has the potential to significantly enhance personal productivity through automation, data analysis, and intelligent decision-making. While challenges such as privacy concerns and technology dependence exist, they can be mitigated through informed usage strategies. As AI technologies continue to evolve, staying abreast of emerging trends and tools will be essential for maximizing productivity in both personal and professional contexts.\\n\\n#### References\\n\\n1. Smith, J. (2021). \"The Impact of AI on Workplace Productivity.\" Journal of Business Research, 112, 45-56.\\n2. Johnson, L. (2022). \"AI Tools for Personal Efficiency: A Comprehensive Review.\" International Journal of Productivity and Performance Management, 71(3), 789-805.\\n3. Williams, R. (2023). \"Emerging Trends in AI: The Future of Work.\" Technology and Innovation Journal, 15(2), 123-135.\\n4. OpenAI. (2023). \"Advancements in Natural Language Processing.\" Retrieved from [OpenAI website link].\\n\\nThis revised report incorporates specific case studies, addresses challenges with potential solutions, and includes updated references to reflect the latest developments in AI and productivity tools.', additional_kwargs={'refusal': None}, response_metadata={'token_usage': {'completion_tokens': 803, 'prompt_tokens': 381, 'total_tokens': 1184, 'completion_tokens_details': {'accepted_prediction_tokens': 0, 'audio_tokens': 0, 'reasoning_tokens': 0, 'rejected_prediction_tokens': 0}, 'prompt_tokens_details': {'audio_tokens': 0, 'cached_tokens': 0}}, 'model_name': 'gpt-4o-mini-2024-07-18', 'system_fingerprint': 'fp_0ba0d124f1', 'finish_reason': 'stop', 'logprobs': None}, id='run-d4c21d64-7577-4c0f-b5b0-54e6c5dd5d38-0', usage_metadata={'input_tokens': 381, 'output_tokens': 803, 'total_tokens': 1184, 'input_token_details': {'audio': 0, 'cache_read': 0}, 'output_token_details': {'audio': 0, 'reasoning': 0}})"
            ]
          },
          "metadata": {},
          "execution_count": 36
        }
      ]
    },
    {
      "cell_type": "markdown",
      "source": [
        "# Building a SIMPLE AGENT with LangChain\n",
        "* Now we will put the pieces together and build an actual simple agent."
      ],
      "metadata": {
        "id": "9DyiLzjmSRCK"
      }
    },
    {
      "cell_type": "code",
      "source": [
        "## warnings\n",
        "import warnings\n",
        "\n",
        "warnings.filterwarnings(\"ignore\")"
      ],
      "metadata": {
        "id": "GmeLjCmcRijh"
      },
      "execution_count": 37,
      "outputs": []
    },
    {
      "cell_type": "code",
      "source": [
        "from langchain import hub\n",
        "\n",
        "# prompt agent --> specific agent\n",
        "prompt_agent = hub.pull('hwchase17/openai-tools-agent')\n",
        "\n",
        "\n",
        "prompt_agent"
      ],
      "metadata": {
        "colab": {
          "base_uri": "https://localhost:8080/"
        },
        "id": "HKCMiSUFgorD",
        "outputId": "9ef67c9d-ec66-4b02-e99e-2fc1a47fbe15"
      },
      "execution_count": 38,
      "outputs": [
        {
          "output_type": "execute_result",
          "data": {
            "text/plain": [
              "ChatPromptTemplate(input_variables=['agent_scratchpad', 'input'], optional_variables=['chat_history'], input_types={'chat_history': list[typing.Annotated[typing.Union[typing.Annotated[langchain_core.messages.ai.AIMessage, Tag(tag='ai')], typing.Annotated[langchain_core.messages.human.HumanMessage, Tag(tag='human')], typing.Annotated[langchain_core.messages.chat.ChatMessage, Tag(tag='chat')], typing.Annotated[langchain_core.messages.system.SystemMessage, Tag(tag='system')], typing.Annotated[langchain_core.messages.function.FunctionMessage, Tag(tag='function')], typing.Annotated[langchain_core.messages.tool.ToolMessage, Tag(tag='tool')], typing.Annotated[langchain_core.messages.ai.AIMessageChunk, Tag(tag='AIMessageChunk')], typing.Annotated[langchain_core.messages.human.HumanMessageChunk, Tag(tag='HumanMessageChunk')], typing.Annotated[langchain_core.messages.chat.ChatMessageChunk, Tag(tag='ChatMessageChunk')], typing.Annotated[langchain_core.messages.system.SystemMessageChunk, Tag(tag='SystemMessageChunk')], typing.Annotated[langchain_core.messages.function.FunctionMessageChunk, Tag(tag='FunctionMessageChunk')], typing.Annotated[langchain_core.messages.tool.ToolMessageChunk, Tag(tag='ToolMessageChunk')]], FieldInfo(annotation=NoneType, required=True, discriminator=Discriminator(discriminator=<function _get_type at 0x7f247b5dc280>, custom_error_type=None, custom_error_message=None, custom_error_context=None))]], 'agent_scratchpad': list[typing.Annotated[typing.Union[typing.Annotated[langchain_core.messages.ai.AIMessage, Tag(tag='ai')], typing.Annotated[langchain_core.messages.human.HumanMessage, Tag(tag='human')], typing.Annotated[langchain_core.messages.chat.ChatMessage, Tag(tag='chat')], typing.Annotated[langchain_core.messages.system.SystemMessage, Tag(tag='system')], typing.Annotated[langchain_core.messages.function.FunctionMessage, Tag(tag='function')], typing.Annotated[langchain_core.messages.tool.ToolMessage, Tag(tag='tool')], typing.Annotated[langchain_core.messages.ai.AIMessageChunk, Tag(tag='AIMessageChunk')], typing.Annotated[langchain_core.messages.human.HumanMessageChunk, Tag(tag='HumanMessageChunk')], typing.Annotated[langchain_core.messages.chat.ChatMessageChunk, Tag(tag='ChatMessageChunk')], typing.Annotated[langchain_core.messages.system.SystemMessageChunk, Tag(tag='SystemMessageChunk')], typing.Annotated[langchain_core.messages.function.FunctionMessageChunk, Tag(tag='FunctionMessageChunk')], typing.Annotated[langchain_core.messages.tool.ToolMessageChunk, Tag(tag='ToolMessageChunk')]], FieldInfo(annotation=NoneType, required=True, discriminator=Discriminator(discriminator=<function _get_type at 0x7f247b5dc280>, custom_error_type=None, custom_error_message=None, custom_error_context=None))]]}, partial_variables={'chat_history': []}, metadata={'lc_hub_owner': 'hwchase17', 'lc_hub_repo': 'openai-tools-agent', 'lc_hub_commit_hash': 'c18672812789a3b9697656dd539edf0120285dcae36396d0b548ae42a4ed66f5'}, messages=[SystemMessagePromptTemplate(prompt=PromptTemplate(input_variables=[], input_types={}, partial_variables={}, template='You are a helpful assistant'), additional_kwargs={}), MessagesPlaceholder(variable_name='chat_history', optional=True), HumanMessagePromptTemplate(prompt=PromptTemplate(input_variables=['input'], input_types={}, partial_variables={}, template='{input}'), additional_kwargs={}), MessagesPlaceholder(variable_name='agent_scratchpad')])"
            ]
          },
          "metadata": {},
          "execution_count": 38
        }
      ]
    },
    {
      "cell_type": "code",
      "source": [
        "# setup model\n",
        "from langchain_openai import ChatOpenAI\n",
        "\n",
        "\n",
        "## init llm\n",
        "llm = ChatOpenAI(model='gpt-4o-mini', temperature=0)\n",
        "\n",
        "llm.invoke(\"Hello\")"
      ],
      "metadata": {
        "colab": {
          "base_uri": "https://localhost:8080/"
        },
        "id": "aAQNcXC1hJES",
        "outputId": "8a86f5e1-46f6-4b37-8862-076debc6905d"
      },
      "execution_count": 41,
      "outputs": [
        {
          "output_type": "execute_result",
          "data": {
            "text/plain": [
              "AIMessage(content='Hello! How can I assist you today?', additional_kwargs={'refusal': None}, response_metadata={'token_usage': {'completion_tokens': 9, 'prompt_tokens': 8, 'total_tokens': 17, 'completion_tokens_details': {'accepted_prediction_tokens': 0, 'audio_tokens': 0, 'reasoning_tokens': 0, 'rejected_prediction_tokens': 0}, 'prompt_tokens_details': {'audio_tokens': 0, 'cached_tokens': 0}}, 'model_name': 'gpt-4o-mini-2024-07-18', 'system_fingerprint': 'fp_9b78b61c52', 'finish_reason': 'stop', 'logprobs': None}, id='run-949cada9-57f2-4d50-ae15-cc09d095216a-0', usage_metadata={'input_tokens': 8, 'output_tokens': 9, 'total_tokens': 17, 'input_token_details': {'audio': 0, 'cache_read': 0}, 'output_token_details': {'audio': 0, 'reasoning': 0}})"
            ]
          },
          "metadata": {},
          "execution_count": 41
        }
      ]
    },
    {
      "cell_type": "markdown",
      "source": [
        "## Let's look at the combination of `Agent = LLM + Tools`"
      ],
      "metadata": {
        "id": "zs-wTkGBimlY"
      }
    },
    {
      "cell_type": "code",
      "source": [
        "import subprocess\n",
        "from langchain_core.tools import tool\n",
        "\n",
        "@tool\n",
        "def list_files():\n",
        "  \"\"\"List files in current directory\"\"\"\n",
        "  return subprocess.run([\"ls\"], stdout=subprocess.PIPE).stdout.decode(\"utf-8\")\n",
        "\n",
        "\n",
        "list_files.invoke({\"input\": \"\"})"
      ],
      "metadata": {
        "colab": {
          "base_uri": "https://localhost:8080/",
          "height": 35
        },
        "id": "g2PpF2KGhZJS",
        "outputId": "d55f1354-c74b-4a0b-df7b-10b79a9339da"
      },
      "execution_count": 42,
      "outputs": [
        {
          "output_type": "execute_result",
          "data": {
            "text/plain": [
              "'sample_data\\n'"
            ],
            "application/vnd.google.colaboratory.intrinsic+json": {
              "type": "string"
            }
          },
          "metadata": {},
          "execution_count": 42
        }
      ]
    },
    {
      "cell_type": "code",
      "source": [
        "# test this out\n",
        "llm_with_tool = llm.bind_tools([list_files])\n",
        "\n",
        "llm_with_tool"
      ],
      "metadata": {
        "colab": {
          "base_uri": "https://localhost:8080/"
        },
        "id": "QIJ2pW1js-Ix",
        "outputId": "5a1fe9d6-5628-4c7a-b9db-dcbc426c9fbd"
      },
      "execution_count": 43,
      "outputs": [
        {
          "output_type": "execute_result",
          "data": {
            "text/plain": [
              "RunnableBinding(bound=ChatOpenAI(client=<openai.resources.chat.completions.Completions object at 0x7f24acf0bdf0>, async_client=<openai.resources.chat.completions.AsyncCompletions object at 0x7f247a546c80>, root_client=<openai.OpenAI object at 0x7f247a55cca0>, root_async_client=<openai.AsyncOpenAI object at 0x7f24acf09c30>, model_name='gpt-4o-mini', temperature=0.0, model_kwargs={}, openai_api_key=SecretStr('**********')), kwargs={'tools': [{'type': 'function', 'function': {'name': 'list_files', 'description': 'List files in current directory', 'parameters': {'properties': {}, 'type': 'object'}}}]}, config={}, config_factories=[])"
            ]
          },
          "metadata": {},
          "execution_count": 43
        }
      ]
    },
    {
      "cell_type": "markdown",
      "source": [
        "Summary\n",
        "* We can see that we get `RunnableBinding` which binds together 2 functionalities."
      ],
      "metadata": {
        "id": "CxP9iTBGxX76"
      }
    },
    {
      "cell_type": "code",
      "source": [
        "llm_with_tool.invoke(\"List files in current directory\")"
      ],
      "metadata": {
        "colab": {
          "base_uri": "https://localhost:8080/"
        },
        "id": "aCR1U-l1xWdn",
        "outputId": "c0fa3fb6-591d-4e82-85c2-cc9f32dce1f8"
      },
      "execution_count": 45,
      "outputs": [
        {
          "output_type": "execute_result",
          "data": {
            "text/plain": [
              "AIMessage(content='', additional_kwargs={'tool_calls': [{'id': 'call_FrtKrxalzHJBQQsxMkXyEYVl', 'function': {'arguments': '{}', 'name': 'list_files'}, 'type': 'function'}], 'refusal': None}, response_metadata={'token_usage': {'completion_tokens': 10, 'prompt_tokens': 42, 'total_tokens': 52, 'completion_tokens_details': {'accepted_prediction_tokens': 0, 'audio_tokens': 0, 'reasoning_tokens': 0, 'rejected_prediction_tokens': 0}, 'prompt_tokens_details': {'audio_tokens': 0, 'cached_tokens': 0}}, 'model_name': 'gpt-4o-mini-2024-07-18', 'system_fingerprint': 'fp_0ba0d124f1', 'finish_reason': 'tool_calls', 'logprobs': None}, id='run-3c2e3016-1ae9-4c60-9c4e-d241dcb31e3d-0', tool_calls=[{'name': 'list_files', 'args': {}, 'id': 'call_FrtKrxalzHJBQQsxMkXyEYVl', 'type': 'tool_call'}], usage_metadata={'input_tokens': 42, 'output_tokens': 10, 'total_tokens': 52, 'input_token_details': {'audio': 0, 'cache_read': 0}, 'output_token_details': {'audio': 0, 'reasoning': 0}})"
            ]
          },
          "metadata": {},
          "execution_count": 45
        }
      ]
    },
    {
      "cell_type": "markdown",
      "source": [
        "Summary:\n",
        "* We get \"tool calls\". So the model knows we need to call a tool."
      ],
      "metadata": {
        "id": "QUgOifkxzeKp"
      }
    },
    {
      "cell_type": "code",
      "source": [
        "## we can build a tool here\n",
        "dictionary_with_tool_names = {\n",
        "    \"list_files\": list_files,\n",
        "}\n",
        "\n",
        "output = llm_with_tool.invoke(\"List files in current directory\")\n",
        "\n",
        "# call tool\n",
        "if output.tool_calls:\n",
        "  for tool_call in output.tool_calls:\n",
        "    tool_name = tool_call[\"name\"]\n",
        "    tool_args = tool_call['args'] # tool call arguments\n",
        "    tool_func = dictionary_with_tool_names[tool_name]\n",
        "    print(tool_func.invoke(tool_args)) #print to make sure it works\n",
        "\n"
      ],
      "metadata": {
        "colab": {
          "base_uri": "https://localhost:8080/"
        },
        "id": "vM1WfRMEzZ4U",
        "outputId": "d2b368ea-885a-4c35-b948-3a2f16962150"
      },
      "execution_count": 47,
      "outputs": [
        {
          "output_type": "stream",
          "name": "stdout",
          "text": [
            "sample_data\n",
            "\n"
          ]
        }
      ]
    },
    {
      "cell_type": "markdown",
      "source": [
        "Summary\n",
        "* The tool was able to print out all the current files in my current folder/directory."
      ],
      "metadata": {
        "id": "zjVlCedF0dtT"
      }
    },
    {
      "cell_type": "markdown",
      "source": [
        "# Now we can create an actual agent using LangChain"
      ],
      "metadata": {
        "id": "TLV9xvry0m-6"
      }
    },
    {
      "cell_type": "code",
      "source": [
        "from langchain.agents import create_tool_calling_agent, AgentExecutor #executes agent loop\n"
      ],
      "metadata": {
        "id": "nWFusfaTz8Xe"
      },
      "execution_count": 48,
      "outputs": []
    },
    {
      "cell_type": "code",
      "source": [
        "# now we can list our tools\n",
        "tools = [list_files]\n",
        "\n",
        "# setup agent\n",
        "agent = create_tool_calling_agent(llm, tools, prompt_agent)\n",
        "agent_executor = AgentExecutor(agent=agent, tools=tools, verbose=True) #visualize agent setps\n"
      ],
      "metadata": {
        "id": "MeXeOa0SDY93"
      },
      "execution_count": 50,
      "outputs": []
    },
    {
      "cell_type": "code",
      "source": [
        "## test out the tools\n",
        "agent_executor.invoke({'input': \"List files in current directory\"})"
      ],
      "metadata": {
        "colab": {
          "base_uri": "https://localhost:8080/"
        },
        "id": "AVmjrgj7Dr1v",
        "outputId": "3fc1c440-d2a7-4d26-e13a-95b44386b26e"
      },
      "execution_count": 51,
      "outputs": [
        {
          "output_type": "stream",
          "name": "stdout",
          "text": [
            "\n",
            "\n",
            "\u001b[1m> Entering new AgentExecutor chain...\u001b[0m\n",
            "\u001b[32;1m\u001b[1;3m\n",
            "Invoking: `list_files` with `{}`\n",
            "\n",
            "\n",
            "\u001b[0m\u001b[36;1m\u001b[1;3msample_data\n",
            "\u001b[0m\u001b[32;1m\u001b[1;3mThe current directory contains the following file or folder: **sample_data**.\u001b[0m\n",
            "\n",
            "\u001b[1m> Finished chain.\u001b[0m\n"
          ]
        },
        {
          "output_type": "execute_result",
          "data": {
            "text/plain": [
              "{'input': 'List files in current directory',\n",
              " 'output': 'The current directory contains the following file or folder: **sample_data**.'}"
            ]
          },
          "metadata": {},
          "execution_count": 51
        }
      ]
    },
    {
      "cell_type": "markdown",
      "source": [
        "## Give model ability to search web"
      ],
      "metadata": {
        "id": "auAaMcS0E11X"
      }
    },
    {
      "cell_type": "code",
      "source": [
        "!pip install langchain_community"
      ],
      "metadata": {
        "colab": {
          "base_uri": "https://localhost:8080/"
        },
        "id": "fD62e9pdE-I6",
        "outputId": "5109e858-0ea9-4760-f253-604d2ca10755"
      },
      "execution_count": 53,
      "outputs": [
        {
          "output_type": "stream",
          "name": "stdout",
          "text": [
            "Collecting langchain_community\n",
            "  Downloading langchain_community-0.3.7-py3-none-any.whl.metadata (2.9 kB)\n",
            "Requirement already satisfied: PyYAML>=5.3 in /usr/local/lib/python3.10/dist-packages (from langchain_community) (6.0.2)\n",
            "Collecting SQLAlchemy<2.0.36,>=1.4 (from langchain_community)\n",
            "  Downloading SQLAlchemy-2.0.35-cp310-cp310-manylinux_2_17_x86_64.manylinux2014_x86_64.whl.metadata (9.6 kB)\n",
            "Requirement already satisfied: aiohttp<4.0.0,>=3.8.3 in /usr/local/lib/python3.10/dist-packages (from langchain_community) (3.10.10)\n",
            "Collecting dataclasses-json<0.7,>=0.5.7 (from langchain_community)\n",
            "  Downloading dataclasses_json-0.6.7-py3-none-any.whl.metadata (25 kB)\n",
            "Collecting httpx-sse<0.5.0,>=0.4.0 (from langchain_community)\n",
            "  Downloading httpx_sse-0.4.0-py3-none-any.whl.metadata (9.0 kB)\n",
            "Requirement already satisfied: langchain<0.4.0,>=0.3.7 in /usr/local/lib/python3.10/dist-packages (from langchain_community) (0.3.7)\n",
            "Requirement already satisfied: langchain-core<0.4.0,>=0.3.17 in /usr/local/lib/python3.10/dist-packages (from langchain_community) (0.3.19)\n",
            "Requirement already satisfied: langsmith<0.2.0,>=0.1.125 in /usr/local/lib/python3.10/dist-packages (from langchain_community) (0.1.142)\n",
            "Requirement already satisfied: numpy<2,>=1 in /usr/local/lib/python3.10/dist-packages (from langchain_community) (1.26.4)\n",
            "Collecting pydantic-settings<3.0.0,>=2.4.0 (from langchain_community)\n",
            "  Downloading pydantic_settings-2.6.1-py3-none-any.whl.metadata (3.5 kB)\n",
            "Requirement already satisfied: requests<3,>=2 in /usr/local/lib/python3.10/dist-packages (from langchain_community) (2.32.3)\n",
            "Requirement already satisfied: tenacity!=8.4.0,<10,>=8.1.0 in /usr/local/lib/python3.10/dist-packages (from langchain_community) (9.0.0)\n",
            "Requirement already satisfied: aiohappyeyeballs>=2.3.0 in /usr/local/lib/python3.10/dist-packages (from aiohttp<4.0.0,>=3.8.3->langchain_community) (2.4.3)\n",
            "Requirement already satisfied: aiosignal>=1.1.2 in /usr/local/lib/python3.10/dist-packages (from aiohttp<4.0.0,>=3.8.3->langchain_community) (1.3.1)\n",
            "Requirement already satisfied: attrs>=17.3.0 in /usr/local/lib/python3.10/dist-packages (from aiohttp<4.0.0,>=3.8.3->langchain_community) (24.2.0)\n",
            "Requirement already satisfied: frozenlist>=1.1.1 in /usr/local/lib/python3.10/dist-packages (from aiohttp<4.0.0,>=3.8.3->langchain_community) (1.5.0)\n",
            "Requirement already satisfied: multidict<7.0,>=4.5 in /usr/local/lib/python3.10/dist-packages (from aiohttp<4.0.0,>=3.8.3->langchain_community) (6.1.0)\n",
            "Requirement already satisfied: yarl<2.0,>=1.12.0 in /usr/local/lib/python3.10/dist-packages (from aiohttp<4.0.0,>=3.8.3->langchain_community) (1.17.1)\n",
            "Requirement already satisfied: async-timeout<5.0,>=4.0 in /usr/local/lib/python3.10/dist-packages (from aiohttp<4.0.0,>=3.8.3->langchain_community) (4.0.3)\n",
            "Collecting marshmallow<4.0.0,>=3.18.0 (from dataclasses-json<0.7,>=0.5.7->langchain_community)\n",
            "  Downloading marshmallow-3.23.1-py3-none-any.whl.metadata (7.5 kB)\n",
            "Collecting typing-inspect<1,>=0.4.0 (from dataclasses-json<0.7,>=0.5.7->langchain_community)\n",
            "  Downloading typing_inspect-0.9.0-py3-none-any.whl.metadata (1.5 kB)\n",
            "Requirement already satisfied: langchain-text-splitters<0.4.0,>=0.3.0 in /usr/local/lib/python3.10/dist-packages (from langchain<0.4.0,>=0.3.7->langchain_community) (0.3.2)\n",
            "Requirement already satisfied: pydantic<3.0.0,>=2.7.4 in /usr/local/lib/python3.10/dist-packages (from langchain<0.4.0,>=0.3.7->langchain_community) (2.9.2)\n",
            "Requirement already satisfied: jsonpatch<2.0,>=1.33 in /usr/local/lib/python3.10/dist-packages (from langchain-core<0.4.0,>=0.3.17->langchain_community) (1.33)\n",
            "Requirement already satisfied: packaging<25,>=23.2 in /usr/local/lib/python3.10/dist-packages (from langchain-core<0.4.0,>=0.3.17->langchain_community) (24.2)\n",
            "Requirement already satisfied: typing-extensions>=4.7 in /usr/local/lib/python3.10/dist-packages (from langchain-core<0.4.0,>=0.3.17->langchain_community) (4.12.2)\n",
            "Requirement already satisfied: httpx<1,>=0.23.0 in /usr/local/lib/python3.10/dist-packages (from langsmith<0.2.0,>=0.1.125->langchain_community) (0.27.2)\n",
            "Requirement already satisfied: orjson<4.0.0,>=3.9.14 in /usr/local/lib/python3.10/dist-packages (from langsmith<0.2.0,>=0.1.125->langchain_community) (3.10.11)\n",
            "Requirement already satisfied: requests-toolbelt<2.0.0,>=1.0.0 in /usr/local/lib/python3.10/dist-packages (from langsmith<0.2.0,>=0.1.125->langchain_community) (1.0.0)\n",
            "Collecting python-dotenv>=0.21.0 (from pydantic-settings<3.0.0,>=2.4.0->langchain_community)\n",
            "  Downloading python_dotenv-1.0.1-py3-none-any.whl.metadata (23 kB)\n",
            "Requirement already satisfied: charset-normalizer<4,>=2 in /usr/local/lib/python3.10/dist-packages (from requests<3,>=2->langchain_community) (3.4.0)\n",
            "Requirement already satisfied: idna<4,>=2.5 in /usr/local/lib/python3.10/dist-packages (from requests<3,>=2->langchain_community) (3.10)\n",
            "Requirement already satisfied: urllib3<3,>=1.21.1 in /usr/local/lib/python3.10/dist-packages (from requests<3,>=2->langchain_community) (2.2.3)\n",
            "Requirement already satisfied: certifi>=2017.4.17 in /usr/local/lib/python3.10/dist-packages (from requests<3,>=2->langchain_community) (2024.8.30)\n",
            "Requirement already satisfied: greenlet!=0.4.17 in /usr/local/lib/python3.10/dist-packages (from SQLAlchemy<2.0.36,>=1.4->langchain_community) (3.1.1)\n",
            "Requirement already satisfied: anyio in /usr/local/lib/python3.10/dist-packages (from httpx<1,>=0.23.0->langsmith<0.2.0,>=0.1.125->langchain_community) (3.7.1)\n",
            "Requirement already satisfied: httpcore==1.* in /usr/local/lib/python3.10/dist-packages (from httpx<1,>=0.23.0->langsmith<0.2.0,>=0.1.125->langchain_community) (1.0.6)\n",
            "Requirement already satisfied: sniffio in /usr/local/lib/python3.10/dist-packages (from httpx<1,>=0.23.0->langsmith<0.2.0,>=0.1.125->langchain_community) (1.3.1)\n",
            "Requirement already satisfied: h11<0.15,>=0.13 in /usr/local/lib/python3.10/dist-packages (from httpcore==1.*->httpx<1,>=0.23.0->langsmith<0.2.0,>=0.1.125->langchain_community) (0.14.0)\n",
            "Requirement already satisfied: jsonpointer>=1.9 in /usr/local/lib/python3.10/dist-packages (from jsonpatch<2.0,>=1.33->langchain-core<0.4.0,>=0.3.17->langchain_community) (3.0.0)\n",
            "Requirement already satisfied: annotated-types>=0.6.0 in /usr/local/lib/python3.10/dist-packages (from pydantic<3.0.0,>=2.7.4->langchain<0.4.0,>=0.3.7->langchain_community) (0.7.0)\n",
            "Requirement already satisfied: pydantic-core==2.23.4 in /usr/local/lib/python3.10/dist-packages (from pydantic<3.0.0,>=2.7.4->langchain<0.4.0,>=0.3.7->langchain_community) (2.23.4)\n",
            "Collecting mypy-extensions>=0.3.0 (from typing-inspect<1,>=0.4.0->dataclasses-json<0.7,>=0.5.7->langchain_community)\n",
            "  Downloading mypy_extensions-1.0.0-py3-none-any.whl.metadata (1.1 kB)\n",
            "Requirement already satisfied: propcache>=0.2.0 in /usr/local/lib/python3.10/dist-packages (from yarl<2.0,>=1.12.0->aiohttp<4.0.0,>=3.8.3->langchain_community) (0.2.0)\n",
            "Requirement already satisfied: exceptiongroup in /usr/local/lib/python3.10/dist-packages (from anyio->httpx<1,>=0.23.0->langsmith<0.2.0,>=0.1.125->langchain_community) (1.2.2)\n",
            "Downloading langchain_community-0.3.7-py3-none-any.whl (2.4 MB)\n",
            "\u001b[2K   \u001b[90m━━━━━━━━━━━━━━━━━━━━━━━━━━━━━━━━━━━━━━━━\u001b[0m \u001b[32m2.4/2.4 MB\u001b[0m \u001b[31m40.5 MB/s\u001b[0m eta \u001b[36m0:00:00\u001b[0m\n",
            "\u001b[?25hDownloading dataclasses_json-0.6.7-py3-none-any.whl (28 kB)\n",
            "Downloading httpx_sse-0.4.0-py3-none-any.whl (7.8 kB)\n",
            "Downloading pydantic_settings-2.6.1-py3-none-any.whl (28 kB)\n",
            "Downloading SQLAlchemy-2.0.35-cp310-cp310-manylinux_2_17_x86_64.manylinux2014_x86_64.whl (3.1 MB)\n",
            "\u001b[2K   \u001b[90m━━━━━━━━━━━━━━━━━━━━━━━━━━━━━━━━━━━━━━━━\u001b[0m \u001b[32m3.1/3.1 MB\u001b[0m \u001b[31m81.1 MB/s\u001b[0m eta \u001b[36m0:00:00\u001b[0m\n",
            "\u001b[?25hDownloading marshmallow-3.23.1-py3-none-any.whl (49 kB)\n",
            "\u001b[2K   \u001b[90m━━━━━━━━━━━━━━━━━━━━━━━━━━━━━━━━━━━━━━━━\u001b[0m \u001b[32m49.5/49.5 kB\u001b[0m \u001b[31m4.5 MB/s\u001b[0m eta \u001b[36m0:00:00\u001b[0m\n",
            "\u001b[?25hDownloading python_dotenv-1.0.1-py3-none-any.whl (19 kB)\n",
            "Downloading typing_inspect-0.9.0-py3-none-any.whl (8.8 kB)\n",
            "Downloading mypy_extensions-1.0.0-py3-none-any.whl (4.7 kB)\n",
            "Installing collected packages: SQLAlchemy, python-dotenv, mypy-extensions, marshmallow, httpx-sse, typing-inspect, pydantic-settings, dataclasses-json, langchain_community\n",
            "  Attempting uninstall: SQLAlchemy\n",
            "    Found existing installation: SQLAlchemy 2.0.36\n",
            "    Uninstalling SQLAlchemy-2.0.36:\n",
            "      Successfully uninstalled SQLAlchemy-2.0.36\n",
            "Successfully installed SQLAlchemy-2.0.35 dataclasses-json-0.6.7 httpx-sse-0.4.0 langchain_community-0.3.7 marshmallow-3.23.1 mypy-extensions-1.0.0 pydantic-settings-2.6.1 python-dotenv-1.0.1 typing-inspect-0.9.0\n"
          ]
        }
      ]
    },
    {
      "cell_type": "code",
      "source": [
        "from langchain_community.tools import TavilySearchResults\n",
        "\n",
        "\n",
        "from getpass import getpass\n",
        "\n",
        "TAVILY_API_KEY = getpass('Enter your Tavily API key: ')"
      ],
      "metadata": {
        "colab": {
          "base_uri": "https://localhost:8080/"
        },
        "id": "kC4bVtepD2qi",
        "outputId": "40ce409b-2999-42e9-8dbc-97640a048882"
      },
      "execution_count": 54,
      "outputs": [
        {
          "name": "stdout",
          "output_type": "stream",
          "text": [
            "Enter your Tavily API key: ··········\n"
          ]
        }
      ]
    },
    {
      "cell_type": "code",
      "source": [
        "#setup environment\n",
        "import os\n",
        "\n",
        "os.environ['TAVILY_API_KEY'] = TAVILY_API_KEY"
      ],
      "metadata": {
        "id": "Ri7IcS71E7vK"
      },
      "execution_count": 55,
      "outputs": []
    },
    {
      "cell_type": "code",
      "source": [
        "# setup search tool\n",
        "search_tool = TavilySearchResults(\n",
        "    max_results=5,\n",
        "    search_depth=\"advanced\",\n",
        "    include_answer=True,\n",
        ")\n",
        "\n",
        "# invoke tool\n",
        "search_tool.invoke(\"What is the capital of Colorado?\")"
      ],
      "metadata": {
        "colab": {
          "base_uri": "https://localhost:8080/"
        },
        "id": "Id85qv36FU3t",
        "outputId": "ef7867e2-dcd1-498e-8a21-92501032e6bd"
      },
      "execution_count": 58,
      "outputs": [
        {
          "output_type": "execute_result",
          "data": {
            "text/plain": [
              "[{'url': 'https://www.geeksforgeeks.org/what-is-the-capital-of-colorado/',\n",
              "  'content': 'Answer: The capital of Colorado is Denver. Denver, the capital of Colorado, is a vibrant city that combines the charm of the Old West with the sophistication of a modern metropolis. Nestled at the foot of the Rocky Mountains, Denver is known for its stunning natural beauty, outdoor recreation opportunities, and dynamic cultural scene.'},\n",
              " {'url': 'https://www.ncesc.com/geographic-faq/what-is-the-capital-of-colorado-in-english/',\n",
              "  'content': 'The capital of Colorado is Denver, which is the largest city in the state. It is located on the South Platte River at its confluence with Cherry Creek, about 12 miles east of the foothills of the Rocky Mountains.'},\n",
              " {'url': 'https://en.wikipedia.org/wiki/Colorado',\n",
              "  'content': 'The Spanish adjective \"colorado\" means \"colored red\" or \"ruddy\". Colorado is nicknamed the \"Centennial State\" because it became a state 100 years (and four weeks) after the signing of the United States Declaration of Independence. Denver is the capital, the most populous city, and the center of the Front Range Urban Corridor.'},\n",
              " {'url': 'https://www.britannica.com/place/Colorado-state',\n",
              "  'content': \"Geographical and historical treatment of Colorado, including maps and a survey of its people, economy, and government. Colorado's history is written in the names of its cities, towns, mountain ranges, and passes. ... to the west. Colorado was admitted to the union on August 1, 1876, as the 38th state. The capital is Denver. Denver, Colorado\"},\n",
              " {'url': 'https://www.britannica.com/place/Denver',\n",
              "  'content': 'The city is the seat of the University of Denver (1864), Regis University (1877), Iliff School of Theology (1892), Metropolitan State University of Denver (1965), and a branch campus and the Health Sciences Center of the University of Colorado. Music and theatre events are held at the Red Rocks Park and Amphitheatre, an outdoor venue in the foothills just west of the city, and the Denver Performing Arts Complex is the home of the state ballet, opera, and symphony orchestra. The contemporary city\\nThe present-day Denver metropolitan area spreads well into the foothills to the west of the city and the high plains surrounding it on the other three sides. City attractions include the Black American West Museum and Heritage Center, the Colorado History Museum, the Denver Museum of Nature and Science, MCA (Museum of Contemporary Art) Denver, and the Denver Botanic Gardens. Recent News\\nDenver,\\ncity and county, capital of Colorado, U.S., at the western edge of the Great Plains, just east of the Front Range of the Rocky Mountains.'}]"
            ]
          },
          "metadata": {},
          "execution_count": 58
        }
      ]
    },
    {
      "cell_type": "code",
      "source": [
        "# create tool to create files in current directory\n",
        "@tool\n",
        "def create_file(file_path: str, content: str):\n",
        "  \"\"\"Create a file with the given content\"\"\"\n",
        "  with open(file_path, 'w') as f:\n",
        "    f.write(content)\n",
        "  return f\"File created at {file_path} with content: {content}\"\n",
        "\n",
        "\n",
        "# add to tools list\n",
        "tools = [create_file, search_tool]\n",
        "\n"
      ],
      "metadata": {
        "id": "3vKjdcvnFmni"
      },
      "execution_count": 59,
      "outputs": []
    },
    {
      "cell_type": "markdown",
      "source": [
        "Summary:\n",
        "* Now we have 2 tools and can build a useful agent."
      ],
      "metadata": {
        "id": "J9ScNCY2GY3r"
      }
    },
    {
      "cell_type": "code",
      "source": [
        "## create simple research agent\n",
        "simple_research_agent = create_tool_calling_agent(llm, tools, prompt_agent)\n",
        "\n",
        "# setup executor\n",
        "simple_research_agent_executor = AgentExecutor(agent=simple_research_agent,\n",
        "                                               tools=tools,\n",
        "                                               verbose=True)\n",
        "\n",
        "\n",
        "# print executor\n",
        "simple_research_agent_executor"
      ],
      "metadata": {
        "colab": {
          "base_uri": "https://localhost:8080/"
        },
        "id": "KndBcup5GXg-",
        "outputId": "8120ca86-db54-4232-b780-8d4540313833"
      },
      "execution_count": 60,
      "outputs": [
        {
          "output_type": "execute_result",
          "data": {
            "text/plain": [
              "AgentExecutor(verbose=True, agent=RunnableMultiActionAgent(runnable=RunnableAssign(mapper={\n",
              "  agent_scratchpad: RunnableLambda(lambda x: message_formatter(x['intermediate_steps']))\n",
              "})\n",
              "| ChatPromptTemplate(input_variables=['agent_scratchpad', 'input'], optional_variables=['chat_history'], input_types={'chat_history': list[typing.Annotated[typing.Union[typing.Annotated[langchain_core.messages.ai.AIMessage, Tag(tag='ai')], typing.Annotated[langchain_core.messages.human.HumanMessage, Tag(tag='human')], typing.Annotated[langchain_core.messages.chat.ChatMessage, Tag(tag='chat')], typing.Annotated[langchain_core.messages.system.SystemMessage, Tag(tag='system')], typing.Annotated[langchain_core.messages.function.FunctionMessage, Tag(tag='function')], typing.Annotated[langchain_core.messages.tool.ToolMessage, Tag(tag='tool')], typing.Annotated[langchain_core.messages.ai.AIMessageChunk, Tag(tag='AIMessageChunk')], typing.Annotated[langchain_core.messages.human.HumanMessageChunk, Tag(tag='HumanMessageChunk')], typing.Annotated[langchain_core.messages.chat.ChatMessageChunk, Tag(tag='ChatMessageChunk')], typing.Annotated[langchain_core.messages.system.SystemMessageChunk, Tag(tag='SystemMessageChunk')], typing.Annotated[langchain_core.messages.function.FunctionMessageChunk, Tag(tag='FunctionMessageChunk')], typing.Annotated[langchain_core.messages.tool.ToolMessageChunk, Tag(tag='ToolMessageChunk')]], FieldInfo(annotation=NoneType, required=True, discriminator=Discriminator(discriminator=<function _get_type at 0x7f247b5dc280>, custom_error_type=None, custom_error_message=None, custom_error_context=None))]], 'agent_scratchpad': list[typing.Annotated[typing.Union[typing.Annotated[langchain_core.messages.ai.AIMessage, Tag(tag='ai')], typing.Annotated[langchain_core.messages.human.HumanMessage, Tag(tag='human')], typing.Annotated[langchain_core.messages.chat.ChatMessage, Tag(tag='chat')], typing.Annotated[langchain_core.messages.system.SystemMessage, Tag(tag='system')], typing.Annotated[langchain_core.messages.function.FunctionMessage, Tag(tag='function')], typing.Annotated[langchain_core.messages.tool.ToolMessage, Tag(tag='tool')], typing.Annotated[langchain_core.messages.ai.AIMessageChunk, Tag(tag='AIMessageChunk')], typing.Annotated[langchain_core.messages.human.HumanMessageChunk, Tag(tag='HumanMessageChunk')], typing.Annotated[langchain_core.messages.chat.ChatMessageChunk, Tag(tag='ChatMessageChunk')], typing.Annotated[langchain_core.messages.system.SystemMessageChunk, Tag(tag='SystemMessageChunk')], typing.Annotated[langchain_core.messages.function.FunctionMessageChunk, Tag(tag='FunctionMessageChunk')], typing.Annotated[langchain_core.messages.tool.ToolMessageChunk, Tag(tag='ToolMessageChunk')]], FieldInfo(annotation=NoneType, required=True, discriminator=Discriminator(discriminator=<function _get_type at 0x7f247b5dc280>, custom_error_type=None, custom_error_message=None, custom_error_context=None))]]}, partial_variables={'chat_history': []}, metadata={'lc_hub_owner': 'hwchase17', 'lc_hub_repo': 'openai-tools-agent', 'lc_hub_commit_hash': 'c18672812789a3b9697656dd539edf0120285dcae36396d0b548ae42a4ed66f5'}, messages=[SystemMessagePromptTemplate(prompt=PromptTemplate(input_variables=[], input_types={}, partial_variables={}, template='You are a helpful assistant'), additional_kwargs={}), MessagesPlaceholder(variable_name='chat_history', optional=True), HumanMessagePromptTemplate(prompt=PromptTemplate(input_variables=['input'], input_types={}, partial_variables={}, template='{input}'), additional_kwargs={}), MessagesPlaceholder(variable_name='agent_scratchpad')])\n",
              "| RunnableBinding(bound=ChatOpenAI(client=<openai.resources.chat.completions.Completions object at 0x7f24acf0bdf0>, async_client=<openai.resources.chat.completions.AsyncCompletions object at 0x7f247a546c80>, root_client=<openai.OpenAI object at 0x7f247a55cca0>, root_async_client=<openai.AsyncOpenAI object at 0x7f24acf09c30>, model_name='gpt-4o-mini', temperature=0.0, model_kwargs={}, openai_api_key=SecretStr('**********')), kwargs={'tools': [{'type': 'function', 'function': {'name': 'create_file', 'description': 'Create a file with the given content', 'parameters': {'properties': {'file_path': {'type': 'string'}, 'content': {'type': 'string'}}, 'required': ['file_path', 'content'], 'type': 'object'}}}, {'type': 'function', 'function': {'name': 'tavily_search_results_json', 'description': 'A search engine optimized for comprehensive, accurate, and trusted results. Useful for when you need to answer questions about current events. Input should be a search query.', 'parameters': {'properties': {'query': {'description': 'search query to look up', 'type': 'string'}}, 'required': ['query'], 'type': 'object'}}}]}, config={}, config_factories=[])\n",
              "| ToolsAgentOutputParser(), input_keys_arg=[], return_keys_arg=[], stream_runnable=True), tools=[StructuredTool(name='create_file', description='Create a file with the given content', args_schema=<class 'langchain_core.utils.pydantic.create_file'>, func=<function create_file at 0x7f247b53f370>), TavilySearchResults(include_answer=True, api_wrapper=TavilySearchAPIWrapper(tavily_api_key=SecretStr('**********')))])"
            ]
          },
          "metadata": {},
          "execution_count": 60
        }
      ]
    },
    {
      "cell_type": "code",
      "source": [
        "from IPython.display import Markdown\n",
        "\n",
        "# produce report with research agent\n",
        "output_report = simple_research_agent_executor.invoke({'input': 'Write a summarized report about the main highlights of the 2024 Paris Summer Olympics, and save it locally as \"report-olympics-2024.md\"'})\n",
        "\n",
        "# view result\n",
        "Markdown(output_report['output'])"
      ],
      "metadata": {
        "colab": {
          "base_uri": "https://localhost:8080/",
          "height": 691
        },
        "id": "I27uIlApG0ds",
        "outputId": "1ec72515-3254-474b-b1fc-bb3b1f8368d6"
      },
      "execution_count": 62,
      "outputs": [
        {
          "output_type": "stream",
          "name": "stdout",
          "text": [
            "\n",
            "\n",
            "\u001b[1m> Entering new AgentExecutor chain...\u001b[0m\n",
            "\u001b[32;1m\u001b[1;3m\n",
            "Invoking: `tavily_search_results_json` with `{'query': '2024 Paris Summer Olympics highlights'}`\n",
            "\n",
            "\n",
            "\u001b[0m\u001b[33;1m\u001b[1;3m[{'url': 'https://www.nydailynews.com/2024/07/28/paris-summer-olympics-2024-highlights/', 'content': 'From gymnastics and swimming to track and field and basketball, catch up on all the highlights from Paris 2024. The Summer Olympic Games will take place in Paris, France from July 26 to Aug. 11, 20…'}, {'url': 'https://www.foxsports.com/summer-olympics/highlights', 'content': 'Watch 2024 Paris Summer Olympics videos & highlights spanning all the events.'}, {'url': 'https://olympics.com/en/paris-2024/videos', 'content': \"Official video source for the Paris 2024 Summer Olympic Games. Follow today's top video, get the latest results and witness medal-winning moments. ... View all. WATCH MORE. All Videos. Replays. Highlights. Originals series. La Grande Seine Tennis Doubles Trouble OQS Last Chance to Paris Breaking Breaking Life, Road to Paris 2024. Athletes To\"}, {'url': 'https://olympics.com/en/paris-2024/videos/list', 'content': \"Experience the excitement of the Paris 2024 Games with daily sports highlights that capture the most thrilling moments from each day of competition. Relive iconic victories, unforgettable performances, and the intensity of the world's top athletes as they go for gold. This collection brings you the best of the Games, day by day.\"}, {'url': 'https://www.youtube.com/playlist?list=PLyIUuPts9_V2zwF2vnbNal5vCNB3tLwC4', 'content': '🏅 **Welcome to the 2024 Olympics Highlights Playlist!** 🏅 Dive into the most exciting moments, key games, and standout performances from the Paris 2024 Summe'}]\u001b[0m\u001b[32;1m\u001b[1;3m\n",
            "Invoking: `create_file` with `{'file_path': 'report-olympics-2024.md', 'content': \"# Highlights of the 2024 Paris Summer Olympics\\n\\nThe 2024 Summer Olympics, hosted in Paris, France, will take place from July 26 to August 11, 2024. Here are the main highlights expected from this prestigious event:\\n\\n## Key Dates and Events\\n- **Opening Ceremony:** July 26, 2024\\n- **Closing Ceremony:** August 11, 2024\\n- The Games will feature a wide array of sports, including gymnastics, swimming, track and field, and basketball.\\n\\n## Notable Features\\n- **Iconic Venues:** Events will be held in historic locations across Paris, including the Stade de France and the iconic Eiffel Tower.\\n- **Sustainability Initiatives:** The Paris 2024 Games are set to be the most sustainable Olympics yet, with a focus on reducing carbon emissions and promoting eco-friendly practices.\\n\\n## Athletes to Watch\\n- Expect to see top athletes from around the world competing for gold, with many returning from previous Olympic Games.\\n- New talents are also anticipated to emerge, showcasing the future of sports.\\n\\n## Cultural Impact\\n- The Games will not only highlight athletic excellence but also celebrate French culture and heritage, with various cultural events planned throughout the duration of the Olympics.\\n\\n## Conclusion\\nThe 2024 Paris Summer Olympics promise to be a spectacular event, combining sports, culture, and sustainability in one of the world's most beautiful cities. Stay tuned for daily highlights and memorable moments as the Games unfold.\"}`\n",
            "\n",
            "\n",
            "\u001b[0m\u001b[36;1m\u001b[1;3mFile created at report-olympics-2024.md with content: # Highlights of the 2024 Paris Summer Olympics\n",
            "\n",
            "The 2024 Summer Olympics, hosted in Paris, France, will take place from July 26 to August 11, 2024. Here are the main highlights expected from this prestigious event:\n",
            "\n",
            "## Key Dates and Events\n",
            "- **Opening Ceremony:** July 26, 2024\n",
            "- **Closing Ceremony:** August 11, 2024\n",
            "- The Games will feature a wide array of sports, including gymnastics, swimming, track and field, and basketball.\n",
            "\n",
            "## Notable Features\n",
            "- **Iconic Venues:** Events will be held in historic locations across Paris, including the Stade de France and the iconic Eiffel Tower.\n",
            "- **Sustainability Initiatives:** The Paris 2024 Games are set to be the most sustainable Olympics yet, with a focus on reducing carbon emissions and promoting eco-friendly practices.\n",
            "\n",
            "## Athletes to Watch\n",
            "- Expect to see top athletes from around the world competing for gold, with many returning from previous Olympic Games.\n",
            "- New talents are also anticipated to emerge, showcasing the future of sports.\n",
            "\n",
            "## Cultural Impact\n",
            "- The Games will not only highlight athletic excellence but also celebrate French culture and heritage, with various cultural events planned throughout the duration of the Olympics.\n",
            "\n",
            "## Conclusion\n",
            "The 2024 Paris Summer Olympics promise to be a spectacular event, combining sports, culture, and sustainability in one of the world's most beautiful cities. Stay tuned for daily highlights and memorable moments as the Games unfold.\u001b[0m\u001b[32;1m\u001b[1;3mThe report on the main highlights of the 2024 Paris Summer Olympics has been successfully created and saved as \"report-olympics-2024.md\". If you need any further assistance or modifications, feel free to ask!\u001b[0m\n",
            "\n",
            "\u001b[1m> Finished chain.\u001b[0m\n"
          ]
        },
        {
          "output_type": "execute_result",
          "data": {
            "text/plain": [
              "<IPython.core.display.Markdown object>"
            ],
            "text/markdown": "The report on the main highlights of the 2024 Paris Summer Olympics has been successfully created and saved as \"report-olympics-2024.md\". If you need any further assistance or modifications, feel free to ask!"
          },
          "metadata": {},
          "execution_count": 62
        }
      ]
    },
    {
      "cell_type": "code",
      "source": [
        "## now open the research file that was created\n",
        "with open('/content/report-olympics-2024.md', 'r') as f:\n",
        "  content_report = f.read()\n",
        "\n",
        "#view report\n",
        "Markdown(content_report)"
      ],
      "metadata": {
        "colab": {
          "base_uri": "https://localhost:8080/",
          "height": 642
        },
        "id": "HUclsmzxHrDQ",
        "outputId": "c7c8c31d-6bc6-469d-d0b2-d4bb2ac15358"
      },
      "execution_count": 63,
      "outputs": [
        {
          "output_type": "execute_result",
          "data": {
            "text/plain": [
              "<IPython.core.display.Markdown object>"
            ],
            "text/markdown": "# Highlights of the 2024 Paris Summer Olympics\n\nThe 2024 Summer Olympics, hosted in Paris, France, will take place from July 26 to August 11, 2024. Here are the main highlights expected from this prestigious event:\n\n## Key Dates and Events\n- **Opening Ceremony:** July 26, 2024\n- **Closing Ceremony:** August 11, 2024\n- The Games will feature a wide array of sports, including gymnastics, swimming, track and field, and basketball.\n\n## Notable Features\n- **Iconic Venues:** Events will be held in historic locations across Paris, including the Stade de France and the iconic Eiffel Tower.\n- **Sustainability Initiatives:** The Paris 2024 Games are set to be the most sustainable Olympics yet, with a focus on reducing carbon emissions and promoting eco-friendly practices.\n\n## Athletes to Watch\n- Expect to see top athletes from around the world competing for gold, with many returning from previous Olympic Games.\n- New talents are also anticipated to emerge, showcasing the future of sports.\n\n## Cultural Impact\n- The Games will not only highlight athletic excellence but also celebrate French culture and heritage, with various cultural events planned throughout the duration of the Olympics.\n\n## Conclusion\nThe 2024 Paris Summer Olympics promise to be a spectacular event, combining sports, culture, and sustainability in one of the world's most beautiful cities. Stay tuned for daily highlights and memorable moments as the Games unfold."
          },
          "metadata": {},
          "execution_count": 63
        }
      ]
    },
    {
      "cell_type": "code",
      "source": [],
      "metadata": {
        "id": "9arnsChHIO-I"
      },
      "execution_count": null,
      "outputs": []
    }
  ]
}