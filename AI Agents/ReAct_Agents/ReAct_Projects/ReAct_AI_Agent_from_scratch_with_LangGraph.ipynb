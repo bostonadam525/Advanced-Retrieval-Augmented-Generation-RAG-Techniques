{
  "nbformat": 4,
  "nbformat_minor": 0,
  "metadata": {
    "colab": {
      "provenance": []
    },
    "kernelspec": {
      "name": "python3",
      "display_name": "Python 3"
    },
    "language_info": {
      "name": "python"
    }
  },
  "cells": [
    {
      "cell_type": "markdown",
      "source": [
        "# ReAct AI Agent from scratch with LangGraph\n",
        "* Notebook by Adam Lang\n",
        "* Date: 10/8/2024\n",
        "\n",
        "# Overview\n",
        "In this notebook we will build 3 ReAct agents from scratch:\n",
        "1. Basic Chatbot with LangGraph\n",
        "2. Simple ReAct Agent with LangGraph using LLM + Tools\n",
        "3. Multi-user conversational ReAct Agent with LangGraph"
      ],
      "metadata": {
        "id": "VquBXBNL2Zcj"
      }
    },
    {
      "cell_type": "markdown",
      "source": [
        "# Install Dependencies"
      ],
      "metadata": {
        "id": "VB2gL4KY2zlY"
      }
    },
    {
      "cell_type": "code",
      "execution_count": 1,
      "metadata": {
        "colab": {
          "base_uri": "https://localhost:8080/"
        },
        "id": "b9gsrPaO2OIv",
        "outputId": "a5b95d9d-5dbb-425e-a5ca-4de5ff7ae74f"
      },
      "outputs": [
        {
          "output_type": "stream",
          "name": "stdout",
          "text": [
            "Collecting langchain==0.2.0\n",
            "  Downloading langchain-0.2.0-py3-none-any.whl.metadata (13 kB)\n",
            "Requirement already satisfied: PyYAML>=5.3 in /usr/local/lib/python3.10/dist-packages (from langchain==0.2.0) (6.0.2)\n",
            "Requirement already satisfied: SQLAlchemy<3,>=1.4 in /usr/local/lib/python3.10/dist-packages (from langchain==0.2.0) (2.0.35)\n",
            "Requirement already satisfied: aiohttp<4.0.0,>=3.8.3 in /usr/local/lib/python3.10/dist-packages (from langchain==0.2.0) (3.10.10)\n",
            "Requirement already satisfied: async-timeout<5.0.0,>=4.0.0 in /usr/local/lib/python3.10/dist-packages (from langchain==0.2.0) (4.0.3)\n",
            "Collecting dataclasses-json<0.7,>=0.5.7 (from langchain==0.2.0)\n",
            "  Downloading dataclasses_json-0.6.7-py3-none-any.whl.metadata (25 kB)\n",
            "Collecting langchain-core<0.3.0,>=0.2.0 (from langchain==0.2.0)\n",
            "  Downloading langchain_core-0.2.41-py3-none-any.whl.metadata (6.2 kB)\n",
            "Collecting langchain-text-splitters<0.3.0,>=0.2.0 (from langchain==0.2.0)\n",
            "  Downloading langchain_text_splitters-0.2.4-py3-none-any.whl.metadata (2.3 kB)\n",
            "Collecting langsmith<0.2.0,>=0.1.17 (from langchain==0.2.0)\n",
            "  Downloading langsmith-0.1.136-py3-none-any.whl.metadata (13 kB)\n",
            "Requirement already satisfied: numpy<2,>=1 in /usr/local/lib/python3.10/dist-packages (from langchain==0.2.0) (1.26.4)\n",
            "Requirement already satisfied: pydantic<3,>=1 in /usr/local/lib/python3.10/dist-packages (from langchain==0.2.0) (2.9.2)\n",
            "Requirement already satisfied: requests<3,>=2 in /usr/local/lib/python3.10/dist-packages (from langchain==0.2.0) (2.32.3)\n",
            "Collecting tenacity<9.0.0,>=8.1.0 (from langchain==0.2.0)\n",
            "  Downloading tenacity-8.5.0-py3-none-any.whl.metadata (1.2 kB)\n",
            "Requirement already satisfied: aiohappyeyeballs>=2.3.0 in /usr/local/lib/python3.10/dist-packages (from aiohttp<4.0.0,>=3.8.3->langchain==0.2.0) (2.4.3)\n",
            "Requirement already satisfied: aiosignal>=1.1.2 in /usr/local/lib/python3.10/dist-packages (from aiohttp<4.0.0,>=3.8.3->langchain==0.2.0) (1.3.1)\n",
            "Requirement already satisfied: attrs>=17.3.0 in /usr/local/lib/python3.10/dist-packages (from aiohttp<4.0.0,>=3.8.3->langchain==0.2.0) (24.2.0)\n",
            "Requirement already satisfied: frozenlist>=1.1.1 in /usr/local/lib/python3.10/dist-packages (from aiohttp<4.0.0,>=3.8.3->langchain==0.2.0) (1.4.1)\n",
            "Requirement already satisfied: multidict<7.0,>=4.5 in /usr/local/lib/python3.10/dist-packages (from aiohttp<4.0.0,>=3.8.3->langchain==0.2.0) (6.1.0)\n",
            "Requirement already satisfied: yarl<2.0,>=1.12.0 in /usr/local/lib/python3.10/dist-packages (from aiohttp<4.0.0,>=3.8.3->langchain==0.2.0) (1.15.2)\n",
            "Collecting marshmallow<4.0.0,>=3.18.0 (from dataclasses-json<0.7,>=0.5.7->langchain==0.2.0)\n",
            "  Downloading marshmallow-3.23.0-py3-none-any.whl.metadata (7.6 kB)\n",
            "Collecting typing-inspect<1,>=0.4.0 (from dataclasses-json<0.7,>=0.5.7->langchain==0.2.0)\n",
            "  Downloading typing_inspect-0.9.0-py3-none-any.whl.metadata (1.5 kB)\n",
            "Collecting jsonpatch<2.0,>=1.33 (from langchain-core<0.3.0,>=0.2.0->langchain==0.2.0)\n",
            "  Downloading jsonpatch-1.33-py2.py3-none-any.whl.metadata (3.0 kB)\n",
            "Requirement already satisfied: packaging<25,>=23.2 in /usr/local/lib/python3.10/dist-packages (from langchain-core<0.3.0,>=0.2.0->langchain==0.2.0) (24.1)\n",
            "Requirement already satisfied: typing-extensions>=4.7 in /usr/local/lib/python3.10/dist-packages (from langchain-core<0.3.0,>=0.2.0->langchain==0.2.0) (4.12.2)\n",
            "Collecting httpx<1,>=0.23.0 (from langsmith<0.2.0,>=0.1.17->langchain==0.2.0)\n",
            "  Downloading httpx-0.27.2-py3-none-any.whl.metadata (7.1 kB)\n",
            "Collecting orjson<4.0.0,>=3.9.14 (from langsmith<0.2.0,>=0.1.17->langchain==0.2.0)\n",
            "  Downloading orjson-3.10.9-cp310-cp310-manylinux_2_17_x86_64.manylinux2014_x86_64.whl.metadata (50 kB)\n",
            "\u001b[2K     \u001b[90m━━━━━━━━━━━━━━━━━━━━━━━━━━━━━━━━━━━━━━━━\u001b[0m \u001b[32m50.6/50.6 kB\u001b[0m \u001b[31m591.9 kB/s\u001b[0m eta \u001b[36m0:00:00\u001b[0m\n",
            "\u001b[?25hCollecting requests-toolbelt<2.0.0,>=1.0.0 (from langsmith<0.2.0,>=0.1.17->langchain==0.2.0)\n",
            "  Downloading requests_toolbelt-1.0.0-py2.py3-none-any.whl.metadata (14 kB)\n",
            "Requirement already satisfied: annotated-types>=0.6.0 in /usr/local/lib/python3.10/dist-packages (from pydantic<3,>=1->langchain==0.2.0) (0.7.0)\n",
            "Requirement already satisfied: pydantic-core==2.23.4 in /usr/local/lib/python3.10/dist-packages (from pydantic<3,>=1->langchain==0.2.0) (2.23.4)\n",
            "Requirement already satisfied: charset-normalizer<4,>=2 in /usr/local/lib/python3.10/dist-packages (from requests<3,>=2->langchain==0.2.0) (3.4.0)\n",
            "Requirement already satisfied: idna<4,>=2.5 in /usr/local/lib/python3.10/dist-packages (from requests<3,>=2->langchain==0.2.0) (3.10)\n",
            "Requirement already satisfied: urllib3<3,>=1.21.1 in /usr/local/lib/python3.10/dist-packages (from requests<3,>=2->langchain==0.2.0) (2.2.3)\n",
            "Requirement already satisfied: certifi>=2017.4.17 in /usr/local/lib/python3.10/dist-packages (from requests<3,>=2->langchain==0.2.0) (2024.8.30)\n",
            "Requirement already satisfied: greenlet!=0.4.17 in /usr/local/lib/python3.10/dist-packages (from SQLAlchemy<3,>=1.4->langchain==0.2.0) (3.1.1)\n",
            "Requirement already satisfied: anyio in /usr/local/lib/python3.10/dist-packages (from httpx<1,>=0.23.0->langsmith<0.2.0,>=0.1.17->langchain==0.2.0) (3.7.1)\n",
            "Collecting httpcore==1.* (from httpx<1,>=0.23.0->langsmith<0.2.0,>=0.1.17->langchain==0.2.0)\n",
            "  Downloading httpcore-1.0.6-py3-none-any.whl.metadata (21 kB)\n",
            "Requirement already satisfied: sniffio in /usr/local/lib/python3.10/dist-packages (from httpx<1,>=0.23.0->langsmith<0.2.0,>=0.1.17->langchain==0.2.0) (1.3.1)\n",
            "Collecting h11<0.15,>=0.13 (from httpcore==1.*->httpx<1,>=0.23.0->langsmith<0.2.0,>=0.1.17->langchain==0.2.0)\n",
            "  Downloading h11-0.14.0-py3-none-any.whl.metadata (8.2 kB)\n",
            "Collecting jsonpointer>=1.9 (from jsonpatch<2.0,>=1.33->langchain-core<0.3.0,>=0.2.0->langchain==0.2.0)\n",
            "  Downloading jsonpointer-3.0.0-py2.py3-none-any.whl.metadata (2.3 kB)\n",
            "Collecting mypy-extensions>=0.3.0 (from typing-inspect<1,>=0.4.0->dataclasses-json<0.7,>=0.5.7->langchain==0.2.0)\n",
            "  Downloading mypy_extensions-1.0.0-py3-none-any.whl.metadata (1.1 kB)\n",
            "Requirement already satisfied: propcache>=0.2.0 in /usr/local/lib/python3.10/dist-packages (from yarl<2.0,>=1.12.0->aiohttp<4.0.0,>=3.8.3->langchain==0.2.0) (0.2.0)\n",
            "Requirement already satisfied: exceptiongroup in /usr/local/lib/python3.10/dist-packages (from anyio->httpx<1,>=0.23.0->langsmith<0.2.0,>=0.1.17->langchain==0.2.0) (1.2.2)\n",
            "Downloading langchain-0.2.0-py3-none-any.whl (973 kB)\n",
            "\u001b[2K   \u001b[90m━━━━━━━━━━━━━━━━━━━━━━━━━━━━━━━━━━━━━━━━\u001b[0m \u001b[32m973.7/973.7 kB\u001b[0m \u001b[31m15.0 MB/s\u001b[0m eta \u001b[36m0:00:00\u001b[0m\n",
            "\u001b[?25hDownloading dataclasses_json-0.6.7-py3-none-any.whl (28 kB)\n",
            "Downloading langchain_core-0.2.41-py3-none-any.whl (397 kB)\n",
            "\u001b[2K   \u001b[90m━━━━━━━━━━━━━━━━━━━━━━━━━━━━━━━━━━━━━━━━\u001b[0m \u001b[32m397.0/397.0 kB\u001b[0m \u001b[31m17.3 MB/s\u001b[0m eta \u001b[36m0:00:00\u001b[0m\n",
            "\u001b[?25hDownloading langchain_text_splitters-0.2.4-py3-none-any.whl (25 kB)\n",
            "Downloading langsmith-0.1.136-py3-none-any.whl (296 kB)\n",
            "\u001b[2K   \u001b[90m━━━━━━━━━━━━━━━━━━━━━━━━━━━━━━━━━━━━━━━━\u001b[0m \u001b[32m296.7/296.7 kB\u001b[0m \u001b[31m12.1 MB/s\u001b[0m eta \u001b[36m0:00:00\u001b[0m\n",
            "\u001b[?25hDownloading tenacity-8.5.0-py3-none-any.whl (28 kB)\n",
            "Downloading httpx-0.27.2-py3-none-any.whl (76 kB)\n",
            "\u001b[2K   \u001b[90m━━━━━━━━━━━━━━━━━━━━━━━━━━━━━━━━━━━━━━━━\u001b[0m \u001b[32m76.4/76.4 kB\u001b[0m \u001b[31m4.1 MB/s\u001b[0m eta \u001b[36m0:00:00\u001b[0m\n",
            "\u001b[?25hDownloading httpcore-1.0.6-py3-none-any.whl (78 kB)\n",
            "\u001b[2K   \u001b[90m━━━━━━━━━━━━━━━━━━━━━━━━━━━━━━━━━━━━━━━━\u001b[0m \u001b[32m78.0/78.0 kB\u001b[0m \u001b[31m2.9 MB/s\u001b[0m eta \u001b[36m0:00:00\u001b[0m\n",
            "\u001b[?25hDownloading jsonpatch-1.33-py2.py3-none-any.whl (12 kB)\n",
            "Downloading marshmallow-3.23.0-py3-none-any.whl (49 kB)\n",
            "\u001b[2K   \u001b[90m━━━━━━━━━━━━━━━━━━━━━━━━━━━━━━━━━━━━━━━━\u001b[0m \u001b[32m49.5/49.5 kB\u001b[0m \u001b[31m3.0 MB/s\u001b[0m eta \u001b[36m0:00:00\u001b[0m\n",
            "\u001b[?25hDownloading orjson-3.10.9-cp310-cp310-manylinux_2_17_x86_64.manylinux2014_x86_64.whl (144 kB)\n",
            "\u001b[2K   \u001b[90m━━━━━━━━━━━━━━━━━━━━━━━━━━━━━━━━━━━━━━━━\u001b[0m \u001b[32m144.5/144.5 kB\u001b[0m \u001b[31m7.2 MB/s\u001b[0m eta \u001b[36m0:00:00\u001b[0m\n",
            "\u001b[?25hDownloading requests_toolbelt-1.0.0-py2.py3-none-any.whl (54 kB)\n",
            "\u001b[2K   \u001b[90m━━━━━━━━━━━━━━━━━━━━━━━━━━━━━━━━━━━━━━━━\u001b[0m \u001b[32m54.5/54.5 kB\u001b[0m \u001b[31m3.8 MB/s\u001b[0m eta \u001b[36m0:00:00\u001b[0m\n",
            "\u001b[?25hDownloading typing_inspect-0.9.0-py3-none-any.whl (8.8 kB)\n",
            "Downloading jsonpointer-3.0.0-py2.py3-none-any.whl (7.6 kB)\n",
            "Downloading mypy_extensions-1.0.0-py3-none-any.whl (4.7 kB)\n",
            "Downloading h11-0.14.0-py3-none-any.whl (58 kB)\n",
            "\u001b[2K   \u001b[90m━━━━━━━━━━━━━━━━━━━━━━━━━━━━━━━━━━━━━━━━\u001b[0m \u001b[32m58.3/58.3 kB\u001b[0m \u001b[31m4.7 MB/s\u001b[0m eta \u001b[36m0:00:00\u001b[0m\n",
            "\u001b[?25hInstalling collected packages: tenacity, orjson, mypy-extensions, marshmallow, jsonpointer, h11, typing-inspect, requests-toolbelt, jsonpatch, httpcore, httpx, dataclasses-json, langsmith, langchain-core, langchain-text-splitters, langchain\n",
            "  Attempting uninstall: tenacity\n",
            "    Found existing installation: tenacity 9.0.0\n",
            "    Uninstalling tenacity-9.0.0:\n",
            "      Successfully uninstalled tenacity-9.0.0\n",
            "Successfully installed dataclasses-json-0.6.7 h11-0.14.0 httpcore-1.0.6 httpx-0.27.2 jsonpatch-1.33 jsonpointer-3.0.0 langchain-0.2.0 langchain-core-0.2.41 langchain-text-splitters-0.2.4 langsmith-0.1.136 marshmallow-3.23.0 mypy-extensions-1.0.0 orjson-3.10.9 requests-toolbelt-1.0.0 tenacity-8.5.0 typing-inspect-0.9.0\n",
            "Collecting langchain-openai==0.1.7\n",
            "  Downloading langchain_openai-0.1.7-py3-none-any.whl.metadata (2.5 kB)\n",
            "Requirement already satisfied: langchain-core<0.3,>=0.1.46 in /usr/local/lib/python3.10/dist-packages (from langchain-openai==0.1.7) (0.2.41)\n",
            "Collecting openai<2.0.0,>=1.24.0 (from langchain-openai==0.1.7)\n",
            "  Downloading openai-1.52.0-py3-none-any.whl.metadata (24 kB)\n",
            "Collecting tiktoken<1,>=0.7 (from langchain-openai==0.1.7)\n",
            "  Downloading tiktoken-0.8.0-cp310-cp310-manylinux_2_17_x86_64.manylinux2014_x86_64.whl.metadata (6.6 kB)\n",
            "Requirement already satisfied: PyYAML>=5.3 in /usr/local/lib/python3.10/dist-packages (from langchain-core<0.3,>=0.1.46->langchain-openai==0.1.7) (6.0.2)\n",
            "Requirement already satisfied: jsonpatch<2.0,>=1.33 in /usr/local/lib/python3.10/dist-packages (from langchain-core<0.3,>=0.1.46->langchain-openai==0.1.7) (1.33)\n",
            "Requirement already satisfied: langsmith<0.2.0,>=0.1.112 in /usr/local/lib/python3.10/dist-packages (from langchain-core<0.3,>=0.1.46->langchain-openai==0.1.7) (0.1.136)\n",
            "Requirement already satisfied: packaging<25,>=23.2 in /usr/local/lib/python3.10/dist-packages (from langchain-core<0.3,>=0.1.46->langchain-openai==0.1.7) (24.1)\n",
            "Requirement already satisfied: pydantic<3,>=1 in /usr/local/lib/python3.10/dist-packages (from langchain-core<0.3,>=0.1.46->langchain-openai==0.1.7) (2.9.2)\n",
            "Requirement already satisfied: tenacity!=8.4.0,<9.0.0,>=8.1.0 in /usr/local/lib/python3.10/dist-packages (from langchain-core<0.3,>=0.1.46->langchain-openai==0.1.7) (8.5.0)\n",
            "Requirement already satisfied: typing-extensions>=4.7 in /usr/local/lib/python3.10/dist-packages (from langchain-core<0.3,>=0.1.46->langchain-openai==0.1.7) (4.12.2)\n",
            "Requirement already satisfied: anyio<5,>=3.5.0 in /usr/local/lib/python3.10/dist-packages (from openai<2.0.0,>=1.24.0->langchain-openai==0.1.7) (3.7.1)\n",
            "Requirement already satisfied: distro<2,>=1.7.0 in /usr/lib/python3/dist-packages (from openai<2.0.0,>=1.24.0->langchain-openai==0.1.7) (1.7.0)\n",
            "Requirement already satisfied: httpx<1,>=0.23.0 in /usr/local/lib/python3.10/dist-packages (from openai<2.0.0,>=1.24.0->langchain-openai==0.1.7) (0.27.2)\n",
            "Collecting jiter<1,>=0.4.0 (from openai<2.0.0,>=1.24.0->langchain-openai==0.1.7)\n",
            "  Downloading jiter-0.6.1-cp310-cp310-manylinux_2_17_x86_64.manylinux2014_x86_64.whl.metadata (5.2 kB)\n",
            "Requirement already satisfied: sniffio in /usr/local/lib/python3.10/dist-packages (from openai<2.0.0,>=1.24.0->langchain-openai==0.1.7) (1.3.1)\n",
            "Requirement already satisfied: tqdm>4 in /usr/local/lib/python3.10/dist-packages (from openai<2.0.0,>=1.24.0->langchain-openai==0.1.7) (4.66.5)\n",
            "Requirement already satisfied: regex>=2022.1.18 in /usr/local/lib/python3.10/dist-packages (from tiktoken<1,>=0.7->langchain-openai==0.1.7) (2024.9.11)\n",
            "Requirement already satisfied: requests>=2.26.0 in /usr/local/lib/python3.10/dist-packages (from tiktoken<1,>=0.7->langchain-openai==0.1.7) (2.32.3)\n",
            "Requirement already satisfied: idna>=2.8 in /usr/local/lib/python3.10/dist-packages (from anyio<5,>=3.5.0->openai<2.0.0,>=1.24.0->langchain-openai==0.1.7) (3.10)\n",
            "Requirement already satisfied: exceptiongroup in /usr/local/lib/python3.10/dist-packages (from anyio<5,>=3.5.0->openai<2.0.0,>=1.24.0->langchain-openai==0.1.7) (1.2.2)\n",
            "Requirement already satisfied: certifi in /usr/local/lib/python3.10/dist-packages (from httpx<1,>=0.23.0->openai<2.0.0,>=1.24.0->langchain-openai==0.1.7) (2024.8.30)\n",
            "Requirement already satisfied: httpcore==1.* in /usr/local/lib/python3.10/dist-packages (from httpx<1,>=0.23.0->openai<2.0.0,>=1.24.0->langchain-openai==0.1.7) (1.0.6)\n",
            "Requirement already satisfied: h11<0.15,>=0.13 in /usr/local/lib/python3.10/dist-packages (from httpcore==1.*->httpx<1,>=0.23.0->openai<2.0.0,>=1.24.0->langchain-openai==0.1.7) (0.14.0)\n",
            "Requirement already satisfied: jsonpointer>=1.9 in /usr/local/lib/python3.10/dist-packages (from jsonpatch<2.0,>=1.33->langchain-core<0.3,>=0.1.46->langchain-openai==0.1.7) (3.0.0)\n",
            "Requirement already satisfied: orjson<4.0.0,>=3.9.14 in /usr/local/lib/python3.10/dist-packages (from langsmith<0.2.0,>=0.1.112->langchain-core<0.3,>=0.1.46->langchain-openai==0.1.7) (3.10.9)\n",
            "Requirement already satisfied: requests-toolbelt<2.0.0,>=1.0.0 in /usr/local/lib/python3.10/dist-packages (from langsmith<0.2.0,>=0.1.112->langchain-core<0.3,>=0.1.46->langchain-openai==0.1.7) (1.0.0)\n",
            "Requirement already satisfied: annotated-types>=0.6.0 in /usr/local/lib/python3.10/dist-packages (from pydantic<3,>=1->langchain-core<0.3,>=0.1.46->langchain-openai==0.1.7) (0.7.0)\n",
            "Requirement already satisfied: pydantic-core==2.23.4 in /usr/local/lib/python3.10/dist-packages (from pydantic<3,>=1->langchain-core<0.3,>=0.1.46->langchain-openai==0.1.7) (2.23.4)\n",
            "Requirement already satisfied: charset-normalizer<4,>=2 in /usr/local/lib/python3.10/dist-packages (from requests>=2.26.0->tiktoken<1,>=0.7->langchain-openai==0.1.7) (3.4.0)\n",
            "Requirement already satisfied: urllib3<3,>=1.21.1 in /usr/local/lib/python3.10/dist-packages (from requests>=2.26.0->tiktoken<1,>=0.7->langchain-openai==0.1.7) (2.2.3)\n",
            "Downloading langchain_openai-0.1.7-py3-none-any.whl (34 kB)\n",
            "Downloading openai-1.52.0-py3-none-any.whl (386 kB)\n",
            "\u001b[2K   \u001b[90m━━━━━━━━━━━━━━━━━━━━━━━━━━━━━━━━━━━━━━━━\u001b[0m \u001b[32m386.9/386.9 kB\u001b[0m \u001b[31m13.9 MB/s\u001b[0m eta \u001b[36m0:00:00\u001b[0m\n",
            "\u001b[?25hDownloading tiktoken-0.8.0-cp310-cp310-manylinux_2_17_x86_64.manylinux2014_x86_64.whl (1.2 MB)\n",
            "\u001b[2K   \u001b[90m━━━━━━━━━━━━━━━━━━━━━━━━━━━━━━━━━━━━━━━━\u001b[0m \u001b[32m1.2/1.2 MB\u001b[0m \u001b[31m45.0 MB/s\u001b[0m eta \u001b[36m0:00:00\u001b[0m\n",
            "\u001b[?25hDownloading jiter-0.6.1-cp310-cp310-manylinux_2_17_x86_64.manylinux2014_x86_64.whl (325 kB)\n",
            "\u001b[2K   \u001b[90m━━━━━━━━━━━━━━━━━━━━━━━━━━━━━━━━━━━━━━━━\u001b[0m \u001b[32m325.2/325.2 kB\u001b[0m \u001b[31m22.4 MB/s\u001b[0m eta \u001b[36m0:00:00\u001b[0m\n",
            "\u001b[?25hInstalling collected packages: jiter, tiktoken, openai, langchain-openai\n",
            "Successfully installed jiter-0.6.1 langchain-openai-0.1.7 openai-1.52.0 tiktoken-0.8.0\n",
            "Collecting langchain-community==0.2.0\n",
            "  Downloading langchain_community-0.2.0-py3-none-any.whl.metadata (8.8 kB)\n",
            "Requirement already satisfied: PyYAML>=5.3 in /usr/local/lib/python3.10/dist-packages (from langchain-community==0.2.0) (6.0.2)\n",
            "Requirement already satisfied: SQLAlchemy<3,>=1.4 in /usr/local/lib/python3.10/dist-packages (from langchain-community==0.2.0) (2.0.35)\n",
            "Requirement already satisfied: aiohttp<4.0.0,>=3.8.3 in /usr/local/lib/python3.10/dist-packages (from langchain-community==0.2.0) (3.10.10)\n",
            "Requirement already satisfied: dataclasses-json<0.7,>=0.5.7 in /usr/local/lib/python3.10/dist-packages (from langchain-community==0.2.0) (0.6.7)\n",
            "Requirement already satisfied: langchain<0.3.0,>=0.2.0 in /usr/local/lib/python3.10/dist-packages (from langchain-community==0.2.0) (0.2.0)\n",
            "Requirement already satisfied: langchain-core<0.3.0,>=0.2.0 in /usr/local/lib/python3.10/dist-packages (from langchain-community==0.2.0) (0.2.41)\n",
            "Requirement already satisfied: langsmith<0.2.0,>=0.1.0 in /usr/local/lib/python3.10/dist-packages (from langchain-community==0.2.0) (0.1.136)\n",
            "Requirement already satisfied: numpy<2,>=1 in /usr/local/lib/python3.10/dist-packages (from langchain-community==0.2.0) (1.26.4)\n",
            "Requirement already satisfied: requests<3,>=2 in /usr/local/lib/python3.10/dist-packages (from langchain-community==0.2.0) (2.32.3)\n",
            "Requirement already satisfied: tenacity<9.0.0,>=8.1.0 in /usr/local/lib/python3.10/dist-packages (from langchain-community==0.2.0) (8.5.0)\n",
            "Requirement already satisfied: aiohappyeyeballs>=2.3.0 in /usr/local/lib/python3.10/dist-packages (from aiohttp<4.0.0,>=3.8.3->langchain-community==0.2.0) (2.4.3)\n",
            "Requirement already satisfied: aiosignal>=1.1.2 in /usr/local/lib/python3.10/dist-packages (from aiohttp<4.0.0,>=3.8.3->langchain-community==0.2.0) (1.3.1)\n",
            "Requirement already satisfied: attrs>=17.3.0 in /usr/local/lib/python3.10/dist-packages (from aiohttp<4.0.0,>=3.8.3->langchain-community==0.2.0) (24.2.0)\n",
            "Requirement already satisfied: frozenlist>=1.1.1 in /usr/local/lib/python3.10/dist-packages (from aiohttp<4.0.0,>=3.8.3->langchain-community==0.2.0) (1.4.1)\n",
            "Requirement already satisfied: multidict<7.0,>=4.5 in /usr/local/lib/python3.10/dist-packages (from aiohttp<4.0.0,>=3.8.3->langchain-community==0.2.0) (6.1.0)\n",
            "Requirement already satisfied: yarl<2.0,>=1.12.0 in /usr/local/lib/python3.10/dist-packages (from aiohttp<4.0.0,>=3.8.3->langchain-community==0.2.0) (1.15.2)\n",
            "Requirement already satisfied: async-timeout<5.0,>=4.0 in /usr/local/lib/python3.10/dist-packages (from aiohttp<4.0.0,>=3.8.3->langchain-community==0.2.0) (4.0.3)\n",
            "Requirement already satisfied: marshmallow<4.0.0,>=3.18.0 in /usr/local/lib/python3.10/dist-packages (from dataclasses-json<0.7,>=0.5.7->langchain-community==0.2.0) (3.23.0)\n",
            "Requirement already satisfied: typing-inspect<1,>=0.4.0 in /usr/local/lib/python3.10/dist-packages (from dataclasses-json<0.7,>=0.5.7->langchain-community==0.2.0) (0.9.0)\n",
            "Requirement already satisfied: langchain-text-splitters<0.3.0,>=0.2.0 in /usr/local/lib/python3.10/dist-packages (from langchain<0.3.0,>=0.2.0->langchain-community==0.2.0) (0.2.4)\n",
            "Requirement already satisfied: pydantic<3,>=1 in /usr/local/lib/python3.10/dist-packages (from langchain<0.3.0,>=0.2.0->langchain-community==0.2.0) (2.9.2)\n",
            "Requirement already satisfied: jsonpatch<2.0,>=1.33 in /usr/local/lib/python3.10/dist-packages (from langchain-core<0.3.0,>=0.2.0->langchain-community==0.2.0) (1.33)\n",
            "Requirement already satisfied: packaging<25,>=23.2 in /usr/local/lib/python3.10/dist-packages (from langchain-core<0.3.0,>=0.2.0->langchain-community==0.2.0) (24.1)\n",
            "Requirement already satisfied: typing-extensions>=4.7 in /usr/local/lib/python3.10/dist-packages (from langchain-core<0.3.0,>=0.2.0->langchain-community==0.2.0) (4.12.2)\n",
            "Requirement already satisfied: httpx<1,>=0.23.0 in /usr/local/lib/python3.10/dist-packages (from langsmith<0.2.0,>=0.1.0->langchain-community==0.2.0) (0.27.2)\n",
            "Requirement already satisfied: orjson<4.0.0,>=3.9.14 in /usr/local/lib/python3.10/dist-packages (from langsmith<0.2.0,>=0.1.0->langchain-community==0.2.0) (3.10.9)\n",
            "Requirement already satisfied: requests-toolbelt<2.0.0,>=1.0.0 in /usr/local/lib/python3.10/dist-packages (from langsmith<0.2.0,>=0.1.0->langchain-community==0.2.0) (1.0.0)\n",
            "Requirement already satisfied: charset-normalizer<4,>=2 in /usr/local/lib/python3.10/dist-packages (from requests<3,>=2->langchain-community==0.2.0) (3.4.0)\n",
            "Requirement already satisfied: idna<4,>=2.5 in /usr/local/lib/python3.10/dist-packages (from requests<3,>=2->langchain-community==0.2.0) (3.10)\n",
            "Requirement already satisfied: urllib3<3,>=1.21.1 in /usr/local/lib/python3.10/dist-packages (from requests<3,>=2->langchain-community==0.2.0) (2.2.3)\n",
            "Requirement already satisfied: certifi>=2017.4.17 in /usr/local/lib/python3.10/dist-packages (from requests<3,>=2->langchain-community==0.2.0) (2024.8.30)\n",
            "Requirement already satisfied: greenlet!=0.4.17 in /usr/local/lib/python3.10/dist-packages (from SQLAlchemy<3,>=1.4->langchain-community==0.2.0) (3.1.1)\n",
            "Requirement already satisfied: anyio in /usr/local/lib/python3.10/dist-packages (from httpx<1,>=0.23.0->langsmith<0.2.0,>=0.1.0->langchain-community==0.2.0) (3.7.1)\n",
            "Requirement already satisfied: httpcore==1.* in /usr/local/lib/python3.10/dist-packages (from httpx<1,>=0.23.0->langsmith<0.2.0,>=0.1.0->langchain-community==0.2.0) (1.0.6)\n",
            "Requirement already satisfied: sniffio in /usr/local/lib/python3.10/dist-packages (from httpx<1,>=0.23.0->langsmith<0.2.0,>=0.1.0->langchain-community==0.2.0) (1.3.1)\n",
            "Requirement already satisfied: h11<0.15,>=0.13 in /usr/local/lib/python3.10/dist-packages (from httpcore==1.*->httpx<1,>=0.23.0->langsmith<0.2.0,>=0.1.0->langchain-community==0.2.0) (0.14.0)\n",
            "Requirement already satisfied: jsonpointer>=1.9 in /usr/local/lib/python3.10/dist-packages (from jsonpatch<2.0,>=1.33->langchain-core<0.3.0,>=0.2.0->langchain-community==0.2.0) (3.0.0)\n",
            "Requirement already satisfied: annotated-types>=0.6.0 in /usr/local/lib/python3.10/dist-packages (from pydantic<3,>=1->langchain<0.3.0,>=0.2.0->langchain-community==0.2.0) (0.7.0)\n",
            "Requirement already satisfied: pydantic-core==2.23.4 in /usr/local/lib/python3.10/dist-packages (from pydantic<3,>=1->langchain<0.3.0,>=0.2.0->langchain-community==0.2.0) (2.23.4)\n",
            "Requirement already satisfied: mypy-extensions>=0.3.0 in /usr/local/lib/python3.10/dist-packages (from typing-inspect<1,>=0.4.0->dataclasses-json<0.7,>=0.5.7->langchain-community==0.2.0) (1.0.0)\n",
            "Requirement already satisfied: propcache>=0.2.0 in /usr/local/lib/python3.10/dist-packages (from yarl<2.0,>=1.12.0->aiohttp<4.0.0,>=3.8.3->langchain-community==0.2.0) (0.2.0)\n",
            "Requirement already satisfied: exceptiongroup in /usr/local/lib/python3.10/dist-packages (from anyio->httpx<1,>=0.23.0->langsmith<0.2.0,>=0.1.0->langchain-community==0.2.0) (1.2.2)\n",
            "Downloading langchain_community-0.2.0-py3-none-any.whl (2.1 MB)\n",
            "\u001b[2K   \u001b[90m━━━━━━━━━━━━━━━━━━━━━━━━━━━━━━━━━━━━━━━━\u001b[0m \u001b[32m2.1/2.1 MB\u001b[0m \u001b[31m27.6 MB/s\u001b[0m eta \u001b[36m0:00:00\u001b[0m\n",
            "\u001b[?25hInstalling collected packages: langchain-community\n",
            "Successfully installed langchain-community-0.2.0\n",
            "Collecting langgraph==0.1.1\n",
            "  Downloading langgraph-0.1.1-py3-none-any.whl.metadata (11 kB)\n",
            "Requirement already satisfied: langchain-core<0.3,>=0.2 in /usr/local/lib/python3.10/dist-packages (from langgraph==0.1.1) (0.2.41)\n",
            "Requirement already satisfied: PyYAML>=5.3 in /usr/local/lib/python3.10/dist-packages (from langchain-core<0.3,>=0.2->langgraph==0.1.1) (6.0.2)\n",
            "Requirement already satisfied: jsonpatch<2.0,>=1.33 in /usr/local/lib/python3.10/dist-packages (from langchain-core<0.3,>=0.2->langgraph==0.1.1) (1.33)\n",
            "Requirement already satisfied: langsmith<0.2.0,>=0.1.112 in /usr/local/lib/python3.10/dist-packages (from langchain-core<0.3,>=0.2->langgraph==0.1.1) (0.1.136)\n",
            "Requirement already satisfied: packaging<25,>=23.2 in /usr/local/lib/python3.10/dist-packages (from langchain-core<0.3,>=0.2->langgraph==0.1.1) (24.1)\n",
            "Requirement already satisfied: pydantic<3,>=1 in /usr/local/lib/python3.10/dist-packages (from langchain-core<0.3,>=0.2->langgraph==0.1.1) (2.9.2)\n",
            "Requirement already satisfied: tenacity!=8.4.0,<9.0.0,>=8.1.0 in /usr/local/lib/python3.10/dist-packages (from langchain-core<0.3,>=0.2->langgraph==0.1.1) (8.5.0)\n",
            "Requirement already satisfied: typing-extensions>=4.7 in /usr/local/lib/python3.10/dist-packages (from langchain-core<0.3,>=0.2->langgraph==0.1.1) (4.12.2)\n",
            "Requirement already satisfied: jsonpointer>=1.9 in /usr/local/lib/python3.10/dist-packages (from jsonpatch<2.0,>=1.33->langchain-core<0.3,>=0.2->langgraph==0.1.1) (3.0.0)\n",
            "Requirement already satisfied: httpx<1,>=0.23.0 in /usr/local/lib/python3.10/dist-packages (from langsmith<0.2.0,>=0.1.112->langchain-core<0.3,>=0.2->langgraph==0.1.1) (0.27.2)\n",
            "Requirement already satisfied: orjson<4.0.0,>=3.9.14 in /usr/local/lib/python3.10/dist-packages (from langsmith<0.2.0,>=0.1.112->langchain-core<0.3,>=0.2->langgraph==0.1.1) (3.10.9)\n",
            "Requirement already satisfied: requests<3,>=2 in /usr/local/lib/python3.10/dist-packages (from langsmith<0.2.0,>=0.1.112->langchain-core<0.3,>=0.2->langgraph==0.1.1) (2.32.3)\n",
            "Requirement already satisfied: requests-toolbelt<2.0.0,>=1.0.0 in /usr/local/lib/python3.10/dist-packages (from langsmith<0.2.0,>=0.1.112->langchain-core<0.3,>=0.2->langgraph==0.1.1) (1.0.0)\n",
            "Requirement already satisfied: annotated-types>=0.6.0 in /usr/local/lib/python3.10/dist-packages (from pydantic<3,>=1->langchain-core<0.3,>=0.2->langgraph==0.1.1) (0.7.0)\n",
            "Requirement already satisfied: pydantic-core==2.23.4 in /usr/local/lib/python3.10/dist-packages (from pydantic<3,>=1->langchain-core<0.3,>=0.2->langgraph==0.1.1) (2.23.4)\n",
            "Requirement already satisfied: anyio in /usr/local/lib/python3.10/dist-packages (from httpx<1,>=0.23.0->langsmith<0.2.0,>=0.1.112->langchain-core<0.3,>=0.2->langgraph==0.1.1) (3.7.1)\n",
            "Requirement already satisfied: certifi in /usr/local/lib/python3.10/dist-packages (from httpx<1,>=0.23.0->langsmith<0.2.0,>=0.1.112->langchain-core<0.3,>=0.2->langgraph==0.1.1) (2024.8.30)\n",
            "Requirement already satisfied: httpcore==1.* in /usr/local/lib/python3.10/dist-packages (from httpx<1,>=0.23.0->langsmith<0.2.0,>=0.1.112->langchain-core<0.3,>=0.2->langgraph==0.1.1) (1.0.6)\n",
            "Requirement already satisfied: idna in /usr/local/lib/python3.10/dist-packages (from httpx<1,>=0.23.0->langsmith<0.2.0,>=0.1.112->langchain-core<0.3,>=0.2->langgraph==0.1.1) (3.10)\n",
            "Requirement already satisfied: sniffio in /usr/local/lib/python3.10/dist-packages (from httpx<1,>=0.23.0->langsmith<0.2.0,>=0.1.112->langchain-core<0.3,>=0.2->langgraph==0.1.1) (1.3.1)\n",
            "Requirement already satisfied: h11<0.15,>=0.13 in /usr/local/lib/python3.10/dist-packages (from httpcore==1.*->httpx<1,>=0.23.0->langsmith<0.2.0,>=0.1.112->langchain-core<0.3,>=0.2->langgraph==0.1.1) (0.14.0)\n",
            "Requirement already satisfied: charset-normalizer<4,>=2 in /usr/local/lib/python3.10/dist-packages (from requests<3,>=2->langsmith<0.2.0,>=0.1.112->langchain-core<0.3,>=0.2->langgraph==0.1.1) (3.4.0)\n",
            "Requirement already satisfied: urllib3<3,>=1.21.1 in /usr/local/lib/python3.10/dist-packages (from requests<3,>=2->langsmith<0.2.0,>=0.1.112->langchain-core<0.3,>=0.2->langgraph==0.1.1) (2.2.3)\n",
            "Requirement already satisfied: exceptiongroup in /usr/local/lib/python3.10/dist-packages (from anyio->httpx<1,>=0.23.0->langsmith<0.2.0,>=0.1.112->langchain-core<0.3,>=0.2->langgraph==0.1.1) (1.2.2)\n",
            "Downloading langgraph-0.1.1-py3-none-any.whl (87 kB)\n",
            "\u001b[2K   \u001b[90m━━━━━━━━━━━━━━━━━━━━━━━━━━━━━━━━━━━━━━━━\u001b[0m \u001b[32m87.3/87.3 kB\u001b[0m \u001b[31m3.6 MB/s\u001b[0m eta \u001b[36m0:00:00\u001b[0m\n",
            "\u001b[?25hInstalling collected packages: langgraph\n",
            "Successfully installed langgraph-0.1.1\n"
          ]
        }
      ],
      "source": [
        "!pip install langchain==0.2.0\n",
        "!pip install langchain-openai==0.1.7\n",
        "!pip install langchain-community==0.2.0\n",
        "!pip install langgraph==0.1.1"
      ]
    },
    {
      "cell_type": "markdown",
      "source": [
        "## Enter Open AI key"
      ],
      "metadata": {
        "id": "pyHhUljC5MJ9"
      }
    },
    {
      "cell_type": "code",
      "source": [
        "from getpass import getpass\n",
        "\n",
        "OPENAI_KEY = getpass('Enter Open AI API key: ')"
      ],
      "metadata": {
        "colab": {
          "base_uri": "https://localhost:8080/"
        },
        "id": "OImKVhyJ5BJx",
        "outputId": "40c89690-b5ae-4cef-c307-0220e6887380"
      },
      "execution_count": 2,
      "outputs": [
        {
          "name": "stdout",
          "output_type": "stream",
          "text": [
            "Enter Open AI API key: ··········\n"
          ]
        }
      ]
    },
    {
      "cell_type": "markdown",
      "source": [
        "## Enter Tavily Search API key"
      ],
      "metadata": {
        "id": "tlbwYBvh5diq"
      }
    },
    {
      "cell_type": "code",
      "source": [
        "TAVILY_API_KEY = getpass('Enter Tavily Search API Key: ')"
      ],
      "metadata": {
        "colab": {
          "base_uri": "https://localhost:8080/"
        },
        "id": "CHK_A-je5TCG",
        "outputId": "8256b3cd-014a-477e-a02b-18519726ac61"
      },
      "execution_count": 3,
      "outputs": [
        {
          "name": "stdout",
          "output_type": "stream",
          "text": [
            "Enter Tavily Search API Key: ··········\n"
          ]
        }
      ]
    },
    {
      "cell_type": "markdown",
      "source": [
        "## Enter WeatherAPI key"
      ],
      "metadata": {
        "id": "s1z6C6FA5pgD"
      }
    },
    {
      "cell_type": "code",
      "source": [
        "WEATHER_API_KEY = getpass('Enter WeatherAPI API key: ')"
      ],
      "metadata": {
        "colab": {
          "base_uri": "https://localhost:8080/"
        },
        "id": "GhkVUAEA5jpM",
        "outputId": "f6087e1f-6bc0-4c11-a98f-b912fb934ef8"
      },
      "execution_count": 4,
      "outputs": [
        {
          "name": "stdout",
          "output_type": "stream",
          "text": [
            "Enter WeatherAPI API key: ··········\n"
          ]
        }
      ]
    },
    {
      "cell_type": "markdown",
      "source": [
        "## Setup Environment Variables"
      ],
      "metadata": {
        "id": "A97S5kTy5zjg"
      }
    },
    {
      "cell_type": "code",
      "source": [
        "import os\n",
        "\n",
        "os.environ['OPENAI_API_KEY'] = OPENAI_KEY\n",
        "os.environ['TAVILY_API_KEY'] = TAVILY_API_KEY"
      ],
      "metadata": {
        "id": "p7CBN9Nj5uk5"
      },
      "execution_count": 5,
      "outputs": []
    },
    {
      "cell_type": "markdown",
      "source": [
        "# 1. Build Basic Chatbot with LangGraph\n",
        "* First we create a simple chatbot with LangGraph.\n",
        "* The chatbot will respond directly to user messages.\n",
        "  * We first create a `StateGraph`. A `StateGraph` object defines the structure of our chatbot as a \"state machine\".\n",
        "  * `nodes` represent the LLM and functions our chatbot can call.\n",
        "  * `edges` specify how the bot should transition between these functions."
      ],
      "metadata": {
        "id": "X9PgX2go5_GR"
      }
    },
    {
      "cell_type": "code",
      "source": [
        "from typing import Annotated\n",
        "from typing_extensions import TypedDict\n",
        "from langgraph.graph import StateGraph\n",
        "from langgraph.graph.message import add_messages\n",
        "\n",
        "\n",
        "## define Class for State\n",
        "class State(TypedDict):\n",
        "  # Messages have the type \"list\"\n",
        "  # The 'add_messages' function in the annotation defines how the state key should be updated\n",
        "  # (in this case, it appends messages to list, rather than overwriting them)\n",
        "  messages: Annotated[list, add_messages]\n",
        "\n",
        "\n",
        "## create StateGraph\n",
        "graph_builder = StateGraph(State)"
      ],
      "metadata": {
        "id": "CVwmod8c58rd"
      },
      "execution_count": 6,
      "outputs": []
    },
    {
      "cell_type": "markdown",
      "source": [
        "## Graph knows 2 things:\n",
        "1. Every node we define will receive the current `State` as input and return a value that updates that state.\n",
        "2. `messages` will be appended to the current list rather than directly overwritten.\n",
        "  * This is communicated via the prebuilt `add_messages` function in the `Annotated` syntax.\n",
        "\n",
        "## Next we add a `chatbot` node\n",
        "* Nodes are units of work and typically python functions.\n",
        "* This is a simple node which will just send our messages to an LLM."
      ],
      "metadata": {
        "id": "HDIzKk4D7I2O"
      }
    },
    {
      "cell_type": "code",
      "source": [
        "from langchain_openai import ChatOpenAI\n",
        "\n",
        "## llm instantiate\n",
        "chatgpt = ChatOpenAI(model='gpt-4o', temperature=0)\n",
        "\n",
        "## chatbot function\n",
        "def chatbot(state: State):\n",
        "  return {'messages': [chatgpt.invoke(state['messages'])]}\n",
        "\n",
        "\n",
        "# first argument is unique node name\n",
        "# second argument is function or object\n",
        "# this function will be called whenever node is used\n",
        "\n",
        "##add this to the graph\n",
        "graph_builder.add_node('chatbot', chatbot)"
      ],
      "metadata": {
        "id": "Cq6kpmQv66F8"
      },
      "execution_count": 7,
      "outputs": []
    },
    {
      "cell_type": "markdown",
      "source": [
        "* The `chatbot` node function takes the current `State` as input and returns an updated `messages` list.\n",
        "* This is the basic pattern for all LangGraph node functions.\n",
        "* The `add_messages` function in our `State` will append the LLMs response messages to whatever messages are already in state.\n",
        "* Next, we add an `entry` point which tells our graph **where to start its work** each time it is run."
      ],
      "metadata": {
        "id": "Hz1TZzQT86Fi"
      }
    },
    {
      "cell_type": "code",
      "source": [
        "## graph_builder\n",
        "graph_builder.set_entry_point('chatbot')"
      ],
      "metadata": {
        "id": "jeN7lATa8o2c"
      },
      "execution_count": 8,
      "outputs": []
    },
    {
      "cell_type": "markdown",
      "source": [
        "We also set a `finish` point.\n",
        "  * This will instruct the graph **anytime this node is run, you can exit.**"
      ],
      "metadata": {
        "id": "Zz9OYI5H9Sf6"
      }
    },
    {
      "cell_type": "code",
      "source": [
        "graph_builder.set_finish_point('chatbot')"
      ],
      "metadata": {
        "id": "UHNFhfYV9Rrb"
      },
      "execution_count": 9,
      "outputs": []
    },
    {
      "cell_type": "markdown",
      "source": [
        "No we can compile the graph by calling `compile()` on the graph builder.\n",
        "  * This creates a `CompiledGraph` we can use to invoke on our state."
      ],
      "metadata": {
        "id": "mYyNkclQ9juO"
      }
    },
    {
      "cell_type": "code",
      "source": [
        "graph = graph_builder.compile()"
      ],
      "metadata": {
        "id": "WudkXvTM9b46"
      },
      "execution_count": 10,
      "outputs": []
    },
    {
      "cell_type": "markdown",
      "source": [
        "## View Graph Architecture"
      ],
      "metadata": {
        "id": "h5Ur_w-e-Om2"
      }
    },
    {
      "cell_type": "code",
      "source": [
        "from IPython.display import Image, display, Markdown\n",
        "\n",
        "display(Image(graph.get_graph().draw_mermaid_png()))"
      ],
      "metadata": {
        "colab": {
          "base_uri": "https://localhost:8080/",
          "height": 251
        },
        "id": "ldQBNatc9uAQ",
        "outputId": "08f80e30-7eef-460d-c61a-555f3c5d5183"
      },
      "execution_count": 11,
      "outputs": [
        {
          "output_type": "display_data",
          "data": {
            "image/jpeg": "[encoded data removed]",
            "text/plain": [
              "<IPython.core.display.Image object>"
            ]
          },
          "metadata": {}
        }
      ]
    },
    {
      "cell_type": "code",
      "source": [
        "## now we can prompt this simple chatbot\n",
        "prompt = \"\"\"What is the fastest animal on land?\"\"\"\n",
        "response = graph.invoke({\"messages\": (\"user\", prompt)})"
      ],
      "metadata": {
        "id": "gjjw5VJT-WoW"
      },
      "execution_count": 12,
      "outputs": []
    },
    {
      "cell_type": "code",
      "source": [
        "response"
      ],
      "metadata": {
        "colab": {
          "base_uri": "https://localhost:8080/"
        },
        "id": "9fMvFb6B-gd1",
        "outputId": "d05624d0-6ebe-432d-ed80-69b4321dd776"
      },
      "execution_count": 13,
      "outputs": [
        {
          "output_type": "execute_result",
          "data": {
            "text/plain": [
              "{'messages': [HumanMessage(content='What is the fastest animal on land?', id='6903f7af-0c37-4fb0-97b6-1a6cfcc7363e'),\n",
              "  AIMessage(content='The fastest animal on land is the cheetah. It can reach speeds of up to 60 to 70 miles per hour (97 to 113 kilometers per hour) in short bursts covering distances up to 1,500 feet (460 meters), and it can accelerate from 0 to 60 miles per hour in just a few seconds.', response_metadata={'token_usage': {'completion_tokens': 70, 'prompt_tokens': 15, 'total_tokens': 85, 'completion_tokens_details': {'audio_tokens': None, 'reasoning_tokens': 0}, 'prompt_tokens_details': {'audio_tokens': None, 'cached_tokens': 0}}, 'model_name': 'gpt-4o', 'system_fingerprint': 'fp_a7d06e42a7', 'finish_reason': 'stop', 'logprobs': None}, id='run-48c55893-c70a-4cf2-bf58-a7122f75425d-0')]}"
            ]
          },
          "metadata": {},
          "execution_count": 13
        }
      ]
    },
    {
      "cell_type": "code",
      "source": [
        "## another prompt\n",
        "prompt = \"\"\"What is langraph?\"\"\"\n",
        "response = graph.invoke({\"messages\": (\"user\", prompt)})\n",
        "display(Markdown(response['messages'][-1].content))"
      ],
      "metadata": {
        "colab": {
          "base_uri": "https://localhost:8080/",
          "height": 133
        },
        "id": "cx3dSCsK-h54",
        "outputId": "77baedb8-1ce1-463a-9f35-d881ce97354f"
      },
      "execution_count": 14,
      "outputs": [
        {
          "output_type": "display_data",
          "data": {
            "text/plain": [
              "<IPython.core.display.Markdown object>"
            ],
            "text/markdown": "Langraph is a platform designed to facilitate the creation and deployment of AI applications, particularly those that leverage large language models (LLMs). It provides tools and infrastructure to help developers build, test, and manage AI-driven applications more efficiently. Langraph typically offers features such as a visual interface for designing workflows, integration with various APIs, and support for deploying applications in different environments. It aims to simplify the process of working with complex AI models and make it more accessible for developers to implement AI solutions in their projects."
          },
          "metadata": {}
        }
      ]
    },
    {
      "cell_type": "markdown",
      "source": [
        "## Summary\n",
        "* We just built a simple chatbot usingLangGraph and it can be used for simple question and answer without memory.\n",
        "* It also does not use any tools right now to augment its lack of training data past October 2023.\n",
        "* Next we will enhance it with tools."
      ],
      "metadata": {
        "id": "3rg9MHPf_EZZ"
      }
    },
    {
      "cell_type": "markdown",
      "source": [
        "# 2. Simple ReAct Agent in LangGraph from scratch"
      ],
      "metadata": {
        "id": "I9G6zRqZAtV_"
      }
    },
    {
      "cell_type": "markdown",
      "source": [
        "We will do the following:\n",
        "1. Build the agent completely from scratch.\n",
        "2. Leverage LangGraph built-in node functions to build the agent faster."
      ],
      "metadata": {
        "id": "PQyoiHcPA5qe"
      }
    },
    {
      "cell_type": "markdown",
      "source": [
        "## Create Tools\n",
        "* Here we will create 2 custom tools which are wrappers on top of the Tavily API and WeatherAPI.\n",
        "  * Simple Web Search tool\n",
        "  * Weather tool"
      ],
      "metadata": {
        "id": "MvKnYHqUBBl2"
      }
    },
    {
      "cell_type": "code",
      "source": [
        "from langchain_community.tools.tavily_search import TavilySearchResults #Tavily\n",
        "from langchain_core.tools import tool #tool\n",
        "import json #output parser\n",
        "import requests\n",
        "\n",
        "## init search\n",
        "tv_search = TavilySearchResults(max_results=3,\n",
        "                                search_depth='advanced',\n",
        "                                max_tokens=10000)\n",
        "\n",
        "# search tool\n",
        "@tool\n",
        "def search_web(query: str) -> list:\n",
        "  \"\"\"Tool to search web for query\"\"\"\n",
        "  results = tv_search.invoke(query)\n",
        "  return results\n",
        "\n",
        "# weather tool\n",
        "@tool\n",
        "def get_weather(query: str) -> list:\n",
        "  \"\"\"Tool to search weatherAPI for current weather\"\"\"\n",
        "  base_url = \"http://api.weatherapi.com/v1/current.json\"\n",
        "  complete_url = f\"{base_url}?key={WEATHER_API_KEY}&q={query}\"\n",
        "\n",
        "  response = requests.get(complete_url)\n",
        "  data = response.json()\n",
        "  if data.get(\"location\"):\n",
        "    return data\n",
        "  else:\n",
        "    return \"Weather Data Not Found\"\n"
      ],
      "metadata": {
        "id": "1Ei-bGgs-8rc"
      },
      "execution_count": 15,
      "outputs": []
    },
    {
      "cell_type": "markdown",
      "source": [
        "## Build Agentic Graph from Scratch\n",
        "* Here we will use LangGraph to build full graph which will have Agentic workflow.\n",
        "* Each functionality will be implemented from scratch."
      ],
      "metadata": {
        "id": "INa2VIUscI-S"
      }
    },
    {
      "cell_type": "code",
      "source": [
        "from typing import Annotated\n",
        "from langchain_openai import ChatOpenAI\n",
        "from typing_extensions import TypedDict\n",
        "from langgraph.graph import StateGraph\n",
        "from langgraph.graph.message import add_messages\n",
        "\n",
        "## State graph\n",
        "class State(TypedDict):\n",
        "  messages: Annotated[list, add_messages] #one key is list of messages\n",
        "\n",
        "# instantiate State Graph\n",
        "graph_builder = StateGraph(State)\n",
        "\n",
        "## define LLM\n",
        "llm = ChatOpenAI(model='gpt-4o', temperature=0)\n",
        "# now tell LLM which tools it can call\n",
        "tools = [search_web, get_weather]\n",
        "llm_with_tools = llm.bind_tools(tools)\n",
        "\n",
        "#chatbot --> pass to LLM with tools\n",
        "def chatbot(state: State):\n",
        "  return {'messages': [llm_with_tools.invoke(state['messages'])]}\n",
        "\n",
        "\n",
        "## add node --> chatbot\n",
        "graph_builder.add_node('chatbot', chatbot)"
      ],
      "metadata": {
        "id": "00zVEzI6cFzS"
      },
      "execution_count": 16,
      "outputs": []
    },
    {
      "cell_type": "markdown",
      "source": [
        "We now create a function to run the tools if they are called. We'll do this by adding the tools to a new node.\n",
        "\n",
        "We implement a `BasicToolNode` that checks the most recent message in the state and calls tools if the message contains `tool_calls`.\n",
        "\n",
        "It relies on the LLM's `tool_calling` support which is available in Anthropic, OpenAI, Google Gemini, and other LLM providers.\n",
        "\n",
        "We will later replace this with LangGraph's prebuilt `ToolNode` to speed up this process but building from scratch gives good idea of what happens under hood."
      ],
      "metadata": {
        "id": "S1rQC9Kndlz3"
      }
    },
    {
      "cell_type": "code",
      "source": [
        "import json\n",
        "from langchain_core.messages import ToolMessage\n",
        "\n",
        "# basic tool node class\n",
        "class BasicToolNode:\n",
        "  \"\"\"A node that runs tools requested in last AIMessage.\"\"\"\n",
        "\n",
        "  def __init__(self, tools: list) -> None:\n",
        "    self.tools_by_name = {tool.name: tool for tool in tools} # => {'search_web': search_web, 'get_weather': get_weather}\n",
        "\n",
        "  # call will actually invoke the tools\n",
        "  def __call__(self, inputs: dict):\n",
        "    # assign messages --> messages var with \"walrus\" operator\n",
        "    if messages := inputs.get('messages', []):\n",
        "      message = messages[-1] # get most recent message\n",
        "    else:\n",
        "      raise ValueError('No message found in input')\n",
        "    # create empty list\n",
        "    outputs = []\n",
        "    # if tools calls are mentioned by LLM in most recent message\n",
        "    # call tool and get result\n",
        "    for tool_call in message.tool_calls:\n",
        "      tool_result = self.tools_by_name[tool_call['name']].invoke(\n",
        "          tool_call['args']\n",
        "      )\n",
        "      outputs.append(\n",
        "          ToolMessage(\n",
        "              content=json.dumps(tool_result),\n",
        "              name=tool_call['name'],\n",
        "              tool_call_id=tool_call['id']\n",
        "          )\n",
        "      )\n",
        "\n",
        "    return {'messages': outputs}\n",
        "\n",
        "# add tool node to graph\n",
        "tool_node = BasicToolNode(tools=tools)\n",
        "graph_builder.add_node('tools', tool_node)"
      ],
      "metadata": {
        "id": "hgvqrEX_dk2M"
      },
      "execution_count": 17,
      "outputs": []
    },
    {
      "cell_type": "markdown",
      "source": [
        "Now with tool node added we can define `conditional_edges`.\n",
        "\n",
        "Recall that **edges** route controls flow from one node to next.\n",
        "\n",
        "**Conditional edges** usually contain \"if\" statements to route to different nodes depending on current graph state.\n",
        "\n",
        "These functions receive current graph `state` and return a string or list of strings indicating which node(s) to call next.\n",
        "\n",
        "Below, we are going to define a router function called `route_tools` that checks for `tool_calls` in chatbots output.\n",
        "\n",
        "We provide function to the graph by calling `add_conditional_edges` which tells graph whenever `chatbot` node completes the check function to see where to go next.\n",
        "\n",
        "Condition will route to `tools` if tool calls are present and \"`__end__`\" if not.\n",
        "\n",
        "Later on we will replace this with the prebuilt `tools_condition` to be more concise, here we implement it from scratch to see what happens under hood."
      ],
      "metadata": {
        "id": "gmWrjI6Eg6C5"
      }
    },
    {
      "cell_type": "code",
      "source": [
        "from typing import Literal\n",
        "\n",
        "# router for tools\n",
        "def route_tools(state: State,) -> Literal['tools', '__end__']:\n",
        "    \"\"\"\n",
        "    Use in the conditional_edge to route to the ToolNode if the last message\n",
        "    has tool calls. Otherwise, route to the end.\n",
        "    \"\"\"\n",
        "\n",
        "    # check if state of graph is a list of messages get the last one\n",
        "    if isinstance(state, list):\n",
        "      ai_message = state[-1]\n",
        "    # if state is a dict, try to get last message from messages key\n",
        "    elif messages := state.get('messages', []):\n",
        "      ai_message = messages[-1]\n",
        "    else:\n",
        "      raise ValueError(f\"No messages found in input state to tool_edge: {state}\")\n",
        "\n",
        "    # if last message is refering to a tool call, route to the tools node\n",
        "    if hasattr(ai_message, 'tool_calls') and len(ai_message.tool_calls) > 0:\n",
        "      return \"tools\"\n",
        "    # else route to end (stop the AGENT)\n",
        "    return \"__end__\"\n",
        "\n",
        "\n",
        "# The 'tools_conditon' function returns \"tools\"\n",
        "# if the chatbot asks to use a tool,\n",
        "# and \"__end__\" if it is fine directly responding and stopping the agent.\n",
        "# This conditional routing defines the main agent loop.\n",
        "graph_builder.add_conditional_edges(\n",
        "      'chatbot',\n",
        "      route_tools\n",
        "  )\n",
        "\n",
        "\n",
        "# any time a tool is called, we return to the chatbot to decide next step\n",
        "graph_builder.add_edge('tools', 'chatbot')\n",
        "# set entry point --> prompt that goes into chatbot\n",
        "graph_builder.set_entry_point('chatbot')\n",
        "# compile graph\n",
        "graph = graph_builder.compile()"
      ],
      "metadata": {
        "id": "gTd-KNYMgyTd"
      },
      "execution_count": 18,
      "outputs": []
    },
    {
      "cell_type": "code",
      "source": [
        "## display the graph\n",
        "from IPython.display import Image, display, Markdown\n",
        "\n",
        "## display\n",
        "display(Image(graph.get_graph().draw_mermaid_png()))"
      ],
      "metadata": {
        "colab": {
          "base_uri": "https://localhost:8080/",
          "height": 266
        },
        "id": "i3wpcDmSjZf6",
        "outputId": "57697527-ba9e-4b50-9ff1-322b7e1cca63"
      },
      "execution_count": 19,
      "outputs": [
        {
          "output_type": "display_data",
          "data": {
            "image/jpeg": "[encoded data removed]",
            "text/plain": [
              "<IPython.core.display.Image object>"
            ]
          },
          "metadata": {}
        }
      ]
    },
    {
      "cell_type": "markdown",
      "source": [
        "Lets test out the agent!"
      ],
      "metadata": {
        "id": "pP-FBXEIkmLM"
      }
    },
    {
      "cell_type": "code",
      "source": [
        "prompt = \"\"\"What is the slowest animal on land?\"\"\"\n",
        "response = graph.invoke({'messages': ('user', prompt)})\n",
        "display(Markdown(response['messages'][-1].content))"
      ],
      "metadata": {
        "colab": {
          "base_uri": "https://localhost:8080/",
          "height": 81
        },
        "id": "y2B_qOiqju2h",
        "outputId": "921700da-ce55-429c-9949-98c44f767764"
      },
      "execution_count": 20,
      "outputs": [
        {
          "output_type": "display_data",
          "data": {
            "text/plain": [
              "<IPython.core.display.Markdown object>"
            ],
            "text/markdown": "The slowest animal on land is the three-toed sloth. Sloths are known for their extremely slow movement, which is an adaptation to conserve energy. They move at an average speed of about 0.24 kilometers per hour (0.15 miles per hour) when on the ground."
          },
          "metadata": {}
        }
      ]
    },
    {
      "cell_type": "code",
      "source": [
        "response"
      ],
      "metadata": {
        "colab": {
          "base_uri": "https://localhost:8080/"
        },
        "id": "4g11WArXkzr2",
        "outputId": "543176f5-aff2-4da2-e940-c09f51a8b7b4"
      },
      "execution_count": 21,
      "outputs": [
        {
          "output_type": "execute_result",
          "data": {
            "text/plain": [
              "{'messages': [HumanMessage(content='What is the slowest animal on land?', id='a50d084c-f134-435f-8c5f-7afcbea30e96'),\n",
              "  AIMessage(content='The slowest animal on land is the three-toed sloth. Sloths are known for their extremely slow movement, which is an adaptation to conserve energy. They move at an average speed of about 0.24 kilometers per hour (0.15 miles per hour) when on the ground.', response_metadata={'token_usage': {'completion_tokens': 61, 'prompt_tokens': 76, 'total_tokens': 137, 'completion_tokens_details': {'audio_tokens': None, 'reasoning_tokens': 0}, 'prompt_tokens_details': {'audio_tokens': None, 'cached_tokens': 0}}, 'model_name': 'gpt-4o', 'system_fingerprint': 'fp_a7d06e42a7', 'finish_reason': 'stop', 'logprobs': None}, id='run-500e40cc-6655-4b4e-90b9-0eb3fff129b2-0')]}"
            ]
          },
          "metadata": {},
          "execution_count": 21
        }
      ]
    },
    {
      "cell_type": "code",
      "source": [
        "## another prompt\n",
        "prompt = \"\"\"What is langraph?\"\"\"\n",
        "response = graph.invoke({'messages': ('user', prompt)})\n",
        "display(Markdown(response['messages'][-1].content))"
      ],
      "metadata": {
        "colab": {
          "base_uri": "https://localhost:8080/",
          "height": 133
        },
        "id": "l8i8fU7ak1p4",
        "outputId": "8c491809-b1ca-4496-d6d3-70b2066c8b78"
      },
      "execution_count": 22,
      "outputs": [
        {
          "output_type": "display_data",
          "data": {
            "text/plain": [
              "<IPython.core.display.Markdown object>"
            ],
            "text/markdown": "LangGraph is a framework designed for building stateful, multi-actor applications using large language models (LLMs). It is part of the LangChain ecosystem and is used to handle complex scenarios and facilitate collaboration between multiple agents, including humans. LangGraph supports the development of applications with features like cycles, controllability, and persistence, and can be used with tools like LangChain, LangSmith, and Anthropic. It is available for use with programming languages such as Python and JavaScript, and can be deployed using LangGraph Cloud."
          },
          "metadata": {}
        }
      ]
    },
    {
      "cell_type": "code",
      "source": [
        "response"
      ],
      "metadata": {
        "colab": {
          "base_uri": "https://localhost:8080/"
        },
        "id": "E_ZuCbfXlCJA",
        "outputId": "2124bbda-6e71-4b8a-e061-3c1e921fb807"
      },
      "execution_count": 23,
      "outputs": [
        {
          "output_type": "execute_result",
          "data": {
            "text/plain": [
              "{'messages': [HumanMessage(content='What is langraph?', id='b43f0f4f-f38e-4c97-a672-04562e1a5b07'),\n",
              "  AIMessage(content='', additional_kwargs={'tool_calls': [{'id': 'call_KbLKEPwGFAzWMHXCB62qYD3S', 'function': {'arguments': '{\"query\":\"langraph\"}', 'name': 'search_web'}, 'type': 'function'}]}, response_metadata={'token_usage': {'completion_tokens': 15, 'prompt_tokens': 72, 'total_tokens': 87, 'completion_tokens_details': {'audio_tokens': None, 'reasoning_tokens': 0}, 'prompt_tokens_details': {'audio_tokens': None, 'cached_tokens': 0}}, 'model_name': 'gpt-4o', 'system_fingerprint': 'fp_a7d06e42a7', 'finish_reason': 'tool_calls', 'logprobs': None}, id='run-0bb1c048-8a7b-46c8-b459-f5197ebcee27-0', tool_calls=[{'name': 'search_web', 'args': {'query': 'langraph'}, 'id': 'call_KbLKEPwGFAzWMHXCB62qYD3S', 'type': 'tool_call'}]),\n",
              "  ToolMessage(content='[{\"url\": \"https://www.langchain.com/langgraph\", \"content\": \"LangGraph is a framework for building stateful, multi-actor agents with LLMs that can handle complex scenarios and collaborate with humans. Learn how to use LangGraph with Python or JavaScript, deploy it with LangGraph Cloud, and see examples from real-world use cases.\"}, {\"url\": \"https://github.com/langchain-ai/langgraph\", \"content\": \"LangGraph is a framework for creating stateful, multi-actor applications with LLMs, using cycles, controllability, and persistence. Learn how to use LangGraph with LangChain, LangSmith, and Anthropic tools to build agent and multi-agent workflows.\"}, {\"url\": \"https://www.datacamp.com/tutorial/langgraph-tutorial\", \"content\": \"LangGraph is a library within the LangChain ecosystem that simplifies the development of complex, multi-agent large language model (LLM) applications. Learn how to use LangGraph to create stateful, flexible, and scalable systems with examples and code snippets.\"}]', name='search_web', id='58236044-1e81-4870-a65c-6895ace5339e', tool_call_id='call_KbLKEPwGFAzWMHXCB62qYD3S'),\n",
              "  AIMessage(content='LangGraph is a framework designed for building stateful, multi-actor applications using large language models (LLMs). It is part of the LangChain ecosystem and is used to handle complex scenarios and facilitate collaboration between multiple agents, including humans. LangGraph supports the development of applications with features like cycles, controllability, and persistence, and can be used with tools like LangChain, LangSmith, and Anthropic. It is available for use with programming languages such as Python and JavaScript, and can be deployed using LangGraph Cloud.', response_metadata={'token_usage': {'completion_tokens': 108, 'prompt_tokens': 314, 'total_tokens': 422, 'completion_tokens_details': {'audio_tokens': None, 'reasoning_tokens': 0}, 'prompt_tokens_details': {'audio_tokens': None, 'cached_tokens': 0}}, 'model_name': 'gpt-4o', 'system_fingerprint': 'fp_a7d06e42a7', 'finish_reason': 'stop', 'logprobs': None}, id='run-033f5b04-8fa0-494b-85e7-477bc8e1f20f-0')]}"
            ]
          },
          "metadata": {},
          "execution_count": 23
        }
      ]
    },
    {
      "cell_type": "markdown",
      "source": [
        "## Build the same Agentic Graph with LangGraph built-ins -- Recommended Workflow\n",
        "\n",
        "Here we will use LangGraph to build the full graph which will have an Agentic workflow.\n",
        "\n",
        "Each functionality will be implemented as we would in the real-world.\n",
        "\n",
        "Here we are replacing our `BasicToolNode` for the prebuilt `ToolNode` and our `route_tools` condition with the prebuilt `tools_condition`"
      ],
      "metadata": {
        "id": "VYqva3vqlTto"
      }
    },
    {
      "cell_type": "code",
      "source": [
        "from typing import Annotated\n",
        "\n",
        "from langchain_openai import ChatOpenAI\n",
        "from langchain_community.tools.tavily_search import TavilySearchResults #Tavily\n",
        "from langchain_core.messages import BaseMessage\n",
        "from typing_extensions import TypedDict\n",
        "\n",
        "## langgraph imports\n",
        "from langgraph.graph import StateGraph\n",
        "from langgraph.graph.message import add_messages\n",
        "from langgraph.prebuilt import ToolNode, tools_condition\n",
        "\n",
        "\n",
        "# define function to store all agent messages\n",
        "class State(TypedDict):\n",
        "  messages: Annotated[list, add_messages]\n",
        "\n",
        "# start graph building\n",
        "graph_builder = StateGraph(State)\n",
        "\n",
        "# add tools and bind to LLM\n",
        "tools = [search_web, get_weather]\n",
        "llm = ChatOpenAI(model='gpt-4o', temperature=0)\n",
        "llm_with_tools = llm.bind_tools(tools)\n",
        "\n",
        "# add LLM to graph\n",
        "def chatbot(state: State):\n",
        "  return {'messages': [llm_with_tools.invoke(state['messages'])]}\n",
        "\n",
        "\n",
        "#add node to graph\n",
        "graph_builder.add_node('chatbot', chatbot)\n",
        "\n",
        "\n",
        "# Add tools to a node\n",
        "tool_node = ToolNode(tools=tools)\n",
        "graph_builder.add_node('tools', tool_node)\n",
        "\n",
        "# add conditional edges --> dont need to create route function as we did before\n",
        "graph_builder.add_conditional_edges(\n",
        "    'chatbot',\n",
        "    tools_condition,\n",
        "    {'tools': 'tools', '__end__': '__end__'}\n",
        ")\n",
        "\n",
        "\n",
        "# Any time a tool is called, we return to chatbot to decide next step\n",
        "graph_builder.add_edge('tools', 'chatbot')\n",
        "# define graph entry point --> prompt\n",
        "graph_builder.set_entry_point('chatbot')\n",
        "# compile graph\n",
        "graph = graph_builder.compile()"
      ],
      "metadata": {
        "id": "NRQE6B5KlF6u"
      },
      "execution_count": 24,
      "outputs": []
    },
    {
      "cell_type": "code",
      "source": [
        "## display output\n",
        "from IPython.display import Image, Markdown\n",
        "\n",
        "display(Image(graph.get_graph().draw_mermaid_png()))"
      ],
      "metadata": {
        "colab": {
          "base_uri": "https://localhost:8080/",
          "height": 266
        },
        "id": "KPzzlNFrnOrj",
        "outputId": "b180180a-bcec-4b93-a834-c0599d86e331"
      },
      "execution_count": 25,
      "outputs": [
        {
          "output_type": "display_data",
          "data": {
            "image/jpeg": "[encoded data removed]",
            "text/plain": [
              "<IPython.core.display.Image object>"
            ]
          },
          "metadata": {}
        }
      ]
    },
    {
      "cell_type": "code",
      "source": [
        "## prompt\n",
        "prompt = \"\"\"What is the weather in Denver, CO? Show detailed stats.\"\"\"\n",
        "response = graph.invoke({'messages': ('user', prompt)})\n",
        "display(Markdown(response['messages'][-1].content))"
      ],
      "metadata": {
        "colab": {
          "base_uri": "https://localhost:8080/",
          "height": 334
        },
        "id": "SIbvPg9JoEOW",
        "outputId": "086a944d-027e-471b-ea7d-1970a76ecb94"
      },
      "execution_count": 26,
      "outputs": [
        {
          "output_type": "display_data",
          "data": {
            "text/plain": [
              "<IPython.core.display.Markdown object>"
            ],
            "text/markdown": "The current weather in Denver, CO is as follows:\n\n- **Condition**: Sunny ![Sunny](https://cdn.weatherapi.com/weather/64x64/day/113.png)\n- **Temperature**: 22.4°C (72.3°F)\n- **Feels Like**: 23.4°C (74.1°F)\n- **Wind**: 8.9 mph (14.4 kph) from the Northwest (NW)\n- **Wind Gusts**: Up to 10.3 mph (16.6 kph)\n- **Humidity**: 20%\n- **Pressure**: 1016.0 mb (30.0 in)\n- **Precipitation**: 0.0 mm (0.0 in)\n- **Cloud Cover**: 0%\n- **Visibility**: 11.0 km (6.0 miles)\n- **UV Index**: 3.9\n- **Dew Point**: 3.4°C (38.0°F)\n\nThe weather is clear and sunny, making it a pleasant day in Denver."
          },
          "metadata": {}
        }
      ]
    },
    {
      "cell_type": "code",
      "source": [
        "## another prompt\n",
        "prompt = \"\"\"How many superbowls have the Pats won? Show me stats.\"\"\"\n",
        "response = graph.invoke({'messages': ('user', prompt)})\n",
        "display(Markdown(response['messages'][-1].content))"
      ],
      "metadata": {
        "colab": {
          "base_uri": "https://localhost:8080/",
          "height": 196
        },
        "id": "mbFZgp8yoWZN",
        "outputId": "cba0c4db-f92b-4c58-9d5b-90727004f50d"
      },
      "execution_count": 27,
      "outputs": [
        {
          "output_type": "display_data",
          "data": {
            "text/plain": [
              "<IPython.core.display.Markdown object>"
            ],
            "text/markdown": "The New England Patriots have won a total of 6 Super Bowls. Here are some details about their victories:\n\n1. **Super Bowl XXXVI (2002)**: Patriots defeated the St. Louis Rams 20-17.\n2. **Super Bowl XXXVIII (2004)**: Patriots defeated the Carolina Panthers 32-29.\n3. **Super Bowl XXXIX (2005)**: Patriots defeated the Philadelphia Eagles 24-21.\n4. **Super Bowl XLIX (2015)**: Patriots defeated the Seattle Seahawks 28-24.\n5. **Super Bowl LI (2017)**: Patriots defeated the Atlanta Falcons 34-28 in overtime.\n6. **Super Bowl LIII (2019)**: Patriots defeated the Los Angeles Rams 13-3.\n\nThese victories tie them with the Pittsburgh Steelers for the most Super Bowl wins in NFL history."
          },
          "metadata": {}
        }
      ]
    },
    {
      "cell_type": "markdown",
      "source": [
        "Summary:\n",
        "* So far we have built a chatbot but it does not store conversational memory."
      ],
      "metadata": {
        "id": "HwYzhL3So0eT"
      }
    },
    {
      "cell_type": "markdown",
      "source": [
        "# 3. Mult-user conversational ReAct Agent with LangGraph\n",
        "* Now we will build a mult-user conversational agent with LangGraph.\n",
        "* We will use the same tools from above Tavily search API and weather api.\n",
        "* The chatbot we just build in part 2 can use tools to answer questions but it DOES NOT remember the context of the previous query because we are not storing memory.\n",
        "* LangGraph soles this by using **persistent checkpointing**.\n",
        "  * If you provide a `checkpointer` when compiling the graph and a `thread_id` when calling your graph, LangGraph automatically saves the state after each step.\n",
        "  * When you invoke the graph again using the same `thread_id` the graph loads its saved state allowing the chatbot to pick up where you left off.\n",
        "\n",
        "* **Checkpointing** is **more** powerful than simple chat memory - it allows you to save and resume complex state at any time for error recovery, human-in-the_loop workflows, time-travel interactions and more.\n",
        "  * While legacy syntax uses `session_id`, LangGraph will build a session by `thread_id`\n",
        "* We will use the `SqliteSaver` which stores separate converational histories per user or session.\n",
        "* This will help us build a conversational Agentic Chatbot which will be accessed by many users at the SAME time."
      ],
      "metadata": {
        "id": "Q4Lck46MpyEk"
      }
    },
    {
      "cell_type": "code",
      "source": [
        "## code below removes memory database file -- usually not needed\n",
        "## you can run this only if you want to remove all conversation histories\n",
        "## ok if you get --> rm: cannot remove 'memory.db': No such file or directory because initially no memory exits\n",
        "!rm memory.db*"
      ],
      "metadata": {
        "colab": {
          "base_uri": "https://localhost:8080/"
        },
        "id": "7IVH1S1nooPB",
        "outputId": "a8a8c135-65a7-4a9b-d50b-65dede2cfb9b"
      },
      "execution_count": 28,
      "outputs": [
        {
          "output_type": "stream",
          "name": "stdout",
          "text": [
            "rm: cannot remove 'memory.db*': No such file or directory\n"
          ]
        }
      ]
    },
    {
      "cell_type": "code",
      "source": [
        "from typing import Annotated\n",
        "\n",
        "from langchain_openai import ChatOpenAI\n",
        "from langchain_community.tools.tavily_search import TavilySearchResults\n",
        "from langchain_core.messages import BaseMessage\n",
        "from typing_extensions import TypedDict\n",
        "\n",
        "## langgraph imports\n",
        "from langgraph.graph import StateGraph\n",
        "from langgraph.graph.message import add_messages\n",
        "from langgraph.prebuilt import ToolNode, tools_condition\n",
        "from langgraph.checkpoint.sqlite import SqliteSaver #sql database --> store conversations in memory\n",
        "\n",
        "# used to retrieve conversation history from database\n",
        "# based on a specific user or session ID\n",
        "memory = SqliteSaver.from_conn_string('memory.db') ##database file for conversations\n",
        "\n",
        "\n",
        "\n",
        "\n",
        "# define function which will be used to store all agent messages\n",
        "class State(TypedDict):\n",
        "  messages: Annotated[list, add_messages]\n",
        "\n",
        "# start graph building\n",
        "graph_builder = StateGraph(State)\n",
        "\n",
        "# add tools and bind to LLM\n",
        "tools = [search_web, get_weather]\n",
        "llm = ChatOpenAI(model='gpt-4o', temperature=0)\n",
        "llm_with_tools = llm.bind_tools(tools)\n",
        "\n",
        "\n",
        "\n",
        "## add llm to graph\n",
        "def chatbot(state: State):\n",
        "  return {'messages': [llm_with_tools.invoke(state['messages'])]}\n",
        "\n",
        "\n",
        "## add node\n",
        "graph_builder.add_node('chatbot', chatbot)\n",
        "\n",
        "## add tools to node\n",
        "tool_node = ToolNode(tools=tools)\n",
        "graph_builder.add_node('tools', tool_node)\n",
        "\n",
        "\n",
        "# add conditional edges\n",
        "graph_builder.add_conditional_edges(\n",
        "    'chatbot',\n",
        "    tools_condition,\n",
        "    # either goes to tool node if tool calls or else end node\n",
        "    {'tools': 'tools', '__end__': '__end__'}\n",
        ")\n",
        "\n",
        "# any time a tool is called, we return to chatbot to decide next step\n",
        "graph_builder.add_edge('tools', 'chatbot')\n",
        "# define entry point to graph\n",
        "graph_builder.set_entry_point('chatbot')\n",
        "\n",
        "\n",
        "\n",
        "\n",
        "## most important step!!!\n",
        "# compile graph -- add memory here\n",
        "graph = graph_builder.compile(checkpointer=memory)"
      ],
      "metadata": {
        "id": "lmS1kJG_t2ko"
      },
      "execution_count": 29,
      "outputs": []
    },
    {
      "cell_type": "code",
      "source": [
        "## display\n",
        "from IPython.display import Image, display, Markdown\n",
        "\n",
        "display(Image(graph.get_graph().draw_mermaid_png()))"
      ],
      "metadata": {
        "colab": {
          "base_uri": "https://localhost:8080/",
          "height": 266
        },
        "id": "1KKIDmkKxlif",
        "outputId": "793924ff-46b4-44d3-c1e4-e26ae532ad04"
      },
      "execution_count": 32,
      "outputs": [
        {
          "output_type": "display_data",
          "data": {
            "image/jpeg": "[encoded data removed]",
            "text/plain": [
              "<IPython.core.display.Image object>"
            ]
          },
          "metadata": {}
        }
      ]
    },
    {
      "cell_type": "code",
      "source": [
        "## now we can create an agent\n",
        "def chat_with_agent(prompt: str, session_id: str):\n",
        "  response = graph.invoke({'messages': [('user', prompt)]},\n",
        "                          {'configurable': { 'thread_id': session_id}})\n",
        "\n",
        "  ## display\n",
        "  display(Markdown(response['messages'][-1].content))"
      ],
      "metadata": {
        "id": "QJL-rBOpxuIi"
      },
      "execution_count": 33,
      "outputs": []
    },
    {
      "cell_type": "markdown",
      "source": [
        "Simulating User 1 using the agent"
      ],
      "metadata": {
        "id": "YiJ1JDiOyVEt"
      }
    },
    {
      "cell_type": "code",
      "source": [
        "user_id = 'taylor1989'\n",
        "prompt = \"Tell me about the ERAS tour\"\n",
        "chat_with_agent(prompt, user_id)"
      ],
      "metadata": {
        "colab": {
          "base_uri": "https://localhost:8080/",
          "height": 390
        },
        "id": "o9kDuiHzyUWB",
        "outputId": "815e4b1d-abf6-49c0-becd-954b098b63be"
      },
      "execution_count": 34,
      "outputs": [
        {
          "output_type": "display_data",
          "data": {
            "text/plain": [
              "<IPython.core.display.Markdown object>"
            ],
            "text/markdown": "The \"Eras Tour\" is a concert tour by Taylor Swift, which has gained significant attention and success. Here are some key details about the tour:\n\n1. **Tour Success**: The Eras Tour is on track to become one of the biggest in concert history, with potential gross earnings projected to exceed $1 billion. As of October 2023, the tour had grossed $2 billion.\n\n2. **Ticket Sales**: The tour experienced unprecedented demand for tickets, leading to a crash on Ticketmaster's website during the U.S. presale. Ticket prices ranged from $49 to $449, with VIP packages from $199 to $899.\n\n3. **Tour Dates and Locations**: The tour includes multiple shows across the U.S. and internationally. Due to high demand, additional shows were added in the U.S.\n\n4. **Set List and Performances**: The set list includes a variety of songs from Taylor Swift's discography, with surprise songs performed at each show. The performances are known for their meticulous camerawork and energetic vocals.\n\n5. **Economic Impact**: The tour has significantly boosted Taylor Swift's net worth, making her the first billionaire in history with music as the main source of income.\n\n6. **Cultural Impact**: The tour has fueled an increase in public consumption of Swift's discography and has set records for ticket sales, comparable to major blockbuster films.\n\nOverall, the Eras Tour is a major cultural and economic event, showcasing Taylor Swift's extensive music career and her ability to draw massive audiences worldwide."
          },
          "metadata": {}
        }
      ]
    },
    {
      "cell_type": "code",
      "source": [
        "prompt = \"When was the last show?\"\n",
        "chat_with_agent(prompt, user_id)"
      ],
      "metadata": {
        "colab": {
          "base_uri": "https://localhost:8080/",
          "height": 46
        },
        "id": "JmA9HG2lyfUq",
        "outputId": "4685ca94-fe4f-4144-b709-0c8c439ad8cc"
      },
      "execution_count": 35,
      "outputs": [
        {
          "output_type": "display_data",
          "data": {
            "text/plain": [
              "<IPython.core.display.Markdown object>"
            ],
            "text/markdown": "The final date of Taylor Swift's Eras Tour is scheduled for Sunday, December 8, 2024, at BC Place in Vancouver."
          },
          "metadata": {}
        }
      ]
    },
    {
      "cell_type": "markdown",
      "source": [
        "Simulate user 2 using the agent"
      ],
      "metadata": {
        "id": "JwcQZkogyyG5"
      }
    },
    {
      "cell_type": "code",
      "source": [
        "user_id = \"steelers3\"\n",
        "prompt = \"What is the weather in Zurich today? Show me detailed stats.\"\n",
        "chat_with_agent(prompt, user_id)"
      ],
      "metadata": {
        "colab": {
          "base_uri": "https://localhost:8080/",
          "height": 330
        },
        "id": "GOkxpyCPyrxF",
        "outputId": "03787eac-ba20-40dc-994b-0f2e13e4bf6c"
      },
      "execution_count": 42,
      "outputs": [
        {
          "output_type": "display_data",
          "data": {
            "text/plain": [
              "<IPython.core.display.Markdown object>"
            ],
            "text/markdown": "Here's a detailed weather report for Zurich today:\n\n- **Condition**: Clear\n- **Temperature**: 11°C (51.8°F)\n- **Feels Like**: 11.2°C (52.2°F)\n- **Wind**: \n  - Speed: 4.0 kph (2.5 mph)\n  - Direction: South (170°)\n- **Pressure**: 1027.0 mb (30.33 in)\n- **Precipitation**: 0.0 mm (0.0 in)\n- **Humidity**: 100%\n- **Cloud Cover**: 0%\n- **Visibility**: 10 km (6 miles)\n- **UV Index**: 0.0\n- **Gusts**: Up to 8.3 kph (5.2 mph)\n- **Dew Point**: 10°C (50°F)\n\nThe weather is calm and clear, with no clouds or precipitation."
          },
          "metadata": {}
        }
      ]
    },
    {
      "cell_type": "code",
      "source": [
        "user_id = 'steelers3'\n",
        "prompt = \"what about Anchorage?\"\n",
        "chat_with_agent(prompt, user_id)"
      ],
      "metadata": {
        "colab": {
          "base_uri": "https://localhost:8080/",
          "height": 330
        },
        "id": "-3BExT-5y-q1",
        "outputId": "3bbe595e-46ff-400b-e234-c6c90a6a3889"
      },
      "execution_count": 43,
      "outputs": [
        {
          "output_type": "display_data",
          "data": {
            "text/plain": [
              "<IPython.core.display.Markdown object>"
            ],
            "text/markdown": "Here's a detailed weather report for Anchorage today:\n\n- **Condition**: Overcast\n- **Temperature**: 3.3°C (37.9°F)\n- **Feels Like**: 1.9°C (35.3°F)\n- **Wind**: \n  - Speed: 5.8 kph (3.6 mph)\n  - Direction: Southeast (143°)\n- **Pressure**: 1019.0 mb (30.08 in)\n- **Precipitation**: 0.01 mm (0.0 in)\n- **Humidity**: 73%\n- **Cloud Cover**: 100%\n- **Visibility**: 16 km (9 miles)\n- **UV Index**: 0.1\n- **Gusts**: Up to 9.8 kph (6.1 mph)\n- **Dew Point**: -2.7°C (27.1°F)\n\nThe weather in Anchorage is overcast with full cloud cover and a slight chill in the air."
          },
          "metadata": {}
        }
      ]
    },
    {
      "cell_type": "code",
      "source": [
        "user_id = 'steelers3'\n",
        "prompt = \"which city is colder?\"\n",
        "chat_with_agent(prompt, user_id)"
      ],
      "metadata": {
        "colab": {
          "base_uri": "https://localhost:8080/",
          "height": 64
        },
        "id": "mlF7Xoo8zRcR",
        "outputId": "e1af5c58-ee25-4afb-f691-00ac4c73901d"
      },
      "execution_count": 44,
      "outputs": [
        {
          "output_type": "display_data",
          "data": {
            "text/plain": [
              "<IPython.core.display.Markdown object>"
            ],
            "text/markdown": "Anchorage is colder than both Zurich and Stockholm. The current temperature in Anchorage is 3.3°C (37.9°F), compared to Zurich's 11°C (51.8°F) and Stockholm's 13.1°C (55.6°F)."
          },
          "metadata": {}
        }
      ]
    },
    {
      "cell_type": "code",
      "source": [
        "user_id = 'steelers3'\n",
        "prompt = \"which city most recently had rain?\"\n",
        "chat_with_agent(prompt, user_id)"
      ],
      "metadata": {
        "colab": {
          "base_uri": "https://localhost:8080/",
          "height": 64
        },
        "id": "pn4-AV0fzZA5",
        "outputId": "714b0da6-22d0-42ce-d2e1-1f4c8c6fb884"
      },
      "execution_count": 45,
      "outputs": [
        {
          "output_type": "display_data",
          "data": {
            "text/plain": [
              "<IPython.core.display.Markdown object>"
            ],
            "text/markdown": "Anchorage most recently had rain, with a recorded precipitation of 0.01 mm. Both Zurich and Stockholm currently have no precipitation."
          },
          "metadata": {}
        }
      ]
    },
    {
      "cell_type": "code",
      "source": [],
      "metadata": {
        "id": "qho59dZ6zqAC"
      },
      "execution_count": null,
      "outputs": []
    }
  ]
}