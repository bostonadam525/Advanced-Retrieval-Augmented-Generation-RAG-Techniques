{
  "nbformat": 4,
  "nbformat_minor": 0,
  "metadata": {
    "colab": {
      "provenance": []
    },
    "kernelspec": {
      "name": "python3",
      "display_name": "Python 3"
    },
    "language_info": {
      "name": "python"
    },
    "widgets": {
      "application/vnd.jupyter.widget-state+json": {
        "f85cc524439d48adb739da104ddf3b3a": {
          "model_module": "yfiles-jupyter-graphs",
          "model_name": "GraphModel",
          "model_module_version": "^1.10.1",
          "state": {
            "_context_pane_mapping": [
              {
                "id": "Neighborhood",
                "title": "Neighborhood"
              },
              {
                "id": "Data",
                "title": "Data"
              },
              {
                "id": "Search",
                "title": "Search"
              },
              {
                "id": "About",
                "title": "About"
              }
            ],
            "_data_importer": "neo4j",
            "_directed": true,
            "_dom_classes": [],
            "_edges": [
              {
                "id": 1152922604118474800,
                "start": 1,
                "end": 2,
                "properties": {
                  "label": "QUEEN_OF"
                },
                "color": "#673AB7",
                "thickness_factor": 1,
                "directed": true,
                "styles": {},
                "label": "QUEEN_OF"
              },
              {
                "id": 1155174403932160000,
                "start": 1,
                "end": 3,
                "properties": {
                  "label": "QUEEN_OF"
                },
                "color": "#673AB7",
                "thickness_factor": 1,
                "directed": true,
                "styles": {},
                "label": "QUEEN_OF"
              },
              {
                "id": 1152923703630102500,
                "start": 1,
                "end": 4,
                "properties": {
                  "label": "MEMBER_OF"
                },
                "color": "#CDDC39",
                "thickness_factor": 1,
                "directed": true,
                "styles": {},
                "label": "MEMBER_OF"
              },
              {
                "id": 1152924803141730300,
                "start": 1,
                "end": 5,
                "properties": {
                  "label": "DAUGHTER_OF"
                },
                "color": "#9E9E9E",
                "thickness_factor": 1,
                "directed": true,
                "styles": {},
                "label": "DAUGHTER_OF"
              },
              {
                "id": 1155176602955415600,
                "start": 1,
                "end": 6,
                "properties": {
                  "label": "DAUGHTER_OF"
                },
                "color": "#9E9E9E",
                "thickness_factor": 1,
                "directed": true,
                "styles": {},
                "label": "DAUGHTER_OF"
              },
              {
                "id": 1152925902653358000,
                "start": 1,
                "end": 7,
                "properties": {
                  "label": "SUCCEEDED"
                },
                "color": "#9C27B0",
                "thickness_factor": 1,
                "directed": true,
                "styles": {},
                "label": "SUCCEEDED"
              },
              {
                "id": 1155177702467043300,
                "start": 1,
                "end": 8,
                "properties": {
                  "label": "SUCCEEDED"
                },
                "color": "#9C27B0",
                "thickness_factor": 1,
                "directed": true,
                "styles": {},
                "label": "SUCCEEDED"
              },
              {
                "id": 1157429502280728600,
                "start": 1,
                "end": 9,
                "properties": {
                  "label": "SUCCEEDED"
                },
                "color": "#9C27B0",
                "thickness_factor": 1,
                "directed": true,
                "styles": {},
                "label": "SUCCEEDED"
              },
              {
                "id": 1152927002164985900,
                "start": 1,
                "end": 10,
                "properties": {
                  "label": "ADVISED_BY"
                },
                "color": "#2196F3",
                "thickness_factor": 1,
                "directed": true,
                "styles": {},
                "label": "ADVISED_BY"
              },
              {
                "id": 1152929201188241400,
                "start": 1,
                "end": 12,
                "properties": {
                  "label": "ESTABLISHED"
                },
                "color": "#4CAF50",
                "thickness_factor": 1,
                "directed": true,
                "styles": {},
                "label": "ESTABLISHED"
              },
              {
                "id": 1152931400211497000,
                "start": 1,
                "end": 14,
                "properties": {
                  "label": "SUCCEEDED_BY"
                },
                "color": "#F44336",
                "thickness_factor": 1,
                "directed": true,
                "styles": {},
                "label": "SUCCEEDED_BY"
              },
              {
                "id": 1152932499723124700,
                "start": 1,
                "end": 15,
                "properties": {
                  "label": "PROTECTED_BY"
                },
                "color": "#607D8B",
                "thickness_factor": 1,
                "directed": true,
                "styles": {},
                "label": "PROTECTED_BY"
              },
              {
                "id": 1152933599234752500,
                "start": 1,
                "end": 16,
                "properties": {
                  "label": "MOTTO_OF"
                },
                "color": "#673AB7",
                "thickness_factor": 1,
                "directed": true,
                "styles": {},
                "label": "MOTTO_OF"
              },
              {
                "id": 1152928101676613600,
                "start": 10,
                "end": 11,
                "properties": {
                  "label": "CREATED_AS"
                },
                "color": "#CDDC39",
                "thickness_factor": 1,
                "directed": true,
                "styles": {},
                "label": "CREATED_AS"
              },
              {
                "id": 1152930300699869200,
                "start": 12,
                "end": 13,
                "properties": {
                  "label": "EVOLVED_INTO"
                },
                "color": "#9E9E9E",
                "thickness_factor": 1,
                "directed": true,
                "styles": {},
                "label": "EVOLVED_INTO"
              },
              {
                "id": 6917531226664337000,
                "start": 18,
                "end": 66,
                "properties": {
                  "label": "MEMBER_OF"
                },
                "color": "#CDDC39",
                "thickness_factor": 1,
                "directed": true,
                "styles": {},
                "label": "MEMBER_OF"
              },
              {
                "id": 6919784125989650000,
                "start": 18,
                "end": 38,
                "properties": {
                  "label": "DAUGHTER_OF"
                },
                "color": "#9E9E9E",
                "thickness_factor": 1,
                "directed": true,
                "styles": {},
                "label": "DAUGHTER_OF"
              },
              {
                "id": 6917532326175965000,
                "start": 18,
                "end": 69,
                "properties": {
                  "label": "DAUGHTER_OF"
                },
                "color": "#9E9E9E",
                "thickness_factor": 1,
                "directed": true,
                "styles": {},
                "label": "DAUGHTER_OF"
              },
              {
                "id": 1152934698746380300,
                "start": 18,
                "end": 16,
                "properties": {
                  "label": "MOTTO"
                },
                "color": "#9C27B0",
                "thickness_factor": 1,
                "directed": true,
                "styles": {},
                "label": "MOTTO"
              },
              {
                "id": 1152936897769635800,
                "start": 18,
                "end": 15,
                "properties": {
                  "label": "MINISTER"
                },
                "color": "#2196F3",
                "thickness_factor": 1,
                "directed": true,
                "styles": {},
                "label": "MINISTER"
              },
              {
                "id": 1152939096792891400,
                "start": 18,
                "end": 21,
                "properties": {
                  "label": "MANOEUVERED_BETWEEN"
                },
                "color": "#4CAF50",
                "thickness_factor": 1,
                "directed": true,
                "styles": {},
                "label": "MANOEUVERED_BETWEEN"
              },
              {
                "id": 1155190896606576600,
                "start": 18,
                "end": 22,
                "properties": {
                  "label": "MANOEUVERED_BETWEEN"
                },
                "color": "#4CAF50",
                "thickness_factor": 1,
                "directed": true,
                "styles": {},
                "label": "MANOEUVERED_BETWEEN"
              },
              {
                "id": 1157443795931889700,
                "start": 18,
                "end": 3,
                "properties": {
                  "label": "SUPPORTED_MILITARY_CAMPAIGNS_IN"
                },
                "color": "#F44336",
                "thickness_factor": 1,
                "directed": true,
                "styles": {},
                "label": "SUPPORTED_MILITARY_CAMPAIGNS_IN"
              },
              {
                "id": 1155191996118204400,
                "start": 18,
                "end": 21,
                "properties": {
                  "label": "SUPPORTED_MILITARY_CAMPAIGNS_IN"
                },
                "color": "#F44336",
                "thickness_factor": 1,
                "directed": true,
                "styles": {},
                "label": "SUPPORTED_MILITARY_CAMPAIGNS_IN"
              },
              {
                "id": 1152940196304519200,
                "start": 18,
                "end": 23,
                "properties": {
                  "label": "SUPPORTED_MILITARY_CAMPAIGNS_IN"
                },
                "color": "#F44336",
                "thickness_factor": 1,
                "directed": true,
                "styles": {},
                "label": "SUPPORTED_MILITARY_CAMPAIGNS_IN"
              },
              {
                "id": 1152942395327774700,
                "start": 18,
                "end": 25,
                "properties": {
                  "label": "CELEBRATED_WITH"
                },
                "color": "#607D8B",
                "thickness_factor": 1,
                "directed": true,
                "styles": {},
                "label": "CELEBRATED_WITH"
              },
              {
                "id": 1155194195141460000,
                "start": 18,
                "end": 26,
                "properties": {
                  "label": "CELEBRATED_WITH"
                },
                "color": "#607D8B",
                "thickness_factor": 1,
                "directed": true,
                "styles": {},
                "label": "CELEBRATED_WITH"
              },
              {
                "id": 1157445994955145200,
                "start": 18,
                "end": 27,
                "properties": {
                  "label": "CELEBRATED_WITH"
                },
                "color": "#607D8B",
                "thickness_factor": 1,
                "directed": true,
                "styles": {},
                "label": "CELEBRATED_WITH"
              },
              {
                "id": 1152943494839402500,
                "start": 18,
                "end": 28,
                "properties": {
                  "label": "DEFEATED"
                },
                "color": "#673AB7",
                "thickness_factor": 1,
                "directed": true,
                "styles": {},
                "label": "DEFEATED"
              },
              {
                "id": 1152947892885913600,
                "start": 18,
                "end": 32,
                "properties": {
                  "label": "BORN_AT"
                },
                "color": "#CDDC39",
                "thickness_factor": 1,
                "directed": true,
                "styles": {},
                "label": "BORN_AT"
              },
              {
                "id": 1152948992397541400,
                "start": 18,
                "end": 33,
                "properties": {
                  "label": "PARENT"
                },
                "color": "#9E9E9E",
                "thickness_factor": 1,
                "directed": true,
                "styles": {},
                "label": "PARENT"
              },
              {
                "id": 1152950091909169200,
                "start": 18,
                "end": 34,
                "properties": {
                  "label": "NAMED_AFTER"
                },
                "color": "#9C27B0",
                "thickness_factor": 1,
                "directed": true,
                "styles": {},
                "label": "NAMED_AFTER"
              },
              {
                "id": 1155201891722854400,
                "start": 18,
                "end": 35,
                "properties": {
                  "label": "NAMED_AFTER"
                },
                "color": "#9C27B0",
                "thickness_factor": 1,
                "directed": true,
                "styles": {},
                "label": "NAMED_AFTER"
              },
              {
                "id": 6917580704687587000,
                "start": 18,
                "end": 60,
                "properties": {
                  "label": "COLLABORATED_WITH"
                },
                "color": "#2196F3",
                "thickness_factor": 1,
                "directed": true,
                "styles": {},
                "label": "COLLABORATED_WITH"
              },
              {
                "id": 6917581804199215000,
                "start": 18,
                "end": 21,
                "properties": {
                  "label": "FORMED_ALLIANCE_WITH"
                },
                "color": "#4CAF50",
                "thickness_factor": 1,
                "directed": true,
                "styles": {},
                "label": "FORMED_ALLIANCE_WITH"
              },
              {
                "id": 6917581804199215000,
                "start": 18,
                "end": 59,
                "properties": {
                  "label": "FORMED_ALLIANCE_WITH"
                },
                "color": "#4CAF50",
                "thickness_factor": 1,
                "directed": true,
                "styles": {},
                "label": "FORMED_ALLIANCE_WITH"
              },
              {
                "id": 6917585102734098000,
                "start": 18,
                "end": 67,
                "properties": {
                  "label": "BORN_IN"
                },
                "color": "#F44336",
                "thickness_factor": 1,
                "directed": true,
                "styles": {},
                "label": "BORN_IN"
              },
              {
                "id": 6917586202245726000,
                "start": 18,
                "end": 68,
                "properties": {
                  "label": "BORN_NEAR"
                },
                "color": "#607D8B",
                "thickness_factor": 1,
                "directed": true,
                "styles": {},
                "label": "BORN_NEAR"
              },
              {
                "id": 1152935798258008000,
                "start": 19,
                "end": 18,
                "properties": {
                  "label": "DECLARED_ILLEGITIMATE"
                },
                "color": "#673AB7",
                "thickness_factor": 1,
                "directed": true,
                "styles": {},
                "label": "DECLARED_ILLEGITIMATE"
              },
              {
                "id": 1152937997281263600,
                "start": 20,
                "end": 18,
                "properties": {
                  "label": "THREATENED_BY"
                },
                "color": "#CDDC39",
                "thickness_factor": 1,
                "directed": true,
                "styles": {},
                "label": "THREATENED_BY"
              },
              {
                "id": 1153002868467302400,
                "start": 21,
                "end": 80,
                "properties": {
                  "label": "DID_NOT_GRANT_EXCLUSIVE_PORTRAIT_RIGHTS_TO"
                },
                "color": "#9E9E9E",
                "thickness_factor": 1,
                "directed": true,
                "styles": {},
                "label": "DID_NOT_GRANT_EXCLUSIVE_PORTRAIT_RIGHTS_TO"
              },
              {
                "id": 1152941295816147000,
                "start": 24,
                "end": 22,
                "properties": {
                  "label": "WAR_WITH"
                },
                "color": "#9C27B0",
                "thickness_factor": 1,
                "directed": true,
                "styles": {},
                "label": "WAR_WITH"
              },
              {
                "id": 1152944594351030300,
                "start": 29,
                "end": 18,
                "properties": {
                  "label": "DEPICTED_BY"
                },
                "color": "#2196F3",
                "thickness_factor": 1,
                "directed": true,
                "styles": {},
                "label": "DEPICTED_BY"
              },
              {
                "id": 1152945693862658000,
                "start": 29,
                "end": 18,
                "properties": {
                  "label": "ACKNOWLEDGED_BY"
                },
                "color": "#4CAF50",
                "thickness_factor": 1,
                "directed": true,
                "styles": {},
                "label": "ACKNOWLEDGED_BY"
              },
              {
                "id": 1152946793374285800,
                "start": 30,
                "end": 18,
                "properties": {
                  "label": "WEAKENED_POPULARITY_OF"
                },
                "color": "#F44336",
                "thickness_factor": 1,
                "directed": true,
                "styles": {},
                "label": "WEAKENED_POPULARITY_OF"
              },
              {
                "id": 1152946793374285800,
                "start": 31,
                "end": 18,
                "properties": {
                  "label": "WEAKENED_POPULARITY_OF"
                },
                "color": "#F44336",
                "thickness_factor": 1,
                "directed": true,
                "styles": {},
                "label": "WEAKENED_POPULARITY_OF"
              },
              {
                "id": 1152924803141730300,
                "start": 37,
                "end": 38,
                "properties": {
                  "label": "DAUGHTER_OF"
                },
                "color": "#9E9E9E",
                "thickness_factor": 1,
                "directed": true,
                "styles": {},
                "label": "DAUGHTER_OF"
              },
              {
                "id": 1152951191420797000,
                "start": 37,
                "end": 39,
                "properties": {
                  "label": "MOTHER_OF"
                },
                "color": "#607D8B",
                "thickness_factor": 1,
                "directed": true,
                "styles": {},
                "label": "MOTHER_OF"
              },
              {
                "id": 1152952290932424700,
                "start": 37,
                "end": 40,
                "properties": {
                  "label": "HALF-BROTHER_OF"
                },
                "color": "#673AB7",
                "thickness_factor": 1,
                "directed": true,
                "styles": {},
                "label": "HALF-BROTHER_OF"
              },
              {
                "id": 1152953390444052500,
                "start": 37,
                "end": 41,
                "properties": {
                  "label": "COUSIN_OF"
                },
                "color": "#CDDC39",
                "thickness_factor": 1,
                "directed": true,
                "styles": {},
                "label": "COUSIN_OF"
              }
            ],
            "_graph_layout": {},
            "_highlight": [],
            "_license": {},
            "_model_module": "yfiles-jupyter-graphs",
            "_model_module_version": "^1.10.1",
            "_model_name": "GraphModel",
            "_neighborhood": {},
            "_nodes": [
              {
                "id": 1,
                "properties": {
                  "id": "Elizabeth I",
                  "label": "__Entity__:Person"
                },
                "color": "#2196F3",
                "styles": {},
                "label": "Elizabeth I",
                "scale_factor": 1,
                "type": "#2196F3",
                "size": [
                  55,
                  55
                ],
                "position": [
                  0,
                  0
                ]
              },
              {
                "id": 2,
                "properties": {
                  "id": "Queen Of England",
                  "label": "__Entity__:Title"
                },
                "color": "#4CAF50",
                "styles": {},
                "label": "Queen Of England",
                "scale_factor": 1,
                "type": "#4CAF50",
                "size": [
                  55,
                  55
                ],
                "position": [
                  0,
                  0
                ]
              },
              {
                "id": 3,
                "properties": {
                  "id": "Ireland",
                  "label": "Country:Region:__Entity__"
                },
                "color": "#F44336",
                "styles": {},
                "label": "Ireland",
                "scale_factor": 1,
                "type": "#F44336",
                "size": [
                  55,
                  55
                ],
                "position": [
                  0,
                  0
                ]
              },
              {
                "id": 4,
                "properties": {
                  "id": "House Of Tudor",
                  "label": "Dynasty:__Entity__"
                },
                "color": "#607D8B",
                "styles": {},
                "label": "House Of Tudor",
                "scale_factor": 1,
                "type": "#607D8B",
                "size": [
                  55,
                  55
                ],
                "position": [
                  0,
                  0
                ]
              },
              {
                "id": 5,
                "properties": {
                  "id": "Henry Viii",
                  "label": "__Entity__:Person"
                },
                "color": "#2196F3",
                "styles": {},
                "label": "Henry Viii",
                "scale_factor": 1,
                "type": "#2196F3",
                "size": [
                  55,
                  55
                ],
                "position": [
                  0,
                  0
                ]
              },
              {
                "id": 6,
                "properties": {
                  "id": "Anne Boleyn",
                  "label": "__Entity__:Person"
                },
                "color": "#2196F3",
                "styles": {},
                "label": "Anne Boleyn",
                "scale_factor": 1,
                "type": "#2196F3",
                "size": [
                  55,
                  55
                ],
                "position": [
                  0,
                  0
                ]
              },
              {
                "id": 7,
                "properties": {
                  "id": "Edward Vi",
                  "label": "__Entity__:Person"
                },
                "color": "#2196F3",
                "styles": {},
                "label": "Edward Vi",
                "scale_factor": 1,
                "type": "#2196F3",
                "size": [
                  55,
                  55
                ],
                "position": [
                  0,
                  0
                ]
              },
              {
                "id": 8,
                "properties": {
                  "id": "Mary I",
                  "label": "__Entity__:Person"
                },
                "color": "#2196F3",
                "styles": {},
                "label": "Mary I",
                "scale_factor": 1,
                "type": "#2196F3",
                "size": [
                  55,
                  55
                ],
                "position": [
                  0,
                  0
                ]
              },
              {
                "id": 9,
                "properties": {
                  "id": "Lady Jane Grey",
                  "label": "__Entity__:Person"
                },
                "color": "#2196F3",
                "styles": {},
                "label": "Lady Jane Grey",
                "scale_factor": 1,
                "type": "#2196F3",
                "size": [
                  55,
                  55
                ],
                "position": [
                  0,
                  0
                ]
              },
              {
                "id": 10,
                "properties": {
                  "id": "William Cecil",
                  "label": "__Entity__:Person"
                },
                "color": "#2196F3",
                "styles": {},
                "label": "William Cecil",
                "scale_factor": 1,
                "type": "#2196F3",
                "size": [
                  55,
                  55
                ],
                "position": [
                  0,
                  0
                ]
              },
              {
                "id": 12,
                "properties": {
                  "id": "English Protestant Church",
                  "label": "Organization:__Entity__"
                },
                "color": "#673AB7",
                "styles": {},
                "label": "English Protestant Church",
                "scale_factor": 1,
                "type": "#673AB7",
                "size": [
                  55,
                  55
                ],
                "position": [
                  0,
                  0
                ]
              },
              {
                "id": 14,
                "properties": {
                  "id": "James Vi Of Scotland",
                  "label": "__Entity__:Person"
                },
                "color": "#2196F3",
                "styles": {},
                "label": "James Vi Of Scotland",
                "scale_factor": 1,
                "type": "#2196F3",
                "size": [
                  55,
                  55
                ],
                "position": [
                  0,
                  0
                ]
              },
              {
                "id": 15,
                "properties": {
                  "id": "Sir Francis Walsingham",
                  "label": "__Entity__:Person"
                },
                "color": "#2196F3",
                "styles": {},
                "label": "Sir Francis Walsingham",
                "scale_factor": 1,
                "type": "#2196F3",
                "size": [
                  55,
                  55
                ],
                "position": [
                  0,
                  0
                ]
              },
              {
                "id": 16,
                "properties": {
                  "id": "Video Et Taceo",
                  "label": "Motto:__Entity__"
                },
                "color": "#CDDC39",
                "styles": {},
                "label": "Video Et Taceo",
                "scale_factor": 1,
                "type": "#CDDC39",
                "size": [
                  55,
                  55
                ],
                "position": [
                  0,
                  0
                ]
              },
              {
                "id": 11,
                "properties": {
                  "id": "Baron Burghley",
                  "label": "__Entity__:Title"
                },
                "color": "#4CAF50",
                "styles": {},
                "label": "Baron Burghley",
                "scale_factor": 1,
                "type": "#4CAF50",
                "size": [
                  55,
                  55
                ],
                "position": [
                  0,
                  0
                ]
              },
              {
                "id": 13,
                "properties": {
                  "id": "Church Of England",
                  "label": "Organization:__Entity__"
                },
                "color": "#673AB7",
                "styles": {},
                "label": "Church Of England",
                "scale_factor": 1,
                "type": "#673AB7",
                "size": [
                  55,
                  55
                ],
                "position": [
                  0,
                  0
                ]
              },
              {
                "id": 18,
                "properties": {
                  "id": "Elizabeth",
                  "label": "__Entity__:Person"
                },
                "color": "#2196F3",
                "styles": {},
                "label": "Elizabeth",
                "scale_factor": 1,
                "type": "#2196F3",
                "size": [
                  55,
                  55
                ],
                "position": [
                  0,
                  0
                ]
              },
              {
                "id": 66,
                "properties": {
                  "id": "House Of Romanov",
                  "label": "Dynasty:__Entity__"
                },
                "color": "#607D8B",
                "styles": {},
                "label": "House Of Romanov",
                "scale_factor": 1,
                "type": "#607D8B",
                "size": [
                  55,
                  55
                ],
                "position": [
                  0,
                  0
                ]
              },
              {
                "id": 38,
                "properties": {
                  "id": "Peter The Great",
                  "label": "__Entity__:Person"
                },
                "color": "#2196F3",
                "styles": {},
                "label": "Peter The Great",
                "scale_factor": 1,
                "type": "#2196F3",
                "size": [
                  55,
                  55
                ],
                "position": [
                  0,
                  0
                ]
              },
              {
                "id": 69,
                "properties": {
                  "id": "Catherine",
                  "label": "__Entity__:Person"
                },
                "color": "#2196F3",
                "styles": {},
                "label": "Catherine",
                "scale_factor": 1,
                "type": "#2196F3",
                "size": [
                  55,
                  55
                ],
                "position": [
                  0,
                  0
                ]
              },
              {
                "id": 21,
                "properties": {
                  "id": "France",
                  "label": "Country:__Entity__"
                },
                "color": "#9E9E9E",
                "styles": {},
                "label": "France",
                "scale_factor": 1,
                "type": "#9E9E9E",
                "size": [
                  55,
                  55
                ],
                "position": [
                  0,
                  0
                ]
              },
              {
                "id": 22,
                "properties": {
                  "id": "Spain",
                  "label": "Country:__Entity__"
                },
                "color": "#9E9E9E",
                "styles": {},
                "label": "Spain",
                "scale_factor": 1,
                "type": "#9E9E9E",
                "size": [
                  55,
                  55
                ],
                "position": [
                  0,
                  0
                ]
              },
              {
                "id": 23,
                "properties": {
                  "id": "Netherlands",
                  "label": "Region:__Entity__"
                },
                "color": "#9C27B0",
                "styles": {},
                "label": "Netherlands",
                "scale_factor": 1,
                "type": "#9C27B0",
                "size": [
                  55,
                  55
                ],
                "position": [
                  0,
                  0
                ]
              },
              {
                "id": 25,
                "properties": {
                  "id": "Cult Of Personality",
                  "label": "Concept:__Entity__"
                },
                "color": "#2196F3",
                "styles": {},
                "label": "Cult Of Personality",
                "scale_factor": 1,
                "type": "#2196F3",
                "size": [
                  55,
                  55
                ],
                "position": [
                  0,
                  0
                ]
              },
              {
                "id": 26,
                "properties": {
                  "id": "English Drama",
                  "label": "Concept:__Entity__"
                },
                "color": "#2196F3",
                "styles": {},
                "label": "English Drama",
                "scale_factor": 1,
                "type": "#2196F3",
                "size": [
                  55,
                  55
                ],
                "position": [
                  0,
                  0
                ]
              },
              {
                "id": 27,
                "properties": {
                  "id": "Maritime Adventurers",
                  "label": "Concept:__Entity__"
                },
                "color": "#2196F3",
                "styles": {},
                "label": "Maritime Adventurers",
                "scale_factor": 1,
                "type": "#2196F3",
                "size": [
                  55,
                  55
                ],
                "position": [
                  0,
                  0
                ]
              },
              {
                "id": 28,
                "properties": {
                  "id": "Spanish Armada",
                  "label": "Event:__Entity__"
                },
                "color": "#4CAF50",
                "styles": {},
                "label": "Spanish Armada",
                "scale_factor": 1,
                "type": "#4CAF50",
                "size": [
                  55,
                  55
                ],
                "position": [
                  0,
                  0
                ]
              },
              {
                "id": 32,
                "properties": {
                  "id": "Greenwich Palace",
                  "label": "Location:__Entity__"
                },
                "color": "#F44336",
                "styles": {},
                "label": "Greenwich Palace",
                "scale_factor": 1,
                "type": "#F44336",
                "size": [
                  55,
                  55
                ],
                "position": [
                  0,
                  0
                ]
              },
              {
                "id": 33,
                "properties": {
                  "id": "Henry Viii Of England",
                  "label": "__Entity__:Person"
                },
                "color": "#2196F3",
                "styles": {},
                "label": "Henry Viii Of England",
                "scale_factor": 1,
                "type": "#2196F3",
                "size": [
                  55,
                  55
                ],
                "position": [
                  0,
                  0
                ]
              },
              {
                "id": 34,
                "properties": {
                  "id": "Elizabeth Of York",
                  "label": "__Entity__:Person"
                },
                "color": "#2196F3",
                "styles": {},
                "label": "Elizabeth Of York",
                "scale_factor": 1,
                "type": "#2196F3",
                "size": [
                  55,
                  55
                ],
                "position": [
                  0,
                  0
                ]
              },
              {
                "id": 35,
                "properties": {
                  "id": "Lady Elizabeth Howard",
                  "label": "__Entity__:Person"
                },
                "color": "#2196F3",
                "styles": {},
                "label": "Lady Elizabeth Howard",
                "scale_factor": 1,
                "type": "#2196F3",
                "size": [
                  55,
                  55
                ],
                "position": [
                  0,
                  0
                ]
              },
              {
                "id": 60,
                "properties": {
                  "id": "Aleksey Bestuzhev-Ryumin",
                  "label": "__Entity__:Person"
                },
                "color": "#2196F3",
                "styles": {},
                "label": "Aleksey Bestuzhev-Ryumin",
                "scale_factor": 1,
                "type": "#2196F3",
                "size": [
                  55,
                  55
                ],
                "position": [
                  0,
                  0
                ]
              },
              {
                "id": 59,
                "properties": {
                  "id": "Austria",
                  "label": "Country:__Entity__"
                },
                "color": "#9E9E9E",
                "styles": {},
                "label": "Austria",
                "scale_factor": 1,
                "type": "#9E9E9E",
                "size": [
                  55,
                  55
                ],
                "position": [
                  0,
                  0
                ]
              },
              {
                "id": 67,
                "properties": {
                  "id": "Kolomenskoye",
                  "label": "Location:__Entity__"
                },
                "color": "#F44336",
                "styles": {},
                "label": "Kolomenskoye",
                "scale_factor": 1,
                "type": "#F44336",
                "size": [
                  55,
                  55
                ],
                "position": [
                  0,
                  0
                ]
              },
              {
                "id": 68,
                "properties": {
                  "id": "Moscow",
                  "label": "Location:__Entity__"
                },
                "color": "#F44336",
                "styles": {},
                "label": "Moscow",
                "scale_factor": 1,
                "type": "#F44336",
                "size": [
                  55,
                  55
                ],
                "position": [
                  0,
                  0
                ]
              },
              {
                "id": 19,
                "properties": {
                  "id": "Pope",
                  "label": "__Entity__:Person"
                },
                "color": "#2196F3",
                "styles": {},
                "label": "Pope",
                "scale_factor": 1,
                "type": "#2196F3",
                "size": [
                  55,
                  55
                ],
                "position": [
                  0,
                  0
                ]
              },
              {
                "id": 20,
                "properties": {
                  "id": "Conspiracies",
                  "label": "Event:__Entity__"
                },
                "color": "#4CAF50",
                "styles": {},
                "label": "Conspiracies",
                "scale_factor": 1,
                "type": "#4CAF50",
                "size": [
                  55,
                  55
                ],
                "position": [
                  0,
                  0
                ]
              },
              {
                "id": 80,
                "properties": {
                  "id": "Queen Elizabeth I",
                  "label": "__Entity__:Person"
                },
                "color": "#2196F3",
                "styles": {},
                "label": "Queen Elizabeth I",
                "scale_factor": 1,
                "type": "#2196F3",
                "size": [
                  55,
                  55
                ],
                "position": [
                  0,
                  0
                ]
              },
              {
                "id": 24,
                "properties": {
                  "id": "England",
                  "label": "Country:__Entity__"
                },
                "color": "#9E9E9E",
                "styles": {},
                "label": "England",
                "scale_factor": 1,
                "type": "#9E9E9E",
                "size": [
                  55,
                  55
                ],
                "position": [
                  0,
                  0
                ]
              },
              {
                "id": 29,
                "properties": {
                  "id": "Historians",
                  "label": "__Entity__:Group"
                },
                "color": "#607D8B",
                "styles": {},
                "label": "Historians",
                "scale_factor": 1,
                "type": "#607D8B",
                "size": [
                  55,
                  55
                ],
                "position": [
                  0,
                  0
                ]
              },
              {
                "id": 30,
                "properties": {
                  "id": "Economic Problems",
                  "label": "Event:__Entity__"
                },
                "color": "#4CAF50",
                "styles": {},
                "label": "Economic Problems",
                "scale_factor": 1,
                "type": "#4CAF50",
                "size": [
                  55,
                  55
                ],
                "position": [
                  0,
                  0
                ]
              },
              {
                "id": 31,
                "properties": {
                  "id": "Military Problems",
                  "label": "Event:__Entity__"
                },
                "color": "#4CAF50",
                "styles": {},
                "label": "Military Problems",
                "scale_factor": 1,
                "type": "#4CAF50",
                "size": [
                  55,
                  55
                ],
                "position": [
                  0,
                  0
                ]
              },
              {
                "id": 37,
                "properties": {
                  "id": "Elizabeth Petrovna",
                  "label": "__Entity__:Person"
                },
                "color": "#2196F3",
                "styles": {},
                "label": "Elizabeth Petrovna",
                "scale_factor": 1,
                "type": "#2196F3",
                "size": [
                  55,
                  55
                ],
                "position": [
                  0,
                  0
                ]
              },
              {
                "id": 39,
                "properties": {
                  "id": "Catherine I Of Russia",
                  "label": "__Entity__:Person"
                },
                "color": "#2196F3",
                "styles": {},
                "label": "Catherine I Of Russia",
                "scale_factor": 1,
                "type": "#2196F3",
                "size": [
                  55,
                  55
                ],
                "position": [
                  0,
                  0
                ]
              },
              {
                "id": 40,
                "properties": {
                  "id": "Alexei",
                  "label": "__Entity__:Person"
                },
                "color": "#2196F3",
                "styles": {},
                "label": "Alexei",
                "scale_factor": 1,
                "type": "#2196F3",
                "size": [
                  55,
                  55
                ],
                "position": [
                  0,
                  0
                ]
              },
              {
                "id": 41,
                "properties": {
                  "id": "Anna",
                  "label": "__Entity__:Person"
                },
                "color": "#2196F3",
                "styles": {},
                "label": "Anna",
                "scale_factor": 1,
                "type": "#2196F3",
                "size": [
                  55,
                  55
                ],
                "position": [
                  0,
                  0
                ]
              }
            ],
            "_overview": {
              "enabled": null,
              "overview_set": false
            },
            "_selected_graph": [
              [],
              []
            ],
            "_sidebar": {
              "enabled": false,
              "start_with": null
            },
            "_view_count": null,
            "_view_module": "yfiles-jupyter-graphs",
            "_view_module_version": "^1.10.1",
            "_view_name": "GraphView",
            "layout": "IPY_MODEL_7163211fb75444c085215797711d98a9",
            "tabbable": null,
            "tooltip": null
          }
        },
        "7163211fb75444c085215797711d98a9": {
          "model_module": "@jupyter-widgets/base",
          "model_name": "LayoutModel",
          "model_module_version": "2.0.0",
          "state": {
            "_model_module": "@jupyter-widgets/base",
            "_model_module_version": "2.0.0",
            "_model_name": "LayoutModel",
            "_view_count": null,
            "_view_module": "@jupyter-widgets/base",
            "_view_module_version": "2.0.0",
            "_view_name": "LayoutView",
            "align_content": null,
            "align_items": null,
            "align_self": null,
            "border_bottom": null,
            "border_left": null,
            "border_right": null,
            "border_top": null,
            "bottom": null,
            "display": null,
            "flex": null,
            "flex_flow": null,
            "grid_area": null,
            "grid_auto_columns": null,
            "grid_auto_flow": null,
            "grid_auto_rows": null,
            "grid_column": null,
            "grid_gap": null,
            "grid_row": null,
            "grid_template_areas": null,
            "grid_template_columns": null,
            "grid_template_rows": null,
            "height": "800px",
            "justify_content": null,
            "justify_items": null,
            "left": null,
            "margin": null,
            "max_height": null,
            "max_width": null,
            "min_height": null,
            "min_width": null,
            "object_fit": null,
            "object_position": null,
            "order": null,
            "overflow": null,
            "padding": null,
            "right": null,
            "top": null,
            "visibility": null,
            "width": "100%"
          }
        },
        "1b708b94f2e54551a3d48dffbc08a554": {
          "model_module": "@jupyter-widgets/controls",
          "model_name": "HBoxModel",
          "model_module_version": "2.0.0",
          "state": {
            "_dom_classes": [],
            "_model_module": "@jupyter-widgets/controls",
            "_model_module_version": "2.0.0",
            "_model_name": "HBoxModel",
            "_view_count": null,
            "_view_module": "@jupyter-widgets/controls",
            "_view_module_version": "2.0.0",
            "_view_name": "HBoxView",
            "box_style": "",
            "children": [
              "IPY_MODEL_dc268d3e6ec1488ab92b34ec14ab93e0",
              "IPY_MODEL_7c378cfd3d024b62998adda839cd43ca",
              "IPY_MODEL_e1c1322ea07e4692bb61e1654f7a475f"
            ],
            "layout": "IPY_MODEL_da06083050ff43d68bfbc45fca9a672d",
            "tabbable": null,
            "tooltip": null
          }
        },
        "dc268d3e6ec1488ab92b34ec14ab93e0": {
          "model_module": "@jupyter-widgets/controls",
          "model_name": "HTMLModel",
          "model_module_version": "2.0.0",
          "state": {
            "_dom_classes": [],
            "_model_module": "@jupyter-widgets/controls",
            "_model_module_version": "2.0.0",
            "_model_name": "HTMLModel",
            "_view_count": null,
            "_view_module": "@jupyter-widgets/controls",
            "_view_module_version": "2.0.0",
            "_view_name": "HTMLView",
            "description": "",
            "description_allow_html": false,
            "layout": "IPY_MODEL_9dfa5fd819434595a540d030844efb47",
            "placeholder": "​",
            "style": "IPY_MODEL_c0b660b248934d86882a79ed45c33390",
            "tabbable": null,
            "tooltip": null,
            "value": "modules.json: 100%"
          }
        },
        "7c378cfd3d024b62998adda839cd43ca": {
          "model_module": "@jupyter-widgets/controls",
          "model_name": "FloatProgressModel",
          "model_module_version": "2.0.0",
          "state": {
            "_dom_classes": [],
            "_model_module": "@jupyter-widgets/controls",
            "_model_module_version": "2.0.0",
            "_model_name": "FloatProgressModel",
            "_view_count": null,
            "_view_module": "@jupyter-widgets/controls",
            "_view_module_version": "2.0.0",
            "_view_name": "ProgressView",
            "bar_style": "success",
            "description": "",
            "description_allow_html": false,
            "layout": "IPY_MODEL_90737e69b7264d02a46b957de4f7c297",
            "max": 349,
            "min": 0,
            "orientation": "horizontal",
            "style": "IPY_MODEL_5f95fe46f0884a60a9e5d53e0c685a63",
            "tabbable": null,
            "tooltip": null,
            "value": 349
          }
        },
        "e1c1322ea07e4692bb61e1654f7a475f": {
          "model_module": "@jupyter-widgets/controls",
          "model_name": "HTMLModel",
          "model_module_version": "2.0.0",
          "state": {
            "_dom_classes": [],
            "_model_module": "@jupyter-widgets/controls",
            "_model_module_version": "2.0.0",
            "_model_name": "HTMLModel",
            "_view_count": null,
            "_view_module": "@jupyter-widgets/controls",
            "_view_module_version": "2.0.0",
            "_view_name": "HTMLView",
            "description": "",
            "description_allow_html": false,
            "layout": "IPY_MODEL_9e6a3e46022c41a68b705318a1d61a16",
            "placeholder": "​",
            "style": "IPY_MODEL_106a4b27340e4be8a098083d244c4519",
            "tabbable": null,
            "tooltip": null,
            "value": " 349/349 [00:00&lt;00:00, 23.0kB/s]"
          }
        },
        "da06083050ff43d68bfbc45fca9a672d": {
          "model_module": "@jupyter-widgets/base",
          "model_name": "LayoutModel",
          "model_module_version": "2.0.0",
          "state": {
            "_model_module": "@jupyter-widgets/base",
            "_model_module_version": "2.0.0",
            "_model_name": "LayoutModel",
            "_view_count": null,
            "_view_module": "@jupyter-widgets/base",
            "_view_module_version": "2.0.0",
            "_view_name": "LayoutView",
            "align_content": null,
            "align_items": null,
            "align_self": null,
            "border_bottom": null,
            "border_left": null,
            "border_right": null,
            "border_top": null,
            "bottom": null,
            "display": null,
            "flex": null,
            "flex_flow": null,
            "grid_area": null,
            "grid_auto_columns": null,
            "grid_auto_flow": null,
            "grid_auto_rows": null,
            "grid_column": null,
            "grid_gap": null,
            "grid_row": null,
            "grid_template_areas": null,
            "grid_template_columns": null,
            "grid_template_rows": null,
            "height": null,
            "justify_content": null,
            "justify_items": null,
            "left": null,
            "margin": null,
            "max_height": null,
            "max_width": null,
            "min_height": null,
            "min_width": null,
            "object_fit": null,
            "object_position": null,
            "order": null,
            "overflow": null,
            "padding": null,
            "right": null,
            "top": null,
            "visibility": null,
            "width": null
          }
        },
        "9dfa5fd819434595a540d030844efb47": {
          "model_module": "@jupyter-widgets/base",
          "model_name": "LayoutModel",
          "model_module_version": "2.0.0",
          "state": {
            "_model_module": "@jupyter-widgets/base",
            "_model_module_version": "2.0.0",
            "_model_name": "LayoutModel",
            "_view_count": null,
            "_view_module": "@jupyter-widgets/base",
            "_view_module_version": "2.0.0",
            "_view_name": "LayoutView",
            "align_content": null,
            "align_items": null,
            "align_self": null,
            "border_bottom": null,
            "border_left": null,
            "border_right": null,
            "border_top": null,
            "bottom": null,
            "display": null,
            "flex": null,
            "flex_flow": null,
            "grid_area": null,
            "grid_auto_columns": null,
            "grid_auto_flow": null,
            "grid_auto_rows": null,
            "grid_column": null,
            "grid_gap": null,
            "grid_row": null,
            "grid_template_areas": null,
            "grid_template_columns": null,
            "grid_template_rows": null,
            "height": null,
            "justify_content": null,
            "justify_items": null,
            "left": null,
            "margin": null,
            "max_height": null,
            "max_width": null,
            "min_height": null,
            "min_width": null,
            "object_fit": null,
            "object_position": null,
            "order": null,
            "overflow": null,
            "padding": null,
            "right": null,
            "top": null,
            "visibility": null,
            "width": null
          }
        },
        "c0b660b248934d86882a79ed45c33390": {
          "model_module": "@jupyter-widgets/controls",
          "model_name": "HTMLStyleModel",
          "model_module_version": "2.0.0",
          "state": {
            "_model_module": "@jupyter-widgets/controls",
            "_model_module_version": "2.0.0",
            "_model_name": "HTMLStyleModel",
            "_view_count": null,
            "_view_module": "@jupyter-widgets/base",
            "_view_module_version": "2.0.0",
            "_view_name": "StyleView",
            "background": null,
            "description_width": "",
            "font_size": null,
            "text_color": null
          }
        },
        "90737e69b7264d02a46b957de4f7c297": {
          "model_module": "@jupyter-widgets/base",
          "model_name": "LayoutModel",
          "model_module_version": "2.0.0",
          "state": {
            "_model_module": "@jupyter-widgets/base",
            "_model_module_version": "2.0.0",
            "_model_name": "LayoutModel",
            "_view_count": null,
            "_view_module": "@jupyter-widgets/base",
            "_view_module_version": "2.0.0",
            "_view_name": "LayoutView",
            "align_content": null,
            "align_items": null,
            "align_self": null,
            "border_bottom": null,
            "border_left": null,
            "border_right": null,
            "border_top": null,
            "bottom": null,
            "display": null,
            "flex": null,
            "flex_flow": null,
            "grid_area": null,
            "grid_auto_columns": null,
            "grid_auto_flow": null,
            "grid_auto_rows": null,
            "grid_column": null,
            "grid_gap": null,
            "grid_row": null,
            "grid_template_areas": null,
            "grid_template_columns": null,
            "grid_template_rows": null,
            "height": null,
            "justify_content": null,
            "justify_items": null,
            "left": null,
            "margin": null,
            "max_height": null,
            "max_width": null,
            "min_height": null,
            "min_width": null,
            "object_fit": null,
            "object_position": null,
            "order": null,
            "overflow": null,
            "padding": null,
            "right": null,
            "top": null,
            "visibility": null,
            "width": null
          }
        },
        "5f95fe46f0884a60a9e5d53e0c685a63": {
          "model_module": "@jupyter-widgets/controls",
          "model_name": "ProgressStyleModel",
          "model_module_version": "2.0.0",
          "state": {
            "_model_module": "@jupyter-widgets/controls",
            "_model_module_version": "2.0.0",
            "_model_name": "ProgressStyleModel",
            "_view_count": null,
            "_view_module": "@jupyter-widgets/base",
            "_view_module_version": "2.0.0",
            "_view_name": "StyleView",
            "bar_color": null,
            "description_width": ""
          }
        },
        "9e6a3e46022c41a68b705318a1d61a16": {
          "model_module": "@jupyter-widgets/base",
          "model_name": "LayoutModel",
          "model_module_version": "2.0.0",
          "state": {
            "_model_module": "@jupyter-widgets/base",
            "_model_module_version": "2.0.0",
            "_model_name": "LayoutModel",
            "_view_count": null,
            "_view_module": "@jupyter-widgets/base",
            "_view_module_version": "2.0.0",
            "_view_name": "LayoutView",
            "align_content": null,
            "align_items": null,
            "align_self": null,
            "border_bottom": null,
            "border_left": null,
            "border_right": null,
            "border_top": null,
            "bottom": null,
            "display": null,
            "flex": null,
            "flex_flow": null,
            "grid_area": null,
            "grid_auto_columns": null,
            "grid_auto_flow": null,
            "grid_auto_rows": null,
            "grid_column": null,
            "grid_gap": null,
            "grid_row": null,
            "grid_template_areas": null,
            "grid_template_columns": null,
            "grid_template_rows": null,
            "height": null,
            "justify_content": null,
            "justify_items": null,
            "left": null,
            "margin": null,
            "max_height": null,
            "max_width": null,
            "min_height": null,
            "min_width": null,
            "object_fit": null,
            "object_position": null,
            "order": null,
            "overflow": null,
            "padding": null,
            "right": null,
            "top": null,
            "visibility": null,
            "width": null
          }
        },
        "106a4b27340e4be8a098083d244c4519": {
          "model_module": "@jupyter-widgets/controls",
          "model_name": "HTMLStyleModel",
          "model_module_version": "2.0.0",
          "state": {
            "_model_module": "@jupyter-widgets/controls",
            "_model_module_version": "2.0.0",
            "_model_name": "HTMLStyleModel",
            "_view_count": null,
            "_view_module": "@jupyter-widgets/base",
            "_view_module_version": "2.0.0",
            "_view_name": "StyleView",
            "background": null,
            "description_width": "",
            "font_size": null,
            "text_color": null
          }
        },
        "41e62a6f95b9406986f290efaf4d6ea0": {
          "model_module": "@jupyter-widgets/base",
          "model_name": "LayoutModel",
          "model_module_version": "2.0.0",
          "state": {
            "_model_module": "@jupyter-widgets/base",
            "_model_module_version": "2.0.0",
            "_model_name": "LayoutModel",
            "_view_count": null,
            "_view_module": "@jupyter-widgets/base",
            "_view_module_version": "2.0.0",
            "_view_name": "LayoutView",
            "align_content": null,
            "align_items": null,
            "align_self": null,
            "border_bottom": null,
            "border_left": null,
            "border_right": null,
            "border_top": null,
            "bottom": null,
            "display": null,
            "flex": null,
            "flex_flow": null,
            "grid_area": null,
            "grid_auto_columns": null,
            "grid_auto_flow": null,
            "grid_auto_rows": null,
            "grid_column": null,
            "grid_gap": null,
            "grid_row": null,
            "grid_template_areas": null,
            "grid_template_columns": null,
            "grid_template_rows": null,
            "height": null,
            "justify_content": null,
            "justify_items": null,
            "left": null,
            "margin": null,
            "max_height": null,
            "max_width": null,
            "min_height": null,
            "min_width": null,
            "object_fit": null,
            "object_position": null,
            "order": null,
            "overflow": null,
            "padding": null,
            "right": null,
            "top": null,
            "visibility": null,
            "width": null
          }
        },
        "6e4e4c5e3c9c47bd8b9b7804a9e02520": {
          "model_module": "@jupyter-widgets/controls",
          "model_name": "ProgressStyleModel",
          "model_module_version": "2.0.0",
          "state": {
            "_model_module": "@jupyter-widgets/controls",
            "_model_module_version": "2.0.0",
            "_model_name": "ProgressStyleModel",
            "_view_count": null,
            "_view_module": "@jupyter-widgets/base",
            "_view_module_version": "2.0.0",
            "_view_name": "StyleView",
            "bar_color": null,
            "description_width": ""
          }
        },
        "4816716455e94f3a9e9fc5731901a835": {
          "model_module": "@jupyter-widgets/base",
          "model_name": "LayoutModel",
          "model_module_version": "2.0.0",
          "state": {
            "_model_module": "@jupyter-widgets/base",
            "_model_module_version": "2.0.0",
            "_model_name": "LayoutModel",
            "_view_count": null,
            "_view_module": "@jupyter-widgets/base",
            "_view_module_version": "2.0.0",
            "_view_name": "LayoutView",
            "align_content": null,
            "align_items": null,
            "align_self": null,
            "border_bottom": null,
            "border_left": null,
            "border_right": null,
            "border_top": null,
            "bottom": null,
            "display": null,
            "flex": null,
            "flex_flow": null,
            "grid_area": null,
            "grid_auto_columns": null,
            "grid_auto_flow": null,
            "grid_auto_rows": null,
            "grid_column": null,
            "grid_gap": null,
            "grid_row": null,
            "grid_template_areas": null,
            "grid_template_columns": null,
            "grid_template_rows": null,
            "height": null,
            "justify_content": null,
            "justify_items": null,
            "left": null,
            "margin": null,
            "max_height": null,
            "max_width": null,
            "min_height": null,
            "min_width": null,
            "object_fit": null,
            "object_position": null,
            "order": null,
            "overflow": null,
            "padding": null,
            "right": null,
            "top": null,
            "visibility": null,
            "width": null
          }
        },
        "281806b41bf04582b0a8d8429de927c5": {
          "model_module": "@jupyter-widgets/controls",
          "model_name": "HTMLStyleModel",
          "model_module_version": "2.0.0",
          "state": {
            "_model_module": "@jupyter-widgets/controls",
            "_model_module_version": "2.0.0",
            "_model_name": "HTMLStyleModel",
            "_view_count": null,
            "_view_module": "@jupyter-widgets/base",
            "_view_module_version": "2.0.0",
            "_view_name": "StyleView",
            "background": null,
            "description_width": "",
            "font_size": null,
            "text_color": null
          }
        },
        "1e760f29e1cb4231b593d70b4a871123": {
          "model_module": "@jupyter-widgets/base",
          "model_name": "LayoutModel",
          "model_module_version": "2.0.0",
          "state": {
            "_model_module": "@jupyter-widgets/base",
            "_model_module_version": "2.0.0",
            "_model_name": "LayoutModel",
            "_view_count": null,
            "_view_module": "@jupyter-widgets/base",
            "_view_module_version": "2.0.0",
            "_view_name": "LayoutView",
            "align_content": null,
            "align_items": null,
            "align_self": null,
            "border_bottom": null,
            "border_left": null,
            "border_right": null,
            "border_top": null,
            "bottom": null,
            "display": null,
            "flex": null,
            "flex_flow": null,
            "grid_area": null,
            "grid_auto_columns": null,
            "grid_auto_flow": null,
            "grid_auto_rows": null,
            "grid_column": null,
            "grid_gap": null,
            "grid_row": null,
            "grid_template_areas": null,
            "grid_template_columns": null,
            "grid_template_rows": null,
            "height": null,
            "justify_content": null,
            "justify_items": null,
            "left": null,
            "margin": null,
            "max_height": null,
            "max_width": null,
            "min_height": null,
            "min_width": null,
            "object_fit": null,
            "object_position": null,
            "order": null,
            "overflow": null,
            "padding": null,
            "right": null,
            "top": null,
            "visibility": null,
            "width": null
          }
        },
        "5ace8badb516488a881855554c26834f": {
          "model_module": "@jupyter-widgets/controls",
          "model_name": "HTMLStyleModel",
          "model_module_version": "2.0.0",
          "state": {
            "_model_module": "@jupyter-widgets/controls",
            "_model_module_version": "2.0.0",
            "_model_name": "HTMLStyleModel",
            "_view_count": null,
            "_view_module": "@jupyter-widgets/base",
            "_view_module_version": "2.0.0",
            "_view_name": "StyleView",
            "background": null,
            "description_width": "",
            "font_size": null,
            "text_color": null
          }
        },
        "f62ff5594ef94b208f66f06aff7475c9": {
          "model_module": "@jupyter-widgets/controls",
          "model_name": "HTMLModel",
          "model_module_version": "2.0.0",
          "state": {
            "_dom_classes": [],
            "_model_module": "@jupyter-widgets/controls",
            "_model_module_version": "2.0.0",
            "_model_name": "HTMLModel",
            "_view_count": null,
            "_view_module": "@jupyter-widgets/controls",
            "_view_module_version": "2.0.0",
            "_view_name": "HTMLView",
            "description": "",
            "description_allow_html": false,
            "layout": "IPY_MODEL_4816716455e94f3a9e9fc5731901a835",
            "placeholder": "​",
            "style": "IPY_MODEL_281806b41bf04582b0a8d8429de927c5",
            "tabbable": null,
            "tooltip": null,
            "value": "config_sentence_transformers.json: 100%"
          }
        },
        "3cea40b397224796a317a13dedc1270a": {
          "model_module": "@jupyter-widgets/controls",
          "model_name": "FloatProgressModel",
          "model_module_version": "2.0.0",
          "state": {
            "_dom_classes": [],
            "_model_module": "@jupyter-widgets/controls",
            "_model_module_version": "2.0.0",
            "_model_name": "FloatProgressModel",
            "_view_count": null,
            "_view_module": "@jupyter-widgets/controls",
            "_view_module_version": "2.0.0",
            "_view_name": "ProgressView",
            "bar_style": "success",
            "description": "",
            "description_allow_html": false,
            "layout": "IPY_MODEL_41e62a6f95b9406986f290efaf4d6ea0",
            "max": 116,
            "min": 0,
            "orientation": "horizontal",
            "style": "IPY_MODEL_6e4e4c5e3c9c47bd8b9b7804a9e02520",
            "tabbable": null,
            "tooltip": null,
            "value": 116
          }
        },
        "cb0bff8bebd046fc8771357b649ee6cf": {
          "model_module": "@jupyter-widgets/controls",
          "model_name": "HTMLModel",
          "model_module_version": "2.0.0",
          "state": {
            "_dom_classes": [],
            "_model_module": "@jupyter-widgets/controls",
            "_model_module_version": "2.0.0",
            "_model_name": "HTMLModel",
            "_view_count": null,
            "_view_module": "@jupyter-widgets/controls",
            "_view_module_version": "2.0.0",
            "_view_name": "HTMLView",
            "description": "",
            "description_allow_html": false,
            "layout": "IPY_MODEL_1e760f29e1cb4231b593d70b4a871123",
            "placeholder": "​",
            "style": "IPY_MODEL_5ace8badb516488a881855554c26834f",
            "tabbable": null,
            "tooltip": null,
            "value": " 116/116 [00:00&lt;00:00, 8.36kB/s]"
          }
        },
        "49b3e71eca2641a1b31265b911853fdc": {
          "model_module": "@jupyter-widgets/base",
          "model_name": "LayoutModel",
          "model_module_version": "2.0.0",
          "state": {
            "_model_module": "@jupyter-widgets/base",
            "_model_module_version": "2.0.0",
            "_model_name": "LayoutModel",
            "_view_count": null,
            "_view_module": "@jupyter-widgets/base",
            "_view_module_version": "2.0.0",
            "_view_name": "LayoutView",
            "align_content": null,
            "align_items": null,
            "align_self": null,
            "border_bottom": null,
            "border_left": null,
            "border_right": null,
            "border_top": null,
            "bottom": null,
            "display": null,
            "flex": null,
            "flex_flow": null,
            "grid_area": null,
            "grid_auto_columns": null,
            "grid_auto_flow": null,
            "grid_auto_rows": null,
            "grid_column": null,
            "grid_gap": null,
            "grid_row": null,
            "grid_template_areas": null,
            "grid_template_columns": null,
            "grid_template_rows": null,
            "height": null,
            "justify_content": null,
            "justify_items": null,
            "left": null,
            "margin": null,
            "max_height": null,
            "max_width": null,
            "min_height": null,
            "min_width": null,
            "object_fit": null,
            "object_position": null,
            "order": null,
            "overflow": null,
            "padding": null,
            "right": null,
            "top": null,
            "visibility": null,
            "width": null
          }
        },
        "da0b653cb09744b8bc939d4073f89a60": {
          "model_module": "@jupyter-widgets/controls",
          "model_name": "HBoxModel",
          "model_module_version": "2.0.0",
          "state": {
            "_dom_classes": [],
            "_model_module": "@jupyter-widgets/controls",
            "_model_module_version": "2.0.0",
            "_model_name": "HBoxModel",
            "_view_count": null,
            "_view_module": "@jupyter-widgets/controls",
            "_view_module_version": "2.0.0",
            "_view_name": "HBoxView",
            "box_style": "",
            "children": [
              "IPY_MODEL_f62ff5594ef94b208f66f06aff7475c9",
              "IPY_MODEL_3cea40b397224796a317a13dedc1270a",
              "IPY_MODEL_cb0bff8bebd046fc8771357b649ee6cf"
            ],
            "layout": "IPY_MODEL_49b3e71eca2641a1b31265b911853fdc",
            "tabbable": null,
            "tooltip": null
          }
        },
        "b7dac1fb135b49269ce6d1eab7196de2": {
          "model_module": "@jupyter-widgets/base",
          "model_name": "LayoutModel",
          "model_module_version": "2.0.0",
          "state": {
            "_model_module": "@jupyter-widgets/base",
            "_model_module_version": "2.0.0",
            "_model_name": "LayoutModel",
            "_view_count": null,
            "_view_module": "@jupyter-widgets/base",
            "_view_module_version": "2.0.0",
            "_view_name": "LayoutView",
            "align_content": null,
            "align_items": null,
            "align_self": null,
            "border_bottom": null,
            "border_left": null,
            "border_right": null,
            "border_top": null,
            "bottom": null,
            "display": null,
            "flex": null,
            "flex_flow": null,
            "grid_area": null,
            "grid_auto_columns": null,
            "grid_auto_flow": null,
            "grid_auto_rows": null,
            "grid_column": null,
            "grid_gap": null,
            "grid_row": null,
            "grid_template_areas": null,
            "grid_template_columns": null,
            "grid_template_rows": null,
            "height": null,
            "justify_content": null,
            "justify_items": null,
            "left": null,
            "margin": null,
            "max_height": null,
            "max_width": null,
            "min_height": null,
            "min_width": null,
            "object_fit": null,
            "object_position": null,
            "order": null,
            "overflow": null,
            "padding": null,
            "right": null,
            "top": null,
            "visibility": null,
            "width": null
          }
        },
        "8ae091a93d8041ac883485db7bc5b878": {
          "model_module": "@jupyter-widgets/controls",
          "model_name": "ProgressStyleModel",
          "model_module_version": "2.0.0",
          "state": {
            "_model_module": "@jupyter-widgets/controls",
            "_model_module_version": "2.0.0",
            "_model_name": "ProgressStyleModel",
            "_view_count": null,
            "_view_module": "@jupyter-widgets/base",
            "_view_module_version": "2.0.0",
            "_view_name": "StyleView",
            "bar_color": null,
            "description_width": ""
          }
        },
        "a30f8b8fed1840fa9169dbdac18799d7": {
          "model_module": "@jupyter-widgets/base",
          "model_name": "LayoutModel",
          "model_module_version": "2.0.0",
          "state": {
            "_model_module": "@jupyter-widgets/base",
            "_model_module_version": "2.0.0",
            "_model_name": "LayoutModel",
            "_view_count": null,
            "_view_module": "@jupyter-widgets/base",
            "_view_module_version": "2.0.0",
            "_view_name": "LayoutView",
            "align_content": null,
            "align_items": null,
            "align_self": null,
            "border_bottom": null,
            "border_left": null,
            "border_right": null,
            "border_top": null,
            "bottom": null,
            "display": null,
            "flex": null,
            "flex_flow": null,
            "grid_area": null,
            "grid_auto_columns": null,
            "grid_auto_flow": null,
            "grid_auto_rows": null,
            "grid_column": null,
            "grid_gap": null,
            "grid_row": null,
            "grid_template_areas": null,
            "grid_template_columns": null,
            "grid_template_rows": null,
            "height": null,
            "justify_content": null,
            "justify_items": null,
            "left": null,
            "margin": null,
            "max_height": null,
            "max_width": null,
            "min_height": null,
            "min_width": null,
            "object_fit": null,
            "object_position": null,
            "order": null,
            "overflow": null,
            "padding": null,
            "right": null,
            "top": null,
            "visibility": null,
            "width": null
          }
        },
        "46369594f550429f842e6800b866a84d": {
          "model_module": "@jupyter-widgets/controls",
          "model_name": "HTMLStyleModel",
          "model_module_version": "2.0.0",
          "state": {
            "_model_module": "@jupyter-widgets/controls",
            "_model_module_version": "2.0.0",
            "_model_name": "HTMLStyleModel",
            "_view_count": null,
            "_view_module": "@jupyter-widgets/base",
            "_view_module_version": "2.0.0",
            "_view_name": "StyleView",
            "background": null,
            "description_width": "",
            "font_size": null,
            "text_color": null
          }
        },
        "beb08784b5c04b0d955f8828c15cc670": {
          "model_module": "@jupyter-widgets/base",
          "model_name": "LayoutModel",
          "model_module_version": "2.0.0",
          "state": {
            "_model_module": "@jupyter-widgets/base",
            "_model_module_version": "2.0.0",
            "_model_name": "LayoutModel",
            "_view_count": null,
            "_view_module": "@jupyter-widgets/base",
            "_view_module_version": "2.0.0",
            "_view_name": "LayoutView",
            "align_content": null,
            "align_items": null,
            "align_self": null,
            "border_bottom": null,
            "border_left": null,
            "border_right": null,
            "border_top": null,
            "bottom": null,
            "display": null,
            "flex": null,
            "flex_flow": null,
            "grid_area": null,
            "grid_auto_columns": null,
            "grid_auto_flow": null,
            "grid_auto_rows": null,
            "grid_column": null,
            "grid_gap": null,
            "grid_row": null,
            "grid_template_areas": null,
            "grid_template_columns": null,
            "grid_template_rows": null,
            "height": null,
            "justify_content": null,
            "justify_items": null,
            "left": null,
            "margin": null,
            "max_height": null,
            "max_width": null,
            "min_height": null,
            "min_width": null,
            "object_fit": null,
            "object_position": null,
            "order": null,
            "overflow": null,
            "padding": null,
            "right": null,
            "top": null,
            "visibility": null,
            "width": null
          }
        },
        "c630a3e6f46c4d96b08e99ee6f05ba1d": {
          "model_module": "@jupyter-widgets/controls",
          "model_name": "HTMLStyleModel",
          "model_module_version": "2.0.0",
          "state": {
            "_model_module": "@jupyter-widgets/controls",
            "_model_module_version": "2.0.0",
            "_model_name": "HTMLStyleModel",
            "_view_count": null,
            "_view_module": "@jupyter-widgets/base",
            "_view_module_version": "2.0.0",
            "_view_name": "StyleView",
            "background": null,
            "description_width": "",
            "font_size": null,
            "text_color": null
          }
        },
        "aace1fb192294cb095c0de8c600764be": {
          "model_module": "@jupyter-widgets/controls",
          "model_name": "HTMLModel",
          "model_module_version": "2.0.0",
          "state": {
            "_dom_classes": [],
            "_model_module": "@jupyter-widgets/controls",
            "_model_module_version": "2.0.0",
            "_model_name": "HTMLModel",
            "_view_count": null,
            "_view_module": "@jupyter-widgets/controls",
            "_view_module_version": "2.0.0",
            "_view_name": "HTMLView",
            "description": "",
            "description_allow_html": false,
            "layout": "IPY_MODEL_a30f8b8fed1840fa9169dbdac18799d7",
            "placeholder": "​",
            "style": "IPY_MODEL_46369594f550429f842e6800b866a84d",
            "tabbable": null,
            "tooltip": null,
            "value": "README.md: 100%"
          }
        },
        "0d007cac36d4429aa87fe40e8327a9d2": {
          "model_module": "@jupyter-widgets/controls",
          "model_name": "FloatProgressModel",
          "model_module_version": "2.0.0",
          "state": {
            "_dom_classes": [],
            "_model_module": "@jupyter-widgets/controls",
            "_model_module_version": "2.0.0",
            "_model_name": "FloatProgressModel",
            "_view_count": null,
            "_view_module": "@jupyter-widgets/controls",
            "_view_module_version": "2.0.0",
            "_view_name": "ProgressView",
            "bar_style": "success",
            "description": "",
            "description_allow_html": false,
            "layout": "IPY_MODEL_b7dac1fb135b49269ce6d1eab7196de2",
            "max": 10659,
            "min": 0,
            "orientation": "horizontal",
            "style": "IPY_MODEL_8ae091a93d8041ac883485db7bc5b878",
            "tabbable": null,
            "tooltip": null,
            "value": 10659
          }
        },
        "366f1412b713433db193cb8980d291d2": {
          "model_module": "@jupyter-widgets/controls",
          "model_name": "HTMLModel",
          "model_module_version": "2.0.0",
          "state": {
            "_dom_classes": [],
            "_model_module": "@jupyter-widgets/controls",
            "_model_module_version": "2.0.0",
            "_model_name": "HTMLModel",
            "_view_count": null,
            "_view_module": "@jupyter-widgets/controls",
            "_view_module_version": "2.0.0",
            "_view_name": "HTMLView",
            "description": "",
            "description_allow_html": false,
            "layout": "IPY_MODEL_beb08784b5c04b0d955f8828c15cc670",
            "placeholder": "​",
            "style": "IPY_MODEL_c630a3e6f46c4d96b08e99ee6f05ba1d",
            "tabbable": null,
            "tooltip": null,
            "value": " 10.7k/10.7k [00:00&lt;00:00, 381kB/s]"
          }
        },
        "70ec33ea4df94f6dba0698f130ef4f0c": {
          "model_module": "@jupyter-widgets/base",
          "model_name": "LayoutModel",
          "model_module_version": "2.0.0",
          "state": {
            "_model_module": "@jupyter-widgets/base",
            "_model_module_version": "2.0.0",
            "_model_name": "LayoutModel",
            "_view_count": null,
            "_view_module": "@jupyter-widgets/base",
            "_view_module_version": "2.0.0",
            "_view_name": "LayoutView",
            "align_content": null,
            "align_items": null,
            "align_self": null,
            "border_bottom": null,
            "border_left": null,
            "border_right": null,
            "border_top": null,
            "bottom": null,
            "display": null,
            "flex": null,
            "flex_flow": null,
            "grid_area": null,
            "grid_auto_columns": null,
            "grid_auto_flow": null,
            "grid_auto_rows": null,
            "grid_column": null,
            "grid_gap": null,
            "grid_row": null,
            "grid_template_areas": null,
            "grid_template_columns": null,
            "grid_template_rows": null,
            "height": null,
            "justify_content": null,
            "justify_items": null,
            "left": null,
            "margin": null,
            "max_height": null,
            "max_width": null,
            "min_height": null,
            "min_width": null,
            "object_fit": null,
            "object_position": null,
            "order": null,
            "overflow": null,
            "padding": null,
            "right": null,
            "top": null,
            "visibility": null,
            "width": null
          }
        },
        "3fe9d97e7b15443888de7d242dacaa7f": {
          "model_module": "@jupyter-widgets/controls",
          "model_name": "HBoxModel",
          "model_module_version": "2.0.0",
          "state": {
            "_dom_classes": [],
            "_model_module": "@jupyter-widgets/controls",
            "_model_module_version": "2.0.0",
            "_model_name": "HBoxModel",
            "_view_count": null,
            "_view_module": "@jupyter-widgets/controls",
            "_view_module_version": "2.0.0",
            "_view_name": "HBoxView",
            "box_style": "",
            "children": [
              "IPY_MODEL_aace1fb192294cb095c0de8c600764be",
              "IPY_MODEL_0d007cac36d4429aa87fe40e8327a9d2",
              "IPY_MODEL_366f1412b713433db193cb8980d291d2"
            ],
            "layout": "IPY_MODEL_70ec33ea4df94f6dba0698f130ef4f0c",
            "tabbable": null,
            "tooltip": null
          }
        },
        "554a88ecc6614e4eba2dcd1562a21f25": {
          "model_module": "@jupyter-widgets/base",
          "model_name": "LayoutModel",
          "model_module_version": "2.0.0",
          "state": {
            "_model_module": "@jupyter-widgets/base",
            "_model_module_version": "2.0.0",
            "_model_name": "LayoutModel",
            "_view_count": null,
            "_view_module": "@jupyter-widgets/base",
            "_view_module_version": "2.0.0",
            "_view_name": "LayoutView",
            "align_content": null,
            "align_items": null,
            "align_self": null,
            "border_bottom": null,
            "border_left": null,
            "border_right": null,
            "border_top": null,
            "bottom": null,
            "display": null,
            "flex": null,
            "flex_flow": null,
            "grid_area": null,
            "grid_auto_columns": null,
            "grid_auto_flow": null,
            "grid_auto_rows": null,
            "grid_column": null,
            "grid_gap": null,
            "grid_row": null,
            "grid_template_areas": null,
            "grid_template_columns": null,
            "grid_template_rows": null,
            "height": null,
            "justify_content": null,
            "justify_items": null,
            "left": null,
            "margin": null,
            "max_height": null,
            "max_width": null,
            "min_height": null,
            "min_width": null,
            "object_fit": null,
            "object_position": null,
            "order": null,
            "overflow": null,
            "padding": null,
            "right": null,
            "top": null,
            "visibility": null,
            "width": null
          }
        },
        "e78cca1bad1b43d89ad37b6d2f789b00": {
          "model_module": "@jupyter-widgets/controls",
          "model_name": "ProgressStyleModel",
          "model_module_version": "2.0.0",
          "state": {
            "_model_module": "@jupyter-widgets/controls",
            "_model_module_version": "2.0.0",
            "_model_name": "ProgressStyleModel",
            "_view_count": null,
            "_view_module": "@jupyter-widgets/base",
            "_view_module_version": "2.0.0",
            "_view_name": "StyleView",
            "bar_color": null,
            "description_width": ""
          }
        },
        "9a1d1bcc7d1e435892fb7f9f3b873d35": {
          "model_module": "@jupyter-widgets/base",
          "model_name": "LayoutModel",
          "model_module_version": "2.0.0",
          "state": {
            "_model_module": "@jupyter-widgets/base",
            "_model_module_version": "2.0.0",
            "_model_name": "LayoutModel",
            "_view_count": null,
            "_view_module": "@jupyter-widgets/base",
            "_view_module_version": "2.0.0",
            "_view_name": "LayoutView",
            "align_content": null,
            "align_items": null,
            "align_self": null,
            "border_bottom": null,
            "border_left": null,
            "border_right": null,
            "border_top": null,
            "bottom": null,
            "display": null,
            "flex": null,
            "flex_flow": null,
            "grid_area": null,
            "grid_auto_columns": null,
            "grid_auto_flow": null,
            "grid_auto_rows": null,
            "grid_column": null,
            "grid_gap": null,
            "grid_row": null,
            "grid_template_areas": null,
            "grid_template_columns": null,
            "grid_template_rows": null,
            "height": null,
            "justify_content": null,
            "justify_items": null,
            "left": null,
            "margin": null,
            "max_height": null,
            "max_width": null,
            "min_height": null,
            "min_width": null,
            "object_fit": null,
            "object_position": null,
            "order": null,
            "overflow": null,
            "padding": null,
            "right": null,
            "top": null,
            "visibility": null,
            "width": null
          }
        },
        "c084780ec95244e5a5e76e0a019e8513": {
          "model_module": "@jupyter-widgets/controls",
          "model_name": "HTMLStyleModel",
          "model_module_version": "2.0.0",
          "state": {
            "_model_module": "@jupyter-widgets/controls",
            "_model_module_version": "2.0.0",
            "_model_name": "HTMLStyleModel",
            "_view_count": null,
            "_view_module": "@jupyter-widgets/base",
            "_view_module_version": "2.0.0",
            "_view_name": "StyleView",
            "background": null,
            "description_width": "",
            "font_size": null,
            "text_color": null
          }
        },
        "8e44340a6fec45a3903e3fa73db88af6": {
          "model_module": "@jupyter-widgets/base",
          "model_name": "LayoutModel",
          "model_module_version": "2.0.0",
          "state": {
            "_model_module": "@jupyter-widgets/base",
            "_model_module_version": "2.0.0",
            "_model_name": "LayoutModel",
            "_view_count": null,
            "_view_module": "@jupyter-widgets/base",
            "_view_module_version": "2.0.0",
            "_view_name": "LayoutView",
            "align_content": null,
            "align_items": null,
            "align_self": null,
            "border_bottom": null,
            "border_left": null,
            "border_right": null,
            "border_top": null,
            "bottom": null,
            "display": null,
            "flex": null,
            "flex_flow": null,
            "grid_area": null,
            "grid_auto_columns": null,
            "grid_auto_flow": null,
            "grid_auto_rows": null,
            "grid_column": null,
            "grid_gap": null,
            "grid_row": null,
            "grid_template_areas": null,
            "grid_template_columns": null,
            "grid_template_rows": null,
            "height": null,
            "justify_content": null,
            "justify_items": null,
            "left": null,
            "margin": null,
            "max_height": null,
            "max_width": null,
            "min_height": null,
            "min_width": null,
            "object_fit": null,
            "object_position": null,
            "order": null,
            "overflow": null,
            "padding": null,
            "right": null,
            "top": null,
            "visibility": null,
            "width": null
          }
        },
        "1bb5b5df3bdf4a889d822357a03b0d32": {
          "model_module": "@jupyter-widgets/controls",
          "model_name": "HTMLStyleModel",
          "model_module_version": "2.0.0",
          "state": {
            "_model_module": "@jupyter-widgets/controls",
            "_model_module_version": "2.0.0",
            "_model_name": "HTMLStyleModel",
            "_view_count": null,
            "_view_module": "@jupyter-widgets/base",
            "_view_module_version": "2.0.0",
            "_view_name": "StyleView",
            "background": null,
            "description_width": "",
            "font_size": null,
            "text_color": null
          }
        },
        "531151fa08e640058b68b3b1674f21c5": {
          "model_module": "@jupyter-widgets/controls",
          "model_name": "HTMLModel",
          "model_module_version": "2.0.0",
          "state": {
            "_dom_classes": [],
            "_model_module": "@jupyter-widgets/controls",
            "_model_module_version": "2.0.0",
            "_model_name": "HTMLModel",
            "_view_count": null,
            "_view_module": "@jupyter-widgets/controls",
            "_view_module_version": "2.0.0",
            "_view_name": "HTMLView",
            "description": "",
            "description_allow_html": false,
            "layout": "IPY_MODEL_9a1d1bcc7d1e435892fb7f9f3b873d35",
            "placeholder": "​",
            "style": "IPY_MODEL_c084780ec95244e5a5e76e0a019e8513",
            "tabbable": null,
            "tooltip": null,
            "value": "sentence_bert_config.json: 100%"
          }
        },
        "e88fcc9f7b9241d8804a01079e9adf3e": {
          "model_module": "@jupyter-widgets/controls",
          "model_name": "FloatProgressModel",
          "model_module_version": "2.0.0",
          "state": {
            "_dom_classes": [],
            "_model_module": "@jupyter-widgets/controls",
            "_model_module_version": "2.0.0",
            "_model_name": "FloatProgressModel",
            "_view_count": null,
            "_view_module": "@jupyter-widgets/controls",
            "_view_module_version": "2.0.0",
            "_view_name": "ProgressView",
            "bar_style": "success",
            "description": "",
            "description_allow_html": false,
            "layout": "IPY_MODEL_554a88ecc6614e4eba2dcd1562a21f25",
            "max": 53,
            "min": 0,
            "orientation": "horizontal",
            "style": "IPY_MODEL_e78cca1bad1b43d89ad37b6d2f789b00",
            "tabbable": null,
            "tooltip": null,
            "value": 53
          }
        },
        "d187d4c35d294e479c2526ea9e9e3d22": {
          "model_module": "@jupyter-widgets/controls",
          "model_name": "HTMLModel",
          "model_module_version": "2.0.0",
          "state": {
            "_dom_classes": [],
            "_model_module": "@jupyter-widgets/controls",
            "_model_module_version": "2.0.0",
            "_model_name": "HTMLModel",
            "_view_count": null,
            "_view_module": "@jupyter-widgets/controls",
            "_view_module_version": "2.0.0",
            "_view_name": "HTMLView",
            "description": "",
            "description_allow_html": false,
            "layout": "IPY_MODEL_8e44340a6fec45a3903e3fa73db88af6",
            "placeholder": "​",
            "style": "IPY_MODEL_1bb5b5df3bdf4a889d822357a03b0d32",
            "tabbable": null,
            "tooltip": null,
            "value": " 53.0/53.0 [00:00&lt;00:00, 2.05kB/s]"
          }
        },
        "dd2d12f7b8f349d58759d3db832172e1": {
          "model_module": "@jupyter-widgets/base",
          "model_name": "LayoutModel",
          "model_module_version": "2.0.0",
          "state": {
            "_model_module": "@jupyter-widgets/base",
            "_model_module_version": "2.0.0",
            "_model_name": "LayoutModel",
            "_view_count": null,
            "_view_module": "@jupyter-widgets/base",
            "_view_module_version": "2.0.0",
            "_view_name": "LayoutView",
            "align_content": null,
            "align_items": null,
            "align_self": null,
            "border_bottom": null,
            "border_left": null,
            "border_right": null,
            "border_top": null,
            "bottom": null,
            "display": null,
            "flex": null,
            "flex_flow": null,
            "grid_area": null,
            "grid_auto_columns": null,
            "grid_auto_flow": null,
            "grid_auto_rows": null,
            "grid_column": null,
            "grid_gap": null,
            "grid_row": null,
            "grid_template_areas": null,
            "grid_template_columns": null,
            "grid_template_rows": null,
            "height": null,
            "justify_content": null,
            "justify_items": null,
            "left": null,
            "margin": null,
            "max_height": null,
            "max_width": null,
            "min_height": null,
            "min_width": null,
            "object_fit": null,
            "object_position": null,
            "order": null,
            "overflow": null,
            "padding": null,
            "right": null,
            "top": null,
            "visibility": null,
            "width": null
          }
        },
        "2c1d7813d8a34f55903ab789a8d073e1": {
          "model_module": "@jupyter-widgets/controls",
          "model_name": "HBoxModel",
          "model_module_version": "2.0.0",
          "state": {
            "_dom_classes": [],
            "_model_module": "@jupyter-widgets/controls",
            "_model_module_version": "2.0.0",
            "_model_name": "HBoxModel",
            "_view_count": null,
            "_view_module": "@jupyter-widgets/controls",
            "_view_module_version": "2.0.0",
            "_view_name": "HBoxView",
            "box_style": "",
            "children": [
              "IPY_MODEL_531151fa08e640058b68b3b1674f21c5",
              "IPY_MODEL_e88fcc9f7b9241d8804a01079e9adf3e",
              "IPY_MODEL_d187d4c35d294e479c2526ea9e9e3d22"
            ],
            "layout": "IPY_MODEL_dd2d12f7b8f349d58759d3db832172e1",
            "tabbable": null,
            "tooltip": null
          }
        },
        "379fc23c5a864e33aeae79ba05a576f4": {
          "model_module": "@jupyter-widgets/base",
          "model_name": "LayoutModel",
          "model_module_version": "2.0.0",
          "state": {
            "_model_module": "@jupyter-widgets/base",
            "_model_module_version": "2.0.0",
            "_model_name": "LayoutModel",
            "_view_count": null,
            "_view_module": "@jupyter-widgets/base",
            "_view_module_version": "2.0.0",
            "_view_name": "LayoutView",
            "align_content": null,
            "align_items": null,
            "align_self": null,
            "border_bottom": null,
            "border_left": null,
            "border_right": null,
            "border_top": null,
            "bottom": null,
            "display": null,
            "flex": null,
            "flex_flow": null,
            "grid_area": null,
            "grid_auto_columns": null,
            "grid_auto_flow": null,
            "grid_auto_rows": null,
            "grid_column": null,
            "grid_gap": null,
            "grid_row": null,
            "grid_template_areas": null,
            "grid_template_columns": null,
            "grid_template_rows": null,
            "height": null,
            "justify_content": null,
            "justify_items": null,
            "left": null,
            "margin": null,
            "max_height": null,
            "max_width": null,
            "min_height": null,
            "min_width": null,
            "object_fit": null,
            "object_position": null,
            "order": null,
            "overflow": null,
            "padding": null,
            "right": null,
            "top": null,
            "visibility": null,
            "width": null
          }
        },
        "a67d2f7a4674494aa6434ecd099dfecf": {
          "model_module": "@jupyter-widgets/controls",
          "model_name": "ProgressStyleModel",
          "model_module_version": "2.0.0",
          "state": {
            "_model_module": "@jupyter-widgets/controls",
            "_model_module_version": "2.0.0",
            "_model_name": "ProgressStyleModel",
            "_view_count": null,
            "_view_module": "@jupyter-widgets/base",
            "_view_module_version": "2.0.0",
            "_view_name": "StyleView",
            "bar_color": null,
            "description_width": ""
          }
        },
        "78d6135c0788404882ccf99e784f80e6": {
          "model_module": "@jupyter-widgets/base",
          "model_name": "LayoutModel",
          "model_module_version": "2.0.0",
          "state": {
            "_model_module": "@jupyter-widgets/base",
            "_model_module_version": "2.0.0",
            "_model_name": "LayoutModel",
            "_view_count": null,
            "_view_module": "@jupyter-widgets/base",
            "_view_module_version": "2.0.0",
            "_view_name": "LayoutView",
            "align_content": null,
            "align_items": null,
            "align_self": null,
            "border_bottom": null,
            "border_left": null,
            "border_right": null,
            "border_top": null,
            "bottom": null,
            "display": null,
            "flex": null,
            "flex_flow": null,
            "grid_area": null,
            "grid_auto_columns": null,
            "grid_auto_flow": null,
            "grid_auto_rows": null,
            "grid_column": null,
            "grid_gap": null,
            "grid_row": null,
            "grid_template_areas": null,
            "grid_template_columns": null,
            "grid_template_rows": null,
            "height": null,
            "justify_content": null,
            "justify_items": null,
            "left": null,
            "margin": null,
            "max_height": null,
            "max_width": null,
            "min_height": null,
            "min_width": null,
            "object_fit": null,
            "object_position": null,
            "order": null,
            "overflow": null,
            "padding": null,
            "right": null,
            "top": null,
            "visibility": null,
            "width": null
          }
        },
        "f9035fc4a6894743905a572450cf8f05": {
          "model_module": "@jupyter-widgets/controls",
          "model_name": "HTMLStyleModel",
          "model_module_version": "2.0.0",
          "state": {
            "_model_module": "@jupyter-widgets/controls",
            "_model_module_version": "2.0.0",
            "_model_name": "HTMLStyleModel",
            "_view_count": null,
            "_view_module": "@jupyter-widgets/base",
            "_view_module_version": "2.0.0",
            "_view_name": "StyleView",
            "background": null,
            "description_width": "",
            "font_size": null,
            "text_color": null
          }
        },
        "3f79586dcd3546b8bdea2f94bc21e5d6": {
          "model_module": "@jupyter-widgets/base",
          "model_name": "LayoutModel",
          "model_module_version": "2.0.0",
          "state": {
            "_model_module": "@jupyter-widgets/base",
            "_model_module_version": "2.0.0",
            "_model_name": "LayoutModel",
            "_view_count": null,
            "_view_module": "@jupyter-widgets/base",
            "_view_module_version": "2.0.0",
            "_view_name": "LayoutView",
            "align_content": null,
            "align_items": null,
            "align_self": null,
            "border_bottom": null,
            "border_left": null,
            "border_right": null,
            "border_top": null,
            "bottom": null,
            "display": null,
            "flex": null,
            "flex_flow": null,
            "grid_area": null,
            "grid_auto_columns": null,
            "grid_auto_flow": null,
            "grid_auto_rows": null,
            "grid_column": null,
            "grid_gap": null,
            "grid_row": null,
            "grid_template_areas": null,
            "grid_template_columns": null,
            "grid_template_rows": null,
            "height": null,
            "justify_content": null,
            "justify_items": null,
            "left": null,
            "margin": null,
            "max_height": null,
            "max_width": null,
            "min_height": null,
            "min_width": null,
            "object_fit": null,
            "object_position": null,
            "order": null,
            "overflow": null,
            "padding": null,
            "right": null,
            "top": null,
            "visibility": null,
            "width": null
          }
        },
        "5a2e050840ed421498bf4eff8627306b": {
          "model_module": "@jupyter-widgets/controls",
          "model_name": "HTMLStyleModel",
          "model_module_version": "2.0.0",
          "state": {
            "_model_module": "@jupyter-widgets/controls",
            "_model_module_version": "2.0.0",
            "_model_name": "HTMLStyleModel",
            "_view_count": null,
            "_view_module": "@jupyter-widgets/base",
            "_view_module_version": "2.0.0",
            "_view_name": "StyleView",
            "background": null,
            "description_width": "",
            "font_size": null,
            "text_color": null
          }
        },
        "1731055bf1ba4ca599e4ad874e680380": {
          "model_module": "@jupyter-widgets/controls",
          "model_name": "HTMLModel",
          "model_module_version": "2.0.0",
          "state": {
            "_dom_classes": [],
            "_model_module": "@jupyter-widgets/controls",
            "_model_module_version": "2.0.0",
            "_model_name": "HTMLModel",
            "_view_count": null,
            "_view_module": "@jupyter-widgets/controls",
            "_view_module_version": "2.0.0",
            "_view_name": "HTMLView",
            "description": "",
            "description_allow_html": false,
            "layout": "IPY_MODEL_78d6135c0788404882ccf99e784f80e6",
            "placeholder": "​",
            "style": "IPY_MODEL_f9035fc4a6894743905a572450cf8f05",
            "tabbable": null,
            "tooltip": null,
            "value": "config.json: 100%"
          }
        },
        "9b7cf1b2fef946a9909522752bd4bd63": {
          "model_module": "@jupyter-widgets/controls",
          "model_name": "FloatProgressModel",
          "model_module_version": "2.0.0",
          "state": {
            "_dom_classes": [],
            "_model_module": "@jupyter-widgets/controls",
            "_model_module_version": "2.0.0",
            "_model_name": "FloatProgressModel",
            "_view_count": null,
            "_view_module": "@jupyter-widgets/controls",
            "_view_module_version": "2.0.0",
            "_view_name": "ProgressView",
            "bar_style": "success",
            "description": "",
            "description_allow_html": false,
            "layout": "IPY_MODEL_379fc23c5a864e33aeae79ba05a576f4",
            "max": 612,
            "min": 0,
            "orientation": "horizontal",
            "style": "IPY_MODEL_a67d2f7a4674494aa6434ecd099dfecf",
            "tabbable": null,
            "tooltip": null,
            "value": 612
          }
        },
        "166d2662ac2b455e9c8303e3c0ae93f8": {
          "model_module": "@jupyter-widgets/controls",
          "model_name": "HTMLModel",
          "model_module_version": "2.0.0",
          "state": {
            "_dom_classes": [],
            "_model_module": "@jupyter-widgets/controls",
            "_model_module_version": "2.0.0",
            "_model_name": "HTMLModel",
            "_view_count": null,
            "_view_module": "@jupyter-widgets/controls",
            "_view_module_version": "2.0.0",
            "_view_name": "HTMLView",
            "description": "",
            "description_allow_html": false,
            "layout": "IPY_MODEL_3f79586dcd3546b8bdea2f94bc21e5d6",
            "placeholder": "​",
            "style": "IPY_MODEL_5a2e050840ed421498bf4eff8627306b",
            "tabbable": null,
            "tooltip": null,
            "value": " 612/612 [00:00&lt;00:00, 38.3kB/s]"
          }
        },
        "30f9397a7c79412c96ffeaaa77deab24": {
          "model_module": "@jupyter-widgets/base",
          "model_name": "LayoutModel",
          "model_module_version": "2.0.0",
          "state": {
            "_model_module": "@jupyter-widgets/base",
            "_model_module_version": "2.0.0",
            "_model_name": "LayoutModel",
            "_view_count": null,
            "_view_module": "@jupyter-widgets/base",
            "_view_module_version": "2.0.0",
            "_view_name": "LayoutView",
            "align_content": null,
            "align_items": null,
            "align_self": null,
            "border_bottom": null,
            "border_left": null,
            "border_right": null,
            "border_top": null,
            "bottom": null,
            "display": null,
            "flex": null,
            "flex_flow": null,
            "grid_area": null,
            "grid_auto_columns": null,
            "grid_auto_flow": null,
            "grid_auto_rows": null,
            "grid_column": null,
            "grid_gap": null,
            "grid_row": null,
            "grid_template_areas": null,
            "grid_template_columns": null,
            "grid_template_rows": null,
            "height": null,
            "justify_content": null,
            "justify_items": null,
            "left": null,
            "margin": null,
            "max_height": null,
            "max_width": null,
            "min_height": null,
            "min_width": null,
            "object_fit": null,
            "object_position": null,
            "order": null,
            "overflow": null,
            "padding": null,
            "right": null,
            "top": null,
            "visibility": null,
            "width": null
          }
        },
        "5ae2b5e7ee0241abbccc5e25dafe32ac": {
          "model_module": "@jupyter-widgets/controls",
          "model_name": "HBoxModel",
          "model_module_version": "2.0.0",
          "state": {
            "_dom_classes": [],
            "_model_module": "@jupyter-widgets/controls",
            "_model_module_version": "2.0.0",
            "_model_name": "HBoxModel",
            "_view_count": null,
            "_view_module": "@jupyter-widgets/controls",
            "_view_module_version": "2.0.0",
            "_view_name": "HBoxView",
            "box_style": "",
            "children": [
              "IPY_MODEL_1731055bf1ba4ca599e4ad874e680380",
              "IPY_MODEL_9b7cf1b2fef946a9909522752bd4bd63",
              "IPY_MODEL_166d2662ac2b455e9c8303e3c0ae93f8"
            ],
            "layout": "IPY_MODEL_30f9397a7c79412c96ffeaaa77deab24",
            "tabbable": null,
            "tooltip": null
          }
        },
        "88acc47fc0e74ed78fe050122775b1aa": {
          "model_module": "@jupyter-widgets/base",
          "model_name": "LayoutModel",
          "model_module_version": "2.0.0",
          "state": {
            "_model_module": "@jupyter-widgets/base",
            "_model_module_version": "2.0.0",
            "_model_name": "LayoutModel",
            "_view_count": null,
            "_view_module": "@jupyter-widgets/base",
            "_view_module_version": "2.0.0",
            "_view_name": "LayoutView",
            "align_content": null,
            "align_items": null,
            "align_self": null,
            "border_bottom": null,
            "border_left": null,
            "border_right": null,
            "border_top": null,
            "bottom": null,
            "display": null,
            "flex": null,
            "flex_flow": null,
            "grid_area": null,
            "grid_auto_columns": null,
            "grid_auto_flow": null,
            "grid_auto_rows": null,
            "grid_column": null,
            "grid_gap": null,
            "grid_row": null,
            "grid_template_areas": null,
            "grid_template_columns": null,
            "grid_template_rows": null,
            "height": null,
            "justify_content": null,
            "justify_items": null,
            "left": null,
            "margin": null,
            "max_height": null,
            "max_width": null,
            "min_height": null,
            "min_width": null,
            "object_fit": null,
            "object_position": null,
            "order": null,
            "overflow": null,
            "padding": null,
            "right": null,
            "top": null,
            "visibility": null,
            "width": null
          }
        },
        "67be7fe46e5a486b83dc6ff9eb6b0419": {
          "model_module": "@jupyter-widgets/controls",
          "model_name": "ProgressStyleModel",
          "model_module_version": "2.0.0",
          "state": {
            "_model_module": "@jupyter-widgets/controls",
            "_model_module_version": "2.0.0",
            "_model_name": "ProgressStyleModel",
            "_view_count": null,
            "_view_module": "@jupyter-widgets/base",
            "_view_module_version": "2.0.0",
            "_view_name": "StyleView",
            "bar_color": null,
            "description_width": ""
          }
        },
        "b94d6c2aa47942708ef9cb355541e199": {
          "model_module": "@jupyter-widgets/base",
          "model_name": "LayoutModel",
          "model_module_version": "2.0.0",
          "state": {
            "_model_module": "@jupyter-widgets/base",
            "_model_module_version": "2.0.0",
            "_model_name": "LayoutModel",
            "_view_count": null,
            "_view_module": "@jupyter-widgets/base",
            "_view_module_version": "2.0.0",
            "_view_name": "LayoutView",
            "align_content": null,
            "align_items": null,
            "align_self": null,
            "border_bottom": null,
            "border_left": null,
            "border_right": null,
            "border_top": null,
            "bottom": null,
            "display": null,
            "flex": null,
            "flex_flow": null,
            "grid_area": null,
            "grid_auto_columns": null,
            "grid_auto_flow": null,
            "grid_auto_rows": null,
            "grid_column": null,
            "grid_gap": null,
            "grid_row": null,
            "grid_template_areas": null,
            "grid_template_columns": null,
            "grid_template_rows": null,
            "height": null,
            "justify_content": null,
            "justify_items": null,
            "left": null,
            "margin": null,
            "max_height": null,
            "max_width": null,
            "min_height": null,
            "min_width": null,
            "object_fit": null,
            "object_position": null,
            "order": null,
            "overflow": null,
            "padding": null,
            "right": null,
            "top": null,
            "visibility": null,
            "width": null
          }
        },
        "1041b594a69a40f6b3731b45014d29c5": {
          "model_module": "@jupyter-widgets/controls",
          "model_name": "HTMLStyleModel",
          "model_module_version": "2.0.0",
          "state": {
            "_model_module": "@jupyter-widgets/controls",
            "_model_module_version": "2.0.0",
            "_model_name": "HTMLStyleModel",
            "_view_count": null,
            "_view_module": "@jupyter-widgets/base",
            "_view_module_version": "2.0.0",
            "_view_name": "StyleView",
            "background": null,
            "description_width": "",
            "font_size": null,
            "text_color": null
          }
        },
        "1322dcf10e5f4413b486092efa039419": {
          "model_module": "@jupyter-widgets/base",
          "model_name": "LayoutModel",
          "model_module_version": "2.0.0",
          "state": {
            "_model_module": "@jupyter-widgets/base",
            "_model_module_version": "2.0.0",
            "_model_name": "LayoutModel",
            "_view_count": null,
            "_view_module": "@jupyter-widgets/base",
            "_view_module_version": "2.0.0",
            "_view_name": "LayoutView",
            "align_content": null,
            "align_items": null,
            "align_self": null,
            "border_bottom": null,
            "border_left": null,
            "border_right": null,
            "border_top": null,
            "bottom": null,
            "display": null,
            "flex": null,
            "flex_flow": null,
            "grid_area": null,
            "grid_auto_columns": null,
            "grid_auto_flow": null,
            "grid_auto_rows": null,
            "grid_column": null,
            "grid_gap": null,
            "grid_row": null,
            "grid_template_areas": null,
            "grid_template_columns": null,
            "grid_template_rows": null,
            "height": null,
            "justify_content": null,
            "justify_items": null,
            "left": null,
            "margin": null,
            "max_height": null,
            "max_width": null,
            "min_height": null,
            "min_width": null,
            "object_fit": null,
            "object_position": null,
            "order": null,
            "overflow": null,
            "padding": null,
            "right": null,
            "top": null,
            "visibility": null,
            "width": null
          }
        },
        "5f04086909164b648fc2573a50b9a5b5": {
          "model_module": "@jupyter-widgets/controls",
          "model_name": "HTMLStyleModel",
          "model_module_version": "2.0.0",
          "state": {
            "_model_module": "@jupyter-widgets/controls",
            "_model_module_version": "2.0.0",
            "_model_name": "HTMLStyleModel",
            "_view_count": null,
            "_view_module": "@jupyter-widgets/base",
            "_view_module_version": "2.0.0",
            "_view_name": "StyleView",
            "background": null,
            "description_width": "",
            "font_size": null,
            "text_color": null
          }
        },
        "b9751f10235b48e6a7cf450b4504f877": {
          "model_module": "@jupyter-widgets/controls",
          "model_name": "HTMLModel",
          "model_module_version": "2.0.0",
          "state": {
            "_dom_classes": [],
            "_model_module": "@jupyter-widgets/controls",
            "_model_module_version": "2.0.0",
            "_model_name": "HTMLModel",
            "_view_count": null,
            "_view_module": "@jupyter-widgets/controls",
            "_view_module_version": "2.0.0",
            "_view_name": "HTMLView",
            "description": "",
            "description_allow_html": false,
            "layout": "IPY_MODEL_b94d6c2aa47942708ef9cb355541e199",
            "placeholder": "​",
            "style": "IPY_MODEL_1041b594a69a40f6b3731b45014d29c5",
            "tabbable": null,
            "tooltip": null,
            "value": "model.safetensors: 100%"
          }
        },
        "82aa9d72875d4defae1c774657b95516": {
          "model_module": "@jupyter-widgets/controls",
          "model_name": "FloatProgressModel",
          "model_module_version": "2.0.0",
          "state": {
            "_dom_classes": [],
            "_model_module": "@jupyter-widgets/controls",
            "_model_module_version": "2.0.0",
            "_model_name": "FloatProgressModel",
            "_view_count": null,
            "_view_module": "@jupyter-widgets/controls",
            "_view_module_version": "2.0.0",
            "_view_name": "ProgressView",
            "bar_style": "success",
            "description": "",
            "description_allow_html": false,
            "layout": "IPY_MODEL_88acc47fc0e74ed78fe050122775b1aa",
            "max": 90868376,
            "min": 0,
            "orientation": "horizontal",
            "style": "IPY_MODEL_67be7fe46e5a486b83dc6ff9eb6b0419",
            "tabbable": null,
            "tooltip": null,
            "value": 90868376
          }
        },
        "ee968b7d897146c48617b7eb62be61e4": {
          "model_module": "@jupyter-widgets/controls",
          "model_name": "HTMLModel",
          "model_module_version": "2.0.0",
          "state": {
            "_dom_classes": [],
            "_model_module": "@jupyter-widgets/controls",
            "_model_module_version": "2.0.0",
            "_model_name": "HTMLModel",
            "_view_count": null,
            "_view_module": "@jupyter-widgets/controls",
            "_view_module_version": "2.0.0",
            "_view_name": "HTMLView",
            "description": "",
            "description_allow_html": false,
            "layout": "IPY_MODEL_1322dcf10e5f4413b486092efa039419",
            "placeholder": "​",
            "style": "IPY_MODEL_5f04086909164b648fc2573a50b9a5b5",
            "tabbable": null,
            "tooltip": null,
            "value": " 90.9M/90.9M [00:01&lt;00:00, 123MB/s]"
          }
        },
        "b7af3be1a8f84519b0e8623e974af631": {
          "model_module": "@jupyter-widgets/base",
          "model_name": "LayoutModel",
          "model_module_version": "2.0.0",
          "state": {
            "_model_module": "@jupyter-widgets/base",
            "_model_module_version": "2.0.0",
            "_model_name": "LayoutModel",
            "_view_count": null,
            "_view_module": "@jupyter-widgets/base",
            "_view_module_version": "2.0.0",
            "_view_name": "LayoutView",
            "align_content": null,
            "align_items": null,
            "align_self": null,
            "border_bottom": null,
            "border_left": null,
            "border_right": null,
            "border_top": null,
            "bottom": null,
            "display": null,
            "flex": null,
            "flex_flow": null,
            "grid_area": null,
            "grid_auto_columns": null,
            "grid_auto_flow": null,
            "grid_auto_rows": null,
            "grid_column": null,
            "grid_gap": null,
            "grid_row": null,
            "grid_template_areas": null,
            "grid_template_columns": null,
            "grid_template_rows": null,
            "height": null,
            "justify_content": null,
            "justify_items": null,
            "left": null,
            "margin": null,
            "max_height": null,
            "max_width": null,
            "min_height": null,
            "min_width": null,
            "object_fit": null,
            "object_position": null,
            "order": null,
            "overflow": null,
            "padding": null,
            "right": null,
            "top": null,
            "visibility": null,
            "width": null
          }
        },
        "ff304dea4fbd41a887cdde1abca93035": {
          "model_module": "@jupyter-widgets/controls",
          "model_name": "HBoxModel",
          "model_module_version": "2.0.0",
          "state": {
            "_dom_classes": [],
            "_model_module": "@jupyter-widgets/controls",
            "_model_module_version": "2.0.0",
            "_model_name": "HBoxModel",
            "_view_count": null,
            "_view_module": "@jupyter-widgets/controls",
            "_view_module_version": "2.0.0",
            "_view_name": "HBoxView",
            "box_style": "",
            "children": [
              "IPY_MODEL_b9751f10235b48e6a7cf450b4504f877",
              "IPY_MODEL_82aa9d72875d4defae1c774657b95516",
              "IPY_MODEL_ee968b7d897146c48617b7eb62be61e4"
            ],
            "layout": "IPY_MODEL_b7af3be1a8f84519b0e8623e974af631",
            "tabbable": null,
            "tooltip": null
          }
        },
        "8e30e2344f65433ba53577cd02dd00d2": {
          "model_module": "@jupyter-widgets/base",
          "model_name": "LayoutModel",
          "model_module_version": "2.0.0",
          "state": {
            "_model_module": "@jupyter-widgets/base",
            "_model_module_version": "2.0.0",
            "_model_name": "LayoutModel",
            "_view_count": null,
            "_view_module": "@jupyter-widgets/base",
            "_view_module_version": "2.0.0",
            "_view_name": "LayoutView",
            "align_content": null,
            "align_items": null,
            "align_self": null,
            "border_bottom": null,
            "border_left": null,
            "border_right": null,
            "border_top": null,
            "bottom": null,
            "display": null,
            "flex": null,
            "flex_flow": null,
            "grid_area": null,
            "grid_auto_columns": null,
            "grid_auto_flow": null,
            "grid_auto_rows": null,
            "grid_column": null,
            "grid_gap": null,
            "grid_row": null,
            "grid_template_areas": null,
            "grid_template_columns": null,
            "grid_template_rows": null,
            "height": null,
            "justify_content": null,
            "justify_items": null,
            "left": null,
            "margin": null,
            "max_height": null,
            "max_width": null,
            "min_height": null,
            "min_width": null,
            "object_fit": null,
            "object_position": null,
            "order": null,
            "overflow": null,
            "padding": null,
            "right": null,
            "top": null,
            "visibility": null,
            "width": null
          }
        },
        "1641fdecfa7e41c0b2858538fab2dbd1": {
          "model_module": "@jupyter-widgets/controls",
          "model_name": "ProgressStyleModel",
          "model_module_version": "2.0.0",
          "state": {
            "_model_module": "@jupyter-widgets/controls",
            "_model_module_version": "2.0.0",
            "_model_name": "ProgressStyleModel",
            "_view_count": null,
            "_view_module": "@jupyter-widgets/base",
            "_view_module_version": "2.0.0",
            "_view_name": "StyleView",
            "bar_color": null,
            "description_width": ""
          }
        },
        "d019441d3a7d465bb417ca6b85a0f6de": {
          "model_module": "@jupyter-widgets/base",
          "model_name": "LayoutModel",
          "model_module_version": "2.0.0",
          "state": {
            "_model_module": "@jupyter-widgets/base",
            "_model_module_version": "2.0.0",
            "_model_name": "LayoutModel",
            "_view_count": null,
            "_view_module": "@jupyter-widgets/base",
            "_view_module_version": "2.0.0",
            "_view_name": "LayoutView",
            "align_content": null,
            "align_items": null,
            "align_self": null,
            "border_bottom": null,
            "border_left": null,
            "border_right": null,
            "border_top": null,
            "bottom": null,
            "display": null,
            "flex": null,
            "flex_flow": null,
            "grid_area": null,
            "grid_auto_columns": null,
            "grid_auto_flow": null,
            "grid_auto_rows": null,
            "grid_column": null,
            "grid_gap": null,
            "grid_row": null,
            "grid_template_areas": null,
            "grid_template_columns": null,
            "grid_template_rows": null,
            "height": null,
            "justify_content": null,
            "justify_items": null,
            "left": null,
            "margin": null,
            "max_height": null,
            "max_width": null,
            "min_height": null,
            "min_width": null,
            "object_fit": null,
            "object_position": null,
            "order": null,
            "overflow": null,
            "padding": null,
            "right": null,
            "top": null,
            "visibility": null,
            "width": null
          }
        },
        "3b3b051ba9bd4eb89da674e6733876d2": {
          "model_module": "@jupyter-widgets/controls",
          "model_name": "HTMLStyleModel",
          "model_module_version": "2.0.0",
          "state": {
            "_model_module": "@jupyter-widgets/controls",
            "_model_module_version": "2.0.0",
            "_model_name": "HTMLStyleModel",
            "_view_count": null,
            "_view_module": "@jupyter-widgets/base",
            "_view_module_version": "2.0.0",
            "_view_name": "StyleView",
            "background": null,
            "description_width": "",
            "font_size": null,
            "text_color": null
          }
        },
        "e4a50488e1ec4ebfbe9db373951924a8": {
          "model_module": "@jupyter-widgets/base",
          "model_name": "LayoutModel",
          "model_module_version": "2.0.0",
          "state": {
            "_model_module": "@jupyter-widgets/base",
            "_model_module_version": "2.0.0",
            "_model_name": "LayoutModel",
            "_view_count": null,
            "_view_module": "@jupyter-widgets/base",
            "_view_module_version": "2.0.0",
            "_view_name": "LayoutView",
            "align_content": null,
            "align_items": null,
            "align_self": null,
            "border_bottom": null,
            "border_left": null,
            "border_right": null,
            "border_top": null,
            "bottom": null,
            "display": null,
            "flex": null,
            "flex_flow": null,
            "grid_area": null,
            "grid_auto_columns": null,
            "grid_auto_flow": null,
            "grid_auto_rows": null,
            "grid_column": null,
            "grid_gap": null,
            "grid_row": null,
            "grid_template_areas": null,
            "grid_template_columns": null,
            "grid_template_rows": null,
            "height": null,
            "justify_content": null,
            "justify_items": null,
            "left": null,
            "margin": null,
            "max_height": null,
            "max_width": null,
            "min_height": null,
            "min_width": null,
            "object_fit": null,
            "object_position": null,
            "order": null,
            "overflow": null,
            "padding": null,
            "right": null,
            "top": null,
            "visibility": null,
            "width": null
          }
        },
        "041b78820ee54973a2d1a1c12b31d925": {
          "model_module": "@jupyter-widgets/controls",
          "model_name": "HTMLStyleModel",
          "model_module_version": "2.0.0",
          "state": {
            "_model_module": "@jupyter-widgets/controls",
            "_model_module_version": "2.0.0",
            "_model_name": "HTMLStyleModel",
            "_view_count": null,
            "_view_module": "@jupyter-widgets/base",
            "_view_module_version": "2.0.0",
            "_view_name": "StyleView",
            "background": null,
            "description_width": "",
            "font_size": null,
            "text_color": null
          }
        },
        "fbb7686e4d844ee8994b80465f0da8e6": {
          "model_module": "@jupyter-widgets/controls",
          "model_name": "HTMLModel",
          "model_module_version": "2.0.0",
          "state": {
            "_dom_classes": [],
            "_model_module": "@jupyter-widgets/controls",
            "_model_module_version": "2.0.0",
            "_model_name": "HTMLModel",
            "_view_count": null,
            "_view_module": "@jupyter-widgets/controls",
            "_view_module_version": "2.0.0",
            "_view_name": "HTMLView",
            "description": "",
            "description_allow_html": false,
            "layout": "IPY_MODEL_d019441d3a7d465bb417ca6b85a0f6de",
            "placeholder": "​",
            "style": "IPY_MODEL_3b3b051ba9bd4eb89da674e6733876d2",
            "tabbable": null,
            "tooltip": null,
            "value": "tokenizer_config.json: 100%"
          }
        },
        "bae10fd0f0974ab38c82217919d9a2cf": {
          "model_module": "@jupyter-widgets/controls",
          "model_name": "FloatProgressModel",
          "model_module_version": "2.0.0",
          "state": {
            "_dom_classes": [],
            "_model_module": "@jupyter-widgets/controls",
            "_model_module_version": "2.0.0",
            "_model_name": "FloatProgressModel",
            "_view_count": null,
            "_view_module": "@jupyter-widgets/controls",
            "_view_module_version": "2.0.0",
            "_view_name": "ProgressView",
            "bar_style": "success",
            "description": "",
            "description_allow_html": false,
            "layout": "IPY_MODEL_8e30e2344f65433ba53577cd02dd00d2",
            "max": 350,
            "min": 0,
            "orientation": "horizontal",
            "style": "IPY_MODEL_1641fdecfa7e41c0b2858538fab2dbd1",
            "tabbable": null,
            "tooltip": null,
            "value": 350
          }
        },
        "32893bdc2e8c4f10ac962c1ff8646ec9": {
          "model_module": "@jupyter-widgets/controls",
          "model_name": "HTMLModel",
          "model_module_version": "2.0.0",
          "state": {
            "_dom_classes": [],
            "_model_module": "@jupyter-widgets/controls",
            "_model_module_version": "2.0.0",
            "_model_name": "HTMLModel",
            "_view_count": null,
            "_view_module": "@jupyter-widgets/controls",
            "_view_module_version": "2.0.0",
            "_view_name": "HTMLView",
            "description": "",
            "description_allow_html": false,
            "layout": "IPY_MODEL_e4a50488e1ec4ebfbe9db373951924a8",
            "placeholder": "​",
            "style": "IPY_MODEL_041b78820ee54973a2d1a1c12b31d925",
            "tabbable": null,
            "tooltip": null,
            "value": " 350/350 [00:00&lt;00:00, 19.1kB/s]"
          }
        },
        "7c2e87b4a12b4ad5b18b92c37e1313f9": {
          "model_module": "@jupyter-widgets/base",
          "model_name": "LayoutModel",
          "model_module_version": "2.0.0",
          "state": {
            "_model_module": "@jupyter-widgets/base",
            "_model_module_version": "2.0.0",
            "_model_name": "LayoutModel",
            "_view_count": null,
            "_view_module": "@jupyter-widgets/base",
            "_view_module_version": "2.0.0",
            "_view_name": "LayoutView",
            "align_content": null,
            "align_items": null,
            "align_self": null,
            "border_bottom": null,
            "border_left": null,
            "border_right": null,
            "border_top": null,
            "bottom": null,
            "display": null,
            "flex": null,
            "flex_flow": null,
            "grid_area": null,
            "grid_auto_columns": null,
            "grid_auto_flow": null,
            "grid_auto_rows": null,
            "grid_column": null,
            "grid_gap": null,
            "grid_row": null,
            "grid_template_areas": null,
            "grid_template_columns": null,
            "grid_template_rows": null,
            "height": null,
            "justify_content": null,
            "justify_items": null,
            "left": null,
            "margin": null,
            "max_height": null,
            "max_width": null,
            "min_height": null,
            "min_width": null,
            "object_fit": null,
            "object_position": null,
            "order": null,
            "overflow": null,
            "padding": null,
            "right": null,
            "top": null,
            "visibility": null,
            "width": null
          }
        },
        "b9dde3456a7f418a919dd61021732c4b": {
          "model_module": "@jupyter-widgets/controls",
          "model_name": "HBoxModel",
          "model_module_version": "2.0.0",
          "state": {
            "_dom_classes": [],
            "_model_module": "@jupyter-widgets/controls",
            "_model_module_version": "2.0.0",
            "_model_name": "HBoxModel",
            "_view_count": null,
            "_view_module": "@jupyter-widgets/controls",
            "_view_module_version": "2.0.0",
            "_view_name": "HBoxView",
            "box_style": "",
            "children": [
              "IPY_MODEL_fbb7686e4d844ee8994b80465f0da8e6",
              "IPY_MODEL_bae10fd0f0974ab38c82217919d9a2cf",
              "IPY_MODEL_32893bdc2e8c4f10ac962c1ff8646ec9"
            ],
            "layout": "IPY_MODEL_7c2e87b4a12b4ad5b18b92c37e1313f9",
            "tabbable": null,
            "tooltip": null
          }
        },
        "f85e3302fc554ee78379b6c5fe94e69e": {
          "model_module": "@jupyter-widgets/base",
          "model_name": "LayoutModel",
          "model_module_version": "2.0.0",
          "state": {
            "_model_module": "@jupyter-widgets/base",
            "_model_module_version": "2.0.0",
            "_model_name": "LayoutModel",
            "_view_count": null,
            "_view_module": "@jupyter-widgets/base",
            "_view_module_version": "2.0.0",
            "_view_name": "LayoutView",
            "align_content": null,
            "align_items": null,
            "align_self": null,
            "border_bottom": null,
            "border_left": null,
            "border_right": null,
            "border_top": null,
            "bottom": null,
            "display": null,
            "flex": null,
            "flex_flow": null,
            "grid_area": null,
            "grid_auto_columns": null,
            "grid_auto_flow": null,
            "grid_auto_rows": null,
            "grid_column": null,
            "grid_gap": null,
            "grid_row": null,
            "grid_template_areas": null,
            "grid_template_columns": null,
            "grid_template_rows": null,
            "height": null,
            "justify_content": null,
            "justify_items": null,
            "left": null,
            "margin": null,
            "max_height": null,
            "max_width": null,
            "min_height": null,
            "min_width": null,
            "object_fit": null,
            "object_position": null,
            "order": null,
            "overflow": null,
            "padding": null,
            "right": null,
            "top": null,
            "visibility": null,
            "width": null
          }
        },
        "edbbdfc6d1ea42fab31aeaaa12552dd0": {
          "model_module": "@jupyter-widgets/controls",
          "model_name": "ProgressStyleModel",
          "model_module_version": "2.0.0",
          "state": {
            "_model_module": "@jupyter-widgets/controls",
            "_model_module_version": "2.0.0",
            "_model_name": "ProgressStyleModel",
            "_view_count": null,
            "_view_module": "@jupyter-widgets/base",
            "_view_module_version": "2.0.0",
            "_view_name": "StyleView",
            "bar_color": null,
            "description_width": ""
          }
        },
        "edd3a4d3dfd84e19a2a6ac6d170fe393": {
          "model_module": "@jupyter-widgets/base",
          "model_name": "LayoutModel",
          "model_module_version": "2.0.0",
          "state": {
            "_model_module": "@jupyter-widgets/base",
            "_model_module_version": "2.0.0",
            "_model_name": "LayoutModel",
            "_view_count": null,
            "_view_module": "@jupyter-widgets/base",
            "_view_module_version": "2.0.0",
            "_view_name": "LayoutView",
            "align_content": null,
            "align_items": null,
            "align_self": null,
            "border_bottom": null,
            "border_left": null,
            "border_right": null,
            "border_top": null,
            "bottom": null,
            "display": null,
            "flex": null,
            "flex_flow": null,
            "grid_area": null,
            "grid_auto_columns": null,
            "grid_auto_flow": null,
            "grid_auto_rows": null,
            "grid_column": null,
            "grid_gap": null,
            "grid_row": null,
            "grid_template_areas": null,
            "grid_template_columns": null,
            "grid_template_rows": null,
            "height": null,
            "justify_content": null,
            "justify_items": null,
            "left": null,
            "margin": null,
            "max_height": null,
            "max_width": null,
            "min_height": null,
            "min_width": null,
            "object_fit": null,
            "object_position": null,
            "order": null,
            "overflow": null,
            "padding": null,
            "right": null,
            "top": null,
            "visibility": null,
            "width": null
          }
        },
        "353caa02ea7843fbac166cb4f68f2aa6": {
          "model_module": "@jupyter-widgets/controls",
          "model_name": "HTMLStyleModel",
          "model_module_version": "2.0.0",
          "state": {
            "_model_module": "@jupyter-widgets/controls",
            "_model_module_version": "2.0.0",
            "_model_name": "HTMLStyleModel",
            "_view_count": null,
            "_view_module": "@jupyter-widgets/base",
            "_view_module_version": "2.0.0",
            "_view_name": "StyleView",
            "background": null,
            "description_width": "",
            "font_size": null,
            "text_color": null
          }
        },
        "08ce5c8095694fbf8bc5b68dfc6bf9b6": {
          "model_module": "@jupyter-widgets/base",
          "model_name": "LayoutModel",
          "model_module_version": "2.0.0",
          "state": {
            "_model_module": "@jupyter-widgets/base",
            "_model_module_version": "2.0.0",
            "_model_name": "LayoutModel",
            "_view_count": null,
            "_view_module": "@jupyter-widgets/base",
            "_view_module_version": "2.0.0",
            "_view_name": "LayoutView",
            "align_content": null,
            "align_items": null,
            "align_self": null,
            "border_bottom": null,
            "border_left": null,
            "border_right": null,
            "border_top": null,
            "bottom": null,
            "display": null,
            "flex": null,
            "flex_flow": null,
            "grid_area": null,
            "grid_auto_columns": null,
            "grid_auto_flow": null,
            "grid_auto_rows": null,
            "grid_column": null,
            "grid_gap": null,
            "grid_row": null,
            "grid_template_areas": null,
            "grid_template_columns": null,
            "grid_template_rows": null,
            "height": null,
            "justify_content": null,
            "justify_items": null,
            "left": null,
            "margin": null,
            "max_height": null,
            "max_width": null,
            "min_height": null,
            "min_width": null,
            "object_fit": null,
            "object_position": null,
            "order": null,
            "overflow": null,
            "padding": null,
            "right": null,
            "top": null,
            "visibility": null,
            "width": null
          }
        },
        "24a1de3a01f44155b84a4fd52ffeeff7": {
          "model_module": "@jupyter-widgets/controls",
          "model_name": "HTMLStyleModel",
          "model_module_version": "2.0.0",
          "state": {
            "_model_module": "@jupyter-widgets/controls",
            "_model_module_version": "2.0.0",
            "_model_name": "HTMLStyleModel",
            "_view_count": null,
            "_view_module": "@jupyter-widgets/base",
            "_view_module_version": "2.0.0",
            "_view_name": "StyleView",
            "background": null,
            "description_width": "",
            "font_size": null,
            "text_color": null
          }
        },
        "3a0001437dee41cc82fe79c2930d6284": {
          "model_module": "@jupyter-widgets/controls",
          "model_name": "HTMLModel",
          "model_module_version": "2.0.0",
          "state": {
            "_dom_classes": [],
            "_model_module": "@jupyter-widgets/controls",
            "_model_module_version": "2.0.0",
            "_model_name": "HTMLModel",
            "_view_count": null,
            "_view_module": "@jupyter-widgets/controls",
            "_view_module_version": "2.0.0",
            "_view_name": "HTMLView",
            "description": "",
            "description_allow_html": false,
            "layout": "IPY_MODEL_edd3a4d3dfd84e19a2a6ac6d170fe393",
            "placeholder": "​",
            "style": "IPY_MODEL_353caa02ea7843fbac166cb4f68f2aa6",
            "tabbable": null,
            "tooltip": null,
            "value": "vocab.txt: 100%"
          }
        },
        "3efce7e291dc470682468651cc0a7533": {
          "model_module": "@jupyter-widgets/controls",
          "model_name": "FloatProgressModel",
          "model_module_version": "2.0.0",
          "state": {
            "_dom_classes": [],
            "_model_module": "@jupyter-widgets/controls",
            "_model_module_version": "2.0.0",
            "_model_name": "FloatProgressModel",
            "_view_count": null,
            "_view_module": "@jupyter-widgets/controls",
            "_view_module_version": "2.0.0",
            "_view_name": "ProgressView",
            "bar_style": "success",
            "description": "",
            "description_allow_html": false,
            "layout": "IPY_MODEL_f85e3302fc554ee78379b6c5fe94e69e",
            "max": 231508,
            "min": 0,
            "orientation": "horizontal",
            "style": "IPY_MODEL_edbbdfc6d1ea42fab31aeaaa12552dd0",
            "tabbable": null,
            "tooltip": null,
            "value": 231508
          }
        },
        "3845611e0fc44301a135e4c639b546ee": {
          "model_module": "@jupyter-widgets/controls",
          "model_name": "HTMLModel",
          "model_module_version": "2.0.0",
          "state": {
            "_dom_classes": [],
            "_model_module": "@jupyter-widgets/controls",
            "_model_module_version": "2.0.0",
            "_model_name": "HTMLModel",
            "_view_count": null,
            "_view_module": "@jupyter-widgets/controls",
            "_view_module_version": "2.0.0",
            "_view_name": "HTMLView",
            "description": "",
            "description_allow_html": false,
            "layout": "IPY_MODEL_08ce5c8095694fbf8bc5b68dfc6bf9b6",
            "placeholder": "​",
            "style": "IPY_MODEL_24a1de3a01f44155b84a4fd52ffeeff7",
            "tabbable": null,
            "tooltip": null,
            "value": " 232k/232k [00:00&lt;00:00, 3.22MB/s]"
          }
        },
        "5f5a9c955e734ade9cb444ac68525d80": {
          "model_module": "@jupyter-widgets/base",
          "model_name": "LayoutModel",
          "model_module_version": "2.0.0",
          "state": {
            "_model_module": "@jupyter-widgets/base",
            "_model_module_version": "2.0.0",
            "_model_name": "LayoutModel",
            "_view_count": null,
            "_view_module": "@jupyter-widgets/base",
            "_view_module_version": "2.0.0",
            "_view_name": "LayoutView",
            "align_content": null,
            "align_items": null,
            "align_self": null,
            "border_bottom": null,
            "border_left": null,
            "border_right": null,
            "border_top": null,
            "bottom": null,
            "display": null,
            "flex": null,
            "flex_flow": null,
            "grid_area": null,
            "grid_auto_columns": null,
            "grid_auto_flow": null,
            "grid_auto_rows": null,
            "grid_column": null,
            "grid_gap": null,
            "grid_row": null,
            "grid_template_areas": null,
            "grid_template_columns": null,
            "grid_template_rows": null,
            "height": null,
            "justify_content": null,
            "justify_items": null,
            "left": null,
            "margin": null,
            "max_height": null,
            "max_width": null,
            "min_height": null,
            "min_width": null,
            "object_fit": null,
            "object_position": null,
            "order": null,
            "overflow": null,
            "padding": null,
            "right": null,
            "top": null,
            "visibility": null,
            "width": null
          }
        },
        "2c3a0a3b7a6c428e9c994583cc2dd7c2": {
          "model_module": "@jupyter-widgets/controls",
          "model_name": "HBoxModel",
          "model_module_version": "2.0.0",
          "state": {
            "_dom_classes": [],
            "_model_module": "@jupyter-widgets/controls",
            "_model_module_version": "2.0.0",
            "_model_name": "HBoxModel",
            "_view_count": null,
            "_view_module": "@jupyter-widgets/controls",
            "_view_module_version": "2.0.0",
            "_view_name": "HBoxView",
            "box_style": "",
            "children": [
              "IPY_MODEL_3a0001437dee41cc82fe79c2930d6284",
              "IPY_MODEL_3efce7e291dc470682468651cc0a7533",
              "IPY_MODEL_3845611e0fc44301a135e4c639b546ee"
            ],
            "layout": "IPY_MODEL_5f5a9c955e734ade9cb444ac68525d80",
            "tabbable": null,
            "tooltip": null
          }
        },
        "618492619ffe4fd591f623a9caa30bf1": {
          "model_module": "@jupyter-widgets/base",
          "model_name": "LayoutModel",
          "model_module_version": "2.0.0",
          "state": {
            "_model_module": "@jupyter-widgets/base",
            "_model_module_version": "2.0.0",
            "_model_name": "LayoutModel",
            "_view_count": null,
            "_view_module": "@jupyter-widgets/base",
            "_view_module_version": "2.0.0",
            "_view_name": "LayoutView",
            "align_content": null,
            "align_items": null,
            "align_self": null,
            "border_bottom": null,
            "border_left": null,
            "border_right": null,
            "border_top": null,
            "bottom": null,
            "display": null,
            "flex": null,
            "flex_flow": null,
            "grid_area": null,
            "grid_auto_columns": null,
            "grid_auto_flow": null,
            "grid_auto_rows": null,
            "grid_column": null,
            "grid_gap": null,
            "grid_row": null,
            "grid_template_areas": null,
            "grid_template_columns": null,
            "grid_template_rows": null,
            "height": null,
            "justify_content": null,
            "justify_items": null,
            "left": null,
            "margin": null,
            "max_height": null,
            "max_width": null,
            "min_height": null,
            "min_width": null,
            "object_fit": null,
            "object_position": null,
            "order": null,
            "overflow": null,
            "padding": null,
            "right": null,
            "top": null,
            "visibility": null,
            "width": null
          }
        },
        "eccc160c204949d6b4ee594a5133c7e4": {
          "model_module": "@jupyter-widgets/controls",
          "model_name": "ProgressStyleModel",
          "model_module_version": "2.0.0",
          "state": {
            "_model_module": "@jupyter-widgets/controls",
            "_model_module_version": "2.0.0",
            "_model_name": "ProgressStyleModel",
            "_view_count": null,
            "_view_module": "@jupyter-widgets/base",
            "_view_module_version": "2.0.0",
            "_view_name": "StyleView",
            "bar_color": null,
            "description_width": ""
          }
        },
        "4b00e86150d943b59880d33eb3b0f80d": {
          "model_module": "@jupyter-widgets/base",
          "model_name": "LayoutModel",
          "model_module_version": "2.0.0",
          "state": {
            "_model_module": "@jupyter-widgets/base",
            "_model_module_version": "2.0.0",
            "_model_name": "LayoutModel",
            "_view_count": null,
            "_view_module": "@jupyter-widgets/base",
            "_view_module_version": "2.0.0",
            "_view_name": "LayoutView",
            "align_content": null,
            "align_items": null,
            "align_self": null,
            "border_bottom": null,
            "border_left": null,
            "border_right": null,
            "border_top": null,
            "bottom": null,
            "display": null,
            "flex": null,
            "flex_flow": null,
            "grid_area": null,
            "grid_auto_columns": null,
            "grid_auto_flow": null,
            "grid_auto_rows": null,
            "grid_column": null,
            "grid_gap": null,
            "grid_row": null,
            "grid_template_areas": null,
            "grid_template_columns": null,
            "grid_template_rows": null,
            "height": null,
            "justify_content": null,
            "justify_items": null,
            "left": null,
            "margin": null,
            "max_height": null,
            "max_width": null,
            "min_height": null,
            "min_width": null,
            "object_fit": null,
            "object_position": null,
            "order": null,
            "overflow": null,
            "padding": null,
            "right": null,
            "top": null,
            "visibility": null,
            "width": null
          }
        },
        "89249dc4bf394ca3a97ea6796c4b5f28": {
          "model_module": "@jupyter-widgets/controls",
          "model_name": "HTMLStyleModel",
          "model_module_version": "2.0.0",
          "state": {
            "_model_module": "@jupyter-widgets/controls",
            "_model_module_version": "2.0.0",
            "_model_name": "HTMLStyleModel",
            "_view_count": null,
            "_view_module": "@jupyter-widgets/base",
            "_view_module_version": "2.0.0",
            "_view_name": "StyleView",
            "background": null,
            "description_width": "",
            "font_size": null,
            "text_color": null
          }
        },
        "59540becfb014ba79b4e5e667ef2b82e": {
          "model_module": "@jupyter-widgets/base",
          "model_name": "LayoutModel",
          "model_module_version": "2.0.0",
          "state": {
            "_model_module": "@jupyter-widgets/base",
            "_model_module_version": "2.0.0",
            "_model_name": "LayoutModel",
            "_view_count": null,
            "_view_module": "@jupyter-widgets/base",
            "_view_module_version": "2.0.0",
            "_view_name": "LayoutView",
            "align_content": null,
            "align_items": null,
            "align_self": null,
            "border_bottom": null,
            "border_left": null,
            "border_right": null,
            "border_top": null,
            "bottom": null,
            "display": null,
            "flex": null,
            "flex_flow": null,
            "grid_area": null,
            "grid_auto_columns": null,
            "grid_auto_flow": null,
            "grid_auto_rows": null,
            "grid_column": null,
            "grid_gap": null,
            "grid_row": null,
            "grid_template_areas": null,
            "grid_template_columns": null,
            "grid_template_rows": null,
            "height": null,
            "justify_content": null,
            "justify_items": null,
            "left": null,
            "margin": null,
            "max_height": null,
            "max_width": null,
            "min_height": null,
            "min_width": null,
            "object_fit": null,
            "object_position": null,
            "order": null,
            "overflow": null,
            "padding": null,
            "right": null,
            "top": null,
            "visibility": null,
            "width": null
          }
        },
        "d1c752f00580482d9679d649a3dd10bb": {
          "model_module": "@jupyter-widgets/controls",
          "model_name": "HTMLStyleModel",
          "model_module_version": "2.0.0",
          "state": {
            "_model_module": "@jupyter-widgets/controls",
            "_model_module_version": "2.0.0",
            "_model_name": "HTMLStyleModel",
            "_view_count": null,
            "_view_module": "@jupyter-widgets/base",
            "_view_module_version": "2.0.0",
            "_view_name": "StyleView",
            "background": null,
            "description_width": "",
            "font_size": null,
            "text_color": null
          }
        },
        "defd03d1a88e40bcb1b6ebb3a43a54b8": {
          "model_module": "@jupyter-widgets/controls",
          "model_name": "HTMLModel",
          "model_module_version": "2.0.0",
          "state": {
            "_dom_classes": [],
            "_model_module": "@jupyter-widgets/controls",
            "_model_module_version": "2.0.0",
            "_model_name": "HTMLModel",
            "_view_count": null,
            "_view_module": "@jupyter-widgets/controls",
            "_view_module_version": "2.0.0",
            "_view_name": "HTMLView",
            "description": "",
            "description_allow_html": false,
            "layout": "IPY_MODEL_4b00e86150d943b59880d33eb3b0f80d",
            "placeholder": "​",
            "style": "IPY_MODEL_89249dc4bf394ca3a97ea6796c4b5f28",
            "tabbable": null,
            "tooltip": null,
            "value": "tokenizer.json: 100%"
          }
        },
        "86a172c70c074715919d17cb349c38ac": {
          "model_module": "@jupyter-widgets/controls",
          "model_name": "FloatProgressModel",
          "model_module_version": "2.0.0",
          "state": {
            "_dom_classes": [],
            "_model_module": "@jupyter-widgets/controls",
            "_model_module_version": "2.0.0",
            "_model_name": "FloatProgressModel",
            "_view_count": null,
            "_view_module": "@jupyter-widgets/controls",
            "_view_module_version": "2.0.0",
            "_view_name": "ProgressView",
            "bar_style": "success",
            "description": "",
            "description_allow_html": false,
            "layout": "IPY_MODEL_618492619ffe4fd591f623a9caa30bf1",
            "max": 466247,
            "min": 0,
            "orientation": "horizontal",
            "style": "IPY_MODEL_eccc160c204949d6b4ee594a5133c7e4",
            "tabbable": null,
            "tooltip": null,
            "value": 466247
          }
        },
        "b44ef84bfd7744089cc94355a49f878e": {
          "model_module": "@jupyter-widgets/controls",
          "model_name": "HTMLModel",
          "model_module_version": "2.0.0",
          "state": {
            "_dom_classes": [],
            "_model_module": "@jupyter-widgets/controls",
            "_model_module_version": "2.0.0",
            "_model_name": "HTMLModel",
            "_view_count": null,
            "_view_module": "@jupyter-widgets/controls",
            "_view_module_version": "2.0.0",
            "_view_name": "HTMLView",
            "description": "",
            "description_allow_html": false,
            "layout": "IPY_MODEL_59540becfb014ba79b4e5e667ef2b82e",
            "placeholder": "​",
            "style": "IPY_MODEL_d1c752f00580482d9679d649a3dd10bb",
            "tabbable": null,
            "tooltip": null,
            "value": " 466k/466k [00:00&lt;00:00, 8.17MB/s]"
          }
        },
        "1a0b01cce8c74783aacb468b4535a110": {
          "model_module": "@jupyter-widgets/base",
          "model_name": "LayoutModel",
          "model_module_version": "2.0.0",
          "state": {
            "_model_module": "@jupyter-widgets/base",
            "_model_module_version": "2.0.0",
            "_model_name": "LayoutModel",
            "_view_count": null,
            "_view_module": "@jupyter-widgets/base",
            "_view_module_version": "2.0.0",
            "_view_name": "LayoutView",
            "align_content": null,
            "align_items": null,
            "align_self": null,
            "border_bottom": null,
            "border_left": null,
            "border_right": null,
            "border_top": null,
            "bottom": null,
            "display": null,
            "flex": null,
            "flex_flow": null,
            "grid_area": null,
            "grid_auto_columns": null,
            "grid_auto_flow": null,
            "grid_auto_rows": null,
            "grid_column": null,
            "grid_gap": null,
            "grid_row": null,
            "grid_template_areas": null,
            "grid_template_columns": null,
            "grid_template_rows": null,
            "height": null,
            "justify_content": null,
            "justify_items": null,
            "left": null,
            "margin": null,
            "max_height": null,
            "max_width": null,
            "min_height": null,
            "min_width": null,
            "object_fit": null,
            "object_position": null,
            "order": null,
            "overflow": null,
            "padding": null,
            "right": null,
            "top": null,
            "visibility": null,
            "width": null
          }
        },
        "4ef472a17f6c42c99bf50155cc18210d": {
          "model_module": "@jupyter-widgets/controls",
          "model_name": "HBoxModel",
          "model_module_version": "2.0.0",
          "state": {
            "_dom_classes": [],
            "_model_module": "@jupyter-widgets/controls",
            "_model_module_version": "2.0.0",
            "_model_name": "HBoxModel",
            "_view_count": null,
            "_view_module": "@jupyter-widgets/controls",
            "_view_module_version": "2.0.0",
            "_view_name": "HBoxView",
            "box_style": "",
            "children": [
              "IPY_MODEL_defd03d1a88e40bcb1b6ebb3a43a54b8",
              "IPY_MODEL_86a172c70c074715919d17cb349c38ac",
              "IPY_MODEL_b44ef84bfd7744089cc94355a49f878e"
            ],
            "layout": "IPY_MODEL_1a0b01cce8c74783aacb468b4535a110",
            "tabbable": null,
            "tooltip": null
          }
        },
        "69139a46324a42509c1b56791c7ebfb6": {
          "model_module": "@jupyter-widgets/base",
          "model_name": "LayoutModel",
          "model_module_version": "2.0.0",
          "state": {
            "_model_module": "@jupyter-widgets/base",
            "_model_module_version": "2.0.0",
            "_model_name": "LayoutModel",
            "_view_count": null,
            "_view_module": "@jupyter-widgets/base",
            "_view_module_version": "2.0.0",
            "_view_name": "LayoutView",
            "align_content": null,
            "align_items": null,
            "align_self": null,
            "border_bottom": null,
            "border_left": null,
            "border_right": null,
            "border_top": null,
            "bottom": null,
            "display": null,
            "flex": null,
            "flex_flow": null,
            "grid_area": null,
            "grid_auto_columns": null,
            "grid_auto_flow": null,
            "grid_auto_rows": null,
            "grid_column": null,
            "grid_gap": null,
            "grid_row": null,
            "grid_template_areas": null,
            "grid_template_columns": null,
            "grid_template_rows": null,
            "height": null,
            "justify_content": null,
            "justify_items": null,
            "left": null,
            "margin": null,
            "max_height": null,
            "max_width": null,
            "min_height": null,
            "min_width": null,
            "object_fit": null,
            "object_position": null,
            "order": null,
            "overflow": null,
            "padding": null,
            "right": null,
            "top": null,
            "visibility": null,
            "width": null
          }
        },
        "f561f15cb4eb474ab724ddb377bae765": {
          "model_module": "@jupyter-widgets/controls",
          "model_name": "ProgressStyleModel",
          "model_module_version": "2.0.0",
          "state": {
            "_model_module": "@jupyter-widgets/controls",
            "_model_module_version": "2.0.0",
            "_model_name": "ProgressStyleModel",
            "_view_count": null,
            "_view_module": "@jupyter-widgets/base",
            "_view_module_version": "2.0.0",
            "_view_name": "StyleView",
            "bar_color": null,
            "description_width": ""
          }
        },
        "fdfcfd9ac38c4ca4b59ff02c9933e079": {
          "model_module": "@jupyter-widgets/base",
          "model_name": "LayoutModel",
          "model_module_version": "2.0.0",
          "state": {
            "_model_module": "@jupyter-widgets/base",
            "_model_module_version": "2.0.0",
            "_model_name": "LayoutModel",
            "_view_count": null,
            "_view_module": "@jupyter-widgets/base",
            "_view_module_version": "2.0.0",
            "_view_name": "LayoutView",
            "align_content": null,
            "align_items": null,
            "align_self": null,
            "border_bottom": null,
            "border_left": null,
            "border_right": null,
            "border_top": null,
            "bottom": null,
            "display": null,
            "flex": null,
            "flex_flow": null,
            "grid_area": null,
            "grid_auto_columns": null,
            "grid_auto_flow": null,
            "grid_auto_rows": null,
            "grid_column": null,
            "grid_gap": null,
            "grid_row": null,
            "grid_template_areas": null,
            "grid_template_columns": null,
            "grid_template_rows": null,
            "height": null,
            "justify_content": null,
            "justify_items": null,
            "left": null,
            "margin": null,
            "max_height": null,
            "max_width": null,
            "min_height": null,
            "min_width": null,
            "object_fit": null,
            "object_position": null,
            "order": null,
            "overflow": null,
            "padding": null,
            "right": null,
            "top": null,
            "visibility": null,
            "width": null
          }
        },
        "84e9330b9a0a46fdadcd921cbc4e893f": {
          "model_module": "@jupyter-widgets/controls",
          "model_name": "HTMLStyleModel",
          "model_module_version": "2.0.0",
          "state": {
            "_model_module": "@jupyter-widgets/controls",
            "_model_module_version": "2.0.0",
            "_model_name": "HTMLStyleModel",
            "_view_count": null,
            "_view_module": "@jupyter-widgets/base",
            "_view_module_version": "2.0.0",
            "_view_name": "StyleView",
            "background": null,
            "description_width": "",
            "font_size": null,
            "text_color": null
          }
        },
        "181bb8905add403982146dbf0a00b737": {
          "model_module": "@jupyter-widgets/base",
          "model_name": "LayoutModel",
          "model_module_version": "2.0.0",
          "state": {
            "_model_module": "@jupyter-widgets/base",
            "_model_module_version": "2.0.0",
            "_model_name": "LayoutModel",
            "_view_count": null,
            "_view_module": "@jupyter-widgets/base",
            "_view_module_version": "2.0.0",
            "_view_name": "LayoutView",
            "align_content": null,
            "align_items": null,
            "align_self": null,
            "border_bottom": null,
            "border_left": null,
            "border_right": null,
            "border_top": null,
            "bottom": null,
            "display": null,
            "flex": null,
            "flex_flow": null,
            "grid_area": null,
            "grid_auto_columns": null,
            "grid_auto_flow": null,
            "grid_auto_rows": null,
            "grid_column": null,
            "grid_gap": null,
            "grid_row": null,
            "grid_template_areas": null,
            "grid_template_columns": null,
            "grid_template_rows": null,
            "height": null,
            "justify_content": null,
            "justify_items": null,
            "left": null,
            "margin": null,
            "max_height": null,
            "max_width": null,
            "min_height": null,
            "min_width": null,
            "object_fit": null,
            "object_position": null,
            "order": null,
            "overflow": null,
            "padding": null,
            "right": null,
            "top": null,
            "visibility": null,
            "width": null
          }
        },
        "f2e7686592e44eb89edb437f538de17b": {
          "model_module": "@jupyter-widgets/controls",
          "model_name": "HTMLStyleModel",
          "model_module_version": "2.0.0",
          "state": {
            "_model_module": "@jupyter-widgets/controls",
            "_model_module_version": "2.0.0",
            "_model_name": "HTMLStyleModel",
            "_view_count": null,
            "_view_module": "@jupyter-widgets/base",
            "_view_module_version": "2.0.0",
            "_view_name": "StyleView",
            "background": null,
            "description_width": "",
            "font_size": null,
            "text_color": null
          }
        },
        "603efdda59104981bd4dbc4c198cf15e": {
          "model_module": "@jupyter-widgets/controls",
          "model_name": "HTMLModel",
          "model_module_version": "2.0.0",
          "state": {
            "_dom_classes": [],
            "_model_module": "@jupyter-widgets/controls",
            "_model_module_version": "2.0.0",
            "_model_name": "HTMLModel",
            "_view_count": null,
            "_view_module": "@jupyter-widgets/controls",
            "_view_module_version": "2.0.0",
            "_view_name": "HTMLView",
            "description": "",
            "description_allow_html": false,
            "layout": "IPY_MODEL_fdfcfd9ac38c4ca4b59ff02c9933e079",
            "placeholder": "​",
            "style": "IPY_MODEL_84e9330b9a0a46fdadcd921cbc4e893f",
            "tabbable": null,
            "tooltip": null,
            "value": "special_tokens_map.json: 100%"
          }
        },
        "2e67db6a706e4bb5aabba1f6c5075ba9": {
          "model_module": "@jupyter-widgets/controls",
          "model_name": "FloatProgressModel",
          "model_module_version": "2.0.0",
          "state": {
            "_dom_classes": [],
            "_model_module": "@jupyter-widgets/controls",
            "_model_module_version": "2.0.0",
            "_model_name": "FloatProgressModel",
            "_view_count": null,
            "_view_module": "@jupyter-widgets/controls",
            "_view_module_version": "2.0.0",
            "_view_name": "ProgressView",
            "bar_style": "success",
            "description": "",
            "description_allow_html": false,
            "layout": "IPY_MODEL_69139a46324a42509c1b56791c7ebfb6",
            "max": 112,
            "min": 0,
            "orientation": "horizontal",
            "style": "IPY_MODEL_f561f15cb4eb474ab724ddb377bae765",
            "tabbable": null,
            "tooltip": null,
            "value": 112
          }
        },
        "e009db71749540ed9cc396eb6b08a5ed": {
          "model_module": "@jupyter-widgets/controls",
          "model_name": "HTMLModel",
          "model_module_version": "2.0.0",
          "state": {
            "_dom_classes": [],
            "_model_module": "@jupyter-widgets/controls",
            "_model_module_version": "2.0.0",
            "_model_name": "HTMLModel",
            "_view_count": null,
            "_view_module": "@jupyter-widgets/controls",
            "_view_module_version": "2.0.0",
            "_view_name": "HTMLView",
            "description": "",
            "description_allow_html": false,
            "layout": "IPY_MODEL_181bb8905add403982146dbf0a00b737",
            "placeholder": "​",
            "style": "IPY_MODEL_f2e7686592e44eb89edb437f538de17b",
            "tabbable": null,
            "tooltip": null,
            "value": " 112/112 [00:00&lt;00:00, 1.39kB/s]"
          }
        },
        "d49d02d59f02472486d897c543fb467e": {
          "model_module": "@jupyter-widgets/base",
          "model_name": "LayoutModel",
          "model_module_version": "2.0.0",
          "state": {
            "_model_module": "@jupyter-widgets/base",
            "_model_module_version": "2.0.0",
            "_model_name": "LayoutModel",
            "_view_count": null,
            "_view_module": "@jupyter-widgets/base",
            "_view_module_version": "2.0.0",
            "_view_name": "LayoutView",
            "align_content": null,
            "align_items": null,
            "align_self": null,
            "border_bottom": null,
            "border_left": null,
            "border_right": null,
            "border_top": null,
            "bottom": null,
            "display": null,
            "flex": null,
            "flex_flow": null,
            "grid_area": null,
            "grid_auto_columns": null,
            "grid_auto_flow": null,
            "grid_auto_rows": null,
            "grid_column": null,
            "grid_gap": null,
            "grid_row": null,
            "grid_template_areas": null,
            "grid_template_columns": null,
            "grid_template_rows": null,
            "height": null,
            "justify_content": null,
            "justify_items": null,
            "left": null,
            "margin": null,
            "max_height": null,
            "max_width": null,
            "min_height": null,
            "min_width": null,
            "object_fit": null,
            "object_position": null,
            "order": null,
            "overflow": null,
            "padding": null,
            "right": null,
            "top": null,
            "visibility": null,
            "width": null
          }
        },
        "2f7f7462f9e94fe190ab9ed914259478": {
          "model_module": "@jupyter-widgets/controls",
          "model_name": "HBoxModel",
          "model_module_version": "2.0.0",
          "state": {
            "_dom_classes": [],
            "_model_module": "@jupyter-widgets/controls",
            "_model_module_version": "2.0.0",
            "_model_name": "HBoxModel",
            "_view_count": null,
            "_view_module": "@jupyter-widgets/controls",
            "_view_module_version": "2.0.0",
            "_view_name": "HBoxView",
            "box_style": "",
            "children": [
              "IPY_MODEL_603efdda59104981bd4dbc4c198cf15e",
              "IPY_MODEL_2e67db6a706e4bb5aabba1f6c5075ba9",
              "IPY_MODEL_e009db71749540ed9cc396eb6b08a5ed"
            ],
            "layout": "IPY_MODEL_d49d02d59f02472486d897c543fb467e",
            "tabbable": null,
            "tooltip": null
          }
        },
        "3cb4637c826247c98ac71ff1c190a827": {
          "model_module": "@jupyter-widgets/base",
          "model_name": "LayoutModel",
          "model_module_version": "2.0.0",
          "state": {
            "_model_module": "@jupyter-widgets/base",
            "_model_module_version": "2.0.0",
            "_model_name": "LayoutModel",
            "_view_count": null,
            "_view_module": "@jupyter-widgets/base",
            "_view_module_version": "2.0.0",
            "_view_name": "LayoutView",
            "align_content": null,
            "align_items": null,
            "align_self": null,
            "border_bottom": null,
            "border_left": null,
            "border_right": null,
            "border_top": null,
            "bottom": null,
            "display": null,
            "flex": null,
            "flex_flow": null,
            "grid_area": null,
            "grid_auto_columns": null,
            "grid_auto_flow": null,
            "grid_auto_rows": null,
            "grid_column": null,
            "grid_gap": null,
            "grid_row": null,
            "grid_template_areas": null,
            "grid_template_columns": null,
            "grid_template_rows": null,
            "height": null,
            "justify_content": null,
            "justify_items": null,
            "left": null,
            "margin": null,
            "max_height": null,
            "max_width": null,
            "min_height": null,
            "min_width": null,
            "object_fit": null,
            "object_position": null,
            "order": null,
            "overflow": null,
            "padding": null,
            "right": null,
            "top": null,
            "visibility": null,
            "width": null
          }
        },
        "1ed709cbb2f247d79b4c50a40e18b9e1": {
          "model_module": "@jupyter-widgets/controls",
          "model_name": "ProgressStyleModel",
          "model_module_version": "2.0.0",
          "state": {
            "_model_module": "@jupyter-widgets/controls",
            "_model_module_version": "2.0.0",
            "_model_name": "ProgressStyleModel",
            "_view_count": null,
            "_view_module": "@jupyter-widgets/base",
            "_view_module_version": "2.0.0",
            "_view_name": "StyleView",
            "bar_color": null,
            "description_width": ""
          }
        },
        "98c3673d3ffb43ce9e2a0494b5764c85": {
          "model_module": "@jupyter-widgets/base",
          "model_name": "LayoutModel",
          "model_module_version": "2.0.0",
          "state": {
            "_model_module": "@jupyter-widgets/base",
            "_model_module_version": "2.0.0",
            "_model_name": "LayoutModel",
            "_view_count": null,
            "_view_module": "@jupyter-widgets/base",
            "_view_module_version": "2.0.0",
            "_view_name": "LayoutView",
            "align_content": null,
            "align_items": null,
            "align_self": null,
            "border_bottom": null,
            "border_left": null,
            "border_right": null,
            "border_top": null,
            "bottom": null,
            "display": null,
            "flex": null,
            "flex_flow": null,
            "grid_area": null,
            "grid_auto_columns": null,
            "grid_auto_flow": null,
            "grid_auto_rows": null,
            "grid_column": null,
            "grid_gap": null,
            "grid_row": null,
            "grid_template_areas": null,
            "grid_template_columns": null,
            "grid_template_rows": null,
            "height": null,
            "justify_content": null,
            "justify_items": null,
            "left": null,
            "margin": null,
            "max_height": null,
            "max_width": null,
            "min_height": null,
            "min_width": null,
            "object_fit": null,
            "object_position": null,
            "order": null,
            "overflow": null,
            "padding": null,
            "right": null,
            "top": null,
            "visibility": null,
            "width": null
          }
        },
        "69caa261344b4925b66570997dc91f69": {
          "model_module": "@jupyter-widgets/controls",
          "model_name": "HTMLStyleModel",
          "model_module_version": "2.0.0",
          "state": {
            "_model_module": "@jupyter-widgets/controls",
            "_model_module_version": "2.0.0",
            "_model_name": "HTMLStyleModel",
            "_view_count": null,
            "_view_module": "@jupyter-widgets/base",
            "_view_module_version": "2.0.0",
            "_view_name": "StyleView",
            "background": null,
            "description_width": "",
            "font_size": null,
            "text_color": null
          }
        },
        "27ad8b77759b4e76aeff62ef177bdd98": {
          "model_module": "@jupyter-widgets/base",
          "model_name": "LayoutModel",
          "model_module_version": "2.0.0",
          "state": {
            "_model_module": "@jupyter-widgets/base",
            "_model_module_version": "2.0.0",
            "_model_name": "LayoutModel",
            "_view_count": null,
            "_view_module": "@jupyter-widgets/base",
            "_view_module_version": "2.0.0",
            "_view_name": "LayoutView",
            "align_content": null,
            "align_items": null,
            "align_self": null,
            "border_bottom": null,
            "border_left": null,
            "border_right": null,
            "border_top": null,
            "bottom": null,
            "display": null,
            "flex": null,
            "flex_flow": null,
            "grid_area": null,
            "grid_auto_columns": null,
            "grid_auto_flow": null,
            "grid_auto_rows": null,
            "grid_column": null,
            "grid_gap": null,
            "grid_row": null,
            "grid_template_areas": null,
            "grid_template_columns": null,
            "grid_template_rows": null,
            "height": null,
            "justify_content": null,
            "justify_items": null,
            "left": null,
            "margin": null,
            "max_height": null,
            "max_width": null,
            "min_height": null,
            "min_width": null,
            "object_fit": null,
            "object_position": null,
            "order": null,
            "overflow": null,
            "padding": null,
            "right": null,
            "top": null,
            "visibility": null,
            "width": null
          }
        },
        "36723d5cad0a4cf3a30d9f22a41327ab": {
          "model_module": "@jupyter-widgets/controls",
          "model_name": "HTMLStyleModel",
          "model_module_version": "2.0.0",
          "state": {
            "_model_module": "@jupyter-widgets/controls",
            "_model_module_version": "2.0.0",
            "_model_name": "HTMLStyleModel",
            "_view_count": null,
            "_view_module": "@jupyter-widgets/base",
            "_view_module_version": "2.0.0",
            "_view_name": "StyleView",
            "background": null,
            "description_width": "",
            "font_size": null,
            "text_color": null
          }
        },
        "a6b675890eb0404e93dc6bf6a7cce1c9": {
          "model_module": "@jupyter-widgets/controls",
          "model_name": "HTMLModel",
          "model_module_version": "2.0.0",
          "state": {
            "_dom_classes": [],
            "_model_module": "@jupyter-widgets/controls",
            "_model_module_version": "2.0.0",
            "_model_name": "HTMLModel",
            "_view_count": null,
            "_view_module": "@jupyter-widgets/controls",
            "_view_module_version": "2.0.0",
            "_view_name": "HTMLView",
            "description": "",
            "description_allow_html": false,
            "layout": "IPY_MODEL_98c3673d3ffb43ce9e2a0494b5764c85",
            "placeholder": "​",
            "style": "IPY_MODEL_69caa261344b4925b66570997dc91f69",
            "tabbable": null,
            "tooltip": null,
            "value": "1_Pooling/config.json: 100%"
          }
        },
        "0518989f39d64694a4e6f81dc7e0c008": {
          "model_module": "@jupyter-widgets/controls",
          "model_name": "FloatProgressModel",
          "model_module_version": "2.0.0",
          "state": {
            "_dom_classes": [],
            "_model_module": "@jupyter-widgets/controls",
            "_model_module_version": "2.0.0",
            "_model_name": "FloatProgressModel",
            "_view_count": null,
            "_view_module": "@jupyter-widgets/controls",
            "_view_module_version": "2.0.0",
            "_view_name": "ProgressView",
            "bar_style": "success",
            "description": "",
            "description_allow_html": false,
            "layout": "IPY_MODEL_3cb4637c826247c98ac71ff1c190a827",
            "max": 190,
            "min": 0,
            "orientation": "horizontal",
            "style": "IPY_MODEL_1ed709cbb2f247d79b4c50a40e18b9e1",
            "tabbable": null,
            "tooltip": null,
            "value": 190
          }
        },
        "c8f1334fa653407d92acb3f96d8d1271": {
          "model_module": "@jupyter-widgets/controls",
          "model_name": "HTMLModel",
          "model_module_version": "2.0.0",
          "state": {
            "_dom_classes": [],
            "_model_module": "@jupyter-widgets/controls",
            "_model_module_version": "2.0.0",
            "_model_name": "HTMLModel",
            "_view_count": null,
            "_view_module": "@jupyter-widgets/controls",
            "_view_module_version": "2.0.0",
            "_view_name": "HTMLView",
            "description": "",
            "description_allow_html": false,
            "layout": "IPY_MODEL_27ad8b77759b4e76aeff62ef177bdd98",
            "placeholder": "​",
            "style": "IPY_MODEL_36723d5cad0a4cf3a30d9f22a41327ab",
            "tabbable": null,
            "tooltip": null,
            "value": " 190/190 [00:00&lt;00:00, 7.50kB/s]"
          }
        },
        "a6b4223e22e247a8974a56386255ad62": {
          "model_module": "@jupyter-widgets/base",
          "model_name": "LayoutModel",
          "model_module_version": "2.0.0",
          "state": {
            "_model_module": "@jupyter-widgets/base",
            "_model_module_version": "2.0.0",
            "_model_name": "LayoutModel",
            "_view_count": null,
            "_view_module": "@jupyter-widgets/base",
            "_view_module_version": "2.0.0",
            "_view_name": "LayoutView",
            "align_content": null,
            "align_items": null,
            "align_self": null,
            "border_bottom": null,
            "border_left": null,
            "border_right": null,
            "border_top": null,
            "bottom": null,
            "display": null,
            "flex": null,
            "flex_flow": null,
            "grid_area": null,
            "grid_auto_columns": null,
            "grid_auto_flow": null,
            "grid_auto_rows": null,
            "grid_column": null,
            "grid_gap": null,
            "grid_row": null,
            "grid_template_areas": null,
            "grid_template_columns": null,
            "grid_template_rows": null,
            "height": null,
            "justify_content": null,
            "justify_items": null,
            "left": null,
            "margin": null,
            "max_height": null,
            "max_width": null,
            "min_height": null,
            "min_width": null,
            "object_fit": null,
            "object_position": null,
            "order": null,
            "overflow": null,
            "padding": null,
            "right": null,
            "top": null,
            "visibility": null,
            "width": null
          }
        },
        "1ea61dee6a7a49cf931ee08ad4c3994a": {
          "model_module": "@jupyter-widgets/controls",
          "model_name": "HBoxModel",
          "model_module_version": "2.0.0",
          "state": {
            "_dom_classes": [],
            "_model_module": "@jupyter-widgets/controls",
            "_model_module_version": "2.0.0",
            "_model_name": "HBoxModel",
            "_view_count": null,
            "_view_module": "@jupyter-widgets/controls",
            "_view_module_version": "2.0.0",
            "_view_name": "HBoxView",
            "box_style": "",
            "children": [
              "IPY_MODEL_a6b675890eb0404e93dc6bf6a7cce1c9",
              "IPY_MODEL_0518989f39d64694a4e6f81dc7e0c008",
              "IPY_MODEL_c8f1334fa653407d92acb3f96d8d1271"
            ],
            "layout": "IPY_MODEL_a6b4223e22e247a8974a56386255ad62",
            "tabbable": null,
            "tooltip": null
          }
        }
      }
    }
  },
  "cells": [
    {
      "cell_type": "markdown",
      "source": [
        "# RAG Project with Knowledge Graph using Neo4j with DeepSeek R1\n",
        "* Notebook by Adam Lang\n",
        "* Date: 2/3/2025\n",
        "\n",
        "# Overview\n",
        "* In this notebook we will implement a project peforming retrieval augmented generation using a knowledge graph in Neo4j Aura graph database.\n",
        "\n",
        "# Technical Stack\n",
        "* LangChain\n",
        "* Neo4J Aura Graph DB\n",
        "* GROQ API --> Deepseek R1 LLM\n",
        "* Hugging Face --> Embeddings\n",
        "\n",
        "# Most interesting takeaways from using DeepSeek R1\n",
        "* DeepSeek R1 uses 3 components that make it so efficient:\n",
        "\n",
        "1. **Chain of Thought**\n",
        "* If you ask most AI models a tough question, they give you an answer but not the reasoning behind it.\n",
        "* This is a problem. If the answer is wrong, you dont know where it went off track.\n",
        "* Chain of Thought fixes this. Instead of spitting out an answer, the model explains its reasoning step by step. If it makes a mistake, you can see exactly where. More importantly, the model itself can see where.\n",
        "* There are 3 processes within chain of thought that enhance a models reasoning process:\n",
        "  * 1) **Reasoning Process** - ability to articulate their reasoning step by step.\n",
        "  * 2) **Error Identification** - models identify mistakes in their reasoning.\n",
        "  * 3) **Self-Correction** - models correct errors based on identified mistakes in retrieval and generation.\n",
        "\n",
        "\n",
        "2. **Reinforcement Learning**\n",
        "3. **Distillation**\n",
        "\n",
        "* Further reading on this: https://medium.com/@tahirbalarabe2/deepseek-r1-explained-chain-of-thought-reinforcement-learning-and-model-distillation-0eb165d928c9"
      ],
      "metadata": {
        "id": "y1xSQLn_RIg-"
      }
    },
    {
      "cell_type": "markdown",
      "source": [
        "# Install Dependencies\n",
        "* Note: using `yfiles jupyter graphs` for visualizing graphs in jupyter notebooks\n",
        "  * github repo: https://github.com/yWorks/yfiles-jupyter-graphs"
      ],
      "metadata": {
        "id": "7RrAJJ1HRcUb"
      }
    },
    {
      "cell_type": "code",
      "execution_count": 45,
      "metadata": {
        "id": "PP5OCp_xP1DP"
      },
      "outputs": [],
      "source": [
        "%%capture\n",
        "!pip install --upgrade --quiet langchain langchain-community langchain-openai langchain-experimental langchain-neo4j wikipedia tiktoken yfiles_jupyter_graphs langchain-groq langchain-huggingface sentence-transformers"
      ]
    },
    {
      "cell_type": "markdown",
      "source": [
        "# Setup Environment Variables - LLM & Neo4j\n",
        "* Normally you would do this in a `.env` file when building an application. However since this is a notebook experimental project we will do it here.\n",
        "* First we setup the LLM we will use GROQ API."
      ],
      "metadata": {
        "id": "IibjhjyUdaI9"
      }
    },
    {
      "cell_type": "code",
      "source": [
        "## enter password\n",
        "from getpass import getpass\n",
        "import os\n",
        "\n",
        "GROQ_API_KEY = getpass('Enter your GROQ API key: ')"
      ],
      "metadata": {
        "colab": {
          "base_uri": "https://localhost:8080/"
        },
        "id": "mP-8uG2sT6C-",
        "outputId": "960dc862-94ba-44a6-f0d0-576b3ce387a7"
      },
      "execution_count": 18,
      "outputs": [
        {
          "name": "stdout",
          "output_type": "stream",
          "text": [
            "Enter your GROQ API key: ··········\n"
          ]
        }
      ]
    },
    {
      "cell_type": "code",
      "source": [
        "## set openai env variable\n",
        "os.environ['GROQ_API_KEY'] = GROQ_API_KEY"
      ],
      "metadata": {
        "id": "Z2Ple3o6d4Wn"
      },
      "execution_count": 19,
      "outputs": []
    },
    {
      "cell_type": "markdown",
      "source": [
        "## Neo4j imports\n",
        "* We need to setup neo4j instance in Aura DB.\n",
        "* I am doing this with a free Neo4j graph database.\n",
        "* Note: if you run this in a `.env` file these are NOT string variables below, you would remove the string quotations."
      ],
      "metadata": {
        "id": "zYTE1knMrHeE"
      }
    },
    {
      "cell_type": "code",
      "source": [
        "## init NEO4J env variables\n",
        "NEO4J_URI=\"neo4j+s://50e3ee6e.databases.neo4j.io\"\n",
        "NEO4J_USERNAME=\"neo4j\"\n",
        "NEO4J_PASSWORD=\"tcO6x4D93NJEsk6-pjZplADrkxixZ2wz_99DqnFmqwY\"\n",
        "#AURA_INSTANCEID=\"50e3ee6e\"\n",
        "#AURA_INSTANCENAME=\"Instance01\""
      ],
      "metadata": {
        "id": "2yXASM7reB7V"
      },
      "execution_count": 20,
      "outputs": []
    },
    {
      "cell_type": "code",
      "source": [
        "## set NEO4J environment variables\n",
        "os.environ[\"NEO4J_URI\"]=NEO4J_URI\n",
        "os.environ[\"NEO4J_USERNAME\"]=NEO4J_USERNAME\n",
        "os.environ[\"NEO4J_PASSWORD\"]=NEO4J_PASSWORD\n",
        "#NEO4J_DATABASE=os.environ[\"NEO4J_DATABASE\"]\n",
        "#AURA_INSTANCENAME=os.environ[\"AURA_INSTANCENAME\"]\n",
        "#AUTH=(NEO4J_USERNAME, NEO4J_PASSWORD)"
      ],
      "metadata": {
        "id": "ojPhR9n00Xwj"
      },
      "execution_count": 21,
      "outputs": []
    },
    {
      "cell_type": "code",
      "source": [
        "from langchain_neo4j import Neo4jGraph\n",
        "from neo4j import GraphDatabase\n",
        "\n",
        "## need to setup a driver for NEO4J Graph DB\n",
        "#driver = GraphDatabase.driver(NEO4J_URI, auth=AUTH)\n",
        "\n",
        "\n",
        "## init graph instance\n",
        "graph = Neo4jGraph()"
      ],
      "metadata": {
        "id": "NG2ORhBqrD3P"
      },
      "execution_count": 22,
      "outputs": []
    },
    {
      "cell_type": "markdown",
      "source": [
        "# Data\n",
        "* This is using \"dummy\" data from Wikipedia. However, this can be done with just about any data source including CSV, TSV, PDF, etc.\n",
        "* There are different ways of ingesting structured data such as CSVs, briefly here are 2 methods:\n",
        "1. Neo4j Runway\n",
        "  * This is a package released by Neo4j that uses OpenAI and allows you to create your own knowlege graph on a CSV.\n",
        "  * It requires promopting and a human in the loop to iterate on the graph data model.\n",
        "  * Links:\n",
        "    * https://a-s-g93.github.io/neo4j-runway/\n",
        "    * https://medium.com/neo4j/easy-data-ingestion-with-neo4j-runway-and-arrows-app-1e5f121333a7\n",
        "    * runway github: https://github.com/a-s-g93/neo4j-runway/tree/main\n",
        "\n",
        "2. WhyHow.AI\n",
        "  * Thehy have numerous resources, but here is a great blog post to get you started: https://medium.com/enterprise-rag/tables-csvs-to-graphs-whyhow-ai-sdk-9ed6d95f2f8b\n",
        "\n",
        "3. Rebel\n",
        "  * Rebel is an open source model that you can utilize via Hugging Face.\n",
        "  * The idea is that the model has been trained to extract triplets for building knowledge graphs from unstructured data.\n",
        "  * The triplets extracted are helpful for inserting a graph into a Property Graph DB such as Neo4j. So this is similar to what the Neo4j Runway does but it uses an open source BART-Large encoder-decoder transformer on which the original model was trained.\n",
        "  * The original training dataset was based on wikipedia abstracts.\n",
        "  * Rebel resources:\n",
        "    * 1. REBEL huggingface: https://huggingface.co/Babelscape/rebel-large\n",
        "    * 2. REBEL github: https://github.com/Babelscape/rebel?tab=readme-ov-file\n",
        "    * 3. REBEL blogpost: https://medium.com/@sauravjoshi23/building-knowledge-graphs-rebel-llamaindex-and-rebel-llamaindex-8769cf800115\n",
        "\n"
      ],
      "metadata": {
        "id": "ox_2fMHqrZzC"
      }
    },
    {
      "cell_type": "code",
      "source": [
        "## dummy example using wikipedia data\n",
        "from langchain.document_loaders import WikipediaLoader\n",
        "\n",
        "## load documents\n",
        "raw_documents = WikipediaLoader(query=\"Elizabeth I\").load()"
      ],
      "metadata": {
        "colab": {
          "base_uri": "https://localhost:8080/"
        },
        "id": "HIxI9imfwf31",
        "outputId": "722fae80-aa1a-45ee-ec42-ea438841d334"
      },
      "execution_count": 7,
      "outputs": [
        {
          "output_type": "stream",
          "name": "stderr",
          "text": [
            "/usr/local/lib/python3.11/dist-packages/wikipedia/wikipedia.py:389: GuessedAtParserWarning: No parser was explicitly specified, so I'm using the best available HTML parser for this system (\"lxml\"). This usually isn't a problem, but if you run this code on another system, or in a different virtual environment, it may use a different parser and behave differently.\n",
            "\n",
            "The code that caused this warning is on line 389 of the file /usr/local/lib/python3.11/dist-packages/wikipedia/wikipedia.py. To get rid of this warning, pass the additional argument 'features=\"lxml\"' to the BeautifulSoup constructor.\n",
            "\n",
            "  lis = BeautifulSoup(html).find_all('li')\n"
          ]
        }
      ]
    },
    {
      "cell_type": "code",
      "source": [
        "## view slice of raw docs\n",
        "raw_documents[:100]"
      ],
      "metadata": {
        "colab": {
          "base_uri": "https://localhost:8080/"
        },
        "id": "tAIhJmcCy6MI",
        "outputId": "896307ae-9563-498b-e315-82394620e37f"
      },
      "execution_count": 8,
      "outputs": [
        {
          "output_type": "execute_result",
          "data": {
            "text/plain": [
              "[Document(metadata={'title': 'Elizabeth I', 'summary': 'Elizabeth I (7 September 1533 – 24 March 1603) was Queen of England and Ireland from 17 November 1558 until her death in 1603. She was the last and longest reigning monarch of the House of Tudor. Her eventful reign, and its effect on history and culture, gave name to the Elizabethan era.\\nElizabeth was the only surviving child of Henry VIII and his second wife, Anne Boleyn. When Elizabeth was two years old, her parents\\' marriage was annulled, her mother was executed, and Elizabeth was declared illegitimate. Henry restored her to the line of succession when she was 10, via the Third Succession Act 1543. After Henry\\'s death in 1547, Elizabeth\\'s younger half-brother Edward VI ruled until his own death in 1553, bequeathing the crown to a Protestant cousin, Lady Jane Grey, and ignoring the claims of his two half-sisters, the Catholic Mary and the younger Elizabeth, in spite of statutes to the contrary. Edward\\'s will was set aside within weeks of his death and Mary became queen, deposing and executing Jane. During Mary\\'s reign, Elizabeth was imprisoned for nearly a year on suspicion of supporting Protestant rebels.\\nUpon her half-sister\\'s death in 1558, Elizabeth succeeded to the throne and set out to rule by good counsel. She depended heavily on a group of trusted advisers led by William Cecil, whom she created Baron Burghley. One of her first actions as queen was the establishment of an English Protestant church, of which she became the supreme governor. This arrangement, later named the Elizabethan Religious Settlement, would evolve into the Church of England. It was expected that Elizabeth would marry and produce an heir; however, despite numerous courtships, she never did. Because of this she is sometimes referred to as the \"Virgin Queen\". She was eventually succeeded by her first cousin twice removed, James VI of Scotland.\\nIn government, Elizabeth was more moderate than her father and siblings had been. One of her mottoes was video et taceo (\"I see and keep silent\"). In religion, she was relatively tolerant and avoided systematic persecution. After the pope declared her illegitimate in 1570, which in theory released English Catholics from allegiance to her, several conspiracies threatened her life, all of which were defeated with the help of her ministers\\' secret service, run by Sir Francis Walsingham. Elizabeth was cautious in foreign affairs, manoeuvring between the major powers of France and Spain. She half-heartedly supported a number of ineffective, poorly resourced military campaigns in the Netherlands, France, and Ireland. By the mid-1580s, England could no longer avoid war with Spain.\\nAs she grew older, Elizabeth became celebrated for her virginity. A cult of personality grew around her which was celebrated in the portraits, pageants, and literature of the day. The Elizabethan era is famous for the flourishing of English drama, led by playwrights such as William Shakespeare and Christopher Marlowe, the prowess of English maritime adventurers, such as Francis Drake and Walter Raleigh, and for the defeat of the Spanish Armada. Some historians depict Elizabeth as a short-tempered, sometimes indecisive ruler, who enjoyed more than her fair share of luck. Towards the end of her reign, a series of economic and military problems weakened her popularity. Elizabeth is acknowledged as a charismatic performer (\"Gloriana\") and a dogged survivor (\"Good Queen Bess\") in an era when government was ramshackle and limited, and when monarchs in neighbouring countries faced internal problems that jeopardised their thrones. After the short, disastrous reigns of her half-siblings, her 44 years on the throne provided welcome stability for the kingdom and helped to forge a sense of national identity.', 'source': 'https://en.wikipedia.org/wiki/Elizabeth_I'}, page_content='Elizabeth I (7 September 1533 – 24 March 1603) was Queen of England and Ireland from 17 November 1558 until her death in 1603. She was the last and longest reigning monarch of the House of Tudor. Her eventful reign, and its effect on history and culture, gave name to the Elizabethan era.\\nElizabeth was the only surviving child of Henry VIII and his second wife, Anne Boleyn. When Elizabeth was two years old, her parents\\' marriage was annulled, her mother was executed, and Elizabeth was declared illegitimate. Henry restored her to the line of succession when she was 10, via the Third Succession Act 1543. After Henry\\'s death in 1547, Elizabeth\\'s younger half-brother Edward VI ruled until his own death in 1553, bequeathing the crown to a Protestant cousin, Lady Jane Grey, and ignoring the claims of his two half-sisters, the Catholic Mary and the younger Elizabeth, in spite of statutes to the contrary. Edward\\'s will was set aside within weeks of his death and Mary became queen, deposing and executing Jane. During Mary\\'s reign, Elizabeth was imprisoned for nearly a year on suspicion of supporting Protestant rebels.\\nUpon her half-sister\\'s death in 1558, Elizabeth succeeded to the throne and set out to rule by good counsel. She depended heavily on a group of trusted advisers led by William Cecil, whom she created Baron Burghley. One of her first actions as queen was the establishment of an English Protestant church, of which she became the supreme governor. This arrangement, later named the Elizabethan Religious Settlement, would evolve into the Church of England. It was expected that Elizabeth would marry and produce an heir; however, despite numerous courtships, she never did. Because of this she is sometimes referred to as the \"Virgin Queen\". She was eventually succeeded by her first cousin twice removed, James VI of Scotland.\\nIn government, Elizabeth was more moderate than her father and siblings had been. One of her mottoes was video et taceo (\"I see and keep silent\"). In religion, she was relatively tolerant and avoided systematic persecution. After the pope declared her illegitimate in 1570, which in theory released English Catholics from allegiance to her, several conspiracies threatened her life, all of which were defeated with the help of her ministers\\' secret service, run by Sir Francis Walsingham. Elizabeth was cautious in foreign affairs, manoeuvring between the major powers of France and Spain. She half-heartedly supported a number of ineffective, poorly resourced military campaigns in the Netherlands, France, and Ireland. By the mid-1580s, England could no longer avoid war with Spain.\\nAs she grew older, Elizabeth became celebrated for her virginity. A cult of personality grew around her which was celebrated in the portraits, pageants, and literature of the day. The Elizabethan era is famous for the flourishing of English drama, led by playwrights such as William Shakespeare and Christopher Marlowe, the prowess of English maritime adventurers, such as Francis Drake and Walter Raleigh, and for the defeat of the Spanish Armada. Some historians depict Elizabeth as a short-tempered, sometimes indecisive ruler, who enjoyed more than her fair share of luck. Towards the end of her reign, a series of economic and military problems weakened her popularity. Elizabeth is acknowledged as a charismatic performer (\"Gloriana\") and a dogged survivor (\"Good Queen Bess\") in an era when government was ramshackle and limited, and when monarchs in neighbouring countries faced internal problems that jeopardised their thrones. After the short, disastrous reigns of her half-siblings, her 44 years on the throne provided welcome stability for the kingdom and helped to forge a sense of national identity.\\n\\n\\n== Early life ==\\n\\nElizabeth was born at Greenwich Palace on 7 September 1533 and was named after her grandmothers, Elizabeth of York and Lady Elizabeth Howard. She was the second child of Henry VIII of England born in wedlock to survive infancy. '),\n",
              " Document(metadata={'title': 'Elizabeth of Russia', 'summary': \"Elizabeth or Elizaveta Petrovna (Russian: Елизаве́та Петро́вна; 29 December [O.S. 18 December] 1709 – 5 January [O.S. 25 December] 1762) was Empress of Russia from 1741 until her death in 1762. She remains one of the most popular Russian monarchs because of her decision not to execute a single person during her reign, her numerous construction projects, and her strong opposition to Prussian policies.\\nThe second-eldest daughter of Tsar Peter the Great (r.\\u20091682–1725), Elizabeth lived through the confused successions of her father's descendants following her half-brother Alexei's death in 1718. The throne first passed to her mother Catherine I of Russia (r.\\u20091725–1727), then to her nephew Peter II, who died in 1730 and was succeeded by Elizabeth's first cousin Anna (r.\\u20091730–1740). After the brief rule of Anna's infant great-nephew, Ivan VI, Elizabeth seized the throne with the military's support and declared her own nephew, the future Peter III, her heir.\\nDuring her reign Elizabeth continued the policies of her father and brought about a remarkable Age of Enlightenment in Russia. Her domestic policies allowed the nobles to gain dominance in local government while shortening their terms of service to the state. She encouraged Mikhail Lomonosov's foundation of the University of Moscow, the highest-ranking Russian educational institution. Her court became one of the most splendid in all Europe, especially regarding architecture: she modernised Russia's roads, encouraged Ivan Shuvalov's foundation of the Imperial Academy of Arts, and financed grandiose Baroque projects of her favourite architect, Bartolomeo Rastrelli, particularly in Peterhof Palace. The Winter Palace and the Smolny Cathedral in Saint Petersburg are among the chief monuments of her reign.\\nElizabeth led the Russian Empire during the two major European conflicts of her time: the War of Austrian Succession (1740–1748) and the Seven Years' War (1756–1763). She and diplomat Aleksey Bestuzhev-Ryumin solved the first event by forming an alliance with Austria and France, but indirectly caused the second. Russian troops enjoyed several victories against Prussia and briefly occupied Berlin, but when Frederick the Great was finally considering surrender in January 1762, the Russian Empress died. She was the last agnatic member of the House of Romanov to reign over the Russian Empire.\", 'source': 'https://en.wikipedia.org/wiki/Elizabeth_of_Russia'}, page_content='Elizabeth or Elizaveta Petrovna (Russian: Елизаве́та Петро́вна; 29 December [O.S. 18 December] 1709 – 5 January [O.S. 25 December] 1762) was Empress of Russia from 1741 until her death in 1762. She remains one of the most popular Russian monarchs because of her decision not to execute a single person during her reign, her numerous construction projects, and her strong opposition to Prussian policies.\\nThe second-eldest daughter of Tsar Peter the Great (r.\\u20091682–1725), Elizabeth lived through the confused successions of her father\\'s descendants following her half-brother Alexei\\'s death in 1718. The throne first passed to her mother Catherine I of Russia (r.\\u20091725–1727), then to her nephew Peter II, who died in 1730 and was succeeded by Elizabeth\\'s first cousin Anna (r.\\u20091730–1740). After the brief rule of Anna\\'s infant great-nephew, Ivan VI, Elizabeth seized the throne with the military\\'s support and declared her own nephew, the future Peter III, her heir.\\nDuring her reign Elizabeth continued the policies of her father and brought about a remarkable Age of Enlightenment in Russia. Her domestic policies allowed the nobles to gain dominance in local government while shortening their terms of service to the state. She encouraged Mikhail Lomonosov\\'s foundation of the University of Moscow, the highest-ranking Russian educational institution. Her court became one of the most splendid in all Europe, especially regarding architecture: she modernised Russia\\'s roads, encouraged Ivan Shuvalov\\'s foundation of the Imperial Academy of Arts, and financed grandiose Baroque projects of her favourite architect, Bartolomeo Rastrelli, particularly in Peterhof Palace. The Winter Palace and the Smolny Cathedral in Saint Petersburg are among the chief monuments of her reign.\\nElizabeth led the Russian Empire during the two major European conflicts of her time: the War of Austrian Succession (1740–1748) and the Seven Years\\' War (1756–1763). She and diplomat Aleksey Bestuzhev-Ryumin solved the first event by forming an alliance with Austria and France, but indirectly caused the second. Russian troops enjoyed several victories against Prussia and briefly occupied Berlin, but when Frederick the Great was finally considering surrender in January 1762, the Russian Empress died. She was the last agnatic member of the House of Romanov to reign over the Russian Empire.\\n\\n\\n== Early life ==\\n\\n\\n=== Childhood and teenage years ===\\n\\nElizabeth was born at Kolomenskoye, near Moscow, Russia, on 18 December 1709 (O.S.). Her parents were Peter the Great, Tsar of Russia and Catherine. Catherine was the daughter of Samuel Skowroński, a subject of Grand Duchy of Lithuania. Although no documentary record exists, her parents were said to have married secretly at the Cathedral of the Holy Trinity in Saint Petersburg at some point between 23 October and 1 December 1707. Their official marriage was at Saint Isaac\\'s Cathedral in Saint Petersburg on 9 February 1712. On this day, the two children previously born to the couple (Anna and Elizabeth) were legitimised by their father and given the title of Tsarevna (\"princess\") on 6 March 1711. Of the twelve children born to Peter and Catherine (five sons and seven daughters), only the sisters survived to adulthood. They had one older surviving sibling, crown prince Alexei Petrovich, who was Peter\\'s son by his first wife, noblewoman Eudoxia Lopukhina.\\nAs a child, Elizabeth was the favourite of her father, whom she resembled both physically and temperamentally. Even though he adored his daughter, Peter did not devote time or attention to her education; having both a son and grandson from his first marriage to a noblewoman, he did not anticipate that a daughter born to his former maid might one day inherit the Russian throne, which had until that point never been occupied by a woman; as such, it was left to Catherine to raise the girls, a task met with considerable difficulty due to her own lack of education. Despite this, Elizabeth was still '),\n",
              " Document(metadata={'title': 'Portraiture of Elizabeth I', 'summary': 'The portraiture of Queen Elizabeth I (1533–1603) spans the evolution of English royal portraits in the early modern period (1400/1500-1800), from the earliest representations of simple likenesses to the later complex imagery used to convey the power and aspirations of the state, as well as of the monarch at its head.\\nEven the earliest portraits of Elizabeth I contain symbolic objects such as roses and prayer books that would have carried meaning to viewers of her day. Later portraits of Elizabeth layer the iconography of empire—globes, crowns, swords and columns—and representations of virginity and purity, such as moons and pearls, with classical allusions, to present a complex \"story\" that conveyed to Elizabethan era viewers the majesty and significance of the \\'Virgin Queen\\'.', 'source': 'https://en.wikipedia.org/wiki/Portraiture_of_Elizabeth_I'}, page_content='The portraiture of Queen Elizabeth I (1533–1603) spans the evolution of English royal portraits in the early modern period (1400/1500-1800), from the earliest representations of simple likenesses to the later complex imagery used to convey the power and aspirations of the state, as well as of the monarch at its head.\\nEven the earliest portraits of Elizabeth I contain symbolic objects such as roses and prayer books that would have carried meaning to viewers of her day. Later portraits of Elizabeth layer the iconography of empire—globes, crowns, swords and columns—and representations of virginity and purity, such as moons and pearls, with classical allusions, to present a complex \"story\" that conveyed to Elizabethan era viewers the majesty and significance of the \\'Virgin Queen\\'.\\n\\n\\n== Overview ==\\n\\n\\n=== Portraiture in Tudor England ===\\n\\nTwo portraiture traditions had arisen in the Tudor court since the days of Elizabeth\\'s father, Henry VIII. The portrait miniature developed from the illuminated manuscript tradition. These small personal images were almost invariably painted from life over the space of a few days in watercolours on vellum, stiffened by being glued to a playing card. Panel paintings in oils on prepared wood surfaces were based on preparatory drawings and were usually executed at life size, as were oil paintings on canvas.\\nUnlike her contemporaries in France, Elizabeth never granted rights to produce her portrait to a single artist, although Nicholas Hilliard was appointed her official limner, or miniaturist and goldsmith. George Gower, a fashionable court portraitist created Serjeant Painter in 1581, was responsible for approving all portraits of the queen created by other artists from 1581 until his death in 1596.\\nElizabeth sat for a number of artists over the years, including Hilliard, Cornelis Ketel, Federico Zuccaro or Zuccari, Isaac Oliver, and most likely to Gower and Marcus Gheeraerts the Younger. Portraits were commissioned by the government as gifts to foreign monarchs and to show to prospective suitors. Courtiers commissioned heavily symbolic paintings to demonstrate their devotion to the queen, and the fashionable long galleries of later Elizabethan country houses were filled with sets of portraits. The studios of Tudor artists produced images of Elizabeth working from approved \"face patterns\", or approved drawings of the queen, to meet this growing demand for her image, an important symbol of loyalty and reverence for the crown in times of turbulence.\\n\\n\\n=== European context ===\\n\\nBy far the most impressive models of portraiture available to English portraitists were the many portraits by Hans Holbein the Younger, the outstanding Northern portraitist of the first half of the 16th century, who had made two lengthy visits to England, and had been Henry VIII\\'s court artist. Holbein had accustomed the English court to the full-length life-size portrait, although none of his originals now survive. His great dynastic mural at Whitehall Palace, destroyed in 1698, and perhaps other original large portraits, would have been familiar to Elizabethan artists.\\nBoth Holbein and his great Italian contemporary Titian had combined great psychological penetration with a sufficiently majestic impression to satisfy their royal patrons. By his second visit, Holbein had already begun to move away from a strictly realist depiction; in his Jane Seymour, \"the figure is no longer seen as displacing with its bulk a recognizable section of space: it approaches rather to a flat pattern, made alive by a bounding and vital outline\". This tendency was to be taken much further by the later portraits of Elizabeth, where \"Likeness of feature and an interest in form and volume have gradually been abandoned in favour of an effect of splendid majesty obtained by decorative pattern, and the forms have been flattened accordingly\".\\n\\nTitian continued to paint royal portraits, especially of Philip II of Spain, until the 1570s, but in sharply reduce'),\n",
              " Document(metadata={'title': 'Coronation of Elizabeth I', 'summary': \"The coronation of Elizabeth I as Queen of England and Ireland took place at Westminster Abbey, London, on 15 January 1559. Elizabeth I had ascended the throne at the age of 25 upon the death of her half-sister, Mary I, on 17 November 1558. Mary had reversed the Protestant Reformation which had been started by her two predecessors, so this was the last coronation in Great Britain to be conducted under the authority of the Catholic Church. Historians view Elizabeth's coronation as a statement of her intention to restore England to Protestantism, but to allow the continuation of some Catholic customs, a compromise known as the Elizabethan Settlement.\", 'source': 'https://en.wikipedia.org/wiki/Coronation_of_Elizabeth_I'}, page_content='The coronation of Elizabeth I as Queen of England and Ireland took place at Westminster Abbey, London, on 15 January 1559. Elizabeth I had ascended the throne at the age of 25 upon the death of her half-sister, Mary I, on 17 November 1558. Mary had reversed the Protestant Reformation which had been started by her two predecessors, so this was the last coronation in Great Britain to be conducted under the authority of the Catholic Church. Historians view Elizabeth\\'s coronation as a statement of her intention to restore England to Protestantism, but to allow the continuation of some Catholic customs, a compromise known as the Elizabethan Settlement.\\n\\n\\n== Background ==\\nThe reign of Elizabeth I\\'s father, Henry VIII, was one of great political and social change. Religious upheaval in continental Europe and Henry\\'s dispute with the Pope over his marital difficulties led Henry to break from the Catholic Church and to establish the Church of England. Henry VIII was succeeded by his son Edward VI, under whom the Protestant reforms continued. However, Edward\\'s early death in 1553 led to the accession of Henry\\'s daughter Mary I. She returned England to Catholicism, burning at the stake some 300 Protestants as heretics and forcing others into exile. The Protestant-minded Elizabeth outwardly conformed with Mary, but became the focus of opposition to the increasingly unpopular government. Mary became ill in May 1558 and formally recognised Elizabeth as her heir presumptive on 6 November. Elizabeth was at Hatfield House to the north of London when she was informed of Mary\\'s death on 17 November.\\n\\n\\n== Preparations ==\\nElizabeth I\\'s first surviving state paper is dated 17 November 1558, the day of her accession, and is a memorandum for the appointment of \"Commissioners for the Coronation\"; a month later five had been selected, with Sir Richard Sackville taking charge. The date of Sunday 15 January 1559 was set: not, as in previous coronations, an appropriate Christian holy day but, following the advice of her court astrologer, Dr John Dee, one on which the stars and planets would be in favourable positions. The brief time between accession and coronation was also a product of Elizabeth\\'s concern over her legal status; the First Succession Act of 1533 and the Second Succession Act of 1536 had declared both Mary and Elizabeth to be bastards and excluded them from the line of succession. Although the Third Succession Act of 1543/44 had restored their place in the succession, it had not restored their legitimacy. Elizabeth consulted Sir Nicholas Bacon, the Lord Keeper of the Great Seal, who warned against attempting to repeal the Succession Acts and the tangle of legislation relating to them. Instead, he advised that following her coronation, Elizabeth\\'s right to rule would be beyond question since \"the English laws have long since pronounced, That the Crowne once worn quite taketh away all Defects whatsoever\".\\nCoronation festivities at that time consisted of four parts: the vigil procession to the Tower of London where the monarch would spend one or more nights in vigil; on the day before the coronation, the royal entry procession through the streets of the City of London to the Palace of Westminster; the coronation service itself in Westminster Abbey, and finally the coronation banquet in Westminster Hall. Although the religious ceremony at Westminster Abbey was theoretically the main event, Elizabeth was aware that it was the elaborate processions through London which would secure the new queen\\'s popularity with her subjects: not a foregone conclusion given that she was an unmarried woman, that her claim to the throne rested on her executed mother and that there was likely to be a further period of religious upheaval. The queen spent some £16,000 of her own money on the coronation, while the aldermen, livery companies and merchants of the City contributed a very substantial amount; exactly how much is unknown. Unusually, the foreign merchants of'),\n",
              " Document(metadata={'title': 'Succession to Elizabeth I', 'summary': 'The succession to the childless queen of England Elizabeth I was an open question from her accession in 1558 to her death in 1603, when the crown passed to James VI of Scotland, an event known as the Union of the Crowns. While the accession of James went smoothly, the succession had been the subject of much debate for decades. In some scholarly views, it was a major political factor of the entire reign, even if not so voiced. Separate aspects have acquired their own nomenclature: the \"Norfolk conspiracy\", Patrick Collinson\\'s \"Elizabethan exclusion crisis\", the \"Secret Correspondence\", and the \"Valentine Thomas affair\".\\nThe topics of debate remained obscured by uncertainty.\\nElizabeth I avoided establishing the order of succession in any form, presumably because she feared for her own life once a successor was named.  She was also concerned with England forming a productive relationship with Scotland, whose Catholic and Presbyterian strongholds were resistant to female leadership. Catholic women who would be submissive to the Pope and not to English constitutional law were rejected.\\nThe will of Elizabeth\\'s father, Henry VIII, had named one male and seven females living at his death in 1547 as the line of succession: (1) his son Edward VI, (2) Mary I, (3) Elizabeth I, (4) Jane Grey, (5) Katherine Grey, (6) Mary Grey, and (7) Margaret Clifford. By 1596, Elizabeth had outlived all others.\\nA number of authorities considered that the legal position hinged on documents such as the statute De natis ultra mare of Edward III, and the will of Henry VIII. There were different opinions about the application of these documents. Political, religious and military matters came to predominate later in Elizabeth\\'s reign, in the context of the Anglo-Spanish War.\\n\\n', 'source': 'https://en.wikipedia.org/wiki/Succession_to_Elizabeth_I'}, page_content='The succession to the childless queen of England Elizabeth I was an open question from her accession in 1558 to her death in 1603, when the crown passed to James VI of Scotland, an event known as the Union of the Crowns. While the accession of James went smoothly, the succession had been the subject of much debate for decades. In some scholarly views, it was a major political factor of the entire reign, even if not so voiced. Separate aspects have acquired their own nomenclature: the \"Norfolk conspiracy\", Patrick Collinson\\'s \"Elizabethan exclusion crisis\", the \"Secret Correspondence\", and the \"Valentine Thomas affair\".\\nThe topics of debate remained obscured by uncertainty.\\nElizabeth I avoided establishing the order of succession in any form, presumably because she feared for her own life once a successor was named.  She was also concerned with England forming a productive relationship with Scotland, whose Catholic and Presbyterian strongholds were resistant to female leadership. Catholic women who would be submissive to the Pope and not to English constitutional law were rejected.\\nThe will of Elizabeth\\'s father, Henry VIII, had named one male and seven females living at his death in 1547 as the line of succession: (1) his son Edward VI, (2) Mary I, (3) Elizabeth I, (4) Jane Grey, (5) Katherine Grey, (6) Mary Grey, and (7) Margaret Clifford. By 1596, Elizabeth had outlived all others.\\nA number of authorities considered that the legal position hinged on documents such as the statute De natis ultra mare of Edward III, and the will of Henry VIII. There were different opinions about the application of these documents. Political, religious and military matters came to predominate later in Elizabeth\\'s reign, in the context of the Anglo-Spanish War.\\n\\n\\n== Cognatic descent from Henry VII ==\\nDescent from the two daughters of Henry VII who reached adulthood, Margaret and Mary, was the first and main issue in the succession. \\n\\n\\n=== Lennox claim ===\\nMary I of England had died without managing to have her preferred successor and first cousin, Margaret Douglas, Countess of Lennox, nominated by parliament. Margaret Douglas was a daughter of Margaret Tudor, and lived to 1578, but became a marginal figure in discussions of the succession to Elizabeth I, who at no point clarified the dynastic issues of the Tudor line. When in 1565 Margaret Douglas\\'s elder son Henry Stuart, Lord Darnley, married Mary, Queen of Scots, the \"Lennox claim\" was generally regarded as consolidated into the \"Stuart claim\".\\n\\n\\n=== Stuart claimants ===\\nJames VI was the son of two grandchildren of Margaret Tudor. Arbella Stuart, the most serious other contender by the late 16th century, was the daughter of Margaret Douglas, Countess of Lennox\\'s younger son Charles Stuart, 1st Earl of Lennox.\\nJames VI\\'s mother, Mary, Queen of Scots, was considered a plausible successor to the English throne. At the beginning of Elizabeth\\'s reign she sent ambassadors to England when a parliament was summoned, anticipating a role for parliament in settling the succession in her favour. Mary was a Roman Catholic, and her proximity to the succession was a factor in plotting, including the Throckmorton plot and the Babington plot, making her position a political problem for the English government, eventually resolved by judicial means. She was executed in 1587. In that year, Mary\\'s son James reached the age of twenty-one, while Arbella was only twelve.\\n\\n\\n=== Suffolk claimants ===\\nWhile the Stuart line of James and Arbella would have had political support, by 1600 the descendants of Mary Tudor were theoretically relevant, and on legal grounds could not be discounted. Frances Grey, Duchess of Suffolk, and Eleanor Clifford, Countess of Cumberland, both had children who were in the line of succession. Frances and Eleanor were Mary Tudor\\'s daughters by her second husband, Charles Brandon, 1st Duke of Suffolk. Frances married Henry Grey, 1st Duke of Suffolk, and they had three daughters, Lady Jane Grey ('),\n",
              " Document(metadata={'title': 'House of Tudor', 'summary': \"The House of Tudor ( TEW-dər) was an English and Welsh dynasty that held the throne of England from 1485 to 1603. They descended from the Tudors of Penmynydd, a Welsh noble family, and Catherine of Valois. The Tudor monarchs ruled the Kingdom of England and the Lordship of Ireland (later the Kingdom of Ireland) for 118 years with five monarchs: Henry VII, Henry VIII, Edward VI, Mary I and Elizabeth I. The Tudors succeeded the House of Plantagenet as rulers of the Kingdom of England, and were succeeded by the Scottish House of Stuart. The first Tudor monarch, Henry VII, descended through his mother from the House of Beaufort, a legitimised branch of the English royal House of Lancaster, a cadet house of the Plantagenets. The Tudor family rose to power and started the Tudor period in the wake of the Wars of the Roses (1455–1487), which left the main House of Lancaster (with which the Tudors were aligned) extinct in the male line.\\nHenry VII (a descendant of Edward III, and the son of Edmund Tudor, a half-brother of Henry VI) succeeded in presenting himself as a candidate not only for traditional Lancastrian supporters, but also for discontented supporters of their rival Plantagenet cadet House of York, and he took the throne by right of conquest. Following his victory at the Battle of Bosworth Field (22 August 1485), he reinforced his position in 1486 by fulfilling his 1483 vow to marry Elizabeth of York, daughter of King Edward IV and the heiress of the Yorkist claim to the throne, thus symbolically uniting the former warring factions of Lancaster and York under the new dynasty (represented by the Tudor rose). The Tudors extended their power beyond modern England, achieving the full union of England and the Principality of Wales in 1542 (Laws in Wales Acts 1535 and 1542), and successfully asserting English authority over the Kingdom of Ireland (proclaimed by the Crown of Ireland Act 1542). They also maintained the nominal English claim to the Kingdom of France; although none of them made substance of it, Henry VIII fought wars with France primarily as a matter of international alliances but also asserting claim to the title. After him, his daughter Mary I lost control of all territory in France permanently with the Siege of Calais in 1558.\\nIn total, the Tudor monarchs ruled their domains for 118 years. Henry VIII (r.\\u20091509–1547) was the only son of Henry VII to live to the age of maturity, and he proved a dominant ruler. Issues around royal succession (including marriage and the succession rights of women) became major political themes during the Tudor era, as did the English Reformation in religion, impacting the future of the Crown. Elizabeth I was the longest serving Tudor monarch at 44 years, and her reign—known as the Elizabethan Era—provided a period of stability after the short, troubled reigns of her siblings.  When Elizabeth I died childless, her cousin of the Scottish House of Stuart succeeded her, in the Union of the Crowns of 24 March 1603. The first Stuart to become King of England (r.\\u20091603–1625), James VI and I, was a great-grandson of Henry VII's daughter Margaret Tudor, who in 1503 had married James IV of Scotland in accordance with the 1502 Treaty of Perpetual Peace. A connection persists to the present 21st century, as Charles III is a ninth-generation descendant of George I, who in turn was James VI and I's great-grandson.\", 'source': 'https://en.wikipedia.org/wiki/House_of_Tudor'}, page_content=\"The House of Tudor ( TEW-dər) was an English and Welsh dynasty that held the throne of England from 1485 to 1603. They descended from the Tudors of Penmynydd, a Welsh noble family, and Catherine of Valois. The Tudor monarchs ruled the Kingdom of England and the Lordship of Ireland (later the Kingdom of Ireland) for 118 years with five monarchs: Henry VII, Henry VIII, Edward VI, Mary I and Elizabeth I. The Tudors succeeded the House of Plantagenet as rulers of the Kingdom of England, and were succeeded by the Scottish House of Stuart. The first Tudor monarch, Henry VII, descended through his mother from the House of Beaufort, a legitimised branch of the English royal House of Lancaster, a cadet house of the Plantagenets. The Tudor family rose to power and started the Tudor period in the wake of the Wars of the Roses (1455–1487), which left the main House of Lancaster (with which the Tudors were aligned) extinct in the male line.\\nHenry VII (a descendant of Edward III, and the son of Edmund Tudor, a half-brother of Henry VI) succeeded in presenting himself as a candidate not only for traditional Lancastrian supporters, but also for discontented supporters of their rival Plantagenet cadet House of York, and he took the throne by right of conquest. Following his victory at the Battle of Bosworth Field (22 August 1485), he reinforced his position in 1486 by fulfilling his 1483 vow to marry Elizabeth of York, daughter of King Edward IV and the heiress of the Yorkist claim to the throne, thus symbolically uniting the former warring factions of Lancaster and York under the new dynasty (represented by the Tudor rose). The Tudors extended their power beyond modern England, achieving the full union of England and the Principality of Wales in 1542 (Laws in Wales Acts 1535 and 1542), and successfully asserting English authority over the Kingdom of Ireland (proclaimed by the Crown of Ireland Act 1542). They also maintained the nominal English claim to the Kingdom of France; although none of them made substance of it, Henry VIII fought wars with France primarily as a matter of international alliances but also asserting claim to the title. After him, his daughter Mary I lost control of all territory in France permanently with the Siege of Calais in 1558.\\nIn total, the Tudor monarchs ruled their domains for 118 years. Henry VIII (r.\\u20091509–1547) was the only son of Henry VII to live to the age of maturity, and he proved a dominant ruler. Issues around royal succession (including marriage and the succession rights of women) became major political themes during the Tudor era, as did the English Reformation in religion, impacting the future of the Crown. Elizabeth I was the longest serving Tudor monarch at 44 years, and her reign—known as the Elizabethan Era—provided a period of stability after the short, troubled reigns of her siblings.  When Elizabeth I died childless, her cousin of the Scottish House of Stuart succeeded her, in the Union of the Crowns of 24 March 1603. The first Stuart to become King of England (r.\\u20091603–1625), James VI and I, was a great-grandson of Henry VII's daughter Margaret Tudor, who in 1503 had married James IV of Scotland in accordance with the 1502 Treaty of Perpetual Peace. A connection persists to the present 21st century, as Charles III is a ninth-generation descendant of George I, who in turn was James VI and I's great-grandson.\\n\\n\\n== Ascent to the throne ==\\nThe Tudors descended from King Edward III on Henry VII's mother's side from John Beaufort, 1st Earl of Somerset, one of the illegitimate children of the 14th century English prince John of Gaunt, the third surviving son of Edward III. Beaufort's mother was Gaunt's long-term mistress, Katherine Swynford.\\nThe descendants of an illegitimate child of English royalty would normally have no claim on the throne, although Gaunt and Swynford eventually married in 1396, when John Beaufort was 25. The church then retroactively declared the Beauforts legitimate by way of a pa\"),\n",
              " Document(metadata={'title': 'Mary I of England', 'summary': 'Mary I (18 February 1516 – 17 November 1558), also known as Mary Tudor, and as \"Bloody Mary\" by her Protestant opponents, was Queen of England and Ireland from July 1553 and Queen of Spain as the wife of King Philip II from January 1556 until her death in 1558. She made vigorous attempts to reverse the English Reformation, which had begun during the reign of her father, King Henry VIII. Her attempt to restore to the Church the property confiscated in the previous two reigns was largely thwarted by Parliament, but during her five-year reign, Mary had over 280 religious dissenters burned at the stake in the Marian persecutions.\\nMary was the only surviving child of Henry VIII by his first wife, Catherine of Aragon. She was declared illegitimate and barred from the line of succession following the annulment of her parents\\' marriage in 1533, though she would later be restored via the Third Succession Act 1543. Her younger half-brother, Edward VI, succeeded their father in 1547 at the age of nine. When Edward became terminally ill in 1553, he attempted to remove Mary from the line of succession because he supposed, correctly, that she would reverse the Protestant reforms that had taken place during his reign. Upon his death, leading politicians proclaimed Mary\\'s and Edward\\'s Protestant cousin, Lady Jane Grey, as queen instead. Mary speedily assembled a force in East Anglia and deposed Jane, who was eventually beheaded. Mary was—excluding the disputed reigns of Jane and the Empress Matilda—the first queen regnant of England. In July 1554, she married Prince Philip of Spain, becoming queen consort of Habsburg Spain on his accession in 1556.\\nAfter Mary\\'s death in 1558, her re-establishment of Roman Catholicism in England was reversed by her younger half-sister and successor, Elizabeth I.', 'source': 'https://en.wikipedia.org/wiki/Mary_I_of_England'}, page_content='Mary I (18 February 1516 – 17 November 1558), also known as Mary Tudor, and as \"Bloody Mary\" by her Protestant opponents, was Queen of England and Ireland from July 1553 and Queen of Spain as the wife of King Philip II from January 1556 until her death in 1558. She made vigorous attempts to reverse the English Reformation, which had begun during the reign of her father, King Henry VIII. Her attempt to restore to the Church the property confiscated in the previous two reigns was largely thwarted by Parliament, but during her five-year reign, Mary had over 280 religious dissenters burned at the stake in the Marian persecutions.\\nMary was the only surviving child of Henry VIII by his first wife, Catherine of Aragon. She was declared illegitimate and barred from the line of succession following the annulment of her parents\\' marriage in 1533, though she would later be restored via the Third Succession Act 1543. Her younger half-brother, Edward VI, succeeded their father in 1547 at the age of nine. When Edward became terminally ill in 1553, he attempted to remove Mary from the line of succession because he supposed, correctly, that she would reverse the Protestant reforms that had taken place during his reign. Upon his death, leading politicians proclaimed Mary\\'s and Edward\\'s Protestant cousin, Lady Jane Grey, as queen instead. Mary speedily assembled a force in East Anglia and deposed Jane, who was eventually beheaded. Mary was—excluding the disputed reigns of Jane and the Empress Matilda—the first queen regnant of England. In July 1554, she married Prince Philip of Spain, becoming queen consort of Habsburg Spain on his accession in 1556.\\nAfter Mary\\'s death in 1558, her re-establishment of Roman Catholicism in England was reversed by her younger half-sister and successor, Elizabeth I.\\n\\n\\n== Birth and family ==\\nMary was born on 18 February 1516 at the Palace of Placentia in Greenwich, England. She was the only child of King Henry VIII and his first wife, Catherine of Aragon, to survive infancy. Before Mary, her mother had three miscarriages and stillbirths and one short-lived son, Henry, Duke of Cornwall.  \\nMary was baptised into the Catholic faith at the Church of the Observant Friars in Greenwich three days after her birth. Her godparents included Lord Chancellor Thomas Wolsey; her great-aunt Catherine, Countess of Devon; and Agnes Howard, Duchess of Norfolk. Henry VIII\\'s first cousin once removed, Margaret Pole, Countess of Salisbury, stood sponsor for Mary\\'s confirmation, which was conducted immediately after the baptism. The following year, Mary became a godmother herself when she was named as one of the sponsors of her cousin Frances Brandon. In 1520, the Countess of Salisbury was appointed Mary\\'s governess. Sir John Hussey (later Lord Hussey) was her chamberlain from 1530, and his wife Lady Anne, daughter of George Grey, 2nd Earl of Kent, was one of Mary\\'s attendants.\\n\\n\\n== Childhood ==\\n\\nMary was a precocious child. In July 1520, when scarcely four and a half years old, she entertained a visiting French delegation with a performance on the virginals (a type of harpsichord). A great part of her early education came from her mother, who consulted the Spanish humanist Juan Luis Vives for advice and commissioned him to write De Institutione Feminae Christianae, a treatise on the education of girls. By the age of nine, Mary could read and write Latin. She studied French, Spanish, music, dance, and perhaps Greek. Henry VIII doted on his daughter and boasted to the Venetian ambassador Sebastian Giustinian that Mary never cried. Mary had a fair complexion with pale blue eyes and red or reddish-golden hair, traits very similar to those of her parents. She was ruddy-cheeked, a trait she inherited from her father.\\nDespite his affection for Mary, Henry was deeply disappointed that his marriage had produced no sons. By the time Mary was nine years old, it was apparent that Henry and Catherine would have no more children, leaving Henry withou'),\n",
              " Document(metadata={'title': 'James VI and I', 'summary': 'James VI and I (James Charles Stuart; 19 June 1566 – 27 March 1625) was King of Scotland as James VI from 24 July 1567 and King of England and Ireland as James I from the union of the Scottish and English crowns on 24 March 1603 until his death in 1625. Although he long tried to get both countries to adopt a closer political union, the kingdoms of Scotland and England remained sovereign states, with their own parliaments, judiciaries, and laws, ruled by James in personal union. \\nJames was the son of Mary, Queen of Scots, and a great-great-grandson of Henry VII, King of England and Lord of Ireland, and thus a potential successor to all three thrones. He acceded to the Scottish throne at the age of thirteen months, after his mother was forced to abdicate in his favour. Four regents governed during his minority, which ended officially in 1578, though he did not gain full control of his government until 1583. In 1589, he married Anne of Denmark. Three of their children survived to adulthood: Henry Frederick, Elizabeth, and Charles. In 1603, James succeeded his cousin Elizabeth I, the last Tudor monarch of England and Ireland, who died childless. He continued to reign in all three kingdoms for 22 years, a period known as the Jacobean era, until his death in 1625. After the Union of the Crowns, he based himself in England (the largest of the three realms) from 1603, returning to Scotland only once, in 1617, and styled himself \"King of Great Britain and Ireland\". He advocated for a single parliament for England and Scotland. In his reign, the Plantation of Ulster and English colonisation of the Americas began.\\nAt 57 years and 246 days, James\\'s reign in Scotland was the longest of any Scottish monarch. He achieved most of his aims in Scotland but faced great difficulties in England, including the Gunpowder Plot in 1605 and conflicts with the English Parliament. Under James, the \"Golden Age\" of Elizabethan literature and drama continued, with writers such as William Shakespeare, John Donne, Ben Jonson, and Francis Bacon contributing to a flourishing literary culture. James was a prolific writer, authoring works such as Daemonologie (1597), The True Law of Free Monarchies (1598), and Basilikon Doron (1599). He sponsored the translation of the Bible into English (later named after him, the Authorized King James Version), and the 1604 revision of the Book of Common Prayer. Contemporary courtier Anthony Weldon claimed that James had been termed \"the wisest fool in Christendom\" (wise in small things, foolish otherwise) an epithet associated with his character ever since. Since the latter half of the 20th century, historians have tended to revise James\\'s reputation and treat him as a serious and thoughtful monarch. He was strongly committed to a peace policy, and tried to avoid involvement in religious wars, especially the Thirty Years\\' War that devastated much of Central Europe. He tried but failed to prevent the rise of hawkish elements in the English Parliament who wanted war with Spain. The first English king of the House of Stuart, he was succeeded by his second son, Charles I.', 'source': 'https://en.wikipedia.org/wiki/James_VI_and_I'}, page_content='James VI and I (James Charles Stuart; 19 June 1566 – 27 March 1625) was King of Scotland as James VI from 24 July 1567 and King of England and Ireland as James I from the union of the Scottish and English crowns on 24 March 1603 until his death in 1625. Although he long tried to get both countries to adopt a closer political union, the kingdoms of Scotland and England remained sovereign states, with their own parliaments, judiciaries, and laws, ruled by James in personal union. \\nJames was the son of Mary, Queen of Scots, and a great-great-grandson of Henry VII, King of England and Lord of Ireland, and thus a potential successor to all three thrones. He acceded to the Scottish throne at the age of thirteen months, after his mother was forced to abdicate in his favour. Four regents governed during his minority, which ended officially in 1578, though he did not gain full control of his government until 1583. In 1589, he married Anne of Denmark. Three of their children survived to adulthood: Henry Frederick, Elizabeth, and Charles. In 1603, James succeeded his cousin Elizabeth I, the last Tudor monarch of England and Ireland, who died childless. He continued to reign in all three kingdoms for 22 years, a period known as the Jacobean era, until his death in 1625. After the Union of the Crowns, he based himself in England (the largest of the three realms) from 1603, returning to Scotland only once, in 1617, and styled himself \"King of Great Britain and Ireland\". He advocated for a single parliament for England and Scotland. In his reign, the Plantation of Ulster and English colonisation of the Americas began.\\nAt 57 years and 246 days, James\\'s reign in Scotland was the longest of any Scottish monarch. He achieved most of his aims in Scotland but faced great difficulties in England, including the Gunpowder Plot in 1605 and conflicts with the English Parliament. Under James, the \"Golden Age\" of Elizabethan literature and drama continued, with writers such as William Shakespeare, John Donne, Ben Jonson, and Francis Bacon contributing to a flourishing literary culture. James was a prolific writer, authoring works such as Daemonologie (1597), The True Law of Free Monarchies (1598), and Basilikon Doron (1599). He sponsored the translation of the Bible into English (later named after him, the Authorized King James Version), and the 1604 revision of the Book of Common Prayer. Contemporary courtier Anthony Weldon claimed that James had been termed \"the wisest fool in Christendom\" (wise in small things, foolish otherwise) an epithet associated with his character ever since. Since the latter half of the 20th century, historians have tended to revise James\\'s reputation and treat him as a serious and thoughtful monarch. He was strongly committed to a peace policy, and tried to avoid involvement in religious wars, especially the Thirty Years\\' War that devastated much of Central Europe. He tried but failed to prevent the rise of hawkish elements in the English Parliament who wanted war with Spain. The first English king of the House of Stuart, he was succeeded by his second son, Charles I.\\n\\n\\n== Childhood ==\\n\\n\\n=== Birth ===\\n\\nJames was the only son of Mary, Queen of Scots, and her second husband, Henry Stuart, Lord Darnley. Mary and Darnley were great-grandchildren of Henry VII of England through Margaret Tudor, the older sister of Henry VIII. Mary\\'s rule over Scotland was insecure, and she and her husband, being Roman Catholics, faced a rebellion by Protestant noblemen. During Mary\\'s and Darnley\\'s difficult marriage, Darnley secretly allied himself with the rebels and conspired in the murder of the queen\\'s private secretary, David Rizzio, just three months before James\\'s birth.\\nJames was born on 19 June 1566 at Edinburgh Castle, and as the eldest son and heir apparent of the monarch automatically became Duke of Rothesay and Prince and Great Steward of Scotland. Five days later, the English diplomat Henry Killigrew saw the queen, who had not fully re'),\n",
              " Document(metadata={'title': 'Elizabeth (film)', 'summary': \"Elizabeth is a 1998 British biographical historical drama film directed by Shekhar Kapur and written by Michael Hirst. It stars Cate Blanchett in the titular role of Elizabeth I of England, with Geoffrey Rush, Christopher Eccleston, Joseph Fiennes, John Gielgud, and Richard Attenborough in supporting roles. The film is based on the early years of Elizabeth's reign, where she is elevated to the throne after the death of her half-sister Mary I, who had imprisoned her. As she establishes herself on the throne, she faces plots and threats to take her down.\\nElizabeth premiered at the 55th Venice International Film Festival on 8 September 1998 and was theatrically released in the United Kingdom on 23 October. The film became a critical and commercial success. Reviewers praised Kapur's direction, costume design, production values and most notably Blanchett's titular performance, bringing her to international recognition, while the film grossed $82 million against its $30 million budget.\\nThe film received three nominations at the 56th Golden Globe Awards, including for the Best Motion Picture – Drama, with Blanchett winning Best Actress. It received twelve nominations at the 52nd British Academy Film Awards, winning five awards, including Outstanding British Film, and Best Actress (for Blanchett). At the 71st Academy Awards, it received seven nominations, including for Best Picture and Best Actress (for Blanchett), winning Best Makeup. In 2007, Blanchett and Rush reprised their roles in Kapur's follow-up film Elizabeth: The Golden Age, which covers the later part of Elizabeth's reign.\", 'source': 'https://en.wikipedia.org/wiki/Elizabeth_(film)'}, page_content=\"Elizabeth is a 1998 British biographical historical drama film directed by Shekhar Kapur and written by Michael Hirst. It stars Cate Blanchett in the titular role of Elizabeth I of England, with Geoffrey Rush, Christopher Eccleston, Joseph Fiennes, John Gielgud, and Richard Attenborough in supporting roles. The film is based on the early years of Elizabeth's reign, where she is elevated to the throne after the death of her half-sister Mary I, who had imprisoned her. As she establishes herself on the throne, she faces plots and threats to take her down.\\nElizabeth premiered at the 55th Venice International Film Festival on 8 September 1998 and was theatrically released in the United Kingdom on 23 October. The film became a critical and commercial success. Reviewers praised Kapur's direction, costume design, production values and most notably Blanchett's titular performance, bringing her to international recognition, while the film grossed $82 million against its $30 million budget.\\nThe film received three nominations at the 56th Golden Globe Awards, including for the Best Motion Picture – Drama, with Blanchett winning Best Actress. It received twelve nominations at the 52nd British Academy Film Awards, winning five awards, including Outstanding British Film, and Best Actress (for Blanchett). At the 71st Academy Awards, it received seven nominations, including for Best Picture and Best Actress (for Blanchett), winning Best Makeup. In 2007, Blanchett and Rush reprised their roles in Kapur's follow-up film Elizabeth: The Golden Age, which covers the later part of Elizabeth's reign.\\n\\n\\n== Plot ==\\nIn 1558, 42-year-old Catholic Queen Mary I of England, the daughter of Henry VIII and his first wife, Catherine of Aragon, dies, presumably from a cancerous tumor in her womb. Mary's heir presumptive and 25-year-old half sister, Lady Elizabeth, daughter of Henry and his second wife, Anne Boleyn, was under house arrest for suspected involvement in Thomas Wyatt the Younger's rebellion, is now freed from her imprisonment and crowned as Queen of England.\\nAs briefed by her adviser, Sir William Cecil, Elizabeth inherits a distressed England besieged by debts, crumbling infrastructure, hostile neighbors, and treasonous nobles within her administration, chief among them, Thomas Howard, 4th Duke of Norfolk. Cecil tells Elizabeth that she must marry, produce an heir, and secure her rule. Unimpressed with her suitors, Elizabeth delays her decision and continues her affair with Lord Robert Dudley, her childhood friend. Cecil appoints Francis Walsingham, a Protestant exile returned from France, to act as Elizabeth's bodyguard and adviser.\\nMary of Guise, acting as regent for her young daughter, Mary, Queen of Scots, brings an additional 4,000 French troops to neighboring Scotland. Unfamiliar with military strategy and browbeaten by Norfolk at the war council, Elizabeth orders a military response, which proves disastrous when the professional French soldiers defeat the inexperienced, ill-trained English forces. Walsingham tells Elizabeth that Catholic lords and priests intentionally deprived Elizabeth's army of proper soldiers and used their defeat to argue for Elizabeth's removal. Realising the depth of the conspiracy against her and her dwindling options, Elizabeth accepts Mary of Guise's conditions to consider marrying her nephew Henry, Duke of Anjou.\\nTo stabilise her rule and heal England's religious divisions, Elizabeth proposes the Act of Uniformity, which unites English Christians under the Church of England and severs their connection to the Vatican. In response to the Act's passage, the Vatican sends a priest to England to aid Norfolk and his cohorts in their growing plot to overthrow Elizabeth. Unaware of the plot, Elizabeth meets Henry of France but ignores his advances in favor of Lord Robert. William Cecil confronts Elizabeth over her indecisiveness about marrying and reveals that Lord Dudley is married. Elizabeth rejects Henry's marriage prop\"),\n",
              " Document(metadata={'title': 'Elizabeth Stuart, Queen of Bohemia', 'summary': 'Elizabeth Stuart (19 August 1596 – 13 February 1662) was Electress of the Palatinate and briefly Queen of Bohemia as the wife of Frederick V of the Palatinate. The couple\\'s selection for the crown by the nobles of Bohemia was part of the political and religious turmoil that set off the Thirty Years\\' War. Since her husband\\'s reign in Bohemia lasted over only one winter, she is called \"the Winter Queen\" (German: Die Winterkönigin, Czech: Zimní královna).\\nPrincess Elizabeth was the only surviving daughter of James VI and I, King of Scotland, England, and Ireland, and his queen, Anne of Denmark; she was the elder sister of Charles I. Born in Scotland, she was named in honour of her father\\'s predecessor and cousin in England, Elizabeth I. During Elizabeth Stuart\\'s childhood, unbeknownst to her, part of the failed Gunpowder Plot was a scheme to replace her father with her on the throne, and forcibly raise her as a Catholic.\\nHer father later arranged for her marriage to the Protestant Frederick V, a senior prince of the Holy Roman Empire. They were married in the Chapel Royal in the Palace of Whitehall, and then left for his lands in Germany. Their marriage proved successful, but after they left Bohemia, they spent years in exile in The Hague, while the Thirty Years\\' War continued. In her widowhood, she eventually returned to England at the end of her own life during the Stuart Restoration of her nephew and is buried in Westminster Abbey.\\nWith the demise in 1714 of Elizabeth\\'s great-niece, Anne, Queen of Great Britain, the last Stuart monarch, the British throne passed to her grandson (by her daughter Sophia of Hanover) as George I, initiating the rule of the House of Hanover.', 'source': 'https://en.wikipedia.org/wiki/Elizabeth_Stuart,_Queen_of_Bohemia'}, page_content='Elizabeth Stuart (19 August 1596 – 13 February 1662) was Electress of the Palatinate and briefly Queen of Bohemia as the wife of Frederick V of the Palatinate. The couple\\'s selection for the crown by the nobles of Bohemia was part of the political and religious turmoil that set off the Thirty Years\\' War. Since her husband\\'s reign in Bohemia lasted over only one winter, she is called \"the Winter Queen\" (German: Die Winterkönigin, Czech: Zimní královna).\\nPrincess Elizabeth was the only surviving daughter of James VI and I, King of Scotland, England, and Ireland, and his queen, Anne of Denmark; she was the elder sister of Charles I. Born in Scotland, she was named in honour of her father\\'s predecessor and cousin in England, Elizabeth I. During Elizabeth Stuart\\'s childhood, unbeknownst to her, part of the failed Gunpowder Plot was a scheme to replace her father with her on the throne, and forcibly raise her as a Catholic.\\nHer father later arranged for her marriage to the Protestant Frederick V, a senior prince of the Holy Roman Empire. They were married in the Chapel Royal in the Palace of Whitehall, and then left for his lands in Germany. Their marriage proved successful, but after they left Bohemia, they spent years in exile in The Hague, while the Thirty Years\\' War continued. In her widowhood, she eventually returned to England at the end of her own life during the Stuart Restoration of her nephew and is buried in Westminster Abbey.\\nWith the demise in 1714 of Elizabeth\\'s great-niece, Anne, Queen of Great Britain, the last Stuart monarch, the British throne passed to her grandson (by her daughter Sophia of Hanover) as George I, initiating the rule of the House of Hanover.\\n\\n\\n== Early life ==\\n\\nElizabeth was born at Dunfermline Palace, Fife, on 19 August 1596 at 2 o\\'clock in the morning. King James rode to the bedside from Callendar, where he was attending the wedding of the Earl of Orkney. At the time of her birth, her father was King of Scotland, but not yet King of England. Named in honour of Elizabeth I of England, her godmother, the young Elizabeth was christened on 28 November 1596 in the Chapel Royal at Holyroodhouse, and was then proclaimed by the heralds as \"Lady Elizabeth\". During her early life in Scotland, Elizabeth was brought up at Linlithgow Palace, where she was placed in the care of Lord Livingstone and his wife, Eleanor Hay. A couple of years later the king\\'s second daughter, Margaret, was placed in their care as well. Elizabeth \"did not pay particular attention to this younger sister\", as even at this young age her affections were with her brother, Henry.\\n\\n\\n=== Move to England ===\\nWhen Queen Elizabeth I of England died in 1603, Elizabeth Stuart\\'s father, James, succeeded as King of England and Ireland. The Countess of Kildare was appointed the princess\\'s governess. Along with her elder brother, Henry, Elizabeth made the journey southward to England with her mother \"in a triumphal progress of perpetual entertainment\". On her father\\'s birthday, 19 June, Elizabeth danced at Worksop Manor with Robert Cecil\\'s son.\\nElizabeth remained at court for a few weeks, but \"there is no evidence that she was present at her parents\\' coronation\" on 25 July 1603. It seems likely that by this time the royal children already had been removed to Oatlands, an old Tudor hunting lodge near Weybridge. There was plague in London, and Prince Henry and Princess Elizabeth were moved to Winchester. Her mother, Anne of Denmark, produced a masque to welcome them. On 19 October 1603 \"an order was issued under the privy seal announcing that the King had thought fit to commit the keeping and education of the Lady Elizabeth to the Lord Harrington [sic] and his wife\".\\nUnder the care of Lord and Lady Harington at Coombe Abbey, Elizabeth met Anne Dudley, with whom she was to strike up a lifelong friendship. On 3 April 1604, Princess Elizabeth and her ladies rode from Coombe Abbey to Coventry. The Mayor and Aldermen met her at \"Jabet\\'s Ash on Stoke-green'),\n",
              " Document(metadata={'title': 'Cultural depictions of Elizabeth I', 'summary': 'Elizabeth I of England has inspired artistic and cultural works for over four centuries. The following lists cover various media, enduring works of high art, and recent representations in popular culture, film and fiction. The entries represent portrayals that a reader has a reasonable chance of encountering rather than a complete catalogue.', 'source': 'https://en.wikipedia.org/wiki/Cultural_depictions_of_Elizabeth_I'}, page_content='Elizabeth I of England has inspired artistic and cultural works for over four centuries. The following lists cover various media, enduring works of high art, and recent representations in popular culture, film and fiction. The entries represent portrayals that a reader has a reasonable chance of encountering rather than a complete catalogue.\\n\\n\\n== Art, entertainment, and media ==\\n\\nThere have been numerous notable portrayals of Queen Elizabeth in a variety of art forms, and she is the most filmed British monarch. George MacDonald Fraser wrote \"no historic figure has been represented more honestly in the cinema, or better served by her players\".\\n\\n\\n=== Anime ===\\nIn the anime Code Geass: Lelouch of the Rebellion, which is set in an alternate time line, Elizabeth (who remained single throughout her life even in this alternate history), bears an illegitimate son. The potential fathers—Robert Dudley, 1st Earl of Leicester; Robert Devereux, 2nd Earl of Essex; and Carl, Duke of Britannia—gain influence and power with this knowledge. After Elizabeth\\'s death in 1603, the Golden Age of the Tudor dynasty begins when her son, who would become Henry IX, ascends to the throne.\\nThe Phantom Blood arc of JoJo\\'s Bizarre Adventure tells the story of the fictional knights Tarkus and Bruford, who served Mary, Queen of Scots. In the story, Elizabeth tricks them into accepting execution in return for Mary\\'s safety.\\n\\n\\n=== Art ===\\nThe Portraiture of Elizabeth I glorified her during her reign and masked her age in the later portraits. Elizabeth was often painted in rich and stylised gowns. Elizabeth is sometimes shown holding a sieve, a symbol of virginity.\\nThe installation artwork The Dinner Party features a place setting for Elizabeth.\\n\\n\\n=== Comics ===\\nThere have been numerous depictions of Elizabeth I in satirical drawings. In actual comic books and strips, her appearances include:\\n\\nStartling Comics #5 (February 1, 1941)\\nReal Life Comics #2 (December 1, 1941), #12 (July 1, 1943), #25 (September 1, 1945)\\nMarvel 1602 #1, #2, #3\\nAfterschool Charisma #1, #6, #7, #8\\nQueen Margot #1, #2, #3\\nAvengers West Coast #53, #61\\nHouse of Mystery #290 (March, 1981)\\nSuperman #89 (May 1, 1954)\\nRip Hunter ... Time Master #24 (February 1, 1965)\\nLook and Learn #34 (September 8, 1962)\\n\\n\\n=== Film ===\\nIn the cinema, Elizabeth has been portrayed by:\\n\\nSarah Bernhardt in the French silent short Les Amours de la reine Élisabeth (1912), dramatising Elizabeth\\'s love affair with the Earl of Essex.\\nGladys Ffolliott in the British silent comedy Old Bill Through the Ages (1924), featuring the character Old Bill created by Bruce Bairnsfather.\\nAthene Seyler in Drake of England (1935).\\nFlorence Eldridge in Mary of Scotland (1936), an adaptation of Maxwell Anderson\\'s play with Katharine Hepburn as Mary, Queen of Scots.\\nGwendolyn Jones in The Prince and the Pauper (1937).\\nYvette Pienne in the French film The Pearls of the Crown (1937).\\nFlora Robson in Fire Over England (1937) and The Sea Hawk (1940).\\nBette Davis in The Private Lives of Elizabeth and Essex (1939) and The Virgin Queen (1955).\\nMaria Koppenhöfer in the German film Das Herz der Königin (1940), about Mary, Queen of Scots.\\nOlga Lindo in the British time travel comedy Time Flies (1944).\\nJean Simmons in Young Bess (1953), about her early years.\\nAgnes Moorehead in The Story of Mankind (1957).\\nIrene Worth in Seven Seas to Calais (1962).\\nCatherine Lacey in The Fighting Prince of Donegal (1966).\\nGlenda Jackson in Mary, Queen of Scots (1971), with Vanessa Redgrave as Mary.\\nJenny Runacre in Derek Jarman\\'s film Jubilee (1977).\\nLalla Ward in Crossed Swords (1977), an adaptation of The Prince and the Pauper.\\nQuentin Crisp in Orlando (1992).\\nCate Blanchett in Elizabeth (1998), directed by Shekhar Kapur, and its sequel Elizabeth: The Golden Age (2007), for both of which she was nominated for the Academy Award for Best Actress.\\nJudi Dench in Shakespeare in Love (1998), for which she won the Academy Award for Best Supporting Actress.\\nVanessa Redg'),\n",
              " Document(metadata={'title': 'Inventory of Elizabeth I', 'summary': \"Costume and gold and silver plate belonging to Elizabeth I were recorded in several inventories, and other documents including rolls of New Year's Day gifts. Arthur Jefferies Collins published the Jewels and Plate of Queen Elizabeth I: The Inventory of 1574 from manuscripts in 1955. The published inventory describes jewels and silver-plate belonging to Elizabeth with detailed references to other source material. Two inventories of Elizabeth's costume and some of her jewellery were published by Janet Arnold in Queen Elizabeth's Wardrobe Unlocke'd (Maney, 1988).\", 'source': 'https://en.wikipedia.org/wiki/Inventory_of_Elizabeth_I'}, page_content='Costume and gold and silver plate belonging to Elizabeth I were recorded in several inventories, and other documents including rolls of New Year\\'s Day gifts. Arthur Jefferies Collins published the Jewels and Plate of Queen Elizabeth I: The Inventory of 1574 from manuscripts in 1955. The published inventory describes jewels and silver-plate belonging to Elizabeth with detailed references to other source material. Two inventories of Elizabeth\\'s costume and some of her jewellery were published by Janet Arnold in Queen Elizabeth\\'s Wardrobe Unlocke\\'d (Maney, 1988).\\n\\n\\n== Introduction ==\\nIn 1574 the office of the Jewel House was located in a two-storey building on the south side of the White Tower. This contained the records of the jewels and packing materials for sending jewels to court. The 1574 inventory was made by John Astley, Master and Treasurer of the Jewel House. The Master had an annual salary of £50 and was able to exact payments from goldsmiths appointed to work for the Jewel House, and those who transported plate from the House to diplomats. The post was lucrative, but some of the perquisites of the role were exaggerated or overstated by Sir Gilbert Talbot, who was made Master in 1660 and in 1680 wrote a treatise entitled Of the Jewel house. In the inventory the items were listed in categories; below an outline of the main categories is given with some examples of the 1,605 entries.\\nThe sources used by Collins were British Library Harley MS 1560 and Stowe MS 555 (see external links for digitised manuscripts). The manuscripts represent the \"Quenis Majesties juelles plate and other stuff\" in 1574 and additions by gift or purchase over the next 20 years which were kept in the Jewel House at the Tower of London. Collins also collated information from other books and manuscripts to cross-reference information about the objects listed. Gifts of plate to the queen passed from the Privy Chamber to the Jewel House. Some pieces were melted down and others were given as diplomatic gifts. When the queen travelled, the towns she visited often gave her gifts of silver-gilt cups.\\nJanet Arnold published an annotated wardrobe inventory now in the British Library, (Stowe MS 557), consulting also a duplicate copy at the National Archives, and another inventory held by the Folger Shakespeare Library, MS V. b.72. The inventory includes some of the queen\\'s jewels.\\n\\n\\n== Outline of the 1574 inventory of plate ==\\n\\n\\n=== Gold plate ===\\nJuelles of Golde\\nno. 1 The imperial crown of England.\\nno. 2 The sceptre of gold with a dove.\\nno. 3 The globe or round ball (orb) with a cross.\\nno. 4 The queen\\'s crown (intended for a queen consort).\\nno. 5 The queen\\'s sceptre with a dove intended for a queen consort). One sceptre was repaired by Cornelis Hayes for the coronation of Anne Boleyn, and later issued to Dorothy Bulstrode for a masque of Anne of Denmark, and a gold wing was lost.\\nno. 6 A pair of bracelets with six rubies and seven large pearls and five smaller pearls, with red laces.\\nCups and bowls\\n\\nno. 48 The St Agnes cup. A cup of gold with imagery the knop a crown imperial and about border of the cover and the foot a crown garnished with 61 pearls.\\nno. 49 A jewelled gold cup given to James VI of Scotland at the christening of Prince Henry at Stirling Castle on 30 August 1594.\\nno. 75 A cup of \"assaye\" of gold fair wrought and enamelled. Given to Christian IV of Denmark on 5 August 1606.\\nCandlesticks\\nno. 77: Four gold candlesticks for a table with \"H\" and \"R\" enamelled in red. Three were gifts to Henry VIII from Catherine of Aragon.\\nGoblets and jugs\\nSalt cellars\\nno. 83 A salt called the \"Morris Dance\" decorated with precious stones and pearls with 5 morris dancers, a drummer, and a lady. The salt was taken to The Hague in October 1625 by the Duke of Buckingham and pawned.\\nOrange-strainers\\nTrenchers\\nSpoons and forks\\nBasins, ewers and lairs\\nno. 125 A gold basin with the arms of Jane Seymour with gold roses enamelled red and white, and the border of the cover'),\n",
              " Document(metadata={'title': 'Mary, Queen of Scots', 'summary': \"Mary, Queen of Scots (8 December 1542 – 8 February 1587), also known as Mary Stuart or Mary I of Scotland, was Queen of Scotland from 14 December 1542 until her forced abdication in 1567.\\nThe only surviving legitimate child of James V of Scotland, Mary was six days old when her father died and she inherited the throne. During her childhood, Scotland was governed by regents, first by the heir to the throne, James Hamilton, Earl of Arran, and then by her mother, Mary of Guise. In 1548, she was betrothed to Francis, the Dauphin of France, and was sent to be brought up in France, where she would be safe from invading English forces during the Rough Wooing. Mary married Francis in 1558, becoming queen consort of France from his accession in 1559 until his death in December 1560. Widowed, Mary returned to Scotland in August 1561. The tense religious and political climate following the Scottish Reformation that Mary encountered on her return to Scotland was further agitated by prominent Scots such as John Knox, who openly questioned whether her subjects had a duty to obey her. The early years of her personal rule were marked by pragmatism, tolerance, and moderation. She issued a proclamation accepting the religious settlement in Scotland as she had found it upon her return, retained advisers such as James Stewart, Earl of Moray (her illegitimate half-brother), and William Maitland of Lethington, and governed as the Catholic monarch of a Protestant kingdom.\\nMary married her half-cousin Henry Stuart, Lord Darnley, in 1565; in 1566 they had a son, James. However, their marriage soured after Darnley orchestrated the murder of Mary's Italian secretary and close friend David Rizzio. In February 1567, Darnley's residence was destroyed by an explosion, and he was found murdered in the nearby garden. James Hepburn, 4th Earl of Bothwell, was generally believed to have orchestrated Darnley's death, but he was acquitted of the charge in April 1567 and in the following month he married Mary. Following an uprising against the couple, Mary was imprisoned in Lochleven Castle. On 24 July 1567, she was forced to abdicate in favour of her one-year-old son James VI. After an unsuccessful attempt to regain the throne, she fled southward seeking the protection of her first cousin once removed, Elizabeth I of England.\\nAs a great-granddaughter of Henry VII of England, Mary had once claimed Elizabeth's throne as her own and was considered the legitimate sovereign of England by many English Catholics, including participants in a rebellion known as the Rising of the North. Perceiving Mary as a threat, Elizabeth had her confined in various castles and manor houses in the interior of England. After eighteen-and-a-half years in captivity, Mary was found guilty of plotting to assassinate Elizabeth in 1586 and was beheaded the following year at Fotheringhay Castle. Mary's life and execution established her in popular culture as a romanticised historical character.\", 'source': 'https://en.wikipedia.org/wiki/Mary,_Queen_of_Scots'}, page_content='Mary, Queen of Scots (8 December 1542 – 8 February 1587), also known as Mary Stuart or Mary I of Scotland, was Queen of Scotland from 14 December 1542 until her forced abdication in 1567.\\nThe only surviving legitimate child of James V of Scotland, Mary was six days old when her father died and she inherited the throne. During her childhood, Scotland was governed by regents, first by the heir to the throne, James Hamilton, Earl of Arran, and then by her mother, Mary of Guise. In 1548, she was betrothed to Francis, the Dauphin of France, and was sent to be brought up in France, where she would be safe from invading English forces during the Rough Wooing. Mary married Francis in 1558, becoming queen consort of France from his accession in 1559 until his death in December 1560. Widowed, Mary returned to Scotland in August 1561. The tense religious and political climate following the Scottish Reformation that Mary encountered on her return to Scotland was further agitated by prominent Scots such as John Knox, who openly questioned whether her subjects had a duty to obey her. The early years of her personal rule were marked by pragmatism, tolerance, and moderation. She issued a proclamation accepting the religious settlement in Scotland as she had found it upon her return, retained advisers such as James Stewart, Earl of Moray (her illegitimate half-brother), and William Maitland of Lethington, and governed as the Catholic monarch of a Protestant kingdom.\\nMary married her half-cousin Henry Stuart, Lord Darnley, in 1565; in 1566 they had a son, James. However, their marriage soured after Darnley orchestrated the murder of Mary\\'s Italian secretary and close friend David Rizzio. In February 1567, Darnley\\'s residence was destroyed by an explosion, and he was found murdered in the nearby garden. James Hepburn, 4th Earl of Bothwell, was generally believed to have orchestrated Darnley\\'s death, but he was acquitted of the charge in April 1567 and in the following month he married Mary. Following an uprising against the couple, Mary was imprisoned in Lochleven Castle. On 24 July 1567, she was forced to abdicate in favour of her one-year-old son James VI. After an unsuccessful attempt to regain the throne, she fled southward seeking the protection of her first cousin once removed, Elizabeth I of England.\\nAs a great-granddaughter of Henry VII of England, Mary had once claimed Elizabeth\\'s throne as her own and was considered the legitimate sovereign of England by many English Catholics, including participants in a rebellion known as the Rising of the North. Perceiving Mary as a threat, Elizabeth had her confined in various castles and manor houses in the interior of England. After eighteen-and-a-half years in captivity, Mary was found guilty of plotting to assassinate Elizabeth in 1586 and was beheaded the following year at Fotheringhay Castle. Mary\\'s life and execution established her in popular culture as a romanticised historical character.\\n\\n\\n== Childhood and early reign ==\\n\\nMary was born on 8 December 1542 at Linlithgow Palace, Scotland, to King James V and his French second wife, Mary of Guise. She was said to have been born prematurely and was the only legitimate child of James to survive him. She was the great-granddaughter of King Henry VII of England through her paternal grandmother, Margaret Tudor. Margaret was Henry VIII\\'s older sister so Mary was Henry VIII\\'s great-niece. On 14 December, six days after her birth, she became Queen of Scotland when her father died, perhaps from the effects of a nervous collapse following the Battle of Solway Moss or from drinking contaminated water while on campaign.\\nA popular tale, first recorded by John Knox, states that James, upon hearing on his deathbed that his wife had given birth to a daughter, ruefully exclaimed, \"It cam wi\\' a lass and it will \\tgang wi\\' a lass!\" His House of Stuart had gained the throne of Scotland in the 14th century through \"a lass\"—via the marriage of Marjorie Bruce, daugh'),\n",
              " Document(metadata={'title': 'Francis Walsingham', 'summary': 'Sir Francis Walsingham (c.\\u20091532 – 6 April 1590) was principal secretary to Queen Elizabeth I of England from 20 December 1573 until his death and is popularly remembered as her \"spymaster\".\\nBorn to a well-connected family of gentry, Walsingham attended Cambridge University and travelled in continental Europe before embarking on a career in law at the age of twenty. A committed Protestant, during the reign of the Catholic Queen Mary I of England he joined other expatriates in exile in Switzerland and northern Italy until Mary\\'s death and the accession of her Protestant half-sister, Elizabeth.\\nWalsingham rose from relative obscurity to become one of the small coterie who directed the Elizabethan state, overseeing foreign, domestic and religious policy. He served as English ambassador to France in the early 1570s and witnessed the St. Bartholomew\\'s Day massacre. As principal secretary, he supported exploration, colonization, the development of the navy, and the plantation of Ireland. He worked to bring Scotland and England together. Overall, his foreign policy demonstrated a new understanding of the role of England as a maritime Protestant power with intercontinental trading ties. He oversaw operations that penetrated Spanish military preparation, gathered intelligence from across Europe, disrupted a range of plots against Elizabeth and secured the execution of Mary, Queen of Scots.', 'source': 'https://en.wikipedia.org/wiki/Francis_Walsingham'}, page_content='Sir Francis Walsingham (c.\\u20091532 – 6 April 1590) was principal secretary to Queen Elizabeth I of England from 20 December 1573 until his death and is popularly remembered as her \"spymaster\".\\nBorn to a well-connected family of gentry, Walsingham attended Cambridge University and travelled in continental Europe before embarking on a career in law at the age of twenty. A committed Protestant, during the reign of the Catholic Queen Mary I of England he joined other expatriates in exile in Switzerland and northern Italy until Mary\\'s death and the accession of her Protestant half-sister, Elizabeth.\\nWalsingham rose from relative obscurity to become one of the small coterie who directed the Elizabethan state, overseeing foreign, domestic and religious policy. He served as English ambassador to France in the early 1570s and witnessed the St. Bartholomew\\'s Day massacre. As principal secretary, he supported exploration, colonization, the development of the navy, and the plantation of Ireland. He worked to bring Scotland and England together. Overall, his foreign policy demonstrated a new understanding of the role of England as a maritime Protestant power with intercontinental trading ties. He oversaw operations that penetrated Spanish military preparation, gathered intelligence from across Europe, disrupted a range of plots against Elizabeth and secured the execution of Mary, Queen of Scots.\\n\\n\\n== Origins and early life ==\\n\\nFrancis Walsingham was born around 1532, probably at Foots Cray, near Chislehurst in Kent, the only son of William Walsingham (died 1534), a successful and well-connected London lawyer who served as a member of the commission appointed to investigate the estates of Cardinal Thomas Wolsey in 1530. William\\'s elder brother was Sir Edmund Walsingham, Lieutenant of the Tower of London.\\nFrancis\\'s mother was Joyce Denny, a daughter of the courtier Sir Edmund Denny of Cheshunt in Hertfordshire, and a sister of the courtier Sir Anthony Denny, the principal Gentleman of the Privy Chamber to King Henry VIII. After the death of her first husband she married the courtier Sir John Carey in 1538. Carey\\'s brother William was the husband of Mary Boleyn, the elder sister of Anne Boleyn, the second wife of King Henry VIII.\\nOf Francis\\'s five siblings, Mary married Sir Walter Mildmay, who was Chancellor of the Exchequer for over 20 years, and Elizabeth married the parliamentarian Peter Wentworth.\\nFrancis Walsingham matriculated at King\\'s College, Cambridge, in 1548 with many other Protestants but as an undergraduate of high social status did not sit for a degree. From 1550 or 1551, he travelled in continental Europe, returning to England by 1552 to enrol at Gray\\'s Inn, one of the qualifying bodies for English lawyers.\\nUpon the death in 1553 of Henry VIII\\'s successor, Edward VI, Edward\\'s Catholic half-sister Mary became queen. Many wealthy Protestants, such as John Foxe and John Cheke, fled England, and Walsingham was among them. He continued his studies in law at the universities of Basel and Padua, where he was elected to the governing body by his fellow students in 1555.\\n\\n\\n== Rise to power ==\\nMary I died in November 1558 and was succeeded by her Protestant half-sister Elizabeth. Walsingham returned to England and through the support of one of his fellow former exiles, Francis Russell, 2nd Earl of Bedford, he was elected to Elizabeth\\'s first parliament as the member for Bossiney, Cornwall, in 1559. At the subsequent election in 1563, he was returned for both Lyme Regis, Dorset, another constituency under Bedford\\'s influence, and Banbury, Oxfordshire. He chose to sit for Lyme Regis. In January 1562 he married Anne, daughter of Sir George Barne, Lord Mayor of London in 1552–3, and widow of wine merchant Alexander Carleill. Anne died two years later leaving her son Christopher Carleill in Walsingham\\'s care. In 1566, Walsingham married Ursula St. Barbe, widow of Sir Richard Worsley, and Walsingham acquired her estates of Appuldurcombe and Cari'),\n",
              " Document(metadata={'title': 'Elizabeth Raleigh', 'summary': 'Elizabeth, Lady Raleigh (née Throckmorton; 16 April 1565 – c. 1647), was an English courtier, a Gentlewoman of the Privy Chamber to Queen Elizabeth I of England. Her secret marriage to Sir Walter Raleigh precipitated a long period of royal disfavour for both her and her husband.', 'source': 'https://en.wikipedia.org/wiki/Elizabeth_Raleigh'}, page_content='Elizabeth, Lady Raleigh (née Throckmorton; 16 April 1565 – c. 1647), was an English courtier, a Gentlewoman of the Privy Chamber to Queen Elizabeth I of England. Her secret marriage to Sir Walter Raleigh precipitated a long period of royal disfavour for both her and her husband.\\n\\n\\n== Life ==\\nElizabeth, known also as \"Bess\", was the daughter of the diplomat Sir Nicholas Throckmorton and Anne Carew. Her father, Nicholas, was the nephew of Sir Thomas Parr making him a cousin to the late Queen, Catherine Parr, the sixth wife of King Henry VIII, to whom he served in her household. Her mother, Anne, was the daughter of Elizabeth Bryan who is reputed to have been a mistress of King Henry. That made Anne a niece of Sir Francis Bryan who had been a close confidant to King Henry. Both Elizabeth and Francis had been a first half-cousin of both Queen consorts Anne Boleyn and Catherine Howard and a second half-cousin of Jane Seymour, so Bess was well connected at court.\\nBess and her brother Arthur were cousins and courtiers to Elizabeth I. \\nIn her book, The Life of Elizabeth I (1998), British author and historian Alison Weir states Throckmorton and Raleigh\\'s first child was conceived by July 1591, the couple were married \"in great secrecy\" in the autumn of 1591, and their son was born in March 1592. The boy was christened Damerei, after Sir Walter\\'s claimed ancestors, the D\\'Ameries. Damerei is believed to have died during infancy.\\nWeir states that Queen Elizabeth first became aware in May 1592 of the secret marriage and of Damerei\\'s birth, despite Bess and Sir Walter\\'s denials. The couple had married without royal permission, but, significantly, Robert Devereux, 2nd Earl of Essex, was in on the secret and acting as godfather to the Raleighs\\' son. Once the queen found out, she first placed Bess and Raleigh under house arrest, then sent them to the Tower of London, in June 1592. Raleigh was released from the Tower in August 1592 and Bess in December 1592, at which time she joined her husband at Sherborne Castle, his Dorset estate. The couple remained devoted to each other, although, according to Weir, Bess proved to be a domineering wife. Anna Beer, Lady Raleigh\\'s biographer, offers a different perspective, pointing out that due to Raleigh\\'s frequent absences, whether on expeditions, diplomatic duties, or in prison, Bess had to shoulder an unusual level of responsibility for a woman of her time. The Raleighs\\' second son, Walter, was born in 1593 at Sherborne.\\nAfter the Union of Crowns in 1603, many courtiers travelled to Northamptonshire to greet the new queen, Anne of Denmark, and her children, and to seek royal favour. Lord Buckhurst wrote on 21 June 1603 that he and the Lord Keeper Thomas Egerton were travelling \"to do our duties to the Queen, the Prince, and Princess, all the world flying beforehand to see her\". Bess made the same trip, but was disappointed. Sir Robert Crosse wrote that she had persuaded him to make an \"idle journey\" to meet the queen and she had received \"but idle graces\". \\nThe couple\\'s third son was born in January 1605, by which time Raleigh was again a prisoner in the Tower of London. Named Carew, which was both Bess\\'s mother\\'s maiden name and the name of one of Raleigh\\'s brothers, he was christened within the walls of the Tower in the church of St Peter ad Vincula. After Raleigh\\'s execution in 1618, Bess worked tirelessly to re-establish her late husband\\'s reputation and, in 1628, saw a Bill of Restitution restore the Raleigh name \\'in blood\\', which allowed her one surviving son to inherit.\\nBess is said to have had her husband\\'s head embalmed and to have carried it around with her for the rest of her life, although the only documented reference to Raleigh\\'s head is from the day of his execution, when it was noted that Lady Raleigh and her ladies left the scene carrying Sir Walter\\'s head in a red bag. An account from 1740 claims that, after Bess\\'s death, Raleigh\\'s head was returned to his tomb in St Margaret\\'s, Westmi'),\n",
              " Document(metadata={'title': 'Francis, Duke of Anjou', 'summary': \"Monsieur François, Duke of Anjou and Alençon (French: Hercule François; 18 March 1555 – 10 June 1584) was the youngest son of King Henry II of France and Catherine de' Medici.\", 'source': 'https://en.wikipedia.org/wiki/Francis,_Duke_of_Anjou'}, page_content='Monsieur François, Duke of Anjou and Alençon (French: Hercule François; 18 March 1555 – 10 June 1584) was the youngest son of King Henry II of France and Catherine de\\' Medici.\\n\\n\\n== Early years ==\\nHe was scarred by smallpox at age eight, and his pitted face and slightly deformed spine did not suit his birth name of Hercule. He changed his name to Francis in honour of his late brother Francis II of France when he was confirmed.\\nThe royal children were raised under the supervision of the governor and governess of the royal children, Claude d\\'Urfé and Françoise d\\'Humières, under the orders of Diane de Poitiers.\\nIn 1574, following the death of his brother Charles IX of France and the accession of his other brother Henry III of France, he became heir to the throne. In 1576 he was made Duke of Anjou, Touraine, and Berry.\\n\\n\\n== Alençon and the Huguenots ==\\nDuring the night of 13 September 1575, Alençon fled from the French court after being alienated from his brother King Henry III as they had had some differences. Both Henry III and Catherine de\\' Medici feared he would join the Protestant rebels. These fears proved well-founded; Francis joined the prince of Condé and his forces in the south. In February 1576, Henry, King of Navarre escaped from the French court, whereupon his forces also joined Condé. This combined army was enough to force Henry III, without a pitched battle of any sort, to capitulate and sign the very pro-Protestant \"peace of Monsieur\", or Edict of Beaulieu, on 6 May 1576. By \"secret treaties\" which formed part of this peace settlement, many on the Protestant side were rewarded with land and titles. Francis was awarded the Duchy of Anjou (along with other lands) and thus became the Duke of Anjou. He had the writer Jean de La Gessée as a secretary.\\n\\n\\n== Courting Elizabeth I ==\\n\\nIn 1579, negotiations commenced for marrying Anjou to Elizabeth I of England. The Duke of Anjou was in fact the only one of Elizabeth\\'s foreign suitors to court her in person. He made two visits to England, in 1579 and 1581. He was 24 and Elizabeth was 46. Despite the age gap, the two soon became very close, Elizabeth dubbing him her \"frog.\" While a few believe this nickname arose from a frog-shaped earring he had given her, \"frog\" has been an unflattering slang nickname for the French for centuries. Whether or not Elizabeth truly planned to marry Anjou is a hotly debated topic. She was quite fond of him, knowing that he was probably going to be her last suitor. The match was controversial among the English public: English Protestants warned the Queen that the \"hearts [of the English people] will be galled when they shall see you take to husband a Frenchman, and a Papist ... the very common people well know this: that he is the son of the Jezebel of our age,\" referring to the Duke\\'s mother, Catherine de\\' Medici. Among members of Elizabeth\\'s Privy Council, only William Cecil, Lord Burghley, and Thomas Radclyffe, 3rd Earl of Sussex, supported the marriage scheme wholeheartedly. Most notable councillors, foremost among them Robert Dudley, 1st Earl of Leicester, and Sir Francis Walsingham, strongly opposed it, even warning the Queen of the hazards of childbirth at her age.\\nBetween 1578 and 1581, the Queen resurrected attempts to negotiate a marriage with the Duke of Alençon. The Duke put himself forward as a protector of the Huguenots and a potential leader of the Dutch. In these years, Walsingham became friends with the diplomat of Henry of Navarre in England, the anti-monarchist Philippe de Mornay. Walsingham was sent to France in mid-1581 to discuss an Anglo-French alliance, but the French wanted the marriage agreed first, and Walsingham had instructions to obtain a treaty before committing to the marriage. He returned to England without an agreement. Personally, Walsingham opposed the marriage, perhaps to the point of encouraging public opposition. Alençon was a Catholic, and as his elder brother, Henry III, was childless, he was heir presumpti'),\n",
              " Document(metadata={'title': 'Elizabeth Boleyn, Countess of Wiltshire', 'summary': 'Elizabeth Boleyn, Countess of Wiltshire (born Elizabeth Howard; c.\\u20091480 – 3 April 1538) was an English noblewoman, noted for being the mother of Anne Boleyn and as such the maternal grandmother of Elizabeth I of England. The eldest daughter of Thomas Howard, 2nd Duke of Norfolk and his first wife Elizabeth Tilney, she married Thomas Boleyn sometime in the later 15th century. Elizabeth became Viscountess Rochford in 1525 when her husband was elevated to the peerage, subsequently becoming Countess of Ormond in 1527 and Countess of Wiltshire in 1529.', 'source': 'https://en.wikipedia.org/wiki/Elizabeth_Boleyn,_Countess_of_Wiltshire'}, page_content='Elizabeth Boleyn, Countess of Wiltshire (born Elizabeth Howard; c.\\u20091480 – 3 April 1538) was an English noblewoman, noted for being the mother of Anne Boleyn and as such the maternal grandmother of Elizabeth I of England. The eldest daughter of Thomas Howard, 2nd Duke of Norfolk and his first wife Elizabeth Tilney, she married Thomas Boleyn sometime in the later 15th century. Elizabeth became Viscountess Rochford in 1525 when her husband was elevated to the peerage, subsequently becoming Countess of Ormond in 1527 and Countess of Wiltshire in 1529.\\n\\n\\n== Family and early life ==\\nElizabeth was born c. 1480 into the wealthy and influential Howard family, as the elder of the two daughters of Sir Thomas Howard, later 2nd Duke of Norfolk, and his first wife Elizabeth Tilney. Her paternal grandfather, Sir John Howard, was created Duke of Norfolk in 1483 by King Richard III.\\nHer family managed to survive the fall of their patron, King Richard III, who was killed at Bosworth in 1485 and supplanted by the victor, King Henry VII, when she was about five years old. Elizabeth became a part of the royal court as a young girl.\\n\\n\\n== Marriage and lady-in-waiting for the royal court ==\\nIt was while she was at court, that she wed Thomas Boleyn, an ambitious young courtier, sometime before 1500, probably in 1498. According to Thomas, his wife was pregnant many times in the next few years but only three children lived to adulthood. The three children were: \\n\\nMary Boleyn, mistress of Henry VIII of England (c.1499 – 19 July 1543).\\nGeorge Boleyn, Viscount Rochford (c.1504 – 17 May 1536).\\nAnne Boleyn, Queen consort of Henry VIII of England (c. 1507 – 19 May 1536)\\nThe other two boys were Thomas born 1496 and Henry \\'Hal\\' born 1500.  Both died of the sweating sickness plague during the outbreak in 1506. \\nThroughout this time, Elizabeth was a lady-in-waiting at the royal court; first to Elizabeth of York, and then to Catherine of Aragon. Based on later gossip, Elizabeth Boleyn must have been a highly attractive woman. Rumours circulated when Henry was involved with Anne Boleyn that Elizabeth had once been his mistress, with the suggestion even being made that Anne Boleyn might be the daughter of Henry VIII. However, despite recent attempts by one or two historians to rehabilitate this myth, it was denied by Henry and never mentioned in the dispensation he sought in order to make his union with Anne lawful. Most historians believe it is likely that this rumour began by confusing Elizabeth with Henry\\'s more famous mistress Elizabeth Blount, or from the growing unpopularity of the Boleyn family after 1527.\\n\\n\\n== 1519–1536 ==\\n\\nIn 1519, Elizabeth\\'s daughters, Anne and Mary, were living in the French royal court as Ladies-in-waiting to the French Queen consort Claude. According to the papal nuncio in France fifteen years later, the French King Francis I had referred to Mary as \"my English mare\", and later in his life described her as \"a great whore, the most infamous of all\".\\nIn the words of historian M.L. Bruce, both Thomas and Elizabeth \"developed feelings of dislike\" for their daughter Mary. In later years, Mary\\'s romantic involvements would only further strain this relationship. Around 1520, the Boleyns managed to arrange Mary\\'s marriage to William Carey, a respected and popular man at court. It was sometime after the wedding that Mary became mistress to Henry VIII (the exact dates as to when the affair started and ended are unknown), although she never held the title of \"official royal mistress,\" as the post did not exist in England. It has long been rumoured that one or both of Mary Boleyn\\'s children were fathered by Henry and not Carey. Some historians, such as Alison Weir, now question whether Henry Carey was fathered by the King. Few of Henry\\'s mistresses were ever publicly honoured, except Elizabeth Blount, who was mentioned in Parliament and whose son, Henry Fitzroy, was created Duke of Richmond and Somerset in an elaborate public ceremony in 1525. Hen'),\n",
              " Document(metadata={'title': 'Becoming Elizabeth', 'summary': 'Becoming Elizabeth is a historical drama television series, created by Anya Reiss, that follows the younger years of Queen Elizabeth I, who lived in the 16th century. It premiered on Starz on 12 June 2022 and Channel 4 on 15 June. In October 2022, the series was cancelled.\\n\\n', 'source': 'https://en.wikipedia.org/wiki/Becoming_Elizabeth'}, page_content='Becoming Elizabeth is a historical drama television series, created by Anya Reiss, that follows the younger years of Queen Elizabeth I, who lived in the 16th century. It premiered on Starz on 12 June 2022 and Channel 4 on 15 June. In October 2022, the series was cancelled.\\n\\n\\n== Plot ==\\nThe series follows the younger years of the only surviving child of Anne Boleyn and Henry VIII, Queen Elizabeth I, who starts out in the story as an orphaned teenager who becomes embroiled in the politics of the English court on her journey towards the crown. Before cancellation, the series covered almost the full reign of her younger half brother, Edward VI.\\n\\n\\n== Cast and characters ==\\nAlicia von Rittberg as Elizabeth Tudor\\nRomola Garai as Mary Tudor\\nJessica Raine as Catherine Parr\\nTom Cullen as Thomas Seymour\\nBella Ramsey as Jane Grey\\nJamie Parker as John Dudley, 1st Duke of Northumberland\\nOliver Zetterström as King Edward VI\\nJohn Heffernan as Edward Seymour, 1st Duke of Somerset\\nJamie Blackley as Lord Robert Dudley\\nJacob Avery as Lord Guildford Dudley\\nAlexandra Gilbreath as Kat Ashley\\nLeo Bill as Henry Grey\\nEkow Quartey as Pedro\\nAlex Macqueen as Stephen Gardiner\\nOlivier Huband as Ambassador Guzman\\nRobert Whitelock as Robert Kett\\nRuby Ashbourne Serkis as Amy Robsart\\n\\n\\n== Episodes ==\\n\\n\\n== Production ==\\n\\n\\n=== Development ===\\nIn December 2019, it was announced Starz had greenlit an 8-episode series focusing on the younger years of Queen Elizabeth I created by Anya Reiss, who would also serve as an executive producer. In October 2022, it was announced that Starz had cancelled the show and there would be no season 2 covering the reign of Mary I.\\n\\n\\n=== Casting ===\\nIn October 2020, Alicia von Rittberg joined the cast of the series. In May 2021, Romola Garai, Jessica Raine, Tom Cullen, Bella Ramsey, Oliver Zetterström, John Heffernan, Jamie Blackley, Jacob Avery, Alexandra Gilbreath, Leo Bill, Ekow Quartey, Alex Macqueen and Oliver Huband joined the cast of the series.\\n\\n\\n=== Filming ===\\nPrincipal photography began in December 2020. In March 2021, production took place at Cardiff Castle.\\n\\n\\n== Reception ==\\nOn the review aggregator website Rotten Tomatoes, 88% of 16 critics\\' reviews are positive, with an average rating of 6.9/10. The website\\'s consensus reads, \"Angsty as a disgruntled teenager and all the better for it, Becoming Elizabeth finds fresh drama in the Tudors by shifting focus onto the royal court\\'s web of spiders.\". Particular praise was given to Romola Garai in her role as Mary Tudor, with many commentating that she stole the show. Metacritic, which uses a weighted average, assigned a score of 73 out of 100 based on 11 critics, indicating \"generally favorable reviews\".\\nThe series was repeated in the UK on Channel 4 from 15 July 2023.\\n\\n\\n== References ==\\n\\n\\n== External links ==\\nBecoming Elizabeth at IMDb'),\n",
              " Document(metadata={'title': 'Elizabeth: The Golden Age', 'summary': \"Elizabeth: The Golden Age is a 2007 biographical historical drama film directed by Shekhar Kapur and produced by Universal Pictures and Working Title Films. It stars Cate Blanchett in the title role and is a loose but fact-based portrayal of events during the latter part of the reign of Elizabeth I, forming a sequel to Kapur's 1998 film Elizabeth. The film co-stars Geoffrey Rush (reprising his role from the previous film), Clive Owen, Jordi Mollà, Abbie Cornish, and Samantha Morton. The screenplay was written by William Nicholson and Michael Hirst, and the music score was composed by Craig Armstrong and A. R. Rahman. Guy Hendrix Dyas was the film's production designer and co-visual effects supervisor, and the costumes were created by Alexandra Byrne. The film was shot at Shepperton Studios and various locations around the United Kingdom.\\nThe film premiered on 9 September 2007 at the Toronto International Film Festival. It opened in wide release in the United States on 12 October 2007, premiered in London on 23 October 2007, and opened wide on 2 November 2007 throughout the rest of the UK and Republic of Ireland. At the 80th Academy Awards, the film won Best Costume Design and Blanchett received a nomination for Best Actress.\", 'source': 'https://en.wikipedia.org/wiki/Elizabeth:_The_Golden_Age'}, page_content='Elizabeth: The Golden Age is a 2007 biographical historical drama film directed by Shekhar Kapur and produced by Universal Pictures and Working Title Films. It stars Cate Blanchett in the title role and is a loose but fact-based portrayal of events during the latter part of the reign of Elizabeth I, forming a sequel to Kapur\\'s 1998 film Elizabeth. The film co-stars Geoffrey Rush (reprising his role from the previous film), Clive Owen, Jordi Mollà, Abbie Cornish, and Samantha Morton. The screenplay was written by William Nicholson and Michael Hirst, and the music score was composed by Craig Armstrong and A. R. Rahman. Guy Hendrix Dyas was the film\\'s production designer and co-visual effects supervisor, and the costumes were created by Alexandra Byrne. The film was shot at Shepperton Studios and various locations around the United Kingdom.\\nThe film premiered on 9 September 2007 at the Toronto International Film Festival. It opened in wide release in the United States on 12 October 2007, premiered in London on 23 October 2007, and opened wide on 2 November 2007 throughout the rest of the UK and Republic of Ireland. At the 80th Academy Awards, the film won Best Costume Design and Blanchett received a nomination for Best Actress.\\n\\n\\n== Plot ==\\nIn 1585, Catholic Spain, ruled by King Philip II, is the most powerful country in Europe. Seeing that the Catholic plots against Queen Elizabeth\\'s life that occurred from the 1570s onwards had all failed, Pope Sixtus V approached King Philip, who had amassed the most significant naval force in all of Europe and convinced the king to use this naval force to invade and re-Catholicize England. By doing so, Philip, with the pope\\'s blessing, would overthrow Elizabeth and take control of England. Philip agrees and plots to take over England and make his daughter, Isabella, the Queen of England in Elizabeth\\'s place. Meanwhile,  Elizabeth is being pressured by her advisor, Francis Walsingham, to marry; if Elizabeth dies childless, the throne will pass to her first cousin, Mary, Queen of Scots, who is Catholic.\\nEnglish explorer Walter Raleigh is presented at court, having returned from the New World. Queen Elizabeth is attracted to Raleigh, enthralled by his tales of exploration, and asks Elizabeth \"Bess\" Throckmorton, her most favoured lady-in-waiting, to observe him. Bess also finds Raleigh attractive and they begin a secret affair. With tensions strained between England and Spain, Elizabeth seeks guidance from her astrologer, Dr. John Dee.\\nJesuits in London conspire with Philip to assassinate Elizabeth and replace her with Mary of Scots, in what King Philip calls \"The English Enterprise,\" historically known as the Babington Plot. From her imprisonment, Mary sends secret correspondence to the Jesuits, who recruit Anthony Babington to assassinate Elizabeth. Walsingham continues to warn Queen Elizabeth of Spain\\'s rising power and of the Catholic plots against her, but unlike her predecessor and half-sister, Queen Mary, Elizabeth refuses to force her people to share her religious beliefs.\\nWalsingham\\'s Catholic brother, who knows of the plot against Elizabeth, is jailed, leading Walsingham to reveal Spain\\'s plan to Queen Elizabeth, who angrily confronts the Spanish diplomats. The Spanish ambassador feigns ignorance, accuses her of receiving stolen Spanish gold from pirates, and insinuates that she has a sexual relationship with Raleigh. Enraged, Elizabeth throws the Spaniards out of England. Meanwhile, Philip is cutting down the forests of Spain to build the Spanish Armada to invade England. Mary writes letters condoning the plot.\\nBabington storms into a cathedral where Elizabeth is praying and fires a pistol at her, though Elizabeth is unharmed as there was no bullet in the gun. As Elizabeth learns of Mary\\'s involvement in the plot, Walsingham insists Mary be executed to quell any possible revolt. Elizabeth reluctantly agrees. Mary is tried for high treason and beheaded; Walsingham realises this was par'),\n",
              " Document(metadata={'title': 'Lady Katherine Grey', 'summary': \"Katherine Seymour, Countess of Hertford (née Lady Katherine Grey; 25 August 1540 – 26 January 1568) was a younger sister of Lady Jane Grey.\\nA granddaughter of Henry VIII's sister Mary, she emerged as a prospective successor to her cousin, Elizabeth I of England, before incurring Queen Elizabeth's wrath by secretly marrying Edward Seymour, 1st Earl of Hertford. Arrested after the Queen was informed of their clandestine marriage, Katherine (as Lady Hertford) lived in captivity until her death, having borne two sons in the Tower of London.\\n\\n\", 'source': 'https://en.wikipedia.org/wiki/Lady_Katherine_Grey'}, page_content=\"Katherine Seymour, Countess of Hertford (née Lady Katherine Grey; 25 August 1540 – 26 January 1568) was a younger sister of Lady Jane Grey.\\nA granddaughter of Henry VIII's sister Mary, she emerged as a prospective successor to her cousin, Elizabeth I of England, before incurring Queen Elizabeth's wrath by secretly marrying Edward Seymour, 1st Earl of Hertford. Arrested after the Queen was informed of their clandestine marriage, Katherine (as Lady Hertford) lived in captivity until her death, having borne two sons in the Tower of London.\\n\\n\\n== Family and claim to the throne ==\\nLady Katherine was born on 25 August 1540 at Bradgate Park, near Leicester, the second surviving daughter of Henry Grey, 1st Duke of Suffolk, by his marriage to Lady Frances Brandon. She was the younger sister of Lady Jane Grey and elder sister of Lady Mary Grey. Katherine Grey's maternal grandparents were Charles Brandon, 1st Duke of Suffolk, and Mary Tudor, Dowager Queen of France, youngest surviving daughter of Henry VII and Elizabeth of York.\\nThrough their grandmother, the Grey sisters had a close claim in the line of succession to the English throne. They were preceded in the line of succession only by Henry VIII's three children – Prince Edward, Lady Mary and Lady Elizabeth – and the descendants of Princess Margaret, the elder daughter of Henry VII and Queen Consort of Scotland, after 1542 represented by Mary, Queen of Scots. However, Henry VIII had excluded the Scottish regal line from the English succession in his Will, placing the Grey sisters next-in-line after his own children.\\n\\n\\n== First marriage ==\\nSome time before August 1552, Katherine Grey was betrothed to Henry, Lord Herbert, heir apparent to William Herbert, 1st Earl of Pembroke. In 1553, as King Edward VI was dying, the King and his Chief Minister, John Dudley, 1st Duke of Northumberland, planned to exclude Edward's sister Mary Tudor from the succession in favour of Katherine's elder sister, Lady Jane Grey. According to the Letters Patent of 21 June 1553, Lady Katherine was to be second in the line of succession behind her sister and heirs-male. Lady Jane had been married to Northumberland's son, Lord Guildford Dudley, on 25 May 1553. On the same occasion, Lady Katherine was married to Lord Herbert at Durham House. After the wedding, Katherine (now Lady Herbert) went to live with her husband at Baynard's Castle beside the Thames.  When Lady Jane's accession to the throne failed, Henry's father sought to distance himself from the Grey family by separating his son from Lady Katherine and seeking the annulment of the marriage; this was probably achieved in early 1554, as the union had not been consummated. Meanwhile, her sister (Lady Jane Grey) and her father (the Duke of Suffolk) had been executed in February 1554 after the suppression of Wyatt's Rebellion.\\n\\n\\n== Prospective royal heir under Mary I and Elizabeth I ==\\nDuring the first phase of Queen Mary I's reign, Lady Katherine was senior heir-in-line to the throne as Mary was yet unmarried and her younger sister Elizabeth was regarded as illegitimate. Demoted when Elizabeth was declared heir, Lady Katherine's claim came to the fore again when Queen Elizabeth I acceded to the English throne in November 1558. At one point the Queen was apparently contemplating Lady Katherine Grey as a potential Protestant heir, with rumours of a possible adoption, but any such development was terminated upon Lady Katherine's clandestine marriage to Lord Hertford.\\n\\n\\n== Second marriage ==\\n\\nOne of Lady Katherine's friends, Lady Jane Seymour, daughter of the Duke of Somerset, introduced her brother, Edward Seymour, 1st Earl of Hertford, to Lady Katherine Grey (so restyled after the annulment of her first marriage). Without royal assent, the two were married in December 1560 during a secret ceremony at Lord Hertford's house in Cannon Row, where Lady Jane Seymour was the sole witness.\\nSoon thereafter, the Queen despatched Lord Hertford with Thomas Cecil, eldest s\"),\n",
              " Document(metadata={'title': 'Isabella I of Castile', 'summary': 'Isabella I (Spanish: Isabel I; 22 April 1451 – 26 November 1504), also called Isabella the Catholic (Spanish: Isabel la Católica), was Queen of Castile and León from 1474 until her death in 1504. She was also Queen of Aragon from 1479 until her death as the wife of King Ferdinand II. Reigning together over a dynastically unified Spain, Isabella and Ferdinand are known as the Catholic Monarchs.\\nAfter a struggle to claim the throne, Isabella reorganized the governmental system, brought the crime rate down, and unburdened the kingdom of the debt which her half-brother King Henry IV had left behind. Isabella\\'s marriage to Ferdinand of Aragon in 1469 created the basis of the de facto unification of Spain. Her reforms and those she made with her husband had an influence that extended well beyond the borders of their united kingdoms.\\nIsabella and Ferdinand are known for being the first monarchs to be referred to as the queen and king of Spain, respectively. Their actions included completion of the Reconquista, the Alhambra Decree which ordered the mass expulsion of Jews from Spain, initiating the Spanish Inquisition, financing Christopher Columbus\\'s 1492 voyage to the New World, and establishing the Spanish empire, making Spain a major power in Europe and the world and ultimately ushering in the Spanish Golden Age. \\nTogether with her husband, Isabella was granted the title of \"Catholic Monarch\" by Pope Alexander VI, a Spaniard. Her sainthood cause was opened in 1974, granting her the title Servant of God in the Catholic Church.', 'source': 'https://en.wikipedia.org/wiki/Isabella_I_of_Castile'}, page_content='Isabella I (Spanish: Isabel I; 22 April 1451 – 26 November 1504), also called Isabella the Catholic (Spanish: Isabel la Católica), was Queen of Castile and León from 1474 until her death in 1504. She was also Queen of Aragon from 1479 until her death as the wife of King Ferdinand II. Reigning together over a dynastically unified Spain, Isabella and Ferdinand are known as the Catholic Monarchs.\\nAfter a struggle to claim the throne, Isabella reorganized the governmental system, brought the crime rate down, and unburdened the kingdom of the debt which her half-brother King Henry IV had left behind. Isabella\\'s marriage to Ferdinand of Aragon in 1469 created the basis of the de facto unification of Spain. Her reforms and those she made with her husband had an influence that extended well beyond the borders of their united kingdoms.\\nIsabella and Ferdinand are known for being the first monarchs to be referred to as the queen and king of Spain, respectively. Their actions included completion of the Reconquista, the Alhambra Decree which ordered the mass expulsion of Jews from Spain, initiating the Spanish Inquisition, financing Christopher Columbus\\'s 1492 voyage to the New World, and establishing the Spanish empire, making Spain a major power in Europe and the world and ultimately ushering in the Spanish Golden Age. \\nTogether with her husband, Isabella was granted the title of \"Catholic Monarch\" by Pope Alexander VI, a Spaniard. Her sainthood cause was opened in 1974, granting her the title Servant of God in the Catholic Church.\\n\\n\\n== Life ==\\n\\n\\n=== Early years ===\\nIsabella was born in Madrigal de las Altas Torres to King John II of Castile and his second wife, Isabella of Portugal, on 22 April 1451. At the time of Isabella\\'s birth, she was second in line to the throne after her older half-brother Henry. Henry was 26 at that time and married, but childless. Isabella\\'s younger brother Alfonso was born two years later on 17 November 1453, demoting her position to third in line. When her father died in 1454, her half-brother ascended to the throne as King Henry IV. Isabella and her brother Alfonso were left in King Henry\\'s care. Isabella, Alfonso, and their mother then moved to Arévalo.\\nThese were times of turmoil for Isabella. The living conditions at the castle in Arévalo were poor, and they suffered from a shortage of money. Although her father arranged in his will for his children to be financially well taken care of, Henry did not comply with their father\\'s wishes, either from a desire to keep his half-siblings restricted or from ineptitude. Even though her living conditions were difficult, Isabella was instructed in lessons of practical piety and in a deep reverence for religion under the supervision of her mother.\\nWhen the king\\'s wife, Joan of Portugal, was about to give birth to their daughter Joanna, Isabella and Alfonso were summoned to court in Segovia to come under the direct supervision of the king and to finish their education. Alfonso was placed in the care of a tutor while Isabella became part of the queen\\'s household.\\n\\nSome of Isabella\\'s living conditions improved in Segovia. She always had food and clothing and lived in a castle that was adorned with gold and silver. Isabella\\'s basic education consisted of reading, spelling, writing, grammar, history, arithmetic, art, chess, dancing, embroidery, music, and religious instruction. She and her ladies-in-waiting entertained themselves with art, embroidery, and music. She lived a relaxed lifestyle, but she rarely left Segovia since King Henry forbade this. Her half-brother was keeping her from the political turmoil going on in the kingdom, though Isabella had full knowledge of what was going on and of her role in the feuds.\\nAfter a rumor spread that Joanna was not actually the daughter of King Henry but rather of a royal favorite, Beltrán de la Cueva, noblemen confronted King Henry and demanded that the king\\'s younger half-brother Alfonso be named his successor. They even went'),\n",
              " Document(metadata={'title': 'Jeremy Irons', 'summary': \"Jeremy John Irons (; born 19 September 1948) is an English actor. He is known for his roles on stage and screen having won numerous accolades including an Academy Award, two Golden Globe Awards, three Primetime Emmy Awards, and a Tony Award. He is one of the few actors who has achieved the Triple Crown of Acting, having won Oscar, Emmy, and Tony awards for film, television and theatre.\\nIrons received classical training at the Bristol Old Vic Theatre School and started his acting career on stage in 1969. He appeared in many West End theatre productions, including the Shakespeare plays The Winter's Tale, Macbeth, Much Ado About Nothing, The Taming of the Shrew, and Richard II. In 1984, he made his Broadway debut in Tom Stoppard's The Real Thing, receiving the Tony Award for Best Actor in a Play.\\nHis first major film role came in The French Lieutenant's Woman (1981), for which he received a BAFTA Award for Best Actor nomination. After starring in dramas such as Moonlighting (1982), Betrayal (1983), The Mission (1986), and Dead Ringers (1988), he received the Academy Award for Best Actor for his portrayal of Claus von Bülow in Reversal of Fortune (1990). Other notable films include Kafka (1991), Damage (1992), M. Butterfly (1993), Die Hard with a Vengeance  (1995), Lolita (1997), The Merchant of Venice (2004), Kingdom of Heaven (2005), Appaloosa (2008), and Margin Call (2011). He voiced Scar in Disney's The Lion King (1994) and played Alfred Pennyworth in the DC Extended Universe (2016–2023) franchise.\\nOn television, Irons's break-out role came playing Charles Ryder in the ITV series Brideshead Revisited (1981), receiving nominations for the BAFTA Award, Primetime Emmy Award, Golden Globe Award for Best Actor. He received the Primetime Emmy Award for his portrayal of Robert Dudley, 1st Earl of Leicester in the HBO miniseries Elizabeth I (2005) and was Emmy-nominated for playing Adrian Veidt / Ozymandias in HBO's Watchmen (2019). He starred as Pope Alexander VI in the Showtime historical series The Borgias (2011–2013). In October 2011, he was named the Goodwill Ambassador for the UN's Food and Agriculture Organization.\", 'source': 'https://en.wikipedia.org/wiki/Jeremy_Irons'}, page_content=\"Jeremy John Irons (; born 19 September 1948) is an English actor. He is known for his roles on stage and screen having won numerous accolades including an Academy Award, two Golden Globe Awards, three Primetime Emmy Awards, and a Tony Award. He is one of the few actors who has achieved the Triple Crown of Acting, having won Oscar, Emmy, and Tony awards for film, television and theatre.\\nIrons received classical training at the Bristol Old Vic Theatre School and started his acting career on stage in 1969. He appeared in many West End theatre productions, including the Shakespeare plays The Winter's Tale, Macbeth, Much Ado About Nothing, The Taming of the Shrew, and Richard II. In 1984, he made his Broadway debut in Tom Stoppard's The Real Thing, receiving the Tony Award for Best Actor in a Play.\\nHis first major film role came in The French Lieutenant's Woman (1981), for which he received a BAFTA Award for Best Actor nomination. After starring in dramas such as Moonlighting (1982), Betrayal (1983), The Mission (1986), and Dead Ringers (1988), he received the Academy Award for Best Actor for his portrayal of Claus von Bülow in Reversal of Fortune (1990). Other notable films include Kafka (1991), Damage (1992), M. Butterfly (1993), Die Hard with a Vengeance  (1995), Lolita (1997), The Merchant of Venice (2004), Kingdom of Heaven (2005), Appaloosa (2008), and Margin Call (2011). He voiced Scar in Disney's The Lion King (1994) and played Alfred Pennyworth in the DC Extended Universe (2016–2023) franchise.\\nOn television, Irons's break-out role came playing Charles Ryder in the ITV series Brideshead Revisited (1981), receiving nominations for the BAFTA Award, Primetime Emmy Award, Golden Globe Award for Best Actor. He received the Primetime Emmy Award for his portrayal of Robert Dudley, 1st Earl of Leicester in the HBO miniseries Elizabeth I (2005) and was Emmy-nominated for playing Adrian Veidt / Ozymandias in HBO's Watchmen (2019). He starred as Pope Alexander VI in the Showtime historical series The Borgias (2011–2013). In October 2011, he was named the Goodwill Ambassador for the UN's Food and Agriculture Organization.\\n\\n\\n== Early life and education ==\\nIrons was born on 19 September 1948 in Cowes on the Isle of Wight, to Paul Dugan Irons, an accountant, and Barbara Anne Brereton Brymer (née Sharpe). Irons has a brother, Christopher (born 1943), and a sister, Felicity Anne (born 1944). He was educated at the independent Sherborne School in Dorset from 1962 to 1966. He was the drummer and harmonica player in a four-man school band called the Four Pillars of Wisdom.\\n\\n\\n== Career ==\\n\\n\\n=== 1969–1979: Early work and theatre roles ===\\n\\nIrons trained as an actor at the Bristol Old Vic Theatre School and later became president of its fundraising appeal. He performed a number of plays, and busked on the streets of Bristol, before appearing on the London stage as John the Baptist and Judas opposite David Essex in Godspell, which opened at the Roundhouse on 17 November 1971 before transferring to Wyndham's Theatre playing a total of 1,128 performances. Irons's television career began on British television in the early 1970s, including appearances on the children's series Play Away and as Franz Liszt in the BBC series Notorious Woman (1974). More significantly, he starred in the 13-part adaptation of H. E. Bates's novel Love for Lydia (1977) for London Weekend Television, and attracted attention for his key role as the pipe-smoking German student, a romantic pairing with Judi Dench, in Harold Pinter's screenplay adaptation of Aidan Higgins's novel Langrishe, Go Down (1978) for BBC Television. Irons has worked with the Royal Shakespeare Company three times in 1976, 1986–1987 and 2010.\\nAfter years of success in the West End in London, Irons made his New York debut as Henry, a man engaging in an affair in the Tom Stoppard play The Real Thing at the Plymouth Theatre on Broadway acting opposite Glenn Close. Irons won the Tony Award for Best Actor in a\"),\n",
              " Document(metadata={'title': 'Elizabeth I (2005 TV series)', 'summary': 'Elizabeth I is a two-part 2005 British-American historical drama television serial directed by Tom Hooper, written by Nigel Williams, and starring Helen Mirren as Elizabeth I of England. The drama covers approximately the last 24 years of her nearly 45-year reign.  Part 1 focuses on the final years of her relationship with the Earl of Leicester, played by Jeremy Irons.  Part 2 focuses on her subsequent relationship with the Earl of Essex, played by Hugh Dancy.\\nThe series originally was broadcast in the United Kingdom in two two-hour segments on Channel 4. It later aired on HBO in the United States, CBC and TMN in Canada, ATV in Hong Kong, ABC in Australia, and TVNZ Television One in New Zealand.\\nThe series went on to win Emmy, Peabody, and Golden Globe Awards.', 'source': 'https://en.wikipedia.org/wiki/Elizabeth_I_(2005_TV_series)'}, page_content=\"Elizabeth I is a two-part 2005 British-American historical drama television serial directed by Tom Hooper, written by Nigel Williams, and starring Helen Mirren as Elizabeth I of England. The drama covers approximately the last 24 years of her nearly 45-year reign.  Part 1 focuses on the final years of her relationship with the Earl of Leicester, played by Jeremy Irons.  Part 2 focuses on her subsequent relationship with the Earl of Essex, played by Hugh Dancy.\\nThe series originally was broadcast in the United Kingdom in two two-hour segments on Channel 4. It later aired on HBO in the United States, CBC and TMN in Canada, ATV in Hong Kong, ABC in Australia, and TVNZ Television One in New Zealand.\\nThe series went on to win Emmy, Peabody, and Golden Globe Awards.\\n\\n\\n== Plot ==\\n\\n\\n=== Part 1 ===\\nIn 1579, Elizabeth I refuses to marry. Chief advisor Lord Burghley and spymaster Francis Walsingham plan to have her wed the Duke of Anjou, which would cement an English-French alliance against Spain. Meanwhile, Elizabeth's favorite, the Earl of Leicester, opposes the match due to his affection for her. \\nUpon arriving in England, the Duke meets and courts Elizabeth, gaining her favour. She angrily banishes Leicester from court when she learns he is married and decides not to marry the Duke due to negative popular opinion towards the match.\\nSeven years later, Elizabeth welcomes Leicester back. Walsingham gathers evidence to prove that Elizabeth's Catholic cousin Mary, Queen of Scots, is plotting to have her killed. Elizabeth is reluctant to have Mary executed because of the war it might ignite between England and Spain. During a secret meeting at her prison, Mary gives Elizabeth her word that she does not want her dead. \\nElizabeth hesitantly gives Leicester command of the English campaign to assist the Dutch against Spain, which fails and gives Spain control of Holland. Once it is proven Mary has, in fact, been conspiring against Elizabeth's life, Mary is judged guilty of treason and executed.\\nAfter negotiations between England and Spain fail, a fleet of Spanish ships are sent for England. Elizabeth gives Leicester command of the land forces and rides with him and his stepson, the Earl of Essex, to Tilbury, where they expect the Spanish to attempt a landing and where Elizabeth delivers a speech to the troops. \\nThe Spanish Armada is ultimately defeated, but Leicester falls gravely ill as they learn of the English victory. On his deathbed, Leicester bids Essex to take care of Elizabeth.\\n\\n\\n=== Part 2 ===\\nBy 1589, Elizabeth has fallen in love with Essex, who is now her favourite. When Essex takes part in a military expedition to Lisbon against her wishes, she is openly outraged but forgives him in spite of his failure to take the city from the Spanish. She grants him ten percent of a tax on sweet wines and a seat on the Privy Council, of which Lord Burghley's son Robert was also recently made a member. \\nEssex and Cecil develop a rivalry, as illustrated by the affair of Elizabeth's physician Dr. Lopez, who is hanged based on evidence brought forth by Essex of his participation in a Spanish plot against Elizabeth, evidence proved questionable after the fact by Cecil.\\nEssex's political ambitions clash with his devotion and loyalty to Elizabeth. As Elizabeth finds her young lover's behavior becoming increasingly problematic, she draws closer to Cecil, who is named Secretary of State following Walsingham's death. Essex is publicly hailed upon his return to England after taking Cadiz from the Spanish, but his relationship with Elizabeth begins to deteriorate. \\nShe and Cecil suspect Essex of secretly communicating with James VI of Scotland, son of Mary, Queen of Scots and a potential successor to the English throne. After Burghley's death, Elizabeth sends Essex to Ireland to put down a rebellion, but he instead makes a truce and returns to England alone. Elizabeth puts Essex under house arrest.\\nEssex and his followers fail to start a rebellion in London\")]"
            ]
          },
          "metadata": {},
          "execution_count": 8
        }
      ]
    },
    {
      "cell_type": "code",
      "source": [
        "len(raw_documents)"
      ],
      "metadata": {
        "colab": {
          "base_uri": "https://localhost:8080/"
        },
        "id": "sUnzNrGbkOao",
        "outputId": "c998ae31-6497-4f0f-af87-c63f8b288596"
      },
      "execution_count": 9,
      "outputs": [
        {
          "output_type": "execute_result",
          "data": {
            "text/plain": [
              "23"
            ]
          },
          "metadata": {},
          "execution_count": 9
        }
      ]
    },
    {
      "cell_type": "markdown",
      "source": [
        "Summary\n",
        "* There are 23 documents."
      ],
      "metadata": {
        "id": "oBzaikIHkRFd"
      }
    },
    {
      "cell_type": "code",
      "source": [],
      "metadata": {
        "id": "Dcs_Y-QkkOU5"
      },
      "execution_count": null,
      "outputs": []
    },
    {
      "cell_type": "markdown",
      "source": [
        "# Document Splitting & Chunking\n",
        "* First we need to split the documents into chunks.\n",
        "* We can use the `TokenTextSplitter` from OpenAI, but there are numerous approaches to this depending on your data and use case.\n",
        "* Since LLMs process text data on a token level it is always important to consider using a token based splitting method (instead of character splitting) but we would need a separate notebook to explain the reasoning.\n",
        "\n",
        "## TokenTextSplitter\n",
        "* `TokenTextSplitter` is designed to split text based on the number of tokens, which is particularly useful when working with models that have specific token limits.\n",
        "* A great overview of various text splitters in LangChain: https://medium.com/@harsh.vardhan7695/mastering-text-splitting-in-langchain-735313216e01\n",
        "\n",
        "* When to use:\n",
        "1. Working with token-sensitive models\n",
        "2. To ensure that chunks fit within model token limits\n",
        "3. For more precise control over input size for language models\n",
        "\n",
        "### Choosing the Right Encoding\n",
        "* Refer to the OpenAI cookbook for more details here: https://github.com/openai/openai-cookbook/blob/main/examples/How_to_count_tokens_with_tiktoken.ipynb\n",
        "* Tiktoken works seamlessly with this tokensplitter as seen here: https://github.com/openai/tiktoken?tab=readme-ov-file\n",
        "* If you want to dive into token counting read this blogpost: https://simonwillison.net/2023/Jun/8/gpt-tokenizers/\n",
        "* There is also an open source token counter for other models than OpenAI: https://michaelcurrin.github.io/token-translator/\n",
        "\n"
      ],
      "metadata": {
        "id": "LkG5gcWz1keS"
      }
    },
    {
      "cell_type": "code",
      "source": [
        "## text splitting\n",
        "from langchain.text_splitter import TokenTextSplitter\n",
        "\n",
        "## init TokenTextSplitter\n",
        "text_splitter = TokenTextSplitter(encoding_name=\"cl100k_base\", ##\n",
        "                                  chunk_size=512,\n",
        "                                  chunk_overlap=100)\n",
        "\n",
        "## split/chunk documents --> use only 3 of the 23 documents as an example\n",
        "documents = text_splitter.split_documents(raw_documents[:3])"
      ],
      "metadata": {
        "id": "e0ryG2C6zMGb"
      },
      "execution_count": 10,
      "outputs": []
    },
    {
      "cell_type": "markdown",
      "source": [
        "# Load LLM Model\n",
        "* We will tryout the `deepseek-r1-distill-llama-70b` model from GROQ.\n",
        "* What is most interesting about DeepSeek R1 is that it uses 3 really important methods which is what makes it so powerful:\n",
        "1. **Chain of Thought** - you will see the model will explain its thought process as it answers a query step by step.\n",
        "\n",
        "2. **Reinforcement learning** - the model trains itself.\n",
        "\n",
        "3. **Distillation** - shrinking model without losing power."
      ],
      "metadata": {
        "id": "O27YfyXRyjnE"
      }
    },
    {
      "cell_type": "code",
      "source": [
        "from langchain_groq import ChatGroq\n",
        "\n",
        "## init llm\n",
        "llm = ChatGroq(groq_api_key=GROQ_API_KEY,\n",
        "               model=\"deepseek-r1-distill-llama-70b\",\n",
        "              temperature=0,\n",
        "               )"
      ],
      "metadata": {
        "id": "_oGHg3S2kXfg"
      },
      "execution_count": 25,
      "outputs": []
    },
    {
      "cell_type": "markdown",
      "source": [
        "# Create Graph with `LLMGraphTransformer`\n",
        "* This is the class from Neo4j that instantly creates a knowledge graph using the LLM.\n",
        "* Neo4j graph builder github: https://github.com/neo4j-labs/llm-graph-builder"
      ],
      "metadata": {
        "id": "YziLlJ6PzRYB"
      }
    },
    {
      "cell_type": "code",
      "source": [
        "#from langchain_experimental.graph_transformers import LLMGraphTransformer\n",
        "\n",
        "## init model\n",
        "llm_graph_transformer = LLMGraphTransformer(llm=llm)"
      ],
      "metadata": {
        "id": "BC_I_U4-zQIr"
      },
      "execution_count": 26,
      "outputs": []
    },
    {
      "cell_type": "code",
      "source": [
        "## create graph documents\n",
        "graph_docs = llm_graph_transformer.convert_to_graph_documents(documents)"
      ],
      "metadata": {
        "id": "_DuXwOgqzqhe"
      },
      "execution_count": 27,
      "outputs": []
    },
    {
      "cell_type": "code",
      "source": [
        "## view graph docs\n",
        "graph_docs"
      ],
      "metadata": {
        "colab": {
          "base_uri": "https://localhost:8080/"
        },
        "id": "cp7Je3-gz3cM",
        "outputId": "1843c71c-2820-49dd-d171-3f8f8b4842b7"
      },
      "execution_count": 29,
      "outputs": [
        {
          "output_type": "execute_result",
          "data": {
            "text/plain": [
              "[GraphDocument(nodes=[Node(id='Elizabeth I', type='Person', properties={}), Node(id='Queen Of England', type='Title', properties={}), Node(id='Ireland', type='Country', properties={}), Node(id='House Of Tudor', type='Dynasty', properties={}), Node(id='Henry Viii', type='Person', properties={}), Node(id='Anne Boleyn', type='Person', properties={}), Node(id='Edward Vi', type='Person', properties={}), Node(id='Mary I', type='Person', properties={}), Node(id='Lady Jane Grey', type='Person', properties={}), Node(id='William Cecil', type='Person', properties={}), Node(id='Baron Burghley', type='Title', properties={}), Node(id='English Protestant Church', type='Organization', properties={}), Node(id='Church Of England', type='Organization', properties={}), Node(id='James Vi Of Scotland', type='Person', properties={}), Node(id='Sir Francis Walsingham', type='Person', properties={}), Node(id='Video Et Taceo', type='Motto', properties={})], relationships=[Relationship(source=Node(id='Elizabeth I', type='Person', properties={}), target=Node(id='Queen Of England', type='Title', properties={}), type='QUEEN_OF', properties={}), Relationship(source=Node(id='Elizabeth I', type='Person', properties={}), target=Node(id='Ireland', type='Country', properties={}), type='QUEEN_OF', properties={}), Relationship(source=Node(id='Elizabeth I', type='Person', properties={}), target=Node(id='House Of Tudor', type='Dynasty', properties={}), type='MEMBER_OF', properties={}), Relationship(source=Node(id='Elizabeth I', type='Person', properties={}), target=Node(id='Henry Viii', type='Person', properties={}), type='DAUGHTER_OF', properties={}), Relationship(source=Node(id='Elizabeth I', type='Person', properties={}), target=Node(id='Anne Boleyn', type='Person', properties={}), type='DAUGHTER_OF', properties={}), Relationship(source=Node(id='Elizabeth I', type='Person', properties={}), target=Node(id='Edward Vi', type='Person', properties={}), type='SUCCEEDED', properties={}), Relationship(source=Node(id='Elizabeth I', type='Person', properties={}), target=Node(id='Mary I', type='Person', properties={}), type='SUCCEEDED', properties={}), Relationship(source=Node(id='Elizabeth I', type='Person', properties={}), target=Node(id='Lady Jane Grey', type='Person', properties={}), type='SUCCEEDED', properties={}), Relationship(source=Node(id='Elizabeth I', type='Person', properties={}), target=Node(id='William Cecil', type='Person', properties={}), type='ADVISED_BY', properties={}), Relationship(source=Node(id='William Cecil', type='Person', properties={}), target=Node(id='Baron Burghley', type='Title', properties={}), type='CREATED_AS', properties={}), Relationship(source=Node(id='Elizabeth I', type='Person', properties={}), target=Node(id='English Protestant Church', type='Organization', properties={}), type='ESTABLISHED', properties={}), Relationship(source=Node(id='English Protestant Church', type='Organization', properties={}), target=Node(id='Church Of England', type='Organization', properties={}), type='EVOLVED_INTO', properties={}), Relationship(source=Node(id='Elizabeth I', type='Person', properties={}), target=Node(id='James Vi Of Scotland', type='Person', properties={}), type='SUCCEEDED_BY', properties={}), Relationship(source=Node(id='Elizabeth I', type='Person', properties={}), target=Node(id='Sir Francis Walsingham', type='Person', properties={}), type='PROTECTED_BY', properties={}), Relationship(source=Node(id='Elizabeth I', type='Person', properties={}), target=Node(id='Video Et Taceo', type='Motto', properties={}), type='MOTTO_OF', properties={})], source=Document(metadata={'title': 'Elizabeth I', 'summary': 'Elizabeth I (7 September 1533 – 24 March 1603) was Queen of England and Ireland from 17 November 1558 until her death in 1603. She was the last and longest reigning monarch of the House of Tudor. Her eventful reign, and its effect on history and culture, gave name to the Elizabethan era.\\nElizabeth was the only surviving child of Henry VIII and his second wife, Anne Boleyn. When Elizabeth was two years old, her parents\\' marriage was annulled, her mother was executed, and Elizabeth was declared illegitimate. Henry restored her to the line of succession when she was 10, via the Third Succession Act 1543. After Henry\\'s death in 1547, Elizabeth\\'s younger half-brother Edward VI ruled until his own death in 1553, bequeathing the crown to a Protestant cousin, Lady Jane Grey, and ignoring the claims of his two half-sisters, the Catholic Mary and the younger Elizabeth, in spite of statutes to the contrary. Edward\\'s will was set aside within weeks of his death and Mary became queen, deposing and executing Jane. During Mary\\'s reign, Elizabeth was imprisoned for nearly a year on suspicion of supporting Protestant rebels.\\nUpon her half-sister\\'s death in 1558, Elizabeth succeeded to the throne and set out to rule by good counsel. She depended heavily on a group of trusted advisers led by William Cecil, whom she created Baron Burghley. One of her first actions as queen was the establishment of an English Protestant church, of which she became the supreme governor. This arrangement, later named the Elizabethan Religious Settlement, would evolve into the Church of England. It was expected that Elizabeth would marry and produce an heir; however, despite numerous courtships, she never did. Because of this she is sometimes referred to as the \"Virgin Queen\". She was eventually succeeded by her first cousin twice removed, James VI of Scotland.\\nIn government, Elizabeth was more moderate than her father and siblings had been. One of her mottoes was video et taceo (\"I see and keep silent\"). In religion, she was relatively tolerant and avoided systematic persecution. After the pope declared her illegitimate in 1570, which in theory released English Catholics from allegiance to her, several conspiracies threatened her life, all of which were defeated with the help of her ministers\\' secret service, run by Sir Francis Walsingham. Elizabeth was cautious in foreign affairs, manoeuvring between the major powers of France and Spain. She half-heartedly supported a number of ineffective, poorly resourced military campaigns in the Netherlands, France, and Ireland. By the mid-1580s, England could no longer avoid war with Spain.\\nAs she grew older, Elizabeth became celebrated for her virginity. A cult of personality grew around her which was celebrated in the portraits, pageants, and literature of the day. The Elizabethan era is famous for the flourishing of English drama, led by playwrights such as William Shakespeare and Christopher Marlowe, the prowess of English maritime adventurers, such as Francis Drake and Walter Raleigh, and for the defeat of the Spanish Armada. Some historians depict Elizabeth as a short-tempered, sometimes indecisive ruler, who enjoyed more than her fair share of luck. Towards the end of her reign, a series of economic and military problems weakened her popularity. Elizabeth is acknowledged as a charismatic performer (\"Gloriana\") and a dogged survivor (\"Good Queen Bess\") in an era when government was ramshackle and limited, and when monarchs in neighbouring countries faced internal problems that jeopardised their thrones. After the short, disastrous reigns of her half-siblings, her 44 years on the throne provided welcome stability for the kingdom and helped to forge a sense of national identity.', 'source': 'https://en.wikipedia.org/wiki/Elizabeth_I'}, page_content='Elizabeth I (7 September 1533 – 24 March 1603) was Queen of England and Ireland from 17 November 1558 until her death in 1603. She was the last and longest reigning monarch of the House of Tudor. Her eventful reign, and its effect on history and culture, gave name to the Elizabethan era.\\nElizabeth was the only surviving child of Henry VIII and his second wife, Anne Boleyn. When Elizabeth was two years old, her parents\\' marriage was annulled, her mother was executed, and Elizabeth was declared illegitimate. Henry restored her to the line of succession when she was 10, via the Third Succession Act 1543. After Henry\\'s death in 1547, Elizabeth\\'s younger half-brother Edward VI ruled until his own death in 1553, bequeathing the crown to a Protestant cousin, Lady Jane Grey, and ignoring the claims of his two half-sisters, the Catholic Mary and the younger Elizabeth, in spite of statutes to the contrary. Edward\\'s will was set aside within weeks of his death and Mary became queen, deposing and executing Jane. During Mary\\'s reign, Elizabeth was imprisoned for nearly a year on suspicion of supporting Protestant rebels.\\nUpon her half-sister\\'s death in 1558, Elizabeth succeeded to the throne and set out to rule by good counsel. She depended heavily on a group of trusted advisers led by William Cecil, whom she created Baron Burghley. One of her first actions as queen was the establishment of an English Protestant church, of which she became the supreme governor. This arrangement, later named the Elizabethan Religious Settlement, would evolve into the Church of England. It was expected that Elizabeth would marry and produce an heir; however, despite numerous courtships, she never did. Because of this she is sometimes referred to as the \"Virgin Queen\". She was eventually succeeded by her first cousin twice removed, James VI of Scotland.\\nIn government, Elizabeth was more moderate than her father and siblings had been. One of her mottoes was video et taceo (\"I see and keep silent\"). In religion, she was relatively tolerant and avoided systematic persecution. After the pope declared her illegitimate in 1570, which in theory released English Catholics from allegiance to her, several conspiracies threatened her life, all of which were defeated with the help of her ministers\\' secret service, run by Sir Francis Walsingham. Elizabeth was cautious in foreign affairs, manoeuvring between the major powers of France and')),\n",
              " GraphDocument(nodes=[Node(id='Elizabeth', type='Person', properties={}), Node(id='Video Et Taceo', type='Motto', properties={}), Node(id='Pope', type='Person', properties={}), Node(id='Sir Francis Walsingham', type='Person', properties={}), Node(id='Conspiracies', type='Event', properties={}), Node(id='France', type='Country', properties={}), Node(id='Spain', type='Country', properties={}), Node(id='Netherlands', type='Region', properties={}), Node(id='Ireland', type='Region', properties={}), Node(id='England', type='Country', properties={}), Node(id='Cult Of Personality', type='Concept', properties={}), Node(id='English Drama', type='Concept', properties={}), Node(id='Maritime Adventurers', type='Concept', properties={}), Node(id='Spanish Armada', type='Event', properties={}), Node(id='Historians', type='Group', properties={}), Node(id='Economic Problems', type='Event', properties={}), Node(id='Military Problems', type='Event', properties={}), Node(id='Greenwich Palace', type='Location', properties={}), Node(id='Henry Viii Of England', type='Person', properties={}), Node(id='Elizabeth Of York', type='Person', properties={}), Node(id='Lady Elizabeth Howard', type='Person', properties={})], relationships=[Relationship(source=Node(id='Elizabeth', type='Person', properties={}), target=Node(id='Video Et Taceo', type='Motto', properties={}), type='MOTTO', properties={}), Relationship(source=Node(id='Pope', type='Person', properties={}), target=Node(id='Elizabeth', type='Person', properties={}), type='DECLARED_ILLEGITIMATE', properties={}), Relationship(source=Node(id='Elizabeth', type='Person', properties={}), target=Node(id='Sir Francis Walsingham', type='Person', properties={}), type='MINISTER', properties={}), Relationship(source=Node(id='Conspiracies', type='Event', properties={}), target=Node(id='Elizabeth', type='Person', properties={}), type='THREATENED_BY', properties={}), Relationship(source=Node(id='Elizabeth', type='Person', properties={}), target=Node(id='France', type='Country', properties={}), type='MANOEUVERED_BETWEEN', properties={}), Relationship(source=Node(id='Elizabeth', type='Person', properties={}), target=Node(id='Spain', type='Country', properties={}), type='MANOEUVERED_BETWEEN', properties={}), Relationship(source=Node(id='Elizabeth', type='Person', properties={}), target=Node(id='Netherlands', type='Region', properties={}), type='SUPPORTED_MILITARY_CAMPAIGNS_IN', properties={}), Relationship(source=Node(id='Elizabeth', type='Person', properties={}), target=Node(id='France', type='Country', properties={}), type='SUPPORTED_MILITARY_CAMPAIGNS_IN', properties={}), Relationship(source=Node(id='Elizabeth', type='Person', properties={}), target=Node(id='Ireland', type='Region', properties={}), type='SUPPORTED_MILITARY_CAMPAIGNS_IN', properties={}), Relationship(source=Node(id='England', type='Country', properties={}), target=Node(id='Spain', type='Country', properties={}), type='WAR_WITH', properties={}), Relationship(source=Node(id='Elizabeth', type='Person', properties={}), target=Node(id='Cult Of Personality', type='Concept', properties={}), type='CELEBRATED_WITH', properties={}), Relationship(source=Node(id='Elizabeth', type='Person', properties={}), target=Node(id='English Drama', type='Concept', properties={}), type='CELEBRATED_WITH', properties={}), Relationship(source=Node(id='Elizabeth', type='Person', properties={}), target=Node(id='Maritime Adventurers', type='Concept', properties={}), type='CELEBRATED_WITH', properties={}), Relationship(source=Node(id='Elizabeth', type='Person', properties={}), target=Node(id='Spanish Armada', type='Event', properties={}), type='DEFEATED', properties={}), Relationship(source=Node(id='Historians', type='Group', properties={}), target=Node(id='Elizabeth', type='Person', properties={}), type='DEPICTED_BY', properties={}), Relationship(source=Node(id='Historians', type='Group', properties={}), target=Node(id='Elizabeth', type='Person', properties={}), type='ACKNOWLEDGED_BY', properties={}), Relationship(source=Node(id='Economic Problems', type='Event', properties={}), target=Node(id='Elizabeth', type='Person', properties={}), type='WEAKENED_POPULARITY_OF', properties={}), Relationship(source=Node(id='Military Problems', type='Event', properties={}), target=Node(id='Elizabeth', type='Person', properties={}), type='WEAKENED_POPULARITY_OF', properties={}), Relationship(source=Node(id='Elizabeth', type='Person', properties={}), target=Node(id='Greenwich Palace', type='Location', properties={}), type='BORN_AT', properties={}), Relationship(source=Node(id='Elizabeth', type='Person', properties={}), target=Node(id='Henry Viii Of England', type='Person', properties={}), type='PARENT', properties={}), Relationship(source=Node(id='Elizabeth', type='Person', properties={}), target=Node(id='Elizabeth Of York', type='Person', properties={}), type='NAMED_AFTER', properties={}), Relationship(source=Node(id='Elizabeth', type='Person', properties={}), target=Node(id='Lady Elizabeth Howard', type='Person', properties={}), type='NAMED_AFTER', properties={})], source=Document(metadata={'title': 'Elizabeth I', 'summary': 'Elizabeth I (7 September 1533 – 24 March 1603) was Queen of England and Ireland from 17 November 1558 until her death in 1603. She was the last and longest reigning monarch of the House of Tudor. Her eventful reign, and its effect on history and culture, gave name to the Elizabethan era.\\nElizabeth was the only surviving child of Henry VIII and his second wife, Anne Boleyn. When Elizabeth was two years old, her parents\\' marriage was annulled, her mother was executed, and Elizabeth was declared illegitimate. Henry restored her to the line of succession when she was 10, via the Third Succession Act 1543. After Henry\\'s death in 1547, Elizabeth\\'s younger half-brother Edward VI ruled until his own death in 1553, bequeathing the crown to a Protestant cousin, Lady Jane Grey, and ignoring the claims of his two half-sisters, the Catholic Mary and the younger Elizabeth, in spite of statutes to the contrary. Edward\\'s will was set aside within weeks of his death and Mary became queen, deposing and executing Jane. During Mary\\'s reign, Elizabeth was imprisoned for nearly a year on suspicion of supporting Protestant rebels.\\nUpon her half-sister\\'s death in 1558, Elizabeth succeeded to the throne and set out to rule by good counsel. She depended heavily on a group of trusted advisers led by William Cecil, whom she created Baron Burghley. One of her first actions as queen was the establishment of an English Protestant church, of which she became the supreme governor. This arrangement, later named the Elizabethan Religious Settlement, would evolve into the Church of England. It was expected that Elizabeth would marry and produce an heir; however, despite numerous courtships, she never did. Because of this she is sometimes referred to as the \"Virgin Queen\". She was eventually succeeded by her first cousin twice removed, James VI of Scotland.\\nIn government, Elizabeth was more moderate than her father and siblings had been. One of her mottoes was video et taceo (\"I see and keep silent\"). In religion, she was relatively tolerant and avoided systematic persecution. After the pope declared her illegitimate in 1570, which in theory released English Catholics from allegiance to her, several conspiracies threatened her life, all of which were defeated with the help of her ministers\\' secret service, run by Sir Francis Walsingham. Elizabeth was cautious in foreign affairs, manoeuvring between the major powers of France and Spain. She half-heartedly supported a number of ineffective, poorly resourced military campaigns in the Netherlands, France, and Ireland. By the mid-1580s, England could no longer avoid war with Spain.\\nAs she grew older, Elizabeth became celebrated for her virginity. A cult of personality grew around her which was celebrated in the portraits, pageants, and literature of the day. The Elizabethan era is famous for the flourishing of English drama, led by playwrights such as William Shakespeare and Christopher Marlowe, the prowess of English maritime adventurers, such as Francis Drake and Walter Raleigh, and for the defeat of the Spanish Armada. Some historians depict Elizabeth as a short-tempered, sometimes indecisive ruler, who enjoyed more than her fair share of luck. Towards the end of her reign, a series of economic and military problems weakened her popularity. Elizabeth is acknowledged as a charismatic performer (\"Gloriana\") and a dogged survivor (\"Good Queen Bess\") in an era when government was ramshackle and limited, and when monarchs in neighbouring countries faced internal problems that jeopardised their thrones. After the short, disastrous reigns of her half-siblings, her 44 years on the throne provided welcome stability for the kingdom and helped to forge a sense of national identity.', 'source': 'https://en.wikipedia.org/wiki/Elizabeth_I'}, page_content=' One of her mottoes was video et taceo (\"I see and keep silent\"). In religion, she was relatively tolerant and avoided systematic persecution. After the pope declared her illegitimate in 1570, which in theory released English Catholics from allegiance to her, several conspiracies threatened her life, all of which were defeated with the help of her ministers\\' secret service, run by Sir Francis Walsingham. Elizabeth was cautious in foreign affairs, manoeuvring between the major powers of France and Spain. She half-heartedly supported a number of ineffective, poorly resourced military campaigns in the Netherlands, France, and Ireland. By the mid-1580s, England could no longer avoid war with Spain.\\nAs she grew older, Elizabeth became celebrated for her virginity. A cult of personality grew around her which was celebrated in the portraits, pageants, and literature of the day. The Elizabethan era is famous for the flourishing of English drama, led by playwrights such as William Shakespeare and Christopher Marlowe, the prowess of English maritime adventurers, such as Francis Drake and Walter Raleigh, and for the defeat of the Spanish Armada. Some historians depict Elizabeth as a short-tempered, sometimes indecisive ruler, who enjoyed more than her fair share of luck. Towards the end of her reign, a series of economic and military problems weakened her popularity. Elizabeth is acknowledged as a charismatic performer (\"Gloriana\") and a dogged survivor (\"Good Queen Bess\") in an era when government was ramshackle and limited, and when monarchs in neighbouring countries faced internal problems that jeopardised their thrones. After the short, disastrous reigns of her half-siblings, her 44 years on the throne provided welcome stability for the kingdom and helped to forge a sense of national identity.\\n\\n\\n== Early life ==\\n\\nElizabeth was born at Greenwich Palace on 7 September 1533 and was named after her grandmothers, Elizabeth of York and Lady Elizabeth Howard. She was the second child of Henry VIII of England born in wedlock to survive infancy. ')),\n",
              " GraphDocument(nodes=[Node(id='Elizabeth Petrovna', type='Person', properties={}), Node(id='Peter The Great', type='Person', properties={}), Node(id='Catherine I Of Russia', type='Person', properties={}), Node(id='Alexei', type='Person', properties={}), Node(id='Anna', type='Person', properties={}), Node(id='Ivan Vi', type='Person', properties={}), Node(id='Peter Iii', type='Person', properties={}), Node(id='Reign Of Elizabeth Petrovna', type='Event', properties={}), Node(id='Age Of Enlightenment In Russia', type='Event', properties={}), Node(id='Domestic Policies Of Elizabeth Petrovna', type='Policy', properties={}), Node(id='Mikhail Lomonosov', type='Person', properties={}), Node(id='University Of Moscow', type='Organization', properties={}), Node(id='Court Of Elizabeth Petrovna', type='Organization', properties={}), Node(id='Architecture', type='Concept', properties={}), Node(id='Ivan Shuvalov', type='Person', properties={}), Node(id='Imperial Academy Of Arts', type='Organization', properties={}), Node(id='Bartolomeo Rastrelli', type='Person', properties={}), Node(id='Peterhof Palace', type='Building', properties={}), Node(id='Smolny Cathedral', type='Building', properties={}), Node(id='Winter Palace', type='Building', properties={}), Node(id='War Of Austrian Succession', type='Event', properties={}), Node(id=\"Seven Years' War\", type='Event', properties={}), Node(id='Austria', type='Country', properties={}), Node(id='France', type='Country', properties={}), Node(id='Aleksey Bestuzhev-Ryumin', type='Person', properties={}), Node(id='Frederick The Great', type='Person', properties={}), Node(id='Berlin', type='City', properties={})], relationships=[Relationship(source=Node(id='Elizabeth Petrovna', type='Person', properties={}), target=Node(id='Peter The Great', type='Person', properties={}), type='DAUGHTER_OF', properties={}), Relationship(source=Node(id='Elizabeth Petrovna', type='Person', properties={}), target=Node(id='Catherine I Of Russia', type='Person', properties={}), type='MOTHER_OF', properties={}), Relationship(source=Node(id='Elizabeth Petrovna', type='Person', properties={}), target=Node(id='Alexei', type='Person', properties={}), type='HALF-BROTHER_OF', properties={}), Relationship(source=Node(id='Elizabeth Petrovna', type='Person', properties={}), target=Node(id='Anna', type='Person', properties={}), type='COUSIN_OF', properties={}), Relationship(source=Node(id='Elizabeth Petrovna', type='Person', properties={}), target=Node(id='Ivan Vi', type='Person', properties={}), type='GREAT-NEPHEW_OF', properties={}), Relationship(source=Node(id='Elizabeth Petrovna', type='Person', properties={}), target=Node(id='Peter Iii', type='Person', properties={}), type='NEPHEW_AND_HEIR_OF', properties={}), Relationship(source=Node(id='Elizabeth Petrovna', type='Person', properties={}), target=Node(id='Reign Of Elizabeth Petrovna', type='Event', properties={}), type='REIGN', properties={}), Relationship(source=Node(id='Elizabeth Petrovna', type='Person', properties={}), target=Node(id='Age Of Enlightenment In Russia', type='Event', properties={}), type='ASSOCIATED_WITH', properties={}), Relationship(source=Node(id='Elizabeth Petrovna', type='Person', properties={}), target=Node(id='Domestic Policies Of Elizabeth Petrovna', type='Policy', properties={}), type='IMPLEMENTED', properties={}), Relationship(source=Node(id='Elizabeth Petrovna', type='Person', properties={}), target=Node(id='Mikhail Lomonosov', type='Person', properties={}), type='ENCOURAGED_FOUNDATION_OF', properties={}), Relationship(source=Node(id='Mikhail Lomonosov', type='Person', properties={}), target=Node(id='University Of Moscow', type='Organization', properties={}), type='FOUNDATION_ENCOURAGED', properties={}), Relationship(source=Node(id='Elizabeth Petrovna', type='Person', properties={}), target=Node(id='Court Of Elizabeth Petrovna', type='Organization', properties={}), type='SPLENDID_COURT_OF', properties={}), Relationship(source=Node(id='Court Of Elizabeth Petrovna', type='Organization', properties={}), target=Node(id='Architecture', type='Concept', properties={}), type='EMPHASIZED_IN_COURT', properties={}), Relationship(source=Node(id='Elizabeth Petrovna', type='Person', properties={}), target=Node(id='Ivan Shuvalov', type='Person', properties={}), type='ENCOURAGED_FOUNDATION_OF', properties={}), Relationship(source=Node(id='Ivan Shuvalov', type='Person', properties={}), target=Node(id='Imperial Academy Of Arts', type='Organization', properties={}), type='FOUNDATION_ENCOURAGED', properties={}), Relationship(source=Node(id='Elizabeth Petrovna', type='Person', properties={}), target=Node(id='Bartolomeo Rastrelli', type='Person', properties={}), type='FAVORITE_ARCHITECT', properties={}), Relationship(source=Node(id='Bartolomeo Rastrelli', type='Person', properties={}), target=Node(id='Peterhof Palace', type='Building', properties={}), type='ARCHITECT_OF', properties={}), Relationship(source=Node(id='Bartolomeo Rastrelli', type='Person', properties={}), target=Node(id='Smolny Cathedral', type='Building', properties={}), type='ARCHITECT_OF', properties={}), Relationship(source=Node(id='Bartolomeo Rastrelli', type='Person', properties={}), target=Node(id='Winter Palace', type='Building', properties={}), type='ARCHITECT_OF', properties={}), Relationship(source=Node(id='Elizabeth Petrovna', type='Person', properties={}), target=Node(id='War Of Austrian Succession', type='Event', properties={}), type='LED_DURING', properties={}), Relationship(source=Node(id='Elizabeth Petrovna', type='Person', properties={}), target=Node(id=\"Seven Years' War\", type='Event', properties={}), type='LED_DURING', properties={}), Relationship(source=Node(id='Elizabeth Petrovna', type='Person', properties={}), target=Node(id='Austria', type='Country', properties={}), type='ALLIANCE_WITH', properties={}), Relationship(source=Node(id='Elizabeth Petrovna', type='Person', properties={}), target=Node(id='France', type='Country', properties={}), type='ALLIANCE_WITH', properties={}), Relationship(source=Node(id='Aleksey Bestuzhev-Ryumin', type='Person', properties={}), target=Node(id='War Of Austrian Succession', type='Event', properties={}), type='SOLVED_WITH', properties={}), Relationship(source=Node(id='Frederick The Great', type='Person', properties={}), target=Node(id=\"Seven Years' War\", type='Event', properties={}), type='OPPOSED', properties={}), Relationship(source=Node(id='Russian Troops', type='Organization', properties={}), target=Node(id='Berlin', type='City', properties={}), type='OCCUPIED', properties={})], source=Document(metadata={'title': 'Elizabeth of Russia', 'summary': \"Elizabeth or Elizaveta Petrovna (Russian: Елизаве́та Петро́вна; 29 December [O.S. 18 December] 1709 – 5 January [O.S. 25 December] 1762) was Empress of Russia from 1741 until her death in 1762. She remains one of the most popular Russian monarchs because of her decision not to execute a single person during her reign, her numerous construction projects, and her strong opposition to Prussian policies.\\nThe second-eldest daughter of Tsar Peter the Great (r.\\u20091682–1725), Elizabeth lived through the confused successions of her father's descendants following her half-brother Alexei's death in 1718. The throne first passed to her mother Catherine I of Russia (r.\\u20091725–1727), then to her nephew Peter II, who died in 1730 and was succeeded by Elizabeth's first cousin Anna (r.\\u20091730–1740). After the brief rule of Anna's infant great-nephew, Ivan VI, Elizabeth seized the throne with the military's support and declared her own nephew, the future Peter III, her heir.\\nDuring her reign Elizabeth continued the policies of her father and brought about a remarkable Age of Enlightenment in Russia. Her domestic policies allowed the nobles to gain dominance in local government while shortening their terms of service to the state. She encouraged Mikhail Lomonosov's foundation of the University of Moscow, the highest-ranking Russian educational institution. Her court became one of the most splendid in all Europe, especially regarding architecture: she modernised Russia's roads, encouraged Ivan Shuvalov's foundation of the Imperial Academy of Arts, and financed grandiose Baroque projects of her favourite architect, Bartolomeo Rastrelli, particularly in Peterhof Palace. The Winter Palace and the Smolny Cathedral in Saint Petersburg are among the chief monuments of her reign.\\nElizabeth led the Russian Empire during the two major European conflicts of her time: the War of Austrian Succession (1740–1748) and the Seven Years' War (1756–1763). She and diplomat Aleksey Bestuzhev-Ryumin solved the first event by forming an alliance with Austria and France, but indirectly caused the second. Russian troops enjoyed several victories against Prussia and briefly occupied Berlin, but when Frederick the Great was finally considering surrender in January 1762, the Russian Empress died. She was the last agnatic member of the House of Romanov to reign over the Russian Empire.\", 'source': 'https://en.wikipedia.org/wiki/Elizabeth_of_Russia'}, page_content=\"Elizabeth or Elizaveta Petrovna (Russian: Елизаве́та Петро́вна; 29 December [O.S. 18 December] 1709 – 5 January [O.S. 25 December] 1762) was Empress of Russia from 1741 until her death in 1762. She remains one of the most popular Russian monarchs because of her decision not to execute a single person during her reign, her numerous construction projects, and her strong opposition to Prussian policies.\\nThe second-eldest daughter of Tsar Peter the Great (r.\\u20091682–1725), Elizabeth lived through the confused successions of her father's descendants following her half-brother Alexei's death in 1718. The throne first passed to her mother Catherine I of Russia (r.\\u20091725–1727), then to her nephew Peter II, who died in 1730 and was succeeded by Elizabeth's first cousin Anna (r.\\u20091730–1740). After the brief rule of Anna's infant great-nephew, Ivan VI, Elizabeth seized the throne with the military's support and declared her own nephew, the future Peter III, her heir.\\nDuring her reign Elizabeth continued the policies of her father and brought about a remarkable Age of Enlightenment in Russia. Her domestic policies allowed the nobles to gain dominance in local government while shortening their terms of service to the state. She encouraged Mikhail Lomonosov's foundation of the University of Moscow, the highest-ranking Russian educational institution. Her court became one of the most splendid in all Europe, especially regarding architecture: she modernised Russia's roads, encouraged Ivan Shuvalov's foundation of the Imperial Academy of Arts, and financed grandiose Baroque projects of her favourite architect, Bartolomeo Rastrelli, particularly in Peterhof Palace. The Winter Palace and the Smolny Cathedral in Saint Petersburg are among the chief monuments of her reign.\\nElizabeth led the Russian Empire during the two major European conflicts of her time: the War of Austrian Succession (1740–1748) and the Seven Years' War (1756–1763). She and diplomat Aleksey Bestuzhev-Ryumin solved the first event by forming an alliance with Austria and France, but indirectly caused the second. Russian troops enjoyed several victories against Prussia and briefly occupied Berlin, but when Frederick the Great was finally considering surrender in January 1762, the Russian Emp\")),\n",
              " GraphDocument(nodes=[Node(id='Russian Empire', type='Empire', properties={}), Node(id='War Of Austrian Succession', type='Event', properties={}), Node(id=\"Seven Years' War\", type='Event', properties={}), Node(id='Elizabeth', type='Person', properties={}), Node(id='Aleksey Bestuzhev-Ryumin', type='Person', properties={}), Node(id='Frederick The Great', type='Person', properties={}), Node(id='House Of Romanov', type='Dynasty', properties={}), Node(id='Kolomenskoye', type='Location', properties={}), Node(id='Moscow', type='Location', properties={}), Node(id='Peter The Great', type='Person', properties={}), Node(id='Catherine', type='Person', properties={}), Node(id='Samuel Skowroński', type='Person', properties={}), Node(id='Grand Duchy Of Lithuania', type='Location', properties={}), Node(id='Cathedral Of The Holy Trinity', type='Location', properties={}), Node(id='Saint Petersburg', type='Location', properties={}), Node(id=\"Saint Isaac'S Cathedral\", type='Location', properties={}), Node(id='Anna', type='Person', properties={}), Node(id='Alexei Petrovich', type='Person', properties={}), Node(id='Eudoxia Lopukhina', type='Person', properties={})], relationships=[Relationship(source=Node(id='Russian Empire', type='Empire', properties={}), target=Node(id='War Of Austrian Succession', type='Event', properties={}), type='INVOLVED_IN', properties={}), Relationship(source=Node(id='Russian Empire', type='Empire', properties={}), target=Node(id=\"Seven Years' War\", type='Event', properties={}), type='INVOLVED_IN', properties={}), Relationship(source=Node(id='Elizabeth', type='Person', properties={}), target=Node(id='Aleksey Bestuzhev-Ryumin', type='Person', properties={}), type='COLLABORATED_WITH', properties={}), Relationship(source=Node(id='Elizabeth', type='Person', properties={}), target=Node(id='Austria', type='Location', properties={}), type='FORMED_ALLIANCE_WITH', properties={}), Relationship(source=Node(id='Elizabeth', type='Person', properties={}), target=Node(id='France', type='Location', properties={}), type='FORMED_ALLIANCE_WITH', properties={}), Relationship(source=Node(id='Russian Troops', type='Group', properties={}), target=Node(id='Prussia', type='Location', properties={}), type='ACHIEVED_VICTORIES_AGAINST', properties={}), Relationship(source=Node(id='Russian Troops', type='Group', properties={}), target=Node(id='Berlin', type='Location', properties={}), type='OCCUPIED', properties={}), Relationship(source=Node(id='Frederick The Great', type='Person', properties={}), target=Node(id='Surrender', type='Event', properties={}), type='CONSIDERED', properties={}), Relationship(source=Node(id='Elizabeth', type='Person', properties={}), target=Node(id='House Of Romanov', type='Dynasty', properties={}), type='MEMBER_OF', properties={}), Relationship(source=Node(id='Elizabeth', type='Person', properties={}), target=Node(id='Kolomenskoye', type='Location', properties={}), type='BORN_IN', properties={}), Relationship(source=Node(id='Elizabeth', type='Person', properties={}), target=Node(id='Moscow', type='Location', properties={}), type='BORN_NEAR', properties={}), Relationship(source=Node(id='Elizabeth', type='Person', properties={}), target=Node(id='Peter The Great', type='Person', properties={}), type='DAUGHTER_OF', properties={}), Relationship(source=Node(id='Elizabeth', type='Person', properties={}), target=Node(id='Catherine', type='Person', properties={}), type='DAUGHTER_OF', properties={}), Relationship(source=Node(id='Catherine', type='Person', properties={}), target=Node(id='Samuel Skowroński', type='Person', properties={}), type='DAUGHTER_OF', properties={}), Relationship(source=Node(id='Samuel Skowroński', type='Person', properties={}), target=Node(id='Grand Duchy Of Lithuania', type='Location', properties={}), type='SUBJECT_OF', properties={}), Relationship(source=Node(id='Peter The Great', type='Person', properties={}), target=Node(id='Catherine', type='Person', properties={}), type='MARRIED_TO', properties={}), Relationship(source=Node(id='Peter The Great', type='Person', properties={}), target=Node(id='Cathedral Of The Holy Trinity', type='Location', properties={}), type='MARRIED_AT', properties={}), Relationship(source=Node(id='Peter The Great', type='Person', properties={}), target=Node(id=\"Saint Isaac'S Cathedral\", type='Location', properties={}), type='MARRIED_AT', properties={}), Relationship(source=Node(id='Anna', type='Person', properties={}), target=Node(id='Elizabeth', type='Person', properties={}), type='SIBLING_OF', properties={}), Relationship(source=Node(id='Alexei Petrovich', type='Person', properties={}), target=Node(id='Peter The Great', type='Person', properties={}), type='SON_OF', properties={}), Relationship(source=Node(id='Eudoxia Lopukhina', type='Person', properties={}), target=Node(id='Peter The Great', type='Person', properties={}), type='MARRIED_TO', properties={})], source=Document(metadata={'title': 'Elizabeth of Russia', 'summary': \"Elizabeth or Elizaveta Petrovna (Russian: Елизаве́та Петро́вна; 29 December [O.S. 18 December] 1709 – 5 January [O.S. 25 December] 1762) was Empress of Russia from 1741 until her death in 1762. She remains one of the most popular Russian monarchs because of her decision not to execute a single person during her reign, her numerous construction projects, and her strong opposition to Prussian policies.\\nThe second-eldest daughter of Tsar Peter the Great (r.\\u20091682–1725), Elizabeth lived through the confused successions of her father's descendants following her half-brother Alexei's death in 1718. The throne first passed to her mother Catherine I of Russia (r.\\u20091725–1727), then to her nephew Peter II, who died in 1730 and was succeeded by Elizabeth's first cousin Anna (r.\\u20091730–1740). After the brief rule of Anna's infant great-nephew, Ivan VI, Elizabeth seized the throne with the military's support and declared her own nephew, the future Peter III, her heir.\\nDuring her reign Elizabeth continued the policies of her father and brought about a remarkable Age of Enlightenment in Russia. Her domestic policies allowed the nobles to gain dominance in local government while shortening their terms of service to the state. She encouraged Mikhail Lomonosov's foundation of the University of Moscow, the highest-ranking Russian educational institution. Her court became one of the most splendid in all Europe, especially regarding architecture: she modernised Russia's roads, encouraged Ivan Shuvalov's foundation of the Imperial Academy of Arts, and financed grandiose Baroque projects of her favourite architect, Bartolomeo Rastrelli, particularly in Peterhof Palace. The Winter Palace and the Smolny Cathedral in Saint Petersburg are among the chief monuments of her reign.\\nElizabeth led the Russian Empire during the two major European conflicts of her time: the War of Austrian Succession (1740–1748) and the Seven Years' War (1756–1763). She and diplomat Aleksey Bestuzhev-Ryumin solved the first event by forming an alliance with Austria and France, but indirectly caused the second. Russian troops enjoyed several victories against Prussia and briefly occupied Berlin, but when Frederick the Great was finally considering surrender in January 1762, the Russian Empress died. She was the last agnatic member of the House of Romanov to reign over the Russian Empire.\", 'source': 'https://en.wikipedia.org/wiki/Elizabeth_of_Russia'}, page_content=' Russian Empire during the two major European conflicts of her time: the War of Austrian Succession (1740–1748) and the Seven Years\\' War (1756–1763). She and diplomat Aleksey Bestuzhev-Ryumin solved the first event by forming an alliance with Austria and France, but indirectly caused the second. Russian troops enjoyed several victories against Prussia and briefly occupied Berlin, but when Frederick the Great was finally considering surrender in January 1762, the Russian Empress died. She was the last agnatic member of the House of Romanov to reign over the Russian Empire.\\n\\n\\n== Early life ==\\n\\n\\n=== Childhood and teenage years ===\\n\\nElizabeth was born at Kolomenskoye, near Moscow, Russia, on 18 December 1709 (O.S.). Her parents were Peter the Great, Tsar of Russia and Catherine. Catherine was the daughter of Samuel Skowroński, a subject of Grand Duchy of Lithuania. Although no documentary record exists, her parents were said to have married secretly at the Cathedral of the Holy Trinity in Saint Petersburg at some point between 23 October and 1 December 1707. Their official marriage was at Saint Isaac\\'s Cathedral in Saint Petersburg on 9 February 1712. On this day, the two children previously born to the couple (Anna and Elizabeth) were legitimised by their father and given the title of Tsarevna (\"princess\") on 6 March 1711. Of the twelve children born to Peter and Catherine (five sons and seven daughters), only the sisters survived to adulthood. They had one older surviving sibling, crown prince Alexei Petrovich, who was Peter\\'s son by his first wife, noblewoman Eudoxia Lopukhina.\\nAs a child, Elizabeth was the favourite of her father, whom she resembled both physically and temperamentally. Even though he adored his daughter, Peter did not devote time or attention to her education; having both a son and grandson from his first marriage to a noblewoman, he did not anticipate that a daughter born to his former maid might one day inherit the Russian throne, which had until that point never been occupied by a woman; as such, it was left to Catherine to raise the girls, a task met with considerable difficulty due to her own lack of education. Despite this, Elizabeth was still ')),\n",
              " GraphDocument(nodes=[Node(id='Queen Elizabeth I', type='Person', properties={}), Node(id='1533–1603', type='Time period', properties={}), Node(id='Early Modern Period', type='Time period', properties={}), Node(id='Evolution Of English Royal Portraits', type='Concept', properties={}), Node(id='Simple Likenesses', type='Concept', properties={}), Node(id='Complex Imagery', type='Concept', properties={}), Node(id='Roses', type='Symbolic object', properties={}), Node(id='Prayer Books', type='Symbolic object', properties={}), Node(id='Globes', type='Symbolic object', properties={}), Node(id='Crowns', type='Symbolic object', properties={}), Node(id='Swords', type='Symbolic object', properties={}), Node(id='Columns', type='Symbolic object', properties={}), Node(id='Moons', type='Symbolic object', properties={}), Node(id='Pearls', type='Symbolic object', properties={}), Node(id='Virgin Queen', type='Concept', properties={}), Node(id='Portrait Miniatures', type='Art tradition', properties={}), Node(id='Panel Paintings', type='Art tradition', properties={}), Node(id='Nicholas Hilliard', type='Person', properties={}), Node(id='George Gower', type='Person', properties={}), Node(id='Cornelis Ketel', type='Person', properties={}), Node(id='Federico Zuccaro', type='Person', properties={}), Node(id='Isaac Oliver', type='Person', properties={}), Node(id='Marcus Gheeraerts The Younger', type='Person', properties={}), Node(id='Government', type='Organization', properties={}), Node(id='Foreign Monarchs', type='Group', properties={}), Node(id='Prospective Suitors', type='Group', properties={}), Node(id='Courtiers', type='Group', properties={}), Node(id='Face Patterns', type='Concept', properties={}), Node(id='France', type='Country', properties={}), Node(id='Long Galleries', type='Place', properties={})], relationships=[Relationship(source=Node(id='Queen Elizabeth I', type='Person', properties={}), target=Node(id='1533–1603', type='Time period', properties={}), type='LIFESPAN', properties={}), Relationship(source=Node(id='Queen Elizabeth I', type='Person', properties={}), target=Node(id='Early Modern Period', type='Time period', properties={}), type='ACTIVE_DURING', properties={}), Relationship(source=Node(id='Early Modern Period', type='Time period', properties={}), target=Node(id='Evolution Of English Royal Portraits', type='Concept', properties={}), type='SPANNED', properties={}), Relationship(source=Node(id='Evolution Of English Royal Portraits', type='Concept', properties={}), target=Node(id='Simple Likenesses', type='Concept', properties={}), type='STARTED_WITH', properties={}), Relationship(source=Node(id='Evolution Of English Royal Portraits', type='Concept', properties={}), target=Node(id='Complex Imagery', type='Concept', properties={}), type='DEVELOPED_INTO', properties={}), Relationship(source=Node(id='Queen Elizabeth I', type='Person', properties={}), target=Node(id='Roses', type='Symbolic object', properties={}), type='CONTAINS', properties={}), Relationship(source=Node(id='Queen Elizabeth I', type='Person', properties={}), target=Node(id='Prayer Books', type='Symbolic object', properties={}), type='CONTAINS', properties={}), Relationship(source=Node(id='Queen Elizabeth I', type='Person', properties={}), target=Node(id='Globes', type='Symbolic object', properties={}), type='CONTAINS', properties={}), Relationship(source=Node(id='Queen Elizabeth I', type='Person', properties={}), target=Node(id='Crowns', type='Symbolic object', properties={}), type='CONTAINS', properties={}), Relationship(source=Node(id='Queen Elizabeth I', type='Person', properties={}), target=Node(id='Swords', type='Symbolic object', properties={}), type='CONTAINS', properties={}), Relationship(source=Node(id='Queen Elizabeth I', type='Person', properties={}), target=Node(id='Columns', type='Symbolic object', properties={}), type='CONTAINS', properties={}), Relationship(source=Node(id='Queen Elizabeth I', type='Person', properties={}), target=Node(id='Moons', type='Symbolic object', properties={}), type='CONTAINS', properties={}), Relationship(source=Node(id='Queen Elizabeth I', type='Person', properties={}), target=Node(id='Pearls', type='Symbolic object', properties={}), type='CONTAINS', properties={}), Relationship(source=Node(id='Queen Elizabeth I', type='Person', properties={}), target=Node(id='Virgin Queen', type='Concept', properties={}), type='KNOWN_AS', properties={}), Relationship(source=Node(id='Portrait Miniatures', type='Art tradition', properties={}), target=Node(id='Watercolours On Vellum', type='Technique', properties={}), type='CHARACTERIZED_BY', properties={}), Relationship(source=Node(id='Panel Paintings', type='Art tradition', properties={}), target=Node(id='Oils On Wood Or Canvas', type='Technique', properties={}), type='CHARACTERIZED_BY', properties={}), Relationship(source=Node(id='Nicholas Hilliard', type='Person', properties={}), target=Node(id='Queen Elizabeth I', type='Person', properties={}), type='OFFICIAL_LIMNER_OF', properties={}), Relationship(source=Node(id='George Gower', type='Person', properties={}), target=Node(id='Queen Elizabeth I', type='Person', properties={}), type='COURT_PORTRAITIST_OF', properties={}), Relationship(source=Node(id='Cornelis Ketel', type='Person', properties={}), target=Node(id='Queen Elizabeth I', type='Person', properties={}), type='PAINTER_OF', properties={}), Relationship(source=Node(id='Federico Zuccaro', type='Person', properties={}), target=Node(id='Queen Elizabeth I', type='Person', properties={}), type='PAINTER_OF', properties={}), Relationship(source=Node(id='Isaac Oliver', type='Person', properties={}), target=Node(id='Queen Elizabeth I', type='Person', properties={}), type='PAINTER_OF', properties={}), Relationship(source=Node(id='Marcus Gheeraerts The Younger', type='Person', properties={}), target=Node(id='Queen Elizabeth I', type='Person', properties={}), type='PAINTER_OF', properties={}), Relationship(source=Node(id='Government', type='Organization', properties={}), target=Node(id='Queen Elizabeth I', type='Person', properties={}), type='COMMISSIONED_PORTRAITS_OF', properties={}), Relationship(source=Node(id='Foreign Monarchs', type='Group', properties={}), target=Node(id='Queen Elizabeth I', type='Person', properties={}), type='PORTRAITS_GIVEN_TO', properties={}), Relationship(source=Node(id='Prospective Suitors', type='Group', properties={}), target=Node(id='Queen Elizabeth I', type='Person', properties={}), type='PORTRAITS_SHOWN_TO', properties={}), Relationship(source=Node(id='Courtiers', type='Group', properties={}), target=Node(id='Queen Elizabeth I', type='Person', properties={}), type='COMMISSIONED_SYMBOLIC_PAINTINGS_OF', properties={}), Relationship(source=Node(id='Face Patterns', type='Concept', properties={}), target=Node(id='Queen Elizabeth I', type='Person', properties={}), type='USED_TO_CREATE_PORTRAITS_OF', properties={}), Relationship(source=Node(id='France', type='Country', properties={}), target=Node(id='Queen Elizabeth I', type='Person', properties={}), type='DID_NOT_GRANT_EXCLUSIVE_PORTRAIT_RIGHTS_TO', properties={}), Relationship(source=Node(id='Long Galleries', type='Place', properties={}), target=Node(id='Queen Elizabeth I', type='Person', properties={}), type='FILLED_WITH_PORTRAITS_OF', properties={})], source=Document(metadata={'title': 'Portraiture of Elizabeth I', 'summary': 'The portraiture of Queen Elizabeth I (1533–1603) spans the evolution of English royal portraits in the early modern period (1400/1500-1800), from the earliest representations of simple likenesses to the later complex imagery used to convey the power and aspirations of the state, as well as of the monarch at its head.\\nEven the earliest portraits of Elizabeth I contain symbolic objects such as roses and prayer books that would have carried meaning to viewers of her day. Later portraits of Elizabeth layer the iconography of empire—globes, crowns, swords and columns—and representations of virginity and purity, such as moons and pearls, with classical allusions, to present a complex \"story\" that conveyed to Elizabethan era viewers the majesty and significance of the \\'Virgin Queen\\'.', 'source': 'https://en.wikipedia.org/wiki/Portraiture_of_Elizabeth_I'}, page_content='The portraiture of Queen Elizabeth I (1533–1603) spans the evolution of English royal portraits in the early modern period (1400/1500-1800), from the earliest representations of simple likenesses to the later complex imagery used to convey the power and aspirations of the state, as well as of the monarch at its head.\\nEven the earliest portraits of Elizabeth I contain symbolic objects such as roses and prayer books that would have carried meaning to viewers of her day. Later portraits of Elizabeth layer the iconography of empire—globes, crowns, swords and columns—and representations of virginity and purity, such as moons and pearls, with classical allusions, to present a complex \"story\" that conveyed to Elizabethan era viewers the majesty and significance of the \\'Virgin Queen\\'.\\n\\n\\n== Overview ==\\n\\n\\n=== Portraiture in Tudor England ===\\n\\nTwo portraiture traditions had arisen in the Tudor court since the days of Elizabeth\\'s father, Henry VIII. The portrait miniature developed from the illuminated manuscript tradition. These small personal images were almost invariably painted from life over the space of a few days in watercolours on vellum, stiffened by being glued to a playing card. Panel paintings in oils on prepared wood surfaces were based on preparatory drawings and were usually executed at life size, as were oil paintings on canvas.\\nUnlike her contemporaries in France, Elizabeth never granted rights to produce her portrait to a single artist, although Nicholas Hilliard was appointed her official limner, or miniaturist and goldsmith. George Gower, a fashionable court portraitist created Serjeant Painter in 1581, was responsible for approving all portraits of the queen created by other artists from 1581 until his death in 1596.\\nElizabeth sat for a number of artists over the years, including Hilliard, Cornelis Ketel, Federico Zuccaro or Zuccari, Isaac Oliver, and most likely to Gower and Marcus Gheeraerts the Younger. Portraits were commissioned by the government as gifts to foreign monarchs and to show to prospective suitors. Courtiers commissioned heavily symbolic paintings to demonstrate their devotion to the queen, and the fashionable long galleries of later Elizabethan country houses were filled with sets of portraits. The studios of Tudor artists produced images of Elizabeth working from approved \"face patterns\", or approved drawings of the queen, to meet this growing demand for her image, an important symbol of loyalty and reverence for the crown in times of turbulence.\\n\\n\\n=== European context ===')),\n",
              " GraphDocument(nodes=[Node(id='Government', type='Organization', properties={}), Node(id='Foreign Monarchs', type='Organization', properties={}), Node(id='Courtiers', type='Person', properties={}), Node(id='Paintings', type='Art', properties={}), Node(id='Tudor Artists', type='Person', properties={}), Node(id='Images', type='Art', properties={}), Node(id='Hans Holbein The Younger', type='Person', properties={}), Node(id='Henry Viii', type='Person', properties={}), Node(id='Elizabethan Artists', type='Person', properties={}), Node(id='Titian', type='Person', properties={}), Node(id='Portraits', type='Art', properties={}), Node(id='Philip Ii Of Spain', type='Person', properties={})], relationships=[Relationship(source=Node(id='Government', type='Organization', properties={}), target=Node(id='Foreign Monarchs', type='Organization', properties={}), type='GIFT', properties={}), Relationship(source=Node(id='Courtiers', type='Person', properties={}), target=Node(id='Paintings', type='Art', properties={}), type='COMMISSIONED', properties={}), Relationship(source=Node(id='Tudor Artists', type='Person', properties={}), target=Node(id='Images', type='Art', properties={}), type='PRODUCED', properties={}), Relationship(source=Node(id='Hans Holbein The Younger', type='Person', properties={}), target=Node(id='Henry Viii', type='Person', properties={}), type='COURT_ARTIST_OF', properties={}), Relationship(source=Node(id='Hans Holbein The Younger', type='Person', properties={}), target=Node(id='Elizabethan Artists', type='Person', properties={}), type='INFLUENCED', properties={}), Relationship(source=Node(id='Titian', type='Person', properties={}), target=Node(id='Portraits', type='Art', properties={}), type='PAINTED', properties={}), Relationship(source=Node(id='Titian', type='Person', properties={}), target=Node(id='Philip Ii Of Spain', type='Person', properties={}), type='PAINTED_PORTRAITS_FOR', properties={})], source=Document(metadata={'title': 'Portraiture of Elizabeth I', 'summary': 'The portraiture of Queen Elizabeth I (1533–1603) spans the evolution of English royal portraits in the early modern period (1400/1500-1800), from the earliest representations of simple likenesses to the later complex imagery used to convey the power and aspirations of the state, as well as of the monarch at its head.\\nEven the earliest portraits of Elizabeth I contain symbolic objects such as roses and prayer books that would have carried meaning to viewers of her day. Later portraits of Elizabeth layer the iconography of empire—globes, crowns, swords and columns—and representations of virginity and purity, such as moons and pearls, with classical allusions, to present a complex \"story\" that conveyed to Elizabethan era viewers the majesty and significance of the \\'Virgin Queen\\'.', 'source': 'https://en.wikipedia.org/wiki/Portraiture_of_Elizabeth_I'}, page_content=' the government as gifts to foreign monarchs and to show to prospective suitors. Courtiers commissioned heavily symbolic paintings to demonstrate their devotion to the queen, and the fashionable long galleries of later Elizabethan country houses were filled with sets of portraits. The studios of Tudor artists produced images of Elizabeth working from approved \"face patterns\", or approved drawings of the queen, to meet this growing demand for her image, an important symbol of loyalty and reverence for the crown in times of turbulence.\\n\\n\\n=== European context ===\\n\\nBy far the most impressive models of portraiture available to English portraitists were the many portraits by Hans Holbein the Younger, the outstanding Northern portraitist of the first half of the 16th century, who had made two lengthy visits to England, and had been Henry VIII\\'s court artist. Holbein had accustomed the English court to the full-length life-size portrait, although none of his originals now survive. His great dynastic mural at Whitehall Palace, destroyed in 1698, and perhaps other original large portraits, would have been familiar to Elizabethan artists.\\nBoth Holbein and his great Italian contemporary Titian had combined great psychological penetration with a sufficiently majestic impression to satisfy their royal patrons. By his second visit, Holbein had already begun to move away from a strictly realist depiction; in his Jane Seymour, \"the figure is no longer seen as displacing with its bulk a recognizable section of space: it approaches rather to a flat pattern, made alive by a bounding and vital outline\". This tendency was to be taken much further by the later portraits of Elizabeth, where \"Likeness of feature and an interest in form and volume have gradually been abandoned in favour of an effect of splendid majesty obtained by decorative pattern, and the forms have been flattened accordingly\".\\n\\nTitian continued to paint royal portraits, especially of Philip II of Spain, until the 1570s, but in sharply reduce'))]"
            ]
          },
          "metadata": {},
          "execution_count": 29
        }
      ]
    },
    {
      "cell_type": "code",
      "source": [
        "## add to neo4j graph db\n",
        "graph.add_graph_documents(\n",
        "    graph_docs,\n",
        "    baseEntityLabel=True,\n",
        "    include_source=True,\n",
        ")"
      ],
      "metadata": {
        "id": "TTYb2VGp4EIo"
      },
      "execution_count": 30,
      "outputs": []
    },
    {
      "cell_type": "code",
      "source": [
        "# show graph result using cypher query\n",
        "default_cypher_query = \"MATCH (s)-[r:!MENTIONS]->(t) RETURN s,r,t LIMIT 50\""
      ],
      "metadata": {
        "id": "qFxb51Ss4EHE"
      },
      "execution_count": 35,
      "outputs": []
    },
    {
      "cell_type": "markdown",
      "source": [
        "### Widget enabled\n",
        "* This below is essential to enable custom widgets within the Colab environment, allowing you to display and interact with the graph visualization generated by your code."
      ],
      "metadata": {
        "id": "eXx2w2x67O1g"
      }
    },
    {
      "cell_type": "code",
      "source": [
        "#from langchain_neo4j import Neo4jGraph\n",
        "from neo4j import GraphDatabase\n",
        "from yfiles_jupyter_graphs import GraphWidget"
      ],
      "metadata": {
        "id": "nahbx3957jki"
      },
      "execution_count": 39,
      "outputs": []
    },
    {
      "cell_type": "code",
      "source": [
        "## widget manager\n",
        "try:\n",
        "  import google.colab\n",
        "  from google.colab import output\n",
        "  output.enable_custom_widget_manager()\n",
        "except:\n",
        "  pass"
      ],
      "metadata": {
        "id": "5MQ4RV_b6-pX"
      },
      "execution_count": 37,
      "outputs": []
    },
    {
      "cell_type": "code",
      "source": [
        "## show graph\n",
        "def showGraph(cypher: str=default_cypher_query):\n",
        "  ## init neo4j driver session\n",
        "  driver = GraphDatabase.driver(\n",
        "      uri=os.environ['NEO4J_URI'],\n",
        "      auth=(os.environ[\"NEO4J_USERNAME\"],\n",
        "            os.environ[\"NEO4J_PASSWORD\"]))\n",
        "\n",
        "  ## init session\n",
        "  session = driver.session()\n",
        "  widget = GraphWidget(graph=session.run(cypher).graph())\n",
        "  widget.node_label_mapping = 'id'\n",
        "  display(widget)\n",
        "  return widget\n"
      ],
      "metadata": {
        "id": "IRyLuK-z4EEv"
      },
      "execution_count": 42,
      "outputs": []
    },
    {
      "cell_type": "code",
      "source": [
        "## show the graph\n",
        "showGraph()"
      ],
      "metadata": {
        "colab": {
          "base_uri": "https://localhost:8080/",
          "height": 1000,
          "referenced_widgets": [
            "f85cc524439d48adb739da104ddf3b3a",
            "7163211fb75444c085215797711d98a9"
          ]
        },
        "id": "tcA2eyH65O0u",
        "outputId": "e0836347-516c-43e1-e41a-3966c5371441"
      },
      "execution_count": 43,
      "outputs": [
        {
          "output_type": "display_data",
          "data": {
            "text/plain": [
              "GraphWidget(layout=Layout(height='800px', width='100%'))"
            ],
            "application/vnd.jupyter.widget-view+json": {
              "version_major": 2,
              "version_minor": 0,
              "model_id": "f85cc524439d48adb739da104ddf3b3a"
            }
          },
          "metadata": {
            "application/vnd.jupyter.widget-view+json": {
              "colab": {
                "custom_widget_manager": {
                  "url": "https://ssl.gstatic.com/colaboratory-static/widgets/colab-cdn-widget-manager/2b70e893a8ba7c0f/manager.min.js"
                }
              }
            }
          }
        },
        {
          "output_type": "display_data",
          "data": {
            "text/plain": [
              "GraphWidget(layout=Layout(height='800px', width='100%'))"
            ],
            "application/vnd.jupyter.widget-view+json": {
              "version_major": 2,
              "version_minor": 0,
              "model_id": "f85cc524439d48adb739da104ddf3b3a"
            }
          },
          "metadata": {
            "application/vnd.jupyter.widget-view+json": {
              "colab": {
                "custom_widget_manager": {
                  "url": "https://ssl.gstatic.com/colaboratory-static/widgets/colab-cdn-widget-manager/2b70e893a8ba7c0f/manager.min.js"
                }
              }
            }
          }
        }
      ]
    },
    {
      "cell_type": "markdown",
      "source": [
        "# Retrievers\n",
        "* We have to create 3 retrieverrs\n",
        "1. Unstructured Data Retriever (vectors & keywords)\n",
        "2. Graph Retriever (knowledge graph in neo4j)\n",
        "3. Final Retriever (brings it all together for input to LLM)\n",
        "\n",
        "\n",
        "## 1. Unstructured Data Retriever\n",
        "* Now we create a vector index. This is the same step we do in most RAG applications is creating vector embeddings.\n",
        "* The purpose of this is to create a hybrid search allowing both:\n",
        "\n",
        "1. Keyword retrieval\n",
        "2. Vector embeddings retrieval\n"
      ],
      "metadata": {
        "id": "0-SN_eSH8uJ7"
      }
    },
    {
      "cell_type": "code",
      "source": [
        "from langchain_huggingface.embeddings import HuggingFaceEmbeddings ## use hugging face open source embeddings\n",
        "from sentence_transformers import SentenceTransformer, util\n",
        "\n",
        "## create embeddings\n",
        "embeddings=HuggingFaceEmbeddings(model_name=\"all-MiniLM-L6-v2\")"
      ],
      "metadata": {
        "colab": {
          "base_uri": "https://localhost:8080/",
          "height": 17,
          "referenced_widgets": [
            "1b708b94f2e54551a3d48dffbc08a554",
            "dc268d3e6ec1488ab92b34ec14ab93e0",
            "7c378cfd3d024b62998adda839cd43ca",
            "e1c1322ea07e4692bb61e1654f7a475f",
            "da06083050ff43d68bfbc45fca9a672d",
            "9dfa5fd819434595a540d030844efb47",
            "c0b660b248934d86882a79ed45c33390",
            "90737e69b7264d02a46b957de4f7c297",
            "5f95fe46f0884a60a9e5d53e0c685a63",
            "9e6a3e46022c41a68b705318a1d61a16",
            "106a4b27340e4be8a098083d244c4519",
            "41e62a6f95b9406986f290efaf4d6ea0",
            "6e4e4c5e3c9c47bd8b9b7804a9e02520",
            "4816716455e94f3a9e9fc5731901a835",
            "281806b41bf04582b0a8d8429de927c5",
            "1e760f29e1cb4231b593d70b4a871123",
            "5ace8badb516488a881855554c26834f",
            "f62ff5594ef94b208f66f06aff7475c9",
            "3cea40b397224796a317a13dedc1270a",
            "cb0bff8bebd046fc8771357b649ee6cf",
            "49b3e71eca2641a1b31265b911853fdc",
            "da0b653cb09744b8bc939d4073f89a60",
            "b7dac1fb135b49269ce6d1eab7196de2",
            "8ae091a93d8041ac883485db7bc5b878",
            "a30f8b8fed1840fa9169dbdac18799d7",
            "46369594f550429f842e6800b866a84d",
            "beb08784b5c04b0d955f8828c15cc670",
            "c630a3e6f46c4d96b08e99ee6f05ba1d",
            "aace1fb192294cb095c0de8c600764be",
            "0d007cac36d4429aa87fe40e8327a9d2",
            "366f1412b713433db193cb8980d291d2",
            "70ec33ea4df94f6dba0698f130ef4f0c",
            "3fe9d97e7b15443888de7d242dacaa7f",
            "554a88ecc6614e4eba2dcd1562a21f25",
            "e78cca1bad1b43d89ad37b6d2f789b00",
            "9a1d1bcc7d1e435892fb7f9f3b873d35",
            "c084780ec95244e5a5e76e0a019e8513",
            "8e44340a6fec45a3903e3fa73db88af6",
            "1bb5b5df3bdf4a889d822357a03b0d32",
            "531151fa08e640058b68b3b1674f21c5",
            "e88fcc9f7b9241d8804a01079e9adf3e",
            "d187d4c35d294e479c2526ea9e9e3d22",
            "dd2d12f7b8f349d58759d3db832172e1",
            "2c1d7813d8a34f55903ab789a8d073e1",
            "379fc23c5a864e33aeae79ba05a576f4",
            "a67d2f7a4674494aa6434ecd099dfecf",
            "78d6135c0788404882ccf99e784f80e6",
            "f9035fc4a6894743905a572450cf8f05",
            "3f79586dcd3546b8bdea2f94bc21e5d6",
            "5a2e050840ed421498bf4eff8627306b",
            "1731055bf1ba4ca599e4ad874e680380",
            "9b7cf1b2fef946a9909522752bd4bd63",
            "166d2662ac2b455e9c8303e3c0ae93f8",
            "30f9397a7c79412c96ffeaaa77deab24",
            "5ae2b5e7ee0241abbccc5e25dafe32ac",
            "88acc47fc0e74ed78fe050122775b1aa",
            "67be7fe46e5a486b83dc6ff9eb6b0419",
            "b94d6c2aa47942708ef9cb355541e199",
            "1041b594a69a40f6b3731b45014d29c5",
            "1322dcf10e5f4413b486092efa039419",
            "5f04086909164b648fc2573a50b9a5b5",
            "b9751f10235b48e6a7cf450b4504f877",
            "82aa9d72875d4defae1c774657b95516",
            "ee968b7d897146c48617b7eb62be61e4",
            "b7af3be1a8f84519b0e8623e974af631",
            "ff304dea4fbd41a887cdde1abca93035",
            "8e30e2344f65433ba53577cd02dd00d2",
            "1641fdecfa7e41c0b2858538fab2dbd1",
            "d019441d3a7d465bb417ca6b85a0f6de",
            "3b3b051ba9bd4eb89da674e6733876d2",
            "e4a50488e1ec4ebfbe9db373951924a8",
            "041b78820ee54973a2d1a1c12b31d925",
            "fbb7686e4d844ee8994b80465f0da8e6",
            "bae10fd0f0974ab38c82217919d9a2cf",
            "32893bdc2e8c4f10ac962c1ff8646ec9",
            "7c2e87b4a12b4ad5b18b92c37e1313f9",
            "b9dde3456a7f418a919dd61021732c4b",
            "f85e3302fc554ee78379b6c5fe94e69e",
            "edbbdfc6d1ea42fab31aeaaa12552dd0",
            "edd3a4d3dfd84e19a2a6ac6d170fe393",
            "353caa02ea7843fbac166cb4f68f2aa6",
            "08ce5c8095694fbf8bc5b68dfc6bf9b6",
            "24a1de3a01f44155b84a4fd52ffeeff7",
            "3a0001437dee41cc82fe79c2930d6284",
            "3efce7e291dc470682468651cc0a7533",
            "3845611e0fc44301a135e4c639b546ee",
            "5f5a9c955e734ade9cb444ac68525d80",
            "2c3a0a3b7a6c428e9c994583cc2dd7c2",
            "618492619ffe4fd591f623a9caa30bf1",
            "eccc160c204949d6b4ee594a5133c7e4",
            "4b00e86150d943b59880d33eb3b0f80d",
            "89249dc4bf394ca3a97ea6796c4b5f28",
            "59540becfb014ba79b4e5e667ef2b82e",
            "d1c752f00580482d9679d649a3dd10bb",
            "defd03d1a88e40bcb1b6ebb3a43a54b8",
            "86a172c70c074715919d17cb349c38ac",
            "b44ef84bfd7744089cc94355a49f878e",
            "1a0b01cce8c74783aacb468b4535a110",
            "4ef472a17f6c42c99bf50155cc18210d",
            "69139a46324a42509c1b56791c7ebfb6",
            "f561f15cb4eb474ab724ddb377bae765",
            "fdfcfd9ac38c4ca4b59ff02c9933e079",
            "84e9330b9a0a46fdadcd921cbc4e893f",
            "181bb8905add403982146dbf0a00b737",
            "f2e7686592e44eb89edb437f538de17b",
            "603efdda59104981bd4dbc4c198cf15e",
            "2e67db6a706e4bb5aabba1f6c5075ba9",
            "e009db71749540ed9cc396eb6b08a5ed",
            "d49d02d59f02472486d897c543fb467e",
            "2f7f7462f9e94fe190ab9ed914259478",
            "3cb4637c826247c98ac71ff1c190a827",
            "1ed709cbb2f247d79b4c50a40e18b9e1",
            "98c3673d3ffb43ce9e2a0494b5764c85",
            "69caa261344b4925b66570997dc91f69",
            "27ad8b77759b4e76aeff62ef177bdd98",
            "36723d5cad0a4cf3a30d9f22a41327ab",
            "a6b675890eb0404e93dc6bf6a7cce1c9",
            "0518989f39d64694a4e6f81dc7e0c008",
            "c8f1334fa653407d92acb3f96d8d1271",
            "a6b4223e22e247a8974a56386255ad62",
            "1ea61dee6a7a49cf931ee08ad4c3994a"
          ]
        },
        "id": "YSxLu4d6-dia",
        "outputId": "6c78f5d5-bee5-4827-8416-9e16721a1ce3"
      },
      "execution_count": 46,
      "outputs": [
        {
          "output_type": "display_data",
          "data": {
            "text/plain": [
              "modules.json:   0%|          | 0.00/349 [00:00<?, ?B/s]"
            ],
            "application/vnd.jupyter.widget-view+json": {
              "version_major": 2,
              "version_minor": 0,
              "model_id": "1b708b94f2e54551a3d48dffbc08a554"
            }
          },
          "metadata": {
            "application/vnd.jupyter.widget-view+json": {
              "colab": {
                "custom_widget_manager": {
                  "url": "https://ssl.gstatic.com/colaboratory-static/widgets/colab-cdn-widget-manager/2b70e893a8ba7c0f/manager.min.js"
                }
              }
            }
          }
        },
        {
          "output_type": "display_data",
          "data": {
            "text/plain": [
              "config_sentence_transformers.json:   0%|          | 0.00/116 [00:00<?, ?B/s]"
            ],
            "application/vnd.jupyter.widget-view+json": {
              "version_major": 2,
              "version_minor": 0,
              "model_id": "da0b653cb09744b8bc939d4073f89a60"
            }
          },
          "metadata": {
            "application/vnd.jupyter.widget-view+json": {
              "colab": {
                "custom_widget_manager": {
                  "url": "https://ssl.gstatic.com/colaboratory-static/widgets/colab-cdn-widget-manager/2b70e893a8ba7c0f/manager.min.js"
                }
              }
            }
          }
        },
        {
          "output_type": "display_data",
          "data": {
            "text/plain": [
              "README.md:   0%|          | 0.00/10.7k [00:00<?, ?B/s]"
            ],
            "application/vnd.jupyter.widget-view+json": {
              "version_major": 2,
              "version_minor": 0,
              "model_id": "3fe9d97e7b15443888de7d242dacaa7f"
            }
          },
          "metadata": {
            "application/vnd.jupyter.widget-view+json": {
              "colab": {
                "custom_widget_manager": {
                  "url": "https://ssl.gstatic.com/colaboratory-static/widgets/colab-cdn-widget-manager/2b70e893a8ba7c0f/manager.min.js"
                }
              }
            }
          }
        },
        {
          "output_type": "display_data",
          "data": {
            "text/plain": [
              "sentence_bert_config.json:   0%|          | 0.00/53.0 [00:00<?, ?B/s]"
            ],
            "application/vnd.jupyter.widget-view+json": {
              "version_major": 2,
              "version_minor": 0,
              "model_id": "2c1d7813d8a34f55903ab789a8d073e1"
            }
          },
          "metadata": {
            "application/vnd.jupyter.widget-view+json": {
              "colab": {
                "custom_widget_manager": {
                  "url": "https://ssl.gstatic.com/colaboratory-static/widgets/colab-cdn-widget-manager/2b70e893a8ba7c0f/manager.min.js"
                }
              }
            }
          }
        },
        {
          "output_type": "display_data",
          "data": {
            "text/plain": [
              "config.json:   0%|          | 0.00/612 [00:00<?, ?B/s]"
            ],
            "application/vnd.jupyter.widget-view+json": {
              "version_major": 2,
              "version_minor": 0,
              "model_id": "5ae2b5e7ee0241abbccc5e25dafe32ac"
            }
          },
          "metadata": {
            "application/vnd.jupyter.widget-view+json": {
              "colab": {
                "custom_widget_manager": {
                  "url": "https://ssl.gstatic.com/colaboratory-static/widgets/colab-cdn-widget-manager/2b70e893a8ba7c0f/manager.min.js"
                }
              }
            }
          }
        },
        {
          "output_type": "display_data",
          "data": {
            "text/plain": [
              "model.safetensors:   0%|          | 0.00/90.9M [00:00<?, ?B/s]"
            ],
            "application/vnd.jupyter.widget-view+json": {
              "version_major": 2,
              "version_minor": 0,
              "model_id": "ff304dea4fbd41a887cdde1abca93035"
            }
          },
          "metadata": {
            "application/vnd.jupyter.widget-view+json": {
              "colab": {
                "custom_widget_manager": {
                  "url": "https://ssl.gstatic.com/colaboratory-static/widgets/colab-cdn-widget-manager/2b70e893a8ba7c0f/manager.min.js"
                }
              }
            }
          }
        },
        {
          "output_type": "display_data",
          "data": {
            "text/plain": [
              "tokenizer_config.json:   0%|          | 0.00/350 [00:00<?, ?B/s]"
            ],
            "application/vnd.jupyter.widget-view+json": {
              "version_major": 2,
              "version_minor": 0,
              "model_id": "b9dde3456a7f418a919dd61021732c4b"
            }
          },
          "metadata": {
            "application/vnd.jupyter.widget-view+json": {
              "colab": {
                "custom_widget_manager": {
                  "url": "https://ssl.gstatic.com/colaboratory-static/widgets/colab-cdn-widget-manager/2b70e893a8ba7c0f/manager.min.js"
                }
              }
            }
          }
        },
        {
          "output_type": "display_data",
          "data": {
            "text/plain": [
              "vocab.txt:   0%|          | 0.00/232k [00:00<?, ?B/s]"
            ],
            "application/vnd.jupyter.widget-view+json": {
              "version_major": 2,
              "version_minor": 0,
              "model_id": "2c3a0a3b7a6c428e9c994583cc2dd7c2"
            }
          },
          "metadata": {
            "application/vnd.jupyter.widget-view+json": {
              "colab": {
                "custom_widget_manager": {
                  "url": "https://ssl.gstatic.com/colaboratory-static/widgets/colab-cdn-widget-manager/2b70e893a8ba7c0f/manager.min.js"
                }
              }
            }
          }
        },
        {
          "output_type": "display_data",
          "data": {
            "text/plain": [
              "tokenizer.json:   0%|          | 0.00/466k [00:00<?, ?B/s]"
            ],
            "application/vnd.jupyter.widget-view+json": {
              "version_major": 2,
              "version_minor": 0,
              "model_id": "4ef472a17f6c42c99bf50155cc18210d"
            }
          },
          "metadata": {
            "application/vnd.jupyter.widget-view+json": {
              "colab": {
                "custom_widget_manager": {
                  "url": "https://ssl.gstatic.com/colaboratory-static/widgets/colab-cdn-widget-manager/2b70e893a8ba7c0f/manager.min.js"
                }
              }
            }
          }
        },
        {
          "output_type": "display_data",
          "data": {
            "text/plain": [
              "special_tokens_map.json:   0%|          | 0.00/112 [00:00<?, ?B/s]"
            ],
            "application/vnd.jupyter.widget-view+json": {
              "version_major": 2,
              "version_minor": 0,
              "model_id": "2f7f7462f9e94fe190ab9ed914259478"
            }
          },
          "metadata": {
            "application/vnd.jupyter.widget-view+json": {
              "colab": {
                "custom_widget_manager": {
                  "url": "https://ssl.gstatic.com/colaboratory-static/widgets/colab-cdn-widget-manager/2b70e893a8ba7c0f/manager.min.js"
                }
              }
            }
          }
        },
        {
          "output_type": "display_data",
          "data": {
            "text/plain": [
              "1_Pooling/config.json:   0%|          | 0.00/190 [00:00<?, ?B/s]"
            ],
            "application/vnd.jupyter.widget-view+json": {
              "version_major": 2,
              "version_minor": 0,
              "model_id": "1ea61dee6a7a49cf931ee08ad4c3994a"
            }
          },
          "metadata": {}
        }
      ]
    },
    {
      "cell_type": "code",
      "source": [
        "from langchain_community.vectorstores import Neo4jVector\n",
        "\n",
        "## create vector index for Neo4j\n",
        "vector_index = Neo4jVector.from_existing_graph(\n",
        "    embedding=embeddings, ## your embedding model here\n",
        "    search_type=\"hybrid\",\n",
        "    node_label=\"Document\",\n",
        "    text_node_properties=[\"text\"],\n",
        "    embedding_node_property=\"embedding\"\n",
        ")"
      ],
      "metadata": {
        "id": "6KBVTX1t7tfv"
      },
      "execution_count": 55,
      "outputs": []
    },
    {
      "cell_type": "markdown",
      "source": [
        "## 2. Graph Retriever\n",
        "* This uses full text to index the respective nearest neighbors/nodes for the entity/entities that were matched to the query."
      ],
      "metadata": {
        "id": "GOLfIFaw_6XU"
      }
    },
    {
      "cell_type": "code",
      "source": [
        "from langchain_core.pydantic_v1 import BaseModel, Field\n",
        "from typing import Tuple, List, Optional\n",
        "from langchain_core.prompts import ChatPromptTemplate\n",
        "from langchain_core.prompts.prompt import PromptTemplate\n",
        "\n",
        "## pydantic class --> extract entities from text\n",
        "class Entities(BaseModel):\n",
        "  \"\"\"\n",
        "  Identifies information about the entities.\"\"\"\n",
        "  names: List[str] = Field(\n",
        "      ...,\n",
        "      description=\"All the person, organization, or business entities that appear in the text\",\n",
        "  )\n",
        "\n",
        "## prompt template\n",
        "prompt = ChatPromptTemplate.from_messages(\n",
        "    [\n",
        "        (\n",
        "        \"system\",\n",
        "        \"You are extracting organization and person entities from the text.\",\n",
        "        ),\n",
        "        (\n",
        "        \"human\",\n",
        "        \"Use the given format to extract information from the following\"\n",
        "        \"input: {question}\",\n",
        "        ),\n",
        "\n",
        "    ]\n",
        ")\n",
        "## create entity chain with LCEL syntax\n",
        "entity_chain = (prompt\n",
        "                  |\n",
        "                llm.with_structured_output(Entities))"
      ],
      "metadata": {
        "id": "9xqRQV5n_16H"
      },
      "execution_count": 57,
      "outputs": []
    },
    {
      "cell_type": "markdown",
      "source": [
        "### Testing the retriever - can we detect entities?"
      ],
      "metadata": {
        "id": "XIFgzQ4PCee9"
      }
    },
    {
      "cell_type": "code",
      "source": [
        "#from langchain_community.vectorstores.neo4j_vector import remove_lucene_chars\n",
        "\n",
        "entities_test = entity_chain.invoke({\"question\": \"Lebron James plays in the NBA and lives in Los Angeles, CA. Nike sells him shoes.\"})\n",
        "entities_test"
      ],
      "metadata": {
        "colab": {
          "base_uri": "https://localhost:8080/"
        },
        "id": "meJzt-8pB67D",
        "outputId": "cabd697a-3a37-4023-f16c-473b8b448ef9"
      },
      "execution_count": 62,
      "outputs": [
        {
          "output_type": "execute_result",
          "data": {
            "text/plain": [
              "Entities(names=['Lebron James', 'NBA', 'Nike'])"
            ]
          },
          "metadata": {},
          "execution_count": 62
        }
      ]
    },
    {
      "cell_type": "markdown",
      "source": [
        "Summary\n",
        "* This is just testing the prompt to the LLM chain it is not testing our neo4j vector store. But, we can see that it extracted the name from the chain which is Lebron James."
      ],
      "metadata": {
        "id": "LlWQ1N30CyEn"
      }
    },
    {
      "cell_type": "markdown",
      "source": [
        "### Full index mapping entities to knowledge graph\n"
      ],
      "metadata": {
        "id": "EAS6GRTPnnOK"
      }
    },
    {
      "cell_type": "code",
      "source": [
        "graph.query(\n",
        "    \"CREATE FULLTEXT INDEX entity IF NOT EXISTS FOR (e:__Entity__) ON EACH [e.id]\")\n",
        "\n",
        "def generate_full_text_query(input: str) -> str:\n",
        "    \"\"\"\n",
        "    Generate a full-text search query for a given input string.\n",
        "\n",
        "    \"\"\"\n",
        "    full_text_query = \"\"\n",
        "    words = [el for el in remove_lucene_chars(input).split() if el]\n",
        "    for word in words[:-1]:\n",
        "        full_text_query += f\" {word}~2 AND\"\n",
        "    full_text_query += f\" {words[-1]}~2\"\n",
        "    return full_text_query.strip()\n"
      ],
      "metadata": {
        "id": "drooON66CK_f"
      },
      "execution_count": 63,
      "outputs": []
    },
    {
      "cell_type": "code",
      "source": [
        "from langchain_neo4j.vectorstores.neo4j_vector import remove_lucene_chars\n",
        "\n",
        "# Fulltext index query\n",
        "def structured_retriever(question: str) -> str:\n",
        "    \"\"\"\n",
        "    Collects the neighborhood of entities mentioned\n",
        "    in the question\n",
        "    \"\"\"\n",
        "    result = \"\"\n",
        "    entities = entity_chain.invoke({\"question\": question})\n",
        "    for entity in entities.names:\n",
        "        response = graph.query(\n",
        "            \"\"\"CALL db.index.fulltext.queryNodes('entity', $query, {limit:2})\n",
        "            YIELD node,score\n",
        "            CALL {\n",
        "              MATCH (node)-[r:!MENTIONS]->(neighbor)\n",
        "              RETURN node.id + ' - ' + type(r) + ' -> ' + neighbor.id AS output\n",
        "              UNION\n",
        "              MATCH (node)<-[r:!MENTIONS]-(neighbor)\n",
        "              RETURN neighbor.id + ' - ' + type(r) + ' -> ' +  node.id AS output\n",
        "            }\n",
        "            RETURN output LIMIT 50\n",
        "            \"\"\",\n",
        "            {\"query\": generate_full_text_query(entity)},\n",
        "        )\n",
        "        result += \"\\n\".join([el['output'] for el in response])\n",
        "    return result"
      ],
      "metadata": {
        "id": "HgCVKbGBnx7C"
      },
      "execution_count": 68,
      "outputs": []
    },
    {
      "cell_type": "markdown",
      "source": [
        "### Testing the Retriever in the graph"
      ],
      "metadata": {
        "id": "J2SB4rL8n4cn"
      }
    },
    {
      "cell_type": "code",
      "source": [
        "print(structured_retriever(\"Who is Elizabeth I?\"))"
      ],
      "metadata": {
        "colab": {
          "base_uri": "https://localhost:8080/"
        },
        "id": "2v1ezbnon6Vg",
        "outputId": "fabff997-80d2-4129-8e0b-b5e0bdc0add3"
      },
      "execution_count": 69,
      "outputs": [
        {
          "output_type": "stream",
          "name": "stderr",
          "text": [
            "WARNING:neo4j.notifications:Received notification from DBMS server: {severity: WARNING} {code: Neo.ClientNotification.Statement.FeatureDeprecationWarning} {category: DEPRECATION} {title: This feature is deprecated and will be removed in future versions.} {description: CALL subquery without a variable scope clause is now deprecated. Use CALL () { ... }} {position: line: 3, column: 13, offset: 104} for query: \"CALL db.index.fulltext.queryNodes('entity', $query, {limit:2})\\n            YIELD node,score\\n            CALL {\\n              MATCH (node)-[r:!MENTIONS]->(neighbor)\\n              RETURN node.id + ' - ' + type(r) + ' -> ' + neighbor.id AS output\\n              UNION\\n              MATCH (node)<-[r:!MENTIONS]-(neighbor)\\n              RETURN neighbor.id + ' - ' + type(r) + ' -> ' +  node.id AS output\\n            }\\n            RETURN output LIMIT 50\\n            \"\n"
          ]
        },
        {
          "output_type": "stream",
          "name": "stdout",
          "text": [
            "Elizabeth I - QUEEN_OF -> Queen Of England\n",
            "Elizabeth I - QUEEN_OF -> Ireland\n",
            "Elizabeth I - MEMBER_OF -> House Of Tudor\n",
            "Elizabeth I - DAUGHTER_OF -> Henry Viii\n",
            "Elizabeth I - DAUGHTER_OF -> Anne Boleyn\n",
            "Elizabeth I - SUCCEEDED -> Edward Vi\n",
            "Elizabeth I - SUCCEEDED -> Mary I\n",
            "Elizabeth I - SUCCEEDED -> Lady Jane Grey\n",
            "Elizabeth I - ADVISED_BY -> William Cecil\n",
            "Elizabeth I - ESTABLISHED -> English Protestant Church\n",
            "Elizabeth I - SUCCEEDED_BY -> James Vi Of Scotland\n",
            "Elizabeth I - PROTECTED_BY -> Sir Francis Walsingham\n",
            "Elizabeth I - MOTTO_OF -> Video Et Taceo\n",
            "William Cecil - CREATED_AS -> Baron Burghley\n",
            "English Protestant Church - EVOLVED_INTO -> Church Of England\n",
            "Elizabeth - MEMBER_OF -> House Of Romanov\n",
            "Elizabeth - DAUGHTER_OF -> Peter The Great\n",
            "Elizabeth - DAUGHTER_OF -> Catherine\n",
            "Elizabeth - MOTTO -> Video Et Taceo\n",
            "Elizabeth - MINISTER -> Sir Francis Walsingham\n",
            "Elizabeth - MANOEUVERED_BETWEEN -> France\n",
            "Elizabeth - MANOEUVERED_BETWEEN -> Spain\n",
            "Elizabeth - SUPPORTED_MILITARY_CAMPAIGNS_IN -> Ireland\n",
            "Elizabeth - SUPPORTED_MILITARY_CAMPAIGNS_IN -> France\n",
            "Elizabeth - SUPPORTED_MILITARY_CAMPAIGNS_IN -> Netherlands\n",
            "Elizabeth - CELEBRATED_WITH -> Cult Of Personality\n",
            "Elizabeth - CELEBRATED_WITH -> English Drama\n",
            "Elizabeth - CELEBRATED_WITH -> Maritime Adventurers\n",
            "Elizabeth - DEFEATED -> Spanish Armada\n",
            "Elizabeth - BORN_AT -> Greenwich Palace\n",
            "Elizabeth - PARENT -> Henry Viii Of England\n",
            "Elizabeth - NAMED_AFTER -> Elizabeth Of York\n",
            "Elizabeth - NAMED_AFTER -> Lady Elizabeth Howard\n",
            "Elizabeth - COLLABORATED_WITH -> Aleksey Bestuzhev-Ryumin\n",
            "Elizabeth - FORMED_ALLIANCE_WITH -> France\n",
            "Elizabeth - FORMED_ALLIANCE_WITH -> Austria\n",
            "Elizabeth - BORN_IN -> Kolomenskoye\n",
            "Elizabeth - BORN_NEAR -> Moscow\n",
            "Pope - DECLARED_ILLEGITIMATE -> Elizabeth\n",
            "Conspiracies - THREATENED_BY -> Elizabeth\n",
            "France - DID_NOT_GRANT_EXCLUSIVE_PORTRAIT_RIGHTS_TO -> Queen Elizabeth I\n",
            "England - WAR_WITH -> Spain\n",
            "Historians - DEPICTED_BY -> Elizabeth\n",
            "Historians - ACKNOWLEDGED_BY -> Elizabeth\n",
            "Economic Problems - WEAKENED_POPULARITY_OF -> Elizabeth\n",
            "Military Problems - WEAKENED_POPULARITY_OF -> Elizabeth\n",
            "Elizabeth Petrovna - DAUGHTER_OF -> Peter The Great\n",
            "Elizabeth Petrovna - MOTHER_OF -> Catherine I Of Russia\n",
            "Elizabeth Petrovna - HALF-BROTHER_OF -> Alexei\n",
            "Elizabeth Petrovna - COUSIN_OF -> Anna\n"
          ]
        }
      ]
    },
    {
      "cell_type": "markdown",
      "source": [
        "## 3. Final Retriever\n",
        "* This concatenates the 2 previous retrievers from the vector DB and the Graph DB which we then pass to the LLM."
      ],
      "metadata": {
        "id": "tf_pGCaooAX5"
      }
    },
    {
      "cell_type": "code",
      "source": [
        "def retriever(question: str):\n",
        "    print(f\"Search query: {question}\")\n",
        "    structured_data = structured_retriever(question)\n",
        "    unstructured_data = [el.page_content for el in vector_index.similarity_search(question)]\n",
        "    final_data = f\"\"\"Structured data:\n",
        "{structured_data}\n",
        "Unstructured data:\n",
        "{\"#Document \". join(unstructured_data)}\n",
        "    \"\"\"\n",
        "    return final_data"
      ],
      "metadata": {
        "id": "ZQ3Wa5-aoIRu"
      },
      "execution_count": 70,
      "outputs": []
    },
    {
      "cell_type": "markdown",
      "source": [
        "# RAG Chain\n",
        "* now we define the RAG chain"
      ],
      "metadata": {
        "id": "jp9R_M_LoNNR"
      }
    },
    {
      "cell_type": "code",
      "source": [
        "_template = \"\"\"Given the following conversation and a follow up question, rephrase the follow up question to be a question in its original language.\n",
        "Chat History:\n",
        "{chat_history}\n",
        "Follow Up Input: {question}\n",
        "Standalone question:\"\"\""
      ],
      "metadata": {
        "id": "sUgp19V9tpO2"
      },
      "execution_count": 71,
      "outputs": []
    },
    {
      "cell_type": "code",
      "source": [
        "CONDENSE_QUESTION_PROMPT = PromptTemplate.from_template(_template)"
      ],
      "metadata": {
        "id": "mLk7ISNstpMy"
      },
      "execution_count": 72,
      "outputs": []
    },
    {
      "cell_type": "code",
      "source": [
        "from langchain_core.messages import AIMessage, HumanMessage\n",
        "\n",
        "## format chat history --- conversational memory\n",
        "def _format_chat_history(chat_history: List[Tuple[str, str]]) -> List:\n",
        "  buffer = []\n",
        "  for huma, ai in chat_history:\n",
        "    buffer.append(HumanMessage(content=human))\n",
        "    buffer.append(AIMessage(content=ai))\n",
        "  return buffer"
      ],
      "metadata": {
        "id": "kfPugbKYtpKM"
      },
      "execution_count": 76,
      "outputs": []
    },
    {
      "cell_type": "code",
      "source": [
        "from langchain_core.runnables import (\n",
        "    RunnableBranch,\n",
        "    RunnableLambda,\n",
        "    RunnableParallel,\n",
        "    RunnablePassthrough,\n",
        ")\n",
        "from langchain_core.output_parsers import StrOutputParser\n",
        "\n",
        "## Final RAG chain\n",
        "_search_query = RunnableBranch(\n",
        "    # if input includes chat_history then we condense it with the follow-up question\n",
        "    (\n",
        "        RunnableLambda(lambda x: bool(x.get(\"chat_history\"))).with_config(\n",
        "            run_name=\"HasChatHistoryCheck\"\n",
        "        ), # condense follow-up question and chat into standalone_question\n",
        "        RunnablePassthrough.assign(\n",
        "            chat_history=lambda x: _format_chat_history(x[\"chat_history\"])\n",
        "        )\n",
        "        | CONDENSE_QUESTION_PROMPT\n",
        "        | ChatGroq(temperature=0)\n",
        "        | StrOutputParser(),\n",
        "    ),\n",
        "    # else we have no chat history so just pass through question\n",
        "    RunnableLambda(lambda x: x['question']),\n",
        ")"
      ],
      "metadata": {
        "id": "m7SOEJ1_tpHU"
      },
      "execution_count": 77,
      "outputs": []
    },
    {
      "cell_type": "code",
      "source": [],
      "metadata": {
        "id": "h2ZzfYdPtpEd"
      },
      "execution_count": null,
      "outputs": []
    },
    {
      "cell_type": "code",
      "source": [
        "template = \"\"\"Answer the question based only on the following context:\n",
        "{context}\n",
        "\n",
        "Question: {question}\n",
        "Use natural language and be concise.\n",
        "Answer: \"\"\"\n",
        "prompt = ChatPromptTemplate.from_template(template)\n",
        "\n",
        "chain = (\n",
        "    RunnableParallel(\n",
        "        {\n",
        "            \"context\": _search_query | retriever,\n",
        "            \"question\": RunnablePassthrough(),\n",
        "        }\n",
        "    )\n",
        "    | prompt\n",
        "    | llm\n",
        "    | StrOutputParser()\n",
        ")\n"
      ],
      "metadata": {
        "id": "aXcHe2IvoTE8"
      },
      "execution_count": 78,
      "outputs": []
    },
    {
      "cell_type": "markdown",
      "source": [
        "## Test HYBRID RAG chain"
      ],
      "metadata": {
        "id": "zo2yIURLoXv-"
      }
    },
    {
      "cell_type": "code",
      "source": [
        "from IPython.display import display, Markdown\n",
        "result = chain.invoke({\"question\": \"Which house did Elizabeth I belong to?\"})\n",
        "\n",
        "display(Markdown(result))"
      ],
      "metadata": {
        "colab": {
          "base_uri": "https://localhost:8080/",
          "height": 275
        },
        "id": "VTbQkJ_woZe4",
        "outputId": "2143db50-9039-4f71-d936-9cfe7e5804c7"
      },
      "execution_count": 82,
      "outputs": [
        {
          "output_type": "stream",
          "name": "stdout",
          "text": [
            "Search query: Which house did Elizabeth I belong to?\n"
          ]
        },
        {
          "output_type": "stream",
          "name": "stderr",
          "text": [
            "WARNING:neo4j.notifications:Received notification from DBMS server: {severity: WARNING} {code: Neo.ClientNotification.Statement.FeatureDeprecationWarning} {category: DEPRECATION} {title: This feature is deprecated and will be removed in future versions.} {description: CALL subquery without a variable scope clause is now deprecated. Use CALL () { ... }} {position: line: 3, column: 13, offset: 104} for query: \"CALL db.index.fulltext.queryNodes('entity', $query, {limit:2})\\n            YIELD node,score\\n            CALL {\\n              MATCH (node)-[r:!MENTIONS]->(neighbor)\\n              RETURN node.id + ' - ' + type(r) + ' -> ' + neighbor.id AS output\\n              UNION\\n              MATCH (node)<-[r:!MENTIONS]-(neighbor)\\n              RETURN neighbor.id + ' - ' + type(r) + ' -> ' +  node.id AS output\\n            }\\n            RETURN output LIMIT 50\\n            \"\n",
            "WARNING:neo4j.notifications:Received notification from DBMS server: {severity: WARNING} {code: Neo.ClientNotification.Statement.FeatureDeprecationWarning} {category: DEPRECATION} {title: This feature is deprecated and will be removed in future versions.} {description: CALL subquery without a variable scope clause is now deprecated. Use CALL () { ... }} {position: line: 3, column: 13, offset: 104} for query: \"CALL db.index.fulltext.queryNodes('entity', $query, {limit:2})\\n            YIELD node,score\\n            CALL {\\n              MATCH (node)-[r:!MENTIONS]->(neighbor)\\n              RETURN node.id + ' - ' + type(r) + ' -> ' + neighbor.id AS output\\n              UNION\\n              MATCH (node)<-[r:!MENTIONS]-(neighbor)\\n              RETURN neighbor.id + ' - ' + type(r) + ' -> ' +  node.id AS output\\n            }\\n            RETURN output LIMIT 50\\n            \"\n",
            "WARNING:neo4j.notifications:Received notification from DBMS server: {severity: WARNING} {code: Neo.ClientNotification.Statement.FeatureDeprecationWarning} {category: DEPRECATION} {title: This feature is deprecated and will be removed in future versions.} {description: CALL subquery without a variable scope clause is now deprecated. Use CALL () { ... }} {position: line: 1, column: 1, offset: 0} for query: \"CALL { CALL db.index.vector.queryNodes($index, $k, $embedding) YIELD node, score WITH collect({node:node, score:score}) AS nodes, max(score) AS max UNWIND nodes AS n RETURN n.node AS node, (n.score / max) AS score UNION CALL db.index.fulltext.queryNodes($keyword_index, $query, {limit: $k}) YIELD node, score WITH collect({node:node, score:score}) AS nodes, max(score) AS max UNWIND nodes AS n RETURN n.node AS node, (n.score / max) AS score } WITH node, max(score) AS score ORDER BY score DESC LIMIT $k RETURN reduce(str='', k IN ['text'] | str + '\\\\n' + k + ': ' + coalesce(node[k], '')) AS text, node {.*, `embedding`: Null, id: Null, `text`: Null} AS metadata, score\"\n"
          ]
        },
        {
          "output_type": "display_data",
          "data": {
            "text/plain": [
              "<IPython.core.display.Markdown object>"
            ],
            "text/markdown": "<think>\nOkay, so I need to figure out which house Elizabeth I belonged to. Let me start by looking at the structured data provided. I see that under \"Elizabeth I,\" there's a relation \"MEMBER_OF -> House Of Tudor.\" That seems pretty straightforward. \n\nLooking at the unstructured text, it mentions that Elizabeth I was the last and longest reigning monarch of the House of Tudor. That confirms the information from the structured data. \n\nI don't see any conflicting information elsewhere. The other mentions of \"House Of Romanov\" are under a different Elizabeth, so that's probably referring to another historical figure, maybe Elizabeth Petrovna of Russia. \n\nSo, putting it all together, Elizabeth I was a member of the House of Tudor.\n</think>\n\nElizabeth I belonged to the House of Tudor."
          },
          "metadata": {}
        }
      ]
    },
    {
      "cell_type": "code",
      "source": [
        "result = chain.invoke({\"question\": \"Where was she born?\"})\n",
        "\n",
        "\n",
        "display(Markdown(result))"
      ],
      "metadata": {
        "colab": {
          "base_uri": "https://localhost:8080/",
          "height": 1000
        },
        "id": "37UVntkAwLhI",
        "outputId": "dcea1c5e-185d-4581-f4ff-3ac7096dc794"
      },
      "execution_count": 83,
      "outputs": [
        {
          "output_type": "stream",
          "name": "stdout",
          "text": [
            "Search query: Where was she born?\n"
          ]
        },
        {
          "output_type": "stream",
          "name": "stderr",
          "text": [
            "WARNING:neo4j.notifications:Received notification from DBMS server: {severity: WARNING} {code: Neo.ClientNotification.Statement.FeatureDeprecationWarning} {category: DEPRECATION} {title: This feature is deprecated and will be removed in future versions.} {description: CALL subquery without a variable scope clause is now deprecated. Use CALL () { ... }} {position: line: 3, column: 13, offset: 104} for query: \"CALL db.index.fulltext.queryNodes('entity', $query, {limit:2})\\n            YIELD node,score\\n            CALL {\\n              MATCH (node)-[r:!MENTIONS]->(neighbor)\\n              RETURN node.id + ' - ' + type(r) + ' -> ' + neighbor.id AS output\\n              UNION\\n              MATCH (node)<-[r:!MENTIONS]-(neighbor)\\n              RETURN neighbor.id + ' - ' + type(r) + ' -> ' +  node.id AS output\\n            }\\n            RETURN output LIMIT 50\\n            \"\n",
            "WARNING:neo4j.notifications:Received notification from DBMS server: {severity: WARNING} {code: Neo.ClientNotification.Statement.FeatureDeprecationWarning} {category: DEPRECATION} {title: This feature is deprecated and will be removed in future versions.} {description: CALL subquery without a variable scope clause is now deprecated. Use CALL () { ... }} {position: line: 1, column: 1, offset: 0} for query: \"CALL { CALL db.index.vector.queryNodes($index, $k, $embedding) YIELD node, score WITH collect({node:node, score:score}) AS nodes, max(score) AS max UNWIND nodes AS n RETURN n.node AS node, (n.score / max) AS score UNION CALL db.index.fulltext.queryNodes($keyword_index, $query, {limit: $k}) YIELD node, score WITH collect({node:node, score:score}) AS nodes, max(score) AS max UNWIND nodes AS n RETURN n.node AS node, (n.score / max) AS score } WITH node, max(score) AS score ORDER BY score DESC LIMIT $k RETURN reduce(str='', k IN ['text'] | str + '\\\\n' + k + ': ' + coalesce(node[k], '')) AS text, node {.*, `embedding`: Null, id: Null, `text`: Null} AS metadata, score\"\n"
          ]
        },
        {
          "output_type": "display_data",
          "data": {
            "text/plain": [
              "<IPython.core.display.Markdown object>"
            ],
            "text/markdown": "<think>\nOkay, so I need to figure out where \"she\" was born based on the given context. Let me look through the documents provided.\n\nFirst, I see that there are multiple documents, each talking about a different Elizabeth. The first document mentions Elizabeth, Empress of Russia, who was born at Kolomenskoye near Moscow. The second document also talks about an Elizabeth, but the context seems to shift to Elizabeth I of England, who was born at Greenwich Palace.\n\nWait, the question is about where \"she\" was born, but the context includes two different Elizabeths. I need to determine which one the question is referring to. The question doesn't specify, but looking at the structure, the user provided three documents. The first two are about Elizabeth of Russia, and the third is about Elizabeth I of England.\n\nIn the first document, under \"Early life,\" it says Elizabeth was born at Kolomenskoye near Moscow. The second document also starts with Elizabeth Petrovna, Empress of Russia, born on December 18, 1709, at Kolomenskoye. The third document is about Elizabeth I of England, born at Greenwich Palace.\n\nSo, the question is asking about the birthplace of \"she.\" Since the first two documents are about the Russian Empress and the third about the English queen, I need to see which one is being referred to. The question might be ambiguous, but perhaps the user is asking about the first Elizabeth mentioned, which is the Russian one.\n\nAlternatively, maybe the user is referring to the most recent document, which is about Elizabeth I. But the way the question is phrased, it's a bit unclear. However, in the context provided, the first two documents are about the Russian Empress, and the third is a separate document about Elizabeth I.\n\nWait, looking again, the user provided three separate documents. The first two are about the Russian Elizabeth, and the third is about Elizabeth I. So, the question is likely referring to one of them. Since the user's question is in the same context, perhaps they are asking about the Russian Elizabeth.\n\nBut to be thorough, I should check both. The Russian Elizabeth was born at Kolomenskoye near Moscow, and Elizabeth I was born at Greenwich Palace. Since the question is about \"she\" without context, I might need to consider which one is more likely. However, the user might be referring to the first document they provided, which is about the Russian Empress.\n\nAlternatively, perhaps the user is asking about the last document, which is about Elizabeth I. But the question is a bit ambiguous. To be safe, I should consider both possibilities.\n\nWait, the user's question is: \"Where was she born?\" without specifying which Elizabeth. So, I need to determine based on the context which one is being referred to. Since the first two documents are about the Russian Empress and the third is about the English queen, perhaps the user is asking about the Russian one, as the first document is more detailed about her birthplace.\n\nBut I'm not entirely sure. Maybe I should look for the most recent document. The third document is about Elizabeth I, born at Greenwich Palace. So, perhaps the user is referring to that one.\n\nWait, the user provided three separate documents, each starting with \"text:\". The first two are about the Russian Empress, and the third is about Elizabeth I. So, the question is likely referring to the last document, which is about Elizabeth I, born at Greenwich Palace.\n\nBut I'm a bit confused because the first two documents are about the Russian Elizabeth. Maybe the user is asking about the first one. Alternatively, perhaps the user is referring to the most recent document, which is the third one about Elizabeth I.\n\nI think the safest approach is to check each document for the birthplace. The first document says she was born at Kolomenskoye near Moscow. The third document says she was born at Greenwich Palace. Since the question is about \"she\" without context, I might need to consider which one is more likely the subject.\n\nAlternatively, perhaps the user is asking about the first document, which is about the Russian Empress. So, the answer would be Kolomenskoye near Moscow.\n\nBut I'm not entirely sure. Maybe I should look for the most detailed information. The first document provides the birthplace as Kolomenskoye, while the third document says Greenwich Palace.\n\nWait, the user's question is in the context of the provided documents, so I should answer based on the information given. Since the first two documents are about the Russian Empress, and the third is about Elizabeth I, perhaps the user is asking about the Russian one.\n\nAlternatively, maybe the user is referring to the last document they provided, which is about Elizabeth I. So, the answer would be Greenwich Palace.\n\nI think I need to make a decision. Since the first two documents are about the Russian Empress and the third is about Elizabeth I, and the question is about \"she,\" perhaps the user is referring to the first one. So, the answer is Kolomenskoye near Moscow.\n\nBut I'm not entirely certain. Alternatively, the user might be referring to the last document, so the answer would be Greenwich Palace.\n\nWait, looking at the structure, the user provided three separate documents, each starting with \"text:\". The first two are about the Russian Empress, and the third is about Elizabeth I. So, the question is likely referring to the last document, which is about Elizabeth I, born at Greenwich Palace.\n\nTherefore, the answer is Greenwich Palace.\n</think>\n\nGreenwich Palace."
          },
          "metadata": {}
        }
      ]
    },
    {
      "cell_type": "code",
      "source": [
        "result = chain.invoke({\"question\": \"Who is her first cousin?\"})\n",
        "\n",
        "\n",
        "display(Markdown(result))"
      ],
      "metadata": {
        "colab": {
          "base_uri": "https://localhost:8080/",
          "height": 1000
        },
        "id": "JdY_o8ODwS0K",
        "outputId": "2a36fe09-319b-4246-d5e1-7dfcdb91ccf4"
      },
      "execution_count": 85,
      "outputs": [
        {
          "output_type": "stream",
          "name": "stdout",
          "text": [
            "Search query: Who is her first cousin?\n"
          ]
        },
        {
          "output_type": "stream",
          "name": "stderr",
          "text": [
            "WARNING:neo4j.notifications:Received notification from DBMS server: {severity: WARNING} {code: Neo.ClientNotification.Statement.FeatureDeprecationWarning} {category: DEPRECATION} {title: This feature is deprecated and will be removed in future versions.} {description: CALL subquery without a variable scope clause is now deprecated. Use CALL () { ... }} {position: line: 1, column: 1, offset: 0} for query: \"CALL { CALL db.index.vector.queryNodes($index, $k, $embedding) YIELD node, score WITH collect({node:node, score:score}) AS nodes, max(score) AS max UNWIND nodes AS n RETURN n.node AS node, (n.score / max) AS score UNION CALL db.index.fulltext.queryNodes($keyword_index, $query, {limit: $k}) YIELD node, score WITH collect({node:node, score:score}) AS nodes, max(score) AS max UNWIND nodes AS n RETURN n.node AS node, (n.score / max) AS score } WITH node, max(score) AS score ORDER BY score DESC LIMIT $k RETURN reduce(str='', k IN ['text'] | str + '\\\\n' + k + ': ' + coalesce(node[k], '')) AS text, node {.*, `embedding`: Null, id: Null, `text`: Null} AS metadata, score\"\n"
          ]
        },
        {
          "output_type": "display_data",
          "data": {
            "text/plain": [
              "<IPython.core.display.Markdown object>"
            ],
            "text/markdown": "<think>\nOkay, so I need to figure out who Elizabeth's first cousin is based on the provided context. Let me start by reading through the text carefully.\n\nFirst, I see there are two Elizabeths mentioned: Elizabeth I of England and Elizabeth (Elizaveta Petrovna) of Russia. The question is about her first cousin, so I need to determine which Elizabeth the question refers to. Since the question is singular and the context includes both, I'll have to check both sections.\n\nLooking at Elizabeth I's section, she was the daughter of Henry VIII and Anne Boleyn. Her siblings included Edward VI and Mary I. Her successors included James VI of Scotland, who was her first cousin twice removed. Wait, that's a bit more distant than a first cousin. So maybe the first cousin is someone else.\n\nIn the Russian Elizabeth's section, she was the daughter of Peter the Great and Catherine. Her siblings included Anna, and she had a nephew named Peter III, whom she declared as her heir. She also had a cousin named Ivan VI, who was briefly ruler before she took over. So Ivan VI is her cousin, but is he her first cousin?\n\nWait, first cousins share the same grandparents. Elizabeth's parents were Peter the Great and Catherine. Ivan VI's parents would be Ivan V (Peter's brother) and Catherine, but I'm not sure. Alternatively, since Elizabeth's father was Peter the Great, and Ivan VI's father was Ivan V, who was Peter's half-brother, that would make Ivan VI Elizabeth's nephew, not first cousin. Hmm, maybe I'm getting this wrong.\n\nWait, in the text, it says after Anna's rule, Ivan VI was her infant great-nephew, so that's a different generation. So Elizabeth's first cousin would be someone whose parents are her father's siblings. Since Peter the Great had a son Alexei, who was Elizabeth's half-brother, Alexei's son would be Peter III, who is Elizabeth's nephew, not cousin.\n\nWait, maybe I'm overcomplicating. Let me check the text again. In the Russian Elizabeth's section, it says she declared her nephew, the future Peter III, her heir. So Peter III is her nephew, not cousin. Then, who is her first cousin? It mentions her cousin Anna, who ruled from 1730–1740. Anna is her first cousin because their parents were siblings. Peter the Great and his sibling would have had children, making Anna and Elizabeth first cousins.\n\nWait, the text says: \"then to her nephew Peter II, who died in 1730 and was succeeded by Elizabeth's first cousin Anna (r. 1730–1740).\" So Anna is Elizabeth's first cousin. Therefore, Anna is her first cousin.\n\nBut wait, the question is about \"her first cousin.\" If the question is about Elizabeth I, then her first cousin would be someone else. But in the context, the Russian Elizabeth's first cousin is Anna. However, the question might be referring to Elizabeth I, whose first cousin is mentioned as James VI of Scotland, but he's her first cousin twice removed, not first cousin.\n\nWait, the question is a bit ambiguous because there are two Elizabeths. But looking back, the question is: \"Who is her first cousin?\" without specifying which Elizabeth. However, in the context provided, the Russian Elizabeth's first cousin is Anna, while Elizabeth I's first cousin is Lady Jane Grey, but she was a cousin, not necessarily first cousin. Wait, no, Lady Jane Grey was a cousin, but perhaps more distantly related.\n\nWait, in the first text about Elizabeth I, it says she was succeeded by her first cousin twice removed, James VI of Scotland. So her first cousin would be someone else. But in the text, it's mentioned that Edward VI bequeathed the crown to Lady Jane Grey, ignoring Mary and Elizabeth. So Lady Jane Grey was a cousin, but perhaps a first cousin once removed or something.\n\nWait, perhaps I'm overcomplicating. The question is about \"her first cousin.\" Since the context includes both Elizabeths, but the answer is more likely referring to the Russian Elizabeth because the second document ends with her, but I'm not sure.\n\nAlternatively, perhaps the answer is that her first cousin is James VI of Scotland for Elizabeth I, but he's a first cousin twice removed. So maybe the answer is that she doesn't have a first cousin mentioned, but the closest is Anna for the Russian Elizabeth.\n\nWait, the question is based only on the provided context, so I need to check both sections.\n\nIn the first document about Elizabeth I, her first cousin twice removed is James VI. Her first cousins would be the children of her aunts and uncles. Since her father was Henry VIII, his siblings' children would be her first cousins. But the text doesn't mention them specifically.\n\nIn the second document about the Russian Elizabeth, her first cousin is Anna, who ruled from 1730–1740. So the answer would be Anna.\n\nBut the question is about \"her,\" so I need to determine which Elizabeth the question refers to. Since the question is singular and the context includes both, but the last part of the context is about the Russian Elizabeth, perhaps the answer refers to her.\n\nAlternatively, the question might be about Elizabeth I, but her first cousin isn't clearly mentioned. So perhaps the answer is Anna.\n\nWait, but the question is: \"Who is her first cousin?\" So I need to see in the context who is referred to as her first cousin.\n\nLooking back, in the Russian Elizabeth's text, it says: \"then to her nephew Peter II, who died in 1730 and was succeeded by Elizabeth's first cousin Anna (r. 1730–1740).\" So Anna is her first cousin.\n\nTherefore, the answer is Anna.\n</think>\n\nAnna"
          },
          "metadata": {}
        }
      ]
    },
    {
      "cell_type": "code",
      "source": [],
      "metadata": {
        "id": "oCIzpCgFxbg5"
      },
      "execution_count": null,
      "outputs": []
    }
  ]
}