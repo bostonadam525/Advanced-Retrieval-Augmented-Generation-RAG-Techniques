{
  "nbformat": 4,
  "nbformat_minor": 0,
  "metadata": {
    "colab": {
      "provenance": []
    },
    "kernelspec": {
      "name": "python3",
      "display_name": "Python 3"
    },
    "language_info": {
      "name": "python"
    }
  },
  "cells": [
    {
      "cell_type": "markdown",
      "source": [
        "# LangChain - EnsembleRetriever - Experiments\n",
        "\n",
        "by Adam Lang\n",
        "Date: February 12, 2024"
      ],
      "metadata": {
        "id": "oKWO3S5m1NM6"
      }
    },
    {
      "cell_type": "code",
      "source": [
        "#install libraries\n",
        "! pip install langchain --q\n",
        "! pip install chromadb --q\n",
        "! pip install rank_bm25 --q\n",
        "! pip install sentence_transformers lark --quiet #for creating embeddings"
      ],
      "metadata": {
        "id": "TdmEL-V_1THW",
        "colab": {
          "base_uri": "https://localhost:8080/"
        },
        "outputId": "94d5d97d-eedf-4ea6-af81-9f8cad7fdb23"
      },
      "execution_count": 7,
      "outputs": [
        {
          "output_type": "stream",
          "name": "stdout",
          "text": [
            "\u001b[?25l     \u001b[90m━━━━━━━━━━━━━━━━━━━━━━━━━━━━━━━━━━━━━━━━\u001b[0m \u001b[32m0.0/509.0 kB\u001b[0m \u001b[31m?\u001b[0m eta \u001b[36m-:--:--\u001b[0m\r\u001b[2K     \u001b[91m━━━━━━━━━━━━━━━━━━━━\u001b[0m\u001b[90m╺\u001b[0m\u001b[90m━━━━━━━━━━━━━━━━━━━\u001b[0m \u001b[32m256.0/509.0 kB\u001b[0m \u001b[31m7.5 MB/s\u001b[0m eta \u001b[36m0:00:01\u001b[0m\r\u001b[2K     \u001b[90m━━━━━━━━━━━━━━━━━━━━━━━━━━━━━━━━━━━━━━━━\u001b[0m \u001b[32m509.0/509.0 kB\u001b[0m \u001b[31m9.8 MB/s\u001b[0m eta \u001b[36m0:00:00\u001b[0m\n",
            "\u001b[2K     \u001b[90m━━━━━━━━━━━━━━━━━━━━━━━━━━━━━━━━━━━━━━━━\u001b[0m \u001b[32m2.4/2.4 MB\u001b[0m \u001b[31m45.1 MB/s\u001b[0m eta \u001b[36m0:00:00\u001b[0m\n",
            "\u001b[2K     \u001b[90m━━━━━━━━━━━━━━━━━━━━━━━━━━━━━━━━━━━━━━━━\u001b[0m \u001b[32m92.1/92.1 kB\u001b[0m \u001b[31m10.0 MB/s\u001b[0m eta \u001b[36m0:00:00\u001b[0m\n",
            "\u001b[2K     \u001b[90m━━━━━━━━━━━━━━━━━━━━━━━━━━━━━━━━━━━━━━━━\u001b[0m \u001b[32m60.8/60.8 kB\u001b[0m \u001b[31m7.3 MB/s\u001b[0m eta \u001b[36m0:00:00\u001b[0m\n",
            "\u001b[2K     \u001b[90m━━━━━━━━━━━━━━━━━━━━━━━━━━━━━━━━━━━━━━━━\u001b[0m \u001b[32m41.1/41.1 kB\u001b[0m \u001b[31m4.5 MB/s\u001b[0m eta \u001b[36m0:00:00\u001b[0m\n",
            "\u001b[2K     \u001b[90m━━━━━━━━━━━━━━━━━━━━━━━━━━━━━━━━━━━━━━━━\u001b[0m \u001b[32m5.4/5.4 MB\u001b[0m \u001b[31m61.7 MB/s\u001b[0m eta \u001b[36m0:00:00\u001b[0m\n",
            "\u001b[2K     \u001b[90m━━━━━━━━━━━━━━━━━━━━━━━━━━━━━━━━━━━━━━━━\u001b[0m \u001b[32m6.8/6.8 MB\u001b[0m \u001b[31m79.3 MB/s\u001b[0m eta \u001b[36m0:00:00\u001b[0m\n",
            "\u001b[2K     \u001b[90m━━━━━━━━━━━━━━━━━━━━━━━━━━━━━━━━━━━━━━━━\u001b[0m \u001b[32m57.9/57.9 kB\u001b[0m \u001b[31m5.5 MB/s\u001b[0m eta \u001b[36m0:00:00\u001b[0m\n",
            "\u001b[2K     \u001b[90m━━━━━━━━━━━━━━━━━━━━━━━━━━━━━━━━━━━━━━━━\u001b[0m \u001b[32m105.6/105.6 kB\u001b[0m \u001b[31m10.8 MB/s\u001b[0m eta \u001b[36m0:00:00\u001b[0m\n",
            "\u001b[2K     \u001b[90m━━━━━━━━━━━━━━━━━━━━━━━━━━━━━━━━━━━━━━━━\u001b[0m \u001b[32m67.3/67.3 kB\u001b[0m \u001b[31m8.3 MB/s\u001b[0m eta \u001b[36m0:00:00\u001b[0m\n",
            "\u001b[?25h  Installing build dependencies ... \u001b[?25l\u001b[?25hdone\n",
            "  Getting requirements to build wheel ... \u001b[?25l\u001b[?25hdone\n",
            "  Preparing metadata (pyproject.toml) ... \u001b[?25l\u001b[?25hdone\n",
            "\u001b[2K     \u001b[90m━━━━━━━━━━━━━━━━━━━━━━━━━━━━━━━━━━━━━━━━\u001b[0m \u001b[32m698.9/698.9 kB\u001b[0m \u001b[31m40.8 MB/s\u001b[0m eta \u001b[36m0:00:00\u001b[0m\n",
            "\u001b[2K     \u001b[90m━━━━━━━━━━━━━━━━━━━━━━━━━━━━━━━━━━━━━━━━\u001b[0m \u001b[32m1.6/1.6 MB\u001b[0m \u001b[31m51.3 MB/s\u001b[0m eta \u001b[36m0:00:00\u001b[0m\n",
            "\u001b[2K     \u001b[90m━━━━━━━━━━━━━━━━━━━━━━━━━━━━━━━━━━━━━━━━\u001b[0m \u001b[32m67.6/67.6 kB\u001b[0m \u001b[31m8.0 MB/s\u001b[0m eta \u001b[36m0:00:00\u001b[0m\n",
            "\u001b[2K     \u001b[90m━━━━━━━━━━━━━━━━━━━━━━━━━━━━━━━━━━━━━━━━\u001b[0m \u001b[32m71.5/71.5 kB\u001b[0m \u001b[31m6.5 MB/s\u001b[0m eta \u001b[36m0:00:00\u001b[0m\n",
            "\u001b[2K     \u001b[90m━━━━━━━━━━━━━━━━━━━━━━━━━━━━━━━━━━━━━━━━\u001b[0m \u001b[32m46.0/46.0 kB\u001b[0m \u001b[31m3.8 MB/s\u001b[0m eta \u001b[36m0:00:00\u001b[0m\n",
            "\u001b[2K     \u001b[90m━━━━━━━━━━━━━━━━━━━━━━━━━━━━━━━━━━━━━━━━\u001b[0m \u001b[32m50.8/50.8 kB\u001b[0m \u001b[31m5.3 MB/s\u001b[0m eta \u001b[36m0:00:00\u001b[0m\n",
            "\u001b[2K     \u001b[90m━━━━━━━━━━━━━━━━━━━━━━━━━━━━━━━━━━━━━━━━\u001b[0m \u001b[32m341.4/341.4 kB\u001b[0m \u001b[31m32.9 MB/s\u001b[0m eta \u001b[36m0:00:00\u001b[0m\n",
            "\u001b[2K     \u001b[90m━━━━━━━━━━━━━━━━━━━━━━━━━━━━━━━━━━━━━━━━\u001b[0m \u001b[32m3.4/3.4 MB\u001b[0m \u001b[31m83.1 MB/s\u001b[0m eta \u001b[36m0:00:00\u001b[0m\n",
            "\u001b[2K     \u001b[90m━━━━━━━━━━━━━━━━━━━━━━━━━━━━━━━━━━━━━━━━\u001b[0m \u001b[32m1.3/1.3 MB\u001b[0m \u001b[31m73.5 MB/s\u001b[0m eta \u001b[36m0:00:00\u001b[0m\n",
            "\u001b[2K     \u001b[90m━━━━━━━━━━━━━━━━━━━━━━━━━━━━━━━━━━━━━━━━\u001b[0m \u001b[32m130.2/130.2 kB\u001b[0m \u001b[31m16.2 MB/s\u001b[0m eta \u001b[36m0:00:00\u001b[0m\n",
            "\u001b[2K     \u001b[90m━━━━━━━━━━━━━━━━━━━━━━━━━━━━━━━━━━━━━━━━\u001b[0m \u001b[32m86.8/86.8 kB\u001b[0m \u001b[31m10.8 MB/s\u001b[0m eta \u001b[36m0:00:00\u001b[0m\n",
            "\u001b[?25h  Building wheel for pypika (pyproject.toml) ... \u001b[?25l\u001b[?25hdone\n",
            "\u001b[31mERROR: pip's dependency resolver does not currently take into account all the packages that are installed. This behaviour is the source of the following dependency conflicts.\n",
            "lida 0.0.10 requires kaleido, which is not installed.\n",
            "lida 0.0.10 requires python-multipart, which is not installed.\u001b[0m\u001b[31m\n",
            "\u001b[2K     \u001b[90m━━━━━━━━━━━━━━━━━━━━━━━━━━━━━━━━━━━━━━━━\u001b[0m \u001b[32m132.8/132.8 kB\u001b[0m \u001b[31m2.2 MB/s\u001b[0m eta \u001b[36m0:00:00\u001b[0m\n",
            "\u001b[2K     \u001b[90m━━━━━━━━━━━━━━━━━━━━━━━━━━━━━━━━━━━━━━━━\u001b[0m \u001b[32m111.7/111.7 kB\u001b[0m \u001b[31m9.2 MB/s\u001b[0m eta \u001b[36m0:00:00\u001b[0m\n",
            "\u001b[?25h"
          ]
        }
      ]
    },
    {
      "cell_type": "code",
      "source": [
        "# import langchain dependencies\n",
        "from langchain.retrievers import BM25Retriever, EnsembleRetriever\n",
        "from langchain.vectorstores import Chroma"
      ],
      "metadata": {
        "id": "AI1Nwy1OMZwB"
      },
      "execution_count": 8,
      "outputs": []
    },
    {
      "cell_type": "markdown",
      "source": [
        "# Create a list to search\n",
        "* lets use a simple topic from clinical history taking - `smoking history`"
      ],
      "metadata": {
        "id": "joe2WQfOTJfy"
      }
    },
    {
      "cell_type": "code",
      "source": [
        "#create a list to search\n",
        "doc_list = [\n",
        "    \"Does the patient smoke\",\n",
        "    \"Patient uses tobacco once a month\",\n",
        "    \"How many cigarettes per day?\",\n",
        "    \"Do they have a history of smoking?\",\n",
        "    \"Is the patient exposed to smoke at home\",\n",
        "    \"Does he chew tobacco\",\n",
        "    \"Does she use marijuana?\",\n",
        "    \"Has he ever smoked weed\",\n",
        "    \"How many pack years of cigarettes?\",\n",
        "    \"Are they smoking tobacco products\",\n",
        "    \"He smokes 10 pipes per day\",\n",
        "    \"She likes to have half a pack of cigarettes every other day\",\n",
        "    \"He smokes weed once a week\",\n",
        "    \"He hasn't smoked in 1 year\",\n",
        "]"
      ],
      "metadata": {
        "id": "-DOAKEVAM3ge"
      },
      "execution_count": 48,
      "outputs": []
    },
    {
      "cell_type": "markdown",
      "source": [
        "# BM25 keyword retriever"
      ],
      "metadata": {
        "id": "D7CwWOiWNO0v"
      }
    },
    {
      "cell_type": "code",
      "source": [
        "#initialize\n",
        "bm25_retriever = BM25Retriever.from_texts(doc_list)\n",
        "bm25_retriever.k = 3 #retrieves top 2 documents as top k"
      ],
      "metadata": {
        "id": "IrIB-Hd-NHvP"
      },
      "execution_count": 49,
      "outputs": []
    },
    {
      "cell_type": "code",
      "source": [
        "# keyword search\n",
        "bm25_retriever.get_relevant_documents(\"smoking\")"
      ],
      "metadata": {
        "colab": {
          "base_uri": "https://localhost:8080/"
        },
        "id": "sn6XfDQJNbU0",
        "outputId": "540b8271-deb4-4243-a29a-ca9a8bbb863b"
      },
      "execution_count": 50,
      "outputs": [
        {
          "output_type": "execute_result",
          "data": {
            "text/plain": [
              "[Document(page_content='Are they smoking tobacco products'),\n",
              " Document(page_content=\"He hasn't smoked in 1 year\"),\n",
              " Document(page_content='He smokes weed once a week')]"
            ]
          },
          "metadata": {},
          "execution_count": 50
        }
      ]
    },
    {
      "cell_type": "markdown",
      "source": [
        "summary: We can see semantically the BM25 retriever which uses the TF-IDF algorithm returned 2 phrases semantically similar to the company \"Apple\"."
      ],
      "metadata": {
        "id": "qLadTMVRN0Ga"
      }
    },
    {
      "cell_type": "code",
      "source": [
        "# try with an outlier term\n",
        "bm25_retriever.get_relevant_documents(\"marijuana\")"
      ],
      "metadata": {
        "colab": {
          "base_uri": "https://localhost:8080/"
        },
        "id": "885eBZwiNpk1",
        "outputId": "60203f1c-818d-4615-ddfe-cfd6ac8971e9"
      },
      "execution_count": 51,
      "outputs": [
        {
          "output_type": "execute_result",
          "data": {
            "text/plain": [
              "[Document(page_content=\"He hasn't smoked in 1 year\"),\n",
              " Document(page_content='He smokes weed once a week'),\n",
              " Document(page_content='She likes to have half a pack of cigarettes every other day')]"
            ]
          },
          "metadata": {},
          "execution_count": 51
        }
      ]
    },
    {
      "cell_type": "markdown",
      "source": [
        "summary: results are irrelevant"
      ],
      "metadata": {
        "id": "0XArSLbOOE38"
      }
    },
    {
      "cell_type": "markdown",
      "source": [
        "# BGE embeddings - semantic/vector search\n",
        "\n"
      ],
      "metadata": {
        "id": "dFoxYhSHOKuW"
      }
    },
    {
      "cell_type": "code",
      "source": [
        "#import bge embeddings\n",
        "from langchain.embeddings import HuggingFaceBgeEmbeddings"
      ],
      "metadata": {
        "id": "7i0ytAWTOD7N"
      },
      "execution_count": 52,
      "outputs": []
    },
    {
      "cell_type": "code",
      "source": [
        "# instantiate BGEembeddings model\n",
        "\n",
        "model_name = \"BAAI/bge-base-en-v1.5\"\n",
        "model_kwargs = {'device': 'cpu'}\n",
        "encode_kwargs = {'normalize_embeddings': True} #set to True to compute cosine similarity\n",
        "embeddings = HuggingFaceBgeEmbeddings(\n",
        "    model_name=model_name,\n",
        "    model_kwargs=model_kwargs,\n",
        "    encode_kwargs=encode_kwargs\n",
        ")\n"
      ],
      "metadata": {
        "id": "YG5OWy8qOYxA"
      },
      "execution_count": 53,
      "outputs": []
    },
    {
      "cell_type": "code",
      "source": [
        "#import chroma\n",
        "from langchain.vectorstores import Chroma\n"
      ],
      "metadata": {
        "id": "wn3kpEkuPEVI"
      },
      "execution_count": 54,
      "outputs": []
    },
    {
      "cell_type": "markdown",
      "source": [
        "### Creating Chroma vector database, passing doc list and embeddings"
      ],
      "metadata": {
        "id": "36vPfiQRPu8K"
      }
    },
    {
      "cell_type": "code",
      "source": [
        "#load embeddings into Chroma - pass docs, embedding function and path of the db\n",
        "db = Chroma.from_texts(doc_list,\n",
        "                       embedding=embeddings,\n",
        "                       persist_directory='./db')"
      ],
      "metadata": {
        "id": "GbBW03EPPaZJ"
      },
      "execution_count": 55,
      "outputs": []
    },
    {
      "cell_type": "markdown",
      "source": [
        "### Vector search and retrieve top 2 documents"
      ],
      "metadata": {
        "id": "scNP2l1pP-d1"
      }
    },
    {
      "cell_type": "code",
      "source": [
        "db_retriever = db.as_retriever(search_kwargs={\"k\":3})"
      ],
      "metadata": {
        "id": "avhZ0fo5PoMR"
      },
      "execution_count": 56,
      "outputs": []
    },
    {
      "cell_type": "code",
      "source": [
        "db_retriever.get_relevant_documents(\"marijuana\") #use keyword to search"
      ],
      "metadata": {
        "colab": {
          "base_uri": "https://localhost:8080/"
        },
        "id": "6XQ6fhb8QDOW",
        "outputId": "970c800d-814b-40e4-dcbb-def401c4494b"
      },
      "execution_count": 57,
      "outputs": [
        {
          "output_type": "execute_result",
          "data": {
            "text/plain": [
              "[Document(page_content='Does she use marijuana?'),\n",
              " Document(page_content='Does she use marijuana?'),\n",
              " Document(page_content='Has he ever smoked weed')]"
            ]
          },
          "metadata": {},
          "execution_count": 57
        }
      ]
    },
    {
      "cell_type": "markdown",
      "source": [
        "summary: we can see the output is more relevant when we use these combined methods of keyword and semantic search"
      ],
      "metadata": {
        "id": "FBMcsg31QPGi"
      }
    },
    {
      "cell_type": "markdown",
      "source": [
        "# LangChain Ensemble Retriever\n",
        "* Weights randomly initialized below are based on:\n",
        "1. bm25_retriever (first)\n",
        "2. db_retriever (second)\n",
        "\n",
        "* These are purely based on the previous testing above where the db_retriever has better performance"
      ],
      "metadata": {
        "id": "OceEjlTiQZcS"
      }
    },
    {
      "cell_type": "code",
      "source": [
        "#initialize the ensemble retriever\n",
        "ensemble_retriever = EnsembleRetriever(retrievers=[bm25_retriever,\n",
        "                                                   db_retriever],\n",
        "                                       weights=[0.4, 0.6])"
      ],
      "metadata": {
        "id": "EBYmjGS5QNkr"
      },
      "execution_count": 58,
      "outputs": []
    },
    {
      "cell_type": "markdown",
      "source": [
        "### Hybrid Search"
      ],
      "metadata": {
        "id": "dTm0UNwrQqhn"
      }
    },
    {
      "cell_type": "code",
      "source": [
        "#query 1\n",
        "docs = ensemble_retriever.get_relevant_documents(\"Does he smoke more than once a day?\")\n",
        "docs"
      ],
      "metadata": {
        "colab": {
          "base_uri": "https://localhost:8080/"
        },
        "id": "ULEiGRjwQngt",
        "outputId": "d8f97334-921d-4d34-bd5e-7748f10f7688"
      },
      "execution_count": 63,
      "outputs": [
        {
          "output_type": "execute_result",
          "data": {
            "text/plain": [
              "[Document(page_content='He smokes weed once a week'),\n",
              " Document(page_content='He smokes 10 pipes per day'),\n",
              " Document(page_content='She likes to have half a pack of cigarettes every other day'),\n",
              " Document(page_content='Does he chew tobacco'),\n",
              " Document(page_content='Does the patient smoke')]"
            ]
          },
          "metadata": {},
          "execution_count": 63
        }
      ]
    },
    {
      "cell_type": "code",
      "source": [
        "#query 2\n",
        "docs = ensemble_retriever.get_relevant_documents(\"cigarette\")\n",
        "docs"
      ],
      "metadata": {
        "colab": {
          "base_uri": "https://localhost:8080/"
        },
        "id": "Ms9JGJovQz5s",
        "outputId": "c3837984-18c4-4cb1-c6d5-3c49df3329af"
      },
      "execution_count": 64,
      "outputs": [
        {
          "output_type": "execute_result",
          "data": {
            "text/plain": [
              "[Document(page_content='How many cigarettes per day?'),\n",
              " Document(page_content='How many pack years of cigarettes?'),\n",
              " Document(page_content=\"He hasn't smoked in 1 year\"),\n",
              " Document(page_content='He smokes weed once a week'),\n",
              " Document(page_content='She likes to have half a pack of cigarettes every other day')]"
            ]
          },
          "metadata": {},
          "execution_count": 64
        }
      ]
    },
    {
      "cell_type": "code",
      "source": [],
      "metadata": {
        "id": "NJjZ8xQpRe43"
      },
      "execution_count": null,
      "outputs": []
    }
  ]
}