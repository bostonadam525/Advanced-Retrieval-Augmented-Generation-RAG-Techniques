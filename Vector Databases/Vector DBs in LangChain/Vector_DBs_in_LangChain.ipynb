{
  "nbformat": 4,
  "nbformat_minor": 0,
  "metadata": {
    "colab": {
      "provenance": []
    },
    "kernelspec": {
      "name": "python3",
      "display_name": "Python 3"
    },
    "language_info": {
      "name": "python"
    }
  },
  "cells": [
    {
      "cell_type": "markdown",
      "source": [
        "# Vector Databases in LangChain\n",
        "* Notebook by Adam Lang\n",
        "* Date: 7/8/2024\n",
        "\n",
        "# Overview\n",
        "* In this notebook we will go over how to use Vector Databases with LangChain.\n",
        "* This includes \"CRUD\" actions (create, read, update, delete)."
      ],
      "metadata": {
        "id": "wNCTa5W7fOpG"
      }
    },
    {
      "cell_type": "markdown",
      "source": [
        "## Install dependencies"
      ],
      "metadata": {
        "id": "0xKd6drMfdy5"
      }
    },
    {
      "cell_type": "code",
      "execution_count": 1,
      "metadata": {
        "colab": {
          "base_uri": "https://localhost:8080/"
        },
        "id": "baWcPjSRfKAJ",
        "outputId": "bffdc4b4-2969-4a41-b265-88642070a6e6"
      },
      "outputs": [
        {
          "output_type": "stream",
          "name": "stdout",
          "text": [
            "Collecting langchain==0.2.0\n",
            "  Downloading langchain-0.2.0-py3-none-any.whl (973 kB)\n",
            "\u001b[2K     \u001b[90m━━━━━━━━━━━━━━━━━━━━━━━━━━━━━━━━━━━━━━━━\u001b[0m \u001b[32m973.7/973.7 kB\u001b[0m \u001b[31m4.9 MB/s\u001b[0m eta \u001b[36m0:00:00\u001b[0m\n",
            "\u001b[?25hRequirement already satisfied: PyYAML>=5.3 in /usr/local/lib/python3.10/dist-packages (from langchain==0.2.0) (6.0.1)\n",
            "Requirement already satisfied: SQLAlchemy<3,>=1.4 in /usr/local/lib/python3.10/dist-packages (from langchain==0.2.0) (2.0.31)\n",
            "Requirement already satisfied: aiohttp<4.0.0,>=3.8.3 in /usr/local/lib/python3.10/dist-packages (from langchain==0.2.0) (3.9.5)\n",
            "Requirement already satisfied: async-timeout<5.0.0,>=4.0.0 in /usr/local/lib/python3.10/dist-packages (from langchain==0.2.0) (4.0.3)\n",
            "Collecting dataclasses-json<0.7,>=0.5.7 (from langchain==0.2.0)\n",
            "  Downloading dataclasses_json-0.6.7-py3-none-any.whl (28 kB)\n",
            "Collecting langchain-core<0.3.0,>=0.2.0 (from langchain==0.2.0)\n",
            "  Downloading langchain_core-0.2.11-py3-none-any.whl (337 kB)\n",
            "\u001b[2K     \u001b[90m━━━━━━━━━━━━━━━━━━━━━━━━━━━━━━━━━━━━━━━━\u001b[0m \u001b[32m337.4/337.4 kB\u001b[0m \u001b[31m8.2 MB/s\u001b[0m eta \u001b[36m0:00:00\u001b[0m\n",
            "\u001b[?25hCollecting langchain-text-splitters<0.3.0,>=0.2.0 (from langchain==0.2.0)\n",
            "  Downloading langchain_text_splitters-0.2.2-py3-none-any.whl (25 kB)\n",
            "Collecting langsmith<0.2.0,>=0.1.17 (from langchain==0.2.0)\n",
            "  Downloading langsmith-0.1.84-py3-none-any.whl (127 kB)\n",
            "\u001b[2K     \u001b[90m━━━━━━━━━━━━━━━━━━━━━━━━━━━━━━━━━━━━━━━━\u001b[0m \u001b[32m127.9/127.9 kB\u001b[0m \u001b[31m6.9 MB/s\u001b[0m eta \u001b[36m0:00:00\u001b[0m\n",
            "\u001b[?25hRequirement already satisfied: numpy<2,>=1 in /usr/local/lib/python3.10/dist-packages (from langchain==0.2.0) (1.25.2)\n",
            "Requirement already satisfied: pydantic<3,>=1 in /usr/local/lib/python3.10/dist-packages (from langchain==0.2.0) (2.8.0)\n",
            "Requirement already satisfied: requests<3,>=2 in /usr/local/lib/python3.10/dist-packages (from langchain==0.2.0) (2.31.0)\n",
            "Requirement already satisfied: tenacity<9.0.0,>=8.1.0 in /usr/local/lib/python3.10/dist-packages (from langchain==0.2.0) (8.4.2)\n",
            "Requirement already satisfied: aiosignal>=1.1.2 in /usr/local/lib/python3.10/dist-packages (from aiohttp<4.0.0,>=3.8.3->langchain==0.2.0) (1.3.1)\n",
            "Requirement already satisfied: attrs>=17.3.0 in /usr/local/lib/python3.10/dist-packages (from aiohttp<4.0.0,>=3.8.3->langchain==0.2.0) (23.2.0)\n",
            "Requirement already satisfied: frozenlist>=1.1.1 in /usr/local/lib/python3.10/dist-packages (from aiohttp<4.0.0,>=3.8.3->langchain==0.2.0) (1.4.1)\n",
            "Requirement already satisfied: multidict<7.0,>=4.5 in /usr/local/lib/python3.10/dist-packages (from aiohttp<4.0.0,>=3.8.3->langchain==0.2.0) (6.0.5)\n",
            "Requirement already satisfied: yarl<2.0,>=1.0 in /usr/local/lib/python3.10/dist-packages (from aiohttp<4.0.0,>=3.8.3->langchain==0.2.0) (1.9.4)\n",
            "Collecting marshmallow<4.0.0,>=3.18.0 (from dataclasses-json<0.7,>=0.5.7->langchain==0.2.0)\n",
            "  Downloading marshmallow-3.21.3-py3-none-any.whl (49 kB)\n",
            "\u001b[2K     \u001b[90m━━━━━━━━━━━━━━━━━━━━━━━━━━━━━━━━━━━━━━━━\u001b[0m \u001b[32m49.2/49.2 kB\u001b[0m \u001b[31m3.0 MB/s\u001b[0m eta \u001b[36m0:00:00\u001b[0m\n",
            "\u001b[?25hCollecting typing-inspect<1,>=0.4.0 (from dataclasses-json<0.7,>=0.5.7->langchain==0.2.0)\n",
            "  Downloading typing_inspect-0.9.0-py3-none-any.whl (8.8 kB)\n",
            "Collecting jsonpatch<2.0,>=1.33 (from langchain-core<0.3.0,>=0.2.0->langchain==0.2.0)\n",
            "  Downloading jsonpatch-1.33-py2.py3-none-any.whl (12 kB)\n",
            "Requirement already satisfied: packaging<25,>=23.2 in /usr/local/lib/python3.10/dist-packages (from langchain-core<0.3.0,>=0.2.0->langchain==0.2.0) (24.1)\n",
            "Collecting orjson<4.0.0,>=3.9.14 (from langsmith<0.2.0,>=0.1.17->langchain==0.2.0)\n",
            "  Downloading orjson-3.10.6-cp310-cp310-manylinux_2_17_x86_64.manylinux2014_x86_64.whl (141 kB)\n",
            "\u001b[2K     \u001b[90m━━━━━━━━━━━━━━━━━━━━━━━━━━━━━━━━━━━━━━━━\u001b[0m \u001b[32m141.1/141.1 kB\u001b[0m \u001b[31m2.7 MB/s\u001b[0m eta \u001b[36m0:00:00\u001b[0m\n",
            "\u001b[?25hRequirement already satisfied: annotated-types>=0.4.0 in /usr/local/lib/python3.10/dist-packages (from pydantic<3,>=1->langchain==0.2.0) (0.7.0)\n",
            "Requirement already satisfied: pydantic-core==2.20.0 in /usr/local/lib/python3.10/dist-packages (from pydantic<3,>=1->langchain==0.2.0) (2.20.0)\n",
            "Requirement already satisfied: typing-extensions>=4.6.1 in /usr/local/lib/python3.10/dist-packages (from pydantic<3,>=1->langchain==0.2.0) (4.12.2)\n",
            "Requirement already satisfied: charset-normalizer<4,>=2 in /usr/local/lib/python3.10/dist-packages (from requests<3,>=2->langchain==0.2.0) (3.3.2)\n",
            "Requirement already satisfied: idna<4,>=2.5 in /usr/local/lib/python3.10/dist-packages (from requests<3,>=2->langchain==0.2.0) (3.7)\n",
            "Requirement already satisfied: urllib3<3,>=1.21.1 in /usr/local/lib/python3.10/dist-packages (from requests<3,>=2->langchain==0.2.0) (2.0.7)\n",
            "Requirement already satisfied: certifi>=2017.4.17 in /usr/local/lib/python3.10/dist-packages (from requests<3,>=2->langchain==0.2.0) (2024.6.2)\n",
            "Requirement already satisfied: greenlet!=0.4.17 in /usr/local/lib/python3.10/dist-packages (from SQLAlchemy<3,>=1.4->langchain==0.2.0) (3.0.3)\n",
            "Collecting jsonpointer>=1.9 (from jsonpatch<2.0,>=1.33->langchain-core<0.3.0,>=0.2.0->langchain==0.2.0)\n",
            "  Downloading jsonpointer-3.0.0-py2.py3-none-any.whl (7.6 kB)\n",
            "Collecting mypy-extensions>=0.3.0 (from typing-inspect<1,>=0.4.0->dataclasses-json<0.7,>=0.5.7->langchain==0.2.0)\n",
            "  Downloading mypy_extensions-1.0.0-py3-none-any.whl (4.7 kB)\n",
            "Installing collected packages: orjson, mypy-extensions, marshmallow, jsonpointer, typing-inspect, jsonpatch, langsmith, dataclasses-json, langchain-core, langchain-text-splitters, langchain\n",
            "Successfully installed dataclasses-json-0.6.7 jsonpatch-1.33 jsonpointer-3.0.0 langchain-0.2.0 langchain-core-0.2.11 langchain-text-splitters-0.2.2 langsmith-0.1.84 marshmallow-3.21.3 mypy-extensions-1.0.0 orjson-3.10.6 typing-inspect-0.9.0\n",
            "Collecting langchain-openai==0.1.7\n",
            "  Downloading langchain_openai-0.1.7-py3-none-any.whl (34 kB)\n",
            "Requirement already satisfied: langchain-core<0.3,>=0.1.46 in /usr/local/lib/python3.10/dist-packages (from langchain-openai==0.1.7) (0.2.11)\n",
            "Collecting openai<2.0.0,>=1.24.0 (from langchain-openai==0.1.7)\n",
            "  Downloading openai-1.35.10-py3-none-any.whl (328 kB)\n",
            "\u001b[2K     \u001b[90m━━━━━━━━━━━━━━━━━━━━━━━━━━━━━━━━━━━━━━━━\u001b[0m \u001b[32m328.3/328.3 kB\u001b[0m \u001b[31m8.3 MB/s\u001b[0m eta \u001b[36m0:00:00\u001b[0m\n",
            "\u001b[?25hCollecting tiktoken<1,>=0.7 (from langchain-openai==0.1.7)\n",
            "  Downloading tiktoken-0.7.0-cp310-cp310-manylinux_2_17_x86_64.manylinux2014_x86_64.whl (1.1 MB)\n",
            "\u001b[2K     \u001b[90m━━━━━━━━━━━━━━━━━━━━━━━━━━━━━━━━━━━━━━━━\u001b[0m \u001b[32m1.1/1.1 MB\u001b[0m \u001b[31m38.1 MB/s\u001b[0m eta \u001b[36m0:00:00\u001b[0m\n",
            "\u001b[?25hRequirement already satisfied: PyYAML>=5.3 in /usr/local/lib/python3.10/dist-packages (from langchain-core<0.3,>=0.1.46->langchain-openai==0.1.7) (6.0.1)\n",
            "Requirement already satisfied: jsonpatch<2.0,>=1.33 in /usr/local/lib/python3.10/dist-packages (from langchain-core<0.3,>=0.1.46->langchain-openai==0.1.7) (1.33)\n",
            "Requirement already satisfied: langsmith<0.2.0,>=0.1.75 in /usr/local/lib/python3.10/dist-packages (from langchain-core<0.3,>=0.1.46->langchain-openai==0.1.7) (0.1.84)\n",
            "Requirement already satisfied: packaging<25,>=23.2 in /usr/local/lib/python3.10/dist-packages (from langchain-core<0.3,>=0.1.46->langchain-openai==0.1.7) (24.1)\n",
            "Requirement already satisfied: pydantic<3,>=1 in /usr/local/lib/python3.10/dist-packages (from langchain-core<0.3,>=0.1.46->langchain-openai==0.1.7) (2.8.0)\n",
            "Requirement already satisfied: tenacity!=8.4.0,<9.0.0,>=8.1.0 in /usr/local/lib/python3.10/dist-packages (from langchain-core<0.3,>=0.1.46->langchain-openai==0.1.7) (8.4.2)\n",
            "Requirement already satisfied: anyio<5,>=3.5.0 in /usr/local/lib/python3.10/dist-packages (from openai<2.0.0,>=1.24.0->langchain-openai==0.1.7) (3.7.1)\n",
            "Requirement already satisfied: distro<2,>=1.7.0 in /usr/lib/python3/dist-packages (from openai<2.0.0,>=1.24.0->langchain-openai==0.1.7) (1.7.0)\n",
            "Collecting httpx<1,>=0.23.0 (from openai<2.0.0,>=1.24.0->langchain-openai==0.1.7)\n",
            "  Downloading httpx-0.27.0-py3-none-any.whl (75 kB)\n",
            "\u001b[2K     \u001b[90m━━━━━━━━━━━━━━━━━━━━━━━━━━━━━━━━━━━━━━━━\u001b[0m \u001b[32m75.6/75.6 kB\u001b[0m \u001b[31m6.1 MB/s\u001b[0m eta \u001b[36m0:00:00\u001b[0m\n",
            "\u001b[?25hRequirement already satisfied: sniffio in /usr/local/lib/python3.10/dist-packages (from openai<2.0.0,>=1.24.0->langchain-openai==0.1.7) (1.3.1)\n",
            "Requirement already satisfied: tqdm>4 in /usr/local/lib/python3.10/dist-packages (from openai<2.0.0,>=1.24.0->langchain-openai==0.1.7) (4.66.4)\n",
            "Requirement already satisfied: typing-extensions<5,>=4.7 in /usr/local/lib/python3.10/dist-packages (from openai<2.0.0,>=1.24.0->langchain-openai==0.1.7) (4.12.2)\n",
            "Requirement already satisfied: regex>=2022.1.18 in /usr/local/lib/python3.10/dist-packages (from tiktoken<1,>=0.7->langchain-openai==0.1.7) (2024.5.15)\n",
            "Requirement already satisfied: requests>=2.26.0 in /usr/local/lib/python3.10/dist-packages (from tiktoken<1,>=0.7->langchain-openai==0.1.7) (2.31.0)\n",
            "Requirement already satisfied: idna>=2.8 in /usr/local/lib/python3.10/dist-packages (from anyio<5,>=3.5.0->openai<2.0.0,>=1.24.0->langchain-openai==0.1.7) (3.7)\n",
            "Requirement already satisfied: exceptiongroup in /usr/local/lib/python3.10/dist-packages (from anyio<5,>=3.5.0->openai<2.0.0,>=1.24.0->langchain-openai==0.1.7) (1.2.1)\n",
            "Requirement already satisfied: certifi in /usr/local/lib/python3.10/dist-packages (from httpx<1,>=0.23.0->openai<2.0.0,>=1.24.0->langchain-openai==0.1.7) (2024.6.2)\n",
            "Collecting httpcore==1.* (from httpx<1,>=0.23.0->openai<2.0.0,>=1.24.0->langchain-openai==0.1.7)\n",
            "  Downloading httpcore-1.0.5-py3-none-any.whl (77 kB)\n",
            "\u001b[2K     \u001b[90m━━━━━━━━━━━━━━━━━━━━━━━━━━━━━━━━━━━━━━━━\u001b[0m \u001b[32m77.9/77.9 kB\u001b[0m \u001b[31m8.0 MB/s\u001b[0m eta \u001b[36m0:00:00\u001b[0m\n",
            "\u001b[?25hCollecting h11<0.15,>=0.13 (from httpcore==1.*->httpx<1,>=0.23.0->openai<2.0.0,>=1.24.0->langchain-openai==0.1.7)\n",
            "  Downloading h11-0.14.0-py3-none-any.whl (58 kB)\n",
            "\u001b[2K     \u001b[90m━━━━━━━━━━━━━━━━━━━━━━━━━━━━━━━━━━━━━━━━\u001b[0m \u001b[32m58.3/58.3 kB\u001b[0m \u001b[31m5.0 MB/s\u001b[0m eta \u001b[36m0:00:00\u001b[0m\n",
            "\u001b[?25hRequirement already satisfied: jsonpointer>=1.9 in /usr/local/lib/python3.10/dist-packages (from jsonpatch<2.0,>=1.33->langchain-core<0.3,>=0.1.46->langchain-openai==0.1.7) (3.0.0)\n",
            "Requirement already satisfied: orjson<4.0.0,>=3.9.14 in /usr/local/lib/python3.10/dist-packages (from langsmith<0.2.0,>=0.1.75->langchain-core<0.3,>=0.1.46->langchain-openai==0.1.7) (3.10.6)\n",
            "Requirement already satisfied: annotated-types>=0.4.0 in /usr/local/lib/python3.10/dist-packages (from pydantic<3,>=1->langchain-core<0.3,>=0.1.46->langchain-openai==0.1.7) (0.7.0)\n",
            "Requirement already satisfied: pydantic-core==2.20.0 in /usr/local/lib/python3.10/dist-packages (from pydantic<3,>=1->langchain-core<0.3,>=0.1.46->langchain-openai==0.1.7) (2.20.0)\n",
            "Requirement already satisfied: charset-normalizer<4,>=2 in /usr/local/lib/python3.10/dist-packages (from requests>=2.26.0->tiktoken<1,>=0.7->langchain-openai==0.1.7) (3.3.2)\n",
            "Requirement already satisfied: urllib3<3,>=1.21.1 in /usr/local/lib/python3.10/dist-packages (from requests>=2.26.0->tiktoken<1,>=0.7->langchain-openai==0.1.7) (2.0.7)\n",
            "Installing collected packages: h11, tiktoken, httpcore, httpx, openai, langchain-openai\n",
            "Successfully installed h11-0.14.0 httpcore-1.0.5 httpx-0.27.0 langchain-openai-0.1.7 openai-1.35.10 tiktoken-0.7.0\n",
            "Collecting langchain-community==0.2.0\n",
            "  Downloading langchain_community-0.2.0-py3-none-any.whl (2.1 MB)\n",
            "\u001b[2K     \u001b[90m━━━━━━━━━━━━━━━━━━━━━━━━━━━━━━━━━━━━━━━━\u001b[0m \u001b[32m2.1/2.1 MB\u001b[0m \u001b[31m21.2 MB/s\u001b[0m eta \u001b[36m0:00:00\u001b[0m\n",
            "\u001b[?25hRequirement already satisfied: PyYAML>=5.3 in /usr/local/lib/python3.10/dist-packages (from langchain-community==0.2.0) (6.0.1)\n",
            "Requirement already satisfied: SQLAlchemy<3,>=1.4 in /usr/local/lib/python3.10/dist-packages (from langchain-community==0.2.0) (2.0.31)\n",
            "Requirement already satisfied: aiohttp<4.0.0,>=3.8.3 in /usr/local/lib/python3.10/dist-packages (from langchain-community==0.2.0) (3.9.5)\n",
            "Requirement already satisfied: dataclasses-json<0.7,>=0.5.7 in /usr/local/lib/python3.10/dist-packages (from langchain-community==0.2.0) (0.6.7)\n",
            "Requirement already satisfied: langchain<0.3.0,>=0.2.0 in /usr/local/lib/python3.10/dist-packages (from langchain-community==0.2.0) (0.2.0)\n",
            "Requirement already satisfied: langchain-core<0.3.0,>=0.2.0 in /usr/local/lib/python3.10/dist-packages (from langchain-community==0.2.0) (0.2.11)\n",
            "Requirement already satisfied: langsmith<0.2.0,>=0.1.0 in /usr/local/lib/python3.10/dist-packages (from langchain-community==0.2.0) (0.1.84)\n",
            "Requirement already satisfied: numpy<2,>=1 in /usr/local/lib/python3.10/dist-packages (from langchain-community==0.2.0) (1.25.2)\n",
            "Requirement already satisfied: requests<3,>=2 in /usr/local/lib/python3.10/dist-packages (from langchain-community==0.2.0) (2.31.0)\n",
            "Requirement already satisfied: tenacity<9.0.0,>=8.1.0 in /usr/local/lib/python3.10/dist-packages (from langchain-community==0.2.0) (8.4.2)\n",
            "Requirement already satisfied: aiosignal>=1.1.2 in /usr/local/lib/python3.10/dist-packages (from aiohttp<4.0.0,>=3.8.3->langchain-community==0.2.0) (1.3.1)\n",
            "Requirement already satisfied: attrs>=17.3.0 in /usr/local/lib/python3.10/dist-packages (from aiohttp<4.0.0,>=3.8.3->langchain-community==0.2.0) (23.2.0)\n",
            "Requirement already satisfied: frozenlist>=1.1.1 in /usr/local/lib/python3.10/dist-packages (from aiohttp<4.0.0,>=3.8.3->langchain-community==0.2.0) (1.4.1)\n",
            "Requirement already satisfied: multidict<7.0,>=4.5 in /usr/local/lib/python3.10/dist-packages (from aiohttp<4.0.0,>=3.8.3->langchain-community==0.2.0) (6.0.5)\n",
            "Requirement already satisfied: yarl<2.0,>=1.0 in /usr/local/lib/python3.10/dist-packages (from aiohttp<4.0.0,>=3.8.3->langchain-community==0.2.0) (1.9.4)\n",
            "Requirement already satisfied: async-timeout<5.0,>=4.0 in /usr/local/lib/python3.10/dist-packages (from aiohttp<4.0.0,>=3.8.3->langchain-community==0.2.0) (4.0.3)\n",
            "Requirement already satisfied: marshmallow<4.0.0,>=3.18.0 in /usr/local/lib/python3.10/dist-packages (from dataclasses-json<0.7,>=0.5.7->langchain-community==0.2.0) (3.21.3)\n",
            "Requirement already satisfied: typing-inspect<1,>=0.4.0 in /usr/local/lib/python3.10/dist-packages (from dataclasses-json<0.7,>=0.5.7->langchain-community==0.2.0) (0.9.0)\n",
            "Requirement already satisfied: langchain-text-splitters<0.3.0,>=0.2.0 in /usr/local/lib/python3.10/dist-packages (from langchain<0.3.0,>=0.2.0->langchain-community==0.2.0) (0.2.2)\n",
            "Requirement already satisfied: pydantic<3,>=1 in /usr/local/lib/python3.10/dist-packages (from langchain<0.3.0,>=0.2.0->langchain-community==0.2.0) (2.8.0)\n",
            "Requirement already satisfied: jsonpatch<2.0,>=1.33 in /usr/local/lib/python3.10/dist-packages (from langchain-core<0.3.0,>=0.2.0->langchain-community==0.2.0) (1.33)\n",
            "Requirement already satisfied: packaging<25,>=23.2 in /usr/local/lib/python3.10/dist-packages (from langchain-core<0.3.0,>=0.2.0->langchain-community==0.2.0) (24.1)\n",
            "Requirement already satisfied: orjson<4.0.0,>=3.9.14 in /usr/local/lib/python3.10/dist-packages (from langsmith<0.2.0,>=0.1.0->langchain-community==0.2.0) (3.10.6)\n",
            "Requirement already satisfied: charset-normalizer<4,>=2 in /usr/local/lib/python3.10/dist-packages (from requests<3,>=2->langchain-community==0.2.0) (3.3.2)\n",
            "Requirement already satisfied: idna<4,>=2.5 in /usr/local/lib/python3.10/dist-packages (from requests<3,>=2->langchain-community==0.2.0) (3.7)\n",
            "Requirement already satisfied: urllib3<3,>=1.21.1 in /usr/local/lib/python3.10/dist-packages (from requests<3,>=2->langchain-community==0.2.0) (2.0.7)\n",
            "Requirement already satisfied: certifi>=2017.4.17 in /usr/local/lib/python3.10/dist-packages (from requests<3,>=2->langchain-community==0.2.0) (2024.6.2)\n",
            "Requirement already satisfied: typing-extensions>=4.6.0 in /usr/local/lib/python3.10/dist-packages (from SQLAlchemy<3,>=1.4->langchain-community==0.2.0) (4.12.2)\n",
            "Requirement already satisfied: greenlet!=0.4.17 in /usr/local/lib/python3.10/dist-packages (from SQLAlchemy<3,>=1.4->langchain-community==0.2.0) (3.0.3)\n",
            "Requirement already satisfied: jsonpointer>=1.9 in /usr/local/lib/python3.10/dist-packages (from jsonpatch<2.0,>=1.33->langchain-core<0.3.0,>=0.2.0->langchain-community==0.2.0) (3.0.0)\n",
            "Requirement already satisfied: annotated-types>=0.4.0 in /usr/local/lib/python3.10/dist-packages (from pydantic<3,>=1->langchain<0.3.0,>=0.2.0->langchain-community==0.2.0) (0.7.0)\n",
            "Requirement already satisfied: pydantic-core==2.20.0 in /usr/local/lib/python3.10/dist-packages (from pydantic<3,>=1->langchain<0.3.0,>=0.2.0->langchain-community==0.2.0) (2.20.0)\n",
            "Requirement already satisfied: mypy-extensions>=0.3.0 in /usr/local/lib/python3.10/dist-packages (from typing-inspect<1,>=0.4.0->dataclasses-json<0.7,>=0.5.7->langchain-community==0.2.0) (1.0.0)\n",
            "Installing collected packages: langchain-community\n",
            "Successfully installed langchain-community-0.2.0\n"
          ]
        }
      ],
      "source": [
        "!pip install langchain==0.2.0\n",
        "!pip install langchain-openai==0.1.7\n",
        "!pip install langchain-community==0.2.0"
      ]
    },
    {
      "cell_type": "markdown",
      "source": [
        "## Vector DB install - Chroma DB and LangChain Wrapper\n",
        "* We will be using **ChromaDB** which is an open source Vector database.\n",
        "* Key features of ChromaDB include:\n",
        "   * Various underlying storage options like DuckDB for standalone or ClickHouse for scalability.\n",
        "   * SDKs for Python and JavaScript/TypeScript.\n",
        "   * Focuses on simplicity, speed, and enabling analysis.\n",
        "* Important technical considerations with ChromaDB:\n",
        "1. You have to create a collection similar to tables in a relational database.\n",
        "   * **Note: Chroma converts all text into embeddings using `all-MiniLM-L6-v2`, but you can modify the collection to use another embedding model.**\n",
        "   * This is one of the most popular open source sentence transformer models also available on HuggingFace.\n",
        "2. Add text documents to the newly created collection with metadata and a unique ID - this allows indexing.\n",
        "   * When a collection receives text, it automatically converts it into an embedding.\n",
        "3. You can query collections by text or embeddings to receive semantically similar documents in return.\n",
        "   * Results can also be filtered using metadata."
      ],
      "metadata": {
        "id": "IJ_JUZPMf8Lz"
      }
    },
    {
      "cell_type": "code",
      "source": [
        "## langchain wrapper for chroma\n",
        "!pip install langchain-chroma"
      ],
      "metadata": {
        "colab": {
          "base_uri": "https://localhost:8080/"
        },
        "id": "YECuWsIUfmjw",
        "outputId": "0645487e-013e-4e29-b792-052cc9ddb276"
      },
      "execution_count": 2,
      "outputs": [
        {
          "output_type": "stream",
          "name": "stdout",
          "text": [
            "Collecting langchain-chroma\n",
            "  Downloading langchain_chroma-0.1.2-py3-none-any.whl (9.3 kB)\n",
            "Collecting chromadb<0.6.0,>=0.4.0 (from langchain-chroma)\n",
            "  Downloading chromadb-0.5.3-py3-none-any.whl (559 kB)\n",
            "\u001b[2K     \u001b[90m━━━━━━━━━━━━━━━━━━━━━━━━━━━━━━━━━━━━━━━━\u001b[0m \u001b[32m559.5/559.5 kB\u001b[0m \u001b[31m8.7 MB/s\u001b[0m eta \u001b[36m0:00:00\u001b[0m\n",
            "\u001b[?25hCollecting fastapi<1,>=0.95.2 (from langchain-chroma)\n",
            "  Downloading fastapi-0.111.0-py3-none-any.whl (91 kB)\n",
            "\u001b[2K     \u001b[90m━━━━━━━━━━━━━━━━━━━━━━━━━━━━━━━━━━━━━━━━\u001b[0m \u001b[32m92.0/92.0 kB\u001b[0m \u001b[31m9.8 MB/s\u001b[0m eta \u001b[36m0:00:00\u001b[0m\n",
            "\u001b[?25hRequirement already satisfied: langchain-core<0.3,>=0.1.40 in /usr/local/lib/python3.10/dist-packages (from langchain-chroma) (0.2.11)\n",
            "Requirement already satisfied: numpy<2,>=1 in /usr/local/lib/python3.10/dist-packages (from langchain-chroma) (1.25.2)\n",
            "Requirement already satisfied: build>=1.0.3 in /usr/local/lib/python3.10/dist-packages (from chromadb<0.6.0,>=0.4.0->langchain-chroma) (1.2.1)\n",
            "Requirement already satisfied: requests>=2.28 in /usr/local/lib/python3.10/dist-packages (from chromadb<0.6.0,>=0.4.0->langchain-chroma) (2.31.0)\n",
            "Requirement already satisfied: pydantic>=1.9 in /usr/local/lib/python3.10/dist-packages (from chromadb<0.6.0,>=0.4.0->langchain-chroma) (2.8.0)\n",
            "Collecting chroma-hnswlib==0.7.3 (from chromadb<0.6.0,>=0.4.0->langchain-chroma)\n",
            "  Downloading chroma_hnswlib-0.7.3-cp310-cp310-manylinux_2_17_x86_64.manylinux2014_x86_64.whl (2.4 MB)\n",
            "\u001b[2K     \u001b[90m━━━━━━━━━━━━━━━━━━━━━━━━━━━━━━━━━━━━━━━━\u001b[0m \u001b[32m2.4/2.4 MB\u001b[0m \u001b[31m51.4 MB/s\u001b[0m eta \u001b[36m0:00:00\u001b[0m\n",
            "\u001b[?25hCollecting uvicorn[standard]>=0.18.3 (from chromadb<0.6.0,>=0.4.0->langchain-chroma)\n",
            "  Downloading uvicorn-0.30.1-py3-none-any.whl (62 kB)\n",
            "\u001b[2K     \u001b[90m━━━━━━━━━━━━━━━━━━━━━━━━━━━━━━━━━━━━━━━━\u001b[0m \u001b[32m62.4/62.4 kB\u001b[0m \u001b[31m6.3 MB/s\u001b[0m eta \u001b[36m0:00:00\u001b[0m\n",
            "\u001b[?25hCollecting posthog>=2.4.0 (from chromadb<0.6.0,>=0.4.0->langchain-chroma)\n",
            "  Downloading posthog-3.5.0-py2.py3-none-any.whl (41 kB)\n",
            "\u001b[2K     \u001b[90m━━━━━━━━━━━━━━━━━━━━━━━━━━━━━━━━━━━━━━━━\u001b[0m \u001b[32m41.3/41.3 kB\u001b[0m \u001b[31m4.5 MB/s\u001b[0m eta \u001b[36m0:00:00\u001b[0m\n",
            "\u001b[?25hRequirement already satisfied: typing-extensions>=4.5.0 in /usr/local/lib/python3.10/dist-packages (from chromadb<0.6.0,>=0.4.0->langchain-chroma) (4.12.2)\n",
            "Collecting onnxruntime>=1.14.1 (from chromadb<0.6.0,>=0.4.0->langchain-chroma)\n",
            "  Downloading onnxruntime-1.18.1-cp310-cp310-manylinux_2_27_x86_64.manylinux_2_28_x86_64.whl (6.8 MB)\n",
            "\u001b[2K     \u001b[90m━━━━━━━━━━━━━━━━━━━━━━━━━━━━━━━━━━━━━━━━\u001b[0m \u001b[32m6.8/6.8 MB\u001b[0m \u001b[31m58.7 MB/s\u001b[0m eta \u001b[36m0:00:00\u001b[0m\n",
            "\u001b[?25hCollecting opentelemetry-api>=1.2.0 (from chromadb<0.6.0,>=0.4.0->langchain-chroma)\n",
            "  Downloading opentelemetry_api-1.25.0-py3-none-any.whl (59 kB)\n",
            "\u001b[2K     \u001b[90m━━━━━━━━━━━━━━━━━━━━━━━━━━━━━━━━━━━━━━━━\u001b[0m \u001b[32m59.9/59.9 kB\u001b[0m \u001b[31m6.9 MB/s\u001b[0m eta \u001b[36m0:00:00\u001b[0m\n",
            "\u001b[?25hCollecting opentelemetry-exporter-otlp-proto-grpc>=1.2.0 (from chromadb<0.6.0,>=0.4.0->langchain-chroma)\n",
            "  Downloading opentelemetry_exporter_otlp_proto_grpc-1.25.0-py3-none-any.whl (18 kB)\n",
            "Collecting opentelemetry-instrumentation-fastapi>=0.41b0 (from chromadb<0.6.0,>=0.4.0->langchain-chroma)\n",
            "  Downloading opentelemetry_instrumentation_fastapi-0.46b0-py3-none-any.whl (11 kB)\n",
            "Collecting opentelemetry-sdk>=1.2.0 (from chromadb<0.6.0,>=0.4.0->langchain-chroma)\n",
            "  Downloading opentelemetry_sdk-1.25.0-py3-none-any.whl (107 kB)\n",
            "\u001b[2K     \u001b[90m━━━━━━━━━━━━━━━━━━━━━━━━━━━━━━━━━━━━━━━━\u001b[0m \u001b[32m107.0/107.0 kB\u001b[0m \u001b[31m11.3 MB/s\u001b[0m eta \u001b[36m0:00:00\u001b[0m\n",
            "\u001b[?25hRequirement already satisfied: tokenizers>=0.13.2 in /usr/local/lib/python3.10/dist-packages (from chromadb<0.6.0,>=0.4.0->langchain-chroma) (0.19.1)\n",
            "Collecting pypika>=0.48.9 (from chromadb<0.6.0,>=0.4.0->langchain-chroma)\n",
            "  Downloading PyPika-0.48.9.tar.gz (67 kB)\n",
            "\u001b[2K     \u001b[90m━━━━━━━━━━━━━━━━━━━━━━━━━━━━━━━━━━━━━━━━\u001b[0m \u001b[32m67.3/67.3 kB\u001b[0m \u001b[31m7.4 MB/s\u001b[0m eta \u001b[36m0:00:00\u001b[0m\n",
            "\u001b[?25h  Installing build dependencies ... \u001b[?25l\u001b[?25hdone\n",
            "  Getting requirements to build wheel ... \u001b[?25l\u001b[?25hdone\n",
            "  Preparing metadata (pyproject.toml) ... \u001b[?25l\u001b[?25hdone\n",
            "Requirement already satisfied: tqdm>=4.65.0 in /usr/local/lib/python3.10/dist-packages (from chromadb<0.6.0,>=0.4.0->langchain-chroma) (4.66.4)\n",
            "Collecting overrides>=7.3.1 (from chromadb<0.6.0,>=0.4.0->langchain-chroma)\n",
            "  Downloading overrides-7.7.0-py3-none-any.whl (17 kB)\n",
            "Requirement already satisfied: importlib-resources in /usr/local/lib/python3.10/dist-packages (from chromadb<0.6.0,>=0.4.0->langchain-chroma) (6.4.0)\n",
            "Requirement already satisfied: grpcio>=1.58.0 in /usr/local/lib/python3.10/dist-packages (from chromadb<0.6.0,>=0.4.0->langchain-chroma) (1.64.1)\n",
            "Collecting bcrypt>=4.0.1 (from chromadb<0.6.0,>=0.4.0->langchain-chroma)\n",
            "  Downloading bcrypt-4.1.3-cp39-abi3-manylinux_2_28_x86_64.whl (283 kB)\n",
            "\u001b[2K     \u001b[90m━━━━━━━━━━━━━━━━━━━━━━━━━━━━━━━━━━━━━━━━\u001b[0m \u001b[32m283.7/283.7 kB\u001b[0m \u001b[31m26.2 MB/s\u001b[0m eta \u001b[36m0:00:00\u001b[0m\n",
            "\u001b[?25hRequirement already satisfied: typer>=0.9.0 in /usr/local/lib/python3.10/dist-packages (from chromadb<0.6.0,>=0.4.0->langchain-chroma) (0.12.3)\n",
            "Collecting kubernetes>=28.1.0 (from chromadb<0.6.0,>=0.4.0->langchain-chroma)\n",
            "  Downloading kubernetes-30.1.0-py2.py3-none-any.whl (1.7 MB)\n",
            "\u001b[2K     \u001b[90m━━━━━━━━━━━━━━━━━━━━━━━━━━━━━━━━━━━━━━━━\u001b[0m \u001b[32m1.7/1.7 MB\u001b[0m \u001b[31m64.7 MB/s\u001b[0m eta \u001b[36m0:00:00\u001b[0m\n",
            "\u001b[?25hRequirement already satisfied: tenacity>=8.2.3 in /usr/local/lib/python3.10/dist-packages (from chromadb<0.6.0,>=0.4.0->langchain-chroma) (8.4.2)\n",
            "Requirement already satisfied: PyYAML>=6.0.0 in /usr/local/lib/python3.10/dist-packages (from chromadb<0.6.0,>=0.4.0->langchain-chroma) (6.0.1)\n",
            "Collecting mmh3>=4.0.1 (from chromadb<0.6.0,>=0.4.0->langchain-chroma)\n",
            "  Downloading mmh3-4.1.0-cp310-cp310-manylinux_2_5_x86_64.manylinux1_x86_64.manylinux_2_17_x86_64.manylinux2014_x86_64.whl (67 kB)\n",
            "\u001b[2K     \u001b[90m━━━━━━━━━━━━━━━━━━━━━━━━━━━━━━━━━━━━━━━━\u001b[0m \u001b[32m67.6/67.6 kB\u001b[0m \u001b[31m8.1 MB/s\u001b[0m eta \u001b[36m0:00:00\u001b[0m\n",
            "\u001b[?25hRequirement already satisfied: orjson>=3.9.12 in /usr/local/lib/python3.10/dist-packages (from chromadb<0.6.0,>=0.4.0->langchain-chroma) (3.10.6)\n",
            "Requirement already satisfied: httpx>=0.27.0 in /usr/local/lib/python3.10/dist-packages (from chromadb<0.6.0,>=0.4.0->langchain-chroma) (0.27.0)\n",
            "Collecting starlette<0.38.0,>=0.37.2 (from fastapi<1,>=0.95.2->langchain-chroma)\n",
            "  Downloading starlette-0.37.2-py3-none-any.whl (71 kB)\n",
            "\u001b[2K     \u001b[90m━━━━━━━━━━━━━━━━━━━━━━━━━━━━━━━━━━━━━━━━\u001b[0m \u001b[32m71.9/71.9 kB\u001b[0m \u001b[31m7.6 MB/s\u001b[0m eta \u001b[36m0:00:00\u001b[0m\n",
            "\u001b[?25hCollecting fastapi-cli>=0.0.2 (from fastapi<1,>=0.95.2->langchain-chroma)\n",
            "  Downloading fastapi_cli-0.0.4-py3-none-any.whl (9.5 kB)\n",
            "Requirement already satisfied: jinja2>=2.11.2 in /usr/local/lib/python3.10/dist-packages (from fastapi<1,>=0.95.2->langchain-chroma) (3.1.4)\n",
            "Collecting python-multipart>=0.0.7 (from fastapi<1,>=0.95.2->langchain-chroma)\n",
            "  Downloading python_multipart-0.0.9-py3-none-any.whl (22 kB)\n",
            "Collecting ujson!=4.0.2,!=4.1.0,!=4.2.0,!=4.3.0,!=5.0.0,!=5.1.0,>=4.0.1 (from fastapi<1,>=0.95.2->langchain-chroma)\n",
            "  Downloading ujson-5.10.0-cp310-cp310-manylinux_2_17_x86_64.manylinux2014_x86_64.whl (53 kB)\n",
            "\u001b[2K     \u001b[90m━━━━━━━━━━━━━━━━━━━━━━━━━━━━━━━━━━━━━━━━\u001b[0m \u001b[32m53.6/53.6 kB\u001b[0m \u001b[31m6.4 MB/s\u001b[0m eta \u001b[36m0:00:00\u001b[0m\n",
            "\u001b[?25hCollecting email_validator>=2.0.0 (from fastapi<1,>=0.95.2->langchain-chroma)\n",
            "  Downloading email_validator-2.2.0-py3-none-any.whl (33 kB)\n",
            "Requirement already satisfied: jsonpatch<2.0,>=1.33 in /usr/local/lib/python3.10/dist-packages (from langchain-core<0.3,>=0.1.40->langchain-chroma) (1.33)\n",
            "Requirement already satisfied: langsmith<0.2.0,>=0.1.75 in /usr/local/lib/python3.10/dist-packages (from langchain-core<0.3,>=0.1.40->langchain-chroma) (0.1.84)\n",
            "Requirement already satisfied: packaging<25,>=23.2 in /usr/local/lib/python3.10/dist-packages (from langchain-core<0.3,>=0.1.40->langchain-chroma) (24.1)\n",
            "Requirement already satisfied: pyproject_hooks in /usr/local/lib/python3.10/dist-packages (from build>=1.0.3->chromadb<0.6.0,>=0.4.0->langchain-chroma) (1.1.0)\n",
            "Requirement already satisfied: tomli>=1.1.0 in /usr/local/lib/python3.10/dist-packages (from build>=1.0.3->chromadb<0.6.0,>=0.4.0->langchain-chroma) (2.0.1)\n",
            "Collecting dnspython>=2.0.0 (from email_validator>=2.0.0->fastapi<1,>=0.95.2->langchain-chroma)\n",
            "  Downloading dnspython-2.6.1-py3-none-any.whl (307 kB)\n",
            "\u001b[2K     \u001b[90m━━━━━━━━━━━━━━━━━━━━━━━━━━━━━━━━━━━━━━━━\u001b[0m \u001b[32m307.7/307.7 kB\u001b[0m \u001b[31m28.7 MB/s\u001b[0m eta \u001b[36m0:00:00\u001b[0m\n",
            "\u001b[?25hRequirement already satisfied: idna>=2.0.0 in /usr/local/lib/python3.10/dist-packages (from email_validator>=2.0.0->fastapi<1,>=0.95.2->langchain-chroma) (3.7)\n",
            "Requirement already satisfied: anyio in /usr/local/lib/python3.10/dist-packages (from httpx>=0.27.0->chromadb<0.6.0,>=0.4.0->langchain-chroma) (3.7.1)\n",
            "Requirement already satisfied: certifi in /usr/local/lib/python3.10/dist-packages (from httpx>=0.27.0->chromadb<0.6.0,>=0.4.0->langchain-chroma) (2024.6.2)\n",
            "Requirement already satisfied: httpcore==1.* in /usr/local/lib/python3.10/dist-packages (from httpx>=0.27.0->chromadb<0.6.0,>=0.4.0->langchain-chroma) (1.0.5)\n",
            "Requirement already satisfied: sniffio in /usr/local/lib/python3.10/dist-packages (from httpx>=0.27.0->chromadb<0.6.0,>=0.4.0->langchain-chroma) (1.3.1)\n",
            "Requirement already satisfied: h11<0.15,>=0.13 in /usr/local/lib/python3.10/dist-packages (from httpcore==1.*->httpx>=0.27.0->chromadb<0.6.0,>=0.4.0->langchain-chroma) (0.14.0)\n",
            "Requirement already satisfied: MarkupSafe>=2.0 in /usr/local/lib/python3.10/dist-packages (from jinja2>=2.11.2->fastapi<1,>=0.95.2->langchain-chroma) (2.1.5)\n",
            "Requirement already satisfied: jsonpointer>=1.9 in /usr/local/lib/python3.10/dist-packages (from jsonpatch<2.0,>=1.33->langchain-core<0.3,>=0.1.40->langchain-chroma) (3.0.0)\n",
            "Requirement already satisfied: six>=1.9.0 in /usr/local/lib/python3.10/dist-packages (from kubernetes>=28.1.0->chromadb<0.6.0,>=0.4.0->langchain-chroma) (1.16.0)\n",
            "Requirement already satisfied: python-dateutil>=2.5.3 in /usr/local/lib/python3.10/dist-packages (from kubernetes>=28.1.0->chromadb<0.6.0,>=0.4.0->langchain-chroma) (2.8.2)\n",
            "Requirement already satisfied: google-auth>=1.0.1 in /usr/local/lib/python3.10/dist-packages (from kubernetes>=28.1.0->chromadb<0.6.0,>=0.4.0->langchain-chroma) (2.27.0)\n",
            "Requirement already satisfied: websocket-client!=0.40.0,!=0.41.*,!=0.42.*,>=0.32.0 in /usr/local/lib/python3.10/dist-packages (from kubernetes>=28.1.0->chromadb<0.6.0,>=0.4.0->langchain-chroma) (1.8.0)\n",
            "Requirement already satisfied: requests-oauthlib in /usr/local/lib/python3.10/dist-packages (from kubernetes>=28.1.0->chromadb<0.6.0,>=0.4.0->langchain-chroma) (1.3.1)\n",
            "Requirement already satisfied: oauthlib>=3.2.2 in /usr/local/lib/python3.10/dist-packages (from kubernetes>=28.1.0->chromadb<0.6.0,>=0.4.0->langchain-chroma) (3.2.2)\n",
            "Requirement already satisfied: urllib3>=1.24.2 in /usr/local/lib/python3.10/dist-packages (from kubernetes>=28.1.0->chromadb<0.6.0,>=0.4.0->langchain-chroma) (2.0.7)\n",
            "Collecting coloredlogs (from onnxruntime>=1.14.1->chromadb<0.6.0,>=0.4.0->langchain-chroma)\n",
            "  Downloading coloredlogs-15.0.1-py2.py3-none-any.whl (46 kB)\n",
            "\u001b[2K     \u001b[90m━━━━━━━━━━━━━━━━━━━━━━━━━━━━━━━━━━━━━━━━\u001b[0m \u001b[32m46.0/46.0 kB\u001b[0m \u001b[31m5.1 MB/s\u001b[0m eta \u001b[36m0:00:00\u001b[0m\n",
            "\u001b[?25hRequirement already satisfied: flatbuffers in /usr/local/lib/python3.10/dist-packages (from onnxruntime>=1.14.1->chromadb<0.6.0,>=0.4.0->langchain-chroma) (24.3.25)\n",
            "Requirement already satisfied: protobuf in /usr/local/lib/python3.10/dist-packages (from onnxruntime>=1.14.1->chromadb<0.6.0,>=0.4.0->langchain-chroma) (3.20.3)\n",
            "Requirement already satisfied: sympy in /usr/local/lib/python3.10/dist-packages (from onnxruntime>=1.14.1->chromadb<0.6.0,>=0.4.0->langchain-chroma) (1.12.1)\n",
            "Collecting deprecated>=1.2.6 (from opentelemetry-api>=1.2.0->chromadb<0.6.0,>=0.4.0->langchain-chroma)\n",
            "  Downloading Deprecated-1.2.14-py2.py3-none-any.whl (9.6 kB)\n",
            "Collecting importlib-metadata<=7.1,>=6.0 (from opentelemetry-api>=1.2.0->chromadb<0.6.0,>=0.4.0->langchain-chroma)\n",
            "  Downloading importlib_metadata-7.1.0-py3-none-any.whl (24 kB)\n",
            "Requirement already satisfied: googleapis-common-protos~=1.52 in /usr/local/lib/python3.10/dist-packages (from opentelemetry-exporter-otlp-proto-grpc>=1.2.0->chromadb<0.6.0,>=0.4.0->langchain-chroma) (1.63.2)\n",
            "Collecting opentelemetry-exporter-otlp-proto-common==1.25.0 (from opentelemetry-exporter-otlp-proto-grpc>=1.2.0->chromadb<0.6.0,>=0.4.0->langchain-chroma)\n",
            "  Downloading opentelemetry_exporter_otlp_proto_common-1.25.0-py3-none-any.whl (17 kB)\n",
            "Collecting opentelemetry-proto==1.25.0 (from opentelemetry-exporter-otlp-proto-grpc>=1.2.0->chromadb<0.6.0,>=0.4.0->langchain-chroma)\n",
            "  Downloading opentelemetry_proto-1.25.0-py3-none-any.whl (52 kB)\n",
            "\u001b[2K     \u001b[90m━━━━━━━━━━━━━━━━━━━━━━━━━━━━━━━━━━━━━━━━\u001b[0m \u001b[32m52.5/52.5 kB\u001b[0m \u001b[31m5.5 MB/s\u001b[0m eta \u001b[36m0:00:00\u001b[0m\n",
            "\u001b[?25hCollecting opentelemetry-instrumentation-asgi==0.46b0 (from opentelemetry-instrumentation-fastapi>=0.41b0->chromadb<0.6.0,>=0.4.0->langchain-chroma)\n",
            "  Downloading opentelemetry_instrumentation_asgi-0.46b0-py3-none-any.whl (14 kB)\n",
            "Collecting opentelemetry-instrumentation==0.46b0 (from opentelemetry-instrumentation-fastapi>=0.41b0->chromadb<0.6.0,>=0.4.0->langchain-chroma)\n",
            "  Downloading opentelemetry_instrumentation-0.46b0-py3-none-any.whl (29 kB)\n",
            "Collecting opentelemetry-semantic-conventions==0.46b0 (from opentelemetry-instrumentation-fastapi>=0.41b0->chromadb<0.6.0,>=0.4.0->langchain-chroma)\n",
            "  Downloading opentelemetry_semantic_conventions-0.46b0-py3-none-any.whl (130 kB)\n",
            "\u001b[2K     \u001b[90m━━━━━━━━━━━━━━━━━━━━━━━━━━━━━━━━━━━━━━━━\u001b[0m \u001b[32m130.5/130.5 kB\u001b[0m \u001b[31m9.5 MB/s\u001b[0m eta \u001b[36m0:00:00\u001b[0m\n",
            "\u001b[?25hCollecting opentelemetry-util-http==0.46b0 (from opentelemetry-instrumentation-fastapi>=0.41b0->chromadb<0.6.0,>=0.4.0->langchain-chroma)\n",
            "  Downloading opentelemetry_util_http-0.46b0-py3-none-any.whl (6.9 kB)\n",
            "Requirement already satisfied: setuptools>=16.0 in /usr/local/lib/python3.10/dist-packages (from opentelemetry-instrumentation==0.46b0->opentelemetry-instrumentation-fastapi>=0.41b0->chromadb<0.6.0,>=0.4.0->langchain-chroma) (67.7.2)\n",
            "Requirement already satisfied: wrapt<2.0.0,>=1.0.0 in /usr/local/lib/python3.10/dist-packages (from opentelemetry-instrumentation==0.46b0->opentelemetry-instrumentation-fastapi>=0.41b0->chromadb<0.6.0,>=0.4.0->langchain-chroma) (1.14.1)\n",
            "Collecting asgiref~=3.0 (from opentelemetry-instrumentation-asgi==0.46b0->opentelemetry-instrumentation-fastapi>=0.41b0->chromadb<0.6.0,>=0.4.0->langchain-chroma)\n",
            "  Downloading asgiref-3.8.1-py3-none-any.whl (23 kB)\n",
            "Collecting monotonic>=1.5 (from posthog>=2.4.0->chromadb<0.6.0,>=0.4.0->langchain-chroma)\n",
            "  Downloading monotonic-1.6-py2.py3-none-any.whl (8.2 kB)\n",
            "Collecting backoff>=1.10.0 (from posthog>=2.4.0->chromadb<0.6.0,>=0.4.0->langchain-chroma)\n",
            "  Downloading backoff-2.2.1-py3-none-any.whl (15 kB)\n",
            "Requirement already satisfied: annotated-types>=0.4.0 in /usr/local/lib/python3.10/dist-packages (from pydantic>=1.9->chromadb<0.6.0,>=0.4.0->langchain-chroma) (0.7.0)\n",
            "Requirement already satisfied: pydantic-core==2.20.0 in /usr/local/lib/python3.10/dist-packages (from pydantic>=1.9->chromadb<0.6.0,>=0.4.0->langchain-chroma) (2.20.0)\n",
            "Requirement already satisfied: charset-normalizer<4,>=2 in /usr/local/lib/python3.10/dist-packages (from requests>=2.28->chromadb<0.6.0,>=0.4.0->langchain-chroma) (3.3.2)\n",
            "Requirement already satisfied: huggingface-hub<1.0,>=0.16.4 in /usr/local/lib/python3.10/dist-packages (from tokenizers>=0.13.2->chromadb<0.6.0,>=0.4.0->langchain-chroma) (0.23.4)\n",
            "Requirement already satisfied: click>=8.0.0 in /usr/local/lib/python3.10/dist-packages (from typer>=0.9.0->chromadb<0.6.0,>=0.4.0->langchain-chroma) (8.1.7)\n",
            "Requirement already satisfied: shellingham>=1.3.0 in /usr/local/lib/python3.10/dist-packages (from typer>=0.9.0->chromadb<0.6.0,>=0.4.0->langchain-chroma) (1.5.4)\n",
            "Requirement already satisfied: rich>=10.11.0 in /usr/local/lib/python3.10/dist-packages (from typer>=0.9.0->chromadb<0.6.0,>=0.4.0->langchain-chroma) (13.7.1)\n",
            "Collecting httptools>=0.5.0 (from uvicorn[standard]>=0.18.3->chromadb<0.6.0,>=0.4.0->langchain-chroma)\n",
            "  Downloading httptools-0.6.1-cp310-cp310-manylinux_2_5_x86_64.manylinux1_x86_64.manylinux_2_17_x86_64.manylinux2014_x86_64.whl (341 kB)\n",
            "\u001b[2K     \u001b[90m━━━━━━━━━━━━━━━━━━━━━━━━━━━━━━━━━━━━━━━━\u001b[0m \u001b[32m341.4/341.4 kB\u001b[0m \u001b[31m28.1 MB/s\u001b[0m eta \u001b[36m0:00:00\u001b[0m\n",
            "\u001b[?25hCollecting python-dotenv>=0.13 (from uvicorn[standard]>=0.18.3->chromadb<0.6.0,>=0.4.0->langchain-chroma)\n",
            "  Downloading python_dotenv-1.0.1-py3-none-any.whl (19 kB)\n",
            "Collecting uvloop!=0.15.0,!=0.15.1,>=0.14.0 (from uvicorn[standard]>=0.18.3->chromadb<0.6.0,>=0.4.0->langchain-chroma)\n",
            "  Downloading uvloop-0.19.0-cp310-cp310-manylinux_2_17_x86_64.manylinux2014_x86_64.whl (3.4 MB)\n",
            "\u001b[2K     \u001b[90m━━━━━━━━━━━━━━━━━━━━━━━━━━━━━━━━━━━━━━━━\u001b[0m \u001b[32m3.4/3.4 MB\u001b[0m \u001b[31m54.0 MB/s\u001b[0m eta \u001b[36m0:00:00\u001b[0m\n",
            "\u001b[?25hCollecting watchfiles>=0.13 (from uvicorn[standard]>=0.18.3->chromadb<0.6.0,>=0.4.0->langchain-chroma)\n",
            "  Downloading watchfiles-0.22.0-cp310-cp310-manylinux_2_17_x86_64.manylinux2014_x86_64.whl (1.2 MB)\n",
            "\u001b[2K     \u001b[90m━━━━━━━━━━━━━━━━━━━━━━━━━━━━━━━━━━━━━━━━\u001b[0m \u001b[32m1.2/1.2 MB\u001b[0m \u001b[31m43.1 MB/s\u001b[0m eta \u001b[36m0:00:00\u001b[0m\n",
            "\u001b[?25hCollecting websockets>=10.4 (from uvicorn[standard]>=0.18.3->chromadb<0.6.0,>=0.4.0->langchain-chroma)\n",
            "  Downloading websockets-12.0-cp310-cp310-manylinux_2_5_x86_64.manylinux1_x86_64.manylinux_2_17_x86_64.manylinux2014_x86_64.whl (130 kB)\n",
            "\u001b[2K     \u001b[90m━━━━━━━━━━━━━━━━━━━━━━━━━━━━━━━━━━━━━━━━\u001b[0m \u001b[32m130.2/130.2 kB\u001b[0m \u001b[31m14.3 MB/s\u001b[0m eta \u001b[36m0:00:00\u001b[0m\n",
            "\u001b[?25hRequirement already satisfied: exceptiongroup in /usr/local/lib/python3.10/dist-packages (from anyio->httpx>=0.27.0->chromadb<0.6.0,>=0.4.0->langchain-chroma) (1.2.1)\n",
            "Requirement already satisfied: cachetools<6.0,>=2.0.0 in /usr/local/lib/python3.10/dist-packages (from google-auth>=1.0.1->kubernetes>=28.1.0->chromadb<0.6.0,>=0.4.0->langchain-chroma) (5.3.3)\n",
            "Requirement already satisfied: pyasn1-modules>=0.2.1 in /usr/local/lib/python3.10/dist-packages (from google-auth>=1.0.1->kubernetes>=28.1.0->chromadb<0.6.0,>=0.4.0->langchain-chroma) (0.4.0)\n",
            "Requirement already satisfied: rsa<5,>=3.1.4 in /usr/local/lib/python3.10/dist-packages (from google-auth>=1.0.1->kubernetes>=28.1.0->chromadb<0.6.0,>=0.4.0->langchain-chroma) (4.9)\n",
            "Requirement already satisfied: filelock in /usr/local/lib/python3.10/dist-packages (from huggingface-hub<1.0,>=0.16.4->tokenizers>=0.13.2->chromadb<0.6.0,>=0.4.0->langchain-chroma) (3.15.4)\n",
            "Requirement already satisfied: fsspec>=2023.5.0 in /usr/local/lib/python3.10/dist-packages (from huggingface-hub<1.0,>=0.16.4->tokenizers>=0.13.2->chromadb<0.6.0,>=0.4.0->langchain-chroma) (2023.6.0)\n",
            "Requirement already satisfied: zipp>=0.5 in /usr/local/lib/python3.10/dist-packages (from importlib-metadata<=7.1,>=6.0->opentelemetry-api>=1.2.0->chromadb<0.6.0,>=0.4.0->langchain-chroma) (3.19.2)\n",
            "Requirement already satisfied: markdown-it-py>=2.2.0 in /usr/local/lib/python3.10/dist-packages (from rich>=10.11.0->typer>=0.9.0->chromadb<0.6.0,>=0.4.0->langchain-chroma) (3.0.0)\n",
            "Requirement already satisfied: pygments<3.0.0,>=2.13.0 in /usr/local/lib/python3.10/dist-packages (from rich>=10.11.0->typer>=0.9.0->chromadb<0.6.0,>=0.4.0->langchain-chroma) (2.16.1)\n",
            "Collecting humanfriendly>=9.1 (from coloredlogs->onnxruntime>=1.14.1->chromadb<0.6.0,>=0.4.0->langchain-chroma)\n",
            "  Downloading humanfriendly-10.0-py2.py3-none-any.whl (86 kB)\n",
            "\u001b[2K     \u001b[90m━━━━━━━━━━━━━━━━━━━━━━━━━━━━━━━━━━━━━━━━\u001b[0m \u001b[32m86.8/86.8 kB\u001b[0m \u001b[31m10.5 MB/s\u001b[0m eta \u001b[36m0:00:00\u001b[0m\n",
            "\u001b[?25hRequirement already satisfied: mpmath<1.4.0,>=1.1.0 in /usr/local/lib/python3.10/dist-packages (from sympy->onnxruntime>=1.14.1->chromadb<0.6.0,>=0.4.0->langchain-chroma) (1.3.0)\n",
            "Requirement already satisfied: mdurl~=0.1 in /usr/local/lib/python3.10/dist-packages (from markdown-it-py>=2.2.0->rich>=10.11.0->typer>=0.9.0->chromadb<0.6.0,>=0.4.0->langchain-chroma) (0.1.2)\n",
            "Requirement already satisfied: pyasn1<0.7.0,>=0.4.6 in /usr/local/lib/python3.10/dist-packages (from pyasn1-modules>=0.2.1->google-auth>=1.0.1->kubernetes>=28.1.0->chromadb<0.6.0,>=0.4.0->langchain-chroma) (0.6.0)\n",
            "Building wheels for collected packages: pypika\n",
            "  Building wheel for pypika (pyproject.toml) ... \u001b[?25l\u001b[?25hdone\n",
            "  Created wheel for pypika: filename=PyPika-0.48.9-py2.py3-none-any.whl size=53724 sha256=9268662de98b02d2409827ab9a74f1f1e7ab7ef7ed2f5744503976da08ec7a26\n",
            "  Stored in directory: /root/.cache/pip/wheels/e1/26/51/d0bffb3d2fd82256676d7ad3003faea3bd6dddc9577af665f4\n",
            "Successfully built pypika\n",
            "Installing collected packages: pypika, monotonic, mmh3, websockets, uvloop, uvicorn, ujson, python-multipart, python-dotenv, overrides, opentelemetry-util-http, opentelemetry-proto, importlib-metadata, humanfriendly, httptools, dnspython, deprecated, chroma-hnswlib, bcrypt, backoff, asgiref, watchfiles, starlette, posthog, opentelemetry-exporter-otlp-proto-common, opentelemetry-api, email_validator, coloredlogs, opentelemetry-semantic-conventions, opentelemetry-instrumentation, onnxruntime, kubernetes, opentelemetry-sdk, opentelemetry-instrumentation-asgi, fastapi-cli, opentelemetry-instrumentation-fastapi, opentelemetry-exporter-otlp-proto-grpc, fastapi, chromadb, langchain-chroma\n",
            "  Attempting uninstall: importlib-metadata\n",
            "    Found existing installation: importlib_metadata 8.0.0\n",
            "    Uninstalling importlib_metadata-8.0.0:\n",
            "      Successfully uninstalled importlib_metadata-8.0.0\n",
            "Successfully installed asgiref-3.8.1 backoff-2.2.1 bcrypt-4.1.3 chroma-hnswlib-0.7.3 chromadb-0.5.3 coloredlogs-15.0.1 deprecated-1.2.14 dnspython-2.6.1 email_validator-2.2.0 fastapi-0.111.0 fastapi-cli-0.0.4 httptools-0.6.1 humanfriendly-10.0 importlib-metadata-7.1.0 kubernetes-30.1.0 langchain-chroma-0.1.2 mmh3-4.1.0 monotonic-1.6 onnxruntime-1.18.1 opentelemetry-api-1.25.0 opentelemetry-exporter-otlp-proto-common-1.25.0 opentelemetry-exporter-otlp-proto-grpc-1.25.0 opentelemetry-instrumentation-0.46b0 opentelemetry-instrumentation-asgi-0.46b0 opentelemetry-instrumentation-fastapi-0.46b0 opentelemetry-proto-1.25.0 opentelemetry-sdk-1.25.0 opentelemetry-semantic-conventions-0.46b0 opentelemetry-util-http-0.46b0 overrides-7.7.0 posthog-3.5.0 pypika-0.48.9 python-dotenv-1.0.1 python-multipart-0.0.9 starlette-0.37.2 ujson-5.10.0 uvicorn-0.30.1 uvloop-0.19.0 watchfiles-0.22.0 websockets-12.0\n"
          ]
        }
      ]
    },
    {
      "cell_type": "markdown",
      "source": [
        "## OpenAI API key"
      ],
      "metadata": {
        "id": "LEQp0EnZheup"
      }
    },
    {
      "cell_type": "code",
      "source": [
        "from getpass import getpass\n",
        "\n",
        "OPENAI_KEY = getpass('Please enter your OPENAI key: ')"
      ],
      "metadata": {
        "colab": {
          "base_uri": "https://localhost:8080/"
        },
        "id": "Ame0yNWFhSi_",
        "outputId": "9bb90ff1-6751-46ff-f525-35e3a6653eb6"
      },
      "execution_count": 3,
      "outputs": [
        {
          "name": "stdout",
          "output_type": "stream",
          "text": [
            "Please enter your OPENAI key: ··········\n"
          ]
        }
      ]
    },
    {
      "cell_type": "markdown",
      "source": [
        "### Environment Variable Setup"
      ],
      "metadata": {
        "id": "5Ur8Nu5yhq4K"
      }
    },
    {
      "cell_type": "code",
      "source": [
        "import os\n",
        "\n",
        "os.environ['OPENAI_API_KEY'] = OPENAI_KEY"
      ],
      "metadata": {
        "id": "u84QHVIIhlrh"
      },
      "execution_count": 4,
      "outputs": []
    },
    {
      "cell_type": "markdown",
      "source": [
        "## Create 5 experimental documents\n",
        "* We will us text from the Visit New England website: https://www.visit-vermont.com/northern/"
      ],
      "metadata": {
        "id": "qBUzpnPgh0by"
      }
    },
    {
      "cell_type": "code",
      "source": [
        "documents = [\n",
        "    'Central Vermont is home to the Green Mountain National Forest, which welcomes visitors for leaf-peeping during fall foliage ; snow sports; photography, hiking, camping, and more.',\n",
        "    'Southern Vermont has it all: ski resorts, shopping, beautiful village greens, cozy inns, fall foliage, and a scattering of historic covered bridges. Ski areas -- Stratton, Bromley, Magic Mountain, and Mount Snow -- offer winter activities and many have warm-weather fun for kids and families. ',\n",
        "    'Northern Vermont presents contrasts: in the northwest corner is Lake Champlain and Burlington, a cosmopolitan university city of dynamic cultural attractions. Opposite is the Northeast Kingdom, a forested area of proud small towns, outdoor sports and natural grandeur. Jay Peak, has a fabulous ski area an indoor water park. Stowe is a 200-year-old village near Mount Mansfield, Vermonts highest peak. Stowe has an elegant character reminiscent of European mountain resorts, with celebrations all year and family-friendly deals. ',\n",
        "    'Vermont is a place, but also a state of mind that revels in outdoor beauty, good food, and the preservation of unique small towns and cities. Visitors love Vermont for its colorful fall foliage; ski resorts including Killington, Smugglers Notch, Ascutney, Stowe, and Mount Snow; mountain vistas; and attractions for families and kids. Although Vermont is an inland state, there are wonderful beaches along Lake Champlain, along with many lakes, streams, and swimming holes.',\n",
        "    'The term Northeast Kingdom was a distinction first mentioned by former Governor George Aiken in the late 1940s to refer to the natural majestic beauty of the area, which follows the northern reaches of the Connecticut River alongside New Hampshire from St. Johnsbury, VT to the Canadian border, then east to the eastern edge of the Green Mountains at Jay Peak. Sometimes abbreviated to the NEK (en-ee-kay), the Northeast Kingdom is made up of over 2,000 square miles of the most untouched and beautifully scenic land in the United States. There are lovely towns to explore in each part of the NEK. In the Eastern Trek: St. Johnsbury, Lyndon, Burke, and Island Pond, which is also known as the snowmobile capital of Vermont. ',\n",
        "]"
      ],
      "metadata": {
        "id": "qgcJej5lhxAT"
      },
      "execution_count": 10,
      "outputs": []
    },
    {
      "cell_type": "markdown",
      "source": [
        "### OpenAI Embedding Models\n",
        "* We can simply access the OpenAI embedding models here using LangChain.\n",
        "* Some of the OpenAI models include:\n",
        "1. `text-embedding-3-small`\n",
        "2. `text-embedding-3-large`"
      ],
      "metadata": {
        "id": "SuogltzHkm7N"
      }
    },
    {
      "cell_type": "code",
      "source": [
        "# import embeddings via langchain\n",
        "from langchain_openai import OpenAIEmbeddings\n",
        "\n",
        "# instantiate embeddings\n",
        "openai_embed_model = OpenAIEmbeddings(model='text-embedding-3-small')"
      ],
      "metadata": {
        "id": "hwq8XHFMkj2P"
      },
      "execution_count": 11,
      "outputs": []
    },
    {
      "cell_type": "markdown",
      "source": [
        "## ChromaDB Connection\n",
        "* Here we connect to the Vector DB.\n",
        "* Below we will see code to delete the vector DB instance if it already exists.\n",
        "* We will also see code to instantiate or create the Vector DB and persist on disk.\n",
        "  * We want to initialize a connection to a Chroma vector DB client.\n",
        "  * We also want to save to disk so we would simply init the Chroma client and pass the directory where we want the data to be saved."
      ],
      "metadata": {
        "id": "NOtJfLmBlK-6"
      }
    },
    {
      "cell_type": "code",
      "source": [
        "## this will delete the Vector DB if it already exists\n",
        "# !rm -rf ./chroma_db"
      ],
      "metadata": {
        "id": "nYR0_TamlHGI"
      },
      "execution_count": 12,
      "outputs": []
    },
    {
      "cell_type": "code",
      "source": [
        "## Create vector DB if not already created\n",
        "from langchain_chroma import Chroma\n",
        "\n",
        "# create vector DB of documents and embeddings\n",
        "chroma_db = Chroma(collection_name='search_docs',\n",
        "                   embedding_function=openai_embed_model,\n",
        "                   persist_directory=\"./chroma_db\")"
      ],
      "metadata": {
        "id": "l_qN8iCOlYFE"
      },
      "execution_count": 13,
      "outputs": []
    },
    {
      "cell_type": "markdown",
      "source": [
        "We will use sample documents."
      ],
      "metadata": {
        "id": "iwKItxYXmFum"
      }
    },
    {
      "cell_type": "code",
      "source": [
        "documents"
      ],
      "metadata": {
        "colab": {
          "base_uri": "https://localhost:8080/"
        },
        "id": "u_RRvvCAmD6r",
        "outputId": "f4252b0a-0da5-4145-86be-539b69c9f123"
      },
      "execution_count": 14,
      "outputs": [
        {
          "output_type": "execute_result",
          "data": {
            "text/plain": [
              "['Central Vermont is home to the Green Mountain National Forest, which welcomes visitors for leaf-peeping during fall foliage ; snow sports; photography, hiking, camping, and more.',\n",
              " 'Southern Vermont has it all: ski resorts, shopping, beautiful village greens, cozy inns, fall foliage, and a scattering of historic covered bridges. Ski areas -- Stratton, Bromley, Magic Mountain, and Mount Snow -- offer winter activities and many have warm-weather fun for kids and families. ',\n",
              " 'Northern Vermont presents contrasts: in the northwest corner is Lake Champlain and Burlington, a cosmopolitan university city of dynamic cultural attractions. Opposite is the Northeast Kingdom, a forested area of proud small towns, outdoor sports and natural grandeur. Jay Peak, has a fabulous ski area an indoor water park. Stowe is a 200-year-old village near Mount Mansfield, Vermonts highest peak. Stowe has an elegant character reminiscent of European mountain resorts, with celebrations all year and family-friendly deals. ',\n",
              " 'Vermont is a place, but also a state of mind that revels in outdoor beauty, good food, and the preservation of unique small towns and cities. Visitors love Vermont for its colorful fall foliage; ski resorts including Killington, Smugglers Notch, Ascutney, Stowe, and Mount Snow; mountain vistas; and attractions for families and kids. Although Vermont is an inland state, there are wonderful beaches along Lake Champlain, along with many lakes, streams, and swimming holes.',\n",
              " 'The term Northeast Kingdom was a distinction first mentioned by former Governor George Aiken in the late 1940s to refer to the natural majestic beauty of the area, which follows the northern reaches of the Connecticut River alongside New Hampshire from St. Johnsbury, VT to the Canadian border, then east to the eastern edge of the Green Mountains at Jay Peak. Sometimes abbreviated to the NEK (en-ee-kay), the Northeast Kingdom is made up of over 2,000 square miles of the most untouched and beautifully scenic land in the United States. There are lovely towns to explore in each part of the NEK. In the Eastern Trek: St. Johnsbury, Lyndon, Burke, and Island Pond, which is also known as the snowmobile capital of Vermont. ']"
            ]
          },
          "metadata": {},
          "execution_count": 14
        }
      ]
    },
    {
      "cell_type": "markdown",
      "source": [
        "## Create Document IDs\n",
        "* We do this so we can uniquely identify each document.\n",
        "* If we don't create document IDs, they will be created by default by ChromaDB."
      ],
      "metadata": {
        "id": "fccwX-gymdp2"
      }
    },
    {
      "cell_type": "code",
      "source": [
        "# Create custom IDs using list comprehension\n",
        "ids = ['doc_'+str(i) for i in range(len(documents))]\n",
        "ids"
      ],
      "metadata": {
        "colab": {
          "base_uri": "https://localhost:8080/"
        },
        "id": "m0ZcaYcOmKZy",
        "outputId": "6edc0ae3-bbcb-4d4a-ee84-793d5258a159"
      },
      "execution_count": 15,
      "outputs": [
        {
          "output_type": "execute_result",
          "data": {
            "text/plain": [
              "['doc_0', 'doc_1', 'doc_2', 'doc_3', 'doc_4']"
            ]
          },
          "metadata": {},
          "execution_count": 15
        }
      ]
    },
    {
      "cell_type": "markdown",
      "source": [
        "Check Vector DB to see if its empty."
      ],
      "metadata": {
        "id": "zBTL9-_Vmx9d"
      }
    },
    {
      "cell_type": "code",
      "source": [
        "chroma_db.get()"
      ],
      "metadata": {
        "colab": {
          "base_uri": "https://localhost:8080/"
        },
        "id": "D3gJd4QTmvxJ",
        "outputId": "317cad1c-4fbd-49f0-fae9-695b6df3ff89"
      },
      "execution_count": 16,
      "outputs": [
        {
          "output_type": "execute_result",
          "data": {
            "text/plain": [
              "{'ids': [],\n",
              " 'embeddings': None,\n",
              " 'metadatas': [],\n",
              " 'documents': [],\n",
              " 'uris': None,\n",
              " 'data': None,\n",
              " 'included': ['metadatas', 'documents']}"
            ]
          },
          "metadata": {},
          "execution_count": 16
        }
      ]
    },
    {
      "cell_type": "markdown",
      "source": [
        "Looks like it is empty, let's add documents to the Vector DB."
      ],
      "metadata": {
        "id": "dcSl83Vhm2Z5"
      }
    },
    {
      "cell_type": "markdown",
      "source": [
        "## Add documents to Vector DB\n",
        "* 1. Create embeddings.\n",
        "   * We will take the document text we created above and pass it through the Open AI embedding model we instaniated and add it to the Chroma Vector DB.\n",
        "   * If we had any documents in the LangChain `Document` format we could use the function `add_Documents` instead but we don't at the moment so we wont't.\n",
        "* 2. Add embeddings to Vector DB with indexes."
      ],
      "metadata": {
        "id": "Msue5F1Om9k3"
      }
    },
    {
      "cell_type": "code",
      "source": [
        "# add documents and custom ids to vector DB\n",
        "chroma_db.add_texts(texts=documents, ids=ids)"
      ],
      "metadata": {
        "colab": {
          "base_uri": "https://localhost:8080/"
        },
        "id": "xiu4UPwhm1Dg",
        "outputId": "ea7a5195-6195-4883-c725-be6fbf47cba5"
      },
      "execution_count": 17,
      "outputs": [
        {
          "output_type": "execute_result",
          "data": {
            "text/plain": [
              "['doc_0', 'doc_1', 'doc_2', 'doc_3', 'doc_4']"
            ]
          },
          "metadata": {},
          "execution_count": 17
        }
      ]
    },
    {
      "cell_type": "markdown",
      "source": [
        "Check Vector DB to see documents have been added and indexed."
      ],
      "metadata": {
        "id": "e5K3ABzane9B"
      }
    },
    {
      "cell_type": "code",
      "source": [
        "chroma_db.get()"
      ],
      "metadata": {
        "colab": {
          "base_uri": "https://localhost:8080/"
        },
        "id": "qAkaH8k_ndN5",
        "outputId": "1b4b2347-a380-4f8e-ecb1-3d6d3341d3ef"
      },
      "execution_count": 18,
      "outputs": [
        {
          "output_type": "execute_result",
          "data": {
            "text/plain": [
              "{'ids': ['doc_0', 'doc_1', 'doc_2', 'doc_3', 'doc_4'],\n",
              " 'embeddings': None,\n",
              " 'metadatas': [None, None, None, None, None],\n",
              " 'documents': ['Central Vermont is home to the Green Mountain National Forest, which welcomes visitors for leaf-peeping during fall foliage ; snow sports; photography, hiking, camping, and more.',\n",
              "  'Southern Vermont has it all: ski resorts, shopping, beautiful village greens, cozy inns, fall foliage, and a scattering of historic covered bridges. Ski areas -- Stratton, Bromley, Magic Mountain, and Mount Snow -- offer winter activities and many have warm-weather fun for kids and families. ',\n",
              "  'Northern Vermont presents contrasts: in the northwest corner is Lake Champlain and Burlington, a cosmopolitan university city of dynamic cultural attractions. Opposite is the Northeast Kingdom, a forested area of proud small towns, outdoor sports and natural grandeur. Jay Peak, has a fabulous ski area an indoor water park. Stowe is a 200-year-old village near Mount Mansfield, Vermonts highest peak. Stowe has an elegant character reminiscent of European mountain resorts, with celebrations all year and family-friendly deals. ',\n",
              "  'Vermont is a place, but also a state of mind that revels in outdoor beauty, good food, and the preservation of unique small towns and cities. Visitors love Vermont for its colorful fall foliage; ski resorts including Killington, Smugglers Notch, Ascutney, Stowe, and Mount Snow; mountain vistas; and attractions for families and kids. Although Vermont is an inland state, there are wonderful beaches along Lake Champlain, along with many lakes, streams, and swimming holes.',\n",
              "  'The term Northeast Kingdom was a distinction first mentioned by former Governor George Aiken in the late 1940s to refer to the natural majestic beauty of the area, which follows the northern reaches of the Connecticut River alongside New Hampshire from St. Johnsbury, VT to the Canadian border, then east to the eastern edge of the Green Mountains at Jay Peak. Sometimes abbreviated to the NEK (en-ee-kay), the Northeast Kingdom is made up of over 2,000 square miles of the most untouched and beautifully scenic land in the United States. There are lovely towns to explore in each part of the NEK. In the Eastern Trek: St. Johnsbury, Lyndon, Burke, and Island Pond, which is also known as the snowmobile capital of Vermont. '],\n",
              " 'uris': None,\n",
              " 'data': None,\n",
              " 'included': ['metadatas', 'documents']}"
            ]
          },
          "metadata": {},
          "execution_count": 18
        }
      ]
    },
    {
      "cell_type": "markdown",
      "source": [
        "Run search queries on Vector DB."
      ],
      "metadata": {
        "id": "ze7bRFskno84"
      }
    },
    {
      "cell_type": "code",
      "source": [
        "# query 1\n",
        "query = \"Tell me about the Northeast Kingdom.\"\n",
        "docs = chroma_db.similarity_search_with_score(query=query,k=1)\n",
        "docs"
      ],
      "metadata": {
        "colab": {
          "base_uri": "https://localhost:8080/"
        },
        "id": "u9S3RaM1nmZZ",
        "outputId": "5c7572c2-7bfb-4ed0-dcae-5a3f24c9b0bd"
      },
      "execution_count": 19,
      "outputs": [
        {
          "output_type": "execute_result",
          "data": {
            "text/plain": [
              "[(Document(page_content='The term Northeast Kingdom was a distinction first mentioned by former Governor George Aiken in the late 1940s to refer to the natural majestic beauty of the area, which follows the northern reaches of the Connecticut River alongside New Hampshire from St. Johnsbury, VT to the Canadian border, then east to the eastern edge of the Green Mountains at Jay Peak. Sometimes abbreviated to the NEK (en-ee-kay), the Northeast Kingdom is made up of over 2,000 square miles of the most untouched and beautifully scenic land in the United States. There are lovely towns to explore in each part of the NEK. In the Eastern Trek: St. Johnsbury, Lyndon, Burke, and Island Pond, which is also known as the snowmobile capital of Vermont. '),\n",
              "  0.49111950946367544)]"
            ]
          },
          "metadata": {},
          "execution_count": 19
        }
      ]
    },
    {
      "cell_type": "code",
      "source": [
        "# query 2\n",
        "query = \"Where is Stowe Mountain located?\"\n",
        "docs = chroma_db.similarity_search_with_score(query=query, k=1)\n",
        "docs"
      ],
      "metadata": {
        "colab": {
          "base_uri": "https://localhost:8080/"
        },
        "id": "jxxA53Ajn-BL",
        "outputId": "10251f33-7eef-4b1a-ca6e-75d7ce59e514"
      },
      "execution_count": 20,
      "outputs": [
        {
          "output_type": "execute_result",
          "data": {
            "text/plain": [
              "[(Document(page_content='Northern Vermont presents contrasts: in the northwest corner is Lake Champlain and Burlington, a cosmopolitan university city of dynamic cultural attractions. Opposite is the Northeast Kingdom, a forested area of proud small towns, outdoor sports and natural grandeur. Jay Peak, has a fabulous ski area an indoor water park. Stowe is a 200-year-old village near Mount Mansfield, Vermonts highest peak. Stowe has an elegant character reminiscent of European mountain resorts, with celebrations all year and family-friendly deals. '),\n",
              "  0.8995435859606269)]"
            ]
          },
          "metadata": {},
          "execution_count": 20
        }
      ]
    },
    {
      "cell_type": "code",
      "source": [
        "# query 3\n",
        "query = \"Where is leaf peeping popular?\"\n",
        "docs = chroma_db.similarity_search_with_score(query=query, k=1)\n",
        "docs"
      ],
      "metadata": {
        "colab": {
          "base_uri": "https://localhost:8080/"
        },
        "id": "Wo2qF-xEoVDE",
        "outputId": "51d61844-977c-4fb9-d7e8-3b1746a4ae96"
      },
      "execution_count": 23,
      "outputs": [
        {
          "output_type": "execute_result",
          "data": {
            "text/plain": [
              "[(Document(page_content='Central Vermont is home to the Green Mountain National Forest, which welcomes visitors for leaf-peeping during fall foliage ; snow sports; photography, hiking, camping, and more.'),\n",
              "  1.0454452153900495)]"
            ]
          },
          "metadata": {},
          "execution_count": 23
        }
      ]
    },
    {
      "cell_type": "markdown",
      "source": [
        "## Add more documents to Vector DB\n",
        "* You are able to add new documents to a Vector DB anytime."
      ],
      "metadata": {
        "id": "MXftAnQso-YD"
      }
    },
    {
      "cell_type": "code",
      "source": [
        "new_documents = [\n",
        "    'Greater Portland, on Casco Bay, is Maine’s largest city and a delightful year-round tourist destination for vacationers who love urban settings. ',\n",
        "    'Mount Monadnock is believed to be the most frequently climbed mountain in the world. Henry David Thoreau, Ralph Waldo Emerson, Mark Twain, and others hiked this mountain and wrote about it as a symbol of spiritual and environmental awareness. ',\n",
        "    'The gateway city to the Katahdin Moosehead is Bangor, the Lumber Capital of the World, where visitors are greeted by a large statue of Paul Bunyan. The Maine Forest and Logging Museum is an authentic reconstruction of a logging and milling community.',\n",
        "    'Families from all over the world come to the majestic White Mountains of New Hampshire to be thrilled by the ride up on the historic Mount Washington Cog Railway. The dramatic ascent to the summit of the Northeast’s highest peak features amazing views of lush forests, deep chasms and the steepest railroad trestle in the world in Jacob’s Ladder.',\n",
        "    'Killington’s nickname in parts of the skiing world is The Beast of the East. It is the biggest ski resort in New England, and it encompasses seven peaks, 200 trails, and five terrain parks. Vertical drop is 3,050 feet. Natural snow averages 250 inches a year, and artificial snowmaking covers 600 acres of skiable area. Naturally, with such vast spaces and resources, Killington offers a big variety of ski trails, from easy learning areas to steep gladed trails and everything in between.',\n",
        "]"
      ],
      "metadata": {
        "id": "N6XlbkOyoshU"
      },
      "execution_count": 24,
      "outputs": []
    },
    {
      "cell_type": "markdown",
      "source": [
        "### Create new ids for new docs"
      ],
      "metadata": {
        "id": "Km5151edsWS-"
      }
    },
    {
      "cell_type": "code",
      "source": [
        "new_ids = ['doc_'+str(i+len(ids)) for i in range(len(new_documents))]\n",
        "new_ids"
      ],
      "metadata": {
        "colab": {
          "base_uri": "https://localhost:8080/"
        },
        "id": "ZAWXdzBgsVVJ",
        "outputId": "71c4c36b-fd49-485a-cfdd-b8eb8d736947"
      },
      "execution_count": 25,
      "outputs": [
        {
          "output_type": "execute_result",
          "data": {
            "text/plain": [
              "['doc_5', 'doc_6', 'doc_7', 'doc_8', 'doc_9']"
            ]
          },
          "metadata": {},
          "execution_count": 25
        }
      ]
    },
    {
      "cell_type": "markdown",
      "source": [
        "### Add new docs with ids to Vector DB"
      ],
      "metadata": {
        "id": "xbkQ-z3qsl0i"
      }
    },
    {
      "cell_type": "code",
      "source": [
        "chroma_db.add_texts(texts=new_documents, ids=new_ids)"
      ],
      "metadata": {
        "colab": {
          "base_uri": "https://localhost:8080/"
        },
        "id": "8EnYKuJrsf5n",
        "outputId": "d478d12a-afad-4a62-e33a-29eb26adf035"
      },
      "execution_count": 26,
      "outputs": [
        {
          "output_type": "execute_result",
          "data": {
            "text/plain": [
              "['doc_5', 'doc_6', 'doc_7', 'doc_8', 'doc_9']"
            ]
          },
          "metadata": {},
          "execution_count": 26
        }
      ]
    },
    {
      "cell_type": "code",
      "source": [
        "## get the docs\n",
        "chroma_db.get()"
      ],
      "metadata": {
        "colab": {
          "base_uri": "https://localhost:8080/"
        },
        "id": "5H0KL4SXsvda",
        "outputId": "9e89abaa-d0ea-4421-e5bb-44e47e059df5"
      },
      "execution_count": 28,
      "outputs": [
        {
          "output_type": "execute_result",
          "data": {
            "text/plain": [
              "{'ids': ['doc_0',\n",
              "  'doc_1',\n",
              "  'doc_2',\n",
              "  'doc_3',\n",
              "  'doc_4',\n",
              "  'doc_5',\n",
              "  'doc_6',\n",
              "  'doc_7',\n",
              "  'doc_8',\n",
              "  'doc_9'],\n",
              " 'embeddings': None,\n",
              " 'metadatas': [None, None, None, None, None, None, None, None, None, None],\n",
              " 'documents': ['Central Vermont is home to the Green Mountain National Forest, which welcomes visitors for leaf-peeping during fall foliage ; snow sports; photography, hiking, camping, and more.',\n",
              "  'Southern Vermont has it all: ski resorts, shopping, beautiful village greens, cozy inns, fall foliage, and a scattering of historic covered bridges. Ski areas -- Stratton, Bromley, Magic Mountain, and Mount Snow -- offer winter activities and many have warm-weather fun for kids and families. ',\n",
              "  'Northern Vermont presents contrasts: in the northwest corner is Lake Champlain and Burlington, a cosmopolitan university city of dynamic cultural attractions. Opposite is the Northeast Kingdom, a forested area of proud small towns, outdoor sports and natural grandeur. Jay Peak, has a fabulous ski area an indoor water park. Stowe is a 200-year-old village near Mount Mansfield, Vermonts highest peak. Stowe has an elegant character reminiscent of European mountain resorts, with celebrations all year and family-friendly deals. ',\n",
              "  'Vermont is a place, but also a state of mind that revels in outdoor beauty, good food, and the preservation of unique small towns and cities. Visitors love Vermont for its colorful fall foliage; ski resorts including Killington, Smugglers Notch, Ascutney, Stowe, and Mount Snow; mountain vistas; and attractions for families and kids. Although Vermont is an inland state, there are wonderful beaches along Lake Champlain, along with many lakes, streams, and swimming holes.',\n",
              "  'The term Northeast Kingdom was a distinction first mentioned by former Governor George Aiken in the late 1940s to refer to the natural majestic beauty of the area, which follows the northern reaches of the Connecticut River alongside New Hampshire from St. Johnsbury, VT to the Canadian border, then east to the eastern edge of the Green Mountains at Jay Peak. Sometimes abbreviated to the NEK (en-ee-kay), the Northeast Kingdom is made up of over 2,000 square miles of the most untouched and beautifully scenic land in the United States. There are lovely towns to explore in each part of the NEK. In the Eastern Trek: St. Johnsbury, Lyndon, Burke, and Island Pond, which is also known as the snowmobile capital of Vermont. ',\n",
              "  'Greater Portland, on Casco Bay, is Maine’s largest city and a delightful year-round tourist destination for vacationers who love urban settings. ',\n",
              "  'Mount Monadnock is believed to be the most frequently climbed mountain in the world. Henry David Thoreau, Ralph Waldo Emerson, Mark Twain, and others hiked this mountain and wrote about it as a symbol of spiritual and environmental awareness. ',\n",
              "  'The gateway city to the Katahdin Moosehead is Bangor, the Lumber Capital of the World, where visitors are greeted by a large statue of Paul Bunyan. The Maine Forest and Logging Museum is an authentic reconstruction of a logging and milling community.',\n",
              "  'Families from all over the world come to the majestic White Mountains of New Hampshire to be thrilled by the ride up on the historic Mount Washington Cog Railway. The dramatic ascent to the summit of the Northeast’s highest peak features amazing views of lush forests, deep chasms and the steepest railroad trestle in the world in Jacob’s Ladder.',\n",
              "  'Killington’s nickname in parts of the skiing world is The Beast of the East. It is the biggest ski resort in New England, and it encompasses seven peaks, 200 trails, and five terrain parks. Vertical drop is 3,050 feet. Natural snow averages 250 inches a year, and artificial snowmaking covers 600 acres of skiable area. Naturally, with such vast spaces and resources, Killington offers a big variety of ski trails, from easy learning areas to steep gladed trails and everything in between.'],\n",
              " 'uris': None,\n",
              " 'data': None,\n",
              " 'included': ['metadatas', 'documents']}"
            ]
          },
          "metadata": {},
          "execution_count": 28
        }
      ]
    },
    {
      "cell_type": "code",
      "source": [
        "## new query\n",
        "query = \"What is Maine's largest city?\"\n",
        "docs = chroma_db.similarity_search_with_score(query=query, k=1)\n",
        "docs"
      ],
      "metadata": {
        "colab": {
          "base_uri": "https://localhost:8080/"
        },
        "id": "ZhG61EqYsyuA",
        "outputId": "eb2bab25-0f31-4d6c-e790-d8d3de8265a3"
      },
      "execution_count": 29,
      "outputs": [
        {
          "output_type": "execute_result",
          "data": {
            "text/plain": [
              "[(Document(page_content='Greater Portland, on Casco Bay, is Maine’s largest city and a delightful year-round tourist destination for vacationers who love urban settings. '),\n",
              "  0.6029868341188629)]"
            ]
          },
          "metadata": {},
          "execution_count": 29
        }
      ]
    },
    {
      "cell_type": "markdown",
      "source": [
        "## Updating documents in Vector DB\n",
        "* When building applications you will want to be able to update data in the vector DB.\n",
        "* Chroma lets users provide ids to simplify the process and update documents as we will see below using the function `update_documents`."
      ],
      "metadata": {
        "id": "_xXeCkSetO2l"
      }
    },
    {
      "cell_type": "code",
      "source": [
        "## lets get a document we want to update\n",
        "chroma_db.get(['doc_8'])"
      ],
      "metadata": {
        "colab": {
          "base_uri": "https://localhost:8080/"
        },
        "id": "JcvUCIo-tKkG",
        "outputId": "5d14a777-6010-46fe-b1f2-2340d4844301"
      },
      "execution_count": 31,
      "outputs": [
        {
          "output_type": "execute_result",
          "data": {
            "text/plain": [
              "{'ids': ['doc_8'],\n",
              " 'embeddings': None,\n",
              " 'metadatas': [None],\n",
              " 'documents': ['Families from all over the world come to the majestic White Mountains of New Hampshire to be thrilled by the ride up on the historic Mount Washington Cog Railway. The dramatic ascent to the summit of the Northeast’s highest peak features amazing views of lush forests, deep chasms and the steepest railroad trestle in the world in Jacob’s Ladder.'],\n",
              " 'uris': None,\n",
              " 'data': None,\n",
              " 'included': ['metadatas', 'documents']}"
            ]
          },
          "metadata": {},
          "execution_count": 31
        }
      ]
    },
    {
      "cell_type": "code",
      "source": [
        "from langchain_core.documents import Document\n",
        "\n",
        "# id of docs to update\n",
        "ids = ['doc_8']\n",
        "# Updating/adding text to document\n",
        "texts = ['Families from all over the world come to the majestic White Mountains of New Hampshire to be thrilled by the ride up on the historic Mount Washington Cog Railway. The dramatic ascent to the summit of the Northeast’s highest peak features amazing views of lush forests, deep chasms and the steepest railroad trestle in the world in Jacob’s Ladder. The Cog is the first mountain-climbing cog railway in the world. With an average grade of 25% (some sections approach nearly 38%), it’s also the second steepest! ']\n",
        "\n",
        "# Create a LangChain document object to update this document\n",
        "documents = [Document(page_content=text, metadata={'doc':id})\n",
        "              for id, text in zip(ids, texts)]\n",
        "\n",
        "#print it\n",
        "documents"
      ],
      "metadata": {
        "colab": {
          "base_uri": "https://localhost:8080/"
        },
        "id": "rVEEHOv6tpv6",
        "outputId": "67adf388-76ba-4bc5-9ac9-d89d89e9d82c"
      },
      "execution_count": 49,
      "outputs": [
        {
          "output_type": "execute_result",
          "data": {
            "text/plain": [
              "[Document(metadata={'doc': 'doc_8'}, page_content='Families from all over the world come to the majestic White Mountains of New Hampshire to be thrilled by the ride up on the historic Mount Washington Cog Railway. The dramatic ascent to the summit of the Northeast’s highest peak features amazing views of lush forests, deep chasms and the steepest railroad trestle in the world in Jacob’s Ladder. The Cog is the first mountain-climbing cog railway in the world. With an average grade of 25% (some sections approach nearly 38%), it’s also the second steepest! ')]"
            ]
          },
          "metadata": {},
          "execution_count": 49
        }
      ]
    },
    {
      "cell_type": "code",
      "source": [
        "# update\n",
        "chroma_db.update_documents(ids=ids, documents=documents)"
      ],
      "metadata": {
        "id": "MTov3_dUvTFu"
      },
      "execution_count": 50,
      "outputs": []
    },
    {
      "cell_type": "code",
      "source": [
        "# get the updated id\n",
        "chroma_db.get(['doc_8'])"
      ],
      "metadata": {
        "colab": {
          "base_uri": "https://localhost:8080/"
        },
        "id": "11VvaRvAvXgW",
        "outputId": "1078a43d-e6f7-4728-ffeb-9926e31a8ed6"
      },
      "execution_count": 51,
      "outputs": [
        {
          "output_type": "execute_result",
          "data": {
            "text/plain": [
              "{'ids': ['doc_8'],\n",
              " 'embeddings': None,\n",
              " 'metadatas': [{'doc': 'doc_8'}],\n",
              " 'documents': ['Families from all over the world come to the majestic White Mountains of New Hampshire to be thrilled by the ride up on the historic Mount Washington Cog Railway. The dramatic ascent to the summit of the Northeast’s highest peak features amazing views of lush forests, deep chasms and the steepest railroad trestle in the world in Jacob’s Ladder. The Cog is the first mountain-climbing cog railway in the world. With an average grade of 25% (some sections approach nearly 38%), it’s also the second steepest! '],\n",
              " 'uris': None,\n",
              " 'data': None,\n",
              " 'included': ['metadatas', 'documents']}"
            ]
          },
          "metadata": {},
          "execution_count": 51
        }
      ]
    },
    {
      "cell_type": "code",
      "source": [
        "# query\n",
        "query = \"How steep is the cog railway?\"\n",
        "docs = chroma_db.similarity_search_with_score(query=query, k=1)\n",
        "docs"
      ],
      "metadata": {
        "colab": {
          "base_uri": "https://localhost:8080/"
        },
        "id": "1lERIBG-vb1r",
        "outputId": "ed6a8768-98b4-4464-a364-f7c1fa1019a6"
      },
      "execution_count": 54,
      "outputs": [
        {
          "output_type": "execute_result",
          "data": {
            "text/plain": [
              "[(Document(metadata={'doc': 'doc_8'}, page_content='Families from all over the world come to the majestic White Mountains of New Hampshire to be thrilled by the ride up on the historic Mount Washington Cog Railway. The dramatic ascent to the summit of the Northeast’s highest peak features amazing views of lush forests, deep chasms and the steepest railroad trestle in the world in Jacob’s Ladder. The Cog is the first mountain-climbing cog railway in the world. With an average grade of 25% (some sections approach nearly 38%), it’s also the second steepest! '),\n",
              "  0.8441089728223838)]"
            ]
          },
          "metadata": {},
          "execution_count": 54
        }
      ]
    },
    {
      "cell_type": "markdown",
      "source": [
        "## Deleting documents in Vector DBs\n",
        "* To delete a document in Chroma you need the document ID."
      ],
      "metadata": {
        "id": "Lc03TPIoxmwR"
      }
    },
    {
      "cell_type": "code",
      "source": [
        "## pick an id to delete\n",
        "chroma_db.delete(['doc_9'])"
      ],
      "metadata": {
        "id": "QpbfohBnv3ln"
      },
      "execution_count": 55,
      "outputs": []
    },
    {
      "cell_type": "code",
      "source": [
        "## get result\n",
        "chroma_db.get()"
      ],
      "metadata": {
        "colab": {
          "base_uri": "https://localhost:8080/"
        },
        "id": "CofFmr-ExxqT",
        "outputId": "6ddb9240-255f-40de-da75-275379410991"
      },
      "execution_count": 56,
      "outputs": [
        {
          "output_type": "execute_result",
          "data": {
            "text/plain": [
              "{'ids': ['doc_0',\n",
              "  'doc_1',\n",
              "  'doc_2',\n",
              "  'doc_3',\n",
              "  'doc_4',\n",
              "  'doc_5',\n",
              "  'doc_6',\n",
              "  'doc_7',\n",
              "  'doc_8'],\n",
              " 'embeddings': None,\n",
              " 'metadatas': [None,\n",
              "  None,\n",
              "  None,\n",
              "  None,\n",
              "  None,\n",
              "  None,\n",
              "  None,\n",
              "  None,\n",
              "  {'doc': 'doc_8'}],\n",
              " 'documents': ['Central Vermont is home to the Green Mountain National Forest, which welcomes visitors for leaf-peeping during fall foliage ; snow sports; photography, hiking, camping, and more.',\n",
              "  'Southern Vermont has it all: ski resorts, shopping, beautiful village greens, cozy inns, fall foliage, and a scattering of historic covered bridges. Ski areas -- Stratton, Bromley, Magic Mountain, and Mount Snow -- offer winter activities and many have warm-weather fun for kids and families. ',\n",
              "  'Northern Vermont presents contrasts: in the northwest corner is Lake Champlain and Burlington, a cosmopolitan university city of dynamic cultural attractions. Opposite is the Northeast Kingdom, a forested area of proud small towns, outdoor sports and natural grandeur. Jay Peak, has a fabulous ski area an indoor water park. Stowe is a 200-year-old village near Mount Mansfield, Vermonts highest peak. Stowe has an elegant character reminiscent of European mountain resorts, with celebrations all year and family-friendly deals. ',\n",
              "  'Vermont is a place, but also a state of mind that revels in outdoor beauty, good food, and the preservation of unique small towns and cities. Visitors love Vermont for its colorful fall foliage; ski resorts including Killington, Smugglers Notch, Ascutney, Stowe, and Mount Snow; mountain vistas; and attractions for families and kids. Although Vermont is an inland state, there are wonderful beaches along Lake Champlain, along with many lakes, streams, and swimming holes.',\n",
              "  'The term Northeast Kingdom was a distinction first mentioned by former Governor George Aiken in the late 1940s to refer to the natural majestic beauty of the area, which follows the northern reaches of the Connecticut River alongside New Hampshire from St. Johnsbury, VT to the Canadian border, then east to the eastern edge of the Green Mountains at Jay Peak. Sometimes abbreviated to the NEK (en-ee-kay), the Northeast Kingdom is made up of over 2,000 square miles of the most untouched and beautifully scenic land in the United States. There are lovely towns to explore in each part of the NEK. In the Eastern Trek: St. Johnsbury, Lyndon, Burke, and Island Pond, which is also known as the snowmobile capital of Vermont. ',\n",
              "  'Greater Portland, on Casco Bay, is Maine’s largest city and a delightful year-round tourist destination for vacationers who love urban settings. ',\n",
              "  'Mount Monadnock is believed to be the most frequently climbed mountain in the world. Henry David Thoreau, Ralph Waldo Emerson, Mark Twain, and others hiked this mountain and wrote about it as a symbol of spiritual and environmental awareness. ',\n",
              "  'The gateway city to the Katahdin Moosehead is Bangor, the Lumber Capital of the World, where visitors are greeted by a large statue of Paul Bunyan. The Maine Forest and Logging Museum is an authentic reconstruction of a logging and milling community.',\n",
              "  'Families from all over the world come to the majestic White Mountains of New Hampshire to be thrilled by the ride up on the historic Mount Washington Cog Railway. The dramatic ascent to the summit of the Northeast’s highest peak features amazing views of lush forests, deep chasms and the steepest railroad trestle in the world in Jacob’s Ladder. The Cog is the first mountain-climbing cog railway in the world. With an average grade of 25% (some sections approach nearly 38%), it’s also the second steepest! '],\n",
              " 'uris': None,\n",
              " 'data': None,\n",
              " 'included': ['metadatas', 'documents']}"
            ]
          },
          "metadata": {},
          "execution_count": 56
        }
      ]
    },
    {
      "cell_type": "markdown",
      "source": [
        "## Load Vector DB from disk\n",
        "* Once saved DB to disk, you can load it anytime, connect and run queries."
      ],
      "metadata": {
        "id": "N_7c-WJRx9mP"
      }
    },
    {
      "cell_type": "code",
      "source": [
        "# load from disk\n",
        "db = Chroma(persist_directory=\"./chroma_db\",\n",
        "            embedding_function=openai_embed_model,\n",
        "            collection_name='search_docs')\n",
        "\n",
        "query = \"How steep is the cog railway?\"\n",
        "docs = db.similarity_search_with_score(query=query, k=1)\n",
        "docs"
      ],
      "metadata": {
        "colab": {
          "base_uri": "https://localhost:8080/"
        },
        "id": "jSLlMRcRx0Wn",
        "outputId": "2298a77f-d1ab-4b3f-a558-9a26dd223ae5"
      },
      "execution_count": 57,
      "outputs": [
        {
          "output_type": "execute_result",
          "data": {
            "text/plain": [
              "[(Document(metadata={'doc': 'doc_8'}, page_content='Families from all over the world come to the majestic White Mountains of New Hampshire to be thrilled by the ride up on the historic Mount Washington Cog Railway. The dramatic ascent to the summit of the Northeast’s highest peak features amazing views of lush forests, deep chasms and the steepest railroad trestle in the world in Jacob’s Ladder. The Cog is the first mountain-climbing cog railway in the world. With an average grade of 25% (some sections approach nearly 38%), it’s also the second steepest! '),\n",
              "  0.8440755621232334)]"
            ]
          },
          "metadata": {},
          "execution_count": 57
        }
      ]
    },
    {
      "cell_type": "code",
      "source": [],
      "metadata": {
        "id": "qVau2buXyZvk"
      },
      "execution_count": null,
      "outputs": []
    }
  ]
}