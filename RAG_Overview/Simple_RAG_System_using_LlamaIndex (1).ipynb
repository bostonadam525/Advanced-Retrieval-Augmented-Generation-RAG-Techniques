{
  "nbformat": 4,
  "nbformat_minor": 0,
  "metadata": {
    "colab": {
      "provenance": []
    },
    "kernelspec": {
      "name": "python3",
      "display_name": "Python 3"
    },
    "language_info": {
      "name": "python"
    }
  },
  "cells": [
    {
      "cell_type": "markdown",
      "source": [
        "# Simple RAG System using LlamaIndex\n",
        "* Notebook by Adam Lang\n",
        "* Date: 3/6/2024\n",
        "* In this notebook we will build a simple RAG system using LlamaIndex.\n",
        "\n",
        "# Basic RAG Pipeline\n",
        "1. Data ingestion\n",
        "2. Indexing\n",
        "3. Retriever\n",
        "4. Response Synthesizer\n",
        "5. Querying"
      ],
      "metadata": {
        "id": "mZBOyLRjZQp4"
      }
    },
    {
      "cell_type": "markdown",
      "source": [
        "### Set up llama-index and OpenAI key"
      ],
      "metadata": {
        "id": "frxz161fZoE3"
      }
    },
    {
      "cell_type": "code",
      "execution_count": null,
      "metadata": {
        "colab": {
          "base_uri": "https://localhost:8080/"
        },
        "id": "8rZJD6gHZHTc",
        "outputId": "da5a54e5-8269-4175-8640-1dffa2f8df49"
      },
      "outputs": [
        {
          "output_type": "stream",
          "name": "stdout",
          "text": [
            "Requirement already satisfied: llama-index in /usr/local/lib/python3.10/dist-packages (0.10.16)\n",
            "Requirement already satisfied: llama-index-agent-openai<0.2.0,>=0.1.4 in /usr/local/lib/python3.10/dist-packages (from llama-index) (0.1.5)\n",
            "Requirement already satisfied: llama-index-cli<0.2.0,>=0.1.2 in /usr/local/lib/python3.10/dist-packages (from llama-index) (0.1.7)\n",
            "Requirement already satisfied: llama-index-core<0.11.0,>=0.10.16 in /usr/local/lib/python3.10/dist-packages (from llama-index) (0.10.16.post1)\n",
            "Requirement already satisfied: llama-index-embeddings-openai<0.2.0,>=0.1.5 in /usr/local/lib/python3.10/dist-packages (from llama-index) (0.1.6)\n",
            "Requirement already satisfied: llama-index-indices-managed-llama-cloud<0.2.0,>=0.1.2 in /usr/local/lib/python3.10/dist-packages (from llama-index) (0.1.3)\n",
            "Requirement already satisfied: llama-index-legacy<0.10.0,>=0.9.48 in /usr/local/lib/python3.10/dist-packages (from llama-index) (0.9.48)\n",
            "Requirement already satisfied: llama-index-llms-openai<0.2.0,>=0.1.5 in /usr/local/lib/python3.10/dist-packages (from llama-index) (0.1.7)\n",
            "Requirement already satisfied: llama-index-multi-modal-llms-openai<0.2.0,>=0.1.3 in /usr/local/lib/python3.10/dist-packages (from llama-index) (0.1.4)\n",
            "Requirement already satisfied: llama-index-program-openai<0.2.0,>=0.1.3 in /usr/local/lib/python3.10/dist-packages (from llama-index) (0.1.4)\n",
            "Requirement already satisfied: llama-index-question-gen-openai<0.2.0,>=0.1.2 in /usr/local/lib/python3.10/dist-packages (from llama-index) (0.1.3)\n",
            "Requirement already satisfied: llama-index-readers-file<0.2.0,>=0.1.4 in /usr/local/lib/python3.10/dist-packages (from llama-index) (0.1.8)\n",
            "Requirement already satisfied: llama-index-readers-llama-parse<0.2.0,>=0.1.2 in /usr/local/lib/python3.10/dist-packages (from llama-index) (0.1.3)\n",
            "Requirement already satisfied: llama-index-vector-stores-chroma<0.2.0,>=0.1.1 in /usr/local/lib/python3.10/dist-packages (from llama-index-cli<0.2.0,>=0.1.2->llama-index) (0.1.5)\n",
            "Requirement already satisfied: PyYAML>=6.0.1 in /usr/local/lib/python3.10/dist-packages (from llama-index-core<0.11.0,>=0.10.16->llama-index) (6.0.1)\n",
            "Requirement already satisfied: SQLAlchemy[asyncio]>=1.4.49 in /usr/local/lib/python3.10/dist-packages (from llama-index-core<0.11.0,>=0.10.16->llama-index) (2.0.28)\n",
            "Requirement already satisfied: aiohttp<4.0.0,>=3.8.6 in /usr/local/lib/python3.10/dist-packages (from llama-index-core<0.11.0,>=0.10.16->llama-index) (3.9.3)\n",
            "Requirement already satisfied: dataclasses-json in /usr/local/lib/python3.10/dist-packages (from llama-index-core<0.11.0,>=0.10.16->llama-index) (0.6.4)\n",
            "Requirement already satisfied: deprecated>=1.2.9.3 in /usr/local/lib/python3.10/dist-packages (from llama-index-core<0.11.0,>=0.10.16->llama-index) (1.2.14)\n",
            "Requirement already satisfied: dirtyjson<2.0.0,>=1.0.8 in /usr/local/lib/python3.10/dist-packages (from llama-index-core<0.11.0,>=0.10.16->llama-index) (1.0.8)\n",
            "Requirement already satisfied: fsspec>=2023.5.0 in /usr/local/lib/python3.10/dist-packages (from llama-index-core<0.11.0,>=0.10.16->llama-index) (2023.6.0)\n",
            "Requirement already satisfied: httpx in /usr/local/lib/python3.10/dist-packages (from llama-index-core<0.11.0,>=0.10.16->llama-index) (0.27.0)\n",
            "Requirement already satisfied: llamaindex-py-client<0.2.0,>=0.1.13 in /usr/local/lib/python3.10/dist-packages (from llama-index-core<0.11.0,>=0.10.16->llama-index) (0.1.13)\n",
            "Requirement already satisfied: nest-asyncio<2.0.0,>=1.5.8 in /usr/local/lib/python3.10/dist-packages (from llama-index-core<0.11.0,>=0.10.16->llama-index) (1.6.0)\n",
            "Requirement already satisfied: networkx>=3.0 in /usr/local/lib/python3.10/dist-packages (from llama-index-core<0.11.0,>=0.10.16->llama-index) (3.2.1)\n",
            "Requirement already satisfied: nltk<4.0.0,>=3.8.1 in /usr/local/lib/python3.10/dist-packages (from llama-index-core<0.11.0,>=0.10.16->llama-index) (3.8.1)\n",
            "Requirement already satisfied: numpy in /usr/local/lib/python3.10/dist-packages (from llama-index-core<0.11.0,>=0.10.16->llama-index) (1.25.2)\n",
            "Requirement already satisfied: openai>=1.1.0 in /usr/local/lib/python3.10/dist-packages (from llama-index-core<0.11.0,>=0.10.16->llama-index) (1.13.3)\n",
            "Requirement already satisfied: pandas in /usr/local/lib/python3.10/dist-packages (from llama-index-core<0.11.0,>=0.10.16->llama-index) (1.5.3)\n",
            "Requirement already satisfied: pillow>=9.0.0 in /usr/local/lib/python3.10/dist-packages (from llama-index-core<0.11.0,>=0.10.16->llama-index) (9.4.0)\n",
            "Requirement already satisfied: requests>=2.31.0 in /usr/local/lib/python3.10/dist-packages (from llama-index-core<0.11.0,>=0.10.16->llama-index) (2.31.0)\n",
            "Requirement already satisfied: tenacity<9.0.0,>=8.2.0 in /usr/local/lib/python3.10/dist-packages (from llama-index-core<0.11.0,>=0.10.16->llama-index) (8.2.3)\n",
            "Requirement already satisfied: tiktoken>=0.3.3 in /usr/local/lib/python3.10/dist-packages (from llama-index-core<0.11.0,>=0.10.16->llama-index) (0.6.0)\n",
            "Requirement already satisfied: tqdm<5.0.0,>=4.66.1 in /usr/local/lib/python3.10/dist-packages (from llama-index-core<0.11.0,>=0.10.16->llama-index) (4.66.2)\n",
            "Requirement already satisfied: typing-extensions>=4.5.0 in /usr/local/lib/python3.10/dist-packages (from llama-index-core<0.11.0,>=0.10.16->llama-index) (4.10.0)\n",
            "Requirement already satisfied: typing-inspect>=0.8.0 in /usr/local/lib/python3.10/dist-packages (from llama-index-core<0.11.0,>=0.10.16->llama-index) (0.9.0)\n",
            "Requirement already satisfied: beautifulsoup4<5.0.0,>=4.12.3 in /usr/local/lib/python3.10/dist-packages (from llama-index-readers-file<0.2.0,>=0.1.4->llama-index) (4.12.3)\n",
            "Requirement already satisfied: bs4<0.0.3,>=0.0.2 in /usr/local/lib/python3.10/dist-packages (from llama-index-readers-file<0.2.0,>=0.1.4->llama-index) (0.0.2)\n",
            "Requirement already satisfied: pymupdf<2.0.0,>=1.23.21 in /usr/local/lib/python3.10/dist-packages (from llama-index-readers-file<0.2.0,>=0.1.4->llama-index) (1.23.26)\n",
            "Requirement already satisfied: pypdf<5.0.0,>=4.0.1 in /usr/local/lib/python3.10/dist-packages (from llama-index-readers-file<0.2.0,>=0.1.4->llama-index) (4.1.0)\n",
            "Requirement already satisfied: llama-parse<0.4.0,>=0.3.3 in /usr/local/lib/python3.10/dist-packages (from llama-index-readers-llama-parse<0.2.0,>=0.1.2->llama-index) (0.3.7)\n",
            "Requirement already satisfied: aiosignal>=1.1.2 in /usr/local/lib/python3.10/dist-packages (from aiohttp<4.0.0,>=3.8.6->llama-index-core<0.11.0,>=0.10.16->llama-index) (1.3.1)\n",
            "Requirement already satisfied: attrs>=17.3.0 in /usr/local/lib/python3.10/dist-packages (from aiohttp<4.0.0,>=3.8.6->llama-index-core<0.11.0,>=0.10.16->llama-index) (23.2.0)\n",
            "Requirement already satisfied: frozenlist>=1.1.1 in /usr/local/lib/python3.10/dist-packages (from aiohttp<4.0.0,>=3.8.6->llama-index-core<0.11.0,>=0.10.16->llama-index) (1.4.1)\n",
            "Requirement already satisfied: multidict<7.0,>=4.5 in /usr/local/lib/python3.10/dist-packages (from aiohttp<4.0.0,>=3.8.6->llama-index-core<0.11.0,>=0.10.16->llama-index) (6.0.5)\n",
            "Requirement already satisfied: yarl<2.0,>=1.0 in /usr/local/lib/python3.10/dist-packages (from aiohttp<4.0.0,>=3.8.6->llama-index-core<0.11.0,>=0.10.16->llama-index) (1.9.4)\n",
            "Requirement already satisfied: async-timeout<5.0,>=4.0 in /usr/local/lib/python3.10/dist-packages (from aiohttp<4.0.0,>=3.8.6->llama-index-core<0.11.0,>=0.10.16->llama-index) (4.0.3)\n",
            "Requirement already satisfied: soupsieve>1.2 in /usr/local/lib/python3.10/dist-packages (from beautifulsoup4<5.0.0,>=4.12.3->llama-index-readers-file<0.2.0,>=0.1.4->llama-index) (2.5)\n",
            "Requirement already satisfied: wrapt<2,>=1.10 in /usr/local/lib/python3.10/dist-packages (from deprecated>=1.2.9.3->llama-index-core<0.11.0,>=0.10.16->llama-index) (1.14.1)\n",
            "Requirement already satisfied: chromadb<0.5.0,>=0.4.22 in /usr/local/lib/python3.10/dist-packages (from llama-index-vector-stores-chroma<0.2.0,>=0.1.1->llama-index-cli<0.2.0,>=0.1.2->llama-index) (0.4.24)\n",
            "Requirement already satisfied: onnxruntime<2.0.0,>=1.17.0 in /usr/local/lib/python3.10/dist-packages (from llama-index-vector-stores-chroma<0.2.0,>=0.1.1->llama-index-cli<0.2.0,>=0.1.2->llama-index) (1.17.1)\n",
            "Requirement already satisfied: tokenizers<0.16.0,>=0.15.1 in /usr/local/lib/python3.10/dist-packages (from llama-index-vector-stores-chroma<0.2.0,>=0.1.1->llama-index-cli<0.2.0,>=0.1.2->llama-index) (0.15.2)\n",
            "Requirement already satisfied: pydantic>=1.10 in /usr/local/lib/python3.10/dist-packages (from llamaindex-py-client<0.2.0,>=0.1.13->llama-index-core<0.11.0,>=0.10.16->llama-index) (2.6.3)\n",
            "Requirement already satisfied: anyio in /usr/local/lib/python3.10/dist-packages (from httpx->llama-index-core<0.11.0,>=0.10.16->llama-index) (3.7.1)\n",
            "Requirement already satisfied: certifi in /usr/local/lib/python3.10/dist-packages (from httpx->llama-index-core<0.11.0,>=0.10.16->llama-index) (2024.2.2)\n",
            "Requirement already satisfied: httpcore==1.* in /usr/local/lib/python3.10/dist-packages (from httpx->llama-index-core<0.11.0,>=0.10.16->llama-index) (1.0.4)\n",
            "Requirement already satisfied: idna in /usr/local/lib/python3.10/dist-packages (from httpx->llama-index-core<0.11.0,>=0.10.16->llama-index) (3.6)\n",
            "Requirement already satisfied: sniffio in /usr/local/lib/python3.10/dist-packages (from httpx->llama-index-core<0.11.0,>=0.10.16->llama-index) (1.3.1)\n",
            "Requirement already satisfied: h11<0.15,>=0.13 in /usr/local/lib/python3.10/dist-packages (from httpcore==1.*->httpx->llama-index-core<0.11.0,>=0.10.16->llama-index) (0.14.0)\n",
            "Requirement already satisfied: click in /usr/local/lib/python3.10/dist-packages (from nltk<4.0.0,>=3.8.1->llama-index-core<0.11.0,>=0.10.16->llama-index) (8.1.7)\n",
            "Requirement already satisfied: joblib in /usr/local/lib/python3.10/dist-packages (from nltk<4.0.0,>=3.8.1->llama-index-core<0.11.0,>=0.10.16->llama-index) (1.3.2)\n",
            "Requirement already satisfied: regex>=2021.8.3 in /usr/local/lib/python3.10/dist-packages (from nltk<4.0.0,>=3.8.1->llama-index-core<0.11.0,>=0.10.16->llama-index) (2023.12.25)\n",
            "Requirement already satisfied: distro<2,>=1.7.0 in /usr/lib/python3/dist-packages (from openai>=1.1.0->llama-index-core<0.11.0,>=0.10.16->llama-index) (1.7.0)\n",
            "Requirement already satisfied: PyMuPDFb==1.23.22 in /usr/local/lib/python3.10/dist-packages (from pymupdf<2.0.0,>=1.23.21->llama-index-readers-file<0.2.0,>=0.1.4->llama-index) (1.23.22)\n",
            "Requirement already satisfied: charset-normalizer<4,>=2 in /usr/local/lib/python3.10/dist-packages (from requests>=2.31.0->llama-index-core<0.11.0,>=0.10.16->llama-index) (3.3.2)\n",
            "Requirement already satisfied: urllib3<3,>=1.21.1 in /usr/local/lib/python3.10/dist-packages (from requests>=2.31.0->llama-index-core<0.11.0,>=0.10.16->llama-index) (2.0.7)\n",
            "Requirement already satisfied: greenlet!=0.4.17 in /usr/local/lib/python3.10/dist-packages (from SQLAlchemy[asyncio]>=1.4.49->llama-index-core<0.11.0,>=0.10.16->llama-index) (3.0.3)\n",
            "Requirement already satisfied: mypy-extensions>=0.3.0 in /usr/local/lib/python3.10/dist-packages (from typing-inspect>=0.8.0->llama-index-core<0.11.0,>=0.10.16->llama-index) (1.0.0)\n",
            "Requirement already satisfied: marshmallow<4.0.0,>=3.18.0 in /usr/local/lib/python3.10/dist-packages (from dataclasses-json->llama-index-core<0.11.0,>=0.10.16->llama-index) (3.21.1)\n",
            "Requirement already satisfied: python-dateutil>=2.8.1 in /usr/local/lib/python3.10/dist-packages (from pandas->llama-index-core<0.11.0,>=0.10.16->llama-index) (2.8.2)\n",
            "Requirement already satisfied: pytz>=2020.1 in /usr/local/lib/python3.10/dist-packages (from pandas->llama-index-core<0.11.0,>=0.10.16->llama-index) (2023.4)\n",
            "Requirement already satisfied: exceptiongroup in /usr/local/lib/python3.10/dist-packages (from anyio->httpx->llama-index-core<0.11.0,>=0.10.16->llama-index) (1.2.0)\n",
            "Requirement already satisfied: build>=1.0.3 in /usr/local/lib/python3.10/dist-packages (from chromadb<0.5.0,>=0.4.22->llama-index-vector-stores-chroma<0.2.0,>=0.1.1->llama-index-cli<0.2.0,>=0.1.2->llama-index) (1.1.1)\n",
            "Requirement already satisfied: chroma-hnswlib==0.7.3 in /usr/local/lib/python3.10/dist-packages (from chromadb<0.5.0,>=0.4.22->llama-index-vector-stores-chroma<0.2.0,>=0.1.1->llama-index-cli<0.2.0,>=0.1.2->llama-index) (0.7.3)\n",
            "Requirement already satisfied: fastapi>=0.95.2 in /usr/local/lib/python3.10/dist-packages (from chromadb<0.5.0,>=0.4.22->llama-index-vector-stores-chroma<0.2.0,>=0.1.1->llama-index-cli<0.2.0,>=0.1.2->llama-index) (0.110.0)\n",
            "Requirement already satisfied: uvicorn[standard]>=0.18.3 in /usr/local/lib/python3.10/dist-packages (from chromadb<0.5.0,>=0.4.22->llama-index-vector-stores-chroma<0.2.0,>=0.1.1->llama-index-cli<0.2.0,>=0.1.2->llama-index) (0.27.1)\n",
            "Requirement already satisfied: posthog>=2.4.0 in /usr/local/lib/python3.10/dist-packages (from chromadb<0.5.0,>=0.4.22->llama-index-vector-stores-chroma<0.2.0,>=0.1.1->llama-index-cli<0.2.0,>=0.1.2->llama-index) (3.5.0)\n",
            "Requirement already satisfied: pulsar-client>=3.1.0 in /usr/local/lib/python3.10/dist-packages (from chromadb<0.5.0,>=0.4.22->llama-index-vector-stores-chroma<0.2.0,>=0.1.1->llama-index-cli<0.2.0,>=0.1.2->llama-index) (3.4.0)\n",
            "Requirement already satisfied: opentelemetry-api>=1.2.0 in /usr/local/lib/python3.10/dist-packages (from chromadb<0.5.0,>=0.4.22->llama-index-vector-stores-chroma<0.2.0,>=0.1.1->llama-index-cli<0.2.0,>=0.1.2->llama-index) (1.23.0)\n",
            "Requirement already satisfied: opentelemetry-exporter-otlp-proto-grpc>=1.2.0 in /usr/local/lib/python3.10/dist-packages (from chromadb<0.5.0,>=0.4.22->llama-index-vector-stores-chroma<0.2.0,>=0.1.1->llama-index-cli<0.2.0,>=0.1.2->llama-index) (1.23.0)\n",
            "Requirement already satisfied: opentelemetry-instrumentation-fastapi>=0.41b0 in /usr/local/lib/python3.10/dist-packages (from chromadb<0.5.0,>=0.4.22->llama-index-vector-stores-chroma<0.2.0,>=0.1.1->llama-index-cli<0.2.0,>=0.1.2->llama-index) (0.44b0)\n",
            "Requirement already satisfied: opentelemetry-sdk>=1.2.0 in /usr/local/lib/python3.10/dist-packages (from chromadb<0.5.0,>=0.4.22->llama-index-vector-stores-chroma<0.2.0,>=0.1.1->llama-index-cli<0.2.0,>=0.1.2->llama-index) (1.23.0)\n",
            "Requirement already satisfied: pypika>=0.48.9 in /usr/local/lib/python3.10/dist-packages (from chromadb<0.5.0,>=0.4.22->llama-index-vector-stores-chroma<0.2.0,>=0.1.1->llama-index-cli<0.2.0,>=0.1.2->llama-index) (0.48.9)\n",
            "Requirement already satisfied: overrides>=7.3.1 in /usr/local/lib/python3.10/dist-packages (from chromadb<0.5.0,>=0.4.22->llama-index-vector-stores-chroma<0.2.0,>=0.1.1->llama-index-cli<0.2.0,>=0.1.2->llama-index) (7.7.0)\n",
            "Requirement already satisfied: importlib-resources in /usr/local/lib/python3.10/dist-packages (from chromadb<0.5.0,>=0.4.22->llama-index-vector-stores-chroma<0.2.0,>=0.1.1->llama-index-cli<0.2.0,>=0.1.2->llama-index) (6.1.2)\n",
            "Requirement already satisfied: grpcio>=1.58.0 in /usr/local/lib/python3.10/dist-packages (from chromadb<0.5.0,>=0.4.22->llama-index-vector-stores-chroma<0.2.0,>=0.1.1->llama-index-cli<0.2.0,>=0.1.2->llama-index) (1.62.0)\n",
            "Requirement already satisfied: bcrypt>=4.0.1 in /usr/local/lib/python3.10/dist-packages (from chromadb<0.5.0,>=0.4.22->llama-index-vector-stores-chroma<0.2.0,>=0.1.1->llama-index-cli<0.2.0,>=0.1.2->llama-index) (4.1.2)\n",
            "Requirement already satisfied: typer>=0.9.0 in /usr/local/lib/python3.10/dist-packages (from chromadb<0.5.0,>=0.4.22->llama-index-vector-stores-chroma<0.2.0,>=0.1.1->llama-index-cli<0.2.0,>=0.1.2->llama-index) (0.9.0)\n",
            "Requirement already satisfied: kubernetes>=28.1.0 in /usr/local/lib/python3.10/dist-packages (from chromadb<0.5.0,>=0.4.22->llama-index-vector-stores-chroma<0.2.0,>=0.1.1->llama-index-cli<0.2.0,>=0.1.2->llama-index) (29.0.0)\n",
            "Requirement already satisfied: mmh3>=4.0.1 in /usr/local/lib/python3.10/dist-packages (from chromadb<0.5.0,>=0.4.22->llama-index-vector-stores-chroma<0.2.0,>=0.1.1->llama-index-cli<0.2.0,>=0.1.2->llama-index) (4.1.0)\n",
            "Requirement already satisfied: orjson>=3.9.12 in /usr/local/lib/python3.10/dist-packages (from chromadb<0.5.0,>=0.4.22->llama-index-vector-stores-chroma<0.2.0,>=0.1.1->llama-index-cli<0.2.0,>=0.1.2->llama-index) (3.9.15)\n",
            "Requirement already satisfied: packaging>=17.0 in /usr/local/lib/python3.10/dist-packages (from marshmallow<4.0.0,>=3.18.0->dataclasses-json->llama-index-core<0.11.0,>=0.10.16->llama-index) (23.2)\n",
            "Requirement already satisfied: coloredlogs in /usr/local/lib/python3.10/dist-packages (from onnxruntime<2.0.0,>=1.17.0->llama-index-vector-stores-chroma<0.2.0,>=0.1.1->llama-index-cli<0.2.0,>=0.1.2->llama-index) (15.0.1)\n",
            "Requirement already satisfied: flatbuffers in /usr/local/lib/python3.10/dist-packages (from onnxruntime<2.0.0,>=1.17.0->llama-index-vector-stores-chroma<0.2.0,>=0.1.1->llama-index-cli<0.2.0,>=0.1.2->llama-index) (23.5.26)\n",
            "Requirement already satisfied: protobuf in /usr/local/lib/python3.10/dist-packages (from onnxruntime<2.0.0,>=1.17.0->llama-index-vector-stores-chroma<0.2.0,>=0.1.1->llama-index-cli<0.2.0,>=0.1.2->llama-index) (3.20.3)\n",
            "Requirement already satisfied: sympy in /usr/local/lib/python3.10/dist-packages (from onnxruntime<2.0.0,>=1.17.0->llama-index-vector-stores-chroma<0.2.0,>=0.1.1->llama-index-cli<0.2.0,>=0.1.2->llama-index) (1.12)\n",
            "Requirement already satisfied: annotated-types>=0.4.0 in /usr/local/lib/python3.10/dist-packages (from pydantic>=1.10->llamaindex-py-client<0.2.0,>=0.1.13->llama-index-core<0.11.0,>=0.10.16->llama-index) (0.6.0)\n",
            "Requirement already satisfied: pydantic-core==2.16.3 in /usr/local/lib/python3.10/dist-packages (from pydantic>=1.10->llamaindex-py-client<0.2.0,>=0.1.13->llama-index-core<0.11.0,>=0.10.16->llama-index) (2.16.3)\n",
            "Requirement already satisfied: six>=1.5 in /usr/local/lib/python3.10/dist-packages (from python-dateutil>=2.8.1->pandas->llama-index-core<0.11.0,>=0.10.16->llama-index) (1.16.0)\n",
            "Requirement already satisfied: huggingface_hub<1.0,>=0.16.4 in /usr/local/lib/python3.10/dist-packages (from tokenizers<0.16.0,>=0.15.1->llama-index-vector-stores-chroma<0.2.0,>=0.1.1->llama-index-cli<0.2.0,>=0.1.2->llama-index) (0.20.3)\n",
            "Requirement already satisfied: pyproject_hooks in /usr/local/lib/python3.10/dist-packages (from build>=1.0.3->chromadb<0.5.0,>=0.4.22->llama-index-vector-stores-chroma<0.2.0,>=0.1.1->llama-index-cli<0.2.0,>=0.1.2->llama-index) (1.0.0)\n",
            "Requirement already satisfied: tomli>=1.1.0 in /usr/local/lib/python3.10/dist-packages (from build>=1.0.3->chromadb<0.5.0,>=0.4.22->llama-index-vector-stores-chroma<0.2.0,>=0.1.1->llama-index-cli<0.2.0,>=0.1.2->llama-index) (2.0.1)\n",
            "Requirement already satisfied: starlette<0.37.0,>=0.36.3 in /usr/local/lib/python3.10/dist-packages (from fastapi>=0.95.2->chromadb<0.5.0,>=0.4.22->llama-index-vector-stores-chroma<0.2.0,>=0.1.1->llama-index-cli<0.2.0,>=0.1.2->llama-index) (0.36.3)\n",
            "Requirement already satisfied: filelock in /usr/local/lib/python3.10/dist-packages (from huggingface_hub<1.0,>=0.16.4->tokenizers<0.16.0,>=0.15.1->llama-index-vector-stores-chroma<0.2.0,>=0.1.1->llama-index-cli<0.2.0,>=0.1.2->llama-index) (3.13.1)\n",
            "Requirement already satisfied: google-auth>=1.0.1 in /usr/local/lib/python3.10/dist-packages (from kubernetes>=28.1.0->chromadb<0.5.0,>=0.4.22->llama-index-vector-stores-chroma<0.2.0,>=0.1.1->llama-index-cli<0.2.0,>=0.1.2->llama-index) (2.27.0)\n",
            "Requirement already satisfied: websocket-client!=0.40.0,!=0.41.*,!=0.42.*,>=0.32.0 in /usr/local/lib/python3.10/dist-packages (from kubernetes>=28.1.0->chromadb<0.5.0,>=0.4.22->llama-index-vector-stores-chroma<0.2.0,>=0.1.1->llama-index-cli<0.2.0,>=0.1.2->llama-index) (1.7.0)\n",
            "Requirement already satisfied: requests-oauthlib in /usr/local/lib/python3.10/dist-packages (from kubernetes>=28.1.0->chromadb<0.5.0,>=0.4.22->llama-index-vector-stores-chroma<0.2.0,>=0.1.1->llama-index-cli<0.2.0,>=0.1.2->llama-index) (1.3.1)\n",
            "Requirement already satisfied: oauthlib>=3.2.2 in /usr/local/lib/python3.10/dist-packages (from kubernetes>=28.1.0->chromadb<0.5.0,>=0.4.22->llama-index-vector-stores-chroma<0.2.0,>=0.1.1->llama-index-cli<0.2.0,>=0.1.2->llama-index) (3.2.2)\n",
            "Requirement already satisfied: importlib-metadata<7.0,>=6.0 in /usr/local/lib/python3.10/dist-packages (from opentelemetry-api>=1.2.0->chromadb<0.5.0,>=0.4.22->llama-index-vector-stores-chroma<0.2.0,>=0.1.1->llama-index-cli<0.2.0,>=0.1.2->llama-index) (6.11.0)\n",
            "Requirement already satisfied: googleapis-common-protos~=1.52 in /usr/local/lib/python3.10/dist-packages (from opentelemetry-exporter-otlp-proto-grpc>=1.2.0->chromadb<0.5.0,>=0.4.22->llama-index-vector-stores-chroma<0.2.0,>=0.1.1->llama-index-cli<0.2.0,>=0.1.2->llama-index) (1.62.0)\n",
            "Requirement already satisfied: opentelemetry-exporter-otlp-proto-common==1.23.0 in /usr/local/lib/python3.10/dist-packages (from opentelemetry-exporter-otlp-proto-grpc>=1.2.0->chromadb<0.5.0,>=0.4.22->llama-index-vector-stores-chroma<0.2.0,>=0.1.1->llama-index-cli<0.2.0,>=0.1.2->llama-index) (1.23.0)\n",
            "Requirement already satisfied: opentelemetry-proto==1.23.0 in /usr/local/lib/python3.10/dist-packages (from opentelemetry-exporter-otlp-proto-grpc>=1.2.0->chromadb<0.5.0,>=0.4.22->llama-index-vector-stores-chroma<0.2.0,>=0.1.1->llama-index-cli<0.2.0,>=0.1.2->llama-index) (1.23.0)\n",
            "Requirement already satisfied: opentelemetry-instrumentation-asgi==0.44b0 in /usr/local/lib/python3.10/dist-packages (from opentelemetry-instrumentation-fastapi>=0.41b0->chromadb<0.5.0,>=0.4.22->llama-index-vector-stores-chroma<0.2.0,>=0.1.1->llama-index-cli<0.2.0,>=0.1.2->llama-index) (0.44b0)\n",
            "Requirement already satisfied: opentelemetry-instrumentation==0.44b0 in /usr/local/lib/python3.10/dist-packages (from opentelemetry-instrumentation-fastapi>=0.41b0->chromadb<0.5.0,>=0.4.22->llama-index-vector-stores-chroma<0.2.0,>=0.1.1->llama-index-cli<0.2.0,>=0.1.2->llama-index) (0.44b0)\n",
            "Requirement already satisfied: opentelemetry-semantic-conventions==0.44b0 in /usr/local/lib/python3.10/dist-packages (from opentelemetry-instrumentation-fastapi>=0.41b0->chromadb<0.5.0,>=0.4.22->llama-index-vector-stores-chroma<0.2.0,>=0.1.1->llama-index-cli<0.2.0,>=0.1.2->llama-index) (0.44b0)\n",
            "Requirement already satisfied: opentelemetry-util-http==0.44b0 in /usr/local/lib/python3.10/dist-packages (from opentelemetry-instrumentation-fastapi>=0.41b0->chromadb<0.5.0,>=0.4.22->llama-index-vector-stores-chroma<0.2.0,>=0.1.1->llama-index-cli<0.2.0,>=0.1.2->llama-index) (0.44b0)\n",
            "Requirement already satisfied: setuptools>=16.0 in /usr/local/lib/python3.10/dist-packages (from opentelemetry-instrumentation==0.44b0->opentelemetry-instrumentation-fastapi>=0.41b0->chromadb<0.5.0,>=0.4.22->llama-index-vector-stores-chroma<0.2.0,>=0.1.1->llama-index-cli<0.2.0,>=0.1.2->llama-index) (67.7.2)\n",
            "Requirement already satisfied: asgiref~=3.0 in /usr/local/lib/python3.10/dist-packages (from opentelemetry-instrumentation-asgi==0.44b0->opentelemetry-instrumentation-fastapi>=0.41b0->chromadb<0.5.0,>=0.4.22->llama-index-vector-stores-chroma<0.2.0,>=0.1.1->llama-index-cli<0.2.0,>=0.1.2->llama-index) (3.7.2)\n",
            "Requirement already satisfied: monotonic>=1.5 in /usr/local/lib/python3.10/dist-packages (from posthog>=2.4.0->chromadb<0.5.0,>=0.4.22->llama-index-vector-stores-chroma<0.2.0,>=0.1.1->llama-index-cli<0.2.0,>=0.1.2->llama-index) (1.6)\n",
            "Requirement already satisfied: backoff>=1.10.0 in /usr/local/lib/python3.10/dist-packages (from posthog>=2.4.0->chromadb<0.5.0,>=0.4.22->llama-index-vector-stores-chroma<0.2.0,>=0.1.1->llama-index-cli<0.2.0,>=0.1.2->llama-index) (2.2.1)\n",
            "Requirement already satisfied: httptools>=0.5.0 in /usr/local/lib/python3.10/dist-packages (from uvicorn[standard]>=0.18.3->chromadb<0.5.0,>=0.4.22->llama-index-vector-stores-chroma<0.2.0,>=0.1.1->llama-index-cli<0.2.0,>=0.1.2->llama-index) (0.6.1)\n",
            "Requirement already satisfied: python-dotenv>=0.13 in /usr/local/lib/python3.10/dist-packages (from uvicorn[standard]>=0.18.3->chromadb<0.5.0,>=0.4.22->llama-index-vector-stores-chroma<0.2.0,>=0.1.1->llama-index-cli<0.2.0,>=0.1.2->llama-index) (1.0.1)\n",
            "Requirement already satisfied: uvloop!=0.15.0,!=0.15.1,>=0.14.0 in /usr/local/lib/python3.10/dist-packages (from uvicorn[standard]>=0.18.3->chromadb<0.5.0,>=0.4.22->llama-index-vector-stores-chroma<0.2.0,>=0.1.1->llama-index-cli<0.2.0,>=0.1.2->llama-index) (0.19.0)\n",
            "Requirement already satisfied: watchfiles>=0.13 in /usr/local/lib/python3.10/dist-packages (from uvicorn[standard]>=0.18.3->chromadb<0.5.0,>=0.4.22->llama-index-vector-stores-chroma<0.2.0,>=0.1.1->llama-index-cli<0.2.0,>=0.1.2->llama-index) (0.21.0)\n",
            "Requirement already satisfied: websockets>=10.4 in /usr/local/lib/python3.10/dist-packages (from uvicorn[standard]>=0.18.3->chromadb<0.5.0,>=0.4.22->llama-index-vector-stores-chroma<0.2.0,>=0.1.1->llama-index-cli<0.2.0,>=0.1.2->llama-index) (12.0)\n",
            "Requirement already satisfied: humanfriendly>=9.1 in /usr/local/lib/python3.10/dist-packages (from coloredlogs->onnxruntime<2.0.0,>=1.17.0->llama-index-vector-stores-chroma<0.2.0,>=0.1.1->llama-index-cli<0.2.0,>=0.1.2->llama-index) (10.0)\n",
            "Requirement already satisfied: mpmath>=0.19 in /usr/local/lib/python3.10/dist-packages (from sympy->onnxruntime<2.0.0,>=1.17.0->llama-index-vector-stores-chroma<0.2.0,>=0.1.1->llama-index-cli<0.2.0,>=0.1.2->llama-index) (1.3.0)\n",
            "Requirement already satisfied: cachetools<6.0,>=2.0.0 in /usr/local/lib/python3.10/dist-packages (from google-auth>=1.0.1->kubernetes>=28.1.0->chromadb<0.5.0,>=0.4.22->llama-index-vector-stores-chroma<0.2.0,>=0.1.1->llama-index-cli<0.2.0,>=0.1.2->llama-index) (5.3.3)\n",
            "Requirement already satisfied: pyasn1-modules>=0.2.1 in /usr/local/lib/python3.10/dist-packages (from google-auth>=1.0.1->kubernetes>=28.1.0->chromadb<0.5.0,>=0.4.22->llama-index-vector-stores-chroma<0.2.0,>=0.1.1->llama-index-cli<0.2.0,>=0.1.2->llama-index) (0.3.0)\n",
            "Requirement already satisfied: rsa<5,>=3.1.4 in /usr/local/lib/python3.10/dist-packages (from google-auth>=1.0.1->kubernetes>=28.1.0->chromadb<0.5.0,>=0.4.22->llama-index-vector-stores-chroma<0.2.0,>=0.1.1->llama-index-cli<0.2.0,>=0.1.2->llama-index) (4.9)\n",
            "Requirement already satisfied: zipp>=0.5 in /usr/local/lib/python3.10/dist-packages (from importlib-metadata<7.0,>=6.0->opentelemetry-api>=1.2.0->chromadb<0.5.0,>=0.4.22->llama-index-vector-stores-chroma<0.2.0,>=0.1.1->llama-index-cli<0.2.0,>=0.1.2->llama-index) (3.17.0)\n",
            "Requirement already satisfied: pyasn1<0.6.0,>=0.4.6 in /usr/local/lib/python3.10/dist-packages (from pyasn1-modules>=0.2.1->google-auth>=1.0.1->kubernetes>=28.1.0->chromadb<0.5.0,>=0.4.22->llama-index-vector-stores-chroma<0.2.0,>=0.1.1->llama-index-cli<0.2.0,>=0.1.2->llama-index) (0.5.1)\n"
          ]
        }
      ],
      "source": [
        "!pip install llama-index"
      ]
    },
    {
      "cell_type": "code",
      "source": [
        "# instantiate openai API key\n",
        "import os\n",
        "os.environ['OPENAI_API_KEY']  = '<your key here>'"
      ],
      "metadata": {
        "id": "t7zPSOYxZuLx"
      },
      "execution_count": null,
      "outputs": []
    },
    {
      "cell_type": "markdown",
      "source": [
        "# Stage 1: Data ingestion\n",
        "\n",
        "## 1.1 Data Loaders"
      ],
      "metadata": {
        "id": "DLOHnSVYaGFJ"
      }
    },
    {
      "cell_type": "code",
      "source": [
        "# download files\n",
        "!mkdir './data/'\n",
        "!wget 'https://raw.githubusercontent.com/aravindpai/Speech-Recognition/c9c45731e966592b1805929fc1585c72e1f34f10/dhs.txt' -O './data/dhs.txt'"
      ],
      "metadata": {
        "colab": {
          "base_uri": "https://localhost:8080/"
        },
        "id": "B9NiAKS7aFFP",
        "outputId": "5d046327-a70d-431a-99b6-46f69a4f95da"
      },
      "execution_count": null,
      "outputs": [
        {
          "output_type": "stream",
          "name": "stdout",
          "text": [
            "mkdir: cannot create directory ‘./data/’: File exists\n",
            "--2024-03-06 20:23:08--  https://raw.githubusercontent.com/aravindpai/Speech-Recognition/c9c45731e966592b1805929fc1585c72e1f34f10/dhs.txt\n",
            "Resolving raw.githubusercontent.com (raw.githubusercontent.com)... 185.199.108.133, 185.199.109.133, 185.199.110.133, ...\n",
            "Connecting to raw.githubusercontent.com (raw.githubusercontent.com)|185.199.108.133|:443... connected.\n",
            "HTTP request sent, awaiting response... 200 OK\n",
            "Length: 20789 (20K) [text/plain]\n",
            "Saving to: ‘./data/dhs.txt’\n",
            "\n",
            "./data/dhs.txt      100%[===================>]  20.30K  --.-KB/s    in 0.001s  \n",
            "\n",
            "2024-03-06 20:23:08 (22.8 MB/s) - ‘./data/dhs.txt’ saved [20789/20789]\n",
            "\n"
          ]
        }
      ]
    },
    {
      "cell_type": "code",
      "source": [
        "# import SimpleDirectoryReader\n",
        "from llama_index.core import SimpleDirectoryReader\n",
        "documents = SimpleDirectoryReader(\"data\").load_data()"
      ],
      "metadata": {
        "id": "vKTcF5VMbOlJ"
      },
      "execution_count": null,
      "outputs": []
    },
    {
      "cell_type": "code",
      "source": [
        "# print document type\n",
        "type(documents)"
      ],
      "metadata": {
        "colab": {
          "base_uri": "https://localhost:8080/"
        },
        "id": "ESWCpw0Qbe09",
        "outputId": "ffeb6b4d-54e5-4226-9ba2-e73d60f0a368"
      },
      "execution_count": null,
      "outputs": [
        {
          "output_type": "execute_result",
          "data": {
            "text/plain": [
              "list"
            ]
          },
          "metadata": {},
          "execution_count": 6
        }
      ]
    },
    {
      "cell_type": "code",
      "source": [
        "# length of documents\n",
        "len(documents)"
      ],
      "metadata": {
        "colab": {
          "base_uri": "https://localhost:8080/"
        },
        "id": "00lHfvbZcOQI",
        "outputId": "ed08f555-6fa5-4e6c-efa7-b50754a4b88b"
      },
      "execution_count": null,
      "outputs": [
        {
          "output_type": "execute_result",
          "data": {
            "text/plain": [
              "1"
            ]
          },
          "metadata": {},
          "execution_count": 7
        }
      ]
    },
    {
      "cell_type": "markdown",
      "source": [
        "summary:\n",
        "* only 1 object which is a document object."
      ],
      "metadata": {
        "id": "Q12GEFhrceBr"
      }
    },
    {
      "cell_type": "code",
      "source": [
        "# metadata for document\n",
        "documents[0]"
      ],
      "metadata": {
        "colab": {
          "base_uri": "https://localhost:8080/"
        },
        "id": "MZU-s2F-cQ_f",
        "outputId": "4611983b-107a-453b-ad04-f3ddf04a80b5"
      },
      "execution_count": null,
      "outputs": [
        {
          "output_type": "execute_result",
          "data": {
            "text/plain": [
              "Document(id_='d545cd4a-b6d6-4328-ae82-a86ebfec5b32', embedding=None, metadata={'file_path': '/content/data/dhs.txt', 'file_name': '/content/data/dhs.txt', 'file_type': 'text/plain', 'file_size': 20789, 'creation_date': '2024-03-06', 'last_modified_date': '2024-03-06'}, excluded_embed_metadata_keys=['file_name', 'file_type', 'file_size', 'creation_date', 'last_modified_date', 'last_accessed_date'], excluded_llm_metadata_keys=['file_name', 'file_type', 'file_size', 'creation_date', 'last_modified_date', 'last_accessed_date'], relationships={}, text=\"\\ufeffDataHack Summit 2023 (DHS) India’s most Futuristic AI Conference organized by Analytics Vidhya.Analytics Vidhya is the World’s leading and India’s largest data science community.Analytics Vidhya is founded by Kunal Jain. Analytics Vidhya aims to build the next generation data science ecosystem across the globe.We have helped millions of people realize their data science dreams.We conduct hackathons, competitions, training & conferences and help companies find the right data science talent.\\r\\nDHS 2023 totally has 70+ AI Talks, 30+ Hack Sessions and 8+ Workshops.\\r\\nIt's the 4th edition of DHS.Here is the DHS website: https://www.analyticsvidhya.com/datahack-summit-2023/.The previous DHS happened in 2017, 2018 and 2019 at Bengaluru. The 4 day conference is taking place on 2nd – 5th August, 2023 at NIMHANS Convention Centre, Bengaluru. The 4th day consists of day-long workshops. The workshops are held in a table-and-chair set up.The venues for the workshops will be announced shortly.The theme of DataHack Summit 2023 is “Infinite Possibilities: Exploring the Future with Generative AI”.This focus reflects the conference’s commitment to delve into the vast potential of Generative AI.It aims to explore how this technology can shape and revolutionize our future.1200+ attendees, 70+ AI talks, 30+ Hack sessions and 8+ workshops.Each workshop is 8 hours long from 9:30 AM IST to 5:30 PM IST.The focus areas of the conference are Generative AI,Machine Learning,Deep Learning,Cloud Computing,NLP,Data Engineering,Computer Vision,Data Visualization,ML Ops,Diffusion Model,Responsible AI,Large Language Model.If you are looking for group discounts,Please email us at dhs@analyticsvidhya.com or call on +91 9910464142 (Simran Jasbir Singh).DataHack Summit 2023 offers 2 types of tickets – Conference + HackDay and Conference + HackDay + Workshop.The actual price of the tickets for Conference + HackDay is INR 20000 and Conference + HackDay + Workshop is INR 32000.But, currently you can buy the tickets for Conference + HackDay at INR 12000 and Conference + HackDay + Workshop at INR 20800.Ticket prices are exclusive of GST. You can purchase tickets for DataHack Summit 2023 on the conference website as well i.e. https://www.analyticsvidhya.com/datahack-summit-2023/.Yes, Datahack Summit 2023 welcomes speakers from various backgrounds and expertise in data science and artificial intelligence.Visit the call for speakers page to submit your proposal.Hack Sessions are brief, expert-driven demonstrations showcasing data-driven solutions with minimal interaction, held in a relaxed setting.The difference between workshop and hack session is that Workshops are extensive, interactive sessions emphasizing hands-on learning and problem-solving in a formal environment, with a focus on individual attention.Essentially, Hack Sessions display solutions, while Workshops promote skill-building and comprehensive understanding. To become a sponsor for DataHack Summit 2023, please contact the conference organizers for more information.The format of DHS 2023 includes Live Keynotes, Power Talks, Hack Sessions, Generative AI Sessions, Workshops, Awards Evening, The AI Showcase.In the AI Showcase, check out the latest and the best in Artificial Intelligence from exciting startups, solution providers to bleeding edge hardware and software providers! Awards Evening is to recognize the best in AI, the awards night uplifts and inspires everyone present.This showcases the groundbreaking innovations and business in the AI landscape.Workshops are each day-long hands-on session aimed to make sure you learn Artificial Intelligence by doing it yourself.No more lectures – just code with the help of experts. Hack Session is no better way to understand AI than seeing an expert building it in front of your eyes.Each Hack Session is a 60 to 90 minutes long live interactive session with an expert working in front of you! Generative AI session is also a hack session focusing on Generative AI.Power talks are sessions where we can learn from the perspective of experienced industry leaders from across the globe.Each session packs years of experience and a ton of perspective on the impact of AI.Live keynotes are sessions where we are bringing together the brightest AI minds to share experiences, innovations, and cutting-edge case studies.Expect tangible and practical insights.The food and refreshment are free of cost at DHS.The conference is free of cost for the speakers and volunteers.We're proud to have had past sponsors like H2O.ai, Innosential, Nagarro, Analyttica, American Express, IBM, Intel, pi Ventures, Indian Startups, LTIMindtree, Aidaio, Ericsson, AWS, INKher, Mahindra Rise, Rinalytics Advisors who helped make previous editions of DataHack Summit a success.Join us and gain visibility, networking opportunities, and more.For any queries on DHS, you can reach out to us on E: dhs@analyticsvidhya.com | T: +91-8068342847, +91-8046107668.\\r\\n\\r\\n\\r\\nHere are the details of a few speakers at DHS 2023.\\r\\nThe information about each speaker is given in key value pairs.\\r\\n\\r\\n\\r\\nThe key “Speaker” indicates the Name of the speakers\\r\\nThe key “Designation” denotes the Designation of the speakers\\r\\nThe key “Linkedin” indicates Linkedin URL of the speakers\\r\\n\\r\\n\\r\\nYou can access the final list of speakers on DHS 2023 website: https://www.analyticsvidhya.com/datahack-summit-2023/\\r\\n\\r\\n\\r\\nSpeaker:Srikanth Velamakanni\\r\\nDesignation:Co-Founder, Group Chief Executive and Vice Chairman at Fractal\\r\\nLinkedin:https://www.linkedin.com/in/srikanthvelamakanni/\\r\\n\\r\\n\\r\\nSpeaker:Ranjani Mani\\r\\nDesignation:Global Analytics Leader - CSS, Atlassian\\r\\nLinkedin:https://www.linkedin.com/in/ranjanimani/\\r\\n\\r\\n\\r\\nSpeaker:Dr. Harshad Khadilkar\\r\\nDesignation:Senior Scientist, Data & Decision Sciences at TCS Research\\r\\nLinkedin:https://www.linkedin.com/in/harshad-khadilkar-80609959/\\r\\n\\r\\n\\r\\nSpeaker:Dr. Sarabjot Singh Anand\\r\\nDesignation:Co-Founder and Chief Data Scientist at Tatras Data\\r\\nLinkedin:https://www.linkedin.com/in/sarabjot-singh-anand/\\r\\n\\r\\n\\r\\nSpeaker:Dr. Kiran R\\r\\nDesignation:ML Science & Engineering Leader at Microsoft\\r\\nLinkedin:https://www.linkedin.com/in/rkirana/\\r\\n\\r\\n\\r\\nSpeaker:Anand S\\r\\nDesignation:CEO at Gramener\\r\\nLinkedin:https://www.linkedin.com/in/sanand0/\\r\\n\\r\\n\\r\\nSpeaker:Samiran Roy\\r\\nDesignation:Data Scientist at CRED\\r\\nLinkedin:https://www.linkedin.com/in/samiranroy/\\r\\n\\r\\n\\r\\nSpeaker:Munmun Das\\r\\nDesignation:Principal / VP – Automation, Innovation & Digital Transformation at Accenture\\r\\nLinkedin:https://www.linkedin.com/in/munmun-das-5aa05316/\\r\\n\\r\\n\\r\\nSpeaker:Premkumar (Prem) Rangarajan\\r\\nDesignation:Principal AI/ML Specialist Solutions Architect at AWS\\r\\nLinkedin:https://www.linkedin.com/in/premkr/\\r\\n\\r\\n\\r\\nSpeaker:Raghav Bali\\r\\nDesignation:Staff Data Scientist at Delivery Hero\\r\\nLinkedin:https://www.linkedin.com/in/baliraghav/\\r\\n\\r\\n\\r\\nSpeaker:Mathangi Sri Ramachandran\\r\\nDesignation:Chief Data Officer at Yubi\\r\\nLinkedin:https://www.linkedin.com/in/mathangisri/\\r\\n\\r\\n\\r\\nSpeaker:Ankur Verma\\r\\nDesignation:Co-Founder & CEO at TrueGradient\\r\\nLinkedin:https://www.linkedin.com/in/ankur-verma-350b7844/\\r\\n\\r\\n\\r\\nSpeaker:Anand Mishra\\r\\nDesignation:CTO at Analytics Vidhya\\r\\nLinkedin:https://www.linkedin.com/in/anand-mishra-91763014/\\r\\n\\r\\n\\r\\nSpeaker:Seema Ramachandra\\r\\nDesignation:Customer Engineering Leader for Data Analytics & AI @ Google\\r\\nLinkedin:https://www.linkedin.com/in/seemaramachandra/\\r\\n\\r\\n\\r\\nSpeaker:Sayak Paul\\r\\nDesignation:Developer Advocate Engineer at Hugging Face\\r\\nLinkedin:https://www.linkedin.com/in/sayak-paul/\\r\\n\\r\\n\\r\\nSpeaker:Rama Badrinath\\r\\nDesignation:Principal Data Scientist at Meesho\\r\\nLinkedin:https://www.linkedin.com/in/rama-badrinath-00405712/\\r\\n\\r\\n\\r\\nSpeaker:Sandhya Gopalan\\r\\nDesignation:AI & MLOps Practice Head at EY\\r\\nLinkedin:https://www.linkedin.com/in/sandhya-gopalan-8953068/\\r\\n\\r\\n\\r\\nSpeaker:Sudalai Rajkumar - SRK\\r\\nDesignation:Head of AI & ML @ Growfin\\r\\nLinkedin:https://www.linkedin.com/in/sudalairajkumar/\\r\\n\\r\\n\\r\\nSpeaker:Shahebaz Mohammad\\r\\nDesignation:Machine Learning Engineer at Snorkel AI\\r\\nLinkedin:https://www.linkedin.com/in/shaz13/\\r\\n\\r\\n\\r\\nSpeaker:Prashant Sahu\\r\\nDesignation: Manager - Data Science Trainings at Analytics Vidhya\\r\\nLinkedin:https://www.linkedin.com/in/prashantksahu/\\r\\n\\r\\n\\r\\nSpeaker:Apoorv Vishnoi\\r\\nDesignation:Head - Training Vertical at Analytics Vidhya\\r\\nLinkedin:https://www.linkedin.com/in/apoorvvishnoi/\\r\\n\\r\\n\\r\\nSpeaker:Dr. Vikas Agrawal\\r\\nDesignation: Senior Principal Data Scientist at Oracle\\r\\nLinkedin:https://www.linkedin.com/in/vikasagrawalresearch/\\r\\n\\r\\n\\r\\nSpeaker:Bhaskarjit Sarmah\\r\\nDesignation:Vice President at BlackRock\\r\\nLinkedin:https://www.linkedin.com/in/bhaskarjitsarmah/\\r\\n\\r\\n\\r\\nSpeaker:Ravi Theja\\r\\nDesignation:Data Scientist II at Glance\\r\\nLinkedin:https://www.linkedin.com/in/ravidesetty/\\r\\n\\r\\n\\r\\nSpeaker:Karthik Sai Marala\\r\\nDesignation:Associate Engineering Manager at Glance\\r\\nLinkedin:https://www.linkedin.com/in/karthik-sai-marala-a1116786/\\r\\n\\r\\n\\r\\nSpeaker:Abhishek Sanwaliya\\r\\nDesignation:Principal - Data & Applied Sciences at Microsoft\\r\\nLinkedin:https://www.linkedin.com/in/abhishek-sanwaliya-854b6a80/\\r\\n\\r\\n\\r\\nSpeaker:Ravi Theja\\r\\nDesignation:Data Scientist II at Glance\\r\\nLinkedin:https://www.linkedin.com/in/ravidesetty/\\r\\n\\r\\n\\r\\nSpeaker:Abhilash Majumder\\r\\nDesignation:Senior HPC/Deep Learning Engineer - Intel SuperComputing Group\\r\\nLinkedin:https://www.linkedin.com/in/abhilash-majumder-1aa7b9138/\\r\\n\\r\\n\\r\\nSpeaker:Logesh Kumar\\r\\nDesignation:Lead Machine learning Engineer at Saama\\r\\nLinkedin:https://www.linkedin.com/in/logeshkumaru\\r\\n\\r\\n\\r\\nSpeaker:Jayakumar Subramanian\\r\\nDesignation: Senior Research Scientist at Adobe\\r\\nLinkedin:https://www.linkedin.com/in/jayakumar-subramanian-9198954\\r\\n\\r\\n\\r\\nSpeaker:Anant Agarwal\\r\\nDesignation:Data Science Manager at Nissan\\r\\nLinkedin:https://www.linkedin.com/in/agarwalanant/\\r\\n\\r\\n\\r\\nSpeaker:Kartik Nighania\\r\\nDesignation:MLOps Engineer at Typewise\\r\\nLinkedin:https://www.linkedin.com/in/kartik-nighania-765227145/\\r\\n\\r\\n\\r\\nSpeaker:Parthiban Srinivasan\\r\\nDesignation: Professor - Data Science & Engineering at IISER, Bhopal\\r\\nLinkedin:https://www.linkedin.com/in/parthiban-srinivasan-183608b/\\r\\n\\r\\n\\r\\nSpeaker:Eshan Tiwari\\r\\nDesignation: Data Science Lead at Google\\r\\nLinkedin:https://www.linkedin.com/in/eshan-tiwari-a03b8724/\\r\\n\\r\\n\\r\\nSpeaker:Anmol Krishan Sachdeva\\r\\nDesignation:Hybrid Cloud Architect at Google\\r\\nLinkedin:https://www.linkedin.com/in/greatdevaks/\\r\\n\\r\\n\\r\\nSpeaker:Sourab Mangrulkar\\r\\nDesignation:Machine Learning Engineer at Huggingface\\r\\nLinkedin:https://www.linkedin.com/in/sourab-m\\r\\n\\r\\n\\r\\nSpeaker:Abhishek Kumar\\r\\nDesignation:Director - Data Science at Publicis Sapient\\r\\nLinkedin:https://www.linkedin.com/in/meabhishekkumar/\\r\\n\\r\\n\\r\\nSpeaker:Amit Kumar\\r\\nDesignation:Senior Enterprise Architect - Generative AI, Deep Learning ,Reinforcement Learning at NVIDIA\\r\\nLinkedin:https://www.linkedin.com/in/amit-kumar-b4b43ab/\\r\\n\\r\\n\\r\\nSpeaker:Kishore Ayyadevara\\r\\nDesignation:Co-Founder & CTO at Awone\\r\\nLinkedin:https://www.linkedin.com/in/kishore-ayyadevara/\\r\\n\\r\\n\\r\\nSpeaker:Hardik Meisheri\\r\\nDesignation:Applied Scientist II at Amazon\\r\\nLinkedin:https://www.linkedin.com/in/hardikmeisheri/\\r\\n\\r\\n\\r\\nSpeaker:Vijay Gabale\\r\\nDesignation:Co-founder & Chief Product Officer at Infilect\\r\\nLinkedin:https://www.linkedin.com/in/vijaygabale/\\r\\n\\r\\n\\r\\nSpeaker:Durga Gadiraju\\r\\nDesignation:Founder and Director - ITVersity & Co-Founder and CTO - Analytiqs, Inc.\\r\\nLinkedin:https://www.linkedin.com/in/durga0gadiraju/\\r\\n\\r\\n\\r\\nSpeaker:Raghu Raman A V\\r\\nDesignation:SME - Big Data / Machine Learning on Big Data at Intellipaat\\r\\nLinkedin:https://www.linkedin.com/in/raghushining/\\r\\n\\r\\n\\r\\nSpeaker:Arun Prakash Ashokan\\r\\nDesignation:Associate Director Data Science at Novartis\\r\\nLinkedin:https://www.linkedin.com/in/arunprakashasokan/\\r\\n\\r\\n\\r\\nDHS 2023 totally has 70+ AI Talks, 30+ Hack Sessions and 8+ Workshops.\\r\\nEach workshop is 8 hours long from 9:30 AM IST to 5:30 PM IST.\\r\\nThere can be more than 1 speaker for a session at DHS.\\r\\nThe duration of the hack session is around 60 to 90 minutes.\\r\\nHack Sessions are brief, expert-driven demonstrations showcasing data-driven solutions with minimal interaction, held in a relaxed setting.\\r\\nGenerative AI session is also a hack session focusing on generative ai.\\r\\n\\r\\n\\r\\nHere are the details of a few sessions.\\r\\nYou can access the complete list on DHS website: https://www.analyticsvidhya.com/datahack-summit-2023/\\r\\n\\r\\n\\r\\nThe information about each session is given below in key value pairs.\\r\\n\\r\\n\\r\\nThe key “Speaker” indicates the Name of the speakers\\r\\nThe key “Designation” denotes the Designation of the speakers\\r\\nThe key “Linkedin” indicates Linkedin URL of the speakers\\r\\nThe key “Topic Name” denotes the title of the sessions\\r\\nThe key “Type of Session” denotes the Type of Sessions i.e whether its a Powertalk or Keynote or Workshop or Panel Discussion or Hack\\r\\n\\r\\n\\r\\nHere are the few Generative AI session details:\\r\\n\\r\\n\\r\\nSpeaker:Arun Prakash Ashokan\\r\\nDesignation:Associate Director Data Science at Novartis\\r\\nTopic Name:Finance Copilot: Building a GenAI Solution Using Sensitive Enterprise Data\\r\\nType of Session:Generative AI\\r\\n\\r\\n\\r\\nSpeaker:Munmun Das\\r\\nDesignation:Principal / VP – Automation, Innovation & Digital Transformation at Accenture\\r\\nTopic Name:Creating Realistic Avatars in the Metaverse Using Generative AI\\r\\nType of Session:Generative AI\\r\\n\\r\\n\\r\\nSpeaker:Ravi Theja\\r\\nDesignation:Data Scientist II at Glance\\r\\nTopic Name:Building QA Systems using LlamaIndex\\r\\nType of Session:Generative AI\\r\\n\\r\\n\\r\\nSpeaker:Samiran Roy\\r\\nDesignation:Data Scientist at CRED\\r\\nTopic Name:Fine-tuning a Language Model with RLHF\\r\\nType of Session:Generative AI\\r\\n\\r\\n\\r\\nSpeaker:Amit Kumar\\r\\nDesignation:Senior Enterprise Architect - Generative AI, Deep Learning ,Reinforcement Learning at NVIDIA\\r\\nTopic Name:Build Enterprises-grade  Generative AI end to end solution\\r\\nType of Session:Generative AI\\r\\n\\r\\n\\r\\nSpeaker:Sourab Mangrulkar\\r\\nDesignation:Machine Learning Engineer at Hugging Face\\r\\nTopic Name:Parameter-Efficient Fine-Tuning: Doing more with less\\r\\nType of Session:Generative AI\\r\\n\\r\\n\\r\\nSpeaker:Abhishek Kumar\\r\\nDesignation:Director - Data Science at Publicis Sapient\\r\\nTopic Name:LLMOps - The Next Frontier of Scaling Generative AI Powered Applications\\r\\nType of Session:Generative AI\\r\\n\\r\\n\\r\\nSpeaker:Sayak Paul\\r\\nDesignation:Developer Advocate Engineer at Hugging Face\\r\\nTopic Name:Democratizing Diffusion Models with Diffusers\\r\\nType of Session:Generative AI\\r\\n\\r\\n\\r\\nSpeaker:Shahebaz Mohammad\\r\\nDesignation:Machine Learning Engineer at Snorkel AI\\r\\nTopic Name:Building AutoGPT Agent With LangChain\\r\\nType of Session:Generative AI\\r\\n\\r\\n\\r\\nSpeaker:Logesh Kumar\\r\\nDesignation:Lead Machine learning Engineer at Saama\\r\\nTopic Name:Bespoke LLMs : Building and Scaling customized large language models\\r\\nType of Session:Generative AI\\r\\n\\r\\n\\r\\nSpeaker:Abhilash Majumder\\r\\nDesignation:Senior HPC/Deep Learning Engineer - Intel SuperComputing Group\\r\\nTopic Name:Distributed Deep Learning Acceleration Framework optimization for Large Generative Models\\r\\nType of Session:Generative AI\\r\\n\\r\\n\\r\\nSpeaker:Abhishek Sanwaliya\\r\\nDesignation:Principal - Data & Applied Sciences at Microsoft\\r\\nTopic Name:Winning the Race: Generative AI Adaption & Implementation\\r\\nType of Session:Generative AI\\r\\n\\r\\n\\r\\nHere are the few Hack session details:\\r\\n\\r\\n\\r\\nSpeaker:Anant Agarwal\\r\\nDesignation:Data Science Manager at Nissan\\r\\nTopic Name:State-of-the-art Techniques for Time Series Forecasting\\r\\nType of Session:Hack\\r\\n\\r\\n\\r\\nSpeaker:Anand S\\r\\nDesignation:CEO at Gramener\\r\\nTopic Name:Insights from Interaction\\r\\nType of Session:Hack\\r\\n\\r\\n\\r\\nSpeaker:Hardik Meisheri\\r\\nDesignation:Applied Scientist II at Amazon\\r\\nTopic Name:Edge of AI with Reinforcement Learning\\r\\nType of Session:Hack\\r\\n\\r\\n\\r\\nSpeaker:Kishore Ayyadevara\\r\\nDesignation:Co-Founder & CTO at Awone\\r\\nTopic Name:Deploying Computer Vision Models at Scale\\r\\nType of Session:Hack\\r\\n\\r\\n\\r\\nSpeaker:Bhaskarjit Sarmah\\r\\nDesignation:Vice President at BlackRock\\r\\nTopic Name:Stock Embeddings - Representation Learning for Financial Securities\\r\\nType of Session:Hack\\r\\n\\r\\n\\r\\nSpeaker:Dr. Sarabjot Singh Anand\\r\\nDesignation:Co-Founder and Chief Data Scientist at Tatras Data\\r\\nTopic Name:From Generative Models to Generative AI\\r\\nType of Session:Hack\\r\\n\\r\\n\\r\\nSpeaker:Apoorv Vishnoi\\r\\nDesignation:Head - Training Vertical at Analytics Vidhya\\r\\nTopic Name:Creating Deep Learning Models using NoCode Platforms\\r\\nType of Session:Hack\\r\\n\\r\\n\\r\\nSpeaker:Raghav Bali\\r\\nDesignation:Staff Data Scientist at Delivery Hero\\r\\nTopic Name:Building Robust and Scalable Recommendation Systems for Online Food Delivery\\r\\nType of Session:Hack\\r\\n\\r\\n\\r\\nSpeaker:Kartik Nighania\\r\\nDesignation:MLOps Engineer at Typewise\\r\\nTopic Name:AI and ML Lifecycles: From Build to Deployment, Automation, and Retraining at Scale\\r\\nType of Session:Hack\\r\\n\\r\\n\\r\\nSpeaker:Sandhya Gopalan\\r\\nDesignation:AI & MLOps Practice Head at EY\\r\\nTopic Name:Realistic and Practical Trusted AI for Enterprise\\r\\nType of Session:Hack\\r\\n\\r\\n\\r\\nSpeaker:Rama Badrinath\\r\\nDesignation:Principal Data Scientist at Meesho\\r\\nTopic Name:How to build an in-house platform to conduct thousands of parallel A/B experiments?\\r\\nType of Session:Hack\\r\\n\\r\\n\\r\\nSpeaker:Anand Mishra\\r\\nDesignation:CTO at Analytics Vidhya\\r\\nTopic Name:Demystifying GPT Models: Building Transformers from Scratch\\r\\nType of Session:Hack\\r\\n\\r\\n\\r\\nSpeaker:Ankur Verma\\r\\nDesignation:Co-Founder & CEO at TrueGradient\\r\\nTopic Name:Scalable AI for Supply Chain using AutoML\\r\\nType of Session:Hack\\r\\n\\r\\n\\r\\nHere is the few keynote session details.\\r\\n\\r\\n\\r\\nSpeaker:Srikanth Velamakanni\\r\\nDesignation:Co-Founder, Group Chief Executive and Vice Chairman at Fractal\\r\\nTopic Name: Generative AI and the future of the work\\r\\nType of Session:Keynote\\r\\n\\r\\n\\r\\nHere are the details of few panel discussions:\\r\\n\\r\\n\\r\\nSpeaker:Sudalai Rajkumar - SRK\\r\\nDesignation:Head of AI & ML @ Growfin\\r\\nTopic Name:Life of a Data Scientist Before and After ChatGPT\\r\\nType of Session:Panel Discussion\\r\\n\\r\\n\\r\\nHere are the few powertalk session details:\\r\\n\\r\\n\\r\\nSpeaker:Mathangi Sri Ramachandran\\r\\nDesignation:Chief Data Officer at Yubi\\r\\nTopic Name:Building Impactful Data Teams\\r\\nType of Session:Powertalk\\r\\n\\r\\n\\r\\nSpeaker:Vijay Gabale\\r\\nDesignation:Co-founder & Chief Product Officer at Infilect\\r\\nTopic Name:Use of AI & Image Recognition in driving sales & profitability\\r\\nType of Session:Powertalk\\r\\n\\r\\n\\r\\nSpeaker:Ranjani Mani\\r\\nDesignation:Global Analytics Leader - CSS, Atlassian\\r\\nTopic Name:Generative AI and I - Understanding what the new iPhone moment means to us\\r\\nType of Session:Powertalk\\r\\n\\r\\n\\r\\nSpeaker:Dr. Harshad Khadilkar\\r\\nDesignation:Senior Scientist, Data & Decision Sciences at TCS Research\\r\\nTopic Name:Reimagining the Exploration-Exploitation Dilemma as a Generative AI Problem\\r\\nType of Session:Powertalk\\r\\n\\r\\n\\r\\nSpeaker:Parthiban Srinivasan\\r\\nDesignation: Professor - Data Science & Engineering at IISER, Bhopal\\r\\nTopic Name:Generative AI: Transforming the Future of the Pharmaceutical Industry\\r\\nType of Session:Powertalk\\r\\n\\r\\n\\r\\nSpeaker:Seema Ramachandra\\r\\nDesignation:Customer Engineering Leader for Data Analytics & AI @ Google\\r\\nTopic Name:Practicalities of AI Implementation at Scale\\r\\nType of Session:Powertalk\\r\\n\\r\\n\\r\\nSpeaker:Dr. Vikas Agrawal\\r\\nDesignation: Senior Principal Data Scientist at Oracle\\r\\nTopic Name:My AI Application Works Well! Why Does It Break with New Data, in a New Geo, Next Year? Help!\\r\\nType of Session:Powertalk\\r\\n\\r\\n\\r\\nSpeaker:Ravi Theja\\r\\nDesignation:Data Scientist II at Glance\\r\\nTopic Name:AI and Glance TV: Transforming Screensavers into Live Updates\\r\\nType of Session:Powertalk\\r\\n\\r\\n\\r\\nSpeaker:Dr. Kiran R\\r\\nDesignation:ML Science & Engineering Leader at Microsoft\\r\\nTopic Name:Landing Models in Production at Scale\\r\\nType of Session:Powertalk\\r\\n\\r\\n\\r\\nHere are the few workshop details-\\r\\n\\r\\n\\r\\nSpeaker:Ullas Nambiar\\r\\nDesignation: Managing Director AI Research and Product, Accenture\\r\\nTopic Name:AI for Business Leaders\\r\\nType of Session:Workshop\\r\\n\\r\\n\\r\\nSpeaker: Raghav Bali\\r\\nDesignation: Staff Data Scientist at Delivery Hero\\r\\nTopic Name:Natural Language Processing using Generative models\\r\\nType of Session:Workshop\\r\\n\\r\\n\\r\\nSpeaker:Sanyam Bhutani\\r\\nDesignation: Senior Data Scientist at H2O.ai\\r\\nTopic Name:Mastering LLMs: Training, Fine-tuning, and best practices\\r\\nType of Session:Workshop\\r\\n\\r\\n\\r\\nSpeaker:Eshan Tiwari\\r\\nDesignation: Data Science Lead at Google\\r\\nTopic Name:Applied Machine Learning\\r\\nType of Session:Workshop\\r\\n\\r\\n\\r\\nSpeaker:Jayakumar Subramanian\\r\\nDesignation: Senior Research Scientist at Adobe\\r\\nTopic Name:Solving real world problems using Reinforcement learning\\r\\nType of Session:Workshop\\r\\n\\r\\n\\r\\nSpeaker:Sandeep Singh\\r\\nDesignation:Head of Applied AI, Beans.ai\\r\\nTopic Name:Mastering Stable Diffusion:Training and Industrial Best Practices\\r\\nType of Session:Workshop\\r\\n\\r\\n\\r\\nSpeaker:Anmol Krishan Sachdeva\\r\\nDesignation:Hybrid Cloud Architect at Google\\r\\nTopic Name:Mastering MLOps-The Art of Productionizing Machine Learning Model\\r\\nType of Session:Workshop\\r\\n\\r\\n\\r\\nSpeaker:Durga Gadiraju\\r\\nDesignation:Founder and Director, itversity\\r\\nTopic Name:Build Scalable Machine Learning models\\r\\nType of Session:Workshop\", start_char_idx=None, end_char_idx=None, text_template='{metadata_str}\\n\\n{content}', metadata_template='{key}: {value}', metadata_seperator='\\n')"
            ]
          },
          "metadata": {},
          "execution_count": 8
        }
      ]
    },
    {
      "cell_type": "markdown",
      "source": [
        "## Embedding Model\n",
        "* Various embedding models are available from llama index as seen here: https://docs.llamaindex.ai/en/stable/module_guides/models/embeddings.html\n",
        "* We will use the OpenAI embeddings."
      ],
      "metadata": {
        "id": "Q6_y_4uac8pe"
      }
    },
    {
      "cell_type": "code",
      "source": [
        "#install openai embedding\n",
        "!pip install llama-index-embeddings-openai"
      ],
      "metadata": {
        "colab": {
          "base_uri": "https://localhost:8080/"
        },
        "id": "EPpr6X5dgXfM",
        "outputId": "d22ed034-a3c7-4981-a103-f5f324a45be7"
      },
      "execution_count": null,
      "outputs": [
        {
          "output_type": "stream",
          "name": "stdout",
          "text": [
            "Requirement already satisfied: llama-index-embeddings-openai in /usr/local/lib/python3.10/dist-packages (0.1.6)\n",
            "Requirement already satisfied: llama-index-core<0.11.0,>=0.10.1 in /usr/local/lib/python3.10/dist-packages (from llama-index-embeddings-openai) (0.10.16.post1)\n",
            "Requirement already satisfied: PyYAML>=6.0.1 in /usr/local/lib/python3.10/dist-packages (from llama-index-core<0.11.0,>=0.10.1->llama-index-embeddings-openai) (6.0.1)\n",
            "Requirement already satisfied: SQLAlchemy[asyncio]>=1.4.49 in /usr/local/lib/python3.10/dist-packages (from llama-index-core<0.11.0,>=0.10.1->llama-index-embeddings-openai) (2.0.28)\n",
            "Requirement already satisfied: aiohttp<4.0.0,>=3.8.6 in /usr/local/lib/python3.10/dist-packages (from llama-index-core<0.11.0,>=0.10.1->llama-index-embeddings-openai) (3.9.3)\n",
            "Requirement already satisfied: dataclasses-json in /usr/local/lib/python3.10/dist-packages (from llama-index-core<0.11.0,>=0.10.1->llama-index-embeddings-openai) (0.6.4)\n",
            "Requirement already satisfied: deprecated>=1.2.9.3 in /usr/local/lib/python3.10/dist-packages (from llama-index-core<0.11.0,>=0.10.1->llama-index-embeddings-openai) (1.2.14)\n",
            "Requirement already satisfied: dirtyjson<2.0.0,>=1.0.8 in /usr/local/lib/python3.10/dist-packages (from llama-index-core<0.11.0,>=0.10.1->llama-index-embeddings-openai) (1.0.8)\n",
            "Requirement already satisfied: fsspec>=2023.5.0 in /usr/local/lib/python3.10/dist-packages (from llama-index-core<0.11.0,>=0.10.1->llama-index-embeddings-openai) (2023.6.0)\n",
            "Requirement already satisfied: httpx in /usr/local/lib/python3.10/dist-packages (from llama-index-core<0.11.0,>=0.10.1->llama-index-embeddings-openai) (0.27.0)\n",
            "Requirement already satisfied: llamaindex-py-client<0.2.0,>=0.1.13 in /usr/local/lib/python3.10/dist-packages (from llama-index-core<0.11.0,>=0.10.1->llama-index-embeddings-openai) (0.1.13)\n",
            "Requirement already satisfied: nest-asyncio<2.0.0,>=1.5.8 in /usr/local/lib/python3.10/dist-packages (from llama-index-core<0.11.0,>=0.10.1->llama-index-embeddings-openai) (1.6.0)\n",
            "Requirement already satisfied: networkx>=3.0 in /usr/local/lib/python3.10/dist-packages (from llama-index-core<0.11.0,>=0.10.1->llama-index-embeddings-openai) (3.2.1)\n",
            "Requirement already satisfied: nltk<4.0.0,>=3.8.1 in /usr/local/lib/python3.10/dist-packages (from llama-index-core<0.11.0,>=0.10.1->llama-index-embeddings-openai) (3.8.1)\n",
            "Requirement already satisfied: numpy in /usr/local/lib/python3.10/dist-packages (from llama-index-core<0.11.0,>=0.10.1->llama-index-embeddings-openai) (1.25.2)\n",
            "Requirement already satisfied: openai>=1.1.0 in /usr/local/lib/python3.10/dist-packages (from llama-index-core<0.11.0,>=0.10.1->llama-index-embeddings-openai) (1.13.3)\n",
            "Requirement already satisfied: pandas in /usr/local/lib/python3.10/dist-packages (from llama-index-core<0.11.0,>=0.10.1->llama-index-embeddings-openai) (1.5.3)\n",
            "Requirement already satisfied: pillow>=9.0.0 in /usr/local/lib/python3.10/dist-packages (from llama-index-core<0.11.0,>=0.10.1->llama-index-embeddings-openai) (9.4.0)\n",
            "Requirement already satisfied: requests>=2.31.0 in /usr/local/lib/python3.10/dist-packages (from llama-index-core<0.11.0,>=0.10.1->llama-index-embeddings-openai) (2.31.0)\n",
            "Requirement already satisfied: tenacity<9.0.0,>=8.2.0 in /usr/local/lib/python3.10/dist-packages (from llama-index-core<0.11.0,>=0.10.1->llama-index-embeddings-openai) (8.2.3)\n",
            "Requirement already satisfied: tiktoken>=0.3.3 in /usr/local/lib/python3.10/dist-packages (from llama-index-core<0.11.0,>=0.10.1->llama-index-embeddings-openai) (0.6.0)\n",
            "Requirement already satisfied: tqdm<5.0.0,>=4.66.1 in /usr/local/lib/python3.10/dist-packages (from llama-index-core<0.11.0,>=0.10.1->llama-index-embeddings-openai) (4.66.2)\n",
            "Requirement already satisfied: typing-extensions>=4.5.0 in /usr/local/lib/python3.10/dist-packages (from llama-index-core<0.11.0,>=0.10.1->llama-index-embeddings-openai) (4.10.0)\n",
            "Requirement already satisfied: typing-inspect>=0.8.0 in /usr/local/lib/python3.10/dist-packages (from llama-index-core<0.11.0,>=0.10.1->llama-index-embeddings-openai) (0.9.0)\n",
            "Requirement already satisfied: aiosignal>=1.1.2 in /usr/local/lib/python3.10/dist-packages (from aiohttp<4.0.0,>=3.8.6->llama-index-core<0.11.0,>=0.10.1->llama-index-embeddings-openai) (1.3.1)\n",
            "Requirement already satisfied: attrs>=17.3.0 in /usr/local/lib/python3.10/dist-packages (from aiohttp<4.0.0,>=3.8.6->llama-index-core<0.11.0,>=0.10.1->llama-index-embeddings-openai) (23.2.0)\n",
            "Requirement already satisfied: frozenlist>=1.1.1 in /usr/local/lib/python3.10/dist-packages (from aiohttp<4.0.0,>=3.8.6->llama-index-core<0.11.0,>=0.10.1->llama-index-embeddings-openai) (1.4.1)\n",
            "Requirement already satisfied: multidict<7.0,>=4.5 in /usr/local/lib/python3.10/dist-packages (from aiohttp<4.0.0,>=3.8.6->llama-index-core<0.11.0,>=0.10.1->llama-index-embeddings-openai) (6.0.5)\n",
            "Requirement already satisfied: yarl<2.0,>=1.0 in /usr/local/lib/python3.10/dist-packages (from aiohttp<4.0.0,>=3.8.6->llama-index-core<0.11.0,>=0.10.1->llama-index-embeddings-openai) (1.9.4)\n",
            "Requirement already satisfied: async-timeout<5.0,>=4.0 in /usr/local/lib/python3.10/dist-packages (from aiohttp<4.0.0,>=3.8.6->llama-index-core<0.11.0,>=0.10.1->llama-index-embeddings-openai) (4.0.3)\n",
            "Requirement already satisfied: wrapt<2,>=1.10 in /usr/local/lib/python3.10/dist-packages (from deprecated>=1.2.9.3->llama-index-core<0.11.0,>=0.10.1->llama-index-embeddings-openai) (1.14.1)\n",
            "Requirement already satisfied: pydantic>=1.10 in /usr/local/lib/python3.10/dist-packages (from llamaindex-py-client<0.2.0,>=0.1.13->llama-index-core<0.11.0,>=0.10.1->llama-index-embeddings-openai) (2.6.3)\n",
            "Requirement already satisfied: anyio in /usr/local/lib/python3.10/dist-packages (from httpx->llama-index-core<0.11.0,>=0.10.1->llama-index-embeddings-openai) (3.7.1)\n",
            "Requirement already satisfied: certifi in /usr/local/lib/python3.10/dist-packages (from httpx->llama-index-core<0.11.0,>=0.10.1->llama-index-embeddings-openai) (2024.2.2)\n",
            "Requirement already satisfied: httpcore==1.* in /usr/local/lib/python3.10/dist-packages (from httpx->llama-index-core<0.11.0,>=0.10.1->llama-index-embeddings-openai) (1.0.4)\n",
            "Requirement already satisfied: idna in /usr/local/lib/python3.10/dist-packages (from httpx->llama-index-core<0.11.0,>=0.10.1->llama-index-embeddings-openai) (3.6)\n",
            "Requirement already satisfied: sniffio in /usr/local/lib/python3.10/dist-packages (from httpx->llama-index-core<0.11.0,>=0.10.1->llama-index-embeddings-openai) (1.3.1)\n",
            "Requirement already satisfied: h11<0.15,>=0.13 in /usr/local/lib/python3.10/dist-packages (from httpcore==1.*->httpx->llama-index-core<0.11.0,>=0.10.1->llama-index-embeddings-openai) (0.14.0)\n",
            "Requirement already satisfied: click in /usr/local/lib/python3.10/dist-packages (from nltk<4.0.0,>=3.8.1->llama-index-core<0.11.0,>=0.10.1->llama-index-embeddings-openai) (8.1.7)\n",
            "Requirement already satisfied: joblib in /usr/local/lib/python3.10/dist-packages (from nltk<4.0.0,>=3.8.1->llama-index-core<0.11.0,>=0.10.1->llama-index-embeddings-openai) (1.3.2)\n",
            "Requirement already satisfied: regex>=2021.8.3 in /usr/local/lib/python3.10/dist-packages (from nltk<4.0.0,>=3.8.1->llama-index-core<0.11.0,>=0.10.1->llama-index-embeddings-openai) (2023.12.25)\n",
            "Requirement already satisfied: distro<2,>=1.7.0 in /usr/lib/python3/dist-packages (from openai>=1.1.0->llama-index-core<0.11.0,>=0.10.1->llama-index-embeddings-openai) (1.7.0)\n",
            "Requirement already satisfied: charset-normalizer<4,>=2 in /usr/local/lib/python3.10/dist-packages (from requests>=2.31.0->llama-index-core<0.11.0,>=0.10.1->llama-index-embeddings-openai) (3.3.2)\n",
            "Requirement already satisfied: urllib3<3,>=1.21.1 in /usr/local/lib/python3.10/dist-packages (from requests>=2.31.0->llama-index-core<0.11.0,>=0.10.1->llama-index-embeddings-openai) (2.0.7)\n",
            "Requirement already satisfied: greenlet!=0.4.17 in /usr/local/lib/python3.10/dist-packages (from SQLAlchemy[asyncio]>=1.4.49->llama-index-core<0.11.0,>=0.10.1->llama-index-embeddings-openai) (3.0.3)\n",
            "Requirement already satisfied: mypy-extensions>=0.3.0 in /usr/local/lib/python3.10/dist-packages (from typing-inspect>=0.8.0->llama-index-core<0.11.0,>=0.10.1->llama-index-embeddings-openai) (1.0.0)\n",
            "Requirement already satisfied: marshmallow<4.0.0,>=3.18.0 in /usr/local/lib/python3.10/dist-packages (from dataclasses-json->llama-index-core<0.11.0,>=0.10.1->llama-index-embeddings-openai) (3.21.1)\n",
            "Requirement already satisfied: python-dateutil>=2.8.1 in /usr/local/lib/python3.10/dist-packages (from pandas->llama-index-core<0.11.0,>=0.10.1->llama-index-embeddings-openai) (2.8.2)\n",
            "Requirement already satisfied: pytz>=2020.1 in /usr/local/lib/python3.10/dist-packages (from pandas->llama-index-core<0.11.0,>=0.10.1->llama-index-embeddings-openai) (2023.4)\n",
            "Requirement already satisfied: exceptiongroup in /usr/local/lib/python3.10/dist-packages (from anyio->httpx->llama-index-core<0.11.0,>=0.10.1->llama-index-embeddings-openai) (1.2.0)\n",
            "Requirement already satisfied: packaging>=17.0 in /usr/local/lib/python3.10/dist-packages (from marshmallow<4.0.0,>=3.18.0->dataclasses-json->llama-index-core<0.11.0,>=0.10.1->llama-index-embeddings-openai) (23.2)\n",
            "Requirement already satisfied: annotated-types>=0.4.0 in /usr/local/lib/python3.10/dist-packages (from pydantic>=1.10->llamaindex-py-client<0.2.0,>=0.1.13->llama-index-core<0.11.0,>=0.10.1->llama-index-embeddings-openai) (0.6.0)\n",
            "Requirement already satisfied: pydantic-core==2.16.3 in /usr/local/lib/python3.10/dist-packages (from pydantic>=1.10->llamaindex-py-client<0.2.0,>=0.1.13->llama-index-core<0.11.0,>=0.10.1->llama-index-embeddings-openai) (2.16.3)\n",
            "Requirement already satisfied: six>=1.5 in /usr/local/lib/python3.10/dist-packages (from python-dateutil>=2.8.1->pandas->llama-index-core<0.11.0,>=0.10.1->llama-index-embeddings-openai) (1.16.0)\n"
          ]
        }
      ]
    },
    {
      "cell_type": "code",
      "source": [
        "from llama_index.embeddings.openai import OpenAIEmbedding\n",
        "from llama_index.core import Settings\n",
        "\n",
        "embed_model = OpenAIEmbedding()\n"
      ],
      "metadata": {
        "id": "_nsuor0Ycns6"
      },
      "execution_count": null,
      "outputs": []
    },
    {
      "cell_type": "markdown",
      "source": [
        "## LLM\n",
        "* instantiate LLM model"
      ],
      "metadata": {
        "id": "bM4Tb95tg32u"
      }
    },
    {
      "cell_type": "code",
      "source": [
        "from llama_index.llms.openai import OpenAI\n",
        "llm = OpenAI()"
      ],
      "metadata": {
        "id": "Grfgb_FrgVvm"
      },
      "execution_count": null,
      "outputs": []
    },
    {
      "cell_type": "markdown",
      "source": [
        "# Stage 2: Indexing"
      ],
      "metadata": {
        "id": "9lDxZXL2hMfs"
      }
    },
    {
      "cell_type": "code",
      "source": [
        "from llama_index.core import Settings\n"
      ],
      "metadata": {
        "id": "deYc1c66iK1e"
      },
      "execution_count": null,
      "outputs": []
    },
    {
      "cell_type": "code",
      "source": [
        "Settings.llm = llm\n",
        "Settings.embed_model = embed_model\n",
        "Settings.chunk_size = 512"
      ],
      "metadata": {
        "id": "VSUuacDfg_9R"
      },
      "execution_count": null,
      "outputs": []
    },
    {
      "cell_type": "code",
      "source": [
        "from llama_index.core import VectorStoreIndex\n",
        "\n",
        "index = VectorStoreIndex.from_documents(documents)\n"
      ],
      "metadata": {
        "id": "hlTpgVjVheHC"
      },
      "execution_count": null,
      "outputs": []
    },
    {
      "cell_type": "markdown",
      "source": [
        "# Stage 3: Retrieval"
      ],
      "metadata": {
        "id": "llj0d0XOjCom"
      }
    },
    {
      "cell_type": "code",
      "source": [
        "# retriever\n",
        "retriever = index.as_retriever()"
      ],
      "metadata": {
        "id": "KXRFjCOui9gw"
      },
      "execution_count": null,
      "outputs": []
    },
    {
      "cell_type": "code",
      "source": [
        "# retrieval nodes\n",
        "retrieved_nodes = retriever.retrieve(\"What is the overall theme of DHS?\")"
      ],
      "metadata": {
        "id": "Au2g29PbjL3X"
      },
      "execution_count": null,
      "outputs": []
    },
    {
      "cell_type": "code",
      "source": [
        "#print output at index 0\n",
        "(retrieved_nodes)[0].text"
      ],
      "metadata": {
        "colab": {
          "base_uri": "https://localhost:8080/",
          "height": 139
        },
        "id": "-EAeQJ_qjSaw",
        "outputId": "af259d70-7c6a-42db-ee3b-77439aa35306"
      },
      "execution_count": null,
      "outputs": [
        {
          "output_type": "execute_result",
          "data": {
            "text/plain": [
              "\"To become a sponsor for DataHack Summit 2023, please contact the conference organizers for more information.The format of DHS 2023 includes Live Keynotes, Power Talks, Hack Sessions, Generative AI Sessions, Workshops, Awards Evening, The AI Showcase.In the AI Showcase, check out the latest and the best in Artificial Intelligence from exciting startups, solution providers to bleeding edge hardware and software providers! Awards Evening is to recognize the best in AI, the awards night uplifts and inspires everyone present.This showcases the groundbreaking innovations and business in the AI landscape.Workshops are each day-long hands-on session aimed to make sure you learn Artificial Intelligence by doing it yourself.No more lectures – just code with the help of experts. Hack Session is no better way to understand AI than seeing an expert building it in front of your eyes.Each Hack Session is a 60 to 90 minutes long live interactive session with an expert working in front of you! Generative AI session is also a hack session focusing on Generative AI.Power talks are sessions where we can learn from the perspective of experienced industry leaders from across the globe.Each session packs years of experience and a ton of perspective on the impact of AI.Live keynotes are sessions where we are bringing together the brightest AI minds to share experiences, innovations, and cutting-edge case studies.Expect tangible and practical insights.The food and refreshment are free of cost at DHS.The conference is free of cost for the speakers and volunteers.We're proud to have had past sponsors like H2O.ai, Innosential, Nagarro, Analyttica, American Express, IBM, Intel, pi Ventures, Indian Startups, LTIMindtree, Aidaio, Ericsson, AWS, INKher, Mahindra Rise, Rinalytics Advisors who helped make previous editions of DataHack Summit a success.Join us and gain visibility, networking opportunities, and more.For any queries on DHS, you can reach out to us on E: dhs@analyticsvidhya.com | T: +91-8068342847, +91-8046107668.\\r\\n\\r\\n\\r\\nHere are the details of a few speakers at DHS 2023.\\r\\nThe information about each speaker is given in key value pairs.\""
            ],
            "application/vnd.google.colaboratory.intrinsic+json": {
              "type": "string"
            }
          },
          "metadata": {},
          "execution_count": 25
        }
      ]
    },
    {
      "cell_type": "code",
      "source": [
        "#print\n",
        "(retrieved_nodes)[1].text"
      ],
      "metadata": {
        "colab": {
          "base_uri": "https://localhost:8080/",
          "height": 122
        },
        "id": "D6z-UR6RjXys",
        "outputId": "9c155b9d-e083-4e20-b35c-d8bae4caca8e"
      },
      "execution_count": null,
      "outputs": [
        {
          "output_type": "execute_result",
          "data": {
            "text/plain": [
              "\"\\ufeffDataHack Summit 2023 (DHS) India’s most Futuristic AI Conference organized by Analytics Vidhya.Analytics Vidhya is the World’s leading and India’s largest data science community.Analytics Vidhya is founded by Kunal Jain. Analytics Vidhya aims to build the next generation data science ecosystem across the globe.We have helped millions of people realize their data science dreams.We conduct hackathons, competitions, training & conferences and help companies find the right data science talent.\\r\\nDHS 2023 totally has 70+ AI Talks, 30+ Hack Sessions and 8+ Workshops.\\r\\nIt's the 4th edition of DHS.Here is the DHS website: https://www.analyticsvidhya.com/datahack-summit-2023/.The previous DHS happened in 2017, 2018 and 2019 at Bengaluru. The 4 day conference is taking place on 2nd – 5th August, 2023 at NIMHANS Convention Centre, Bengaluru. The 4th day consists of day-long workshops.\""
            ],
            "application/vnd.google.colaboratory.intrinsic+json": {
              "type": "string"
            }
          },
          "metadata": {},
          "execution_count": 26
        }
      ]
    },
    {
      "cell_type": "markdown",
      "source": [
        "# Stage 4: Response Synthesis"
      ],
      "metadata": {
        "id": "ZMJf-a1Rjhmq"
      }
    },
    {
      "cell_type": "code",
      "source": [
        "from llama_index.core import get_response_synthesizer\n",
        "from llama_index.core.data_structs import Node\n",
        "from llama_index.core.response_synthesizers import ResponseMode\n",
        "\n"
      ],
      "metadata": {
        "id": "QaUYlAZAjdpp"
      },
      "execution_count": null,
      "outputs": []
    },
    {
      "cell_type": "code",
      "source": [
        "# instantiate response_synthesizer\n",
        "response_synthesizer = get_response_synthesizer(\n",
        "    response_mode=ResponseMode.COMPACT\n",
        ")\n"
      ],
      "metadata": {
        "id": "8Db6SUEPjydp"
      },
      "execution_count": null,
      "outputs": []
    },
    {
      "cell_type": "markdown",
      "source": [
        "# Stage 5 - Query Engine"
      ],
      "metadata": {
        "id": "SA-HY-rxmtgN"
      }
    },
    {
      "cell_type": "code",
      "source": [
        "query_engine = index.as_query_engine(response_synthesizer=response_synthesizer)"
      ],
      "metadata": {
        "id": "EDgUQ7J0kFDH"
      },
      "execution_count": null,
      "outputs": []
    },
    {
      "cell_type": "code",
      "source": [
        "response = query_engine.query(\"What is the main theme of DHS?\")"
      ],
      "metadata": {
        "id": "2RLnfa7mkMWm"
      },
      "execution_count": null,
      "outputs": []
    },
    {
      "cell_type": "code",
      "source": [
        "#response\n",
        "response.response"
      ],
      "metadata": {
        "colab": {
          "base_uri": "https://localhost:8080/",
          "height": 35
        },
        "id": "ub7Au3orkPMu",
        "outputId": "35af1196-5de5-450d-8aa6-d993ff86dffe"
      },
      "execution_count": null,
      "outputs": [
        {
          "output_type": "execute_result",
          "data": {
            "text/plain": [
              "'The main theme of DHS is centered around Artificial Intelligence (AI) and its various applications and advancements.'"
            ],
            "application/vnd.google.colaboratory.intrinsic+json": {
              "type": "string"
            }
          },
          "metadata": {},
          "execution_count": 36
        }
      ]
    },
    {
      "cell_type": "markdown",
      "source": [
        "Only runs the retriever to fetch the nodes that would have been sent to the LLM, without actually sending them. Then can be inspected by checking response.source_nodes."
      ],
      "metadata": {
        "id": "3FsHJqNOkm9D"
      }
    },
    {
      "cell_type": "code",
      "source": [
        "response.source_nodes[1]"
      ],
      "metadata": {
        "colab": {
          "base_uri": "https://localhost:8080/"
        },
        "id": "XyqhDNM_kSFH",
        "outputId": "6d66c379-ffd8-4d10-bb8a-edb604e8478b"
      },
      "execution_count": null,
      "outputs": [
        {
          "output_type": "execute_result",
          "data": {
            "text/plain": [
              "NodeWithScore(node=TextNode(id_='c3552d1c-2b64-4a86-8414-21b345be97c8', embedding=None, metadata={'file_path': '/content/data/dhs.txt', 'file_name': '/content/data/dhs.txt', 'file_type': 'text/plain', 'file_size': 20789, 'creation_date': '2024-03-06', 'last_modified_date': '2024-03-06'}, excluded_embed_metadata_keys=['file_name', 'file_type', 'file_size', 'creation_date', 'last_modified_date', 'last_accessed_date'], excluded_llm_metadata_keys=['file_name', 'file_type', 'file_size', 'creation_date', 'last_modified_date', 'last_accessed_date'], relationships={<NodeRelationship.SOURCE: '1'>: RelatedNodeInfo(node_id='d545cd4a-b6d6-4328-ae82-a86ebfec5b32', node_type=<ObjectType.DOCUMENT: '4'>, metadata={'file_path': '/content/data/dhs.txt', 'file_name': '/content/data/dhs.txt', 'file_type': 'text/plain', 'file_size': 20789, 'creation_date': '2024-03-06', 'last_modified_date': '2024-03-06'}, hash='3a878a9c05c381383f2b30552d731995ad16394d8978bf5f69757311ae1ed3e0'), <NodeRelationship.NEXT: '3'>: RelatedNodeInfo(node_id='e4a33ddc-a93b-4546-bf65-ee7cea0aa237', node_type=<ObjectType.TEXT: '1'>, metadata={}, hash='b3078b0d2d4eaf823552e4c013514ad3f64a606d28fbdbe8348118a4a8131f3e')}, text=\"\\ufeffDataHack Summit 2023 (DHS) India’s most Futuristic AI Conference organized by Analytics Vidhya.Analytics Vidhya is the World’s leading and India’s largest data science community.Analytics Vidhya is founded by Kunal Jain. Analytics Vidhya aims to build the next generation data science ecosystem across the globe.We have helped millions of people realize their data science dreams.We conduct hackathons, competitions, training & conferences and help companies find the right data science talent.\\r\\nDHS 2023 totally has 70+ AI Talks, 30+ Hack Sessions and 8+ Workshops.\\r\\nIt's the 4th edition of DHS.Here is the DHS website: https://www.analyticsvidhya.com/datahack-summit-2023/.The previous DHS happened in 2017, 2018 and 2019 at Bengaluru. The 4 day conference is taking place on 2nd – 5th August, 2023 at NIMHANS Convention Centre, Bengaluru. The 4th day consists of day-long workshops.\", start_char_idx=0, end_char_idx=886, text_template='{metadata_str}\\n\\n{content}', metadata_template='{key}: {value}', metadata_seperator='\\n'), score=0.8069445539912244)"
            ]
          },
          "metadata": {},
          "execution_count": 38
        }
      ]
    },
    {
      "cell_type": "code",
      "source": [],
      "metadata": {
        "id": "O6NFevhako8T"
      },
      "execution_count": null,
      "outputs": []
    },
    {
      "cell_type": "markdown",
      "source": [
        "# End to End RAG Pipeline in 1 cell"
      ],
      "metadata": {
        "id": "a8MK-m8ZkyO6"
      }
    },
    {
      "cell_type": "code",
      "source": [
        "import os\n",
        "os.environ['OPENAI_API_KEY'] = '<your key here>'\n",
        "\n",
        "# Stage 1 - Data Ingestion - import SimpleDirectoryReader\n",
        "from llama_index.core import SimpleDirectoryReader\n",
        "documents = SimpleDirectoryReader(\"data\").load_data()\n",
        "\n",
        "# set up embeddings\n",
        "from llama_index.embeddings.openai import OpenAIEmbedding\n",
        "from llama_index.core import Settings\n",
        "embed_model = OpenAIEmbedding()\n",
        "\n",
        "# set up llm\n",
        "from llama_index.llms.openai import OpenAI\n",
        "llm = OpenAI()\n",
        "\n",
        "# Stage 2 - Index\n",
        "from llama_index.core import Settings\n",
        "Settings.llm = llm\n",
        "Settings.embed_model = embed_model\n",
        "Settings.chunk_size = 512\n",
        "\n",
        "# Stage 3 + 4 - Retriever and Response Synthesis\n",
        "from llama_index.core import VectorStoreIndex\n",
        "index = VectorStoreIndex.from_documents(documents)\n",
        "\n",
        "# Stage 5 - query engine\n",
        "query_engine = index.as_query_engine()\n",
        "\n",
        "\n",
        "print(query_engine.query(\"What is the main theme of DHS?\").response)\n",
        "\n"
      ],
      "metadata": {
        "colab": {
          "base_uri": "https://localhost:8080/"
        },
        "id": "y0HxvfEGk0YA",
        "outputId": "79f17f4d-6606-4331-ea5c-a92a624cacb6"
      },
      "execution_count": null,
      "outputs": [
        {
          "output_type": "stream",
          "name": "stdout",
          "text": [
            "The main theme of DHS is centered around Artificial Intelligence (AI) and fostering the data science ecosystem globally.\n"
          ]
        }
      ]
    },
    {
      "cell_type": "code",
      "source": [],
      "metadata": {
        "id": "fA6VOouxmFph"
      },
      "execution_count": null,
      "outputs": []
    }
  ]
}