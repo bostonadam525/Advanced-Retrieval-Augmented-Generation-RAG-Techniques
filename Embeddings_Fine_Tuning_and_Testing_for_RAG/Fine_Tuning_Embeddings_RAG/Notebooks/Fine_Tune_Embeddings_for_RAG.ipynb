{
  "nbformat": 4,
  "nbformat_minor": 0,
  "metadata": {
    "colab": {
      "provenance": [],
      "gpuType": "T4"
    },
    "kernelspec": {
      "name": "python3",
      "display_name": "Python 3"
    },
    "language_info": {
      "name": "python"
    },
    "accelerator": "GPU",
    "widgets": {
      "application/vnd.jupyter.widget-state+json": {
        "9a42b3465ebc4d8aa84e83f9a15a62b7": {
          "model_module": "@jupyter-widgets/controls",
          "model_name": "HBoxModel",
          "model_module_version": "1.5.0",
          "state": {
            "_dom_classes": [],
            "_model_module": "@jupyter-widgets/controls",
            "_model_module_version": "1.5.0",
            "_model_name": "HBoxModel",
            "_view_count": null,
            "_view_module": "@jupyter-widgets/controls",
            "_view_module_version": "1.5.0",
            "_view_name": "HBoxView",
            "box_style": "",
            "children": [
              "IPY_MODEL_7c33462461fd463299b4aef2c1751fe6",
              "IPY_MODEL_246fb9771c7b4e3ea0f9fa6727065a7f",
              "IPY_MODEL_46f0f247a8ff4dbab0e08060102b0f18"
            ],
            "layout": "IPY_MODEL_63347b2a36a942e0b48ddbbf1d325be9"
          }
        },
        "7c33462461fd463299b4aef2c1751fe6": {
          "model_module": "@jupyter-widgets/controls",
          "model_name": "HTMLModel",
          "model_module_version": "1.5.0",
          "state": {
            "_dom_classes": [],
            "_model_module": "@jupyter-widgets/controls",
            "_model_module_version": "1.5.0",
            "_model_name": "HTMLModel",
            "_view_count": null,
            "_view_module": "@jupyter-widgets/controls",
            "_view_module_version": "1.5.0",
            "_view_name": "HTMLView",
            "description": "",
            "description_tooltip": null,
            "layout": "IPY_MODEL_64c75156ddbc48089f884b35111ec87c",
            "placeholder": "​",
            "style": "IPY_MODEL_3db06476ff6544979553dcb57f36c007",
            "value": "Computing widget examples:   0%"
          }
        },
        "246fb9771c7b4e3ea0f9fa6727065a7f": {
          "model_module": "@jupyter-widgets/controls",
          "model_name": "FloatProgressModel",
          "model_module_version": "1.5.0",
          "state": {
            "_dom_classes": [],
            "_model_module": "@jupyter-widgets/controls",
            "_model_module_version": "1.5.0",
            "_model_name": "FloatProgressModel",
            "_view_count": null,
            "_view_module": "@jupyter-widgets/controls",
            "_view_module_version": "1.5.0",
            "_view_name": "ProgressView",
            "bar_style": "",
            "description": "",
            "description_tooltip": null,
            "layout": "IPY_MODEL_3b2d02bc835147c087ff22692d1597ac",
            "max": 1,
            "min": 0,
            "orientation": "horizontal",
            "style": "IPY_MODEL_44da5ea90b5940f29c72988c2bc85a1c",
            "value": 1
          }
        },
        "46f0f247a8ff4dbab0e08060102b0f18": {
          "model_module": "@jupyter-widgets/controls",
          "model_name": "HTMLModel",
          "model_module_version": "1.5.0",
          "state": {
            "_dom_classes": [],
            "_model_module": "@jupyter-widgets/controls",
            "_model_module_version": "1.5.0",
            "_model_name": "HTMLModel",
            "_view_count": null,
            "_view_module": "@jupyter-widgets/controls",
            "_view_module_version": "1.5.0",
            "_view_name": "HTMLView",
            "description": "",
            "description_tooltip": null,
            "layout": "IPY_MODEL_7dbf0ff37e7c4fe3ad17984e6b0d2041",
            "placeholder": "​",
            "style": "IPY_MODEL_f534bbf6cedd448d9f92a818a82f499a",
            "value": " 0/1 [00:00&lt;?, ?example/s]"
          }
        },
        "63347b2a36a942e0b48ddbbf1d325be9": {
          "model_module": "@jupyter-widgets/base",
          "model_name": "LayoutModel",
          "model_module_version": "1.2.0",
          "state": {
            "_model_module": "@jupyter-widgets/base",
            "_model_module_version": "1.2.0",
            "_model_name": "LayoutModel",
            "_view_count": null,
            "_view_module": "@jupyter-widgets/base",
            "_view_module_version": "1.2.0",
            "_view_name": "LayoutView",
            "align_content": null,
            "align_items": null,
            "align_self": null,
            "border": null,
            "bottom": null,
            "display": null,
            "flex": null,
            "flex_flow": null,
            "grid_area": null,
            "grid_auto_columns": null,
            "grid_auto_flow": null,
            "grid_auto_rows": null,
            "grid_column": null,
            "grid_gap": null,
            "grid_row": null,
            "grid_template_areas": null,
            "grid_template_columns": null,
            "grid_template_rows": null,
            "height": null,
            "justify_content": null,
            "justify_items": null,
            "left": null,
            "margin": null,
            "max_height": null,
            "max_width": null,
            "min_height": null,
            "min_width": null,
            "object_fit": null,
            "object_position": null,
            "order": null,
            "overflow": null,
            "overflow_x": null,
            "overflow_y": null,
            "padding": null,
            "right": null,
            "top": null,
            "visibility": "hidden",
            "width": null
          }
        },
        "64c75156ddbc48089f884b35111ec87c": {
          "model_module": "@jupyter-widgets/base",
          "model_name": "LayoutModel",
          "model_module_version": "1.2.0",
          "state": {
            "_model_module": "@jupyter-widgets/base",
            "_model_module_version": "1.2.0",
            "_model_name": "LayoutModel",
            "_view_count": null,
            "_view_module": "@jupyter-widgets/base",
            "_view_module_version": "1.2.0",
            "_view_name": "LayoutView",
            "align_content": null,
            "align_items": null,
            "align_self": null,
            "border": null,
            "bottom": null,
            "display": null,
            "flex": null,
            "flex_flow": null,
            "grid_area": null,
            "grid_auto_columns": null,
            "grid_auto_flow": null,
            "grid_auto_rows": null,
            "grid_column": null,
            "grid_gap": null,
            "grid_row": null,
            "grid_template_areas": null,
            "grid_template_columns": null,
            "grid_template_rows": null,
            "height": null,
            "justify_content": null,
            "justify_items": null,
            "left": null,
            "margin": null,
            "max_height": null,
            "max_width": null,
            "min_height": null,
            "min_width": null,
            "object_fit": null,
            "object_position": null,
            "order": null,
            "overflow": null,
            "overflow_x": null,
            "overflow_y": null,
            "padding": null,
            "right": null,
            "top": null,
            "visibility": null,
            "width": null
          }
        },
        "3db06476ff6544979553dcb57f36c007": {
          "model_module": "@jupyter-widgets/controls",
          "model_name": "DescriptionStyleModel",
          "model_module_version": "1.5.0",
          "state": {
            "_model_module": "@jupyter-widgets/controls",
            "_model_module_version": "1.5.0",
            "_model_name": "DescriptionStyleModel",
            "_view_count": null,
            "_view_module": "@jupyter-widgets/base",
            "_view_module_version": "1.2.0",
            "_view_name": "StyleView",
            "description_width": ""
          }
        },
        "3b2d02bc835147c087ff22692d1597ac": {
          "model_module": "@jupyter-widgets/base",
          "model_name": "LayoutModel",
          "model_module_version": "1.2.0",
          "state": {
            "_model_module": "@jupyter-widgets/base",
            "_model_module_version": "1.2.0",
            "_model_name": "LayoutModel",
            "_view_count": null,
            "_view_module": "@jupyter-widgets/base",
            "_view_module_version": "1.2.0",
            "_view_name": "LayoutView",
            "align_content": null,
            "align_items": null,
            "align_self": null,
            "border": null,
            "bottom": null,
            "display": null,
            "flex": null,
            "flex_flow": null,
            "grid_area": null,
            "grid_auto_columns": null,
            "grid_auto_flow": null,
            "grid_auto_rows": null,
            "grid_column": null,
            "grid_gap": null,
            "grid_row": null,
            "grid_template_areas": null,
            "grid_template_columns": null,
            "grid_template_rows": null,
            "height": null,
            "justify_content": null,
            "justify_items": null,
            "left": null,
            "margin": null,
            "max_height": null,
            "max_width": null,
            "min_height": null,
            "min_width": null,
            "object_fit": null,
            "object_position": null,
            "order": null,
            "overflow": null,
            "overflow_x": null,
            "overflow_y": null,
            "padding": null,
            "right": null,
            "top": null,
            "visibility": null,
            "width": null
          }
        },
        "44da5ea90b5940f29c72988c2bc85a1c": {
          "model_module": "@jupyter-widgets/controls",
          "model_name": "ProgressStyleModel",
          "model_module_version": "1.5.0",
          "state": {
            "_model_module": "@jupyter-widgets/controls",
            "_model_module_version": "1.5.0",
            "_model_name": "ProgressStyleModel",
            "_view_count": null,
            "_view_module": "@jupyter-widgets/base",
            "_view_module_version": "1.2.0",
            "_view_name": "StyleView",
            "bar_color": null,
            "description_width": ""
          }
        },
        "7dbf0ff37e7c4fe3ad17984e6b0d2041": {
          "model_module": "@jupyter-widgets/base",
          "model_name": "LayoutModel",
          "model_module_version": "1.2.0",
          "state": {
            "_model_module": "@jupyter-widgets/base",
            "_model_module_version": "1.2.0",
            "_model_name": "LayoutModel",
            "_view_count": null,
            "_view_module": "@jupyter-widgets/base",
            "_view_module_version": "1.2.0",
            "_view_name": "LayoutView",
            "align_content": null,
            "align_items": null,
            "align_self": null,
            "border": null,
            "bottom": null,
            "display": null,
            "flex": null,
            "flex_flow": null,
            "grid_area": null,
            "grid_auto_columns": null,
            "grid_auto_flow": null,
            "grid_auto_rows": null,
            "grid_column": null,
            "grid_gap": null,
            "grid_row": null,
            "grid_template_areas": null,
            "grid_template_columns": null,
            "grid_template_rows": null,
            "height": null,
            "justify_content": null,
            "justify_items": null,
            "left": null,
            "margin": null,
            "max_height": null,
            "max_width": null,
            "min_height": null,
            "min_width": null,
            "object_fit": null,
            "object_position": null,
            "order": null,
            "overflow": null,
            "overflow_x": null,
            "overflow_y": null,
            "padding": null,
            "right": null,
            "top": null,
            "visibility": null,
            "width": null
          }
        },
        "f534bbf6cedd448d9f92a818a82f499a": {
          "model_module": "@jupyter-widgets/controls",
          "model_name": "DescriptionStyleModel",
          "model_module_version": "1.5.0",
          "state": {
            "_model_module": "@jupyter-widgets/controls",
            "_model_module_version": "1.5.0",
            "_model_name": "DescriptionStyleModel",
            "_view_count": null,
            "_view_module": "@jupyter-widgets/base",
            "_view_module_version": "1.2.0",
            "_view_name": "StyleView",
            "description_width": ""
          }
        }
      }
    }
  },
  "cells": [
    {
      "cell_type": "markdown",
      "source": [
        "# Fine Tune Embeddings for RAG\n",
        "* Notebook by Adam Lang\n",
        "* Date: 3/28/2025\n",
        "\n",
        "# Overview\n",
        "* In this notebook we will fine tune an embedding model using a dataset from hugging face that was pre-built for optimizing RAG.\n",
        "* This was inspired by an AI Makerspace webinar."
      ],
      "metadata": {
        "id": "-mGE7TP7uUfv"
      }
    },
    {
      "cell_type": "markdown",
      "source": [
        "# Import Dependencies\n",
        "\n",
        "## Nest Asyncio\n",
        "* We will use this to leverage async loops within the notebook.\n",
        "* `nest_asyncio` is a Python library designed to modify the behavior of the `asyncio` modue.\n",
        "* This allows for **nested event loops.**\n",
        "  * By default, `asyncio` **does not support nesting event loops**, which can lead to issues in environments where an event loop is already running, such as:\n",
        "    * Web servers (e.g., Flask, FastAPI, Django)\n",
        "    * GUI applications\n",
        "    * Jupyter notebooks"
      ],
      "metadata": {
        "id": "wiKe-W2PusmH"
      }
    },
    {
      "cell_type": "code",
      "source": [
        "import nest_asyncio\n",
        "\n",
        "nest_asyncio.apply()"
      ],
      "metadata": {
        "id": "-3a-t5mau5lh"
      },
      "execution_count": 1,
      "outputs": []
    },
    {
      "cell_type": "code",
      "source": [
        "%%capture\n",
        "!pip install langchain_openai langchain_huggingface langchain_core langchain langchain_community"
      ],
      "metadata": {
        "id": "mxKq7_4BBP4K"
      },
      "execution_count": 2,
      "outputs": []
    },
    {
      "cell_type": "code",
      "source": [
        "%%capture\n",
        "!pip install unstructured faiss-cpu"
      ],
      "metadata": {
        "id": "dhcBFW6mLxGT"
      },
      "execution_count": 3,
      "outputs": []
    },
    {
      "cell_type": "markdown",
      "source": [
        "# Setup OpenAI API Key and Environment Variable"
      ],
      "metadata": {
        "id": "EiiAMHirMIdY"
      }
    },
    {
      "cell_type": "code",
      "source": [
        "import os\n",
        "import getpass\n",
        "\n",
        "os.environ['OPENAI_API_KEY'] = getpass.getpass(\"Enter OpenAI API Key: \")"
      ],
      "metadata": {
        "colab": {
          "base_uri": "https://localhost:8080/"
        },
        "id": "FJH3V46PL7I5",
        "outputId": "51b4c217-61ba-411e-b1e6-80c0fd9f6895"
      },
      "execution_count": 4,
      "outputs": [
        {
          "name": "stdout",
          "output_type": "stream",
          "text": [
            "Enter OpenAI API Key: ··········\n"
          ]
        }
      ]
    },
    {
      "cell_type": "markdown",
      "source": [
        "# Data Loading\n",
        "* We will get a dataset to work with.\n",
        "* The specific dataset is the Elon Musk-Lex Friedman transcript that was downloaded and preprocessed and stored in this repo."
      ],
      "metadata": {
        "id": "WD863OyiMbXf"
      }
    },
    {
      "cell_type": "code",
      "source": [
        "!git clone https://github.com/AI-Maker-Space/DataRepository.git"
      ],
      "metadata": {
        "colab": {
          "base_uri": "https://localhost:8080/"
        },
        "id": "5pEDRuOOMZGQ",
        "outputId": "d205140c-05a2-4d1b-b2bd-eed3c2820ed0"
      },
      "execution_count": 5,
      "outputs": [
        {
          "output_type": "stream",
          "name": "stdout",
          "text": [
            "fatal: destination path 'DataRepository' already exists and is not an empty directory.\n"
          ]
        }
      ]
    },
    {
      "cell_type": "code",
      "source": [
        "%cd DataRepository"
      ],
      "metadata": {
        "colab": {
          "base_uri": "https://localhost:8080/"
        },
        "id": "dw0Mw16wNBtP",
        "outputId": "afa2b7cf-9b12-4856-bc60-2509ac43ef97"
      },
      "execution_count": 6,
      "outputs": [
        {
          "output_type": "stream",
          "name": "stdout",
          "text": [
            "/content/DataRepository\n"
          ]
        }
      ]
    },
    {
      "cell_type": "markdown",
      "source": [
        "## Data Loading with UnstructuredHTMLLoader\n",
        "* The HTML Loader in LangChain is specifically designed to simplify the process of loading HTML content into your applications.\n",
        "* Why would you use this?\n",
        "\n",
        "1. **Simplicity**\n",
        "  * abstracts low-level details, allowing you to focus on other more important things.\n",
        "\n",
        "2. **Flexibility**\n",
        "  * Supports loading multiple HTML formats.\n",
        "\n",
        "3. **Integration**\n",
        "  * Seamless integration with other components in the LangChain ecosystem, such as document loaders and transformers.\n",
        "\n",
        "4. **Performance**\n",
        "  * Very fast and efficient for BIG datasets.\n",
        "\n",
        "\n"
      ],
      "metadata": {
        "id": "4clf98ZlRYcj"
      }
    },
    {
      "cell_type": "code",
      "source": [
        "from langchain_community.document_loaders import UnstructuredHTMLLoader\n",
        "\n",
        "## load data file from repo\n",
        "train_docs_loaded = UnstructuredHTMLLoader(\"elon_lex_transcript.html.html\")"
      ],
      "metadata": {
        "id": "aq-JFKLPNIEV"
      },
      "execution_count": 7,
      "outputs": []
    },
    {
      "cell_type": "markdown",
      "source": [
        "## Split and Chunk Documents"
      ],
      "metadata": {
        "id": "BGblSCyRR8vv"
      }
    },
    {
      "cell_type": "code",
      "source": [
        "from langchain.text_splitter import RecursiveCharacterTextSplitter\n",
        "\n",
        "## setup text splitter\n",
        "text_splitter = RecursiveCharacterTextSplitter(\n",
        "    chunk_size=750,\n",
        "    chunk_overlap=20,\n",
        "    length_function=len,\n",
        ")\n",
        "\n",
        "## split and chunk the document\n",
        "train_docs = text_splitter.split_documents(train_docs_loaded.load())"
      ],
      "metadata": {
        "id": "KdiJVm4uR6fM"
      },
      "execution_count": 8,
      "outputs": []
    },
    {
      "cell_type": "code",
      "source": [
        "## len of chunked docs\n",
        "len(train_docs)"
      ],
      "metadata": {
        "colab": {
          "base_uri": "https://localhost:8080/"
        },
        "id": "UM4P1PXFSbE8",
        "outputId": "37684e6c-2723-423b-bd01-8c995c098afd"
      },
      "execution_count": 9,
      "outputs": [
        {
          "output_type": "execute_result",
          "data": {
            "text/plain": [
              "963"
            ]
          },
          "metadata": {},
          "execution_count": 9
        }
      ]
    },
    {
      "cell_type": "markdown",
      "source": [
        "## UUIDs\n",
        "* UUIDs (Universally Unique Identifiers) are used in Python to generate unique identifiers, ensuring that no two objects or records, even across different systems or databases, will have the same ID.\n",
        "* This is particularly useful in distributed systems, database management, and situations where avoiding ID collisions is crucial.\n",
        "* UUIDs are 128-bit values, typically represented as 32 hexadecimal digits, grouped into five sections separated by hyphens.\n",
        "* The uuid module in Python provides functions for generating different versions of UUIDs, each with its own method of creation."
      ],
      "metadata": {
        "id": "X_kY85PmS75P"
      }
    },
    {
      "cell_type": "code",
      "source": [
        "import uuid\n",
        "\n",
        "## create id set\n",
        "id_set = set()\n",
        "\n",
        "## loop over training docs and assign unique ids\n",
        "for doc in train_docs:\n",
        "  id = str(uuid.uuid4())\n",
        "  while id in id_set:\n",
        "    id = uuid.uuid4()\n",
        "  id_set.add(id)\n",
        "  doc.metadata['id'] = id"
      ],
      "metadata": {
        "id": "8i2MtCzKSffi"
      },
      "execution_count": 10,
      "outputs": []
    },
    {
      "cell_type": "markdown",
      "source": [
        "## Train-Test-Validation Split\n",
        "* We will split this data into train-test-validation sets."
      ],
      "metadata": {
        "id": "Almorjb9Tt8H"
      }
    },
    {
      "cell_type": "code",
      "source": [
        "## train documents - 300 examples\n",
        "train_split_docs = train_docs[:300]\n",
        "\n",
        "## val documents - 50 examples\n",
        "val_split_docs = train_docs[300:350]\n",
        "\n",
        "## test documents - 50 test\n",
        "test_split_docs = train_docs[350:400]"
      ],
      "metadata": {
        "id": "WRG3wPs1Tj2d"
      },
      "execution_count": 11,
      "outputs": []
    },
    {
      "cell_type": "markdown",
      "source": [
        "# Building a Fine-Tuning Dataset\n",
        "* Now we can create a fine-tuning dataset using OpenAI's `gpt-4o-mini` model.\n",
        "\n",
        "* The concept is:\n",
        "\n",
        "1. Look at document\n",
        "2. Generate questions that could be answered by that node\n",
        "\n",
        "* This will give us a group of question/context pairs that we can use to fine-tune the Embeddings model.\n",
        "\n",
        "* **Note: You don't have to use this LLM, you could use a model from GROQ or any model of your choice.**"
      ],
      "metadata": {
        "id": "7dLYkh8UUQZl"
      }
    },
    {
      "cell_type": "code",
      "source": [
        "from langchain_openai import ChatOpenAI\n",
        "\n",
        "## init chat model\n",
        "qa_chat_model = ChatOpenAI(\n",
        "    model='gpt-4o-mini',\n",
        "    temperature=0,\n",
        ")"
      ],
      "metadata": {
        "id": "fSl4ifi0UPmy"
      },
      "execution_count": 12,
      "outputs": []
    },
    {
      "cell_type": "markdown",
      "source": [
        "Question Generation Prompt creation\n",
        "* Here we construct a prompt that will use `gpt-4o-mini` to generate questions for each retrieved context.\n",
        "* This is similar to a multi-query retriever approach."
      ],
      "metadata": {
        "id": "rRhoIFi4U7RA"
      }
    },
    {
      "cell_type": "code",
      "source": [
        "from langchain_core.prompts import ChatPromptTemplate\n",
        "\n",
        "## prompt creation\n",
        "qa_prompt = \"\"\"\\\n",
        "Given the following context, you must generate questions based on the provided context only.\n",
        "\n",
        "You are to generate {n_questions} questions which should be provided in this format:\n",
        "\n",
        "1. QUESTION #1\n",
        "2. QUESTION #2\n",
        "```\n",
        "\n",
        "Context:\n",
        "{context}\n",
        "```\n",
        "\n",
        "\"\"\"\n",
        "## setup prompt template\n",
        "qa_prompt_template = ChatPromptTemplate.from_template(qa_prompt)"
      ],
      "metadata": {
        "id": "046-tA-kU5iZ"
      },
      "execution_count": 13,
      "outputs": []
    },
    {
      "cell_type": "markdown",
      "source": [
        "Next, we create a simple LCEL chain to query the LLM."
      ],
      "metadata": {
        "id": "5Cd4Dj49jTfZ"
      }
    },
    {
      "cell_type": "code",
      "source": [
        "## chain to query\n",
        "question_generation_chain = qa_prompt_template | qa_chat_model"
      ],
      "metadata": {
        "id": "JbliZQszVwxk"
      },
      "execution_count": 14,
      "outputs": []
    },
    {
      "cell_type": "markdown",
      "source": [
        "### Create Questions Function\n",
        "* **Note about the `UUID` -- as mentioned this creates universally unique identifiers.**\n",
        "  * **You could more easily create a hugging face dataset rather than using this function below.**\n",
        "\n",
        "* Here is what this is going to do:\n",
        "\n",
        "1. First we provide a list of documents and a number of questions.\n",
        "\n",
        "2. Then for each document in the list we generate `n_questions` of questions.\n",
        "\n",
        "3. Then we associate those quetions and contexts via a `UUID`.\n",
        "\n"
      ],
      "metadata": {
        "id": "uGa08Y5Yjk21"
      }
    },
    {
      "cell_type": "code",
      "source": [
        "import tqdm\n",
        "\n",
        "## create questions function\n",
        "def create_questions(documents, n_questions):\n",
        "  questions = {}\n",
        "  relevant_docs = {}\n",
        "  for document in tqdm.tqdm(documents):\n",
        "    document_content = {'context': document.page_content, \"questions\": []}\n",
        "    questions_generated = question_generation_chain.invoke({'context': document.page_content, \"n_questions\": n_questions})\n",
        "    for question in questions_generated.content.split(\"\\n\"):\n",
        "      question_id = str(uuid.uuid4())\n",
        "      questions[question_id] = \"\".join(question.split(\".\")[1:]).strip()\n",
        "      relevant_docs[question_id] = [document.metadata[\"id\"]]\n",
        "  return questions, relevant_docs"
      ],
      "metadata": {
        "id": "n-yPRXm4jkOr"
      },
      "execution_count": 15,
      "outputs": []
    },
    {
      "cell_type": "markdown",
      "source": [
        "We will use the function to generate training, validation, and test data."
      ],
      "metadata": {
        "id": "nOVJsLi8ljtC"
      }
    },
    {
      "cell_type": "code",
      "source": [
        "## 1. Generate training data\n",
        "training_questions, training_relevant_contexts = create_questions(train_split_docs, 2)"
      ],
      "metadata": {
        "colab": {
          "base_uri": "https://localhost:8080/"
        },
        "id": "UUDhVFcjlmcw",
        "outputId": "7f5cc9cd-b8c7-431d-8c15-dadaec027a37"
      },
      "execution_count": 16,
      "outputs": [
        {
          "output_type": "stream",
          "name": "stderr",
          "text": [
            "100%|██████████| 300/300 [04:24<00:00,  1.14it/s]\n"
          ]
        }
      ]
    },
    {
      "cell_type": "code",
      "source": [
        "## 2. Generate validation data\n",
        "val_questions, val_relevant_contexts = create_questions(val_split_docs, 2)"
      ],
      "metadata": {
        "colab": {
          "base_uri": "https://localhost:8080/"
        },
        "id": "jU2bBJdtmPBZ",
        "outputId": "61429a71-61ac-4761-914e-c85cec19cc5e"
      },
      "execution_count": 17,
      "outputs": [
        {
          "output_type": "stream",
          "name": "stderr",
          "text": [
            "100%|██████████| 50/50 [00:42<00:00,  1.19it/s]\n"
          ]
        }
      ]
    },
    {
      "cell_type": "code",
      "source": [
        "## 3. Generate test data\n",
        "test_questions, test_relevant_contexts = create_questions(test_split_docs, 2)"
      ],
      "metadata": {
        "colab": {
          "base_uri": "https://localhost:8080/"
        },
        "id": "0dVnzMsEmO9B",
        "outputId": "381273c3-56bb-40cd-ffb5-2627e2113513"
      },
      "execution_count": 18,
      "outputs": [
        {
          "output_type": "stream",
          "name": "stderr",
          "text": [
            "100%|██████████| 50/50 [00:47<00:00,  1.06it/s]\n"
          ]
        }
      ]
    },
    {
      "cell_type": "code",
      "source": [],
      "metadata": {
        "id": "V9rDSHzNK7XI"
      },
      "execution_count": null,
      "outputs": []
    },
    {
      "cell_type": "markdown",
      "source": [
        "Summary\n",
        "* We created 600 total questions\n",
        "\n",
        "# Saving the Questions\n",
        "* We can save the questions locally."
      ],
      "metadata": {
        "id": "_J_tG-Rqnpxq"
      }
    },
    {
      "cell_type": "markdown",
      "source": [
        "1. Train Dataset"
      ],
      "metadata": {
        "id": "DJJQaw4HSAoB"
      }
    },
    {
      "cell_type": "code",
      "source": [
        "import json\n",
        "\n",
        "training_corpus = {train_item.metadata['id'] : train_item.page_content for train_item in train_split_docs}\n",
        "\n",
        "## create train dataset\n",
        "train_dataset = {\n",
        "    \"questions\": training_questions,\n",
        "    \"relevant_contexts\": training_relevant_contexts,\n",
        "    \"corpus\": training_corpus,\n",
        "}\n",
        "## open the file\n",
        "with open('training_dataset.jsonl', \"w\") as f:\n",
        "  f.write(json.dumps(train_dataset))"
      ],
      "metadata": {
        "id": "gWqtqF-ILDcB"
      },
      "execution_count": 19,
      "outputs": []
    },
    {
      "cell_type": "markdown",
      "source": [
        "2. Validation Dataset"
      ],
      "metadata": {
        "id": "rI-dRbNxSCUl"
      }
    },
    {
      "cell_type": "code",
      "source": [
        "val_corpus = {val_item.metadata['id'] : val_item.page_content for val_item in val_split_docs}\n",
        "\n",
        "## create val dataset\n",
        "val_dataset = {\n",
        "    \"questions\": val_questions,\n",
        "    \"relevant_contexts\": val_relevant_contexts,\n",
        "    \"corpus\": val_corpus,\n",
        "}\n",
        "## open the file\n",
        "with open('val_dataset.jsonl', \"w\") as f:\n",
        "  f.write(json.dumps(val_dataset))"
      ],
      "metadata": {
        "id": "XMRSdgKBLDZm"
      },
      "execution_count": 20,
      "outputs": []
    },
    {
      "cell_type": "markdown",
      "source": [
        "3. Test Dataset"
      ],
      "metadata": {
        "id": "g1AGUNeKSFCr"
      }
    },
    {
      "cell_type": "code",
      "source": [
        "test_corpus = {test_item.metadata['id'] : test_item.page_content for test_item in test_split_docs}\n",
        "\n",
        "## create test dataset\n",
        "test_dataset = {\n",
        "    \"questions\": test_questions,\n",
        "    \"relevant_contexts\": test_relevant_contexts,\n",
        "    \"corpus\": test_corpus,\n",
        "}\n",
        "## open the file\n",
        "with open('test_dataset.jsonl', \"w\") as f:\n",
        "  f.write(json.dumps(test_dataset))"
      ],
      "metadata": {
        "id": "n4XEhVCHR84U"
      },
      "execution_count": 21,
      "outputs": []
    },
    {
      "cell_type": "markdown",
      "source": [
        "# Fine-Tuning Embedding Model: `snowflake-artic-embed-m`\n",
        "* Here is the base embedding model we will fine tune: `Snowflake/snowflake-arctic-embed-m`\n",
        "  * model card: https://huggingface.co/Snowflake/snowflake-arctic-embed-m\n",
        "\n",
        "* This model performs well on multiple benchmarks as seen in the model card, but we are going to fine tune the model to our domain specific data.\n",
        "\n",
        "![image.png](data:image/png;base64,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)"
      ],
      "metadata": {
        "id": "GyRsX3MHn5Dw"
      }
    },
    {
      "cell_type": "code",
      "source": [
        "%%capture\n",
        "!pip install sentence_transformers datasets pyarrow"
      ],
      "metadata": {
        "id": "-QGKj4NHm3uH"
      },
      "execution_count": 22,
      "outputs": []
    },
    {
      "cell_type": "code",
      "source": [
        "from sentence_transformers import SentenceTransformer\n",
        "\n",
        "## load model from hugging face\n",
        "model_ckpt = 'Snowflake/snowflake-arctic-embed-m'\n",
        "embed_model = SentenceTransformer(model_ckpt)"
      ],
      "metadata": {
        "id": "T7I96HkWosfI"
      },
      "execution_count": 23,
      "outputs": []
    },
    {
      "cell_type": "markdown",
      "source": [
        "## PyTorch Additional Imports"
      ],
      "metadata": {
        "id": "8f2LIvYACqDh"
      }
    },
    {
      "cell_type": "code",
      "source": [
        "from torch.utils.data import DataLoader\n",
        "from torch.utils.data import Dataset\n",
        "from sentence_transformers import InputExample"
      ],
      "metadata": {
        "id": "Sa08iYxeo8Sk"
      },
      "execution_count": 24,
      "outputs": []
    },
    {
      "cell_type": "code",
      "source": [
        "## set batch size -- usually based on multiples of 8\n",
        "## however, we need a number that works with our data batch sizes\n",
        "BATCH_SIZE=20"
      ],
      "metadata": {
        "id": "JPUHul4uo8O7"
      },
      "execution_count": 25,
      "outputs": []
    },
    {
      "cell_type": "markdown",
      "source": [
        "## Format Dataset for Fine Tuning"
      ],
      "metadata": {
        "id": "Vh_NFny1DOEC"
      }
    },
    {
      "cell_type": "code",
      "source": [
        "## formatting\n",
        "corpus = train_dataset['corpus']\n",
        "queries = train_dataset['questions']\n",
        "relevant_docs = train_dataset['relevant_contexts']\n",
        "\n",
        "## store in list\n",
        "examples = []\n",
        "for query_id, query in queries.items():\n",
        "  ## relevant_docs is a dictionary so we access its elements with brackets [] not parenthesis ()\n",
        "  doc_id = relevant_docs[query_id][0]\n",
        "  ## corpus is a dictionary so we access its elements with brackets [] not parenthesis ()\n",
        "  text = corpus[doc_id]\n",
        "  example = InputExample(texts=[query, text])\n",
        "  ## append to list\n",
        "  examples.append(example)"
      ],
      "metadata": {
        "id": "gxaz-Zr0DNYf"
      },
      "execution_count": 26,
      "outputs": []
    },
    {
      "cell_type": "markdown",
      "source": [
        "## Create PyTorch DataLoader"
      ],
      "metadata": {
        "id": "CF9IPClsEFAl"
      }
    },
    {
      "cell_type": "code",
      "source": [
        "## torch data loader\n",
        "data_loader = DataLoader(\n",
        "    examples,\n",
        "    batch_size=BATCH_SIZE,\n",
        ")"
      ],
      "metadata": {
        "id": "NQtMp5WWDNV6"
      },
      "execution_count": 27,
      "outputs": []
    },
    {
      "cell_type": "markdown",
      "source": [
        "## Loss Function Setup\n",
        "* [source](https://medium.com/@aisagescribe/multiple-negative-ranking-loss-mnrl-explained-5b4741e38d8f#:~:text=The%20essence%20of%20MNRL%20is,distance%20with%20multiple%20negative%20samples.)\n",
        "### MultipleNegativesRankingLoss\n",
        "* We need to use the `MultipleNegativeRankingLoss` function.\n",
        "* MNRL fundamentally revolves around a loss function that quantifies the difference between positive and negative samples in relation to a query.\n",
        "* MNRL creates a clear distinction or classification between **relevant (positive) and irrelevant (negative) data points.**\n",
        "* This distinction is obtained by **minimizing the distance between the query and positive samples while maximizing the distance with multiple negative samples.**\n",
        "* **The inclusion of multiple negatives provides a richer context for the model, enabling it to better understand varying degrees of irrelevance or dissimilarity.**\n",
        "\n",
        "### MatryoshkaLoss\n",
        "* This is often used in fine-tuning embeddings, is a specialized loss function designed to create \"truncatable\" embeddings, allowing for efficient storage and processing by truncating embeddings without significant performance loss.\n",
        "\n",
        "#### Why use Matryoshka Loss?\n",
        "* Traditional embedding models produce fixed-size vectors, which can be computationally expensive and require significant storage space.\n",
        "* Matryoshka embeddings allow for variable-sized representations, enabling efficient storage and faster processing.\n",
        "* This is particularly useful for applications like retrieval, classification, and clustering where storage and processing resources are limited.\n",
        "\n",
        "### What is most important about Matryoshka Loss?\n",
        "* This allows us to \"front load\" our embeddings\n",
        "* This loss function essentially guides the model to **learn representations where earlier dimensions contain more important information.**\n",
        "* This allows you to truncate the embedding at various dimensions without significantly impacting performance.\n",
        "* For example, a Matryoshka model can preserve ~99.9% of its performance while needing 3x less storage!!\n"
      ],
      "metadata": {
        "id": "fb7S5JafEdon"
      }
    },
    {
      "cell_type": "code",
      "source": [
        "from sentence_transformers.losses import MatryoshkaLoss, MultipleNegativesRankingLoss\n",
        "\n",
        "## setup ranking loss\n",
        "matryoshka_dims = [768, 512, 256, 128, 64]\n",
        "inner_train_loss = MultipleNegativesRankingLoss(embed_model)\n",
        "train_loss = MatryoshkaLoss(\n",
        "    embed_model,\n",
        "    inner_train_loss,\n",
        "    matryoshka_dims=matryoshka_dims,\n",
        ")"
      ],
      "metadata": {
        "id": "W8YuD--QFM_i"
      },
      "execution_count": 28,
      "outputs": []
    },
    {
      "cell_type": "markdown",
      "source": [
        "## Setup Evaluator\n",
        "* We can do this using built-in functions from `SentenceTransformers`."
      ],
      "metadata": {
        "id": "6MrTdrqGIBQO"
      }
    },
    {
      "cell_type": "code",
      "source": [
        "from sentence_transformers.evaluation import InformationRetrievalEvaluator\n",
        "\n",
        "corpus = val_dataset['corpus']\n",
        "queries = val_dataset['questions']\n",
        "relevant_docs = val_dataset['relevant_contexts']\n",
        "\n",
        "## init evaluator\n",
        "evaluator = InformationRetrievalEvaluator(queries,\n",
        "                                          corpus,\n",
        "                                          relevant_docs)"
      ],
      "metadata": {
        "id": "SCtNjQ2kINPU"
      },
      "execution_count": 29,
      "outputs": []
    },
    {
      "cell_type": "markdown",
      "source": [
        "Now train the model with 5 epochs.\n",
        "* This number can be increased the more data you have."
      ],
      "metadata": {
        "id": "1Qt4383pImPi"
      }
    },
    {
      "cell_type": "markdown",
      "source": [
        "# Train the Model!\n",
        "* Manually define a warm-up step.\n",
        "* This will provide a smooth transition to training."
      ],
      "metadata": {
        "id": "Bu9ONk4CNGLR"
      }
    },
    {
      "cell_type": "code",
      "source": [
        "EPOCHS=5\n",
        "\n",
        "## warm up steps\n",
        "warmup_steps = int(len(data_loader) * EPOCHS * 0.1)\n",
        "\n",
        "## fit model for training\n",
        "embed_model.fit(\n",
        "    train_objectives=[(data_loader, train_loss)],\n",
        "    epochs=EPOCHS,\n",
        "    warmup_steps=warmup_steps,\n",
        "    output_path=\"./finetuned_arctic_embeddings\",\n",
        "    show_progress_bar=True,\n",
        "    evaluator=evaluator,\n",
        "    evaluation_steps=50,\n",
        "\n",
        ")"
      ],
      "metadata": {
        "id": "8Di4Olw_Ir8p",
        "colab": {
          "base_uri": "https://localhost:8080/",
          "height": 471,
          "referenced_widgets": [
            "9a42b3465ebc4d8aa84e83f9a15a62b7",
            "7c33462461fd463299b4aef2c1751fe6",
            "246fb9771c7b4e3ea0f9fa6727065a7f",
            "46f0f247a8ff4dbab0e08060102b0f18",
            "63347b2a36a942e0b48ddbbf1d325be9",
            "64c75156ddbc48089f884b35111ec87c",
            "3db06476ff6544979553dcb57f36c007",
            "3b2d02bc835147c087ff22692d1597ac",
            "44da5ea90b5940f29c72988c2bc85a1c",
            "7dbf0ff37e7c4fe3ad17984e6b0d2041",
            "f534bbf6cedd448d9f92a818a82f499a"
          ]
        },
        "outputId": "2129bd84-4fbd-4c61-b636-3dc5f1f59042"
      },
      "execution_count": 30,
      "outputs": [
        {
          "output_type": "display_data",
          "data": {
            "text/plain": [
              "Computing widget examples:   0%|          | 0/1 [00:00<?, ?example/s]"
            ],
            "application/vnd.jupyter.widget-view+json": {
              "version_major": 2,
              "version_minor": 0,
              "model_id": "9a42b3465ebc4d8aa84e83f9a15a62b7"
            }
          },
          "metadata": {}
        },
        {
          "output_type": "stream",
          "name": "stderr",
          "text": [
            "\u001b[34m\u001b[1mwandb\u001b[0m: \u001b[33mWARNING\u001b[0m The `run_name` is currently set to the same value as `TrainingArguments.output_dir`. If this was not intended, please specify a different run name by setting the `TrainingArguments.run_name` parameter.\n",
            "\u001b[34m\u001b[1mwandb\u001b[0m: Using wandb-core as the SDK backend.  Please refer to https://wandb.me/wandb-core for more information.\n",
            "\u001b[34m\u001b[1mwandb\u001b[0m: Currently logged in as: \u001b[33madam-m-lang\u001b[0m to \u001b[32mhttps://api.wandb.ai\u001b[0m. Use \u001b[1m`wandb login --relogin`\u001b[0m to force relogin\n"
          ]
        },
        {
          "output_type": "display_data",
          "data": {
            "text/plain": [
              "<IPython.core.display.HTML object>"
            ],
            "text/html": [
              "Tracking run with wandb version 0.19.8"
            ]
          },
          "metadata": {}
        },
        {
          "output_type": "display_data",
          "data": {
            "text/plain": [
              "<IPython.core.display.HTML object>"
            ],
            "text/html": [
              "Run data is saved locally in <code>/content/DataRepository/wandb/run-20250329_023312-ga7yt7kt</code>"
            ]
          },
          "metadata": {}
        },
        {
          "output_type": "display_data",
          "data": {
            "text/plain": [
              "<IPython.core.display.HTML object>"
            ],
            "text/html": [
              "Syncing run <strong><a href='https://wandb.ai/adam-m-lang/sentence-transformers/runs/ga7yt7kt' target=\"_blank\">checkpoints/model_2</a></strong> to <a href='https://wandb.ai/adam-m-lang/sentence-transformers' target=\"_blank\">Weights & Biases</a> (<a href='https://wandb.me/developer-guide' target=\"_blank\">docs</a>)<br>"
            ]
          },
          "metadata": {}
        },
        {
          "output_type": "display_data",
          "data": {
            "text/plain": [
              "<IPython.core.display.HTML object>"
            ],
            "text/html": [
              " View project at <a href='https://wandb.ai/adam-m-lang/sentence-transformers' target=\"_blank\">https://wandb.ai/adam-m-lang/sentence-transformers</a>"
            ]
          },
          "metadata": {}
        },
        {
          "output_type": "display_data",
          "data": {
            "text/plain": [
              "<IPython.core.display.HTML object>"
            ],
            "text/html": [
              " View run at <a href='https://wandb.ai/adam-m-lang/sentence-transformers/runs/ga7yt7kt' target=\"_blank\">https://wandb.ai/adam-m-lang/sentence-transformers/runs/ga7yt7kt</a>"
            ]
          },
          "metadata": {}
        },
        {
          "output_type": "display_data",
          "data": {
            "text/plain": [
              "<IPython.core.display.HTML object>"
            ],
            "text/html": [
              "\n",
              "    <div>\n",
              "      \n",
              "      <progress value='150' max='150' style='width:300px; height:20px; vertical-align: middle;'></progress>\n",
              "      [150/150 02:22, Epoch 5/5]\n",
              "    </div>\n",
              "    <table border=\"1\" class=\"dataframe\">\n",
              "  <thead>\n",
              " <tr style=\"text-align: left;\">\n",
              "      <th>Step</th>\n",
              "      <th>Training Loss</th>\n",
              "      <th>Validation Loss</th>\n",
              "      <th>Cosine Accuracy@1</th>\n",
              "      <th>Cosine Accuracy@3</th>\n",
              "      <th>Cosine Accuracy@5</th>\n",
              "      <th>Cosine Accuracy@10</th>\n",
              "      <th>Cosine Precision@1</th>\n",
              "      <th>Cosine Precision@3</th>\n",
              "      <th>Cosine Precision@5</th>\n",
              "      <th>Cosine Precision@10</th>\n",
              "      <th>Cosine Recall@1</th>\n",
              "      <th>Cosine Recall@3</th>\n",
              "      <th>Cosine Recall@5</th>\n",
              "      <th>Cosine Recall@10</th>\n",
              "      <th>Cosine Ndcg@10</th>\n",
              "      <th>Cosine Mrr@10</th>\n",
              "      <th>Cosine Map@100</th>\n",
              "    </tr>\n",
              "  </thead>\n",
              "  <tbody>\n",
              "    <tr>\n",
              "      <td>30</td>\n",
              "      <td>No log</td>\n",
              "      <td>No log</td>\n",
              "      <td>0.890000</td>\n",
              "      <td>0.980000</td>\n",
              "      <td>1.000000</td>\n",
              "      <td>1.000000</td>\n",
              "      <td>0.890000</td>\n",
              "      <td>0.326667</td>\n",
              "      <td>0.200000</td>\n",
              "      <td>0.100000</td>\n",
              "      <td>0.890000</td>\n",
              "      <td>0.980000</td>\n",
              "      <td>1.000000</td>\n",
              "      <td>1.000000</td>\n",
              "      <td>0.952340</td>\n",
              "      <td>0.936167</td>\n",
              "      <td>0.936167</td>\n",
              "    </tr>\n",
              "    <tr>\n",
              "      <td>50</td>\n",
              "      <td>No log</td>\n",
              "      <td>No log</td>\n",
              "      <td>0.900000</td>\n",
              "      <td>0.990000</td>\n",
              "      <td>0.990000</td>\n",
              "      <td>1.000000</td>\n",
              "      <td>0.900000</td>\n",
              "      <td>0.330000</td>\n",
              "      <td>0.198000</td>\n",
              "      <td>0.100000</td>\n",
              "      <td>0.900000</td>\n",
              "      <td>0.990000</td>\n",
              "      <td>0.990000</td>\n",
              "      <td>1.000000</td>\n",
              "      <td>0.959036</td>\n",
              "      <td>0.945000</td>\n",
              "      <td>0.945000</td>\n",
              "    </tr>\n",
              "    <tr>\n",
              "      <td>60</td>\n",
              "      <td>No log</td>\n",
              "      <td>No log</td>\n",
              "      <td>0.910000</td>\n",
              "      <td>0.990000</td>\n",
              "      <td>0.990000</td>\n",
              "      <td>1.000000</td>\n",
              "      <td>0.910000</td>\n",
              "      <td>0.330000</td>\n",
              "      <td>0.198000</td>\n",
              "      <td>0.100000</td>\n",
              "      <td>0.910000</td>\n",
              "      <td>0.990000</td>\n",
              "      <td>0.990000</td>\n",
              "      <td>1.000000</td>\n",
              "      <td>0.964036</td>\n",
              "      <td>0.951667</td>\n",
              "      <td>0.951667</td>\n",
              "    </tr>\n",
              "    <tr>\n",
              "      <td>90</td>\n",
              "      <td>No log</td>\n",
              "      <td>No log</td>\n",
              "      <td>0.920000</td>\n",
              "      <td>0.990000</td>\n",
              "      <td>0.990000</td>\n",
              "      <td>1.000000</td>\n",
              "      <td>0.920000</td>\n",
              "      <td>0.330000</td>\n",
              "      <td>0.198000</td>\n",
              "      <td>0.100000</td>\n",
              "      <td>0.920000</td>\n",
              "      <td>0.990000</td>\n",
              "      <td>0.990000</td>\n",
              "      <td>1.000000</td>\n",
              "      <td>0.966418</td>\n",
              "      <td>0.955000</td>\n",
              "      <td>0.955000</td>\n",
              "    </tr>\n",
              "    <tr>\n",
              "      <td>100</td>\n",
              "      <td>No log</td>\n",
              "      <td>No log</td>\n",
              "      <td>0.920000</td>\n",
              "      <td>0.990000</td>\n",
              "      <td>0.990000</td>\n",
              "      <td>1.000000</td>\n",
              "      <td>0.920000</td>\n",
              "      <td>0.330000</td>\n",
              "      <td>0.198000</td>\n",
              "      <td>0.100000</td>\n",
              "      <td>0.920000</td>\n",
              "      <td>0.990000</td>\n",
              "      <td>0.990000</td>\n",
              "      <td>1.000000</td>\n",
              "      <td>0.966418</td>\n",
              "      <td>0.955000</td>\n",
              "      <td>0.955000</td>\n",
              "    </tr>\n",
              "    <tr>\n",
              "      <td>120</td>\n",
              "      <td>No log</td>\n",
              "      <td>No log</td>\n",
              "      <td>0.920000</td>\n",
              "      <td>0.990000</td>\n",
              "      <td>0.990000</td>\n",
              "      <td>1.000000</td>\n",
              "      <td>0.920000</td>\n",
              "      <td>0.330000</td>\n",
              "      <td>0.198000</td>\n",
              "      <td>0.100000</td>\n",
              "      <td>0.920000</td>\n",
              "      <td>0.990000</td>\n",
              "      <td>0.990000</td>\n",
              "      <td>1.000000</td>\n",
              "      <td>0.966418</td>\n",
              "      <td>0.955000</td>\n",
              "      <td>0.955000</td>\n",
              "    </tr>\n",
              "    <tr>\n",
              "      <td>150</td>\n",
              "      <td>No log</td>\n",
              "      <td>No log</td>\n",
              "      <td>0.920000</td>\n",
              "      <td>0.990000</td>\n",
              "      <td>0.990000</td>\n",
              "      <td>1.000000</td>\n",
              "      <td>0.920000</td>\n",
              "      <td>0.330000</td>\n",
              "      <td>0.198000</td>\n",
              "      <td>0.100000</td>\n",
              "      <td>0.920000</td>\n",
              "      <td>0.990000</td>\n",
              "      <td>0.990000</td>\n",
              "      <td>1.000000</td>\n",
              "      <td>0.966418</td>\n",
              "      <td>0.955000</td>\n",
              "      <td>0.955000</td>\n",
              "    </tr>\n",
              "  </tbody>\n",
              "</table><p>"
            ]
          },
          "metadata": {}
        }
      ]
    },
    {
      "cell_type": "markdown",
      "source": [
        "# Evaluate the Retriever\n",
        "* After fine-tuning the embedding model we can evaluate it's precision on the domain specific text.\n",
        "* We can do this using the **HIT-RATE** metric."
      ],
      "metadata": {
        "id": "ECBKLhJtOODZ"
      }
    },
    {
      "cell_type": "code",
      "source": [
        "import pandas as pd\n",
        "from langchain_community.vectorstores import FAISS # vector store\n",
        "from langchain_openai.embeddings import OpenAIEmbeddings\n",
        "from langchain_core.documents import Document"
      ],
      "metadata": {
        "id": "HC0HglytN5En"
      },
      "execution_count": 31,
      "outputs": []
    },
    {
      "cell_type": "code",
      "source": [
        "## function to eval retrieval process\n",
        "def eval_retrievers(dataset,\n",
        "                   embed_model,\n",
        "                   top_k=5,\n",
        "                   verbose=False):\n",
        "  corpus = dataset['corpus']\n",
        "  questions = dataset['questions']\n",
        "  relevant_docs = dataset['relevant_contexts']\n",
        "  documents = [Document(page_content=content, metadata={'id': doc_id}) for doc_id, content in corpus.items()]\n",
        "  vectorstore = FAISS.from_documents(documents, embed_model)\n",
        "\n",
        "  ## init retriever\n",
        "  retriever = vectorstore.as_retriever(search_kwargs={\"k\": top_k})\n",
        "\n",
        "  ## get eval results\n",
        "  eval_results = []\n",
        "  for id, question in tqdm.tqdm(questions.items()):\n",
        "    retrieved_nodes = retriever.invoke(question)\n",
        "    retrieved_ids = [node.metadata['id'] for node in retrieved_nodes]\n",
        "    # The original line tries to access relevant_docs using the first character of the UUID string,\n",
        "    # resulting in a KeyError. We need to use the entire UUID string 'id' as the key instead.\n",
        "    expected_id = relevant_docs[id][0]\n",
        "    is_hit = expected_id in retrieved_ids\n",
        "    eval_results.append({\"id\": id, \"question\": question, \"expected_id\": expected_id, \"is_hit\": is_hit})\n",
        "\n",
        "  return eval_results"
      ],
      "metadata": {
        "id": "1sANG5kdSlMA"
      },
      "execution_count": 32,
      "outputs": []
    },
    {
      "cell_type": "markdown",
      "source": [
        "# Run Head to Head Benchmark Evaluation of 2 embedding models vs. our fine-tuned embedding model\n",
        "* To do this we can:\n",
        "1. Evaluate the fine-tuned embedding model against OpenAI's `text-embedding-3-small` embedding model.\n",
        "2. Evaluate the base **non-fine-tuned version** of the `Snowflake/snowflake-artic-embed-m` model.\n",
        "\n",
        "\n",
        "## 1. `text-embedding-3-small`"
      ],
      "metadata": {
        "id": "AoeKvM6RQmCf"
      }
    },
    {
      "cell_type": "code",
      "source": [
        "## setup open ai model\n",
        "te_openai = OpenAIEmbeddings(model=\"text-embedding-3-small\")\n",
        "te_results = eval_retrievers(test_dataset, te_openai)"
      ],
      "metadata": {
        "colab": {
          "base_uri": "https://localhost:8080/"
        },
        "id": "2-hkemL1QMId",
        "outputId": "81cee9f2-e256-4d31-b58d-c688aeaf757a"
      },
      "execution_count": 33,
      "outputs": [
        {
          "output_type": "stream",
          "name": "stderr",
          "text": [
            "100%|██████████| 100/100 [00:27<00:00,  3.63it/s]\n"
          ]
        }
      ]
    },
    {
      "cell_type": "code",
      "source": [
        "## save results in df\n",
        "te_results_df = pd.DataFrame(te_results)"
      ],
      "metadata": {
        "id": "OPhKMDOMRda_"
      },
      "execution_count": 34,
      "outputs": []
    },
    {
      "cell_type": "code",
      "source": [
        "## calculate mean hit rate for OpenAI model\n",
        "te_hit_rate = te_results_df['is_hit'].mean()\n",
        "print(f\"Hit Rate for OpenAI text-embedding-3-small is: {te_hit_rate}\")"
      ],
      "metadata": {
        "colab": {
          "base_uri": "https://localhost:8080/"
        },
        "id": "9mbPoEnSRdXw",
        "outputId": "10d0452e-6e4e-4aa3-dc4c-abc4a7a501b1"
      },
      "execution_count": 35,
      "outputs": [
        {
          "output_type": "stream",
          "name": "stdout",
          "text": [
            "Hit Rate for OpenAI text-embedding-3-small is: 1.0\n"
          ]
        }
      ]
    },
    {
      "cell_type": "markdown",
      "source": [
        "Summary\n",
        "* We can see a HIT RATE of 1.0 which is what we want to see for any retrieval model."
      ],
      "metadata": {
        "id": "nCOIWr8XUD0T"
      }
    },
    {
      "cell_type": "markdown",
      "source": [
        "## 2. `Snowflake/snowflake-artic-embed-m` base model\n",
        "* Eval the base model that was NOT fine tuned."
      ],
      "metadata": {
        "id": "btkVogp_UGIe"
      }
    },
    {
      "cell_type": "code",
      "source": [
        "from langchain_huggingface import HuggingFaceEmbeddings\n",
        "\n",
        "## load model\n",
        "snowflake_base_model = HuggingFaceEmbeddings(model_name=\"Snowflake/snowflake-arctic-embed-m\")\n",
        "\n",
        "## get results\n",
        "snowflake_embed_base_model_results = eval_retrievers(test_dataset, snowflake_base_model)"
      ],
      "metadata": {
        "colab": {
          "base_uri": "https://localhost:8080/"
        },
        "id": "VT6b1PdtSxgN",
        "outputId": "084c6910-2a74-41ed-ee81-82352e624cec"
      },
      "execution_count": 36,
      "outputs": [
        {
          "output_type": "stream",
          "name": "stderr",
          "text": [
            "100%|██████████| 100/100 [00:01<00:00, 86.75it/s]\n"
          ]
        }
      ]
    },
    {
      "cell_type": "code",
      "source": [
        "## store in results df\n",
        "snowflake_embed_m_results_df = pd.DataFrame(snowflake_embed_base_model_results)"
      ],
      "metadata": {
        "id": "eEI7fm6NUnCH"
      },
      "execution_count": 37,
      "outputs": []
    },
    {
      "cell_type": "code",
      "source": [
        "## get hit rate\n",
        "snowflake_embed_m_hit_rate = snowflake_embed_m_results_df['is_hit'].mean()\n",
        "print(f\"Snowflake artic embed-m base model hit rate: {snowflake_embed_m_hit_rate}\")"
      ],
      "metadata": {
        "colab": {
          "base_uri": "https://localhost:8080/"
        },
        "id": "H_X7HXo7VbXW",
        "outputId": "ea2a5437-51e6-4f37-f0af-de7d693a7fb0"
      },
      "execution_count": 38,
      "outputs": [
        {
          "output_type": "stream",
          "name": "stdout",
          "text": [
            "Snowflake artic embed-m base model hit rate: 0.67\n"
          ]
        }
      ]
    },
    {
      "cell_type": "markdown",
      "source": [
        "Summary\n",
        "* The base model for artic embed shows us the hit rate is 0.66 which is not ideal for our domain specific data and definitely not as perfect as the 1.0 for OpenAI model."
      ],
      "metadata": {
        "id": "n-HuomT6VxC-"
      }
    },
    {
      "cell_type": "markdown",
      "source": [
        "## 3. `Snowflake/snowflake-artic-embed-m` finetuned embedding model\n",
        "* Now the moment of truth lets evaluate the model we just fine-tuned with MNR and Matryoshka loss on the domain specific data."
      ],
      "metadata": {
        "id": "sAIJ_exAV-rS"
      }
    },
    {
      "cell_type": "code",
      "source": [
        "## load fine tuned model\n",
        "finetune_embeds = HuggingFaceEmbeddings(model_name='/content/DataRepository/finetuned_arctic_embeddings')\n",
        "finetune_results = eval_retrievers(test_dataset, finetune_embeds)"
      ],
      "metadata": {
        "colab": {
          "base_uri": "https://localhost:8080/"
        },
        "id": "t1Znf9yeVwI4",
        "outputId": "8600bc50-8f24-4215-80aa-40171c3ae746"
      },
      "execution_count": 39,
      "outputs": [
        {
          "output_type": "stream",
          "name": "stderr",
          "text": [
            "Some weights of BertModel were not initialized from the model checkpoint at /content/DataRepository/finetuned_arctic_embeddings and are newly initialized: ['pooler.dense.bias', 'pooler.dense.weight']\n",
            "You should probably TRAIN this model on a down-stream task to be able to use it for predictions and inference.\n",
            "100%|██████████| 100/100 [00:01<00:00, 86.20it/s]\n"
          ]
        }
      ]
    },
    {
      "cell_type": "code",
      "source": [
        "## save results to df\n",
        "finetune_results_df = pd.DataFrame(finetune_results)"
      ],
      "metadata": {
        "id": "mjij7eTPWsiV"
      },
      "execution_count": 40,
      "outputs": []
    },
    {
      "cell_type": "code",
      "source": [
        "## get hit rate for finetuned model\n",
        "finetune_hit_rate = finetune_results_df['is_hit'].mean()\n",
        "print(f\"Finetuned Snowflake artic-m embed model hit rate: {finetune_hit_rate}\")"
      ],
      "metadata": {
        "colab": {
          "base_uri": "https://localhost:8080/"
        },
        "id": "IMcD4cDOW3dw",
        "outputId": "c71d358b-e6fd-443d-f3b5-4b98982162a0"
      },
      "execution_count": 41,
      "outputs": [
        {
          "output_type": "stream",
          "name": "stdout",
          "text": [
            "Finetuned Snowflake artic-m embed model hit rate: 0.99\n"
          ]
        }
      ]
    },
    {
      "cell_type": "markdown",
      "source": [
        "Summary\n",
        "* Aha! We can see fine tuning did improve the hit rate on our domain specific data with a hit rate of 0.99, much improved from the base model hit rate of 0.66."
      ],
      "metadata": {
        "id": "bdyNRQ5fXEk_"
      }
    },
    {
      "cell_type": "markdown",
      "source": [
        "# Re-evaluate RAG Pipeline\n",
        "* Lets use the RAG pipeline above to check some of the chunk retrieval using the fine tuned model."
      ],
      "metadata": {
        "id": "kwn4uyXqXeh4"
      }
    },
    {
      "cell_type": "markdown",
      "source": [
        "## Creating New Chunks\n",
        "* Create new chunks to evaluate with."
      ],
      "metadata": {
        "id": "fM95ZMMrXq1X"
      }
    },
    {
      "cell_type": "code",
      "source": [
        "## setup text splitter\n",
        "text_splitter = RecursiveCharacterTextSplitter(\n",
        "    chunk_size=600,\n",
        "    chunk_overlap=50,\n",
        "    length_function=len,\n",
        ")\n",
        "## train docs\n",
        "train_docs = text_splitter.split_documents(train_docs_loaded.load())"
      ],
      "metadata": {
        "id": "jl5qZ1GXXC9H"
      },
      "execution_count": 42,
      "outputs": []
    },
    {
      "cell_type": "markdown",
      "source": [
        "# Setup Base Chain\n",
        "* This will use the untrained retrieval model which is the base snowflake-artic-m model before we fine tuned it.\n",
        "\n",
        "## R- Retrieval"
      ],
      "metadata": {
        "id": "Opqx-_xFYBAS"
      }
    },
    {
      "cell_type": "code",
      "source": [
        "from langchain_community.vectorstores import FAISS\n",
        "\n",
        "## init vectorstore\n",
        "base_vectorstore = FAISS.from_documents(train_docs, snowflake_base_model)\n",
        "base_retriever = base_vectorstore.as_retriever(search_kwargs={\"k\": 6})"
      ],
      "metadata": {
        "id": "naiFkwYSX_uh"
      },
      "execution_count": 43,
      "outputs": []
    },
    {
      "cell_type": "markdown",
      "source": [
        "## A - Augmented"
      ],
      "metadata": {
        "id": "CniFkfPEYsFO"
      }
    },
    {
      "cell_type": "code",
      "source": [
        "from langchain_core.prompts import ChatPromptTemplate\n",
        "\n",
        "## prompt setup\n",
        "RAG_PROMPT = \"\"\"\\\n",
        "Given a provided context and a question, you need to answer the question.\n",
        "If you do not know the answer just say \"I don't know\".\n",
        "\n",
        "Context:\n",
        "{context}\n",
        "\n",
        "Question:\n",
        "{question}\n",
        "\n",
        "Answer:\n",
        "\"\"\"\n",
        "## prompt template for RAG\n",
        "rag_prompt_template = ChatPromptTemplate.from_template(RAG_PROMPT)"
      ],
      "metadata": {
        "id": "YByhN88jYnkn"
      },
      "execution_count": 44,
      "outputs": []
    },
    {
      "cell_type": "markdown",
      "source": [
        "## G - Generation"
      ],
      "metadata": {
        "id": "_PCkqiqqZdQD"
      }
    },
    {
      "cell_type": "code",
      "source": [
        "## setup generation pipeline\n",
        "rag_llm = ChatOpenAI(\n",
        "    model=\"gpt-4o-mini\",\n",
        "    temperature=0,\n",
        ")"
      ],
      "metadata": {
        "id": "-aPxO5leY8cY"
      },
      "execution_count": 45,
      "outputs": []
    },
    {
      "cell_type": "markdown",
      "source": [
        "# Build RAG-LCEL Pipeline"
      ],
      "metadata": {
        "id": "4W23HEa_ZoF5"
      }
    },
    {
      "cell_type": "code",
      "source": [
        "from operator import itemgetter\n",
        "from langchain_core.output_parsers import StrOutputParser\n",
        "from langchain_core.runnables import RunnablePassthrough, RunnableParallel\n",
        "\n",
        "## setup base rag chain\n",
        "base_rag_chain = (\n",
        "    {\"context\": itemgetter(\"question\") | base_retriever, \"question\": itemgetter(\"question\")}\n",
        "    | RunnablePassthrough.assign(context=itemgetter(\"context\"))\n",
        "    | {\"response\": rag_prompt_template | rag_llm | StrOutputParser(), \"context\": itemgetter(\"context\")}\n",
        ")"
      ],
      "metadata": {
        "id": "Ly1BsuO2Zncq"
      },
      "execution_count": 46,
      "outputs": []
    },
    {
      "cell_type": "code",
      "source": [
        "## run the base rag chain\n",
        "base_rag_chain.invoke({\"question\": \"What is Ayahuasca?\"})['response']"
      ],
      "metadata": {
        "colab": {
          "base_uri": "https://localhost:8080/",
          "height": 35
        },
        "id": "vB3bhw0vaa61",
        "outputId": "15f7bd22-269b-4f9a-e598-c46db3ac66a6"
      },
      "execution_count": 47,
      "outputs": [
        {
          "output_type": "execute_result",
          "data": {
            "text/plain": [
              "\"I don't know.\""
            ],
            "application/vnd.google.colaboratory.intrinsic+json": {
              "type": "string"
            }
          },
          "metadata": {},
          "execution_count": 47
        }
      ]
    },
    {
      "cell_type": "code",
      "source": [
        "## run base rag chain with real question from document data\n",
        "base_rag_chain.invoke({\"question\": \"What is the difference between Neurosurgery and Neuralink surgery?\"})['response']"
      ],
      "metadata": {
        "colab": {
          "base_uri": "https://localhost:8080/",
          "height": 122
        },
        "id": "v24ivP7Lae4o",
        "outputId": "1291d6ce-db62-4999-8901-4b6392ad748d"
      },
      "execution_count": 48,
      "outputs": [
        {
          "output_type": "execute_result",
          "data": {
            "text/plain": [
              "'Neurosurgery typically involves more invasive procedures, such as opening up deeper parts of the brain or manipulating blood vessels, which carries significant risks. In contrast, Neuralink surgery involves cortical micro-insertions that are less invasive, as they only require openings on the surface of the brain, thus carrying significantly less risk compared to traditional neurosurgeries like tumor or aneurysm surgeries. Additionally, Neuralink surgery utilizes advanced robotic technology and extensive practice to ensure precision in electrode insertion, which may differ from standard neurosurgical practices.'"
            ],
            "application/vnd.google.colaboratory.intrinsic+json": {
              "type": "string"
            }
          },
          "metadata": {},
          "execution_count": 48
        }
      ]
    },
    {
      "cell_type": "code",
      "source": [
        "##test again\n",
        "base_rag_chain.invoke({\"question\": \"What is Neural Dust?\"})['response']"
      ],
      "metadata": {
        "colab": {
          "base_uri": "https://localhost:8080/",
          "height": 35
        },
        "id": "aEQ_VZXVawbI",
        "outputId": "561a9c3c-e3eb-485d-b678-8bf8d44ad0dc"
      },
      "execution_count": 49,
      "outputs": [
        {
          "output_type": "execute_result",
          "data": {
            "text/plain": [
              "\"I don't know.\""
            ],
            "application/vnd.google.colaboratory.intrinsic+json": {
              "type": "string"
            }
          },
          "metadata": {},
          "execution_count": 49
        }
      ]
    },
    {
      "cell_type": "code",
      "source": [
        "## test again\n",
        "base_rag_chain.invoke({\"question\": \"What is a Neural Decoder?\"})['response']"
      ],
      "metadata": {
        "colab": {
          "base_uri": "https://localhost:8080/",
          "height": 87
        },
        "id": "DyixHMTKa-Ha",
        "outputId": "11a4084d-d733-4332-f1bd-af857aa48ff6"
      },
      "execution_count": 50,
      "outputs": [
        {
          "output_type": "execute_result",
          "data": {
            "text/plain": [
              "'A Neural Decoder is a system or model that interprets neural signals, such as sequences of spikes from neurons, to extract meaningful information or predict certain outcomes. It involves machine learning techniques to create a mapping between the neural data and the labels or actions they represent. The process includes challenges related to architecture design, hyperparameter optimization, and ensuring software stability and reliability.'"
            ],
            "application/vnd.google.colaboratory.intrinsic+json": {
              "type": "string"
            }
          },
          "metadata": {},
          "execution_count": 50
        }
      ]
    },
    {
      "cell_type": "markdown",
      "source": [
        "# Fine-Tuned Embedding Model RAG Pipeline\n",
        "* Now we lets demo the domain specific fine tuned embedding model on the RAG pipeline and see the results."
      ],
      "metadata": {
        "id": "rhX4KrmyciXf"
      }
    },
    {
      "cell_type": "code",
      "source": [
        "## setup vector store and retriever\n",
        "finetune_vectorstore = FAISS.from_documents(train_docs, finetune_embeds)\n",
        "finetune_retriever = finetune_vectorstore.as_retriever(search_kwargs={\"k\": 6})"
      ],
      "metadata": {
        "id": "ouT3EmUjbG-V"
      },
      "execution_count": 51,
      "outputs": []
    },
    {
      "cell_type": "code",
      "source": [
        "## finetune RAG\n",
        "finetune_RAG_chain = (\n",
        "    {\"context\": itemgetter(\"question\") | finetune_retriever, \"question\": itemgetter(\"question\")}\n",
        "    | RunnablePassthrough.assign(context=itemgetter(\"context\"))\n",
        "    | {\"response\": rag_prompt_template | rag_llm | StrOutputParser(), \"context\": itemgetter(\"context\")}\n",
        ")"
      ],
      "metadata": {
        "id": "_FqDZG0bc8Nl"
      },
      "execution_count": 52,
      "outputs": []
    },
    {
      "cell_type": "code",
      "source": [
        "## test finetuned rag chain\n",
        "finetune_RAG_chain.invoke({\"question\": \"What is Ayahuasca?\"})['response']"
      ],
      "metadata": {
        "colab": {
          "base_uri": "https://localhost:8080/",
          "height": 70
        },
        "id": "i3kHG6i_dgZq",
        "outputId": "b7ebbfe0-bdf7-4524-f296-5f1d926c10e9"
      },
      "execution_count": 53,
      "outputs": [
        {
          "output_type": "execute_result",
          "data": {
            "text/plain": [
              "'Ayahuasca is a psychoactive brew made from the Banisteriopsis caapi vine and other plants, traditionally used in South American shamanic practices for spiritual and healing purposes. It contains DMT (dimethyltryptamine), a powerful hallucinogenic compound.'"
            ],
            "application/vnd.google.colaboratory.intrinsic+json": {
              "type": "string"
            }
          },
          "metadata": {},
          "execution_count": 53
        }
      ]
    },
    {
      "cell_type": "code",
      "source": [
        "## test again\n",
        "finetune_RAG_chain.invoke({\"question\": \"What is the difference between Neurosurgery and Neuralink surgery?\"})['response']"
      ],
      "metadata": {
        "colab": {
          "base_uri": "https://localhost:8080/",
          "height": 105
        },
        "id": "nmjAq__qdo5U",
        "outputId": "c0a7b140-65a6-413d-e065-20aff69a5c59"
      },
      "execution_count": 54,
      "outputs": [
        {
          "output_type": "execute_result",
          "data": {
            "text/plain": [
              "'Neurosurgery typically involves more invasive procedures that may include opening deeper parts of the brain or manipulating blood vessels, which carries significant risks. In contrast, Neuralink surgery focuses on cortical micro-insertions on the surface of the brain, which is considered to carry significantly less risk compared to traditional neurosurgeries like tumor or aneurysm surgeries. Additionally, Neuralink surgery utilizes advanced robotic technology and extensive practice to ensure precision and safety during the procedure.'"
            ],
            "application/vnd.google.colaboratory.intrinsic+json": {
              "type": "string"
            }
          },
          "metadata": {},
          "execution_count": 54
        }
      ]
    },
    {
      "cell_type": "code",
      "source": [
        "## test again\n",
        "finetune_RAG_chain.invoke({\"question\": \"What is Neural Dust, what does it do?\"})['response']"
      ],
      "metadata": {
        "colab": {
          "base_uri": "https://localhost:8080/",
          "height": 87
        },
        "id": "KGSDn6f4d0VB",
        "outputId": "058b45fe-999e-4cb2-88a4-6bb963a8d72f"
      },
      "execution_count": 55,
      "outputs": [
        {
          "output_type": "execute_result",
          "data": {
            "text/plain": [
              "'Neural Dust refers to a system that involves tiny, implantable devices about the size of a neuron. These devices are designed to be placed next to neurons to record their state and communicate that information back to the outside world. The initial goal of the project was to use ultrasound for powering and communication, rather than electromagnetic waves, allowing for effective interaction with neural activity.'"
            ],
            "application/vnd.google.colaboratory.intrinsic+json": {
              "type": "string"
            }
          },
          "metadata": {},
          "execution_count": 55
        }
      ]
    },
    {
      "cell_type": "code",
      "source": [
        "## test again\n",
        "finetune_RAG_chain.invoke({\"question\": \"What is a Neural Decoder\"})['response']"
      ],
      "metadata": {
        "colab": {
          "base_uri": "https://localhost:8080/",
          "height": 87
        },
        "id": "qX41QmUad6S8",
        "outputId": "8d4c81fa-cf5a-4f99-a12c-c1c1512ccc86"
      },
      "execution_count": 56,
      "outputs": [
        {
          "output_type": "execute_result",
          "data": {
            "text/plain": [
              "'A Neural Decoder is a system or algorithm that interprets and translates the electrical signals (spikes) generated by neurons in the brain into meaningful information or actions. It involves processing the raw data from brain activity to understand what those signals represent, which can be used for various applications, such as controlling devices or understanding brain functions.'"
            ],
            "application/vnd.google.colaboratory.intrinsic+json": {
              "type": "string"
            }
          },
          "metadata": {},
          "execution_count": 56
        }
      ]
    },
    {
      "cell_type": "code",
      "source": [
        "## test again\n",
        "finetune_RAG_chain.invoke({\"question\": \"Who got Neuralink surgery?\"})['response']"
      ],
      "metadata": {
        "colab": {
          "base_uri": "https://localhost:8080/",
          "height": 35
        },
        "id": "CPKiZ8wgeM8-",
        "outputId": "223cd476-b0a5-4ade-a31c-def3bd46de41"
      },
      "execution_count": 57,
      "outputs": [
        {
          "output_type": "execute_result",
          "data": {
            "text/plain": [
              "'Noland Arbaugh was the first human participant to receive a Neuralink implant.'"
            ],
            "application/vnd.google.colaboratory.intrinsic+json": {
              "type": "string"
            }
          },
          "metadata": {},
          "execution_count": 57
        }
      ]
    },
    {
      "cell_type": "code",
      "source": [],
      "metadata": {
        "id": "RmbF9e493UAn"
      },
      "execution_count": null,
      "outputs": []
    }
  ]
}