{
  "nbformat": 4,
  "nbformat_minor": 0,
  "metadata": {
    "colab": {
      "provenance": []
    },
    "kernelspec": {
      "name": "python3",
      "display_name": "Python 3"
    },
    "language_info": {
      "name": "python"
    },
    "widgets": {
      "application/vnd.jupyter.widget-state+json": {
        "02dfb86171e84aa784b046bff2847537": {
          "model_module": "@jupyter-widgets/controls",
          "model_name": "HBoxModel",
          "model_module_version": "1.5.0",
          "state": {
            "_dom_classes": [],
            "_model_module": "@jupyter-widgets/controls",
            "_model_module_version": "1.5.0",
            "_model_name": "HBoxModel",
            "_view_count": null,
            "_view_module": "@jupyter-widgets/controls",
            "_view_module_version": "1.5.0",
            "_view_name": "HBoxView",
            "box_style": "",
            "children": [
              "IPY_MODEL_eedc2caaef8e4eea953adc97a072609f",
              "IPY_MODEL_8ddf644eeeed4f24a717a151a426dae0",
              "IPY_MODEL_1bc60a7f0e1841c8b98e3c5e325977f5"
            ],
            "layout": "IPY_MODEL_04b3a201dad5440b92eb0293a4cc042f"
          }
        },
        "eedc2caaef8e4eea953adc97a072609f": {
          "model_module": "@jupyter-widgets/controls",
          "model_name": "HTMLModel",
          "model_module_version": "1.5.0",
          "state": {
            "_dom_classes": [],
            "_model_module": "@jupyter-widgets/controls",
            "_model_module_version": "1.5.0",
            "_model_name": "HTMLModel",
            "_view_count": null,
            "_view_module": "@jupyter-widgets/controls",
            "_view_module_version": "1.5.0",
            "_view_name": "HTMLView",
            "description": "",
            "description_tooltip": null,
            "layout": "IPY_MODEL_d57ae588cb764dc1b385db6e02325bf4",
            "placeholder": "​",
            "style": "IPY_MODEL_26e8b4cbf2584bd6bd4e42d7e08010ee",
            "value": "modules.json: 100%"
          }
        },
        "8ddf644eeeed4f24a717a151a426dae0": {
          "model_module": "@jupyter-widgets/controls",
          "model_name": "FloatProgressModel",
          "model_module_version": "1.5.0",
          "state": {
            "_dom_classes": [],
            "_model_module": "@jupyter-widgets/controls",
            "_model_module_version": "1.5.0",
            "_model_name": "FloatProgressModel",
            "_view_count": null,
            "_view_module": "@jupyter-widgets/controls",
            "_view_module_version": "1.5.0",
            "_view_name": "ProgressView",
            "bar_style": "success",
            "description": "",
            "description_tooltip": null,
            "layout": "IPY_MODEL_f8ed6cee76db46a08342903d39987700",
            "max": 349,
            "min": 0,
            "orientation": "horizontal",
            "style": "IPY_MODEL_56e4657f565b4c388ebfd0f51a50fff9",
            "value": 349
          }
        },
        "1bc60a7f0e1841c8b98e3c5e325977f5": {
          "model_module": "@jupyter-widgets/controls",
          "model_name": "HTMLModel",
          "model_module_version": "1.5.0",
          "state": {
            "_dom_classes": [],
            "_model_module": "@jupyter-widgets/controls",
            "_model_module_version": "1.5.0",
            "_model_name": "HTMLModel",
            "_view_count": null,
            "_view_module": "@jupyter-widgets/controls",
            "_view_module_version": "1.5.0",
            "_view_name": "HTMLView",
            "description": "",
            "description_tooltip": null,
            "layout": "IPY_MODEL_8e0cfa04f2a84c9b8c34657743f4b891",
            "placeholder": "​",
            "style": "IPY_MODEL_02dfea1f3bd144a29f344896de41f1ff",
            "value": " 349/349 [00:00&lt;00:00, 15.6kB/s]"
          }
        },
        "04b3a201dad5440b92eb0293a4cc042f": {
          "model_module": "@jupyter-widgets/base",
          "model_name": "LayoutModel",
          "model_module_version": "1.2.0",
          "state": {
            "_model_module": "@jupyter-widgets/base",
            "_model_module_version": "1.2.0",
            "_model_name": "LayoutModel",
            "_view_count": null,
            "_view_module": "@jupyter-widgets/base",
            "_view_module_version": "1.2.0",
            "_view_name": "LayoutView",
            "align_content": null,
            "align_items": null,
            "align_self": null,
            "border": null,
            "bottom": null,
            "display": null,
            "flex": null,
            "flex_flow": null,
            "grid_area": null,
            "grid_auto_columns": null,
            "grid_auto_flow": null,
            "grid_auto_rows": null,
            "grid_column": null,
            "grid_gap": null,
            "grid_row": null,
            "grid_template_areas": null,
            "grid_template_columns": null,
            "grid_template_rows": null,
            "height": null,
            "justify_content": null,
            "justify_items": null,
            "left": null,
            "margin": null,
            "max_height": null,
            "max_width": null,
            "min_height": null,
            "min_width": null,
            "object_fit": null,
            "object_position": null,
            "order": null,
            "overflow": null,
            "overflow_x": null,
            "overflow_y": null,
            "padding": null,
            "right": null,
            "top": null,
            "visibility": null,
            "width": null
          }
        },
        "d57ae588cb764dc1b385db6e02325bf4": {
          "model_module": "@jupyter-widgets/base",
          "model_name": "LayoutModel",
          "model_module_version": "1.2.0",
          "state": {
            "_model_module": "@jupyter-widgets/base",
            "_model_module_version": "1.2.0",
            "_model_name": "LayoutModel",
            "_view_count": null,
            "_view_module": "@jupyter-widgets/base",
            "_view_module_version": "1.2.0",
            "_view_name": "LayoutView",
            "align_content": null,
            "align_items": null,
            "align_self": null,
            "border": null,
            "bottom": null,
            "display": null,
            "flex": null,
            "flex_flow": null,
            "grid_area": null,
            "grid_auto_columns": null,
            "grid_auto_flow": null,
            "grid_auto_rows": null,
            "grid_column": null,
            "grid_gap": null,
            "grid_row": null,
            "grid_template_areas": null,
            "grid_template_columns": null,
            "grid_template_rows": null,
            "height": null,
            "justify_content": null,
            "justify_items": null,
            "left": null,
            "margin": null,
            "max_height": null,
            "max_width": null,
            "min_height": null,
            "min_width": null,
            "object_fit": null,
            "object_position": null,
            "order": null,
            "overflow": null,
            "overflow_x": null,
            "overflow_y": null,
            "padding": null,
            "right": null,
            "top": null,
            "visibility": null,
            "width": null
          }
        },
        "26e8b4cbf2584bd6bd4e42d7e08010ee": {
          "model_module": "@jupyter-widgets/controls",
          "model_name": "DescriptionStyleModel",
          "model_module_version": "1.5.0",
          "state": {
            "_model_module": "@jupyter-widgets/controls",
            "_model_module_version": "1.5.0",
            "_model_name": "DescriptionStyleModel",
            "_view_count": null,
            "_view_module": "@jupyter-widgets/base",
            "_view_module_version": "1.2.0",
            "_view_name": "StyleView",
            "description_width": ""
          }
        },
        "f8ed6cee76db46a08342903d39987700": {
          "model_module": "@jupyter-widgets/base",
          "model_name": "LayoutModel",
          "model_module_version": "1.2.0",
          "state": {
            "_model_module": "@jupyter-widgets/base",
            "_model_module_version": "1.2.0",
            "_model_name": "LayoutModel",
            "_view_count": null,
            "_view_module": "@jupyter-widgets/base",
            "_view_module_version": "1.2.0",
            "_view_name": "LayoutView",
            "align_content": null,
            "align_items": null,
            "align_self": null,
            "border": null,
            "bottom": null,
            "display": null,
            "flex": null,
            "flex_flow": null,
            "grid_area": null,
            "grid_auto_columns": null,
            "grid_auto_flow": null,
            "grid_auto_rows": null,
            "grid_column": null,
            "grid_gap": null,
            "grid_row": null,
            "grid_template_areas": null,
            "grid_template_columns": null,
            "grid_template_rows": null,
            "height": null,
            "justify_content": null,
            "justify_items": null,
            "left": null,
            "margin": null,
            "max_height": null,
            "max_width": null,
            "min_height": null,
            "min_width": null,
            "object_fit": null,
            "object_position": null,
            "order": null,
            "overflow": null,
            "overflow_x": null,
            "overflow_y": null,
            "padding": null,
            "right": null,
            "top": null,
            "visibility": null,
            "width": null
          }
        },
        "56e4657f565b4c388ebfd0f51a50fff9": {
          "model_module": "@jupyter-widgets/controls",
          "model_name": "ProgressStyleModel",
          "model_module_version": "1.5.0",
          "state": {
            "_model_module": "@jupyter-widgets/controls",
            "_model_module_version": "1.5.0",
            "_model_name": "ProgressStyleModel",
            "_view_count": null,
            "_view_module": "@jupyter-widgets/base",
            "_view_module_version": "1.2.0",
            "_view_name": "StyleView",
            "bar_color": null,
            "description_width": ""
          }
        },
        "8e0cfa04f2a84c9b8c34657743f4b891": {
          "model_module": "@jupyter-widgets/base",
          "model_name": "LayoutModel",
          "model_module_version": "1.2.0",
          "state": {
            "_model_module": "@jupyter-widgets/base",
            "_model_module_version": "1.2.0",
            "_model_name": "LayoutModel",
            "_view_count": null,
            "_view_module": "@jupyter-widgets/base",
            "_view_module_version": "1.2.0",
            "_view_name": "LayoutView",
            "align_content": null,
            "align_items": null,
            "align_self": null,
            "border": null,
            "bottom": null,
            "display": null,
            "flex": null,
            "flex_flow": null,
            "grid_area": null,
            "grid_auto_columns": null,
            "grid_auto_flow": null,
            "grid_auto_rows": null,
            "grid_column": null,
            "grid_gap": null,
            "grid_row": null,
            "grid_template_areas": null,
            "grid_template_columns": null,
            "grid_template_rows": null,
            "height": null,
            "justify_content": null,
            "justify_items": null,
            "left": null,
            "margin": null,
            "max_height": null,
            "max_width": null,
            "min_height": null,
            "min_width": null,
            "object_fit": null,
            "object_position": null,
            "order": null,
            "overflow": null,
            "overflow_x": null,
            "overflow_y": null,
            "padding": null,
            "right": null,
            "top": null,
            "visibility": null,
            "width": null
          }
        },
        "02dfea1f3bd144a29f344896de41f1ff": {
          "model_module": "@jupyter-widgets/controls",
          "model_name": "DescriptionStyleModel",
          "model_module_version": "1.5.0",
          "state": {
            "_model_module": "@jupyter-widgets/controls",
            "_model_module_version": "1.5.0",
            "_model_name": "DescriptionStyleModel",
            "_view_count": null,
            "_view_module": "@jupyter-widgets/base",
            "_view_module_version": "1.2.0",
            "_view_name": "StyleView",
            "description_width": ""
          }
        },
        "03fb2ef835224d7786676328b8839f06": {
          "model_module": "@jupyter-widgets/controls",
          "model_name": "HBoxModel",
          "model_module_version": "1.5.0",
          "state": {
            "_dom_classes": [],
            "_model_module": "@jupyter-widgets/controls",
            "_model_module_version": "1.5.0",
            "_model_name": "HBoxModel",
            "_view_count": null,
            "_view_module": "@jupyter-widgets/controls",
            "_view_module_version": "1.5.0",
            "_view_name": "HBoxView",
            "box_style": "",
            "children": [
              "IPY_MODEL_d5d434f8d0bf44a681877ea37b42e3ef",
              "IPY_MODEL_7abc5fc51115426d8efcb1edee7236ad",
              "IPY_MODEL_e3f2070fc1e14072a521f07780870889"
            ],
            "layout": "IPY_MODEL_971201751b584557907972bfb7c494a6"
          }
        },
        "d5d434f8d0bf44a681877ea37b42e3ef": {
          "model_module": "@jupyter-widgets/controls",
          "model_name": "HTMLModel",
          "model_module_version": "1.5.0",
          "state": {
            "_dom_classes": [],
            "_model_module": "@jupyter-widgets/controls",
            "_model_module_version": "1.5.0",
            "_model_name": "HTMLModel",
            "_view_count": null,
            "_view_module": "@jupyter-widgets/controls",
            "_view_module_version": "1.5.0",
            "_view_name": "HTMLView",
            "description": "",
            "description_tooltip": null,
            "layout": "IPY_MODEL_58064013aa5a48ec86a1e604c69f9ab4",
            "placeholder": "​",
            "style": "IPY_MODEL_03ea8d48b27643e3bbef8909d834e2cd",
            "value": "config_sentence_transformers.json: 100%"
          }
        },
        "7abc5fc51115426d8efcb1edee7236ad": {
          "model_module": "@jupyter-widgets/controls",
          "model_name": "FloatProgressModel",
          "model_module_version": "1.5.0",
          "state": {
            "_dom_classes": [],
            "_model_module": "@jupyter-widgets/controls",
            "_model_module_version": "1.5.0",
            "_model_name": "FloatProgressModel",
            "_view_count": null,
            "_view_module": "@jupyter-widgets/controls",
            "_view_module_version": "1.5.0",
            "_view_name": "ProgressView",
            "bar_style": "success",
            "description": "",
            "description_tooltip": null,
            "layout": "IPY_MODEL_fc6bfe8d37ab4c7eafb8b8f7788d21e9",
            "max": 116,
            "min": 0,
            "orientation": "horizontal",
            "style": "IPY_MODEL_df0878acb3664749863b27834b2d9185",
            "value": 116
          }
        },
        "e3f2070fc1e14072a521f07780870889": {
          "model_module": "@jupyter-widgets/controls",
          "model_name": "HTMLModel",
          "model_module_version": "1.5.0",
          "state": {
            "_dom_classes": [],
            "_model_module": "@jupyter-widgets/controls",
            "_model_module_version": "1.5.0",
            "_model_name": "HTMLModel",
            "_view_count": null,
            "_view_module": "@jupyter-widgets/controls",
            "_view_module_version": "1.5.0",
            "_view_name": "HTMLView",
            "description": "",
            "description_tooltip": null,
            "layout": "IPY_MODEL_3b11082dc8aa46ceba68f2701a60d964",
            "placeholder": "​",
            "style": "IPY_MODEL_5e9a65751cc84cc8adf7233f23153726",
            "value": " 116/116 [00:00&lt;00:00, 5.91kB/s]"
          }
        },
        "971201751b584557907972bfb7c494a6": {
          "model_module": "@jupyter-widgets/base",
          "model_name": "LayoutModel",
          "model_module_version": "1.2.0",
          "state": {
            "_model_module": "@jupyter-widgets/base",
            "_model_module_version": "1.2.0",
            "_model_name": "LayoutModel",
            "_view_count": null,
            "_view_module": "@jupyter-widgets/base",
            "_view_module_version": "1.2.0",
            "_view_name": "LayoutView",
            "align_content": null,
            "align_items": null,
            "align_self": null,
            "border": null,
            "bottom": null,
            "display": null,
            "flex": null,
            "flex_flow": null,
            "grid_area": null,
            "grid_auto_columns": null,
            "grid_auto_flow": null,
            "grid_auto_rows": null,
            "grid_column": null,
            "grid_gap": null,
            "grid_row": null,
            "grid_template_areas": null,
            "grid_template_columns": null,
            "grid_template_rows": null,
            "height": null,
            "justify_content": null,
            "justify_items": null,
            "left": null,
            "margin": null,
            "max_height": null,
            "max_width": null,
            "min_height": null,
            "min_width": null,
            "object_fit": null,
            "object_position": null,
            "order": null,
            "overflow": null,
            "overflow_x": null,
            "overflow_y": null,
            "padding": null,
            "right": null,
            "top": null,
            "visibility": null,
            "width": null
          }
        },
        "58064013aa5a48ec86a1e604c69f9ab4": {
          "model_module": "@jupyter-widgets/base",
          "model_name": "LayoutModel",
          "model_module_version": "1.2.0",
          "state": {
            "_model_module": "@jupyter-widgets/base",
            "_model_module_version": "1.2.0",
            "_model_name": "LayoutModel",
            "_view_count": null,
            "_view_module": "@jupyter-widgets/base",
            "_view_module_version": "1.2.0",
            "_view_name": "LayoutView",
            "align_content": null,
            "align_items": null,
            "align_self": null,
            "border": null,
            "bottom": null,
            "display": null,
            "flex": null,
            "flex_flow": null,
            "grid_area": null,
            "grid_auto_columns": null,
            "grid_auto_flow": null,
            "grid_auto_rows": null,
            "grid_column": null,
            "grid_gap": null,
            "grid_row": null,
            "grid_template_areas": null,
            "grid_template_columns": null,
            "grid_template_rows": null,
            "height": null,
            "justify_content": null,
            "justify_items": null,
            "left": null,
            "margin": null,
            "max_height": null,
            "max_width": null,
            "min_height": null,
            "min_width": null,
            "object_fit": null,
            "object_position": null,
            "order": null,
            "overflow": null,
            "overflow_x": null,
            "overflow_y": null,
            "padding": null,
            "right": null,
            "top": null,
            "visibility": null,
            "width": null
          }
        },
        "03ea8d48b27643e3bbef8909d834e2cd": {
          "model_module": "@jupyter-widgets/controls",
          "model_name": "DescriptionStyleModel",
          "model_module_version": "1.5.0",
          "state": {
            "_model_module": "@jupyter-widgets/controls",
            "_model_module_version": "1.5.0",
            "_model_name": "DescriptionStyleModel",
            "_view_count": null,
            "_view_module": "@jupyter-widgets/base",
            "_view_module_version": "1.2.0",
            "_view_name": "StyleView",
            "description_width": ""
          }
        },
        "fc6bfe8d37ab4c7eafb8b8f7788d21e9": {
          "model_module": "@jupyter-widgets/base",
          "model_name": "LayoutModel",
          "model_module_version": "1.2.0",
          "state": {
            "_model_module": "@jupyter-widgets/base",
            "_model_module_version": "1.2.0",
            "_model_name": "LayoutModel",
            "_view_count": null,
            "_view_module": "@jupyter-widgets/base",
            "_view_module_version": "1.2.0",
            "_view_name": "LayoutView",
            "align_content": null,
            "align_items": null,
            "align_self": null,
            "border": null,
            "bottom": null,
            "display": null,
            "flex": null,
            "flex_flow": null,
            "grid_area": null,
            "grid_auto_columns": null,
            "grid_auto_flow": null,
            "grid_auto_rows": null,
            "grid_column": null,
            "grid_gap": null,
            "grid_row": null,
            "grid_template_areas": null,
            "grid_template_columns": null,
            "grid_template_rows": null,
            "height": null,
            "justify_content": null,
            "justify_items": null,
            "left": null,
            "margin": null,
            "max_height": null,
            "max_width": null,
            "min_height": null,
            "min_width": null,
            "object_fit": null,
            "object_position": null,
            "order": null,
            "overflow": null,
            "overflow_x": null,
            "overflow_y": null,
            "padding": null,
            "right": null,
            "top": null,
            "visibility": null,
            "width": null
          }
        },
        "df0878acb3664749863b27834b2d9185": {
          "model_module": "@jupyter-widgets/controls",
          "model_name": "ProgressStyleModel",
          "model_module_version": "1.5.0",
          "state": {
            "_model_module": "@jupyter-widgets/controls",
            "_model_module_version": "1.5.0",
            "_model_name": "ProgressStyleModel",
            "_view_count": null,
            "_view_module": "@jupyter-widgets/base",
            "_view_module_version": "1.2.0",
            "_view_name": "StyleView",
            "bar_color": null,
            "description_width": ""
          }
        },
        "3b11082dc8aa46ceba68f2701a60d964": {
          "model_module": "@jupyter-widgets/base",
          "model_name": "LayoutModel",
          "model_module_version": "1.2.0",
          "state": {
            "_model_module": "@jupyter-widgets/base",
            "_model_module_version": "1.2.0",
            "_model_name": "LayoutModel",
            "_view_count": null,
            "_view_module": "@jupyter-widgets/base",
            "_view_module_version": "1.2.0",
            "_view_name": "LayoutView",
            "align_content": null,
            "align_items": null,
            "align_self": null,
            "border": null,
            "bottom": null,
            "display": null,
            "flex": null,
            "flex_flow": null,
            "grid_area": null,
            "grid_auto_columns": null,
            "grid_auto_flow": null,
            "grid_auto_rows": null,
            "grid_column": null,
            "grid_gap": null,
            "grid_row": null,
            "grid_template_areas": null,
            "grid_template_columns": null,
            "grid_template_rows": null,
            "height": null,
            "justify_content": null,
            "justify_items": null,
            "left": null,
            "margin": null,
            "max_height": null,
            "max_width": null,
            "min_height": null,
            "min_width": null,
            "object_fit": null,
            "object_position": null,
            "order": null,
            "overflow": null,
            "overflow_x": null,
            "overflow_y": null,
            "padding": null,
            "right": null,
            "top": null,
            "visibility": null,
            "width": null
          }
        },
        "5e9a65751cc84cc8adf7233f23153726": {
          "model_module": "@jupyter-widgets/controls",
          "model_name": "DescriptionStyleModel",
          "model_module_version": "1.5.0",
          "state": {
            "_model_module": "@jupyter-widgets/controls",
            "_model_module_version": "1.5.0",
            "_model_name": "DescriptionStyleModel",
            "_view_count": null,
            "_view_module": "@jupyter-widgets/base",
            "_view_module_version": "1.2.0",
            "_view_name": "StyleView",
            "description_width": ""
          }
        },
        "b44f76c7e5c64aa198914277fcd0c8d3": {
          "model_module": "@jupyter-widgets/controls",
          "model_name": "HBoxModel",
          "model_module_version": "1.5.0",
          "state": {
            "_dom_classes": [],
            "_model_module": "@jupyter-widgets/controls",
            "_model_module_version": "1.5.0",
            "_model_name": "HBoxModel",
            "_view_count": null,
            "_view_module": "@jupyter-widgets/controls",
            "_view_module_version": "1.5.0",
            "_view_name": "HBoxView",
            "box_style": "",
            "children": [
              "IPY_MODEL_dac21f5b3b504599b61406f2b64f763d",
              "IPY_MODEL_a727ecd661dc4e49b3543cf23c91b27c",
              "IPY_MODEL_9640a69b3cf24ad7b8e6ed5fb7b14b39"
            ],
            "layout": "IPY_MODEL_07b375ad78b24561915ebe3dd13649ee"
          }
        },
        "dac21f5b3b504599b61406f2b64f763d": {
          "model_module": "@jupyter-widgets/controls",
          "model_name": "HTMLModel",
          "model_module_version": "1.5.0",
          "state": {
            "_dom_classes": [],
            "_model_module": "@jupyter-widgets/controls",
            "_model_module_version": "1.5.0",
            "_model_name": "HTMLModel",
            "_view_count": null,
            "_view_module": "@jupyter-widgets/controls",
            "_view_module_version": "1.5.0",
            "_view_name": "HTMLView",
            "description": "",
            "description_tooltip": null,
            "layout": "IPY_MODEL_8c5630cc67c2416381e281e5c3011797",
            "placeholder": "​",
            "style": "IPY_MODEL_3823e64261c34ba7a5e37c166bb81347",
            "value": "README.md: 100%"
          }
        },
        "a727ecd661dc4e49b3543cf23c91b27c": {
          "model_module": "@jupyter-widgets/controls",
          "model_name": "FloatProgressModel",
          "model_module_version": "1.5.0",
          "state": {
            "_dom_classes": [],
            "_model_module": "@jupyter-widgets/controls",
            "_model_module_version": "1.5.0",
            "_model_name": "FloatProgressModel",
            "_view_count": null,
            "_view_module": "@jupyter-widgets/controls",
            "_view_module_version": "1.5.0",
            "_view_name": "ProgressView",
            "bar_style": "success",
            "description": "",
            "description_tooltip": null,
            "layout": "IPY_MODEL_0e13ab7495424fa5bf8ebf49a5a57018",
            "max": 10621,
            "min": 0,
            "orientation": "horizontal",
            "style": "IPY_MODEL_45494e9801ea469aaa0dea835cca28ae",
            "value": 10621
          }
        },
        "9640a69b3cf24ad7b8e6ed5fb7b14b39": {
          "model_module": "@jupyter-widgets/controls",
          "model_name": "HTMLModel",
          "model_module_version": "1.5.0",
          "state": {
            "_dom_classes": [],
            "_model_module": "@jupyter-widgets/controls",
            "_model_module_version": "1.5.0",
            "_model_name": "HTMLModel",
            "_view_count": null,
            "_view_module": "@jupyter-widgets/controls",
            "_view_module_version": "1.5.0",
            "_view_name": "HTMLView",
            "description": "",
            "description_tooltip": null,
            "layout": "IPY_MODEL_d35425112fcc4da4a26384aa8ea6c8b6",
            "placeholder": "​",
            "style": "IPY_MODEL_f95936bfc0b341728a35b887090c842b",
            "value": " 10.6k/10.6k [00:00&lt;00:00, 551kB/s]"
          }
        },
        "07b375ad78b24561915ebe3dd13649ee": {
          "model_module": "@jupyter-widgets/base",
          "model_name": "LayoutModel",
          "model_module_version": "1.2.0",
          "state": {
            "_model_module": "@jupyter-widgets/base",
            "_model_module_version": "1.2.0",
            "_model_name": "LayoutModel",
            "_view_count": null,
            "_view_module": "@jupyter-widgets/base",
            "_view_module_version": "1.2.0",
            "_view_name": "LayoutView",
            "align_content": null,
            "align_items": null,
            "align_self": null,
            "border": null,
            "bottom": null,
            "display": null,
            "flex": null,
            "flex_flow": null,
            "grid_area": null,
            "grid_auto_columns": null,
            "grid_auto_flow": null,
            "grid_auto_rows": null,
            "grid_column": null,
            "grid_gap": null,
            "grid_row": null,
            "grid_template_areas": null,
            "grid_template_columns": null,
            "grid_template_rows": null,
            "height": null,
            "justify_content": null,
            "justify_items": null,
            "left": null,
            "margin": null,
            "max_height": null,
            "max_width": null,
            "min_height": null,
            "min_width": null,
            "object_fit": null,
            "object_position": null,
            "order": null,
            "overflow": null,
            "overflow_x": null,
            "overflow_y": null,
            "padding": null,
            "right": null,
            "top": null,
            "visibility": null,
            "width": null
          }
        },
        "8c5630cc67c2416381e281e5c3011797": {
          "model_module": "@jupyter-widgets/base",
          "model_name": "LayoutModel",
          "model_module_version": "1.2.0",
          "state": {
            "_model_module": "@jupyter-widgets/base",
            "_model_module_version": "1.2.0",
            "_model_name": "LayoutModel",
            "_view_count": null,
            "_view_module": "@jupyter-widgets/base",
            "_view_module_version": "1.2.0",
            "_view_name": "LayoutView",
            "align_content": null,
            "align_items": null,
            "align_self": null,
            "border": null,
            "bottom": null,
            "display": null,
            "flex": null,
            "flex_flow": null,
            "grid_area": null,
            "grid_auto_columns": null,
            "grid_auto_flow": null,
            "grid_auto_rows": null,
            "grid_column": null,
            "grid_gap": null,
            "grid_row": null,
            "grid_template_areas": null,
            "grid_template_columns": null,
            "grid_template_rows": null,
            "height": null,
            "justify_content": null,
            "justify_items": null,
            "left": null,
            "margin": null,
            "max_height": null,
            "max_width": null,
            "min_height": null,
            "min_width": null,
            "object_fit": null,
            "object_position": null,
            "order": null,
            "overflow": null,
            "overflow_x": null,
            "overflow_y": null,
            "padding": null,
            "right": null,
            "top": null,
            "visibility": null,
            "width": null
          }
        },
        "3823e64261c34ba7a5e37c166bb81347": {
          "model_module": "@jupyter-widgets/controls",
          "model_name": "DescriptionStyleModel",
          "model_module_version": "1.5.0",
          "state": {
            "_model_module": "@jupyter-widgets/controls",
            "_model_module_version": "1.5.0",
            "_model_name": "DescriptionStyleModel",
            "_view_count": null,
            "_view_module": "@jupyter-widgets/base",
            "_view_module_version": "1.2.0",
            "_view_name": "StyleView",
            "description_width": ""
          }
        },
        "0e13ab7495424fa5bf8ebf49a5a57018": {
          "model_module": "@jupyter-widgets/base",
          "model_name": "LayoutModel",
          "model_module_version": "1.2.0",
          "state": {
            "_model_module": "@jupyter-widgets/base",
            "_model_module_version": "1.2.0",
            "_model_name": "LayoutModel",
            "_view_count": null,
            "_view_module": "@jupyter-widgets/base",
            "_view_module_version": "1.2.0",
            "_view_name": "LayoutView",
            "align_content": null,
            "align_items": null,
            "align_self": null,
            "border": null,
            "bottom": null,
            "display": null,
            "flex": null,
            "flex_flow": null,
            "grid_area": null,
            "grid_auto_columns": null,
            "grid_auto_flow": null,
            "grid_auto_rows": null,
            "grid_column": null,
            "grid_gap": null,
            "grid_row": null,
            "grid_template_areas": null,
            "grid_template_columns": null,
            "grid_template_rows": null,
            "height": null,
            "justify_content": null,
            "justify_items": null,
            "left": null,
            "margin": null,
            "max_height": null,
            "max_width": null,
            "min_height": null,
            "min_width": null,
            "object_fit": null,
            "object_position": null,
            "order": null,
            "overflow": null,
            "overflow_x": null,
            "overflow_y": null,
            "padding": null,
            "right": null,
            "top": null,
            "visibility": null,
            "width": null
          }
        },
        "45494e9801ea469aaa0dea835cca28ae": {
          "model_module": "@jupyter-widgets/controls",
          "model_name": "ProgressStyleModel",
          "model_module_version": "1.5.0",
          "state": {
            "_model_module": "@jupyter-widgets/controls",
            "_model_module_version": "1.5.0",
            "_model_name": "ProgressStyleModel",
            "_view_count": null,
            "_view_module": "@jupyter-widgets/base",
            "_view_module_version": "1.2.0",
            "_view_name": "StyleView",
            "bar_color": null,
            "description_width": ""
          }
        },
        "d35425112fcc4da4a26384aa8ea6c8b6": {
          "model_module": "@jupyter-widgets/base",
          "model_name": "LayoutModel",
          "model_module_version": "1.2.0",
          "state": {
            "_model_module": "@jupyter-widgets/base",
            "_model_module_version": "1.2.0",
            "_model_name": "LayoutModel",
            "_view_count": null,
            "_view_module": "@jupyter-widgets/base",
            "_view_module_version": "1.2.0",
            "_view_name": "LayoutView",
            "align_content": null,
            "align_items": null,
            "align_self": null,
            "border": null,
            "bottom": null,
            "display": null,
            "flex": null,
            "flex_flow": null,
            "grid_area": null,
            "grid_auto_columns": null,
            "grid_auto_flow": null,
            "grid_auto_rows": null,
            "grid_column": null,
            "grid_gap": null,
            "grid_row": null,
            "grid_template_areas": null,
            "grid_template_columns": null,
            "grid_template_rows": null,
            "height": null,
            "justify_content": null,
            "justify_items": null,
            "left": null,
            "margin": null,
            "max_height": null,
            "max_width": null,
            "min_height": null,
            "min_width": null,
            "object_fit": null,
            "object_position": null,
            "order": null,
            "overflow": null,
            "overflow_x": null,
            "overflow_y": null,
            "padding": null,
            "right": null,
            "top": null,
            "visibility": null,
            "width": null
          }
        },
        "f95936bfc0b341728a35b887090c842b": {
          "model_module": "@jupyter-widgets/controls",
          "model_name": "DescriptionStyleModel",
          "model_module_version": "1.5.0",
          "state": {
            "_model_module": "@jupyter-widgets/controls",
            "_model_module_version": "1.5.0",
            "_model_name": "DescriptionStyleModel",
            "_view_count": null,
            "_view_module": "@jupyter-widgets/base",
            "_view_module_version": "1.2.0",
            "_view_name": "StyleView",
            "description_width": ""
          }
        },
        "c98cba0c5e9b430fa610931c055ada65": {
          "model_module": "@jupyter-widgets/controls",
          "model_name": "HBoxModel",
          "model_module_version": "1.5.0",
          "state": {
            "_dom_classes": [],
            "_model_module": "@jupyter-widgets/controls",
            "_model_module_version": "1.5.0",
            "_model_name": "HBoxModel",
            "_view_count": null,
            "_view_module": "@jupyter-widgets/controls",
            "_view_module_version": "1.5.0",
            "_view_name": "HBoxView",
            "box_style": "",
            "children": [
              "IPY_MODEL_75c92c6ba3864f169c0fef26449a9ba2",
              "IPY_MODEL_6e5763acd01041b8853610687a210be6",
              "IPY_MODEL_0f2a512214a34c819dcc1dc376e56942"
            ],
            "layout": "IPY_MODEL_56139f669d3a4aa1a41c8250eff1e5f2"
          }
        },
        "75c92c6ba3864f169c0fef26449a9ba2": {
          "model_module": "@jupyter-widgets/controls",
          "model_name": "HTMLModel",
          "model_module_version": "1.5.0",
          "state": {
            "_dom_classes": [],
            "_model_module": "@jupyter-widgets/controls",
            "_model_module_version": "1.5.0",
            "_model_name": "HTMLModel",
            "_view_count": null,
            "_view_module": "@jupyter-widgets/controls",
            "_view_module_version": "1.5.0",
            "_view_name": "HTMLView",
            "description": "",
            "description_tooltip": null,
            "layout": "IPY_MODEL_13fb09cbc25c467e93265786985f1e85",
            "placeholder": "​",
            "style": "IPY_MODEL_9d07e0f08fa1449cbcc5e45b8c8f496c",
            "value": "sentence_bert_config.json: 100%"
          }
        },
        "6e5763acd01041b8853610687a210be6": {
          "model_module": "@jupyter-widgets/controls",
          "model_name": "FloatProgressModel",
          "model_module_version": "1.5.0",
          "state": {
            "_dom_classes": [],
            "_model_module": "@jupyter-widgets/controls",
            "_model_module_version": "1.5.0",
            "_model_name": "FloatProgressModel",
            "_view_count": null,
            "_view_module": "@jupyter-widgets/controls",
            "_view_module_version": "1.5.0",
            "_view_name": "ProgressView",
            "bar_style": "success",
            "description": "",
            "description_tooltip": null,
            "layout": "IPY_MODEL_bee21cceefcd4649b9ce54b1a787d37b",
            "max": 53,
            "min": 0,
            "orientation": "horizontal",
            "style": "IPY_MODEL_5db0058043d4449fa03376658f6f4f57",
            "value": 53
          }
        },
        "0f2a512214a34c819dcc1dc376e56942": {
          "model_module": "@jupyter-widgets/controls",
          "model_name": "HTMLModel",
          "model_module_version": "1.5.0",
          "state": {
            "_dom_classes": [],
            "_model_module": "@jupyter-widgets/controls",
            "_model_module_version": "1.5.0",
            "_model_name": "HTMLModel",
            "_view_count": null,
            "_view_module": "@jupyter-widgets/controls",
            "_view_module_version": "1.5.0",
            "_view_name": "HTMLView",
            "description": "",
            "description_tooltip": null,
            "layout": "IPY_MODEL_ad3567bffd3944a5b1d78bb544829d28",
            "placeholder": "​",
            "style": "IPY_MODEL_aa1e74b7093f419a9e2473293233c564",
            "value": " 53.0/53.0 [00:00&lt;00:00, 2.41kB/s]"
          }
        },
        "56139f669d3a4aa1a41c8250eff1e5f2": {
          "model_module": "@jupyter-widgets/base",
          "model_name": "LayoutModel",
          "model_module_version": "1.2.0",
          "state": {
            "_model_module": "@jupyter-widgets/base",
            "_model_module_version": "1.2.0",
            "_model_name": "LayoutModel",
            "_view_count": null,
            "_view_module": "@jupyter-widgets/base",
            "_view_module_version": "1.2.0",
            "_view_name": "LayoutView",
            "align_content": null,
            "align_items": null,
            "align_self": null,
            "border": null,
            "bottom": null,
            "display": null,
            "flex": null,
            "flex_flow": null,
            "grid_area": null,
            "grid_auto_columns": null,
            "grid_auto_flow": null,
            "grid_auto_rows": null,
            "grid_column": null,
            "grid_gap": null,
            "grid_row": null,
            "grid_template_areas": null,
            "grid_template_columns": null,
            "grid_template_rows": null,
            "height": null,
            "justify_content": null,
            "justify_items": null,
            "left": null,
            "margin": null,
            "max_height": null,
            "max_width": null,
            "min_height": null,
            "min_width": null,
            "object_fit": null,
            "object_position": null,
            "order": null,
            "overflow": null,
            "overflow_x": null,
            "overflow_y": null,
            "padding": null,
            "right": null,
            "top": null,
            "visibility": null,
            "width": null
          }
        },
        "13fb09cbc25c467e93265786985f1e85": {
          "model_module": "@jupyter-widgets/base",
          "model_name": "LayoutModel",
          "model_module_version": "1.2.0",
          "state": {
            "_model_module": "@jupyter-widgets/base",
            "_model_module_version": "1.2.0",
            "_model_name": "LayoutModel",
            "_view_count": null,
            "_view_module": "@jupyter-widgets/base",
            "_view_module_version": "1.2.0",
            "_view_name": "LayoutView",
            "align_content": null,
            "align_items": null,
            "align_self": null,
            "border": null,
            "bottom": null,
            "display": null,
            "flex": null,
            "flex_flow": null,
            "grid_area": null,
            "grid_auto_columns": null,
            "grid_auto_flow": null,
            "grid_auto_rows": null,
            "grid_column": null,
            "grid_gap": null,
            "grid_row": null,
            "grid_template_areas": null,
            "grid_template_columns": null,
            "grid_template_rows": null,
            "height": null,
            "justify_content": null,
            "justify_items": null,
            "left": null,
            "margin": null,
            "max_height": null,
            "max_width": null,
            "min_height": null,
            "min_width": null,
            "object_fit": null,
            "object_position": null,
            "order": null,
            "overflow": null,
            "overflow_x": null,
            "overflow_y": null,
            "padding": null,
            "right": null,
            "top": null,
            "visibility": null,
            "width": null
          }
        },
        "9d07e0f08fa1449cbcc5e45b8c8f496c": {
          "model_module": "@jupyter-widgets/controls",
          "model_name": "DescriptionStyleModel",
          "model_module_version": "1.5.0",
          "state": {
            "_model_module": "@jupyter-widgets/controls",
            "_model_module_version": "1.5.0",
            "_model_name": "DescriptionStyleModel",
            "_view_count": null,
            "_view_module": "@jupyter-widgets/base",
            "_view_module_version": "1.2.0",
            "_view_name": "StyleView",
            "description_width": ""
          }
        },
        "bee21cceefcd4649b9ce54b1a787d37b": {
          "model_module": "@jupyter-widgets/base",
          "model_name": "LayoutModel",
          "model_module_version": "1.2.0",
          "state": {
            "_model_module": "@jupyter-widgets/base",
            "_model_module_version": "1.2.0",
            "_model_name": "LayoutModel",
            "_view_count": null,
            "_view_module": "@jupyter-widgets/base",
            "_view_module_version": "1.2.0",
            "_view_name": "LayoutView",
            "align_content": null,
            "align_items": null,
            "align_self": null,
            "border": null,
            "bottom": null,
            "display": null,
            "flex": null,
            "flex_flow": null,
            "grid_area": null,
            "grid_auto_columns": null,
            "grid_auto_flow": null,
            "grid_auto_rows": null,
            "grid_column": null,
            "grid_gap": null,
            "grid_row": null,
            "grid_template_areas": null,
            "grid_template_columns": null,
            "grid_template_rows": null,
            "height": null,
            "justify_content": null,
            "justify_items": null,
            "left": null,
            "margin": null,
            "max_height": null,
            "max_width": null,
            "min_height": null,
            "min_width": null,
            "object_fit": null,
            "object_position": null,
            "order": null,
            "overflow": null,
            "overflow_x": null,
            "overflow_y": null,
            "padding": null,
            "right": null,
            "top": null,
            "visibility": null,
            "width": null
          }
        },
        "5db0058043d4449fa03376658f6f4f57": {
          "model_module": "@jupyter-widgets/controls",
          "model_name": "ProgressStyleModel",
          "model_module_version": "1.5.0",
          "state": {
            "_model_module": "@jupyter-widgets/controls",
            "_model_module_version": "1.5.0",
            "_model_name": "ProgressStyleModel",
            "_view_count": null,
            "_view_module": "@jupyter-widgets/base",
            "_view_module_version": "1.2.0",
            "_view_name": "StyleView",
            "bar_color": null,
            "description_width": ""
          }
        },
        "ad3567bffd3944a5b1d78bb544829d28": {
          "model_module": "@jupyter-widgets/base",
          "model_name": "LayoutModel",
          "model_module_version": "1.2.0",
          "state": {
            "_model_module": "@jupyter-widgets/base",
            "_model_module_version": "1.2.0",
            "_model_name": "LayoutModel",
            "_view_count": null,
            "_view_module": "@jupyter-widgets/base",
            "_view_module_version": "1.2.0",
            "_view_name": "LayoutView",
            "align_content": null,
            "align_items": null,
            "align_self": null,
            "border": null,
            "bottom": null,
            "display": null,
            "flex": null,
            "flex_flow": null,
            "grid_area": null,
            "grid_auto_columns": null,
            "grid_auto_flow": null,
            "grid_auto_rows": null,
            "grid_column": null,
            "grid_gap": null,
            "grid_row": null,
            "grid_template_areas": null,
            "grid_template_columns": null,
            "grid_template_rows": null,
            "height": null,
            "justify_content": null,
            "justify_items": null,
            "left": null,
            "margin": null,
            "max_height": null,
            "max_width": null,
            "min_height": null,
            "min_width": null,
            "object_fit": null,
            "object_position": null,
            "order": null,
            "overflow": null,
            "overflow_x": null,
            "overflow_y": null,
            "padding": null,
            "right": null,
            "top": null,
            "visibility": null,
            "width": null
          }
        },
        "aa1e74b7093f419a9e2473293233c564": {
          "model_module": "@jupyter-widgets/controls",
          "model_name": "DescriptionStyleModel",
          "model_module_version": "1.5.0",
          "state": {
            "_model_module": "@jupyter-widgets/controls",
            "_model_module_version": "1.5.0",
            "_model_name": "DescriptionStyleModel",
            "_view_count": null,
            "_view_module": "@jupyter-widgets/base",
            "_view_module_version": "1.2.0",
            "_view_name": "StyleView",
            "description_width": ""
          }
        },
        "cfa32b9a6d494ce68e124e0586ff48c5": {
          "model_module": "@jupyter-widgets/controls",
          "model_name": "HBoxModel",
          "model_module_version": "1.5.0",
          "state": {
            "_dom_classes": [],
            "_model_module": "@jupyter-widgets/controls",
            "_model_module_version": "1.5.0",
            "_model_name": "HBoxModel",
            "_view_count": null,
            "_view_module": "@jupyter-widgets/controls",
            "_view_module_version": "1.5.0",
            "_view_name": "HBoxView",
            "box_style": "",
            "children": [
              "IPY_MODEL_4fce5c8acd6c4fa8a07eb98394bd1263",
              "IPY_MODEL_cf920b7bdc244e9ca566bab01df6d328",
              "IPY_MODEL_2212c5a328c84eb48a2d4d57985869e6"
            ],
            "layout": "IPY_MODEL_e108f6a18fb14667812cf56fe56f8c7e"
          }
        },
        "4fce5c8acd6c4fa8a07eb98394bd1263": {
          "model_module": "@jupyter-widgets/controls",
          "model_name": "HTMLModel",
          "model_module_version": "1.5.0",
          "state": {
            "_dom_classes": [],
            "_model_module": "@jupyter-widgets/controls",
            "_model_module_version": "1.5.0",
            "_model_name": "HTMLModel",
            "_view_count": null,
            "_view_module": "@jupyter-widgets/controls",
            "_view_module_version": "1.5.0",
            "_view_name": "HTMLView",
            "description": "",
            "description_tooltip": null,
            "layout": "IPY_MODEL_ae9d7cc4caac4e0fadaf679d3aec31f7",
            "placeholder": "​",
            "style": "IPY_MODEL_78871a638a964822836b047550ef5f34",
            "value": "config.json: 100%"
          }
        },
        "cf920b7bdc244e9ca566bab01df6d328": {
          "model_module": "@jupyter-widgets/controls",
          "model_name": "FloatProgressModel",
          "model_module_version": "1.5.0",
          "state": {
            "_dom_classes": [],
            "_model_module": "@jupyter-widgets/controls",
            "_model_module_version": "1.5.0",
            "_model_name": "FloatProgressModel",
            "_view_count": null,
            "_view_module": "@jupyter-widgets/controls",
            "_view_module_version": "1.5.0",
            "_view_name": "ProgressView",
            "bar_style": "success",
            "description": "",
            "description_tooltip": null,
            "layout": "IPY_MODEL_aef02f70aa1f4bf6a1ddca732ae0b494",
            "max": 571,
            "min": 0,
            "orientation": "horizontal",
            "style": "IPY_MODEL_44556f4617aa4c78a39bea99d12b2968",
            "value": 571
          }
        },
        "2212c5a328c84eb48a2d4d57985869e6": {
          "model_module": "@jupyter-widgets/controls",
          "model_name": "HTMLModel",
          "model_module_version": "1.5.0",
          "state": {
            "_dom_classes": [],
            "_model_module": "@jupyter-widgets/controls",
            "_model_module_version": "1.5.0",
            "_model_name": "HTMLModel",
            "_view_count": null,
            "_view_module": "@jupyter-widgets/controls",
            "_view_module_version": "1.5.0",
            "_view_name": "HTMLView",
            "description": "",
            "description_tooltip": null,
            "layout": "IPY_MODEL_c5cdd8c1dfec40e096c8fa88b0efcccf",
            "placeholder": "​",
            "style": "IPY_MODEL_18d810ee293e4d409973e5b3edd97f29",
            "value": " 571/571 [00:00&lt;00:00, 16.2kB/s]"
          }
        },
        "e108f6a18fb14667812cf56fe56f8c7e": {
          "model_module": "@jupyter-widgets/base",
          "model_name": "LayoutModel",
          "model_module_version": "1.2.0",
          "state": {
            "_model_module": "@jupyter-widgets/base",
            "_model_module_version": "1.2.0",
            "_model_name": "LayoutModel",
            "_view_count": null,
            "_view_module": "@jupyter-widgets/base",
            "_view_module_version": "1.2.0",
            "_view_name": "LayoutView",
            "align_content": null,
            "align_items": null,
            "align_self": null,
            "border": null,
            "bottom": null,
            "display": null,
            "flex": null,
            "flex_flow": null,
            "grid_area": null,
            "grid_auto_columns": null,
            "grid_auto_flow": null,
            "grid_auto_rows": null,
            "grid_column": null,
            "grid_gap": null,
            "grid_row": null,
            "grid_template_areas": null,
            "grid_template_columns": null,
            "grid_template_rows": null,
            "height": null,
            "justify_content": null,
            "justify_items": null,
            "left": null,
            "margin": null,
            "max_height": null,
            "max_width": null,
            "min_height": null,
            "min_width": null,
            "object_fit": null,
            "object_position": null,
            "order": null,
            "overflow": null,
            "overflow_x": null,
            "overflow_y": null,
            "padding": null,
            "right": null,
            "top": null,
            "visibility": null,
            "width": null
          }
        },
        "ae9d7cc4caac4e0fadaf679d3aec31f7": {
          "model_module": "@jupyter-widgets/base",
          "model_name": "LayoutModel",
          "model_module_version": "1.2.0",
          "state": {
            "_model_module": "@jupyter-widgets/base",
            "_model_module_version": "1.2.0",
            "_model_name": "LayoutModel",
            "_view_count": null,
            "_view_module": "@jupyter-widgets/base",
            "_view_module_version": "1.2.0",
            "_view_name": "LayoutView",
            "align_content": null,
            "align_items": null,
            "align_self": null,
            "border": null,
            "bottom": null,
            "display": null,
            "flex": null,
            "flex_flow": null,
            "grid_area": null,
            "grid_auto_columns": null,
            "grid_auto_flow": null,
            "grid_auto_rows": null,
            "grid_column": null,
            "grid_gap": null,
            "grid_row": null,
            "grid_template_areas": null,
            "grid_template_columns": null,
            "grid_template_rows": null,
            "height": null,
            "justify_content": null,
            "justify_items": null,
            "left": null,
            "margin": null,
            "max_height": null,
            "max_width": null,
            "min_height": null,
            "min_width": null,
            "object_fit": null,
            "object_position": null,
            "order": null,
            "overflow": null,
            "overflow_x": null,
            "overflow_y": null,
            "padding": null,
            "right": null,
            "top": null,
            "visibility": null,
            "width": null
          }
        },
        "78871a638a964822836b047550ef5f34": {
          "model_module": "@jupyter-widgets/controls",
          "model_name": "DescriptionStyleModel",
          "model_module_version": "1.5.0",
          "state": {
            "_model_module": "@jupyter-widgets/controls",
            "_model_module_version": "1.5.0",
            "_model_name": "DescriptionStyleModel",
            "_view_count": null,
            "_view_module": "@jupyter-widgets/base",
            "_view_module_version": "1.2.0",
            "_view_name": "StyleView",
            "description_width": ""
          }
        },
        "aef02f70aa1f4bf6a1ddca732ae0b494": {
          "model_module": "@jupyter-widgets/base",
          "model_name": "LayoutModel",
          "model_module_version": "1.2.0",
          "state": {
            "_model_module": "@jupyter-widgets/base",
            "_model_module_version": "1.2.0",
            "_model_name": "LayoutModel",
            "_view_count": null,
            "_view_module": "@jupyter-widgets/base",
            "_view_module_version": "1.2.0",
            "_view_name": "LayoutView",
            "align_content": null,
            "align_items": null,
            "align_self": null,
            "border": null,
            "bottom": null,
            "display": null,
            "flex": null,
            "flex_flow": null,
            "grid_area": null,
            "grid_auto_columns": null,
            "grid_auto_flow": null,
            "grid_auto_rows": null,
            "grid_column": null,
            "grid_gap": null,
            "grid_row": null,
            "grid_template_areas": null,
            "grid_template_columns": null,
            "grid_template_rows": null,
            "height": null,
            "justify_content": null,
            "justify_items": null,
            "left": null,
            "margin": null,
            "max_height": null,
            "max_width": null,
            "min_height": null,
            "min_width": null,
            "object_fit": null,
            "object_position": null,
            "order": null,
            "overflow": null,
            "overflow_x": null,
            "overflow_y": null,
            "padding": null,
            "right": null,
            "top": null,
            "visibility": null,
            "width": null
          }
        },
        "44556f4617aa4c78a39bea99d12b2968": {
          "model_module": "@jupyter-widgets/controls",
          "model_name": "ProgressStyleModel",
          "model_module_version": "1.5.0",
          "state": {
            "_model_module": "@jupyter-widgets/controls",
            "_model_module_version": "1.5.0",
            "_model_name": "ProgressStyleModel",
            "_view_count": null,
            "_view_module": "@jupyter-widgets/base",
            "_view_module_version": "1.2.0",
            "_view_name": "StyleView",
            "bar_color": null,
            "description_width": ""
          }
        },
        "c5cdd8c1dfec40e096c8fa88b0efcccf": {
          "model_module": "@jupyter-widgets/base",
          "model_name": "LayoutModel",
          "model_module_version": "1.2.0",
          "state": {
            "_model_module": "@jupyter-widgets/base",
            "_model_module_version": "1.2.0",
            "_model_name": "LayoutModel",
            "_view_count": null,
            "_view_module": "@jupyter-widgets/base",
            "_view_module_version": "1.2.0",
            "_view_name": "LayoutView",
            "align_content": null,
            "align_items": null,
            "align_self": null,
            "border": null,
            "bottom": null,
            "display": null,
            "flex": null,
            "flex_flow": null,
            "grid_area": null,
            "grid_auto_columns": null,
            "grid_auto_flow": null,
            "grid_auto_rows": null,
            "grid_column": null,
            "grid_gap": null,
            "grid_row": null,
            "grid_template_areas": null,
            "grid_template_columns": null,
            "grid_template_rows": null,
            "height": null,
            "justify_content": null,
            "justify_items": null,
            "left": null,
            "margin": null,
            "max_height": null,
            "max_width": null,
            "min_height": null,
            "min_width": null,
            "object_fit": null,
            "object_position": null,
            "order": null,
            "overflow": null,
            "overflow_x": null,
            "overflow_y": null,
            "padding": null,
            "right": null,
            "top": null,
            "visibility": null,
            "width": null
          }
        },
        "18d810ee293e4d409973e5b3edd97f29": {
          "model_module": "@jupyter-widgets/controls",
          "model_name": "DescriptionStyleModel",
          "model_module_version": "1.5.0",
          "state": {
            "_model_module": "@jupyter-widgets/controls",
            "_model_module_version": "1.5.0",
            "_model_name": "DescriptionStyleModel",
            "_view_count": null,
            "_view_module": "@jupyter-widgets/base",
            "_view_module_version": "1.2.0",
            "_view_name": "StyleView",
            "description_width": ""
          }
        },
        "c9a21b69d7c1495a929fe1f9fb9e0a46": {
          "model_module": "@jupyter-widgets/controls",
          "model_name": "HBoxModel",
          "model_module_version": "1.5.0",
          "state": {
            "_dom_classes": [],
            "_model_module": "@jupyter-widgets/controls",
            "_model_module_version": "1.5.0",
            "_model_name": "HBoxModel",
            "_view_count": null,
            "_view_module": "@jupyter-widgets/controls",
            "_view_module_version": "1.5.0",
            "_view_name": "HBoxView",
            "box_style": "",
            "children": [
              "IPY_MODEL_2f650218ff9e411ba0a7d82103ee642f",
              "IPY_MODEL_b819affa68eb40d1b765bfcd8c05e01c",
              "IPY_MODEL_8ccc2386197e4e339f50e5a77e8a3d04"
            ],
            "layout": "IPY_MODEL_a7148278c6944da8ba94ecaecee9f5dd"
          }
        },
        "2f650218ff9e411ba0a7d82103ee642f": {
          "model_module": "@jupyter-widgets/controls",
          "model_name": "HTMLModel",
          "model_module_version": "1.5.0",
          "state": {
            "_dom_classes": [],
            "_model_module": "@jupyter-widgets/controls",
            "_model_module_version": "1.5.0",
            "_model_name": "HTMLModel",
            "_view_count": null,
            "_view_module": "@jupyter-widgets/controls",
            "_view_module_version": "1.5.0",
            "_view_name": "HTMLView",
            "description": "",
            "description_tooltip": null,
            "layout": "IPY_MODEL_a59f34f083dc47c9b3c60d3d24ab683e",
            "placeholder": "​",
            "style": "IPY_MODEL_1d241cd9a35b4d23a3ce81d03200ceb2",
            "value": "model.safetensors: 100%"
          }
        },
        "b819affa68eb40d1b765bfcd8c05e01c": {
          "model_module": "@jupyter-widgets/controls",
          "model_name": "FloatProgressModel",
          "model_module_version": "1.5.0",
          "state": {
            "_dom_classes": [],
            "_model_module": "@jupyter-widgets/controls",
            "_model_module_version": "1.5.0",
            "_model_name": "FloatProgressModel",
            "_view_count": null,
            "_view_module": "@jupyter-widgets/controls",
            "_view_module_version": "1.5.0",
            "_view_name": "ProgressView",
            "bar_style": "success",
            "description": "",
            "description_tooltip": null,
            "layout": "IPY_MODEL_346b76fee8a941f0b86c7fd758975443",
            "max": 437971872,
            "min": 0,
            "orientation": "horizontal",
            "style": "IPY_MODEL_dd3e3961f37e4955b6849f812c22b6a2",
            "value": 437971872
          }
        },
        "8ccc2386197e4e339f50e5a77e8a3d04": {
          "model_module": "@jupyter-widgets/controls",
          "model_name": "HTMLModel",
          "model_module_version": "1.5.0",
          "state": {
            "_dom_classes": [],
            "_model_module": "@jupyter-widgets/controls",
            "_model_module_version": "1.5.0",
            "_model_name": "HTMLModel",
            "_view_count": null,
            "_view_module": "@jupyter-widgets/controls",
            "_view_module_version": "1.5.0",
            "_view_name": "HTMLView",
            "description": "",
            "description_tooltip": null,
            "layout": "IPY_MODEL_e2cc85c3af144714b940bb9a3a9f42aa",
            "placeholder": "​",
            "style": "IPY_MODEL_f9ba5c57c00e4640b6c33639fee9ecbc",
            "value": " 438M/438M [00:05&lt;00:00, 98.8MB/s]"
          }
        },
        "a7148278c6944da8ba94ecaecee9f5dd": {
          "model_module": "@jupyter-widgets/base",
          "model_name": "LayoutModel",
          "model_module_version": "1.2.0",
          "state": {
            "_model_module": "@jupyter-widgets/base",
            "_model_module_version": "1.2.0",
            "_model_name": "LayoutModel",
            "_view_count": null,
            "_view_module": "@jupyter-widgets/base",
            "_view_module_version": "1.2.0",
            "_view_name": "LayoutView",
            "align_content": null,
            "align_items": null,
            "align_self": null,
            "border": null,
            "bottom": null,
            "display": null,
            "flex": null,
            "flex_flow": null,
            "grid_area": null,
            "grid_auto_columns": null,
            "grid_auto_flow": null,
            "grid_auto_rows": null,
            "grid_column": null,
            "grid_gap": null,
            "grid_row": null,
            "grid_template_areas": null,
            "grid_template_columns": null,
            "grid_template_rows": null,
            "height": null,
            "justify_content": null,
            "justify_items": null,
            "left": null,
            "margin": null,
            "max_height": null,
            "max_width": null,
            "min_height": null,
            "min_width": null,
            "object_fit": null,
            "object_position": null,
            "order": null,
            "overflow": null,
            "overflow_x": null,
            "overflow_y": null,
            "padding": null,
            "right": null,
            "top": null,
            "visibility": null,
            "width": null
          }
        },
        "a59f34f083dc47c9b3c60d3d24ab683e": {
          "model_module": "@jupyter-widgets/base",
          "model_name": "LayoutModel",
          "model_module_version": "1.2.0",
          "state": {
            "_model_module": "@jupyter-widgets/base",
            "_model_module_version": "1.2.0",
            "_model_name": "LayoutModel",
            "_view_count": null,
            "_view_module": "@jupyter-widgets/base",
            "_view_module_version": "1.2.0",
            "_view_name": "LayoutView",
            "align_content": null,
            "align_items": null,
            "align_self": null,
            "border": null,
            "bottom": null,
            "display": null,
            "flex": null,
            "flex_flow": null,
            "grid_area": null,
            "grid_auto_columns": null,
            "grid_auto_flow": null,
            "grid_auto_rows": null,
            "grid_column": null,
            "grid_gap": null,
            "grid_row": null,
            "grid_template_areas": null,
            "grid_template_columns": null,
            "grid_template_rows": null,
            "height": null,
            "justify_content": null,
            "justify_items": null,
            "left": null,
            "margin": null,
            "max_height": null,
            "max_width": null,
            "min_height": null,
            "min_width": null,
            "object_fit": null,
            "object_position": null,
            "order": null,
            "overflow": null,
            "overflow_x": null,
            "overflow_y": null,
            "padding": null,
            "right": null,
            "top": null,
            "visibility": null,
            "width": null
          }
        },
        "1d241cd9a35b4d23a3ce81d03200ceb2": {
          "model_module": "@jupyter-widgets/controls",
          "model_name": "DescriptionStyleModel",
          "model_module_version": "1.5.0",
          "state": {
            "_model_module": "@jupyter-widgets/controls",
            "_model_module_version": "1.5.0",
            "_model_name": "DescriptionStyleModel",
            "_view_count": null,
            "_view_module": "@jupyter-widgets/base",
            "_view_module_version": "1.2.0",
            "_view_name": "StyleView",
            "description_width": ""
          }
        },
        "346b76fee8a941f0b86c7fd758975443": {
          "model_module": "@jupyter-widgets/base",
          "model_name": "LayoutModel",
          "model_module_version": "1.2.0",
          "state": {
            "_model_module": "@jupyter-widgets/base",
            "_model_module_version": "1.2.0",
            "_model_name": "LayoutModel",
            "_view_count": null,
            "_view_module": "@jupyter-widgets/base",
            "_view_module_version": "1.2.0",
            "_view_name": "LayoutView",
            "align_content": null,
            "align_items": null,
            "align_self": null,
            "border": null,
            "bottom": null,
            "display": null,
            "flex": null,
            "flex_flow": null,
            "grid_area": null,
            "grid_auto_columns": null,
            "grid_auto_flow": null,
            "grid_auto_rows": null,
            "grid_column": null,
            "grid_gap": null,
            "grid_row": null,
            "grid_template_areas": null,
            "grid_template_columns": null,
            "grid_template_rows": null,
            "height": null,
            "justify_content": null,
            "justify_items": null,
            "left": null,
            "margin": null,
            "max_height": null,
            "max_width": null,
            "min_height": null,
            "min_width": null,
            "object_fit": null,
            "object_position": null,
            "order": null,
            "overflow": null,
            "overflow_x": null,
            "overflow_y": null,
            "padding": null,
            "right": null,
            "top": null,
            "visibility": null,
            "width": null
          }
        },
        "dd3e3961f37e4955b6849f812c22b6a2": {
          "model_module": "@jupyter-widgets/controls",
          "model_name": "ProgressStyleModel",
          "model_module_version": "1.5.0",
          "state": {
            "_model_module": "@jupyter-widgets/controls",
            "_model_module_version": "1.5.0",
            "_model_name": "ProgressStyleModel",
            "_view_count": null,
            "_view_module": "@jupyter-widgets/base",
            "_view_module_version": "1.2.0",
            "_view_name": "StyleView",
            "bar_color": null,
            "description_width": ""
          }
        },
        "e2cc85c3af144714b940bb9a3a9f42aa": {
          "model_module": "@jupyter-widgets/base",
          "model_name": "LayoutModel",
          "model_module_version": "1.2.0",
          "state": {
            "_model_module": "@jupyter-widgets/base",
            "_model_module_version": "1.2.0",
            "_model_name": "LayoutModel",
            "_view_count": null,
            "_view_module": "@jupyter-widgets/base",
            "_view_module_version": "1.2.0",
            "_view_name": "LayoutView",
            "align_content": null,
            "align_items": null,
            "align_self": null,
            "border": null,
            "bottom": null,
            "display": null,
            "flex": null,
            "flex_flow": null,
            "grid_area": null,
            "grid_auto_columns": null,
            "grid_auto_flow": null,
            "grid_auto_rows": null,
            "grid_column": null,
            "grid_gap": null,
            "grid_row": null,
            "grid_template_areas": null,
            "grid_template_columns": null,
            "grid_template_rows": null,
            "height": null,
            "justify_content": null,
            "justify_items": null,
            "left": null,
            "margin": null,
            "max_height": null,
            "max_width": null,
            "min_height": null,
            "min_width": null,
            "object_fit": null,
            "object_position": null,
            "order": null,
            "overflow": null,
            "overflow_x": null,
            "overflow_y": null,
            "padding": null,
            "right": null,
            "top": null,
            "visibility": null,
            "width": null
          }
        },
        "f9ba5c57c00e4640b6c33639fee9ecbc": {
          "model_module": "@jupyter-widgets/controls",
          "model_name": "DescriptionStyleModel",
          "model_module_version": "1.5.0",
          "state": {
            "_model_module": "@jupyter-widgets/controls",
            "_model_module_version": "1.5.0",
            "_model_name": "DescriptionStyleModel",
            "_view_count": null,
            "_view_module": "@jupyter-widgets/base",
            "_view_module_version": "1.2.0",
            "_view_name": "StyleView",
            "description_width": ""
          }
        },
        "3ef6c066cc1f4512b9aaa32c1c7a39f0": {
          "model_module": "@jupyter-widgets/controls",
          "model_name": "HBoxModel",
          "model_module_version": "1.5.0",
          "state": {
            "_dom_classes": [],
            "_model_module": "@jupyter-widgets/controls",
            "_model_module_version": "1.5.0",
            "_model_name": "HBoxModel",
            "_view_count": null,
            "_view_module": "@jupyter-widgets/controls",
            "_view_module_version": "1.5.0",
            "_view_name": "HBoxView",
            "box_style": "",
            "children": [
              "IPY_MODEL_adddcad711bd4e608c96679e8bfdfcac",
              "IPY_MODEL_b89543ccb0b645b9b258ee186a3a10e2",
              "IPY_MODEL_966d270c3c9245a4b542ae1cacd3687e"
            ],
            "layout": "IPY_MODEL_fccdaf21c4144703ba7754422a9c92eb"
          }
        },
        "adddcad711bd4e608c96679e8bfdfcac": {
          "model_module": "@jupyter-widgets/controls",
          "model_name": "HTMLModel",
          "model_module_version": "1.5.0",
          "state": {
            "_dom_classes": [],
            "_model_module": "@jupyter-widgets/controls",
            "_model_module_version": "1.5.0",
            "_model_name": "HTMLModel",
            "_view_count": null,
            "_view_module": "@jupyter-widgets/controls",
            "_view_module_version": "1.5.0",
            "_view_name": "HTMLView",
            "description": "",
            "description_tooltip": null,
            "layout": "IPY_MODEL_80fdd68978174a258536ec3ad1735eb5",
            "placeholder": "​",
            "style": "IPY_MODEL_2c9680c91f8e4f1f9a168902d64c1842",
            "value": "tokenizer_config.json: 100%"
          }
        },
        "b89543ccb0b645b9b258ee186a3a10e2": {
          "model_module": "@jupyter-widgets/controls",
          "model_name": "FloatProgressModel",
          "model_module_version": "1.5.0",
          "state": {
            "_dom_classes": [],
            "_model_module": "@jupyter-widgets/controls",
            "_model_module_version": "1.5.0",
            "_model_name": "FloatProgressModel",
            "_view_count": null,
            "_view_module": "@jupyter-widgets/controls",
            "_view_module_version": "1.5.0",
            "_view_name": "ProgressView",
            "bar_style": "success",
            "description": "",
            "description_tooltip": null,
            "layout": "IPY_MODEL_8ac2501c91d64c9083f85f14ec00e6d2",
            "max": 363,
            "min": 0,
            "orientation": "horizontal",
            "style": "IPY_MODEL_1dda402d616c443ea59fe457a8c3a52d",
            "value": 363
          }
        },
        "966d270c3c9245a4b542ae1cacd3687e": {
          "model_module": "@jupyter-widgets/controls",
          "model_name": "HTMLModel",
          "model_module_version": "1.5.0",
          "state": {
            "_dom_classes": [],
            "_model_module": "@jupyter-widgets/controls",
            "_model_module_version": "1.5.0",
            "_model_name": "HTMLModel",
            "_view_count": null,
            "_view_module": "@jupyter-widgets/controls",
            "_view_module_version": "1.5.0",
            "_view_name": "HTMLView",
            "description": "",
            "description_tooltip": null,
            "layout": "IPY_MODEL_54440f7a5ec242f880f3f6d08d1beaa7",
            "placeholder": "​",
            "style": "IPY_MODEL_1f01e29b07804764af2992f0bb146088",
            "value": " 363/363 [00:00&lt;00:00, 8.11kB/s]"
          }
        },
        "fccdaf21c4144703ba7754422a9c92eb": {
          "model_module": "@jupyter-widgets/base",
          "model_name": "LayoutModel",
          "model_module_version": "1.2.0",
          "state": {
            "_model_module": "@jupyter-widgets/base",
            "_model_module_version": "1.2.0",
            "_model_name": "LayoutModel",
            "_view_count": null,
            "_view_module": "@jupyter-widgets/base",
            "_view_module_version": "1.2.0",
            "_view_name": "LayoutView",
            "align_content": null,
            "align_items": null,
            "align_self": null,
            "border": null,
            "bottom": null,
            "display": null,
            "flex": null,
            "flex_flow": null,
            "grid_area": null,
            "grid_auto_columns": null,
            "grid_auto_flow": null,
            "grid_auto_rows": null,
            "grid_column": null,
            "grid_gap": null,
            "grid_row": null,
            "grid_template_areas": null,
            "grid_template_columns": null,
            "grid_template_rows": null,
            "height": null,
            "justify_content": null,
            "justify_items": null,
            "left": null,
            "margin": null,
            "max_height": null,
            "max_width": null,
            "min_height": null,
            "min_width": null,
            "object_fit": null,
            "object_position": null,
            "order": null,
            "overflow": null,
            "overflow_x": null,
            "overflow_y": null,
            "padding": null,
            "right": null,
            "top": null,
            "visibility": null,
            "width": null
          }
        },
        "80fdd68978174a258536ec3ad1735eb5": {
          "model_module": "@jupyter-widgets/base",
          "model_name": "LayoutModel",
          "model_module_version": "1.2.0",
          "state": {
            "_model_module": "@jupyter-widgets/base",
            "_model_module_version": "1.2.0",
            "_model_name": "LayoutModel",
            "_view_count": null,
            "_view_module": "@jupyter-widgets/base",
            "_view_module_version": "1.2.0",
            "_view_name": "LayoutView",
            "align_content": null,
            "align_items": null,
            "align_self": null,
            "border": null,
            "bottom": null,
            "display": null,
            "flex": null,
            "flex_flow": null,
            "grid_area": null,
            "grid_auto_columns": null,
            "grid_auto_flow": null,
            "grid_auto_rows": null,
            "grid_column": null,
            "grid_gap": null,
            "grid_row": null,
            "grid_template_areas": null,
            "grid_template_columns": null,
            "grid_template_rows": null,
            "height": null,
            "justify_content": null,
            "justify_items": null,
            "left": null,
            "margin": null,
            "max_height": null,
            "max_width": null,
            "min_height": null,
            "min_width": null,
            "object_fit": null,
            "object_position": null,
            "order": null,
            "overflow": null,
            "overflow_x": null,
            "overflow_y": null,
            "padding": null,
            "right": null,
            "top": null,
            "visibility": null,
            "width": null
          }
        },
        "2c9680c91f8e4f1f9a168902d64c1842": {
          "model_module": "@jupyter-widgets/controls",
          "model_name": "DescriptionStyleModel",
          "model_module_version": "1.5.0",
          "state": {
            "_model_module": "@jupyter-widgets/controls",
            "_model_module_version": "1.5.0",
            "_model_name": "DescriptionStyleModel",
            "_view_count": null,
            "_view_module": "@jupyter-widgets/base",
            "_view_module_version": "1.2.0",
            "_view_name": "StyleView",
            "description_width": ""
          }
        },
        "8ac2501c91d64c9083f85f14ec00e6d2": {
          "model_module": "@jupyter-widgets/base",
          "model_name": "LayoutModel",
          "model_module_version": "1.2.0",
          "state": {
            "_model_module": "@jupyter-widgets/base",
            "_model_module_version": "1.2.0",
            "_model_name": "LayoutModel",
            "_view_count": null,
            "_view_module": "@jupyter-widgets/base",
            "_view_module_version": "1.2.0",
            "_view_name": "LayoutView",
            "align_content": null,
            "align_items": null,
            "align_self": null,
            "border": null,
            "bottom": null,
            "display": null,
            "flex": null,
            "flex_flow": null,
            "grid_area": null,
            "grid_auto_columns": null,
            "grid_auto_flow": null,
            "grid_auto_rows": null,
            "grid_column": null,
            "grid_gap": null,
            "grid_row": null,
            "grid_template_areas": null,
            "grid_template_columns": null,
            "grid_template_rows": null,
            "height": null,
            "justify_content": null,
            "justify_items": null,
            "left": null,
            "margin": null,
            "max_height": null,
            "max_width": null,
            "min_height": null,
            "min_width": null,
            "object_fit": null,
            "object_position": null,
            "order": null,
            "overflow": null,
            "overflow_x": null,
            "overflow_y": null,
            "padding": null,
            "right": null,
            "top": null,
            "visibility": null,
            "width": null
          }
        },
        "1dda402d616c443ea59fe457a8c3a52d": {
          "model_module": "@jupyter-widgets/controls",
          "model_name": "ProgressStyleModel",
          "model_module_version": "1.5.0",
          "state": {
            "_model_module": "@jupyter-widgets/controls",
            "_model_module_version": "1.5.0",
            "_model_name": "ProgressStyleModel",
            "_view_count": null,
            "_view_module": "@jupyter-widgets/base",
            "_view_module_version": "1.2.0",
            "_view_name": "StyleView",
            "bar_color": null,
            "description_width": ""
          }
        },
        "54440f7a5ec242f880f3f6d08d1beaa7": {
          "model_module": "@jupyter-widgets/base",
          "model_name": "LayoutModel",
          "model_module_version": "1.2.0",
          "state": {
            "_model_module": "@jupyter-widgets/base",
            "_model_module_version": "1.2.0",
            "_model_name": "LayoutModel",
            "_view_count": null,
            "_view_module": "@jupyter-widgets/base",
            "_view_module_version": "1.2.0",
            "_view_name": "LayoutView",
            "align_content": null,
            "align_items": null,
            "align_self": null,
            "border": null,
            "bottom": null,
            "display": null,
            "flex": null,
            "flex_flow": null,
            "grid_area": null,
            "grid_auto_columns": null,
            "grid_auto_flow": null,
            "grid_auto_rows": null,
            "grid_column": null,
            "grid_gap": null,
            "grid_row": null,
            "grid_template_areas": null,
            "grid_template_columns": null,
            "grid_template_rows": null,
            "height": null,
            "justify_content": null,
            "justify_items": null,
            "left": null,
            "margin": null,
            "max_height": null,
            "max_width": null,
            "min_height": null,
            "min_width": null,
            "object_fit": null,
            "object_position": null,
            "order": null,
            "overflow": null,
            "overflow_x": null,
            "overflow_y": null,
            "padding": null,
            "right": null,
            "top": null,
            "visibility": null,
            "width": null
          }
        },
        "1f01e29b07804764af2992f0bb146088": {
          "model_module": "@jupyter-widgets/controls",
          "model_name": "DescriptionStyleModel",
          "model_module_version": "1.5.0",
          "state": {
            "_model_module": "@jupyter-widgets/controls",
            "_model_module_version": "1.5.0",
            "_model_name": "DescriptionStyleModel",
            "_view_count": null,
            "_view_module": "@jupyter-widgets/base",
            "_view_module_version": "1.2.0",
            "_view_name": "StyleView",
            "description_width": ""
          }
        },
        "c1d94aceb14f4848a065bd8ab55b61f9": {
          "model_module": "@jupyter-widgets/controls",
          "model_name": "HBoxModel",
          "model_module_version": "1.5.0",
          "state": {
            "_dom_classes": [],
            "_model_module": "@jupyter-widgets/controls",
            "_model_module_version": "1.5.0",
            "_model_name": "HBoxModel",
            "_view_count": null,
            "_view_module": "@jupyter-widgets/controls",
            "_view_module_version": "1.5.0",
            "_view_name": "HBoxView",
            "box_style": "",
            "children": [
              "IPY_MODEL_a67e4493e1d74efa8f5988ee381aa474",
              "IPY_MODEL_3beb05dc3198446881b7921f3825c187",
              "IPY_MODEL_ded2e40ba27746fea0ef67d32ccb06e9"
            ],
            "layout": "IPY_MODEL_cf9f5d7ff4f84600a0ee2626ac2bdb79"
          }
        },
        "a67e4493e1d74efa8f5988ee381aa474": {
          "model_module": "@jupyter-widgets/controls",
          "model_name": "HTMLModel",
          "model_module_version": "1.5.0",
          "state": {
            "_dom_classes": [],
            "_model_module": "@jupyter-widgets/controls",
            "_model_module_version": "1.5.0",
            "_model_name": "HTMLModel",
            "_view_count": null,
            "_view_module": "@jupyter-widgets/controls",
            "_view_module_version": "1.5.0",
            "_view_name": "HTMLView",
            "description": "",
            "description_tooltip": null,
            "layout": "IPY_MODEL_ca3d4edd58c8495c8d34b208d5ab2028",
            "placeholder": "​",
            "style": "IPY_MODEL_0de4e8f821894961adc6974c31905e63",
            "value": "vocab.txt: 100%"
          }
        },
        "3beb05dc3198446881b7921f3825c187": {
          "model_module": "@jupyter-widgets/controls",
          "model_name": "FloatProgressModel",
          "model_module_version": "1.5.0",
          "state": {
            "_dom_classes": [],
            "_model_module": "@jupyter-widgets/controls",
            "_model_module_version": "1.5.0",
            "_model_name": "FloatProgressModel",
            "_view_count": null,
            "_view_module": "@jupyter-widgets/controls",
            "_view_module_version": "1.5.0",
            "_view_name": "ProgressView",
            "bar_style": "success",
            "description": "",
            "description_tooltip": null,
            "layout": "IPY_MODEL_9eec266331724f2d8d08a12597f4ebd4",
            "max": 231536,
            "min": 0,
            "orientation": "horizontal",
            "style": "IPY_MODEL_7237e60b9c604aeead25b3c85ca0b44c",
            "value": 231536
          }
        },
        "ded2e40ba27746fea0ef67d32ccb06e9": {
          "model_module": "@jupyter-widgets/controls",
          "model_name": "HTMLModel",
          "model_module_version": "1.5.0",
          "state": {
            "_dom_classes": [],
            "_model_module": "@jupyter-widgets/controls",
            "_model_module_version": "1.5.0",
            "_model_name": "HTMLModel",
            "_view_count": null,
            "_view_module": "@jupyter-widgets/controls",
            "_view_module_version": "1.5.0",
            "_view_name": "HTMLView",
            "description": "",
            "description_tooltip": null,
            "layout": "IPY_MODEL_016b43a28c2544b7b5b0a9e38e34c418",
            "placeholder": "​",
            "style": "IPY_MODEL_4de0bcf2f86d48bc8a9b166ed2749284",
            "value": " 232k/232k [00:00&lt;00:00, 3.16MB/s]"
          }
        },
        "cf9f5d7ff4f84600a0ee2626ac2bdb79": {
          "model_module": "@jupyter-widgets/base",
          "model_name": "LayoutModel",
          "model_module_version": "1.2.0",
          "state": {
            "_model_module": "@jupyter-widgets/base",
            "_model_module_version": "1.2.0",
            "_model_name": "LayoutModel",
            "_view_count": null,
            "_view_module": "@jupyter-widgets/base",
            "_view_module_version": "1.2.0",
            "_view_name": "LayoutView",
            "align_content": null,
            "align_items": null,
            "align_self": null,
            "border": null,
            "bottom": null,
            "display": null,
            "flex": null,
            "flex_flow": null,
            "grid_area": null,
            "grid_auto_columns": null,
            "grid_auto_flow": null,
            "grid_auto_rows": null,
            "grid_column": null,
            "grid_gap": null,
            "grid_row": null,
            "grid_template_areas": null,
            "grid_template_columns": null,
            "grid_template_rows": null,
            "height": null,
            "justify_content": null,
            "justify_items": null,
            "left": null,
            "margin": null,
            "max_height": null,
            "max_width": null,
            "min_height": null,
            "min_width": null,
            "object_fit": null,
            "object_position": null,
            "order": null,
            "overflow": null,
            "overflow_x": null,
            "overflow_y": null,
            "padding": null,
            "right": null,
            "top": null,
            "visibility": null,
            "width": null
          }
        },
        "ca3d4edd58c8495c8d34b208d5ab2028": {
          "model_module": "@jupyter-widgets/base",
          "model_name": "LayoutModel",
          "model_module_version": "1.2.0",
          "state": {
            "_model_module": "@jupyter-widgets/base",
            "_model_module_version": "1.2.0",
            "_model_name": "LayoutModel",
            "_view_count": null,
            "_view_module": "@jupyter-widgets/base",
            "_view_module_version": "1.2.0",
            "_view_name": "LayoutView",
            "align_content": null,
            "align_items": null,
            "align_self": null,
            "border": null,
            "bottom": null,
            "display": null,
            "flex": null,
            "flex_flow": null,
            "grid_area": null,
            "grid_auto_columns": null,
            "grid_auto_flow": null,
            "grid_auto_rows": null,
            "grid_column": null,
            "grid_gap": null,
            "grid_row": null,
            "grid_template_areas": null,
            "grid_template_columns": null,
            "grid_template_rows": null,
            "height": null,
            "justify_content": null,
            "justify_items": null,
            "left": null,
            "margin": null,
            "max_height": null,
            "max_width": null,
            "min_height": null,
            "min_width": null,
            "object_fit": null,
            "object_position": null,
            "order": null,
            "overflow": null,
            "overflow_x": null,
            "overflow_y": null,
            "padding": null,
            "right": null,
            "top": null,
            "visibility": null,
            "width": null
          }
        },
        "0de4e8f821894961adc6974c31905e63": {
          "model_module": "@jupyter-widgets/controls",
          "model_name": "DescriptionStyleModel",
          "model_module_version": "1.5.0",
          "state": {
            "_model_module": "@jupyter-widgets/controls",
            "_model_module_version": "1.5.0",
            "_model_name": "DescriptionStyleModel",
            "_view_count": null,
            "_view_module": "@jupyter-widgets/base",
            "_view_module_version": "1.2.0",
            "_view_name": "StyleView",
            "description_width": ""
          }
        },
        "9eec266331724f2d8d08a12597f4ebd4": {
          "model_module": "@jupyter-widgets/base",
          "model_name": "LayoutModel",
          "model_module_version": "1.2.0",
          "state": {
            "_model_module": "@jupyter-widgets/base",
            "_model_module_version": "1.2.0",
            "_model_name": "LayoutModel",
            "_view_count": null,
            "_view_module": "@jupyter-widgets/base",
            "_view_module_version": "1.2.0",
            "_view_name": "LayoutView",
            "align_content": null,
            "align_items": null,
            "align_self": null,
            "border": null,
            "bottom": null,
            "display": null,
            "flex": null,
            "flex_flow": null,
            "grid_area": null,
            "grid_auto_columns": null,
            "grid_auto_flow": null,
            "grid_auto_rows": null,
            "grid_column": null,
            "grid_gap": null,
            "grid_row": null,
            "grid_template_areas": null,
            "grid_template_columns": null,
            "grid_template_rows": null,
            "height": null,
            "justify_content": null,
            "justify_items": null,
            "left": null,
            "margin": null,
            "max_height": null,
            "max_width": null,
            "min_height": null,
            "min_width": null,
            "object_fit": null,
            "object_position": null,
            "order": null,
            "overflow": null,
            "overflow_x": null,
            "overflow_y": null,
            "padding": null,
            "right": null,
            "top": null,
            "visibility": null,
            "width": null
          }
        },
        "7237e60b9c604aeead25b3c85ca0b44c": {
          "model_module": "@jupyter-widgets/controls",
          "model_name": "ProgressStyleModel",
          "model_module_version": "1.5.0",
          "state": {
            "_model_module": "@jupyter-widgets/controls",
            "_model_module_version": "1.5.0",
            "_model_name": "ProgressStyleModel",
            "_view_count": null,
            "_view_module": "@jupyter-widgets/base",
            "_view_module_version": "1.2.0",
            "_view_name": "StyleView",
            "bar_color": null,
            "description_width": ""
          }
        },
        "016b43a28c2544b7b5b0a9e38e34c418": {
          "model_module": "@jupyter-widgets/base",
          "model_name": "LayoutModel",
          "model_module_version": "1.2.0",
          "state": {
            "_model_module": "@jupyter-widgets/base",
            "_model_module_version": "1.2.0",
            "_model_name": "LayoutModel",
            "_view_count": null,
            "_view_module": "@jupyter-widgets/base",
            "_view_module_version": "1.2.0",
            "_view_name": "LayoutView",
            "align_content": null,
            "align_items": null,
            "align_self": null,
            "border": null,
            "bottom": null,
            "display": null,
            "flex": null,
            "flex_flow": null,
            "grid_area": null,
            "grid_auto_columns": null,
            "grid_auto_flow": null,
            "grid_auto_rows": null,
            "grid_column": null,
            "grid_gap": null,
            "grid_row": null,
            "grid_template_areas": null,
            "grid_template_columns": null,
            "grid_template_rows": null,
            "height": null,
            "justify_content": null,
            "justify_items": null,
            "left": null,
            "margin": null,
            "max_height": null,
            "max_width": null,
            "min_height": null,
            "min_width": null,
            "object_fit": null,
            "object_position": null,
            "order": null,
            "overflow": null,
            "overflow_x": null,
            "overflow_y": null,
            "padding": null,
            "right": null,
            "top": null,
            "visibility": null,
            "width": null
          }
        },
        "4de0bcf2f86d48bc8a9b166ed2749284": {
          "model_module": "@jupyter-widgets/controls",
          "model_name": "DescriptionStyleModel",
          "model_module_version": "1.5.0",
          "state": {
            "_model_module": "@jupyter-widgets/controls",
            "_model_module_version": "1.5.0",
            "_model_name": "DescriptionStyleModel",
            "_view_count": null,
            "_view_module": "@jupyter-widgets/base",
            "_view_module_version": "1.2.0",
            "_view_name": "StyleView",
            "description_width": ""
          }
        },
        "6413b073abcf4bdeba306d734f35711a": {
          "model_module": "@jupyter-widgets/controls",
          "model_name": "HBoxModel",
          "model_module_version": "1.5.0",
          "state": {
            "_dom_classes": [],
            "_model_module": "@jupyter-widgets/controls",
            "_model_module_version": "1.5.0",
            "_model_name": "HBoxModel",
            "_view_count": null,
            "_view_module": "@jupyter-widgets/controls",
            "_view_module_version": "1.5.0",
            "_view_name": "HBoxView",
            "box_style": "",
            "children": [
              "IPY_MODEL_98cd8c6d77754c94afa77c82dd93e27f",
              "IPY_MODEL_0d010b1fa0b141fe80b52174bc5602fa",
              "IPY_MODEL_89421337bc114981a708e25afe251987"
            ],
            "layout": "IPY_MODEL_4bd9f293934c42c5abce66b81c5b54c9"
          }
        },
        "98cd8c6d77754c94afa77c82dd93e27f": {
          "model_module": "@jupyter-widgets/controls",
          "model_name": "HTMLModel",
          "model_module_version": "1.5.0",
          "state": {
            "_dom_classes": [],
            "_model_module": "@jupyter-widgets/controls",
            "_model_module_version": "1.5.0",
            "_model_name": "HTMLModel",
            "_view_count": null,
            "_view_module": "@jupyter-widgets/controls",
            "_view_module_version": "1.5.0",
            "_view_name": "HTMLView",
            "description": "",
            "description_tooltip": null,
            "layout": "IPY_MODEL_1e75dba906b043fb905dbc86f96bb30b",
            "placeholder": "​",
            "style": "IPY_MODEL_5d1d63b621774c618b6c8d20b503f02f",
            "value": "tokenizer.json: 100%"
          }
        },
        "0d010b1fa0b141fe80b52174bc5602fa": {
          "model_module": "@jupyter-widgets/controls",
          "model_name": "FloatProgressModel",
          "model_module_version": "1.5.0",
          "state": {
            "_dom_classes": [],
            "_model_module": "@jupyter-widgets/controls",
            "_model_module_version": "1.5.0",
            "_model_name": "FloatProgressModel",
            "_view_count": null,
            "_view_module": "@jupyter-widgets/controls",
            "_view_module_version": "1.5.0",
            "_view_name": "ProgressView",
            "bar_style": "success",
            "description": "",
            "description_tooltip": null,
            "layout": "IPY_MODEL_84a8e8ebf7e8497fb70cbdf21960e99a",
            "max": 466021,
            "min": 0,
            "orientation": "horizontal",
            "style": "IPY_MODEL_4d7177d762e342de8f2719b0c323941c",
            "value": 466021
          }
        },
        "89421337bc114981a708e25afe251987": {
          "model_module": "@jupyter-widgets/controls",
          "model_name": "HTMLModel",
          "model_module_version": "1.5.0",
          "state": {
            "_dom_classes": [],
            "_model_module": "@jupyter-widgets/controls",
            "_model_module_version": "1.5.0",
            "_model_name": "HTMLModel",
            "_view_count": null,
            "_view_module": "@jupyter-widgets/controls",
            "_view_module_version": "1.5.0",
            "_view_name": "HTMLView",
            "description": "",
            "description_tooltip": null,
            "layout": "IPY_MODEL_16064189e2ff429e869159123ec1af71",
            "placeholder": "​",
            "style": "IPY_MODEL_33500301df4b47a28e4b5bd8afcca80c",
            "value": " 466k/466k [00:00&lt;00:00, 10.4MB/s]"
          }
        },
        "4bd9f293934c42c5abce66b81c5b54c9": {
          "model_module": "@jupyter-widgets/base",
          "model_name": "LayoutModel",
          "model_module_version": "1.2.0",
          "state": {
            "_model_module": "@jupyter-widgets/base",
            "_model_module_version": "1.2.0",
            "_model_name": "LayoutModel",
            "_view_count": null,
            "_view_module": "@jupyter-widgets/base",
            "_view_module_version": "1.2.0",
            "_view_name": "LayoutView",
            "align_content": null,
            "align_items": null,
            "align_self": null,
            "border": null,
            "bottom": null,
            "display": null,
            "flex": null,
            "flex_flow": null,
            "grid_area": null,
            "grid_auto_columns": null,
            "grid_auto_flow": null,
            "grid_auto_rows": null,
            "grid_column": null,
            "grid_gap": null,
            "grid_row": null,
            "grid_template_areas": null,
            "grid_template_columns": null,
            "grid_template_rows": null,
            "height": null,
            "justify_content": null,
            "justify_items": null,
            "left": null,
            "margin": null,
            "max_height": null,
            "max_width": null,
            "min_height": null,
            "min_width": null,
            "object_fit": null,
            "object_position": null,
            "order": null,
            "overflow": null,
            "overflow_x": null,
            "overflow_y": null,
            "padding": null,
            "right": null,
            "top": null,
            "visibility": null,
            "width": null
          }
        },
        "1e75dba906b043fb905dbc86f96bb30b": {
          "model_module": "@jupyter-widgets/base",
          "model_name": "LayoutModel",
          "model_module_version": "1.2.0",
          "state": {
            "_model_module": "@jupyter-widgets/base",
            "_model_module_version": "1.2.0",
            "_model_name": "LayoutModel",
            "_view_count": null,
            "_view_module": "@jupyter-widgets/base",
            "_view_module_version": "1.2.0",
            "_view_name": "LayoutView",
            "align_content": null,
            "align_items": null,
            "align_self": null,
            "border": null,
            "bottom": null,
            "display": null,
            "flex": null,
            "flex_flow": null,
            "grid_area": null,
            "grid_auto_columns": null,
            "grid_auto_flow": null,
            "grid_auto_rows": null,
            "grid_column": null,
            "grid_gap": null,
            "grid_row": null,
            "grid_template_areas": null,
            "grid_template_columns": null,
            "grid_template_rows": null,
            "height": null,
            "justify_content": null,
            "justify_items": null,
            "left": null,
            "margin": null,
            "max_height": null,
            "max_width": null,
            "min_height": null,
            "min_width": null,
            "object_fit": null,
            "object_position": null,
            "order": null,
            "overflow": null,
            "overflow_x": null,
            "overflow_y": null,
            "padding": null,
            "right": null,
            "top": null,
            "visibility": null,
            "width": null
          }
        },
        "5d1d63b621774c618b6c8d20b503f02f": {
          "model_module": "@jupyter-widgets/controls",
          "model_name": "DescriptionStyleModel",
          "model_module_version": "1.5.0",
          "state": {
            "_model_module": "@jupyter-widgets/controls",
            "_model_module_version": "1.5.0",
            "_model_name": "DescriptionStyleModel",
            "_view_count": null,
            "_view_module": "@jupyter-widgets/base",
            "_view_module_version": "1.2.0",
            "_view_name": "StyleView",
            "description_width": ""
          }
        },
        "84a8e8ebf7e8497fb70cbdf21960e99a": {
          "model_module": "@jupyter-widgets/base",
          "model_name": "LayoutModel",
          "model_module_version": "1.2.0",
          "state": {
            "_model_module": "@jupyter-widgets/base",
            "_model_module_version": "1.2.0",
            "_model_name": "LayoutModel",
            "_view_count": null,
            "_view_module": "@jupyter-widgets/base",
            "_view_module_version": "1.2.0",
            "_view_name": "LayoutView",
            "align_content": null,
            "align_items": null,
            "align_self": null,
            "border": null,
            "bottom": null,
            "display": null,
            "flex": null,
            "flex_flow": null,
            "grid_area": null,
            "grid_auto_columns": null,
            "grid_auto_flow": null,
            "grid_auto_rows": null,
            "grid_column": null,
            "grid_gap": null,
            "grid_row": null,
            "grid_template_areas": null,
            "grid_template_columns": null,
            "grid_template_rows": null,
            "height": null,
            "justify_content": null,
            "justify_items": null,
            "left": null,
            "margin": null,
            "max_height": null,
            "max_width": null,
            "min_height": null,
            "min_width": null,
            "object_fit": null,
            "object_position": null,
            "order": null,
            "overflow": null,
            "overflow_x": null,
            "overflow_y": null,
            "padding": null,
            "right": null,
            "top": null,
            "visibility": null,
            "width": null
          }
        },
        "4d7177d762e342de8f2719b0c323941c": {
          "model_module": "@jupyter-widgets/controls",
          "model_name": "ProgressStyleModel",
          "model_module_version": "1.5.0",
          "state": {
            "_model_module": "@jupyter-widgets/controls",
            "_model_module_version": "1.5.0",
            "_model_name": "ProgressStyleModel",
            "_view_count": null,
            "_view_module": "@jupyter-widgets/base",
            "_view_module_version": "1.2.0",
            "_view_name": "StyleView",
            "bar_color": null,
            "description_width": ""
          }
        },
        "16064189e2ff429e869159123ec1af71": {
          "model_module": "@jupyter-widgets/base",
          "model_name": "LayoutModel",
          "model_module_version": "1.2.0",
          "state": {
            "_model_module": "@jupyter-widgets/base",
            "_model_module_version": "1.2.0",
            "_model_name": "LayoutModel",
            "_view_count": null,
            "_view_module": "@jupyter-widgets/base",
            "_view_module_version": "1.2.0",
            "_view_name": "LayoutView",
            "align_content": null,
            "align_items": null,
            "align_self": null,
            "border": null,
            "bottom": null,
            "display": null,
            "flex": null,
            "flex_flow": null,
            "grid_area": null,
            "grid_auto_columns": null,
            "grid_auto_flow": null,
            "grid_auto_rows": null,
            "grid_column": null,
            "grid_gap": null,
            "grid_row": null,
            "grid_template_areas": null,
            "grid_template_columns": null,
            "grid_template_rows": null,
            "height": null,
            "justify_content": null,
            "justify_items": null,
            "left": null,
            "margin": null,
            "max_height": null,
            "max_width": null,
            "min_height": null,
            "min_width": null,
            "object_fit": null,
            "object_position": null,
            "order": null,
            "overflow": null,
            "overflow_x": null,
            "overflow_y": null,
            "padding": null,
            "right": null,
            "top": null,
            "visibility": null,
            "width": null
          }
        },
        "33500301df4b47a28e4b5bd8afcca80c": {
          "model_module": "@jupyter-widgets/controls",
          "model_name": "DescriptionStyleModel",
          "model_module_version": "1.5.0",
          "state": {
            "_model_module": "@jupyter-widgets/controls",
            "_model_module_version": "1.5.0",
            "_model_name": "DescriptionStyleModel",
            "_view_count": null,
            "_view_module": "@jupyter-widgets/base",
            "_view_module_version": "1.2.0",
            "_view_name": "StyleView",
            "description_width": ""
          }
        },
        "c6476ea6759d48b8b65f582373f0414d": {
          "model_module": "@jupyter-widgets/controls",
          "model_name": "HBoxModel",
          "model_module_version": "1.5.0",
          "state": {
            "_dom_classes": [],
            "_model_module": "@jupyter-widgets/controls",
            "_model_module_version": "1.5.0",
            "_model_name": "HBoxModel",
            "_view_count": null,
            "_view_module": "@jupyter-widgets/controls",
            "_view_module_version": "1.5.0",
            "_view_name": "HBoxView",
            "box_style": "",
            "children": [
              "IPY_MODEL_9b776cfe4aff4d959c1dfcc62f51d88c",
              "IPY_MODEL_c2309f1715724b3fa7dbd498e710495f",
              "IPY_MODEL_9f63d7f2c7944cdeb370ab71db36ccaf"
            ],
            "layout": "IPY_MODEL_c452f3ad98674eada00ffe22f45014b6"
          }
        },
        "9b776cfe4aff4d959c1dfcc62f51d88c": {
          "model_module": "@jupyter-widgets/controls",
          "model_name": "HTMLModel",
          "model_module_version": "1.5.0",
          "state": {
            "_dom_classes": [],
            "_model_module": "@jupyter-widgets/controls",
            "_model_module_version": "1.5.0",
            "_model_name": "HTMLModel",
            "_view_count": null,
            "_view_module": "@jupyter-widgets/controls",
            "_view_module_version": "1.5.0",
            "_view_name": "HTMLView",
            "description": "",
            "description_tooltip": null,
            "layout": "IPY_MODEL_80f3813f45e243f39d4f3c8b9222644f",
            "placeholder": "​",
            "style": "IPY_MODEL_f521f89e7f7e4e09862f47faaa3b4649",
            "value": "special_tokens_map.json: 100%"
          }
        },
        "c2309f1715724b3fa7dbd498e710495f": {
          "model_module": "@jupyter-widgets/controls",
          "model_name": "FloatProgressModel",
          "model_module_version": "1.5.0",
          "state": {
            "_dom_classes": [],
            "_model_module": "@jupyter-widgets/controls",
            "_model_module_version": "1.5.0",
            "_model_name": "FloatProgressModel",
            "_view_count": null,
            "_view_module": "@jupyter-widgets/controls",
            "_view_module_version": "1.5.0",
            "_view_name": "ProgressView",
            "bar_style": "success",
            "description": "",
            "description_tooltip": null,
            "layout": "IPY_MODEL_63a8ce6306ca43a0b446fcf9705d2b72",
            "max": 239,
            "min": 0,
            "orientation": "horizontal",
            "style": "IPY_MODEL_5946b6a44704451fbba40263989f0605",
            "value": 239
          }
        },
        "9f63d7f2c7944cdeb370ab71db36ccaf": {
          "model_module": "@jupyter-widgets/controls",
          "model_name": "HTMLModel",
          "model_module_version": "1.5.0",
          "state": {
            "_dom_classes": [],
            "_model_module": "@jupyter-widgets/controls",
            "_model_module_version": "1.5.0",
            "_model_name": "HTMLModel",
            "_view_count": null,
            "_view_module": "@jupyter-widgets/controls",
            "_view_module_version": "1.5.0",
            "_view_name": "HTMLView",
            "description": "",
            "description_tooltip": null,
            "layout": "IPY_MODEL_dc9536238a2242d0aa1556017923a1be",
            "placeholder": "​",
            "style": "IPY_MODEL_270ff68ee8fc42ea9bf0cf7f3cc51778",
            "value": " 239/239 [00:00&lt;00:00, 10.3kB/s]"
          }
        },
        "c452f3ad98674eada00ffe22f45014b6": {
          "model_module": "@jupyter-widgets/base",
          "model_name": "LayoutModel",
          "model_module_version": "1.2.0",
          "state": {
            "_model_module": "@jupyter-widgets/base",
            "_model_module_version": "1.2.0",
            "_model_name": "LayoutModel",
            "_view_count": null,
            "_view_module": "@jupyter-widgets/base",
            "_view_module_version": "1.2.0",
            "_view_name": "LayoutView",
            "align_content": null,
            "align_items": null,
            "align_self": null,
            "border": null,
            "bottom": null,
            "display": null,
            "flex": null,
            "flex_flow": null,
            "grid_area": null,
            "grid_auto_columns": null,
            "grid_auto_flow": null,
            "grid_auto_rows": null,
            "grid_column": null,
            "grid_gap": null,
            "grid_row": null,
            "grid_template_areas": null,
            "grid_template_columns": null,
            "grid_template_rows": null,
            "height": null,
            "justify_content": null,
            "justify_items": null,
            "left": null,
            "margin": null,
            "max_height": null,
            "max_width": null,
            "min_height": null,
            "min_width": null,
            "object_fit": null,
            "object_position": null,
            "order": null,
            "overflow": null,
            "overflow_x": null,
            "overflow_y": null,
            "padding": null,
            "right": null,
            "top": null,
            "visibility": null,
            "width": null
          }
        },
        "80f3813f45e243f39d4f3c8b9222644f": {
          "model_module": "@jupyter-widgets/base",
          "model_name": "LayoutModel",
          "model_module_version": "1.2.0",
          "state": {
            "_model_module": "@jupyter-widgets/base",
            "_model_module_version": "1.2.0",
            "_model_name": "LayoutModel",
            "_view_count": null,
            "_view_module": "@jupyter-widgets/base",
            "_view_module_version": "1.2.0",
            "_view_name": "LayoutView",
            "align_content": null,
            "align_items": null,
            "align_self": null,
            "border": null,
            "bottom": null,
            "display": null,
            "flex": null,
            "flex_flow": null,
            "grid_area": null,
            "grid_auto_columns": null,
            "grid_auto_flow": null,
            "grid_auto_rows": null,
            "grid_column": null,
            "grid_gap": null,
            "grid_row": null,
            "grid_template_areas": null,
            "grid_template_columns": null,
            "grid_template_rows": null,
            "height": null,
            "justify_content": null,
            "justify_items": null,
            "left": null,
            "margin": null,
            "max_height": null,
            "max_width": null,
            "min_height": null,
            "min_width": null,
            "object_fit": null,
            "object_position": null,
            "order": null,
            "overflow": null,
            "overflow_x": null,
            "overflow_y": null,
            "padding": null,
            "right": null,
            "top": null,
            "visibility": null,
            "width": null
          }
        },
        "f521f89e7f7e4e09862f47faaa3b4649": {
          "model_module": "@jupyter-widgets/controls",
          "model_name": "DescriptionStyleModel",
          "model_module_version": "1.5.0",
          "state": {
            "_model_module": "@jupyter-widgets/controls",
            "_model_module_version": "1.5.0",
            "_model_name": "DescriptionStyleModel",
            "_view_count": null,
            "_view_module": "@jupyter-widgets/base",
            "_view_module_version": "1.2.0",
            "_view_name": "StyleView",
            "description_width": ""
          }
        },
        "63a8ce6306ca43a0b446fcf9705d2b72": {
          "model_module": "@jupyter-widgets/base",
          "model_name": "LayoutModel",
          "model_module_version": "1.2.0",
          "state": {
            "_model_module": "@jupyter-widgets/base",
            "_model_module_version": "1.2.0",
            "_model_name": "LayoutModel",
            "_view_count": null,
            "_view_module": "@jupyter-widgets/base",
            "_view_module_version": "1.2.0",
            "_view_name": "LayoutView",
            "align_content": null,
            "align_items": null,
            "align_self": null,
            "border": null,
            "bottom": null,
            "display": null,
            "flex": null,
            "flex_flow": null,
            "grid_area": null,
            "grid_auto_columns": null,
            "grid_auto_flow": null,
            "grid_auto_rows": null,
            "grid_column": null,
            "grid_gap": null,
            "grid_row": null,
            "grid_template_areas": null,
            "grid_template_columns": null,
            "grid_template_rows": null,
            "height": null,
            "justify_content": null,
            "justify_items": null,
            "left": null,
            "margin": null,
            "max_height": null,
            "max_width": null,
            "min_height": null,
            "min_width": null,
            "object_fit": null,
            "object_position": null,
            "order": null,
            "overflow": null,
            "overflow_x": null,
            "overflow_y": null,
            "padding": null,
            "right": null,
            "top": null,
            "visibility": null,
            "width": null
          }
        },
        "5946b6a44704451fbba40263989f0605": {
          "model_module": "@jupyter-widgets/controls",
          "model_name": "ProgressStyleModel",
          "model_module_version": "1.5.0",
          "state": {
            "_model_module": "@jupyter-widgets/controls",
            "_model_module_version": "1.5.0",
            "_model_name": "ProgressStyleModel",
            "_view_count": null,
            "_view_module": "@jupyter-widgets/base",
            "_view_module_version": "1.2.0",
            "_view_name": "StyleView",
            "bar_color": null,
            "description_width": ""
          }
        },
        "dc9536238a2242d0aa1556017923a1be": {
          "model_module": "@jupyter-widgets/base",
          "model_name": "LayoutModel",
          "model_module_version": "1.2.0",
          "state": {
            "_model_module": "@jupyter-widgets/base",
            "_model_module_version": "1.2.0",
            "_model_name": "LayoutModel",
            "_view_count": null,
            "_view_module": "@jupyter-widgets/base",
            "_view_module_version": "1.2.0",
            "_view_name": "LayoutView",
            "align_content": null,
            "align_items": null,
            "align_self": null,
            "border": null,
            "bottom": null,
            "display": null,
            "flex": null,
            "flex_flow": null,
            "grid_area": null,
            "grid_auto_columns": null,
            "grid_auto_flow": null,
            "grid_auto_rows": null,
            "grid_column": null,
            "grid_gap": null,
            "grid_row": null,
            "grid_template_areas": null,
            "grid_template_columns": null,
            "grid_template_rows": null,
            "height": null,
            "justify_content": null,
            "justify_items": null,
            "left": null,
            "margin": null,
            "max_height": null,
            "max_width": null,
            "min_height": null,
            "min_width": null,
            "object_fit": null,
            "object_position": null,
            "order": null,
            "overflow": null,
            "overflow_x": null,
            "overflow_y": null,
            "padding": null,
            "right": null,
            "top": null,
            "visibility": null,
            "width": null
          }
        },
        "270ff68ee8fc42ea9bf0cf7f3cc51778": {
          "model_module": "@jupyter-widgets/controls",
          "model_name": "DescriptionStyleModel",
          "model_module_version": "1.5.0",
          "state": {
            "_model_module": "@jupyter-widgets/controls",
            "_model_module_version": "1.5.0",
            "_model_name": "DescriptionStyleModel",
            "_view_count": null,
            "_view_module": "@jupyter-widgets/base",
            "_view_module_version": "1.2.0",
            "_view_name": "StyleView",
            "description_width": ""
          }
        },
        "5e471d884f7c4b86b2ae47c1b8b06e19": {
          "model_module": "@jupyter-widgets/controls",
          "model_name": "HBoxModel",
          "model_module_version": "1.5.0",
          "state": {
            "_dom_classes": [],
            "_model_module": "@jupyter-widgets/controls",
            "_model_module_version": "1.5.0",
            "_model_name": "HBoxModel",
            "_view_count": null,
            "_view_module": "@jupyter-widgets/controls",
            "_view_module_version": "1.5.0",
            "_view_name": "HBoxView",
            "box_style": "",
            "children": [
              "IPY_MODEL_263ce1bb6bb448f3b8f433483800eb7a",
              "IPY_MODEL_b70b4c517b0a4297ac61733a80d42075",
              "IPY_MODEL_afc9386070ba4fd281430c7608c58bea"
            ],
            "layout": "IPY_MODEL_90979ec7a2d44b718a41e5a720ba676b"
          }
        },
        "263ce1bb6bb448f3b8f433483800eb7a": {
          "model_module": "@jupyter-widgets/controls",
          "model_name": "HTMLModel",
          "model_module_version": "1.5.0",
          "state": {
            "_dom_classes": [],
            "_model_module": "@jupyter-widgets/controls",
            "_model_module_version": "1.5.0",
            "_model_name": "HTMLModel",
            "_view_count": null,
            "_view_module": "@jupyter-widgets/controls",
            "_view_module_version": "1.5.0",
            "_view_name": "HTMLView",
            "description": "",
            "description_tooltip": null,
            "layout": "IPY_MODEL_895b2ada8cc142ddb2ab6e4c77e82199",
            "placeholder": "​",
            "style": "IPY_MODEL_4b1b42eea3e74650b9695fdd0da51426",
            "value": "1_Pooling/config.json: 100%"
          }
        },
        "b70b4c517b0a4297ac61733a80d42075": {
          "model_module": "@jupyter-widgets/controls",
          "model_name": "FloatProgressModel",
          "model_module_version": "1.5.0",
          "state": {
            "_dom_classes": [],
            "_model_module": "@jupyter-widgets/controls",
            "_model_module_version": "1.5.0",
            "_model_name": "FloatProgressModel",
            "_view_count": null,
            "_view_module": "@jupyter-widgets/controls",
            "_view_module_version": "1.5.0",
            "_view_name": "ProgressView",
            "bar_style": "success",
            "description": "",
            "description_tooltip": null,
            "layout": "IPY_MODEL_d9828ed22fc74c22b77ce78e5371a950",
            "max": 190,
            "min": 0,
            "orientation": "horizontal",
            "style": "IPY_MODEL_d281d7892ef74ca4afe155ecb06c4c10",
            "value": 190
          }
        },
        "afc9386070ba4fd281430c7608c58bea": {
          "model_module": "@jupyter-widgets/controls",
          "model_name": "HTMLModel",
          "model_module_version": "1.5.0",
          "state": {
            "_dom_classes": [],
            "_model_module": "@jupyter-widgets/controls",
            "_model_module_version": "1.5.0",
            "_model_name": "HTMLModel",
            "_view_count": null,
            "_view_module": "@jupyter-widgets/controls",
            "_view_module_version": "1.5.0",
            "_view_name": "HTMLView",
            "description": "",
            "description_tooltip": null,
            "layout": "IPY_MODEL_49d67a48bb7d49a7a0961b5d92f6b1d0",
            "placeholder": "​",
            "style": "IPY_MODEL_8f7ab2b2686e4c948d7b27c0e9eaba41",
            "value": " 190/190 [00:00&lt;00:00, 2.64kB/s]"
          }
        },
        "90979ec7a2d44b718a41e5a720ba676b": {
          "model_module": "@jupyter-widgets/base",
          "model_name": "LayoutModel",
          "model_module_version": "1.2.0",
          "state": {
            "_model_module": "@jupyter-widgets/base",
            "_model_module_version": "1.2.0",
            "_model_name": "LayoutModel",
            "_view_count": null,
            "_view_module": "@jupyter-widgets/base",
            "_view_module_version": "1.2.0",
            "_view_name": "LayoutView",
            "align_content": null,
            "align_items": null,
            "align_self": null,
            "border": null,
            "bottom": null,
            "display": null,
            "flex": null,
            "flex_flow": null,
            "grid_area": null,
            "grid_auto_columns": null,
            "grid_auto_flow": null,
            "grid_auto_rows": null,
            "grid_column": null,
            "grid_gap": null,
            "grid_row": null,
            "grid_template_areas": null,
            "grid_template_columns": null,
            "grid_template_rows": null,
            "height": null,
            "justify_content": null,
            "justify_items": null,
            "left": null,
            "margin": null,
            "max_height": null,
            "max_width": null,
            "min_height": null,
            "min_width": null,
            "object_fit": null,
            "object_position": null,
            "order": null,
            "overflow": null,
            "overflow_x": null,
            "overflow_y": null,
            "padding": null,
            "right": null,
            "top": null,
            "visibility": null,
            "width": null
          }
        },
        "895b2ada8cc142ddb2ab6e4c77e82199": {
          "model_module": "@jupyter-widgets/base",
          "model_name": "LayoutModel",
          "model_module_version": "1.2.0",
          "state": {
            "_model_module": "@jupyter-widgets/base",
            "_model_module_version": "1.2.0",
            "_model_name": "LayoutModel",
            "_view_count": null,
            "_view_module": "@jupyter-widgets/base",
            "_view_module_version": "1.2.0",
            "_view_name": "LayoutView",
            "align_content": null,
            "align_items": null,
            "align_self": null,
            "border": null,
            "bottom": null,
            "display": null,
            "flex": null,
            "flex_flow": null,
            "grid_area": null,
            "grid_auto_columns": null,
            "grid_auto_flow": null,
            "grid_auto_rows": null,
            "grid_column": null,
            "grid_gap": null,
            "grid_row": null,
            "grid_template_areas": null,
            "grid_template_columns": null,
            "grid_template_rows": null,
            "height": null,
            "justify_content": null,
            "justify_items": null,
            "left": null,
            "margin": null,
            "max_height": null,
            "max_width": null,
            "min_height": null,
            "min_width": null,
            "object_fit": null,
            "object_position": null,
            "order": null,
            "overflow": null,
            "overflow_x": null,
            "overflow_y": null,
            "padding": null,
            "right": null,
            "top": null,
            "visibility": null,
            "width": null
          }
        },
        "4b1b42eea3e74650b9695fdd0da51426": {
          "model_module": "@jupyter-widgets/controls",
          "model_name": "DescriptionStyleModel",
          "model_module_version": "1.5.0",
          "state": {
            "_model_module": "@jupyter-widgets/controls",
            "_model_module_version": "1.5.0",
            "_model_name": "DescriptionStyleModel",
            "_view_count": null,
            "_view_module": "@jupyter-widgets/base",
            "_view_module_version": "1.2.0",
            "_view_name": "StyleView",
            "description_width": ""
          }
        },
        "d9828ed22fc74c22b77ce78e5371a950": {
          "model_module": "@jupyter-widgets/base",
          "model_name": "LayoutModel",
          "model_module_version": "1.2.0",
          "state": {
            "_model_module": "@jupyter-widgets/base",
            "_model_module_version": "1.2.0",
            "_model_name": "LayoutModel",
            "_view_count": null,
            "_view_module": "@jupyter-widgets/base",
            "_view_module_version": "1.2.0",
            "_view_name": "LayoutView",
            "align_content": null,
            "align_items": null,
            "align_self": null,
            "border": null,
            "bottom": null,
            "display": null,
            "flex": null,
            "flex_flow": null,
            "grid_area": null,
            "grid_auto_columns": null,
            "grid_auto_flow": null,
            "grid_auto_rows": null,
            "grid_column": null,
            "grid_gap": null,
            "grid_row": null,
            "grid_template_areas": null,
            "grid_template_columns": null,
            "grid_template_rows": null,
            "height": null,
            "justify_content": null,
            "justify_items": null,
            "left": null,
            "margin": null,
            "max_height": null,
            "max_width": null,
            "min_height": null,
            "min_width": null,
            "object_fit": null,
            "object_position": null,
            "order": null,
            "overflow": null,
            "overflow_x": null,
            "overflow_y": null,
            "padding": null,
            "right": null,
            "top": null,
            "visibility": null,
            "width": null
          }
        },
        "d281d7892ef74ca4afe155ecb06c4c10": {
          "model_module": "@jupyter-widgets/controls",
          "model_name": "ProgressStyleModel",
          "model_module_version": "1.5.0",
          "state": {
            "_model_module": "@jupyter-widgets/controls",
            "_model_module_version": "1.5.0",
            "_model_name": "ProgressStyleModel",
            "_view_count": null,
            "_view_module": "@jupyter-widgets/base",
            "_view_module_version": "1.2.0",
            "_view_name": "StyleView",
            "bar_color": null,
            "description_width": ""
          }
        },
        "49d67a48bb7d49a7a0961b5d92f6b1d0": {
          "model_module": "@jupyter-widgets/base",
          "model_name": "LayoutModel",
          "model_module_version": "1.2.0",
          "state": {
            "_model_module": "@jupyter-widgets/base",
            "_model_module_version": "1.2.0",
            "_model_name": "LayoutModel",
            "_view_count": null,
            "_view_module": "@jupyter-widgets/base",
            "_view_module_version": "1.2.0",
            "_view_name": "LayoutView",
            "align_content": null,
            "align_items": null,
            "align_self": null,
            "border": null,
            "bottom": null,
            "display": null,
            "flex": null,
            "flex_flow": null,
            "grid_area": null,
            "grid_auto_columns": null,
            "grid_auto_flow": null,
            "grid_auto_rows": null,
            "grid_column": null,
            "grid_gap": null,
            "grid_row": null,
            "grid_template_areas": null,
            "grid_template_columns": null,
            "grid_template_rows": null,
            "height": null,
            "justify_content": null,
            "justify_items": null,
            "left": null,
            "margin": null,
            "max_height": null,
            "max_width": null,
            "min_height": null,
            "min_width": null,
            "object_fit": null,
            "object_position": null,
            "order": null,
            "overflow": null,
            "overflow_x": null,
            "overflow_y": null,
            "padding": null,
            "right": null,
            "top": null,
            "visibility": null,
            "width": null
          }
        },
        "8f7ab2b2686e4c948d7b27c0e9eaba41": {
          "model_module": "@jupyter-widgets/controls",
          "model_name": "DescriptionStyleModel",
          "model_module_version": "1.5.0",
          "state": {
            "_model_module": "@jupyter-widgets/controls",
            "_model_module_version": "1.5.0",
            "_model_name": "DescriptionStyleModel",
            "_view_count": null,
            "_view_module": "@jupyter-widgets/base",
            "_view_module_version": "1.2.0",
            "_view_name": "StyleView",
            "description_width": ""
          }
        },
        "718713b40c744aa4ae546fa00e7ead41": {
          "model_module": "@jupyter-widgets/controls",
          "model_name": "HBoxModel",
          "model_module_version": "1.5.0",
          "state": {
            "_dom_classes": [],
            "_model_module": "@jupyter-widgets/controls",
            "_model_module_version": "1.5.0",
            "_model_name": "HBoxModel",
            "_view_count": null,
            "_view_module": "@jupyter-widgets/controls",
            "_view_module_version": "1.5.0",
            "_view_name": "HBoxView",
            "box_style": "",
            "children": [
              "IPY_MODEL_ff43fa936813415aa09393eafab94729",
              "IPY_MODEL_164599d1cb9044b78b7cf7d2e58044c6",
              "IPY_MODEL_adea85881cec4c2a9a9cb89b087c0ffc"
            ],
            "layout": "IPY_MODEL_a7f647b612244639996af84f4e8cf83e"
          }
        },
        "ff43fa936813415aa09393eafab94729": {
          "model_module": "@jupyter-widgets/controls",
          "model_name": "HTMLModel",
          "model_module_version": "1.5.0",
          "state": {
            "_dom_classes": [],
            "_model_module": "@jupyter-widgets/controls",
            "_model_module_version": "1.5.0",
            "_model_name": "HTMLModel",
            "_view_count": null,
            "_view_module": "@jupyter-widgets/controls",
            "_view_module_version": "1.5.0",
            "_view_name": "HTMLView",
            "description": "",
            "description_tooltip": null,
            "layout": "IPY_MODEL_6a09af96ac2b4643ac13ad55ffe8f7ac",
            "placeholder": "​",
            "style": "IPY_MODEL_9170f96db8f84c9fbaa4cf228784e21d",
            "value": "yolox_l0.05.onnx: 100%"
          }
        },
        "164599d1cb9044b78b7cf7d2e58044c6": {
          "model_module": "@jupyter-widgets/controls",
          "model_name": "FloatProgressModel",
          "model_module_version": "1.5.0",
          "state": {
            "_dom_classes": [],
            "_model_module": "@jupyter-widgets/controls",
            "_model_module_version": "1.5.0",
            "_model_name": "FloatProgressModel",
            "_view_count": null,
            "_view_module": "@jupyter-widgets/controls",
            "_view_module_version": "1.5.0",
            "_view_name": "ProgressView",
            "bar_style": "success",
            "description": "",
            "description_tooltip": null,
            "layout": "IPY_MODEL_eac22ab071fb4c4aab2baf95f1b502d9",
            "max": 216625723,
            "min": 0,
            "orientation": "horizontal",
            "style": "IPY_MODEL_5f498f26211245a192c24092b9c86a33",
            "value": 216625723
          }
        },
        "adea85881cec4c2a9a9cb89b087c0ffc": {
          "model_module": "@jupyter-widgets/controls",
          "model_name": "HTMLModel",
          "model_module_version": "1.5.0",
          "state": {
            "_dom_classes": [],
            "_model_module": "@jupyter-widgets/controls",
            "_model_module_version": "1.5.0",
            "_model_name": "HTMLModel",
            "_view_count": null,
            "_view_module": "@jupyter-widgets/controls",
            "_view_module_version": "1.5.0",
            "_view_name": "HTMLView",
            "description": "",
            "description_tooltip": null,
            "layout": "IPY_MODEL_da52c8302af746ae9acf0431565f883c",
            "placeholder": "​",
            "style": "IPY_MODEL_ebbfd93c81424f529f60223dc7970d63",
            "value": " 217M/217M [00:01&lt;00:00, 153MB/s]"
          }
        },
        "a7f647b612244639996af84f4e8cf83e": {
          "model_module": "@jupyter-widgets/base",
          "model_name": "LayoutModel",
          "model_module_version": "1.2.0",
          "state": {
            "_model_module": "@jupyter-widgets/base",
            "_model_module_version": "1.2.0",
            "_model_name": "LayoutModel",
            "_view_count": null,
            "_view_module": "@jupyter-widgets/base",
            "_view_module_version": "1.2.0",
            "_view_name": "LayoutView",
            "align_content": null,
            "align_items": null,
            "align_self": null,
            "border": null,
            "bottom": null,
            "display": null,
            "flex": null,
            "flex_flow": null,
            "grid_area": null,
            "grid_auto_columns": null,
            "grid_auto_flow": null,
            "grid_auto_rows": null,
            "grid_column": null,
            "grid_gap": null,
            "grid_row": null,
            "grid_template_areas": null,
            "grid_template_columns": null,
            "grid_template_rows": null,
            "height": null,
            "justify_content": null,
            "justify_items": null,
            "left": null,
            "margin": null,
            "max_height": null,
            "max_width": null,
            "min_height": null,
            "min_width": null,
            "object_fit": null,
            "object_position": null,
            "order": null,
            "overflow": null,
            "overflow_x": null,
            "overflow_y": null,
            "padding": null,
            "right": null,
            "top": null,
            "visibility": null,
            "width": null
          }
        },
        "6a09af96ac2b4643ac13ad55ffe8f7ac": {
          "model_module": "@jupyter-widgets/base",
          "model_name": "LayoutModel",
          "model_module_version": "1.2.0",
          "state": {
            "_model_module": "@jupyter-widgets/base",
            "_model_module_version": "1.2.0",
            "_model_name": "LayoutModel",
            "_view_count": null,
            "_view_module": "@jupyter-widgets/base",
            "_view_module_version": "1.2.0",
            "_view_name": "LayoutView",
            "align_content": null,
            "align_items": null,
            "align_self": null,
            "border": null,
            "bottom": null,
            "display": null,
            "flex": null,
            "flex_flow": null,
            "grid_area": null,
            "grid_auto_columns": null,
            "grid_auto_flow": null,
            "grid_auto_rows": null,
            "grid_column": null,
            "grid_gap": null,
            "grid_row": null,
            "grid_template_areas": null,
            "grid_template_columns": null,
            "grid_template_rows": null,
            "height": null,
            "justify_content": null,
            "justify_items": null,
            "left": null,
            "margin": null,
            "max_height": null,
            "max_width": null,
            "min_height": null,
            "min_width": null,
            "object_fit": null,
            "object_position": null,
            "order": null,
            "overflow": null,
            "overflow_x": null,
            "overflow_y": null,
            "padding": null,
            "right": null,
            "top": null,
            "visibility": null,
            "width": null
          }
        },
        "9170f96db8f84c9fbaa4cf228784e21d": {
          "model_module": "@jupyter-widgets/controls",
          "model_name": "DescriptionStyleModel",
          "model_module_version": "1.5.0",
          "state": {
            "_model_module": "@jupyter-widgets/controls",
            "_model_module_version": "1.5.0",
            "_model_name": "DescriptionStyleModel",
            "_view_count": null,
            "_view_module": "@jupyter-widgets/base",
            "_view_module_version": "1.2.0",
            "_view_name": "StyleView",
            "description_width": ""
          }
        },
        "eac22ab071fb4c4aab2baf95f1b502d9": {
          "model_module": "@jupyter-widgets/base",
          "model_name": "LayoutModel",
          "model_module_version": "1.2.0",
          "state": {
            "_model_module": "@jupyter-widgets/base",
            "_model_module_version": "1.2.0",
            "_model_name": "LayoutModel",
            "_view_count": null,
            "_view_module": "@jupyter-widgets/base",
            "_view_module_version": "1.2.0",
            "_view_name": "LayoutView",
            "align_content": null,
            "align_items": null,
            "align_self": null,
            "border": null,
            "bottom": null,
            "display": null,
            "flex": null,
            "flex_flow": null,
            "grid_area": null,
            "grid_auto_columns": null,
            "grid_auto_flow": null,
            "grid_auto_rows": null,
            "grid_column": null,
            "grid_gap": null,
            "grid_row": null,
            "grid_template_areas": null,
            "grid_template_columns": null,
            "grid_template_rows": null,
            "height": null,
            "justify_content": null,
            "justify_items": null,
            "left": null,
            "margin": null,
            "max_height": null,
            "max_width": null,
            "min_height": null,
            "min_width": null,
            "object_fit": null,
            "object_position": null,
            "order": null,
            "overflow": null,
            "overflow_x": null,
            "overflow_y": null,
            "padding": null,
            "right": null,
            "top": null,
            "visibility": null,
            "width": null
          }
        },
        "5f498f26211245a192c24092b9c86a33": {
          "model_module": "@jupyter-widgets/controls",
          "model_name": "ProgressStyleModel",
          "model_module_version": "1.5.0",
          "state": {
            "_model_module": "@jupyter-widgets/controls",
            "_model_module_version": "1.5.0",
            "_model_name": "ProgressStyleModel",
            "_view_count": null,
            "_view_module": "@jupyter-widgets/base",
            "_view_module_version": "1.2.0",
            "_view_name": "StyleView",
            "bar_color": null,
            "description_width": ""
          }
        },
        "da52c8302af746ae9acf0431565f883c": {
          "model_module": "@jupyter-widgets/base",
          "model_name": "LayoutModel",
          "model_module_version": "1.2.0",
          "state": {
            "_model_module": "@jupyter-widgets/base",
            "_model_module_version": "1.2.0",
            "_model_name": "LayoutModel",
            "_view_count": null,
            "_view_module": "@jupyter-widgets/base",
            "_view_module_version": "1.2.0",
            "_view_name": "LayoutView",
            "align_content": null,
            "align_items": null,
            "align_self": null,
            "border": null,
            "bottom": null,
            "display": null,
            "flex": null,
            "flex_flow": null,
            "grid_area": null,
            "grid_auto_columns": null,
            "grid_auto_flow": null,
            "grid_auto_rows": null,
            "grid_column": null,
            "grid_gap": null,
            "grid_row": null,
            "grid_template_areas": null,
            "grid_template_columns": null,
            "grid_template_rows": null,
            "height": null,
            "justify_content": null,
            "justify_items": null,
            "left": null,
            "margin": null,
            "max_height": null,
            "max_width": null,
            "min_height": null,
            "min_width": null,
            "object_fit": null,
            "object_position": null,
            "order": null,
            "overflow": null,
            "overflow_x": null,
            "overflow_y": null,
            "padding": null,
            "right": null,
            "top": null,
            "visibility": null,
            "width": null
          }
        },
        "ebbfd93c81424f529f60223dc7970d63": {
          "model_module": "@jupyter-widgets/controls",
          "model_name": "DescriptionStyleModel",
          "model_module_version": "1.5.0",
          "state": {
            "_model_module": "@jupyter-widgets/controls",
            "_model_module_version": "1.5.0",
            "_model_name": "DescriptionStyleModel",
            "_view_count": null,
            "_view_module": "@jupyter-widgets/base",
            "_view_module_version": "1.2.0",
            "_view_name": "StyleView",
            "description_width": ""
          }
        },
        "a7198e9ec4c94200b0163eda9c2b4f99": {
          "model_module": "@jupyter-widgets/controls",
          "model_name": "HBoxModel",
          "model_module_version": "1.5.0",
          "state": {
            "_dom_classes": [],
            "_model_module": "@jupyter-widgets/controls",
            "_model_module_version": "1.5.0",
            "_model_name": "HBoxModel",
            "_view_count": null,
            "_view_module": "@jupyter-widgets/controls",
            "_view_module_version": "1.5.0",
            "_view_name": "HBoxView",
            "box_style": "",
            "children": [
              "IPY_MODEL_5f3e6166901b4200a7d0acc50243d6b5",
              "IPY_MODEL_ef70e61354674ee7beabf1ddfb5b24d2",
              "IPY_MODEL_29c8b3ae9869478da1ac750f6e954cd8"
            ],
            "layout": "IPY_MODEL_2b33b87b11cb47c093755aa673e37fee"
          }
        },
        "5f3e6166901b4200a7d0acc50243d6b5": {
          "model_module": "@jupyter-widgets/controls",
          "model_name": "HTMLModel",
          "model_module_version": "1.5.0",
          "state": {
            "_dom_classes": [],
            "_model_module": "@jupyter-widgets/controls",
            "_model_module_version": "1.5.0",
            "_model_name": "HTMLModel",
            "_view_count": null,
            "_view_module": "@jupyter-widgets/controls",
            "_view_module_version": "1.5.0",
            "_view_name": "HTMLView",
            "description": "",
            "description_tooltip": null,
            "layout": "IPY_MODEL_df8a349280d248cb8f9fa759392c20a0",
            "placeholder": "​",
            "style": "IPY_MODEL_f43b2414b4124eed9335903105f8e689",
            "value": "config.json: 100%"
          }
        },
        "ef70e61354674ee7beabf1ddfb5b24d2": {
          "model_module": "@jupyter-widgets/controls",
          "model_name": "FloatProgressModel",
          "model_module_version": "1.5.0",
          "state": {
            "_dom_classes": [],
            "_model_module": "@jupyter-widgets/controls",
            "_model_module_version": "1.5.0",
            "_model_name": "FloatProgressModel",
            "_view_count": null,
            "_view_module": "@jupyter-widgets/controls",
            "_view_module_version": "1.5.0",
            "_view_name": "ProgressView",
            "bar_style": "success",
            "description": "",
            "description_tooltip": null,
            "layout": "IPY_MODEL_1b85aa2b3e764004b69097848683b5b9",
            "max": 1469,
            "min": 0,
            "orientation": "horizontal",
            "style": "IPY_MODEL_2a0ebf2b5f694737bd7380443dbfb0f6",
            "value": 1469
          }
        },
        "29c8b3ae9869478da1ac750f6e954cd8": {
          "model_module": "@jupyter-widgets/controls",
          "model_name": "HTMLModel",
          "model_module_version": "1.5.0",
          "state": {
            "_dom_classes": [],
            "_model_module": "@jupyter-widgets/controls",
            "_model_module_version": "1.5.0",
            "_model_name": "HTMLModel",
            "_view_count": null,
            "_view_module": "@jupyter-widgets/controls",
            "_view_module_version": "1.5.0",
            "_view_name": "HTMLView",
            "description": "",
            "description_tooltip": null,
            "layout": "IPY_MODEL_208e0ae3ec614eae9670330435e25aac",
            "placeholder": "​",
            "style": "IPY_MODEL_c241ec57ca5c4978a44d146e2618d924",
            "value": " 1.47k/1.47k [00:00&lt;00:00, 50.7kB/s]"
          }
        },
        "2b33b87b11cb47c093755aa673e37fee": {
          "model_module": "@jupyter-widgets/base",
          "model_name": "LayoutModel",
          "model_module_version": "1.2.0",
          "state": {
            "_model_module": "@jupyter-widgets/base",
            "_model_module_version": "1.2.0",
            "_model_name": "LayoutModel",
            "_view_count": null,
            "_view_module": "@jupyter-widgets/base",
            "_view_module_version": "1.2.0",
            "_view_name": "LayoutView",
            "align_content": null,
            "align_items": null,
            "align_self": null,
            "border": null,
            "bottom": null,
            "display": null,
            "flex": null,
            "flex_flow": null,
            "grid_area": null,
            "grid_auto_columns": null,
            "grid_auto_flow": null,
            "grid_auto_rows": null,
            "grid_column": null,
            "grid_gap": null,
            "grid_row": null,
            "grid_template_areas": null,
            "grid_template_columns": null,
            "grid_template_rows": null,
            "height": null,
            "justify_content": null,
            "justify_items": null,
            "left": null,
            "margin": null,
            "max_height": null,
            "max_width": null,
            "min_height": null,
            "min_width": null,
            "object_fit": null,
            "object_position": null,
            "order": null,
            "overflow": null,
            "overflow_x": null,
            "overflow_y": null,
            "padding": null,
            "right": null,
            "top": null,
            "visibility": null,
            "width": null
          }
        },
        "df8a349280d248cb8f9fa759392c20a0": {
          "model_module": "@jupyter-widgets/base",
          "model_name": "LayoutModel",
          "model_module_version": "1.2.0",
          "state": {
            "_model_module": "@jupyter-widgets/base",
            "_model_module_version": "1.2.0",
            "_model_name": "LayoutModel",
            "_view_count": null,
            "_view_module": "@jupyter-widgets/base",
            "_view_module_version": "1.2.0",
            "_view_name": "LayoutView",
            "align_content": null,
            "align_items": null,
            "align_self": null,
            "border": null,
            "bottom": null,
            "display": null,
            "flex": null,
            "flex_flow": null,
            "grid_area": null,
            "grid_auto_columns": null,
            "grid_auto_flow": null,
            "grid_auto_rows": null,
            "grid_column": null,
            "grid_gap": null,
            "grid_row": null,
            "grid_template_areas": null,
            "grid_template_columns": null,
            "grid_template_rows": null,
            "height": null,
            "justify_content": null,
            "justify_items": null,
            "left": null,
            "margin": null,
            "max_height": null,
            "max_width": null,
            "min_height": null,
            "min_width": null,
            "object_fit": null,
            "object_position": null,
            "order": null,
            "overflow": null,
            "overflow_x": null,
            "overflow_y": null,
            "padding": null,
            "right": null,
            "top": null,
            "visibility": null,
            "width": null
          }
        },
        "f43b2414b4124eed9335903105f8e689": {
          "model_module": "@jupyter-widgets/controls",
          "model_name": "DescriptionStyleModel",
          "model_module_version": "1.5.0",
          "state": {
            "_model_module": "@jupyter-widgets/controls",
            "_model_module_version": "1.5.0",
            "_model_name": "DescriptionStyleModel",
            "_view_count": null,
            "_view_module": "@jupyter-widgets/base",
            "_view_module_version": "1.2.0",
            "_view_name": "StyleView",
            "description_width": ""
          }
        },
        "1b85aa2b3e764004b69097848683b5b9": {
          "model_module": "@jupyter-widgets/base",
          "model_name": "LayoutModel",
          "model_module_version": "1.2.0",
          "state": {
            "_model_module": "@jupyter-widgets/base",
            "_model_module_version": "1.2.0",
            "_model_name": "LayoutModel",
            "_view_count": null,
            "_view_module": "@jupyter-widgets/base",
            "_view_module_version": "1.2.0",
            "_view_name": "LayoutView",
            "align_content": null,
            "align_items": null,
            "align_self": null,
            "border": null,
            "bottom": null,
            "display": null,
            "flex": null,
            "flex_flow": null,
            "grid_area": null,
            "grid_auto_columns": null,
            "grid_auto_flow": null,
            "grid_auto_rows": null,
            "grid_column": null,
            "grid_gap": null,
            "grid_row": null,
            "grid_template_areas": null,
            "grid_template_columns": null,
            "grid_template_rows": null,
            "height": null,
            "justify_content": null,
            "justify_items": null,
            "left": null,
            "margin": null,
            "max_height": null,
            "max_width": null,
            "min_height": null,
            "min_width": null,
            "object_fit": null,
            "object_position": null,
            "order": null,
            "overflow": null,
            "overflow_x": null,
            "overflow_y": null,
            "padding": null,
            "right": null,
            "top": null,
            "visibility": null,
            "width": null
          }
        },
        "2a0ebf2b5f694737bd7380443dbfb0f6": {
          "model_module": "@jupyter-widgets/controls",
          "model_name": "ProgressStyleModel",
          "model_module_version": "1.5.0",
          "state": {
            "_model_module": "@jupyter-widgets/controls",
            "_model_module_version": "1.5.0",
            "_model_name": "ProgressStyleModel",
            "_view_count": null,
            "_view_module": "@jupyter-widgets/base",
            "_view_module_version": "1.2.0",
            "_view_name": "StyleView",
            "bar_color": null,
            "description_width": ""
          }
        },
        "208e0ae3ec614eae9670330435e25aac": {
          "model_module": "@jupyter-widgets/base",
          "model_name": "LayoutModel",
          "model_module_version": "1.2.0",
          "state": {
            "_model_module": "@jupyter-widgets/base",
            "_model_module_version": "1.2.0",
            "_model_name": "LayoutModel",
            "_view_count": null,
            "_view_module": "@jupyter-widgets/base",
            "_view_module_version": "1.2.0",
            "_view_name": "LayoutView",
            "align_content": null,
            "align_items": null,
            "align_self": null,
            "border": null,
            "bottom": null,
            "display": null,
            "flex": null,
            "flex_flow": null,
            "grid_area": null,
            "grid_auto_columns": null,
            "grid_auto_flow": null,
            "grid_auto_rows": null,
            "grid_column": null,
            "grid_gap": null,
            "grid_row": null,
            "grid_template_areas": null,
            "grid_template_columns": null,
            "grid_template_rows": null,
            "height": null,
            "justify_content": null,
            "justify_items": null,
            "left": null,
            "margin": null,
            "max_height": null,
            "max_width": null,
            "min_height": null,
            "min_width": null,
            "object_fit": null,
            "object_position": null,
            "order": null,
            "overflow": null,
            "overflow_x": null,
            "overflow_y": null,
            "padding": null,
            "right": null,
            "top": null,
            "visibility": null,
            "width": null
          }
        },
        "c241ec57ca5c4978a44d146e2618d924": {
          "model_module": "@jupyter-widgets/controls",
          "model_name": "DescriptionStyleModel",
          "model_module_version": "1.5.0",
          "state": {
            "_model_module": "@jupyter-widgets/controls",
            "_model_module_version": "1.5.0",
            "_model_name": "DescriptionStyleModel",
            "_view_count": null,
            "_view_module": "@jupyter-widgets/base",
            "_view_module_version": "1.2.0",
            "_view_name": "StyleView",
            "description_width": ""
          }
        },
        "9bd6f7eed415487f8d8e628a64ce30d0": {
          "model_module": "@jupyter-widgets/controls",
          "model_name": "HBoxModel",
          "model_module_version": "1.5.0",
          "state": {
            "_dom_classes": [],
            "_model_module": "@jupyter-widgets/controls",
            "_model_module_version": "1.5.0",
            "_model_name": "HBoxModel",
            "_view_count": null,
            "_view_module": "@jupyter-widgets/controls",
            "_view_module_version": "1.5.0",
            "_view_name": "HBoxView",
            "box_style": "",
            "children": [
              "IPY_MODEL_32afdaf06d1b441a8c1187ec4310a10a",
              "IPY_MODEL_786dd5baa17c47dcbd627795f44413fe",
              "IPY_MODEL_27cb5b4628ec46ae836a8452bba999c2"
            ],
            "layout": "IPY_MODEL_cc247d41b183460a8b082107a9d260f3"
          }
        },
        "32afdaf06d1b441a8c1187ec4310a10a": {
          "model_module": "@jupyter-widgets/controls",
          "model_name": "HTMLModel",
          "model_module_version": "1.5.0",
          "state": {
            "_dom_classes": [],
            "_model_module": "@jupyter-widgets/controls",
            "_model_module_version": "1.5.0",
            "_model_name": "HTMLModel",
            "_view_count": null,
            "_view_module": "@jupyter-widgets/controls",
            "_view_module_version": "1.5.0",
            "_view_name": "HTMLView",
            "description": "",
            "description_tooltip": null,
            "layout": "IPY_MODEL_70787240f6bb47a7be12848ac3adbf23",
            "placeholder": "​",
            "style": "IPY_MODEL_a6b7af2352c44ab68e1da51c7847969f",
            "value": "model.safetensors: 100%"
          }
        },
        "786dd5baa17c47dcbd627795f44413fe": {
          "model_module": "@jupyter-widgets/controls",
          "model_name": "FloatProgressModel",
          "model_module_version": "1.5.0",
          "state": {
            "_dom_classes": [],
            "_model_module": "@jupyter-widgets/controls",
            "_model_module_version": "1.5.0",
            "_model_name": "FloatProgressModel",
            "_view_count": null,
            "_view_module": "@jupyter-widgets/controls",
            "_view_module_version": "1.5.0",
            "_view_name": "ProgressView",
            "bar_style": "success",
            "description": "",
            "description_tooltip": null,
            "layout": "IPY_MODEL_084cc8ff096d416bbe20169b07c6f90d",
            "max": 115434268,
            "min": 0,
            "orientation": "horizontal",
            "style": "IPY_MODEL_4727389e92324e89823d54ad589e13fb",
            "value": 115434268
          }
        },
        "27cb5b4628ec46ae836a8452bba999c2": {
          "model_module": "@jupyter-widgets/controls",
          "model_name": "HTMLModel",
          "model_module_version": "1.5.0",
          "state": {
            "_dom_classes": [],
            "_model_module": "@jupyter-widgets/controls",
            "_model_module_version": "1.5.0",
            "_model_name": "HTMLModel",
            "_view_count": null,
            "_view_module": "@jupyter-widgets/controls",
            "_view_module_version": "1.5.0",
            "_view_name": "HTMLView",
            "description": "",
            "description_tooltip": null,
            "layout": "IPY_MODEL_d5c9d56339414aa1921b3ef6364ac17a",
            "placeholder": "​",
            "style": "IPY_MODEL_f0ec3efd259c42eab61beacc3b48ace9",
            "value": " 115M/115M [00:00&lt;00:00, 216MB/s]"
          }
        },
        "cc247d41b183460a8b082107a9d260f3": {
          "model_module": "@jupyter-widgets/base",
          "model_name": "LayoutModel",
          "model_module_version": "1.2.0",
          "state": {
            "_model_module": "@jupyter-widgets/base",
            "_model_module_version": "1.2.0",
            "_model_name": "LayoutModel",
            "_view_count": null,
            "_view_module": "@jupyter-widgets/base",
            "_view_module_version": "1.2.0",
            "_view_name": "LayoutView",
            "align_content": null,
            "align_items": null,
            "align_self": null,
            "border": null,
            "bottom": null,
            "display": null,
            "flex": null,
            "flex_flow": null,
            "grid_area": null,
            "grid_auto_columns": null,
            "grid_auto_flow": null,
            "grid_auto_rows": null,
            "grid_column": null,
            "grid_gap": null,
            "grid_row": null,
            "grid_template_areas": null,
            "grid_template_columns": null,
            "grid_template_rows": null,
            "height": null,
            "justify_content": null,
            "justify_items": null,
            "left": null,
            "margin": null,
            "max_height": null,
            "max_width": null,
            "min_height": null,
            "min_width": null,
            "object_fit": null,
            "object_position": null,
            "order": null,
            "overflow": null,
            "overflow_x": null,
            "overflow_y": null,
            "padding": null,
            "right": null,
            "top": null,
            "visibility": null,
            "width": null
          }
        },
        "70787240f6bb47a7be12848ac3adbf23": {
          "model_module": "@jupyter-widgets/base",
          "model_name": "LayoutModel",
          "model_module_version": "1.2.0",
          "state": {
            "_model_module": "@jupyter-widgets/base",
            "_model_module_version": "1.2.0",
            "_model_name": "LayoutModel",
            "_view_count": null,
            "_view_module": "@jupyter-widgets/base",
            "_view_module_version": "1.2.0",
            "_view_name": "LayoutView",
            "align_content": null,
            "align_items": null,
            "align_self": null,
            "border": null,
            "bottom": null,
            "display": null,
            "flex": null,
            "flex_flow": null,
            "grid_area": null,
            "grid_auto_columns": null,
            "grid_auto_flow": null,
            "grid_auto_rows": null,
            "grid_column": null,
            "grid_gap": null,
            "grid_row": null,
            "grid_template_areas": null,
            "grid_template_columns": null,
            "grid_template_rows": null,
            "height": null,
            "justify_content": null,
            "justify_items": null,
            "left": null,
            "margin": null,
            "max_height": null,
            "max_width": null,
            "min_height": null,
            "min_width": null,
            "object_fit": null,
            "object_position": null,
            "order": null,
            "overflow": null,
            "overflow_x": null,
            "overflow_y": null,
            "padding": null,
            "right": null,
            "top": null,
            "visibility": null,
            "width": null
          }
        },
        "a6b7af2352c44ab68e1da51c7847969f": {
          "model_module": "@jupyter-widgets/controls",
          "model_name": "DescriptionStyleModel",
          "model_module_version": "1.5.0",
          "state": {
            "_model_module": "@jupyter-widgets/controls",
            "_model_module_version": "1.5.0",
            "_model_name": "DescriptionStyleModel",
            "_view_count": null,
            "_view_module": "@jupyter-widgets/base",
            "_view_module_version": "1.2.0",
            "_view_name": "StyleView",
            "description_width": ""
          }
        },
        "084cc8ff096d416bbe20169b07c6f90d": {
          "model_module": "@jupyter-widgets/base",
          "model_name": "LayoutModel",
          "model_module_version": "1.2.0",
          "state": {
            "_model_module": "@jupyter-widgets/base",
            "_model_module_version": "1.2.0",
            "_model_name": "LayoutModel",
            "_view_count": null,
            "_view_module": "@jupyter-widgets/base",
            "_view_module_version": "1.2.0",
            "_view_name": "LayoutView",
            "align_content": null,
            "align_items": null,
            "align_self": null,
            "border": null,
            "bottom": null,
            "display": null,
            "flex": null,
            "flex_flow": null,
            "grid_area": null,
            "grid_auto_columns": null,
            "grid_auto_flow": null,
            "grid_auto_rows": null,
            "grid_column": null,
            "grid_gap": null,
            "grid_row": null,
            "grid_template_areas": null,
            "grid_template_columns": null,
            "grid_template_rows": null,
            "height": null,
            "justify_content": null,
            "justify_items": null,
            "left": null,
            "margin": null,
            "max_height": null,
            "max_width": null,
            "min_height": null,
            "min_width": null,
            "object_fit": null,
            "object_position": null,
            "order": null,
            "overflow": null,
            "overflow_x": null,
            "overflow_y": null,
            "padding": null,
            "right": null,
            "top": null,
            "visibility": null,
            "width": null
          }
        },
        "4727389e92324e89823d54ad589e13fb": {
          "model_module": "@jupyter-widgets/controls",
          "model_name": "ProgressStyleModel",
          "model_module_version": "1.5.0",
          "state": {
            "_model_module": "@jupyter-widgets/controls",
            "_model_module_version": "1.5.0",
            "_model_name": "ProgressStyleModel",
            "_view_count": null,
            "_view_module": "@jupyter-widgets/base",
            "_view_module_version": "1.2.0",
            "_view_name": "StyleView",
            "bar_color": null,
            "description_width": ""
          }
        },
        "d5c9d56339414aa1921b3ef6364ac17a": {
          "model_module": "@jupyter-widgets/base",
          "model_name": "LayoutModel",
          "model_module_version": "1.2.0",
          "state": {
            "_model_module": "@jupyter-widgets/base",
            "_model_module_version": "1.2.0",
            "_model_name": "LayoutModel",
            "_view_count": null,
            "_view_module": "@jupyter-widgets/base",
            "_view_module_version": "1.2.0",
            "_view_name": "LayoutView",
            "align_content": null,
            "align_items": null,
            "align_self": null,
            "border": null,
            "bottom": null,
            "display": null,
            "flex": null,
            "flex_flow": null,
            "grid_area": null,
            "grid_auto_columns": null,
            "grid_auto_flow": null,
            "grid_auto_rows": null,
            "grid_column": null,
            "grid_gap": null,
            "grid_row": null,
            "grid_template_areas": null,
            "grid_template_columns": null,
            "grid_template_rows": null,
            "height": null,
            "justify_content": null,
            "justify_items": null,
            "left": null,
            "margin": null,
            "max_height": null,
            "max_width": null,
            "min_height": null,
            "min_width": null,
            "object_fit": null,
            "object_position": null,
            "order": null,
            "overflow": null,
            "overflow_x": null,
            "overflow_y": null,
            "padding": null,
            "right": null,
            "top": null,
            "visibility": null,
            "width": null
          }
        },
        "f0ec3efd259c42eab61beacc3b48ace9": {
          "model_module": "@jupyter-widgets/controls",
          "model_name": "DescriptionStyleModel",
          "model_module_version": "1.5.0",
          "state": {
            "_model_module": "@jupyter-widgets/controls",
            "_model_module_version": "1.5.0",
            "_model_name": "DescriptionStyleModel",
            "_view_count": null,
            "_view_module": "@jupyter-widgets/base",
            "_view_module_version": "1.2.0",
            "_view_name": "StyleView",
            "description_width": ""
          }
        },
        "dcabe43e4f0047deae65c87de0581722": {
          "model_module": "@jupyter-widgets/controls",
          "model_name": "HBoxModel",
          "model_module_version": "1.5.0",
          "state": {
            "_dom_classes": [],
            "_model_module": "@jupyter-widgets/controls",
            "_model_module_version": "1.5.0",
            "_model_name": "HBoxModel",
            "_view_count": null,
            "_view_module": "@jupyter-widgets/controls",
            "_view_module_version": "1.5.0",
            "_view_name": "HBoxView",
            "box_style": "",
            "children": [
              "IPY_MODEL_f3711bc2f22e4cdb88e37c8c45dc0d70",
              "IPY_MODEL_cd71d6a779854ddc9aa78ebc99e947cd",
              "IPY_MODEL_4a8b0401612948969b3643c89a672ff3"
            ],
            "layout": "IPY_MODEL_09e67ce91d2141a1b543a462a3584771"
          }
        },
        "f3711bc2f22e4cdb88e37c8c45dc0d70": {
          "model_module": "@jupyter-widgets/controls",
          "model_name": "HTMLModel",
          "model_module_version": "1.5.0",
          "state": {
            "_dom_classes": [],
            "_model_module": "@jupyter-widgets/controls",
            "_model_module_version": "1.5.0",
            "_model_name": "HTMLModel",
            "_view_count": null,
            "_view_module": "@jupyter-widgets/controls",
            "_view_module_version": "1.5.0",
            "_view_name": "HTMLView",
            "description": "",
            "description_tooltip": null,
            "layout": "IPY_MODEL_23bed071db8e49448cf98007875a43ba",
            "placeholder": "​",
            "style": "IPY_MODEL_794fa0bcae894769aa92d7bdf8d02249",
            "value": "model.safetensors: 100%"
          }
        },
        "cd71d6a779854ddc9aa78ebc99e947cd": {
          "model_module": "@jupyter-widgets/controls",
          "model_name": "FloatProgressModel",
          "model_module_version": "1.5.0",
          "state": {
            "_dom_classes": [],
            "_model_module": "@jupyter-widgets/controls",
            "_model_module_version": "1.5.0",
            "_model_name": "FloatProgressModel",
            "_view_count": null,
            "_view_module": "@jupyter-widgets/controls",
            "_view_module_version": "1.5.0",
            "_view_name": "ProgressView",
            "bar_style": "success",
            "description": "",
            "description_tooltip": null,
            "layout": "IPY_MODEL_80f4fc028db94032abfe0eba2b8e0a35",
            "max": 46807446,
            "min": 0,
            "orientation": "horizontal",
            "style": "IPY_MODEL_5c195320236d410bb981b2797434bee1",
            "value": 46807446
          }
        },
        "4a8b0401612948969b3643c89a672ff3": {
          "model_module": "@jupyter-widgets/controls",
          "model_name": "HTMLModel",
          "model_module_version": "1.5.0",
          "state": {
            "_dom_classes": [],
            "_model_module": "@jupyter-widgets/controls",
            "_model_module_version": "1.5.0",
            "_model_name": "HTMLModel",
            "_view_count": null,
            "_view_module": "@jupyter-widgets/controls",
            "_view_module_version": "1.5.0",
            "_view_name": "HTMLView",
            "description": "",
            "description_tooltip": null,
            "layout": "IPY_MODEL_4cb7eb13dd524880850c93f6ce630b7c",
            "placeholder": "​",
            "style": "IPY_MODEL_f9bb22cb2aac4a1699dd89277fe9918d",
            "value": " 46.8M/46.8M [00:00&lt;00:00, 143MB/s]"
          }
        },
        "09e67ce91d2141a1b543a462a3584771": {
          "model_module": "@jupyter-widgets/base",
          "model_name": "LayoutModel",
          "model_module_version": "1.2.0",
          "state": {
            "_model_module": "@jupyter-widgets/base",
            "_model_module_version": "1.2.0",
            "_model_name": "LayoutModel",
            "_view_count": null,
            "_view_module": "@jupyter-widgets/base",
            "_view_module_version": "1.2.0",
            "_view_name": "LayoutView",
            "align_content": null,
            "align_items": null,
            "align_self": null,
            "border": null,
            "bottom": null,
            "display": null,
            "flex": null,
            "flex_flow": null,
            "grid_area": null,
            "grid_auto_columns": null,
            "grid_auto_flow": null,
            "grid_auto_rows": null,
            "grid_column": null,
            "grid_gap": null,
            "grid_row": null,
            "grid_template_areas": null,
            "grid_template_columns": null,
            "grid_template_rows": null,
            "height": null,
            "justify_content": null,
            "justify_items": null,
            "left": null,
            "margin": null,
            "max_height": null,
            "max_width": null,
            "min_height": null,
            "min_width": null,
            "object_fit": null,
            "object_position": null,
            "order": null,
            "overflow": null,
            "overflow_x": null,
            "overflow_y": null,
            "padding": null,
            "right": null,
            "top": null,
            "visibility": null,
            "width": null
          }
        },
        "23bed071db8e49448cf98007875a43ba": {
          "model_module": "@jupyter-widgets/base",
          "model_name": "LayoutModel",
          "model_module_version": "1.2.0",
          "state": {
            "_model_module": "@jupyter-widgets/base",
            "_model_module_version": "1.2.0",
            "_model_name": "LayoutModel",
            "_view_count": null,
            "_view_module": "@jupyter-widgets/base",
            "_view_module_version": "1.2.0",
            "_view_name": "LayoutView",
            "align_content": null,
            "align_items": null,
            "align_self": null,
            "border": null,
            "bottom": null,
            "display": null,
            "flex": null,
            "flex_flow": null,
            "grid_area": null,
            "grid_auto_columns": null,
            "grid_auto_flow": null,
            "grid_auto_rows": null,
            "grid_column": null,
            "grid_gap": null,
            "grid_row": null,
            "grid_template_areas": null,
            "grid_template_columns": null,
            "grid_template_rows": null,
            "height": null,
            "justify_content": null,
            "justify_items": null,
            "left": null,
            "margin": null,
            "max_height": null,
            "max_width": null,
            "min_height": null,
            "min_width": null,
            "object_fit": null,
            "object_position": null,
            "order": null,
            "overflow": null,
            "overflow_x": null,
            "overflow_y": null,
            "padding": null,
            "right": null,
            "top": null,
            "visibility": null,
            "width": null
          }
        },
        "794fa0bcae894769aa92d7bdf8d02249": {
          "model_module": "@jupyter-widgets/controls",
          "model_name": "DescriptionStyleModel",
          "model_module_version": "1.5.0",
          "state": {
            "_model_module": "@jupyter-widgets/controls",
            "_model_module_version": "1.5.0",
            "_model_name": "DescriptionStyleModel",
            "_view_count": null,
            "_view_module": "@jupyter-widgets/base",
            "_view_module_version": "1.2.0",
            "_view_name": "StyleView",
            "description_width": ""
          }
        },
        "80f4fc028db94032abfe0eba2b8e0a35": {
          "model_module": "@jupyter-widgets/base",
          "model_name": "LayoutModel",
          "model_module_version": "1.2.0",
          "state": {
            "_model_module": "@jupyter-widgets/base",
            "_model_module_version": "1.2.0",
            "_model_name": "LayoutModel",
            "_view_count": null,
            "_view_module": "@jupyter-widgets/base",
            "_view_module_version": "1.2.0",
            "_view_name": "LayoutView",
            "align_content": null,
            "align_items": null,
            "align_self": null,
            "border": null,
            "bottom": null,
            "display": null,
            "flex": null,
            "flex_flow": null,
            "grid_area": null,
            "grid_auto_columns": null,
            "grid_auto_flow": null,
            "grid_auto_rows": null,
            "grid_column": null,
            "grid_gap": null,
            "grid_row": null,
            "grid_template_areas": null,
            "grid_template_columns": null,
            "grid_template_rows": null,
            "height": null,
            "justify_content": null,
            "justify_items": null,
            "left": null,
            "margin": null,
            "max_height": null,
            "max_width": null,
            "min_height": null,
            "min_width": null,
            "object_fit": null,
            "object_position": null,
            "order": null,
            "overflow": null,
            "overflow_x": null,
            "overflow_y": null,
            "padding": null,
            "right": null,
            "top": null,
            "visibility": null,
            "width": null
          }
        },
        "5c195320236d410bb981b2797434bee1": {
          "model_module": "@jupyter-widgets/controls",
          "model_name": "ProgressStyleModel",
          "model_module_version": "1.5.0",
          "state": {
            "_model_module": "@jupyter-widgets/controls",
            "_model_module_version": "1.5.0",
            "_model_name": "ProgressStyleModel",
            "_view_count": null,
            "_view_module": "@jupyter-widgets/base",
            "_view_module_version": "1.2.0",
            "_view_name": "StyleView",
            "bar_color": null,
            "description_width": ""
          }
        },
        "4cb7eb13dd524880850c93f6ce630b7c": {
          "model_module": "@jupyter-widgets/base",
          "model_name": "LayoutModel",
          "model_module_version": "1.2.0",
          "state": {
            "_model_module": "@jupyter-widgets/base",
            "_model_module_version": "1.2.0",
            "_model_name": "LayoutModel",
            "_view_count": null,
            "_view_module": "@jupyter-widgets/base",
            "_view_module_version": "1.2.0",
            "_view_name": "LayoutView",
            "align_content": null,
            "align_items": null,
            "align_self": null,
            "border": null,
            "bottom": null,
            "display": null,
            "flex": null,
            "flex_flow": null,
            "grid_area": null,
            "grid_auto_columns": null,
            "grid_auto_flow": null,
            "grid_auto_rows": null,
            "grid_column": null,
            "grid_gap": null,
            "grid_row": null,
            "grid_template_areas": null,
            "grid_template_columns": null,
            "grid_template_rows": null,
            "height": null,
            "justify_content": null,
            "justify_items": null,
            "left": null,
            "margin": null,
            "max_height": null,
            "max_width": null,
            "min_height": null,
            "min_width": null,
            "object_fit": null,
            "object_position": null,
            "order": null,
            "overflow": null,
            "overflow_x": null,
            "overflow_y": null,
            "padding": null,
            "right": null,
            "top": null,
            "visibility": null,
            "width": null
          }
        },
        "f9bb22cb2aac4a1699dd89277fe9918d": {
          "model_module": "@jupyter-widgets/controls",
          "model_name": "DescriptionStyleModel",
          "model_module_version": "1.5.0",
          "state": {
            "_model_module": "@jupyter-widgets/controls",
            "_model_module_version": "1.5.0",
            "_model_name": "DescriptionStyleModel",
            "_view_count": null,
            "_view_module": "@jupyter-widgets/base",
            "_view_module_version": "1.2.0",
            "_view_name": "StyleView",
            "description_width": ""
          }
        }
      }
    }
  },
  "cells": [
    {
      "cell_type": "markdown",
      "source": [
        "# Document Splitters and Chunkers in LangChain\n",
        "* Notebook by Adam Lang\n",
        "* Date: 7/3/2024\n",
        "\n",
        "## Document Splitters and Chunkers\n",
        "* LangChain supports various document splitting and chunking mechanisms for transforming documents.\n",
        "* **LLM context window is the reason for splitting documents into smaller chunks or paragraphs.**\n",
        "* Documents can be split by various methods including but not limited to:\n",
        "1. sections\n",
        "2. character count\n",
        "3. token counts\n",
        "\n",
        "![image.png](data:image/png;base64,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)"
      ],
      "metadata": {
        "id": "sVvMnXgMKGWN"
      }
    },
    {
      "cell_type": "markdown",
      "source": [
        "* Chunking is the immediate step after Loading."
      ],
      "metadata": {
        "id": "NPw8IDGnKqU9"
      }
    },
    {
      "cell_type": "markdown",
      "source": [
        "## How does a Splitter work?\n",
        "* Text splitter works as follows:\n",
        "1. Split text into small, semantically meaningful chunks.\n",
        "2. Combine these small chunks into a larger chunk until you reach a certain size based on character count or token count.\n",
        "3. Once the appropriate size is reached, you make the chunk its own piece of text an then create new chunks of text with or without chunk overlaps.\n",
        "\n",
        "* Key aspects of splitting:\n",
        "1. **Splitting strategy** -\n",
        "  * Character - number of characters (e.g. 3000)\n",
        "  * Tokens - number of 100 tokens\n",
        "  * Semantic - chunk based on titles or heading sections of documents\n",
        "  * Sectional\n",
        "  * ...etc...\n",
        "2. **Chunk size measurement**\n",
        "  * Character count\n",
        "  * Token count\n",
        "\n",
        "## Common Splitters in LangChain\n",
        "\n",
        "![image.png](data:image/png;base64,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)"
      ],
      "metadata": {
        "id": "W37JADDtKxGH"
      }
    },
    {
      "cell_type": "markdown",
      "source": [
        "# Experimenting with Different Document Splitters and Chunkers in LangChain\n",
        "\n"
      ],
      "metadata": {
        "id": "S01yPpHKMzPU"
      }
    },
    {
      "cell_type": "markdown",
      "source": [
        "## Install OpenAI, HuggingFace, LangChain"
      ],
      "metadata": {
        "id": "nSYBB4r6M-Xb"
      }
    },
    {
      "cell_type": "code",
      "execution_count": 1,
      "metadata": {
        "colab": {
          "base_uri": "https://localhost:8080/"
        },
        "id": "JdWTZLdSKBFb",
        "outputId": "576e3793-fffe-4d45-b962-823c483b5aef"
      },
      "outputs": [
        {
          "output_type": "stream",
          "name": "stdout",
          "text": [
            "Requirement already satisfied: langchain==0.2.0 in /usr/local/lib/python3.10/dist-packages (0.2.0)\n",
            "Requirement already satisfied: PyYAML>=5.3 in /usr/local/lib/python3.10/dist-packages (from langchain==0.2.0) (6.0.1)\n",
            "Requirement already satisfied: SQLAlchemy<3,>=1.4 in /usr/local/lib/python3.10/dist-packages (from langchain==0.2.0) (2.0.31)\n",
            "Requirement already satisfied: aiohttp<4.0.0,>=3.8.3 in /usr/local/lib/python3.10/dist-packages (from langchain==0.2.0) (3.9.5)\n",
            "Requirement already satisfied: async-timeout<5.0.0,>=4.0.0 in /usr/local/lib/python3.10/dist-packages (from langchain==0.2.0) (4.0.3)\n",
            "Requirement already satisfied: dataclasses-json<0.7,>=0.5.7 in /usr/local/lib/python3.10/dist-packages (from langchain==0.2.0) (0.6.7)\n",
            "Requirement already satisfied: langchain-core<0.3.0,>=0.2.0 in /usr/local/lib/python3.10/dist-packages (from langchain==0.2.0) (0.2.11)\n",
            "Requirement already satisfied: langchain-text-splitters<0.3.0,>=0.2.0 in /usr/local/lib/python3.10/dist-packages (from langchain==0.2.0) (0.2.2)\n",
            "Requirement already satisfied: langsmith<0.2.0,>=0.1.17 in /usr/local/lib/python3.10/dist-packages (from langchain==0.2.0) (0.1.83)\n",
            "Requirement already satisfied: numpy<2,>=1 in /usr/local/lib/python3.10/dist-packages (from langchain==0.2.0) (1.25.2)\n",
            "Requirement already satisfied: pydantic<3,>=1 in /usr/local/lib/python3.10/dist-packages (from langchain==0.2.0) (2.7.4)\n",
            "Requirement already satisfied: requests<3,>=2 in /usr/local/lib/python3.10/dist-packages (from langchain==0.2.0) (2.31.0)\n",
            "Requirement already satisfied: tenacity<9.0.0,>=8.1.0 in /usr/local/lib/python3.10/dist-packages (from langchain==0.2.0) (8.4.2)\n",
            "Requirement already satisfied: aiosignal>=1.1.2 in /usr/local/lib/python3.10/dist-packages (from aiohttp<4.0.0,>=3.8.3->langchain==0.2.0) (1.3.1)\n",
            "Requirement already satisfied: attrs>=17.3.0 in /usr/local/lib/python3.10/dist-packages (from aiohttp<4.0.0,>=3.8.3->langchain==0.2.0) (23.2.0)\n",
            "Requirement already satisfied: frozenlist>=1.1.1 in /usr/local/lib/python3.10/dist-packages (from aiohttp<4.0.0,>=3.8.3->langchain==0.2.0) (1.4.1)\n",
            "Requirement already satisfied: multidict<7.0,>=4.5 in /usr/local/lib/python3.10/dist-packages (from aiohttp<4.0.0,>=3.8.3->langchain==0.2.0) (6.0.5)\n",
            "Requirement already satisfied: yarl<2.0,>=1.0 in /usr/local/lib/python3.10/dist-packages (from aiohttp<4.0.0,>=3.8.3->langchain==0.2.0) (1.9.4)\n",
            "Requirement already satisfied: marshmallow<4.0.0,>=3.18.0 in /usr/local/lib/python3.10/dist-packages (from dataclasses-json<0.7,>=0.5.7->langchain==0.2.0) (3.21.3)\n",
            "Requirement already satisfied: typing-inspect<1,>=0.4.0 in /usr/local/lib/python3.10/dist-packages (from dataclasses-json<0.7,>=0.5.7->langchain==0.2.0) (0.9.0)\n",
            "Requirement already satisfied: jsonpatch<2.0,>=1.33 in /usr/local/lib/python3.10/dist-packages (from langchain-core<0.3.0,>=0.2.0->langchain==0.2.0) (1.33)\n",
            "Requirement already satisfied: packaging<25,>=23.2 in /usr/local/lib/python3.10/dist-packages (from langchain-core<0.3.0,>=0.2.0->langchain==0.2.0) (24.1)\n",
            "Requirement already satisfied: orjson<4.0.0,>=3.9.14 in /usr/local/lib/python3.10/dist-packages (from langsmith<0.2.0,>=0.1.17->langchain==0.2.0) (3.10.6)\n",
            "Requirement already satisfied: annotated-types>=0.4.0 in /usr/local/lib/python3.10/dist-packages (from pydantic<3,>=1->langchain==0.2.0) (0.7.0)\n",
            "Requirement already satisfied: pydantic-core==2.18.4 in /usr/local/lib/python3.10/dist-packages (from pydantic<3,>=1->langchain==0.2.0) (2.18.4)\n",
            "Requirement already satisfied: typing-extensions>=4.6.1 in /usr/local/lib/python3.10/dist-packages (from pydantic<3,>=1->langchain==0.2.0) (4.12.2)\n",
            "Requirement already satisfied: charset-normalizer<4,>=2 in /usr/local/lib/python3.10/dist-packages (from requests<3,>=2->langchain==0.2.0) (3.3.2)\n",
            "Requirement already satisfied: idna<4,>=2.5 in /usr/local/lib/python3.10/dist-packages (from requests<3,>=2->langchain==0.2.0) (3.7)\n",
            "Requirement already satisfied: urllib3<3,>=1.21.1 in /usr/local/lib/python3.10/dist-packages (from requests<3,>=2->langchain==0.2.0) (2.0.7)\n",
            "Requirement already satisfied: certifi>=2017.4.17 in /usr/local/lib/python3.10/dist-packages (from requests<3,>=2->langchain==0.2.0) (2024.6.2)\n",
            "Requirement already satisfied: greenlet!=0.4.17 in /usr/local/lib/python3.10/dist-packages (from SQLAlchemy<3,>=1.4->langchain==0.2.0) (3.0.3)\n",
            "Requirement already satisfied: jsonpointer>=1.9 in /usr/local/lib/python3.10/dist-packages (from jsonpatch<2.0,>=1.33->langchain-core<0.3.0,>=0.2.0->langchain==0.2.0) (3.0.0)\n",
            "Requirement already satisfied: mypy-extensions>=0.3.0 in /usr/local/lib/python3.10/dist-packages (from typing-inspect<1,>=0.4.0->dataclasses-json<0.7,>=0.5.7->langchain==0.2.0) (1.0.0)\n",
            "Requirement already satisfied: langchain-openai==0.1.7 in /usr/local/lib/python3.10/dist-packages (0.1.7)\n",
            "Requirement already satisfied: langchain-core<0.3,>=0.1.46 in /usr/local/lib/python3.10/dist-packages (from langchain-openai==0.1.7) (0.2.11)\n",
            "Requirement already satisfied: openai<2.0.0,>=1.24.0 in /usr/local/lib/python3.10/dist-packages (from langchain-openai==0.1.7) (1.35.9)\n",
            "Requirement already satisfied: tiktoken<1,>=0.7 in /usr/local/lib/python3.10/dist-packages (from langchain-openai==0.1.7) (0.7.0)\n",
            "Requirement already satisfied: PyYAML>=5.3 in /usr/local/lib/python3.10/dist-packages (from langchain-core<0.3,>=0.1.46->langchain-openai==0.1.7) (6.0.1)\n",
            "Requirement already satisfied: jsonpatch<2.0,>=1.33 in /usr/local/lib/python3.10/dist-packages (from langchain-core<0.3,>=0.1.46->langchain-openai==0.1.7) (1.33)\n",
            "Requirement already satisfied: langsmith<0.2.0,>=0.1.75 in /usr/local/lib/python3.10/dist-packages (from langchain-core<0.3,>=0.1.46->langchain-openai==0.1.7) (0.1.83)\n",
            "Requirement already satisfied: packaging<25,>=23.2 in /usr/local/lib/python3.10/dist-packages (from langchain-core<0.3,>=0.1.46->langchain-openai==0.1.7) (24.1)\n",
            "Requirement already satisfied: pydantic<3,>=1 in /usr/local/lib/python3.10/dist-packages (from langchain-core<0.3,>=0.1.46->langchain-openai==0.1.7) (2.7.4)\n",
            "Requirement already satisfied: tenacity!=8.4.0,<9.0.0,>=8.1.0 in /usr/local/lib/python3.10/dist-packages (from langchain-core<0.3,>=0.1.46->langchain-openai==0.1.7) (8.4.2)\n",
            "Requirement already satisfied: anyio<5,>=3.5.0 in /usr/local/lib/python3.10/dist-packages (from openai<2.0.0,>=1.24.0->langchain-openai==0.1.7) (3.7.1)\n",
            "Requirement already satisfied: distro<2,>=1.7.0 in /usr/lib/python3/dist-packages (from openai<2.0.0,>=1.24.0->langchain-openai==0.1.7) (1.7.0)\n",
            "Requirement already satisfied: httpx<1,>=0.23.0 in /usr/local/lib/python3.10/dist-packages (from openai<2.0.0,>=1.24.0->langchain-openai==0.1.7) (0.27.0)\n",
            "Requirement already satisfied: sniffio in /usr/local/lib/python3.10/dist-packages (from openai<2.0.0,>=1.24.0->langchain-openai==0.1.7) (1.3.1)\n",
            "Requirement already satisfied: tqdm>4 in /usr/local/lib/python3.10/dist-packages (from openai<2.0.0,>=1.24.0->langchain-openai==0.1.7) (4.66.4)\n",
            "Requirement already satisfied: typing-extensions<5,>=4.7 in /usr/local/lib/python3.10/dist-packages (from openai<2.0.0,>=1.24.0->langchain-openai==0.1.7) (4.12.2)\n",
            "Requirement already satisfied: regex>=2022.1.18 in /usr/local/lib/python3.10/dist-packages (from tiktoken<1,>=0.7->langchain-openai==0.1.7) (2024.5.15)\n",
            "Requirement already satisfied: requests>=2.26.0 in /usr/local/lib/python3.10/dist-packages (from tiktoken<1,>=0.7->langchain-openai==0.1.7) (2.31.0)\n",
            "Requirement already satisfied: idna>=2.8 in /usr/local/lib/python3.10/dist-packages (from anyio<5,>=3.5.0->openai<2.0.0,>=1.24.0->langchain-openai==0.1.7) (3.7)\n",
            "Requirement already satisfied: exceptiongroup in /usr/local/lib/python3.10/dist-packages (from anyio<5,>=3.5.0->openai<2.0.0,>=1.24.0->langchain-openai==0.1.7) (1.2.1)\n",
            "Requirement already satisfied: certifi in /usr/local/lib/python3.10/dist-packages (from httpx<1,>=0.23.0->openai<2.0.0,>=1.24.0->langchain-openai==0.1.7) (2024.6.2)\n",
            "Requirement already satisfied: httpcore==1.* in /usr/local/lib/python3.10/dist-packages (from httpx<1,>=0.23.0->openai<2.0.0,>=1.24.0->langchain-openai==0.1.7) (1.0.5)\n",
            "Requirement already satisfied: h11<0.15,>=0.13 in /usr/local/lib/python3.10/dist-packages (from httpcore==1.*->httpx<1,>=0.23.0->openai<2.0.0,>=1.24.0->langchain-openai==0.1.7) (0.14.0)\n",
            "Requirement already satisfied: jsonpointer>=1.9 in /usr/local/lib/python3.10/dist-packages (from jsonpatch<2.0,>=1.33->langchain-core<0.3,>=0.1.46->langchain-openai==0.1.7) (3.0.0)\n",
            "Requirement already satisfied: orjson<4.0.0,>=3.9.14 in /usr/local/lib/python3.10/dist-packages (from langsmith<0.2.0,>=0.1.75->langchain-core<0.3,>=0.1.46->langchain-openai==0.1.7) (3.10.6)\n",
            "Requirement already satisfied: annotated-types>=0.4.0 in /usr/local/lib/python3.10/dist-packages (from pydantic<3,>=1->langchain-core<0.3,>=0.1.46->langchain-openai==0.1.7) (0.7.0)\n",
            "Requirement already satisfied: pydantic-core==2.18.4 in /usr/local/lib/python3.10/dist-packages (from pydantic<3,>=1->langchain-core<0.3,>=0.1.46->langchain-openai==0.1.7) (2.18.4)\n",
            "Requirement already satisfied: charset-normalizer<4,>=2 in /usr/local/lib/python3.10/dist-packages (from requests>=2.26.0->tiktoken<1,>=0.7->langchain-openai==0.1.7) (3.3.2)\n",
            "Requirement already satisfied: urllib3<3,>=1.21.1 in /usr/local/lib/python3.10/dist-packages (from requests>=2.26.0->tiktoken<1,>=0.7->langchain-openai==0.1.7) (2.0.7)\n",
            "Requirement already satisfied: langchain-community==0.2.0 in /usr/local/lib/python3.10/dist-packages (0.2.0)\n",
            "Requirement already satisfied: PyYAML>=5.3 in /usr/local/lib/python3.10/dist-packages (from langchain-community==0.2.0) (6.0.1)\n",
            "Requirement already satisfied: SQLAlchemy<3,>=1.4 in /usr/local/lib/python3.10/dist-packages (from langchain-community==0.2.0) (2.0.31)\n",
            "Requirement already satisfied: aiohttp<4.0.0,>=3.8.3 in /usr/local/lib/python3.10/dist-packages (from langchain-community==0.2.0) (3.9.5)\n",
            "Requirement already satisfied: dataclasses-json<0.7,>=0.5.7 in /usr/local/lib/python3.10/dist-packages (from langchain-community==0.2.0) (0.6.7)\n",
            "Requirement already satisfied: langchain<0.3.0,>=0.2.0 in /usr/local/lib/python3.10/dist-packages (from langchain-community==0.2.0) (0.2.0)\n",
            "Requirement already satisfied: langchain-core<0.3.0,>=0.2.0 in /usr/local/lib/python3.10/dist-packages (from langchain-community==0.2.0) (0.2.11)\n",
            "Requirement already satisfied: langsmith<0.2.0,>=0.1.0 in /usr/local/lib/python3.10/dist-packages (from langchain-community==0.2.0) (0.1.83)\n",
            "Requirement already satisfied: numpy<2,>=1 in /usr/local/lib/python3.10/dist-packages (from langchain-community==0.2.0) (1.25.2)\n",
            "Requirement already satisfied: requests<3,>=2 in /usr/local/lib/python3.10/dist-packages (from langchain-community==0.2.0) (2.31.0)\n",
            "Requirement already satisfied: tenacity<9.0.0,>=8.1.0 in /usr/local/lib/python3.10/dist-packages (from langchain-community==0.2.0) (8.4.2)\n",
            "Requirement already satisfied: aiosignal>=1.1.2 in /usr/local/lib/python3.10/dist-packages (from aiohttp<4.0.0,>=3.8.3->langchain-community==0.2.0) (1.3.1)\n",
            "Requirement already satisfied: attrs>=17.3.0 in /usr/local/lib/python3.10/dist-packages (from aiohttp<4.0.0,>=3.8.3->langchain-community==0.2.0) (23.2.0)\n",
            "Requirement already satisfied: frozenlist>=1.1.1 in /usr/local/lib/python3.10/dist-packages (from aiohttp<4.0.0,>=3.8.3->langchain-community==0.2.0) (1.4.1)\n",
            "Requirement already satisfied: multidict<7.0,>=4.5 in /usr/local/lib/python3.10/dist-packages (from aiohttp<4.0.0,>=3.8.3->langchain-community==0.2.0) (6.0.5)\n",
            "Requirement already satisfied: yarl<2.0,>=1.0 in /usr/local/lib/python3.10/dist-packages (from aiohttp<4.0.0,>=3.8.3->langchain-community==0.2.0) (1.9.4)\n",
            "Requirement already satisfied: async-timeout<5.0,>=4.0 in /usr/local/lib/python3.10/dist-packages (from aiohttp<4.0.0,>=3.8.3->langchain-community==0.2.0) (4.0.3)\n",
            "Requirement already satisfied: marshmallow<4.0.0,>=3.18.0 in /usr/local/lib/python3.10/dist-packages (from dataclasses-json<0.7,>=0.5.7->langchain-community==0.2.0) (3.21.3)\n",
            "Requirement already satisfied: typing-inspect<1,>=0.4.0 in /usr/local/lib/python3.10/dist-packages (from dataclasses-json<0.7,>=0.5.7->langchain-community==0.2.0) (0.9.0)\n",
            "Requirement already satisfied: langchain-text-splitters<0.3.0,>=0.2.0 in /usr/local/lib/python3.10/dist-packages (from langchain<0.3.0,>=0.2.0->langchain-community==0.2.0) (0.2.2)\n",
            "Requirement already satisfied: pydantic<3,>=1 in /usr/local/lib/python3.10/dist-packages (from langchain<0.3.0,>=0.2.0->langchain-community==0.2.0) (2.7.4)\n",
            "Requirement already satisfied: jsonpatch<2.0,>=1.33 in /usr/local/lib/python3.10/dist-packages (from langchain-core<0.3.0,>=0.2.0->langchain-community==0.2.0) (1.33)\n",
            "Requirement already satisfied: packaging<25,>=23.2 in /usr/local/lib/python3.10/dist-packages (from langchain-core<0.3.0,>=0.2.0->langchain-community==0.2.0) (24.1)\n",
            "Requirement already satisfied: orjson<4.0.0,>=3.9.14 in /usr/local/lib/python3.10/dist-packages (from langsmith<0.2.0,>=0.1.0->langchain-community==0.2.0) (3.10.6)\n",
            "Requirement already satisfied: charset-normalizer<4,>=2 in /usr/local/lib/python3.10/dist-packages (from requests<3,>=2->langchain-community==0.2.0) (3.3.2)\n",
            "Requirement already satisfied: idna<4,>=2.5 in /usr/local/lib/python3.10/dist-packages (from requests<3,>=2->langchain-community==0.2.0) (3.7)\n",
            "Requirement already satisfied: urllib3<3,>=1.21.1 in /usr/local/lib/python3.10/dist-packages (from requests<3,>=2->langchain-community==0.2.0) (2.0.7)\n",
            "Requirement already satisfied: certifi>=2017.4.17 in /usr/local/lib/python3.10/dist-packages (from requests<3,>=2->langchain-community==0.2.0) (2024.6.2)\n",
            "Requirement already satisfied: typing-extensions>=4.6.0 in /usr/local/lib/python3.10/dist-packages (from SQLAlchemy<3,>=1.4->langchain-community==0.2.0) (4.12.2)\n",
            "Requirement already satisfied: greenlet!=0.4.17 in /usr/local/lib/python3.10/dist-packages (from SQLAlchemy<3,>=1.4->langchain-community==0.2.0) (3.0.3)\n",
            "Requirement already satisfied: jsonpointer>=1.9 in /usr/local/lib/python3.10/dist-packages (from jsonpatch<2.0,>=1.33->langchain-core<0.3.0,>=0.2.0->langchain-community==0.2.0) (3.0.0)\n",
            "Requirement already satisfied: annotated-types>=0.4.0 in /usr/local/lib/python3.10/dist-packages (from pydantic<3,>=1->langchain<0.3.0,>=0.2.0->langchain-community==0.2.0) (0.7.0)\n",
            "Requirement already satisfied: pydantic-core==2.18.4 in /usr/local/lib/python3.10/dist-packages (from pydantic<3,>=1->langchain<0.3.0,>=0.2.0->langchain-community==0.2.0) (2.18.4)\n",
            "Requirement already satisfied: mypy-extensions>=0.3.0 in /usr/local/lib/python3.10/dist-packages (from typing-inspect<1,>=0.4.0->dataclasses-json<0.7,>=0.5.7->langchain-community==0.2.0) (1.0.0)\n"
          ]
        }
      ],
      "source": [
        "!pip install langchain==0.2.0\n",
        "!pip install langchain-openai==0.1.7\n",
        "!pip install langchain-community==0.2.0"
      ]
    },
    {
      "cell_type": "code",
      "source": [
        "## unstructured.io library\n",
        "!pip install \"unstructured[all-docs]==0.14.0\""
      ],
      "metadata": {
        "colab": {
          "base_uri": "https://localhost:8080/"
        },
        "id": "BfJ3etybNFVY",
        "outputId": "c3a026af-5073-4a1b-919a-c629ff62e928"
      },
      "execution_count": 2,
      "outputs": [
        {
          "output_type": "stream",
          "name": "stdout",
          "text": [
            "Requirement already satisfied: unstructured[all-docs]==0.14.0 in /usr/local/lib/python3.10/dist-packages (0.14.0)\n",
            "Requirement already satisfied: chardet in /usr/local/lib/python3.10/dist-packages (from unstructured[all-docs]==0.14.0) (5.2.0)\n",
            "Requirement already satisfied: filetype in /usr/local/lib/python3.10/dist-packages (from unstructured[all-docs]==0.14.0) (1.2.0)\n",
            "Requirement already satisfied: python-magic in /usr/local/lib/python3.10/dist-packages (from unstructured[all-docs]==0.14.0) (0.4.27)\n",
            "Requirement already satisfied: lxml in /usr/local/lib/python3.10/dist-packages (from unstructured[all-docs]==0.14.0) (4.9.4)\n",
            "Requirement already satisfied: nltk in /usr/local/lib/python3.10/dist-packages (from unstructured[all-docs]==0.14.0) (3.8.1)\n",
            "Requirement already satisfied: tabulate in /usr/local/lib/python3.10/dist-packages (from unstructured[all-docs]==0.14.0) (0.9.0)\n",
            "Requirement already satisfied: requests in /usr/local/lib/python3.10/dist-packages (from unstructured[all-docs]==0.14.0) (2.31.0)\n",
            "Requirement already satisfied: beautifulsoup4 in /usr/local/lib/python3.10/dist-packages (from unstructured[all-docs]==0.14.0) (4.12.3)\n",
            "Requirement already satisfied: emoji in /usr/local/lib/python3.10/dist-packages (from unstructured[all-docs]==0.14.0) (2.12.1)\n",
            "Requirement already satisfied: dataclasses-json in /usr/local/lib/python3.10/dist-packages (from unstructured[all-docs]==0.14.0) (0.6.7)\n",
            "Requirement already satisfied: python-iso639 in /usr/local/lib/python3.10/dist-packages (from unstructured[all-docs]==0.14.0) (2024.4.27)\n",
            "Requirement already satisfied: langdetect in /usr/local/lib/python3.10/dist-packages (from unstructured[all-docs]==0.14.0) (1.0.9)\n",
            "Requirement already satisfied: numpy in /usr/local/lib/python3.10/dist-packages (from unstructured[all-docs]==0.14.0) (1.25.2)\n",
            "Requirement already satisfied: rapidfuzz in /usr/local/lib/python3.10/dist-packages (from unstructured[all-docs]==0.14.0) (3.9.4)\n",
            "Requirement already satisfied: backoff in /usr/local/lib/python3.10/dist-packages (from unstructured[all-docs]==0.14.0) (2.2.1)\n",
            "Requirement already satisfied: typing-extensions in /usr/local/lib/python3.10/dist-packages (from unstructured[all-docs]==0.14.0) (4.12.2)\n",
            "Requirement already satisfied: unstructured-client in /usr/local/lib/python3.10/dist-packages (from unstructured[all-docs]==0.14.0) (0.23.8)\n",
            "Requirement already satisfied: wrapt in /usr/local/lib/python3.10/dist-packages (from unstructured[all-docs]==0.14.0) (1.14.1)\n",
            "Requirement already satisfied: pikepdf in /usr/local/lib/python3.10/dist-packages (from unstructured[all-docs]==0.14.0) (9.0.0)\n",
            "Requirement already satisfied: pdfminer.six in /usr/local/lib/python3.10/dist-packages (from unstructured[all-docs]==0.14.0) (20231228)\n",
            "Requirement already satisfied: python-pptx<=0.6.23 in /usr/local/lib/python3.10/dist-packages (from unstructured[all-docs]==0.14.0) (0.6.23)\n",
            "Requirement already satisfied: networkx in /usr/local/lib/python3.10/dist-packages (from unstructured[all-docs]==0.14.0) (3.3)\n",
            "Requirement already satisfied: pdf2image in /usr/local/lib/python3.10/dist-packages (from unstructured[all-docs]==0.14.0) (1.17.0)\n",
            "Requirement already satisfied: pypandoc in /usr/local/lib/python3.10/dist-packages (from unstructured[all-docs]==0.14.0) (1.13)\n",
            "Requirement already satisfied: onnx in /usr/local/lib/python3.10/dist-packages (from unstructured[all-docs]==0.14.0) (1.16.1)\n",
            "Requirement already satisfied: unstructured.pytesseract>=0.3.12 in /usr/local/lib/python3.10/dist-packages (from unstructured[all-docs]==0.14.0) (0.3.12)\n",
            "Requirement already satisfied: google-cloud-vision in /usr/local/lib/python3.10/dist-packages (from unstructured[all-docs]==0.14.0) (3.7.2)\n",
            "Requirement already satisfied: python-docx in /usr/local/lib/python3.10/dist-packages (from unstructured[all-docs]==0.14.0) (1.1.2)\n",
            "Requirement already satisfied: pypdf in /usr/local/lib/python3.10/dist-packages (from unstructured[all-docs]==0.14.0) (4.2.0)\n",
            "Requirement already satisfied: pandas in /usr/local/lib/python3.10/dist-packages (from unstructured[all-docs]==0.14.0) (2.0.3)\n",
            "Requirement already satisfied: pillow-heif in /usr/local/lib/python3.10/dist-packages (from unstructured[all-docs]==0.14.0) (0.17.0)\n",
            "Requirement already satisfied: markdown in /usr/local/lib/python3.10/dist-packages (from unstructured[all-docs]==0.14.0) (3.6)\n",
            "Requirement already satisfied: msg-parser in /usr/local/lib/python3.10/dist-packages (from unstructured[all-docs]==0.14.0) (1.2.0)\n",
            "Requirement already satisfied: unstructured-inference==0.7.31 in /usr/local/lib/python3.10/dist-packages (from unstructured[all-docs]==0.14.0) (0.7.31)\n",
            "Requirement already satisfied: openpyxl in /usr/local/lib/python3.10/dist-packages (from unstructured[all-docs]==0.14.0) (3.1.5)\n",
            "Requirement already satisfied: xlrd in /usr/local/lib/python3.10/dist-packages (from unstructured[all-docs]==0.14.0) (2.0.1)\n",
            "Requirement already satisfied: layoutparser[layoutmodels,tesseract] in /usr/local/lib/python3.10/dist-packages (from unstructured-inference==0.7.31->unstructured[all-docs]==0.14.0) (0.3.4)\n",
            "Requirement already satisfied: python-multipart in /usr/local/lib/python3.10/dist-packages (from unstructured-inference==0.7.31->unstructured[all-docs]==0.14.0) (0.0.9)\n",
            "Requirement already satisfied: huggingface-hub in /usr/local/lib/python3.10/dist-packages (from unstructured-inference==0.7.31->unstructured[all-docs]==0.14.0) (0.23.4)\n",
            "Requirement already satisfied: opencv-python!=4.7.0.68 in /usr/local/lib/python3.10/dist-packages (from unstructured-inference==0.7.31->unstructured[all-docs]==0.14.0) (4.8.0.76)\n",
            "Requirement already satisfied: onnxruntime>=1.17.0 in /usr/local/lib/python3.10/dist-packages (from unstructured-inference==0.7.31->unstructured[all-docs]==0.14.0) (1.18.1)\n",
            "Requirement already satisfied: transformers>=4.25.1 in /usr/local/lib/python3.10/dist-packages (from unstructured-inference==0.7.31->unstructured[all-docs]==0.14.0) (4.41.2)\n",
            "Requirement already satisfied: Pillow>=3.3.2 in /usr/local/lib/python3.10/dist-packages (from python-pptx<=0.6.23->unstructured[all-docs]==0.14.0) (10.4.0)\n",
            "Requirement already satisfied: XlsxWriter>=0.5.7 in /usr/local/lib/python3.10/dist-packages (from python-pptx<=0.6.23->unstructured[all-docs]==0.14.0) (3.2.0)\n",
            "Requirement already satisfied: packaging>=21.3 in /usr/local/lib/python3.10/dist-packages (from unstructured.pytesseract>=0.3.12->unstructured[all-docs]==0.14.0) (24.1)\n",
            "Requirement already satisfied: soupsieve>1.2 in /usr/local/lib/python3.10/dist-packages (from beautifulsoup4->unstructured[all-docs]==0.14.0) (2.5)\n",
            "Requirement already satisfied: marshmallow<4.0.0,>=3.18.0 in /usr/local/lib/python3.10/dist-packages (from dataclasses-json->unstructured[all-docs]==0.14.0) (3.21.3)\n",
            "Requirement already satisfied: typing-inspect<1,>=0.4.0 in /usr/local/lib/python3.10/dist-packages (from dataclasses-json->unstructured[all-docs]==0.14.0) (0.9.0)\n",
            "Requirement already satisfied: google-api-core[grpc]!=2.0.*,!=2.1.*,!=2.10.*,!=2.2.*,!=2.3.*,!=2.4.*,!=2.5.*,!=2.6.*,!=2.7.*,!=2.8.*,!=2.9.*,<3.0.0dev,>=1.34.1 in /usr/local/lib/python3.10/dist-packages (from google-cloud-vision->unstructured[all-docs]==0.14.0) (2.16.2)\n",
            "Requirement already satisfied: google-auth!=2.24.0,!=2.25.0,<3.0.0dev,>=2.14.1 in /usr/local/lib/python3.10/dist-packages (from google-cloud-vision->unstructured[all-docs]==0.14.0) (2.27.0)\n",
            "Requirement already satisfied: proto-plus<2.0.0dev,>=1.22.3 in /usr/local/lib/python3.10/dist-packages (from google-cloud-vision->unstructured[all-docs]==0.14.0) (1.24.0)\n",
            "Requirement already satisfied: protobuf!=3.20.0,!=3.20.1,!=4.21.0,!=4.21.1,!=4.21.2,!=4.21.3,!=4.21.4,!=4.21.5,<5.0.0dev,>=3.19.5 in /usr/local/lib/python3.10/dist-packages (from google-cloud-vision->unstructured[all-docs]==0.14.0) (3.20.3)\n",
            "Requirement already satisfied: six in /usr/local/lib/python3.10/dist-packages (from langdetect->unstructured[all-docs]==0.14.0) (1.16.0)\n",
            "Requirement already satisfied: olefile>=0.46 in /usr/local/lib/python3.10/dist-packages (from msg-parser->unstructured[all-docs]==0.14.0) (0.47)\n",
            "Requirement already satisfied: click in /usr/local/lib/python3.10/dist-packages (from nltk->unstructured[all-docs]==0.14.0) (8.1.7)\n",
            "Requirement already satisfied: joblib in /usr/local/lib/python3.10/dist-packages (from nltk->unstructured[all-docs]==0.14.0) (1.4.2)\n",
            "Requirement already satisfied: regex>=2021.8.3 in /usr/local/lib/python3.10/dist-packages (from nltk->unstructured[all-docs]==0.14.0) (2024.5.15)\n",
            "Requirement already satisfied: tqdm in /usr/local/lib/python3.10/dist-packages (from nltk->unstructured[all-docs]==0.14.0) (4.66.4)\n",
            "Requirement already satisfied: et-xmlfile in /usr/local/lib/python3.10/dist-packages (from openpyxl->unstructured[all-docs]==0.14.0) (1.1.0)\n",
            "Requirement already satisfied: python-dateutil>=2.8.2 in /usr/local/lib/python3.10/dist-packages (from pandas->unstructured[all-docs]==0.14.0) (2.8.2)\n",
            "Requirement already satisfied: pytz>=2020.1 in /usr/local/lib/python3.10/dist-packages (from pandas->unstructured[all-docs]==0.14.0) (2023.4)\n",
            "Requirement already satisfied: tzdata>=2022.1 in /usr/local/lib/python3.10/dist-packages (from pandas->unstructured[all-docs]==0.14.0) (2024.1)\n",
            "Requirement already satisfied: charset-normalizer>=2.0.0 in /usr/local/lib/python3.10/dist-packages (from pdfminer.six->unstructured[all-docs]==0.14.0) (3.3.2)\n",
            "Requirement already satisfied: cryptography>=36.0.0 in /usr/local/lib/python3.10/dist-packages (from pdfminer.six->unstructured[all-docs]==0.14.0) (42.0.8)\n",
            "Requirement already satisfied: Deprecated in /usr/local/lib/python3.10/dist-packages (from pikepdf->unstructured[all-docs]==0.14.0) (1.2.14)\n",
            "Requirement already satisfied: idna<4,>=2.5 in /usr/local/lib/python3.10/dist-packages (from requests->unstructured[all-docs]==0.14.0) (3.7)\n",
            "Requirement already satisfied: urllib3<3,>=1.21.1 in /usr/local/lib/python3.10/dist-packages (from requests->unstructured[all-docs]==0.14.0) (2.0.7)\n",
            "Requirement already satisfied: certifi>=2017.4.17 in /usr/local/lib/python3.10/dist-packages (from requests->unstructured[all-docs]==0.14.0) (2024.6.2)\n",
            "Requirement already satisfied: deepdiff>=6.0 in /usr/local/lib/python3.10/dist-packages (from unstructured-client->unstructured[all-docs]==0.14.0) (7.0.1)\n",
            "Requirement already satisfied: httpx>=0.27.0 in /usr/local/lib/python3.10/dist-packages (from unstructured-client->unstructured[all-docs]==0.14.0) (0.27.0)\n",
            "Requirement already satisfied: jsonpath-python>=1.0.6 in /usr/local/lib/python3.10/dist-packages (from unstructured-client->unstructured[all-docs]==0.14.0) (1.0.6)\n",
            "Requirement already satisfied: mypy-extensions>=1.0.0 in /usr/local/lib/python3.10/dist-packages (from unstructured-client->unstructured[all-docs]==0.14.0) (1.0.0)\n",
            "Requirement already satisfied: nest-asyncio>=1.6.0 in /usr/local/lib/python3.10/dist-packages (from unstructured-client->unstructured[all-docs]==0.14.0) (1.6.0)\n",
            "Requirement already satisfied: requests-toolbelt>=1.0.0 in /usr/local/lib/python3.10/dist-packages (from unstructured-client->unstructured[all-docs]==0.14.0) (1.0.0)\n",
            "Requirement already satisfied: cffi>=1.12 in /usr/local/lib/python3.10/dist-packages (from cryptography>=36.0.0->pdfminer.six->unstructured[all-docs]==0.14.0) (1.16.0)\n",
            "Requirement already satisfied: ordered-set<4.2.0,>=4.1.0 in /usr/local/lib/python3.10/dist-packages (from deepdiff>=6.0->unstructured-client->unstructured[all-docs]==0.14.0) (4.1.0)\n",
            "Requirement already satisfied: googleapis-common-protos<2.0.dev0,>=1.56.2 in /usr/local/lib/python3.10/dist-packages (from google-api-core[grpc]!=2.0.*,!=2.1.*,!=2.10.*,!=2.2.*,!=2.3.*,!=2.4.*,!=2.5.*,!=2.6.*,!=2.7.*,!=2.8.*,!=2.9.*,<3.0.0dev,>=1.34.1->google-cloud-vision->unstructured[all-docs]==0.14.0) (1.63.2)\n",
            "Requirement already satisfied: grpcio<2.0dev,>=1.33.2 in /usr/local/lib/python3.10/dist-packages (from google-api-core[grpc]!=2.0.*,!=2.1.*,!=2.10.*,!=2.2.*,!=2.3.*,!=2.4.*,!=2.5.*,!=2.6.*,!=2.7.*,!=2.8.*,!=2.9.*,<3.0.0dev,>=1.34.1->google-cloud-vision->unstructured[all-docs]==0.14.0) (1.64.1)\n",
            "Requirement already satisfied: grpcio-status<2.0.dev0,>=1.33.2 in /usr/local/lib/python3.10/dist-packages (from google-api-core[grpc]!=2.0.*,!=2.1.*,!=2.10.*,!=2.2.*,!=2.3.*,!=2.4.*,!=2.5.*,!=2.6.*,!=2.7.*,!=2.8.*,!=2.9.*,<3.0.0dev,>=1.34.1->google-cloud-vision->unstructured[all-docs]==0.14.0) (1.48.2)\n",
            "Requirement already satisfied: cachetools<6.0,>=2.0.0 in /usr/local/lib/python3.10/dist-packages (from google-auth!=2.24.0,!=2.25.0,<3.0.0dev,>=2.14.1->google-cloud-vision->unstructured[all-docs]==0.14.0) (5.3.3)\n",
            "Requirement already satisfied: pyasn1-modules>=0.2.1 in /usr/local/lib/python3.10/dist-packages (from google-auth!=2.24.0,!=2.25.0,<3.0.0dev,>=2.14.1->google-cloud-vision->unstructured[all-docs]==0.14.0) (0.4.0)\n",
            "Requirement already satisfied: rsa<5,>=3.1.4 in /usr/local/lib/python3.10/dist-packages (from google-auth!=2.24.0,!=2.25.0,<3.0.0dev,>=2.14.1->google-cloud-vision->unstructured[all-docs]==0.14.0) (4.9)\n",
            "Requirement already satisfied: anyio in /usr/local/lib/python3.10/dist-packages (from httpx>=0.27.0->unstructured-client->unstructured[all-docs]==0.14.0) (3.7.1)\n",
            "Requirement already satisfied: httpcore==1.* in /usr/local/lib/python3.10/dist-packages (from httpx>=0.27.0->unstructured-client->unstructured[all-docs]==0.14.0) (1.0.5)\n",
            "Requirement already satisfied: sniffio in /usr/local/lib/python3.10/dist-packages (from httpx>=0.27.0->unstructured-client->unstructured[all-docs]==0.14.0) (1.3.1)\n",
            "Requirement already satisfied: h11<0.15,>=0.13 in /usr/local/lib/python3.10/dist-packages (from httpcore==1.*->httpx>=0.27.0->unstructured-client->unstructured[all-docs]==0.14.0) (0.14.0)\n",
            "Requirement already satisfied: coloredlogs in /usr/local/lib/python3.10/dist-packages (from onnxruntime>=1.17.0->unstructured-inference==0.7.31->unstructured[all-docs]==0.14.0) (15.0.1)\n",
            "Requirement already satisfied: flatbuffers in /usr/local/lib/python3.10/dist-packages (from onnxruntime>=1.17.0->unstructured-inference==0.7.31->unstructured[all-docs]==0.14.0) (24.3.25)\n",
            "Requirement already satisfied: sympy in /usr/local/lib/python3.10/dist-packages (from onnxruntime>=1.17.0->unstructured-inference==0.7.31->unstructured[all-docs]==0.14.0) (1.12.1)\n",
            "Requirement already satisfied: filelock in /usr/local/lib/python3.10/dist-packages (from transformers>=4.25.1->unstructured-inference==0.7.31->unstructured[all-docs]==0.14.0) (3.15.4)\n",
            "Requirement already satisfied: pyyaml>=5.1 in /usr/local/lib/python3.10/dist-packages (from transformers>=4.25.1->unstructured-inference==0.7.31->unstructured[all-docs]==0.14.0) (6.0.1)\n",
            "Requirement already satisfied: tokenizers<0.20,>=0.19 in /usr/local/lib/python3.10/dist-packages (from transformers>=4.25.1->unstructured-inference==0.7.31->unstructured[all-docs]==0.14.0) (0.19.1)\n",
            "Requirement already satisfied: safetensors>=0.4.1 in /usr/local/lib/python3.10/dist-packages (from transformers>=4.25.1->unstructured-inference==0.7.31->unstructured[all-docs]==0.14.0) (0.4.3)\n",
            "Requirement already satisfied: fsspec>=2023.5.0 in /usr/local/lib/python3.10/dist-packages (from huggingface-hub->unstructured-inference==0.7.31->unstructured[all-docs]==0.14.0) (2023.6.0)\n",
            "Requirement already satisfied: scipy in /usr/local/lib/python3.10/dist-packages (from layoutparser[layoutmodels,tesseract]->unstructured-inference==0.7.31->unstructured[all-docs]==0.14.0) (1.11.4)\n",
            "Requirement already satisfied: iopath in /usr/local/lib/python3.10/dist-packages (from layoutparser[layoutmodels,tesseract]->unstructured-inference==0.7.31->unstructured[all-docs]==0.14.0) (0.1.10)\n",
            "Requirement already satisfied: pdfplumber in /usr/local/lib/python3.10/dist-packages (from layoutparser[layoutmodels,tesseract]->unstructured-inference==0.7.31->unstructured[all-docs]==0.14.0) (0.11.1)\n",
            "Requirement already satisfied: torch in /usr/local/lib/python3.10/dist-packages (from layoutparser[layoutmodels,tesseract]->unstructured-inference==0.7.31->unstructured[all-docs]==0.14.0) (2.3.0+cu121)\n",
            "Requirement already satisfied: torchvision in /usr/local/lib/python3.10/dist-packages (from layoutparser[layoutmodels,tesseract]->unstructured-inference==0.7.31->unstructured[all-docs]==0.14.0) (0.18.0+cu121)\n",
            "Requirement already satisfied: effdet in /usr/local/lib/python3.10/dist-packages (from layoutparser[layoutmodels,tesseract]->unstructured-inference==0.7.31->unstructured[all-docs]==0.14.0) (0.4.1)\n",
            "Requirement already satisfied: pytesseract in /usr/local/lib/python3.10/dist-packages (from layoutparser[layoutmodels,tesseract]->unstructured-inference==0.7.31->unstructured[all-docs]==0.14.0) (0.3.10)\n",
            "Requirement already satisfied: pycparser in /usr/local/lib/python3.10/dist-packages (from cffi>=1.12->cryptography>=36.0.0->pdfminer.six->unstructured[all-docs]==0.14.0) (2.22)\n",
            "Requirement already satisfied: pyasn1<0.7.0,>=0.4.6 in /usr/local/lib/python3.10/dist-packages (from pyasn1-modules>=0.2.1->google-auth!=2.24.0,!=2.25.0,<3.0.0dev,>=2.14.1->google-cloud-vision->unstructured[all-docs]==0.14.0) (0.6.0)\n",
            "Requirement already satisfied: exceptiongroup in /usr/local/lib/python3.10/dist-packages (from anyio->httpx>=0.27.0->unstructured-client->unstructured[all-docs]==0.14.0) (1.2.1)\n",
            "Requirement already satisfied: humanfriendly>=9.1 in /usr/local/lib/python3.10/dist-packages (from coloredlogs->onnxruntime>=1.17.0->unstructured-inference==0.7.31->unstructured[all-docs]==0.14.0) (10.0)\n",
            "Requirement already satisfied: timm>=0.9.2 in /usr/local/lib/python3.10/dist-packages (from effdet->layoutparser[layoutmodels,tesseract]->unstructured-inference==0.7.31->unstructured[all-docs]==0.14.0) (1.0.7)\n",
            "Requirement already satisfied: pycocotools>=2.0.2 in /usr/local/lib/python3.10/dist-packages (from effdet->layoutparser[layoutmodels,tesseract]->unstructured-inference==0.7.31->unstructured[all-docs]==0.14.0) (2.0.8)\n",
            "Requirement already satisfied: omegaconf>=2.0 in /usr/local/lib/python3.10/dist-packages (from effdet->layoutparser[layoutmodels,tesseract]->unstructured-inference==0.7.31->unstructured[all-docs]==0.14.0) (2.3.0)\n",
            "Requirement already satisfied: jinja2 in /usr/local/lib/python3.10/dist-packages (from torch->layoutparser[layoutmodels,tesseract]->unstructured-inference==0.7.31->unstructured[all-docs]==0.14.0) (3.1.4)\n",
            "Requirement already satisfied: nvidia-cuda-nvrtc-cu12==12.1.105 in /usr/local/lib/python3.10/dist-packages (from torch->layoutparser[layoutmodels,tesseract]->unstructured-inference==0.7.31->unstructured[all-docs]==0.14.0) (12.1.105)\n",
            "Requirement already satisfied: nvidia-cuda-runtime-cu12==12.1.105 in /usr/local/lib/python3.10/dist-packages (from torch->layoutparser[layoutmodels,tesseract]->unstructured-inference==0.7.31->unstructured[all-docs]==0.14.0) (12.1.105)\n",
            "Requirement already satisfied: nvidia-cuda-cupti-cu12==12.1.105 in /usr/local/lib/python3.10/dist-packages (from torch->layoutparser[layoutmodels,tesseract]->unstructured-inference==0.7.31->unstructured[all-docs]==0.14.0) (12.1.105)\n",
            "Requirement already satisfied: nvidia-cudnn-cu12==8.9.2.26 in /usr/local/lib/python3.10/dist-packages (from torch->layoutparser[layoutmodels,tesseract]->unstructured-inference==0.7.31->unstructured[all-docs]==0.14.0) (8.9.2.26)\n",
            "Requirement already satisfied: nvidia-cublas-cu12==12.1.3.1 in /usr/local/lib/python3.10/dist-packages (from torch->layoutparser[layoutmodels,tesseract]->unstructured-inference==0.7.31->unstructured[all-docs]==0.14.0) (12.1.3.1)\n",
            "Requirement already satisfied: nvidia-cufft-cu12==11.0.2.54 in /usr/local/lib/python3.10/dist-packages (from torch->layoutparser[layoutmodels,tesseract]->unstructured-inference==0.7.31->unstructured[all-docs]==0.14.0) (11.0.2.54)\n",
            "Requirement already satisfied: nvidia-curand-cu12==10.3.2.106 in /usr/local/lib/python3.10/dist-packages (from torch->layoutparser[layoutmodels,tesseract]->unstructured-inference==0.7.31->unstructured[all-docs]==0.14.0) (10.3.2.106)\n",
            "Requirement already satisfied: nvidia-cusolver-cu12==11.4.5.107 in /usr/local/lib/python3.10/dist-packages (from torch->layoutparser[layoutmodels,tesseract]->unstructured-inference==0.7.31->unstructured[all-docs]==0.14.0) (11.4.5.107)\n",
            "Requirement already satisfied: nvidia-cusparse-cu12==12.1.0.106 in /usr/local/lib/python3.10/dist-packages (from torch->layoutparser[layoutmodels,tesseract]->unstructured-inference==0.7.31->unstructured[all-docs]==0.14.0) (12.1.0.106)\n",
            "Requirement already satisfied: nvidia-nccl-cu12==2.20.5 in /usr/local/lib/python3.10/dist-packages (from torch->layoutparser[layoutmodels,tesseract]->unstructured-inference==0.7.31->unstructured[all-docs]==0.14.0) (2.20.5)\n",
            "Requirement already satisfied: nvidia-nvtx-cu12==12.1.105 in /usr/local/lib/python3.10/dist-packages (from torch->layoutparser[layoutmodels,tesseract]->unstructured-inference==0.7.31->unstructured[all-docs]==0.14.0) (12.1.105)\n",
            "Requirement already satisfied: triton==2.3.0 in /usr/local/lib/python3.10/dist-packages (from torch->layoutparser[layoutmodels,tesseract]->unstructured-inference==0.7.31->unstructured[all-docs]==0.14.0) (2.3.0)\n",
            "Requirement already satisfied: nvidia-nvjitlink-cu12 in /usr/local/lib/python3.10/dist-packages (from nvidia-cusolver-cu12==11.4.5.107->torch->layoutparser[layoutmodels,tesseract]->unstructured-inference==0.7.31->unstructured[all-docs]==0.14.0) (12.5.82)\n",
            "Requirement already satisfied: portalocker in /usr/local/lib/python3.10/dist-packages (from iopath->layoutparser[layoutmodels,tesseract]->unstructured-inference==0.7.31->unstructured[all-docs]==0.14.0) (2.10.0)\n",
            "Requirement already satisfied: pypdfium2>=4.18.0 in /usr/local/lib/python3.10/dist-packages (from pdfplumber->layoutparser[layoutmodels,tesseract]->unstructured-inference==0.7.31->unstructured[all-docs]==0.14.0) (4.30.0)\n",
            "Requirement already satisfied: mpmath<1.4.0,>=1.1.0 in /usr/local/lib/python3.10/dist-packages (from sympy->onnxruntime>=1.17.0->unstructured-inference==0.7.31->unstructured[all-docs]==0.14.0) (1.3.0)\n",
            "Requirement already satisfied: antlr4-python3-runtime==4.9.* in /usr/local/lib/python3.10/dist-packages (from omegaconf>=2.0->effdet->layoutparser[layoutmodels,tesseract]->unstructured-inference==0.7.31->unstructured[all-docs]==0.14.0) (4.9.3)\n",
            "Requirement already satisfied: matplotlib>=2.1.0 in /usr/local/lib/python3.10/dist-packages (from pycocotools>=2.0.2->effdet->layoutparser[layoutmodels,tesseract]->unstructured-inference==0.7.31->unstructured[all-docs]==0.14.0) (3.7.1)\n",
            "Requirement already satisfied: MarkupSafe>=2.0 in /usr/local/lib/python3.10/dist-packages (from jinja2->torch->layoutparser[layoutmodels,tesseract]->unstructured-inference==0.7.31->unstructured[all-docs]==0.14.0) (2.1.5)\n",
            "Requirement already satisfied: contourpy>=1.0.1 in /usr/local/lib/python3.10/dist-packages (from matplotlib>=2.1.0->pycocotools>=2.0.2->effdet->layoutparser[layoutmodels,tesseract]->unstructured-inference==0.7.31->unstructured[all-docs]==0.14.0) (1.2.1)\n",
            "Requirement already satisfied: cycler>=0.10 in /usr/local/lib/python3.10/dist-packages (from matplotlib>=2.1.0->pycocotools>=2.0.2->effdet->layoutparser[layoutmodels,tesseract]->unstructured-inference==0.7.31->unstructured[all-docs]==0.14.0) (0.12.1)\n",
            "Requirement already satisfied: fonttools>=4.22.0 in /usr/local/lib/python3.10/dist-packages (from matplotlib>=2.1.0->pycocotools>=2.0.2->effdet->layoutparser[layoutmodels,tesseract]->unstructured-inference==0.7.31->unstructured[all-docs]==0.14.0) (4.53.0)\n",
            "Requirement already satisfied: kiwisolver>=1.0.1 in /usr/local/lib/python3.10/dist-packages (from matplotlib>=2.1.0->pycocotools>=2.0.2->effdet->layoutparser[layoutmodels,tesseract]->unstructured-inference==0.7.31->unstructured[all-docs]==0.14.0) (1.4.5)\n",
            "Requirement already satisfied: pyparsing>=2.3.1 in /usr/local/lib/python3.10/dist-packages (from matplotlib>=2.1.0->pycocotools>=2.0.2->effdet->layoutparser[layoutmodels,tesseract]->unstructured-inference==0.7.31->unstructured[all-docs]==0.14.0) (3.1.2)\n"
          ]
        }
      ]
    },
    {
      "cell_type": "markdown",
      "source": [
        "## Note: Restart session after installing!"
      ],
      "metadata": {
        "id": "rs_mgwESNSvX"
      }
    },
    {
      "cell_type": "code",
      "source": [
        "# OCR dependencies for unstructured.io\n",
        "!sudo apt-get install tesseract-ocr\n",
        "!sudo apt-get install poppler-utils"
      ],
      "metadata": {
        "colab": {
          "base_uri": "https://localhost:8080/"
        },
        "id": "cgYOfLnaNQIV",
        "outputId": "ec4fdb52-5608-42d4-ee6b-782f106ed472"
      },
      "execution_count": 3,
      "outputs": [
        {
          "output_type": "stream",
          "name": "stdout",
          "text": [
            "Reading package lists... Done\n",
            "Building dependency tree... Done\n",
            "Reading state information... Done\n",
            "The following additional packages will be installed:\n",
            "  tesseract-ocr-eng tesseract-ocr-osd\n",
            "The following NEW packages will be installed:\n",
            "  tesseract-ocr tesseract-ocr-eng tesseract-ocr-osd\n",
            "0 upgraded, 3 newly installed, 0 to remove and 45 not upgraded.\n",
            "Need to get 4,816 kB of archives.\n",
            "After this operation, 15.6 MB of additional disk space will be used.\n",
            "Get:1 http://archive.ubuntu.com/ubuntu jammy/universe amd64 tesseract-ocr-eng all 1:4.00~git30-7274cfa-1.1 [1,591 kB]\n",
            "Get:2 http://archive.ubuntu.com/ubuntu jammy/universe amd64 tesseract-ocr-osd all 1:4.00~git30-7274cfa-1.1 [2,990 kB]\n",
            "Get:3 http://archive.ubuntu.com/ubuntu jammy/universe amd64 tesseract-ocr amd64 4.1.1-2.1build1 [236 kB]\n",
            "Fetched 4,816 kB in 0s (18.8 MB/s)\n",
            "debconf: unable to initialize frontend: Dialog\n",
            "debconf: (No usable dialog-like program is installed, so the dialog based frontend cannot be used. at /usr/share/perl5/Debconf/FrontEnd/Dialog.pm line 78, <> line 3.)\n",
            "debconf: falling back to frontend: Readline\n",
            "debconf: unable to initialize frontend: Readline\n",
            "debconf: (This frontend requires a controlling tty.)\n",
            "debconf: falling back to frontend: Teletype\n",
            "dpkg-preconfigure: unable to re-open stdin: \n",
            "Selecting previously unselected package tesseract-ocr-eng.\n",
            "(Reading database ... 121925 files and directories currently installed.)\n",
            "Preparing to unpack .../tesseract-ocr-eng_1%3a4.00~git30-7274cfa-1.1_all.deb ...\n",
            "Unpacking tesseract-ocr-eng (1:4.00~git30-7274cfa-1.1) ...\n",
            "Selecting previously unselected package tesseract-ocr-osd.\n",
            "Preparing to unpack .../tesseract-ocr-osd_1%3a4.00~git30-7274cfa-1.1_all.deb ...\n",
            "Unpacking tesseract-ocr-osd (1:4.00~git30-7274cfa-1.1) ...\n",
            "Selecting previously unselected package tesseract-ocr.\n",
            "Preparing to unpack .../tesseract-ocr_4.1.1-2.1build1_amd64.deb ...\n",
            "Unpacking tesseract-ocr (4.1.1-2.1build1) ...\n",
            "Setting up tesseract-ocr-eng (1:4.00~git30-7274cfa-1.1) ...\n",
            "Setting up tesseract-ocr-osd (1:4.00~git30-7274cfa-1.1) ...\n",
            "Setting up tesseract-ocr (4.1.1-2.1build1) ...\n",
            "Processing triggers for man-db (2.10.2-1) ...\n",
            "Reading package lists... Done\n",
            "Building dependency tree... Done\n",
            "Reading state information... Done\n",
            "The following NEW packages will be installed:\n",
            "  poppler-utils\n",
            "0 upgraded, 1 newly installed, 0 to remove and 45 not upgraded.\n",
            "Need to get 186 kB of archives.\n",
            "After this operation, 696 kB of additional disk space will be used.\n",
            "Get:1 http://archive.ubuntu.com/ubuntu jammy-updates/main amd64 poppler-utils amd64 22.02.0-2ubuntu0.4 [186 kB]\n",
            "Fetched 186 kB in 0s (2,086 kB/s)\n",
            "debconf: unable to initialize frontend: Dialog\n",
            "debconf: (No usable dialog-like program is installed, so the dialog based frontend cannot be used. at /usr/share/perl5/Debconf/FrontEnd/Dialog.pm line 78, <> line 1.)\n",
            "debconf: falling back to frontend: Readline\n",
            "debconf: unable to initialize frontend: Readline\n",
            "debconf: (This frontend requires a controlling tty.)\n",
            "debconf: falling back to frontend: Teletype\n",
            "dpkg-preconfigure: unable to re-open stdin: \n",
            "Selecting previously unselected package poppler-utils.\n",
            "(Reading database ... 121972 files and directories currently installed.)\n",
            "Preparing to unpack .../poppler-utils_22.02.0-2ubuntu0.4_amd64.deb ...\n",
            "Unpacking poppler-utils (22.02.0-2ubuntu0.4) ...\n",
            "Setting up poppler-utils (22.02.0-2ubuntu0.4) ...\n",
            "Processing triggers for man-db (2.10.2-1) ...\n"
          ]
        }
      ]
    },
    {
      "cell_type": "markdown",
      "source": [
        "## Install the text splitters"
      ],
      "metadata": {
        "id": "iD0dpkgTOH9h"
      }
    },
    {
      "cell_type": "code",
      "source": [
        "!pip install langchain-text-splitters==0.2.0\n",
        "!pip install tiktoken==0.7.0\n",
        "!pip install spacy\n",
        "!pip install sentence-transformers==2.7.0"
      ],
      "metadata": {
        "colab": {
          "base_uri": "https://localhost:8080/"
        },
        "id": "JckOeUojOFY-",
        "outputId": "42ef2316-4911-4cb6-b427-3e866f65579b"
      },
      "execution_count": 4,
      "outputs": [
        {
          "output_type": "stream",
          "name": "stdout",
          "text": [
            "Collecting langchain-text-splitters==0.2.0\n",
            "  Downloading langchain_text_splitters-0.2.0-py3-none-any.whl (23 kB)\n",
            "Requirement already satisfied: langchain-core<0.3.0,>=0.2.0 in /usr/local/lib/python3.10/dist-packages (from langchain-text-splitters==0.2.0) (0.2.11)\n",
            "Requirement already satisfied: PyYAML>=5.3 in /usr/local/lib/python3.10/dist-packages (from langchain-core<0.3.0,>=0.2.0->langchain-text-splitters==0.2.0) (6.0.1)\n",
            "Requirement already satisfied: jsonpatch<2.0,>=1.33 in /usr/local/lib/python3.10/dist-packages (from langchain-core<0.3.0,>=0.2.0->langchain-text-splitters==0.2.0) (1.33)\n",
            "Requirement already satisfied: langsmith<0.2.0,>=0.1.75 in /usr/local/lib/python3.10/dist-packages (from langchain-core<0.3.0,>=0.2.0->langchain-text-splitters==0.2.0) (0.1.83)\n",
            "Requirement already satisfied: packaging<25,>=23.2 in /usr/local/lib/python3.10/dist-packages (from langchain-core<0.3.0,>=0.2.0->langchain-text-splitters==0.2.0) (24.1)\n",
            "Requirement already satisfied: pydantic<3,>=1 in /usr/local/lib/python3.10/dist-packages (from langchain-core<0.3.0,>=0.2.0->langchain-text-splitters==0.2.0) (2.7.4)\n",
            "Requirement already satisfied: tenacity!=8.4.0,<9.0.0,>=8.1.0 in /usr/local/lib/python3.10/dist-packages (from langchain-core<0.3.0,>=0.2.0->langchain-text-splitters==0.2.0) (8.4.2)\n",
            "Requirement already satisfied: jsonpointer>=1.9 in /usr/local/lib/python3.10/dist-packages (from jsonpatch<2.0,>=1.33->langchain-core<0.3.0,>=0.2.0->langchain-text-splitters==0.2.0) (3.0.0)\n",
            "Requirement already satisfied: orjson<4.0.0,>=3.9.14 in /usr/local/lib/python3.10/dist-packages (from langsmith<0.2.0,>=0.1.75->langchain-core<0.3.0,>=0.2.0->langchain-text-splitters==0.2.0) (3.10.6)\n",
            "Requirement already satisfied: requests<3,>=2 in /usr/local/lib/python3.10/dist-packages (from langsmith<0.2.0,>=0.1.75->langchain-core<0.3.0,>=0.2.0->langchain-text-splitters==0.2.0) (2.31.0)\n",
            "Requirement already satisfied: annotated-types>=0.4.0 in /usr/local/lib/python3.10/dist-packages (from pydantic<3,>=1->langchain-core<0.3.0,>=0.2.0->langchain-text-splitters==0.2.0) (0.7.0)\n",
            "Requirement already satisfied: pydantic-core==2.18.4 in /usr/local/lib/python3.10/dist-packages (from pydantic<3,>=1->langchain-core<0.3.0,>=0.2.0->langchain-text-splitters==0.2.0) (2.18.4)\n",
            "Requirement already satisfied: typing-extensions>=4.6.1 in /usr/local/lib/python3.10/dist-packages (from pydantic<3,>=1->langchain-core<0.3.0,>=0.2.0->langchain-text-splitters==0.2.0) (4.12.2)\n",
            "Requirement already satisfied: charset-normalizer<4,>=2 in /usr/local/lib/python3.10/dist-packages (from requests<3,>=2->langsmith<0.2.0,>=0.1.75->langchain-core<0.3.0,>=0.2.0->langchain-text-splitters==0.2.0) (3.3.2)\n",
            "Requirement already satisfied: idna<4,>=2.5 in /usr/local/lib/python3.10/dist-packages (from requests<3,>=2->langsmith<0.2.0,>=0.1.75->langchain-core<0.3.0,>=0.2.0->langchain-text-splitters==0.2.0) (3.7)\n",
            "Requirement already satisfied: urllib3<3,>=1.21.1 in /usr/local/lib/python3.10/dist-packages (from requests<3,>=2->langsmith<0.2.0,>=0.1.75->langchain-core<0.3.0,>=0.2.0->langchain-text-splitters==0.2.0) (2.0.7)\n",
            "Requirement already satisfied: certifi>=2017.4.17 in /usr/local/lib/python3.10/dist-packages (from requests<3,>=2->langsmith<0.2.0,>=0.1.75->langchain-core<0.3.0,>=0.2.0->langchain-text-splitters==0.2.0) (2024.6.2)\n",
            "Installing collected packages: langchain-text-splitters\n",
            "  Attempting uninstall: langchain-text-splitters\n",
            "    Found existing installation: langchain-text-splitters 0.2.2\n",
            "    Uninstalling langchain-text-splitters-0.2.2:\n",
            "      Successfully uninstalled langchain-text-splitters-0.2.2\n",
            "Successfully installed langchain-text-splitters-0.2.0\n",
            "Requirement already satisfied: tiktoken==0.7.0 in /usr/local/lib/python3.10/dist-packages (0.7.0)\n",
            "Requirement already satisfied: regex>=2022.1.18 in /usr/local/lib/python3.10/dist-packages (from tiktoken==0.7.0) (2024.5.15)\n",
            "Requirement already satisfied: requests>=2.26.0 in /usr/local/lib/python3.10/dist-packages (from tiktoken==0.7.0) (2.31.0)\n",
            "Requirement already satisfied: charset-normalizer<4,>=2 in /usr/local/lib/python3.10/dist-packages (from requests>=2.26.0->tiktoken==0.7.0) (3.3.2)\n",
            "Requirement already satisfied: idna<4,>=2.5 in /usr/local/lib/python3.10/dist-packages (from requests>=2.26.0->tiktoken==0.7.0) (3.7)\n",
            "Requirement already satisfied: urllib3<3,>=1.21.1 in /usr/local/lib/python3.10/dist-packages (from requests>=2.26.0->tiktoken==0.7.0) (2.0.7)\n",
            "Requirement already satisfied: certifi>=2017.4.17 in /usr/local/lib/python3.10/dist-packages (from requests>=2.26.0->tiktoken==0.7.0) (2024.6.2)\n",
            "Requirement already satisfied: spacy in /usr/local/lib/python3.10/dist-packages (3.7.5)\n",
            "Requirement already satisfied: spacy-legacy<3.1.0,>=3.0.11 in /usr/local/lib/python3.10/dist-packages (from spacy) (3.0.12)\n",
            "Requirement already satisfied: spacy-loggers<2.0.0,>=1.0.0 in /usr/local/lib/python3.10/dist-packages (from spacy) (1.0.5)\n",
            "Requirement already satisfied: murmurhash<1.1.0,>=0.28.0 in /usr/local/lib/python3.10/dist-packages (from spacy) (1.0.10)\n",
            "Requirement already satisfied: cymem<2.1.0,>=2.0.2 in /usr/local/lib/python3.10/dist-packages (from spacy) (2.0.8)\n",
            "Requirement already satisfied: preshed<3.1.0,>=3.0.2 in /usr/local/lib/python3.10/dist-packages (from spacy) (3.0.9)\n",
            "Requirement already satisfied: thinc<8.3.0,>=8.2.2 in /usr/local/lib/python3.10/dist-packages (from spacy) (8.2.5)\n",
            "Requirement already satisfied: wasabi<1.2.0,>=0.9.1 in /usr/local/lib/python3.10/dist-packages (from spacy) (1.1.3)\n",
            "Requirement already satisfied: srsly<3.0.0,>=2.4.3 in /usr/local/lib/python3.10/dist-packages (from spacy) (2.4.8)\n",
            "Requirement already satisfied: catalogue<2.1.0,>=2.0.6 in /usr/local/lib/python3.10/dist-packages (from spacy) (2.0.10)\n",
            "Requirement already satisfied: weasel<0.5.0,>=0.1.0 in /usr/local/lib/python3.10/dist-packages (from spacy) (0.4.1)\n",
            "Requirement already satisfied: typer<1.0.0,>=0.3.0 in /usr/local/lib/python3.10/dist-packages (from spacy) (0.12.3)\n",
            "Requirement already satisfied: tqdm<5.0.0,>=4.38.0 in /usr/local/lib/python3.10/dist-packages (from spacy) (4.66.4)\n",
            "Requirement already satisfied: requests<3.0.0,>=2.13.0 in /usr/local/lib/python3.10/dist-packages (from spacy) (2.31.0)\n",
            "Requirement already satisfied: pydantic!=1.8,!=1.8.1,<3.0.0,>=1.7.4 in /usr/local/lib/python3.10/dist-packages (from spacy) (2.7.4)\n",
            "Requirement already satisfied: jinja2 in /usr/local/lib/python3.10/dist-packages (from spacy) (3.1.4)\n",
            "Requirement already satisfied: setuptools in /usr/local/lib/python3.10/dist-packages (from spacy) (67.7.2)\n",
            "Requirement already satisfied: packaging>=20.0 in /usr/local/lib/python3.10/dist-packages (from spacy) (24.1)\n",
            "Requirement already satisfied: langcodes<4.0.0,>=3.2.0 in /usr/local/lib/python3.10/dist-packages (from spacy) (3.4.0)\n",
            "Requirement already satisfied: numpy>=1.19.0 in /usr/local/lib/python3.10/dist-packages (from spacy) (1.25.2)\n",
            "Requirement already satisfied: language-data>=1.2 in /usr/local/lib/python3.10/dist-packages (from langcodes<4.0.0,>=3.2.0->spacy) (1.2.0)\n",
            "Requirement already satisfied: annotated-types>=0.4.0 in /usr/local/lib/python3.10/dist-packages (from pydantic!=1.8,!=1.8.1,<3.0.0,>=1.7.4->spacy) (0.7.0)\n",
            "Requirement already satisfied: pydantic-core==2.18.4 in /usr/local/lib/python3.10/dist-packages (from pydantic!=1.8,!=1.8.1,<3.0.0,>=1.7.4->spacy) (2.18.4)\n",
            "Requirement already satisfied: typing-extensions>=4.6.1 in /usr/local/lib/python3.10/dist-packages (from pydantic!=1.8,!=1.8.1,<3.0.0,>=1.7.4->spacy) (4.12.2)\n",
            "Requirement already satisfied: charset-normalizer<4,>=2 in /usr/local/lib/python3.10/dist-packages (from requests<3.0.0,>=2.13.0->spacy) (3.3.2)\n",
            "Requirement already satisfied: idna<4,>=2.5 in /usr/local/lib/python3.10/dist-packages (from requests<3.0.0,>=2.13.0->spacy) (3.7)\n",
            "Requirement already satisfied: urllib3<3,>=1.21.1 in /usr/local/lib/python3.10/dist-packages (from requests<3.0.0,>=2.13.0->spacy) (2.0.7)\n",
            "Requirement already satisfied: certifi>=2017.4.17 in /usr/local/lib/python3.10/dist-packages (from requests<3.0.0,>=2.13.0->spacy) (2024.6.2)\n",
            "Requirement already satisfied: blis<0.8.0,>=0.7.8 in /usr/local/lib/python3.10/dist-packages (from thinc<8.3.0,>=8.2.2->spacy) (0.7.11)\n",
            "Requirement already satisfied: confection<1.0.0,>=0.0.1 in /usr/local/lib/python3.10/dist-packages (from thinc<8.3.0,>=8.2.2->spacy) (0.1.5)\n",
            "Requirement already satisfied: click>=8.0.0 in /usr/local/lib/python3.10/dist-packages (from typer<1.0.0,>=0.3.0->spacy) (8.1.7)\n",
            "Requirement already satisfied: shellingham>=1.3.0 in /usr/local/lib/python3.10/dist-packages (from typer<1.0.0,>=0.3.0->spacy) (1.5.4)\n",
            "Requirement already satisfied: rich>=10.11.0 in /usr/local/lib/python3.10/dist-packages (from typer<1.0.0,>=0.3.0->spacy) (13.7.1)\n",
            "Requirement already satisfied: cloudpathlib<1.0.0,>=0.7.0 in /usr/local/lib/python3.10/dist-packages (from weasel<0.5.0,>=0.1.0->spacy) (0.18.1)\n",
            "Requirement already satisfied: smart-open<8.0.0,>=5.2.1 in /usr/local/lib/python3.10/dist-packages (from weasel<0.5.0,>=0.1.0->spacy) (7.0.4)\n",
            "Requirement already satisfied: MarkupSafe>=2.0 in /usr/local/lib/python3.10/dist-packages (from jinja2->spacy) (2.1.5)\n",
            "Requirement already satisfied: marisa-trie>=0.7.7 in /usr/local/lib/python3.10/dist-packages (from language-data>=1.2->langcodes<4.0.0,>=3.2.0->spacy) (1.2.0)\n",
            "Requirement already satisfied: markdown-it-py>=2.2.0 in /usr/local/lib/python3.10/dist-packages (from rich>=10.11.0->typer<1.0.0,>=0.3.0->spacy) (3.0.0)\n",
            "Requirement already satisfied: pygments<3.0.0,>=2.13.0 in /usr/local/lib/python3.10/dist-packages (from rich>=10.11.0->typer<1.0.0,>=0.3.0->spacy) (2.16.1)\n",
            "Requirement already satisfied: wrapt in /usr/local/lib/python3.10/dist-packages (from smart-open<8.0.0,>=5.2.1->weasel<0.5.0,>=0.1.0->spacy) (1.14.1)\n",
            "Requirement already satisfied: mdurl~=0.1 in /usr/local/lib/python3.10/dist-packages (from markdown-it-py>=2.2.0->rich>=10.11.0->typer<1.0.0,>=0.3.0->spacy) (0.1.2)\n",
            "Collecting sentence-transformers==2.7.0\n",
            "  Downloading sentence_transformers-2.7.0-py3-none-any.whl (171 kB)\n",
            "\u001b[2K     \u001b[90m━━━━━━━━━━━━━━━━━━━━━━━━━━━━━━━━━━━━━━━━\u001b[0m \u001b[32m171.5/171.5 kB\u001b[0m \u001b[31m4.5 MB/s\u001b[0m eta \u001b[36m0:00:00\u001b[0m\n",
            "\u001b[?25hRequirement already satisfied: transformers<5.0.0,>=4.34.0 in /usr/local/lib/python3.10/dist-packages (from sentence-transformers==2.7.0) (4.41.2)\n",
            "Requirement already satisfied: tqdm in /usr/local/lib/python3.10/dist-packages (from sentence-transformers==2.7.0) (4.66.4)\n",
            "Requirement already satisfied: torch>=1.11.0 in /usr/local/lib/python3.10/dist-packages (from sentence-transformers==2.7.0) (2.3.0+cu121)\n",
            "Requirement already satisfied: numpy in /usr/local/lib/python3.10/dist-packages (from sentence-transformers==2.7.0) (1.25.2)\n",
            "Requirement already satisfied: scikit-learn in /usr/local/lib/python3.10/dist-packages (from sentence-transformers==2.7.0) (1.2.2)\n",
            "Requirement already satisfied: scipy in /usr/local/lib/python3.10/dist-packages (from sentence-transformers==2.7.0) (1.11.4)\n",
            "Requirement already satisfied: huggingface-hub>=0.15.1 in /usr/local/lib/python3.10/dist-packages (from sentence-transformers==2.7.0) (0.23.4)\n",
            "Requirement already satisfied: Pillow in /usr/local/lib/python3.10/dist-packages (from sentence-transformers==2.7.0) (10.4.0)\n",
            "Requirement already satisfied: filelock in /usr/local/lib/python3.10/dist-packages (from huggingface-hub>=0.15.1->sentence-transformers==2.7.0) (3.15.4)\n",
            "Requirement already satisfied: fsspec>=2023.5.0 in /usr/local/lib/python3.10/dist-packages (from huggingface-hub>=0.15.1->sentence-transformers==2.7.0) (2023.6.0)\n",
            "Requirement already satisfied: packaging>=20.9 in /usr/local/lib/python3.10/dist-packages (from huggingface-hub>=0.15.1->sentence-transformers==2.7.0) (24.1)\n",
            "Requirement already satisfied: pyyaml>=5.1 in /usr/local/lib/python3.10/dist-packages (from huggingface-hub>=0.15.1->sentence-transformers==2.7.0) (6.0.1)\n",
            "Requirement already satisfied: requests in /usr/local/lib/python3.10/dist-packages (from huggingface-hub>=0.15.1->sentence-transformers==2.7.0) (2.31.0)\n",
            "Requirement already satisfied: typing-extensions>=3.7.4.3 in /usr/local/lib/python3.10/dist-packages (from huggingface-hub>=0.15.1->sentence-transformers==2.7.0) (4.12.2)\n",
            "Requirement already satisfied: sympy in /usr/local/lib/python3.10/dist-packages (from torch>=1.11.0->sentence-transformers==2.7.0) (1.12.1)\n",
            "Requirement already satisfied: networkx in /usr/local/lib/python3.10/dist-packages (from torch>=1.11.0->sentence-transformers==2.7.0) (3.3)\n",
            "Requirement already satisfied: jinja2 in /usr/local/lib/python3.10/dist-packages (from torch>=1.11.0->sentence-transformers==2.7.0) (3.1.4)\n",
            "Requirement already satisfied: nvidia-cuda-nvrtc-cu12==12.1.105 in /usr/local/lib/python3.10/dist-packages (from torch>=1.11.0->sentence-transformers==2.7.0) (12.1.105)\n",
            "Requirement already satisfied: nvidia-cuda-runtime-cu12==12.1.105 in /usr/local/lib/python3.10/dist-packages (from torch>=1.11.0->sentence-transformers==2.7.0) (12.1.105)\n",
            "Requirement already satisfied: nvidia-cuda-cupti-cu12==12.1.105 in /usr/local/lib/python3.10/dist-packages (from torch>=1.11.0->sentence-transformers==2.7.0) (12.1.105)\n",
            "Requirement already satisfied: nvidia-cudnn-cu12==8.9.2.26 in /usr/local/lib/python3.10/dist-packages (from torch>=1.11.0->sentence-transformers==2.7.0) (8.9.2.26)\n",
            "Requirement already satisfied: nvidia-cublas-cu12==12.1.3.1 in /usr/local/lib/python3.10/dist-packages (from torch>=1.11.0->sentence-transformers==2.7.0) (12.1.3.1)\n",
            "Requirement already satisfied: nvidia-cufft-cu12==11.0.2.54 in /usr/local/lib/python3.10/dist-packages (from torch>=1.11.0->sentence-transformers==2.7.0) (11.0.2.54)\n",
            "Requirement already satisfied: nvidia-curand-cu12==10.3.2.106 in /usr/local/lib/python3.10/dist-packages (from torch>=1.11.0->sentence-transformers==2.7.0) (10.3.2.106)\n",
            "Requirement already satisfied: nvidia-cusolver-cu12==11.4.5.107 in /usr/local/lib/python3.10/dist-packages (from torch>=1.11.0->sentence-transformers==2.7.0) (11.4.5.107)\n",
            "Requirement already satisfied: nvidia-cusparse-cu12==12.1.0.106 in /usr/local/lib/python3.10/dist-packages (from torch>=1.11.0->sentence-transformers==2.7.0) (12.1.0.106)\n",
            "Requirement already satisfied: nvidia-nccl-cu12==2.20.5 in /usr/local/lib/python3.10/dist-packages (from torch>=1.11.0->sentence-transformers==2.7.0) (2.20.5)\n",
            "Requirement already satisfied: nvidia-nvtx-cu12==12.1.105 in /usr/local/lib/python3.10/dist-packages (from torch>=1.11.0->sentence-transformers==2.7.0) (12.1.105)\n",
            "Requirement already satisfied: triton==2.3.0 in /usr/local/lib/python3.10/dist-packages (from torch>=1.11.0->sentence-transformers==2.7.0) (2.3.0)\n",
            "Requirement already satisfied: nvidia-nvjitlink-cu12 in /usr/local/lib/python3.10/dist-packages (from nvidia-cusolver-cu12==11.4.5.107->torch>=1.11.0->sentence-transformers==2.7.0) (12.5.82)\n",
            "Requirement already satisfied: regex!=2019.12.17 in /usr/local/lib/python3.10/dist-packages (from transformers<5.0.0,>=4.34.0->sentence-transformers==2.7.0) (2024.5.15)\n",
            "Requirement already satisfied: tokenizers<0.20,>=0.19 in /usr/local/lib/python3.10/dist-packages (from transformers<5.0.0,>=4.34.0->sentence-transformers==2.7.0) (0.19.1)\n",
            "Requirement already satisfied: safetensors>=0.4.1 in /usr/local/lib/python3.10/dist-packages (from transformers<5.0.0,>=4.34.0->sentence-transformers==2.7.0) (0.4.3)\n",
            "Requirement already satisfied: joblib>=1.1.1 in /usr/local/lib/python3.10/dist-packages (from scikit-learn->sentence-transformers==2.7.0) (1.4.2)\n",
            "Requirement already satisfied: threadpoolctl>=2.0.0 in /usr/local/lib/python3.10/dist-packages (from scikit-learn->sentence-transformers==2.7.0) (3.5.0)\n",
            "Requirement already satisfied: MarkupSafe>=2.0 in /usr/local/lib/python3.10/dist-packages (from jinja2->torch>=1.11.0->sentence-transformers==2.7.0) (2.1.5)\n",
            "Requirement already satisfied: charset-normalizer<4,>=2 in /usr/local/lib/python3.10/dist-packages (from requests->huggingface-hub>=0.15.1->sentence-transformers==2.7.0) (3.3.2)\n",
            "Requirement already satisfied: idna<4,>=2.5 in /usr/local/lib/python3.10/dist-packages (from requests->huggingface-hub>=0.15.1->sentence-transformers==2.7.0) (3.7)\n",
            "Requirement already satisfied: urllib3<3,>=1.21.1 in /usr/local/lib/python3.10/dist-packages (from requests->huggingface-hub>=0.15.1->sentence-transformers==2.7.0) (2.0.7)\n",
            "Requirement already satisfied: certifi>=2017.4.17 in /usr/local/lib/python3.10/dist-packages (from requests->huggingface-hub>=0.15.1->sentence-transformers==2.7.0) (2024.6.2)\n",
            "Requirement already satisfied: mpmath<1.4.0,>=1.1.0 in /usr/local/lib/python3.10/dist-packages (from sympy->torch>=1.11.0->sentence-transformers==2.7.0) (1.3.0)\n",
            "Installing collected packages: sentence-transformers\n",
            "Successfully installed sentence-transformers-2.7.0\n"
          ]
        }
      ]
    },
    {
      "cell_type": "markdown",
      "source": [
        "# Document Splitting and Chunking\n",
        "* Document Splitting Workflow\n",
        "1. Split into Chunks\n",
        "  * Break text into small, semantically meaningful units (e.g. sentences)\n",
        "2. Combine Chunks\n",
        "  * Assemble the smaller units into larger chunks until they reach a predefined size.\n",
        "  * The size is determined by a specific measurement function.\n",
        "3. Create Overlapping Chunks\n",
        "  * Once the maximum size is reached, finalize the chunk as an independent text piece.\n",
        "  * Begin a new chunk, incorporating some overlap with previous chunk to maintain textual content.\n",
        "\n",
        "**The goal is to make sure that we keep semantically related text together which is absolutely crucial for downstream tasks such as embeddings and LLM queries.**"
      ],
      "metadata": {
        "id": "KTV09iXuO4Yg"
      }
    },
    {
      "cell_type": "markdown",
      "source": [
        "## `RecursiveCharacterTextSplitter`\n",
        "* This splits text based on a list of characters.\n",
        "* This splitter can handle various requirements through parameters that are adjustable.\n",
        "* This is the **recommended generic text splitter**. Why?\n",
        "   * Parameterizes by a list of characters.\n",
        "   * Can split by multiple characters at same time not just one.\n",
        "   * Splits characters in order until chunks are small enough.\n",
        "   * The default character list is: `[\"\\n\\n\",\"\\n\",\" \",\"\"]`\n",
        "   * This will attempt to keep all paragraphs and thus associated words and sentences together for as long as possible during the splitting process.\n",
        "      * This is by default as paragraphs usually contain semantically similar information that is relevant.\n",
        "\n",
        "### Features and Parameters\n",
        "* **Character List**\n",
        "   * Uses a specified list of characters to determine where splits occur.\n",
        "* **Chunk Size**\n",
        "   * Allows user to set size of each chunk which helps to ensure chunks are manageable and fit the LLM context window.\n",
        "* **Overlap**\n",
        "   * Configurable overlap between consecutive chunks to maintain context continuity across chunks.\n",
        "\n",
        "**`RecursiveCharacterTextSplitter` is very useful for text/documents where precise control over splitting criteria is necessary, thus allowing for customized chunking strategies based on specific standard characters.**\n",
        "\n",
        "* Source of text below: https://www.visitnewengland.com/all/me-lobster-lighthouses-beaches-york-region/"
      ],
      "metadata": {
        "id": "zK6pNbg7P5JH"
      }
    },
    {
      "cell_type": "code",
      "source": [
        "# import the splitter\n",
        "from langchain.text_splitter import RecursiveCharacterTextSplitter\n",
        "\n",
        "# text to experiment with\n",
        "doc = \"\"\"The southernmost towns of Maine are deliciously cozy place to retreat for glorious beaches, classic family summer fun, good food or romance. The famous South Coast beaches, are a magnet for sunbathers, swimmers, and anyone who loves the beauty of sand and surf. Get out in the evening for dinner on the oceanfront, for the sunset or to see the stars light up the night before heading back to your beachfront suite.\n",
        "The coastline is a place of ongoing maritime activity and history. Charter boats for sailing, sightseeing, or fishing can be found at marinas and harbors in Kittery and York Harbor, ME. The bounty of the sea can be found at harbor markets and restaurants everywhere nearby. Lighthouses dating to the early and mid-19th century dot the landscape, helping to mark the seasons and guide those traveling on the sea.\n",
        "\n",
        "The first towns across the state line from New Hampshire are Kittery and Eliot, ME. Kittery is on the ocean and hosts several beaches (Crescent, Seapoint, and at Fort Foster Park), historic colonial sites including Forts Foster and McClary, classic New England waterfront areas and architecture like that found along Pepperell Cove, great outlet shopping, and, of course, classic New England dining and resorts. Eliot is slightly inland along the Piscataqua River, a small town of farms and outdoor beauty.\n",
        "\n",
        "You don't have to travel very far across the Maine-New Hampshire border to find great outlet shopping, because the Kittery Outlets are right there on Route 1 in Kittery, ME. With over 120 shops featuring name-brand clothing, accessories, shoes, jewelry, candles, collectibles and other novelties, edible delights, and several great restaurants, you're sure to find the perfect item for yourself or to offer as a gift.\n",
        "\n",
        "\n",
        "\"\"\""
      ],
      "metadata": {
        "id": "X-JC_6cpOSvb"
      },
      "execution_count": 7,
      "outputs": []
    },
    {
      "cell_type": "code",
      "source": [
        "# print document\n",
        "print(doc)"
      ],
      "metadata": {
        "colab": {
          "base_uri": "https://localhost:8080/"
        },
        "id": "uqfNG_bDSsYI",
        "outputId": "7056af58-0bbe-4db7-8bf9-1a61c0d2b130"
      },
      "execution_count": 8,
      "outputs": [
        {
          "output_type": "stream",
          "name": "stdout",
          "text": [
            "The southernmost towns of Maine are deliciously cozy place to retreat for glorious beaches, classic family summer fun, good food or romance. The famous South Coast beaches, are a magnet for sunbathers, swimmers, and anyone who loves the beauty of sand and surf. Get out in the evening for dinner on the oceanfront, for the sunset or to see the stars light up the night before heading back to your beachfront suite.\n",
            "The coastline is a place of ongoing maritime activity and history. Charter boats for sailing, sightseeing, or fishing can be found at marinas and harbors in Kittery and York Harbor, ME. The bounty of the sea can be found at harbor markets and restaurants everywhere nearby. Lighthouses dating to the early and mid-19th century dot the landscape, helping to mark the seasons and guide those traveling on the sea.\n",
            "\n",
            "The first towns across the state line from New Hampshire are Kittery and Eliot, ME. Kittery is on the ocean and hosts several beaches (Crescent, Seapoint, and at Fort Foster Park), historic colonial sites including Forts Foster and McClary, classic New England waterfront areas and architecture like that found along Pepperell Cove, great outlet shopping, and, of course, classic New England dining and resorts. Eliot is slightly inland along the Piscataqua River, a small town of farms and outdoor beauty.\n",
            "\n",
            "You don't have to travel very far across the Maine-New Hampshire border to find great outlet shopping, because the Kittery Outlets are right there on Route 1 in Kittery, ME. With over 120 shops featuring name-brand clothing, accessories, shoes, jewelry, candles, collectibles and other novelties, edible delights, and several great restaurants, you're sure to find the perfect item for yourself or to offer as a gift.\n",
            "\n",
            "\n",
            "\n"
          ]
        }
      ]
    },
    {
      "cell_type": "markdown",
      "source": [
        "Splitting with smaller chunk size (total characters) makes more paragraphs."
      ],
      "metadata": {
        "id": "kU-1GuSKTAmF"
      }
    },
    {
      "cell_type": "code",
      "source": [
        "text_splitter = RecursiveCharacterTextSplitter(\n",
        "    separators = [\"\\n\\n\", \"\\n\", \" \", \"\"], #separate by paragraphs, extra lines, spaces\n",
        "    chunk_size=300, #300 characters\n",
        "    chunk_overlap=0, # no overlapping words between chunks\n",
        ")"
      ],
      "metadata": {
        "id": "cIzSzv1ISuqO"
      },
      "execution_count": 9,
      "outputs": []
    },
    {
      "cell_type": "code",
      "source": [
        "# split text\n",
        "texts = text_splitter.split_text(doc)\n",
        "\n",
        "# print length\n",
        "print(len(texts))"
      ],
      "metadata": {
        "colab": {
          "base_uri": "https://localhost:8080/"
        },
        "id": "qZk1kV_qTeS3",
        "outputId": "dd1918a0-f289-4752-b0b0-54f679a9f00e"
      },
      "execution_count": 10,
      "outputs": [
        {
          "output_type": "stream",
          "name": "stdout",
          "text": [
            "8\n"
          ]
        }
      ]
    },
    {
      "cell_type": "markdown",
      "source": [
        "Now we have 8 chunks."
      ],
      "metadata": {
        "id": "jmeVoO2xTrKf"
      }
    },
    {
      "cell_type": "code",
      "source": [
        "# loop through and print chunks\n",
        "for text in texts:\n",
        "  print(text)\n",
        "  print(len(text))\n",
        "  print()"
      ],
      "metadata": {
        "colab": {
          "base_uri": "https://localhost:8080/"
        },
        "id": "mpIsNCMXToTl",
        "outputId": "5694a0bf-23b5-4661-a50d-c8dd1c81b64b"
      },
      "execution_count": 11,
      "outputs": [
        {
          "output_type": "stream",
          "name": "stdout",
          "text": [
            "The southernmost towns of Maine are deliciously cozy place to retreat for glorious beaches, classic family summer fun, good food or romance. The famous South Coast beaches, are a magnet for sunbathers, swimmers, and anyone who loves the beauty of sand and surf. Get out in the evening for dinner on\n",
            "298\n",
            "\n",
            "the oceanfront, for the sunset or to see the stars light up the night before heading back to your beachfront suite.\n",
            "115\n",
            "\n",
            "The coastline is a place of ongoing maritime activity and history. Charter boats for sailing, sightseeing, or fishing can be found at marinas and harbors in Kittery and York Harbor, ME. The bounty of the sea can be found at harbor markets and restaurants everywhere nearby. Lighthouses dating to the\n",
            "299\n",
            "\n",
            "early and mid-19th century dot the landscape, helping to mark the seasons and guide those traveling on the sea.\n",
            "111\n",
            "\n",
            "The first towns across the state line from New Hampshire are Kittery and Eliot, ME. Kittery is on the ocean and hosts several beaches (Crescent, Seapoint, and at Fort Foster Park), historic colonial sites including Forts Foster and McClary, classic New England waterfront areas and architecture like\n",
            "299\n",
            "\n",
            "that found along Pepperell Cove, great outlet shopping, and, of course, classic New England dining and resorts. Eliot is slightly inland along the Piscataqua River, a small town of farms and outdoor beauty.\n",
            "206\n",
            "\n",
            "You don't have to travel very far across the Maine-New Hampshire border to find great outlet shopping, because the Kittery Outlets are right there on Route 1 in Kittery, ME. With over 120 shops featuring name-brand clothing, accessories, shoes, jewelry, candles, collectibles and other novelties,\n",
            "296\n",
            "\n",
            "edible delights, and several great restaurants, you're sure to find the perfect item for yourself or to offer as a gift.\n",
            "120\n",
            "\n"
          ]
        }
      ]
    },
    {
      "cell_type": "markdown",
      "source": [
        "Splitting with larger chunk size (total characters) makes less paragraphs"
      ],
      "metadata": {
        "id": "q2GWZjO1T_9m"
      }
    },
    {
      "cell_type": "code",
      "source": [
        "text_splitter = RecursiveCharacterTextSplitter(\n",
        "    separators = [\"\\n\\n\", \"\\n\", \" \", \"\"],\n",
        "    chunk_size = 500, # increased chunk_size\n",
        "    chunk_overlap = 0, #no overlap in chunks\n",
        ")\n",
        "\n",
        "\n",
        "# split into larger chunks\n",
        "texts = text_splitter.split_text(doc)\n",
        "print(len(texts))"
      ],
      "metadata": {
        "colab": {
          "base_uri": "https://localhost:8080/"
        },
        "id": "7eW6vSUPTyGU",
        "outputId": "313cc64d-d974-48e4-caea-49374479dee9"
      },
      "execution_count": 12,
      "outputs": [
        {
          "output_type": "stream",
          "name": "stdout",
          "text": [
            "5\n"
          ]
        }
      ]
    },
    {
      "cell_type": "markdown",
      "source": [
        "Now we have 5 chunks instead of 8."
      ],
      "metadata": {
        "id": "cFnBU64tUY4M"
      }
    },
    {
      "cell_type": "code",
      "source": [
        "# print the chunks\n",
        "for text in texts:\n",
        "  print(text)\n",
        "  print(len(text))\n",
        "  print()"
      ],
      "metadata": {
        "colab": {
          "base_uri": "https://localhost:8080/"
        },
        "id": "VSEVtWiMUYMM",
        "outputId": "cf4f1f96-6400-4a5c-deb2-47d03b6d7ad5"
      },
      "execution_count": 13,
      "outputs": [
        {
          "output_type": "stream",
          "name": "stdout",
          "text": [
            "The southernmost towns of Maine are deliciously cozy place to retreat for glorious beaches, classic family summer fun, good food or romance. The famous South Coast beaches, are a magnet for sunbathers, swimmers, and anyone who loves the beauty of sand and surf. Get out in the evening for dinner on the oceanfront, for the sunset or to see the stars light up the night before heading back to your beachfront suite.\n",
            "414\n",
            "\n",
            "The coastline is a place of ongoing maritime activity and history. Charter boats for sailing, sightseeing, or fishing can be found at marinas and harbors in Kittery and York Harbor, ME. The bounty of the sea can be found at harbor markets and restaurants everywhere nearby. Lighthouses dating to the early and mid-19th century dot the landscape, helping to mark the seasons and guide those traveling on the sea.\n",
            "411\n",
            "\n",
            "The first towns across the state line from New Hampshire are Kittery and Eliot, ME. Kittery is on the ocean and hosts several beaches (Crescent, Seapoint, and at Fort Foster Park), historic colonial sites including Forts Foster and McClary, classic New England waterfront areas and architecture like that found along Pepperell Cove, great outlet shopping, and, of course, classic New England dining and resorts. Eliot is slightly inland along the Piscataqua River, a small town of farms and outdoor\n",
            "498\n",
            "\n",
            "beauty.\n",
            "7\n",
            "\n",
            "You don't have to travel very far across the Maine-New Hampshire border to find great outlet shopping, because the Kittery Outlets are right there on Route 1 in Kittery, ME. With over 120 shops featuring name-brand clothing, accessories, shoes, jewelry, candles, collectibles and other novelties, edible delights, and several great restaurants, you're sure to find the perfect item for yourself or to offer as a gift.\n",
            "417\n",
            "\n"
          ]
        }
      ]
    },
    {
      "cell_type": "markdown",
      "source": [
        "Summary:\n",
        "* We may have to adjust the chunk size here because 1 chunk as we can see the 4th chunk has 7 characters with only the word \"beauty\".\n",
        "* However, we can mitigate information loss by using `chunk_overlap`. This is very useful when context is quite often divided between chunks."
      ],
      "metadata": {
        "id": "sqiKNJr4UnSA"
      }
    },
    {
      "cell_type": "code",
      "source": [
        "# use overlap in splitter\n",
        "text_splitter = RecursiveCharacterTextSplitter(\n",
        "    separators=[\"\\n\\n\", \"\\n\", \" \", \"\"],\n",
        "    chunk_size=300,\n",
        "    chunk_overlap=100\n",
        ")\n",
        "\n",
        "# split the text with overlap\n",
        "texts = text_splitter.split_text(doc)\n",
        "print(len(texts))"
      ],
      "metadata": {
        "colab": {
          "base_uri": "https://localhost:8080/"
        },
        "id": "7eeEt5wNUgKa",
        "outputId": "ce413b61-f6c8-4aa0-d695-3ae9df1ef586"
      },
      "execution_count": 14,
      "outputs": [
        {
          "output_type": "stream",
          "name": "stdout",
          "text": [
            "9\n"
          ]
        }
      ]
    },
    {
      "cell_type": "markdown",
      "source": [
        "Now there are 9 chunks, but these contain more semantic information."
      ],
      "metadata": {
        "id": "GEbyPvuVVUoJ"
      }
    },
    {
      "cell_type": "code",
      "source": [
        "# print the chunks\n",
        "for text in texts:\n",
        "  print(text)\n",
        "  print(len(text))\n",
        "  print()"
      ],
      "metadata": {
        "colab": {
          "base_uri": "https://localhost:8080/"
        },
        "id": "f-P_90iYVTN7",
        "outputId": "4c72a923-3f2f-4e4d-8b79-80765fff1889"
      },
      "execution_count": 15,
      "outputs": [
        {
          "output_type": "stream",
          "name": "stdout",
          "text": [
            "The southernmost towns of Maine are deliciously cozy place to retreat for glorious beaches, classic family summer fun, good food or romance. The famous South Coast beaches, are a magnet for sunbathers, swimmers, and anyone who loves the beauty of sand and surf. Get out in the evening for dinner on\n",
            "298\n",
            "\n",
            "swimmers, and anyone who loves the beauty of sand and surf. Get out in the evening for dinner on the oceanfront, for the sunset or to see the stars light up the night before heading back to your beachfront suite.\n",
            "212\n",
            "\n",
            "The coastline is a place of ongoing maritime activity and history. Charter boats for sailing, sightseeing, or fishing can be found at marinas and harbors in Kittery and York Harbor, ME. The bounty of the sea can be found at harbor markets and restaurants everywhere nearby. Lighthouses dating to the\n",
            "299\n",
            "\n",
            "the sea can be found at harbor markets and restaurants everywhere nearby. Lighthouses dating to the early and mid-19th century dot the landscape, helping to mark the seasons and guide those traveling on the sea.\n",
            "211\n",
            "\n",
            "The first towns across the state line from New Hampshire are Kittery and Eliot, ME. Kittery is on the ocean and hosts several beaches (Crescent, Seapoint, and at Fort Foster Park), historic colonial sites including Forts Foster and McClary, classic New England waterfront areas and architecture like\n",
            "299\n",
            "\n",
            "including Forts Foster and McClary, classic New England waterfront areas and architecture like that found along Pepperell Cove, great outlet shopping, and, of course, classic New England dining and resorts. Eliot is slightly inland along the Piscataqua River, a small town of farms and outdoor\n",
            "293\n",
            "\n",
            "and resorts. Eliot is slightly inland along the Piscataqua River, a small town of farms and outdoor beauty.\n",
            "107\n",
            "\n",
            "You don't have to travel very far across the Maine-New Hampshire border to find great outlet shopping, because the Kittery Outlets are right there on Route 1 in Kittery, ME. With over 120 shops featuring name-brand clothing, accessories, shoes, jewelry, candles, collectibles and other novelties,\n",
            "296\n",
            "\n",
            "name-brand clothing, accessories, shoes, jewelry, candles, collectibles and other novelties, edible delights, and several great restaurants, you're sure to find the perfect item for yourself or to offer as a gift.\n",
            "213\n",
            "\n"
          ]
        }
      ]
    },
    {
      "cell_type": "markdown",
      "source": [
        "You can also create LangChain `Document` chunks with the `create_documents` function."
      ],
      "metadata": {
        "id": "Av6Ed9kpVevI"
      }
    },
    {
      "cell_type": "code",
      "source": [
        "# create splitter\n",
        "text_splitter = RecursiveCharacterTextSplitter(\n",
        "    separators=[\"\\n\\n\", \"\\n\", \" \", \"\"],\n",
        "    chunk_size=500,\n",
        "    chunk_overlap=100,\n",
        ")"
      ],
      "metadata": {
        "id": "ckITt-7SVcXh"
      },
      "execution_count": 17,
      "outputs": []
    },
    {
      "cell_type": "code",
      "source": [
        "# create LangChain documents\n",
        "docs = text_splitter.create_documents([doc])\n",
        "docs"
      ],
      "metadata": {
        "colab": {
          "base_uri": "https://localhost:8080/"
        },
        "id": "WyOehTPKV7bt",
        "outputId": "df049637-0e2e-44c2-b0f9-00e7ba7646a1"
      },
      "execution_count": 18,
      "outputs": [
        {
          "output_type": "execute_result",
          "data": {
            "text/plain": [
              "[Document(page_content='The southernmost towns of Maine are deliciously cozy place to retreat for glorious beaches, classic family summer fun, good food or romance. The famous South Coast beaches, are a magnet for sunbathers, swimmers, and anyone who loves the beauty of sand and surf. Get out in the evening for dinner on the oceanfront, for the sunset or to see the stars light up the night before heading back to your beachfront suite.'),\n",
              " Document(page_content='The coastline is a place of ongoing maritime activity and history. Charter boats for sailing, sightseeing, or fishing can be found at marinas and harbors in Kittery and York Harbor, ME. The bounty of the sea can be found at harbor markets and restaurants everywhere nearby. Lighthouses dating to the early and mid-19th century dot the landscape, helping to mark the seasons and guide those traveling on the sea.'),\n",
              " Document(page_content='The first towns across the state line from New Hampshire are Kittery and Eliot, ME. Kittery is on the ocean and hosts several beaches (Crescent, Seapoint, and at Fort Foster Park), historic colonial sites including Forts Foster and McClary, classic New England waterfront areas and architecture like that found along Pepperell Cove, great outlet shopping, and, of course, classic New England dining and resorts. Eliot is slightly inland along the Piscataqua River, a small town of farms and outdoor'),\n",
              " Document(page_content='and resorts. Eliot is slightly inland along the Piscataqua River, a small town of farms and outdoor beauty.'),\n",
              " Document(page_content=\"You don't have to travel very far across the Maine-New Hampshire border to find great outlet shopping, because the Kittery Outlets are right there on Route 1 in Kittery, ME. With over 120 shops featuring name-brand clothing, accessories, shoes, jewelry, candles, collectibles and other novelties, edible delights, and several great restaurants, you're sure to find the perfect item for yourself or to offer as a gift.\")]"
            ]
          },
          "metadata": {},
          "execution_count": 18
        }
      ]
    },
    {
      "cell_type": "markdown",
      "source": [
        "Summary:\n",
        "* LangChain documents are useful when you want to store metadata with the chunks."
      ],
      "metadata": {
        "id": "s9n2xqfmWIh6"
      }
    },
    {
      "cell_type": "markdown",
      "source": [
        "## `CharacterTextSplitter`\n",
        "* The CharacterTextSplitter is used for dividing text on specified characters.\n",
        "* It is very simple and very effective allowing custom control over specific text segments.\n",
        "\n",
        "### Key Features and Parameters\n",
        "* **Split Character**: by default, uses an empty string character (\"\") to split the text, but this can be customized to any character you specify.\n",
        "* **Chunk Size**: allows you to define the length of each chunk in terms of the number of characters. This is very userful for ensuring each chunk of text is manageable for processing.\n",
        "* **Overlap**: set the amount of overlap between consecutive chunks. This will help maintain context and continuation when text is split into separate parts.\n",
        "\n",
        "**This is the simplest text splitter that LangChain offers**\n",
        "* character-based division\n",
        "* straight forward chunk lengths and overlap\n",
        "* string content is simply obtained via `.split_text`\n",
        "* To create LangChain `Document` objects (e.g. for use in downstream tasks) use `.create_documents`"
      ],
      "metadata": {
        "id": "JQyZAz6eWUM5"
      }
    },
    {
      "cell_type": "code",
      "source": [
        "# import splitter\n",
        "from langchain.text_splitter import CharacterTextSplitter\n",
        "\n",
        "# create splitter\n",
        "text_splitter = CharacterTextSplitter(\n",
        "    separator=\"\\n\", #only 1 character to separate on\n",
        "    chunk_size=550,\n",
        "    chunk_overlap=200,\n",
        "    is_separator_regex=False, #no regex split\n",
        ")\n",
        "\n",
        "# create LangChain documents\n",
        "docs = text_splitter.create_documents([doc])\n",
        "docs"
      ],
      "metadata": {
        "colab": {
          "base_uri": "https://localhost:8080/"
        },
        "id": "H02kiUd9WDDu",
        "outputId": "dfe74741-7ec3-4701-a35f-9b067da5ec2b"
      },
      "execution_count": 20,
      "outputs": [
        {
          "output_type": "execute_result",
          "data": {
            "text/plain": [
              "[Document(page_content='The southernmost towns of Maine are deliciously cozy place to retreat for glorious beaches, classic family summer fun, good food or romance. The famous South Coast beaches, are a magnet for sunbathers, swimmers, and anyone who loves the beauty of sand and surf. Get out in the evening for dinner on the oceanfront, for the sunset or to see the stars light up the night before heading back to your beachfront suite.'),\n",
              " Document(page_content='The coastline is a place of ongoing maritime activity and history. Charter boats for sailing, sightseeing, or fishing can be found at marinas and harbors in Kittery and York Harbor, ME. The bounty of the sea can be found at harbor markets and restaurants everywhere nearby. Lighthouses dating to the early and mid-19th century dot the landscape, helping to mark the seasons and guide those traveling on the sea.'),\n",
              " Document(page_content='The first towns across the state line from New Hampshire are Kittery and Eliot, ME. Kittery is on the ocean and hosts several beaches (Crescent, Seapoint, and at Fort Foster Park), historic colonial sites including Forts Foster and McClary, classic New England waterfront areas and architecture like that found along Pepperell Cove, great outlet shopping, and, of course, classic New England dining and resorts. Eliot is slightly inland along the Piscataqua River, a small town of farms and outdoor beauty.'),\n",
              " Document(page_content=\"You don't have to travel very far across the Maine-New Hampshire border to find great outlet shopping, because the Kittery Outlets are right there on Route 1 in Kittery, ME. With over 120 shops featuring name-brand clothing, accessories, shoes, jewelry, candles, collectibles and other novelties, edible delights, and several great restaurants, you're sure to find the perfect item for yourself or to offer as a gift.\")]"
            ]
          },
          "metadata": {},
          "execution_count": 20
        }
      ]
    },
    {
      "cell_type": "markdown",
      "source": [
        "## Code Splitters\n",
        "* `RecursiveCharacterTextSplitter` includes pre-built lists of separators that are useful for splitting text in a particular programming language of choice."
      ],
      "metadata": {
        "id": "8TNMslN_X3TK"
      }
    },
    {
      "cell_type": "code",
      "source": [
        "from langchain.text_splitter import RecursiveCharacterTextSplitter, Language\n",
        "\n",
        "# code\n",
        "python_code = \"\"\"\n",
        "class FragmentRetriever:\n",
        "    def __init__(\n",
        "        self,\n",
        "        biencoder_model: KnownEncoderModel = KnownEncoderModel.BGE,\n",
        "        crossencoder_model: KnownEncoderModel = KnownEncoderModel.QNLI_ROBERTA,\n",
        "    ):\n",
        "        self.biencoder = config.biencoding_model(biencoder_model)\n",
        "        self.crossencoder = config.crossencoding_model(crossencoder_model)\n",
        "\n",
        "    async def raw_vector_search(self, query: str, num_results: int = 100) -> list[VectorSearchResult]:\n",
        "        # Encode the input text\n",
        "        input_vector = self.biencoder.encode(query).tolist()\n",
        "        # Search for similar fragments\n",
        "        results = await Fragment.vector_search(input_vector, num_results=num_results)\n",
        "        return results\n",
        "\n",
        "    def rerank_search_results(self, query: str, search_results: list[VectorSearchResult]) -> VectorSearchResult:\n",
        "        text_pairs = [[query, result.text] for result in search_results]\n",
        "        rerank_scores = self.crossencoder.predict(text_pairs)\n",
        "        for result, rerank_score in zip(search_results, rerank_scores):\n",
        "            result.rerank_score = rerank_score\n",
        "        return sorted(search_results, key=lambda x: x.rerank_score, reverse=True)\n",
        "\n",
        "    DEFAULT_RAW_RESULT_FACTOR = 3  # By default, get 3x as many raw results as requested before reanking 🤷🏼‍♂️\n",
        "\n",
        "    async def retrieve(\n",
        "        self, query: str, num_results: int = 10, num_raw_results: int | None = None\n",
        "    ) -> list[VectorSearchResult]:\n",
        "        if num_raw_results is None:\n",
        "            num_raw_results = num_results * self.DEFAULT_RAW_RESULT_FACTOR\n",
        "        raw_results = await self.raw_vector_search(query, num_results=num_raw_results)\n",
        "        reranked_results = self.rerank_search_results(query, raw_results)\n",
        "        return reranked_results[:num_results]\n",
        "\n",
        "\n",
        "\"\"\"\n",
        "\n",
        "# splitter\n",
        "python_splitter = RecursiveCharacterTextSplitter.from_language(\n",
        "    language=Language.PYTHON,\n",
        "    chunk_size=50,\n",
        "    chunk_overlap=0\n",
        ")\n",
        "\n",
        "# create documents in LangChain\n",
        "python_docs = python_splitter.create_documents([python_code])\n",
        "python_docs"
      ],
      "metadata": {
        "colab": {
          "base_uri": "https://localhost:8080/"
        },
        "id": "rHK7ZMPTXvSn",
        "outputId": "71c0b853-9c9f-4c1b-b410-1482999265c0"
      },
      "execution_count": 22,
      "outputs": [
        {
          "output_type": "execute_result",
          "data": {
            "text/plain": [
              "[Document(page_content='class FragmentRetriever:\\n    def __init__('),\n",
              " Document(page_content='self,'),\n",
              " Document(page_content='biencoder_model: KnownEncoderModel ='),\n",
              " Document(page_content='KnownEncoderModel.BGE,'),\n",
              " Document(page_content='crossencoder_model: KnownEncoderModel ='),\n",
              " Document(page_content='KnownEncoderModel.QNLI_ROBERTA,'),\n",
              " Document(page_content='):'),\n",
              " Document(page_content='self.biencoder ='),\n",
              " Document(page_content='config.biencoding_model(biencoder_model)'),\n",
              " Document(page_content='self.crossencoder ='),\n",
              " Document(page_content='config.crossencoding_model(crossencoder_model)'),\n",
              " Document(page_content='async def raw_vector_search(self, query: str,'),\n",
              " Document(page_content='num_results: int = 100) ->'),\n",
              " Document(page_content='list[VectorSearchResult]:'),\n",
              " Document(page_content='# Encode the input text'),\n",
              " Document(page_content='input_vector ='),\n",
              " Document(page_content='self.biencoder.encode(query).tolist()'),\n",
              " Document(page_content='# Search for similar fragments'),\n",
              " Document(page_content='results = await'),\n",
              " Document(page_content='Fragment.vector_search(input_vector,'),\n",
              " Document(page_content='num_results=num_results)'),\n",
              " Document(page_content='return results'),\n",
              " Document(page_content='def rerank_search_results(self, query: str,'),\n",
              " Document(page_content='search_results: list[VectorSearchResult]) ->'),\n",
              " Document(page_content='VectorSearchResult:'),\n",
              " Document(page_content='text_pairs = [[query, result.text] for'),\n",
              " Document(page_content='result in search_results]'),\n",
              " Document(page_content='rerank_scores ='),\n",
              " Document(page_content='self.crossencoder.predict(text_pairs)'),\n",
              " Document(page_content='for result, rerank_score in'),\n",
              " Document(page_content='zip(search_results, rerank_scores):'),\n",
              " Document(page_content='result.rerank_score = rerank_score'),\n",
              " Document(page_content='return sorted(search_results, key=lambda'),\n",
              " Document(page_content='x: x.rerank_score, reverse=True)'),\n",
              " Document(page_content='DEFAULT_RAW_RESULT_FACTOR = 3  # By default,'),\n",
              " Document(page_content='get 3x as many raw results as requested before'),\n",
              " Document(page_content='reanking 🤷🏼\\u200d♂️'),\n",
              " Document(page_content='async def retrieve('),\n",
              " Document(page_content='self, query: str, num_results: int = 10,'),\n",
              " Document(page_content='num_raw_results: int | None = None'),\n",
              " Document(page_content=') -> list[VectorSearchResult]:'),\n",
              " Document(page_content='if num_raw_results is None:'),\n",
              " Document(page_content='num_raw_results = num_results *'),\n",
              " Document(page_content='self.DEFAULT_RAW_RESULT_FACTOR'),\n",
              " Document(page_content='raw_results = await'),\n",
              " Document(page_content='self.raw_vector_search(query,'),\n",
              " Document(page_content='num_results=num_raw_results)'),\n",
              " Document(page_content='reranked_results ='),\n",
              " Document(page_content='self.rerank_search_results(query, raw_results)'),\n",
              " Document(page_content='return reranked_results[:num_results]')]"
            ]
          },
          "metadata": {},
          "execution_count": 22
        }
      ]
    },
    {
      "cell_type": "markdown",
      "source": [
        "## Markdown Splitters\n",
        "* Chunking a document based on document structure.\n",
        "* Markdown files are organized by **headers**.\n",
        "* To organize and keep the header organization in a semantic manner, we can use the `MarkdownHeaderTextSplitter`.\n",
        "  * This splits a markdown file by specified set of headers.\n",
        "\n",
        "* As an example:\n",
        "\n",
        "\n"
      ],
      "metadata": {
        "id": "DMm5IOOnZbJ2"
      }
    },
    {
      "cell_type": "markdown",
      "source": [
        "```\n",
        "markdown_document = \"\"\"\n",
        "# Team Introductions\n",
        "\n",
        "## Management Team\n",
        "\n",
        "Hi, this is Jim, the CEO.  \n",
        "Hi, this is Joe, the CFO.\n",
        "\n",
        "## Development Team\n",
        "\n",
        "Hi, this is Molly, the Lead Developer.\n",
        "\"\"\"\n",
        "```\n",
        "\n",
        "We can specify the headers to split on:\n",
        "\n",
        "```\n",
        "[(\"#\", \"Header 1\"),\n",
        " (\"##\", \"Header 2\")]\n",
        "```\n",
        "\n",
        "And content is grouped or split by common headers:\n",
        "\n",
        "```\n",
        "Document(page_content='Hi, this is Jim, the CEO.\\nHi, this is Joe, the CFO.',\n",
        "metadata={'Header 1': 'Team Introductions', 'Header 2': 'Management Team'})\n",
        "\n",
        "Document(page_content='Hi, this is Molly, the Lead Developer.',\n",
        "metadata={'Header 1': 'Team Introductions', 'Header 2': 'Development Team'})\n",
        "```"
      ],
      "metadata": {
        "id": "5J3crEGJcLZg"
      }
    },
    {
      "cell_type": "code",
      "source": [
        "markdown_document = \"\"\"\n",
        "# Team Introductions\n",
        "\n",
        "## Management Team\n",
        "Hi, this is Jim, the CTO.\n",
        "Hi, this is Anna, the CEO.\n",
        "\n",
        "## Development Team\n",
        "Hi, this is Molly, the Lead Engineer.\n",
        "\n",
        "\n",
        "\"\"\""
      ],
      "metadata": {
        "id": "fvQ8J9B7cUkE"
      },
      "execution_count": 28,
      "outputs": []
    },
    {
      "cell_type": "code",
      "source": [
        "from langchain_text_splitters import MarkdownHeaderTextSplitter\n",
        "\n",
        "# section headings to split on\n",
        "headers_to_split_on = [\n",
        "    (\"#\", \"Header 1\"),\n",
        "    (\"##\", \"Header 2\"),\n",
        "    (\"###\", \"Header 3\"),\n",
        "]\n",
        "\n",
        "markdown_splitter = MarkdownHeaderTextSplitter(headers_to_split_on)\n",
        "md_header_splits = markdown_splitter.split_text(markdown_document)\n",
        "md_header_splits"
      ],
      "metadata": {
        "colab": {
          "base_uri": "https://localhost:8080/"
        },
        "id": "YekeiIO0agiv",
        "outputId": "67bcab4b-88de-407b-fbb7-8f4dedbb32aa"
      },
      "execution_count": 29,
      "outputs": [
        {
          "output_type": "execute_result",
          "data": {
            "text/plain": [
              "[Document(metadata={'Header 1': 'Team Introductions', 'Header 2': 'Management Team'}, page_content='Hi, this is Jim, the CTO.\\nHi, this is Anna, the CEO.'),\n",
              " Document(metadata={'Header 1': 'Team Introductions', 'Header 2': 'Development Team'}, page_content='Hi, this is Molly, the Lead Engineer.')]"
            ]
          },
          "metadata": {},
          "execution_count": 29
        }
      ]
    },
    {
      "cell_type": "markdown",
      "source": [
        "By default, `MarkdownHeaderTextSplitter` strips headers being split on the output chunk's content.\n",
        "  * This can be disabled by setting `strip_headers = False`"
      ],
      "metadata": {
        "id": "Mne68XYZctjW"
      }
    },
    {
      "cell_type": "code",
      "source": [
        "markdown_splitter = MarkdownHeaderTextSplitter(headers_to_split_on, strip_headers=False) #set to false\n",
        "md_header_splits = markdown_splitter.split_text(markdown_document)\n",
        "md_header_splits"
      ],
      "metadata": {
        "colab": {
          "base_uri": "https://localhost:8080/"
        },
        "id": "KzolWdMcb-jD",
        "outputId": "ea534a2e-0237-495c-ea0a-3dc0ff25685b"
      },
      "execution_count": 30,
      "outputs": [
        {
          "output_type": "execute_result",
          "data": {
            "text/plain": [
              "[Document(metadata={'Header 1': 'Team Introductions', 'Header 2': 'Management Team'}, page_content='# Team Introductions  \\n## Management Team\\nHi, this is Jim, the CTO.\\nHi, this is Anna, the CEO.'),\n",
              " Document(metadata={'Header 1': 'Team Introductions', 'Header 2': 'Development Team'}, page_content='## Development Team\\nHi, this is Molly, the Lead Engineer.')]"
            ]
          },
          "metadata": {},
          "execution_count": 30
        }
      ]
    },
    {
      "cell_type": "markdown",
      "source": [
        "### Tokenizer based Splitting\n",
        "\n",
        "* LLMs have a token limit. You should not exceed the token limit.\n",
        "* When you split your text into chunks it is therefore a good idea to count the number of tokens.\n",
        "* There are many tokenizers. When you count tokens in your text you should use the same tokenizer as used in the language model.\n",
        "* Let's look at how we can chunk documents using different tokenizers\n"
      ],
      "metadata": {
        "id": "zrNBdpotdgP4"
      }
    },
    {
      "cell_type": "markdown",
      "source": [
        "#### tiktoken splitters\n",
        "\n",
        "* [`tiktoken`](https://github.com/openai/tiktoken) is a fast BPE tokenizer created by OpenAI.\n",
        "\n",
        "* We can use tiktoken to estimate tokens used.\n",
        "  * It will probably be more accurate for the OpenAI models.\n",
        "  * We measure the `chunk_size`here based on the number of tokens typically and **not the number of characters.**\n",
        "\n",
        "* For Open AI models, roughly 1 token = 3\\4 of a word.\n",
        "  * This means that approximately 100 tokens ~= 75 words.\n",
        "\n"
      ],
      "metadata": {
        "id": "eAMd9LozdtDj"
      }
    },
    {
      "cell_type": "markdown",
      "source": [
        "We can load a `TokenTextSplitter` which works with `tiktoken` directly and will ensure each split is smaller than chunk size in terms of the number of tokens."
      ],
      "metadata": {
        "id": "-xX39rcUeGNb"
      }
    },
    {
      "cell_type": "code",
      "source": [
        "# text --we will use some text from visitnewengland.com\n",
        "doc = \"\"\"\n",
        "Bar Harbor is the largest town on Mount Desert Island. Many visitors use Bar Harbor as a based while exploring Acadia National Park and nearby islands. Bar Harbor has plenty to do if you want to enjoy a day in town. There is dining (with an emphasis on lobster and blueberries, of course). And shopping at many interesting boutiques offering the work of Maine artists. You can jump aboard a whale-watching vessel or join a nature cruise or a sea kayak trip. The town has an oceanarium, a zoo and a popular lumberjack show during the warm seasons. Craft beers? We won’t hide them from you.\n",
        "\n",
        "The park has two museums. Islesford Historical Museum is on Little Cranberry Island, open mid-June to August 31. Sieur de Monts Spring and Nature Center are located two miles south of Bar Harbor near the juncture of Park Loop Road and Route 3. The nature center is open May to October. Adjacent to the nature center are the Wild Gardens of Acadia, which display 300 native species of the area nine labeled areas. The gardens are open year-round. Also at this location is the Abbe Museum, which preserves the culture of local Native American tribes (This museum is open during the warm seasons; another branch of the Abbe Museum, in downtown Bar Harbor, is open all year).\n",
        "\n",
        "There are so many things to do in this beautiful part of the world. Here’s a quick overview.\n",
        "\n",
        "Visit a Lighthouse:\n",
        "Bass Harbor Head Light is the only lighthouse on Mount Desert Island. The lighthouse has short trails on either side that provide spectacular views.\n",
        "\n",
        "Bicycling:\n",
        "Carriage Roads that wind through the park have crushed rock surfaces that are ideal perfect for bicycling. Cyclists share these roads with horses and pedestrians. Bicycling is not permitted on hiking trails.\n",
        "\n",
        "Editor’s Choice – Acadia National Park in Maine - Things To Do\n",
        "Birdwatching:\n",
        "Popular areas for this activity are Sieur de Monts Springs, Bear Brook and Beaver Dam Pond, Precipice, Otter Point, Seawall Picnic Area, Wonderland and Ship Harbor, Schoodic Peninsula, and Cadillac Mountain.\n",
        "\n",
        "Boating:\n",
        "A number of lakes and ponds on Mount Desert Island permit boating.\n",
        "\n",
        "Climbing:\n",
        "At Otter Cliffs, the park maintains fixed anchors on top that must be used instead of trees to belay several climbs. Climbers at Great Head and Otter Cliff should know tides and weather forecasts; climbing at these areas is more difficult and dangerous at high tide or in heavy seas.\n",
        "\n",
        "EarthCache Program:\n",
        "Use your GPS and provided clues to search for and find multiple EarthCaches. The Story of Glaciers will get you started.\n",
        "\n",
        "Fishing:\n",
        "Acadia National Park offers freshwater and saltwater fishing. Lakes and ponds may have trout, landlocked salmon, smallmouth and largemouth bass. Ocean species include mackerel, bluefish, and striped bass. Freshwater fishing requires a state fishing license; ocean fishing does not.\n",
        "\n",
        "Hiking:\n",
        "Maps provided by the park describes several historic hiking trails.\n",
        "\n",
        "Horseback Riding:\n",
        "Most of the park’s 45 miles of carriage roads are available for horseback travel. Get a copy of the Carriage Road User's Map to identify the routes where horses are permitted.\n",
        "\n",
        "Scenic Drives:\n",
        "The scenic 27-mile scenic loop begins at Hulls Cove Visitor Center and offers access to Sand Beach, Thunder Hole, Otter Cliffs, Jordan Pond, and Cadillac Mountain.\n",
        "\n",
        "Swimming:\n",
        "Two park beaches are staffed with lifeguards during the summer. They are Sand Beach with ocean swimming in 55 F-degree water and Echo Lake Beach, with somewhat warmer water.\n",
        "\n",
        "Tidepooling:\n",
        "Bar Island Sand Bar is great for young children. Accessible off Bridge Street for about 1.5 hours on either side of low tide. Also try Ship Harbor and Wonderland west side of Mount Desert Island.\n",
        "\n",
        "\"\"\"\n"
      ],
      "metadata": {
        "id": "lqbTu65Sdu5L"
      },
      "execution_count": 31,
      "outputs": []
    },
    {
      "cell_type": "code",
      "source": [
        "from langchain_text_splitters import TokenTextSplitter\n",
        "\n",
        "# text splitter creation\n",
        "text_splitter = TokenTextSplitter(model_name='gpt-3.5-turbo', # split text as the same model listed here would\n",
        "                                  chunk_size=30, # chunk size is tokens not text\n",
        "                                  chunk_overlap=10)\n",
        "\n",
        "\n",
        "# create documents\n",
        "docs = text_splitter.create_documents([doc])"
      ],
      "metadata": {
        "id": "1DRWKEW5emUW"
      },
      "execution_count": 33,
      "outputs": []
    },
    {
      "cell_type": "code",
      "source": [
        "# length\n",
        "len(docs)"
      ],
      "metadata": {
        "colab": {
          "base_uri": "https://localhost:8080/"
        },
        "id": "ztuFDt6_e3FH",
        "outputId": "a0d3f233-f913-48c0-8897-53fe5eb79203"
      },
      "execution_count": 34,
      "outputs": [
        {
          "output_type": "execute_result",
          "data": {
            "text/plain": [
              "40"
            ]
          },
          "metadata": {},
          "execution_count": 34
        }
      ]
    },
    {
      "cell_type": "code",
      "source": [
        "docs"
      ],
      "metadata": {
        "colab": {
          "base_uri": "https://localhost:8080/"
        },
        "id": "_Lyj2UfSfI9h",
        "outputId": "5ba48ad4-f0ae-42d3-a1d7-099a9ac174eb"
      },
      "execution_count": 35,
      "outputs": [
        {
          "output_type": "execute_result",
          "data": {
            "text/plain": [
              "[Document(page_content='\\nBar Harbor is the largest town on Mount Desert Island. Many visitors use Bar Harbor as a based while exploring Acadia National Park and nearby islands.'),\n",
              " Document(page_content=' while exploring Acadia National Park and nearby islands. Bar Harbor has plenty to do if you want to enjoy a day in town. There is dining ('),\n",
              " Document(page_content=' enjoy a day in town. There is dining (with an emphasis on lobster and blueberries, of course). And shopping at many interesting boutiques offering'),\n",
              " Document(page_content=' course). And shopping at many interesting boutiques offering the work of Maine artists. You can jump aboard a whale-watching vessel or join a nature cruise'),\n",
              " Document(page_content=' a whale-watching vessel or join a nature cruise or a sea kayak trip. The town has an oceanarium, a zoo and a popular lumberjack'),\n",
              " Document(page_content=' oceanarium, a zoo and a popular lumberjack show during the warm seasons. Craft beers? We won’t hide them from you.\\n\\nThe park has'),\n",
              " Document(page_content=' won’t hide them from you.\\n\\nThe park has two museums. Islesford Historical Museum is on Little Cranberry Island, open mid-June to August'),\n",
              " Document(page_content=' Cranberry Island, open mid-June to August 31. Sieur de Monts Spring and Nature Center are located two miles south of Bar Harbor'),\n",
              " Document(page_content=' Nature Center are located two miles south of Bar Harbor near the juncture of Park Loop Road and Route 3. The nature center is open May'),\n",
              " Document(page_content=' Route 3. The nature center is open May to October. Adjacent to the nature center are the Wild Gardens of Acadia, which display '),\n",
              " Document(page_content=' the Wild Gardens of Acadia, which display 300 native species of the area nine labeled areas. The gardens are open year-round. Also at this'),\n",
              " Document(page_content=' The gardens are open year-round. Also at this location is the Abbe Museum, which preserves the culture of local Native American tribes (This museum is'),\n",
              " Document(page_content=' culture of local Native American tribes (This museum is open during the warm seasons; another branch of the Abbe Museum, in downtown Bar Harbor, is'),\n",
              " Document(page_content=' Abbe Museum, in downtown Bar Harbor, is open all year).\\n\\nThere are so many things to do in this beautiful part of the world. Here'),\n",
              " Document(page_content=' do in this beautiful part of the world. Here’s a quick overview.\\n\\nVisit a Lighthouse:\\nBass Harbor Head Light is the only lighthouse'),\n",
              " Document(page_content='Bass Harbor Head Light is the only lighthouse on Mount Desert Island. The lighthouse has short trails on either side that provide spectacular views.\\n\\nB'),\n",
              " Document(page_content=' trails on either side that provide spectacular views.\\n\\nBicycling:\\nCarriage Roads that wind through the park have crushed rock surfaces that are ideal perfect for'),\n",
              " Document(page_content=' park have crushed rock surfaces that are ideal perfect for bicycling. Cyclists share these roads with horses and pedestrians. Bicycling is not permitted on'),\n",
              " Document(page_content=' and pedestrians. Bicycling is not permitted on hiking trails.\\n\\nEditor’s Choice – Acadia National Park in Maine - Things To Do\\nBirdwatch'),\n",
              " Document(page_content=' Park in Maine - Things To Do\\nBirdwatching:\\nPopular areas for this activity are Sieur de Monts Springs, Bear Brook and Beaver Dam'),\n",
              " Document(page_content=' de Monts Springs, Bear Brook and Beaver Dam Pond, Precipice, Otter Point, Seawall Picnic Area, Wonderland and Ship'),\n",
              " Document(page_content=' Seawall Picnic Area, Wonderland and Ship Harbor, Schoodic Peninsula, and Cadillac Mountain.\\n\\nBoating:\\nA number of lakes and ponds on'),\n",
              " Document(page_content='Boating:\\nA number of lakes and ponds on Mount Desert Island permit boating.\\n\\nClimbing:\\nAt Otter Cliffs, the park maintains'),\n",
              " Document(page_content=':\\nAt Otter Cliffs, the park maintains fixed anchors on top that must be used instead of trees to belay several climbs. Climbers at'),\n",
              " Document(page_content=' trees to belay several climbs. Climbers at Great Head and Otter Cliff should know tides and weather forecasts; climbing at these areas is more'),\n",
              " Document(page_content=' and weather forecasts; climbing at these areas is more difficult and dangerous at high tide or in heavy seas.\\n\\nEarthCache Program:\\nUse your GPS and provided'),\n",
              " Document(page_content='.\\n\\nEarthCache Program:\\nUse your GPS and provided clues to search for and find multiple EarthCaches. The Story of Glaciers will get you'),\n",
              " Document(page_content='. The Story of Glaciers will get you started.\\n\\nFishing:\\nAcadia National Park offers freshwater and saltwater fishing. Lakes and ponds may'),\n",
              " Document(page_content=' freshwater and saltwater fishing. Lakes and ponds may have trout, landlocked salmon, smallmouth and largemouth bass. Ocean species include mackerel'),\n",
              " Document(page_content=' largemouth bass. Ocean species include mackerel, bluefish, and striped bass. Freshwater fishing requires a state fishing license; ocean fishing does'),\n",
              " Document(page_content=' fishing requires a state fishing license; ocean fishing does not.\\n\\nHiking:\\nMaps provided by the park describes several historic hiking trails.\\n\\nHorseback Riding'),\n",
              " Document(page_content=' describes several historic hiking trails.\\n\\nHorseback Riding:\\nMost of the park’s 45 miles of carriage roads are available for horseback travel. Get'),\n",
              " Document(page_content=\" carriage roads are available for horseback travel. Get a copy of the Carriage Road User's Map to identify the routes where horses are permitted.\\n\\nSc\"),\n",
              " Document(page_content=' to identify the routes where horses are permitted.\\n\\nScenic Drives:\\nThe scenic 27-mile scenic loop begins at Hulls Cove Visitor Center and offers'),\n",
              " Document(page_content=' loop begins at Hulls Cove Visitor Center and offers access to Sand Beach, Thunder Hole, Otter Cliffs, Jordan Pond, and Cadillac Mountain.\\n\\n'),\n",
              " Document(page_content=' Cliffs, Jordan Pond, and Cadillac Mountain.\\n\\nSwimming:\\nTwo park beaches are staffed with lifeguards during the summer. They are Sand'),\n",
              " Document(page_content=' lifeguards during the summer. They are Sand Beach with ocean swimming in 55 F-degree water and Echo Lake Beach, with somewhat warmer water.\\n\\n'),\n",
              " Document(page_content=' and Echo Lake Beach, with somewhat warmer water.\\n\\nTidepooling:\\nBar Island Sand Bar is great for young children. Accessible off Bridge Street'),\n",
              " Document(page_content=' great for young children. Accessible off Bridge Street for about 1.5 hours on either side of low tide. Also try Ship Harbor and Wonderland'),\n",
              " Document(page_content=' of low tide. Also try Ship Harbor and Wonderland west side of Mount Desert Island.\\n\\n')]"
            ]
          },
          "metadata": {},
          "execution_count": 35
        }
      ]
    },
    {
      "cell_type": "code",
      "source": [
        "## now use tiktoken\n",
        "import tiktoken\n",
        "\n",
        "enc = tiktoken.encoding_for_model('gpt-3.5-turbo')\n",
        "\n",
        "## using this block we can count the len of each document using every token\n",
        "for i in docs:\n",
        "  print('Words:', len(i.page_content.split(' ')),\n",
        "        'Tokens:', len(enc.encode(i.page_content)),\n",
        "        'Chunk:', i.page_content)"
      ],
      "metadata": {
        "colab": {
          "base_uri": "https://localhost:8080/"
        },
        "id": "d85FwjCPfJtg",
        "outputId": "e21c8908-0fad-4bd7-e561-2fac2595410d"
      },
      "execution_count": 36,
      "outputs": [
        {
          "output_type": "stream",
          "name": "stdout",
          "text": [
            "Words: 26 Tokens: 30 Chunk: \n",
            "Bar Harbor is the largest town on Mount Desert Island. Many visitors use Bar Harbor as a based while exploring Acadia National Park and nearby islands.\n",
            "Words: 28 Tokens: 30 Chunk:  while exploring Acadia National Park and nearby islands. Bar Harbor has plenty to do if you want to enjoy a day in town. There is dining (\n",
            "Words: 25 Tokens: 30 Chunk:  enjoy a day in town. There is dining (with an emphasis on lobster and blueberries, of course). And shopping at many interesting boutiques offering\n",
            "Words: 26 Tokens: 30 Chunk:  course). And shopping at many interesting boutiques offering the work of Maine artists. You can jump aboard a whale-watching vessel or join a nature cruise\n",
            "Words: 25 Tokens: 30 Chunk:  a whale-watching vessel or join a nature cruise or a sea kayak trip. The town has an oceanarium, a zoo and a popular lumberjack\n",
            "Words: 23 Tokens: 30 Chunk:  oceanarium, a zoo and a popular lumberjack show during the warm seasons. Craft beers? We won’t hide them from you.\n",
            "\n",
            "The park has\n",
            "Words: 22 Tokens: 30 Chunk:  won’t hide them from you.\n",
            "\n",
            "The park has two museums. Islesford Historical Museum is on Little Cranberry Island, open mid-June to August\n",
            "Words: 23 Tokens: 30 Chunk:  Cranberry Island, open mid-June to August 31. Sieur de Monts Spring and Nature Center are located two miles south of Bar Harbor\n",
            "Words: 27 Tokens: 30 Chunk:  Nature Center are located two miles south of Bar Harbor near the juncture of Park Loop Road and Route 3. The nature center is open May\n",
            "Words: 25 Tokens: 30 Chunk:  Route 3. The nature center is open May to October. Adjacent to the nature center are the Wild Gardens of Acadia, which display \n",
            "Words: 25 Tokens: 30 Chunk:  the Wild Gardens of Acadia, which display 300 native species of the area nine labeled areas. The gardens are open year-round. Also at this\n",
            "Words: 26 Tokens: 30 Chunk:  The gardens are open year-round. Also at this location is the Abbe Museum, which preserves the culture of local Native American tribes (This museum is\n",
            "Words: 26 Tokens: 30 Chunk:  culture of local Native American tribes (This museum is open during the warm seasons; another branch of the Abbe Museum, in downtown Bar Harbor, is\n",
            "Words: 25 Tokens: 30 Chunk:  Abbe Museum, in downtown Bar Harbor, is open all year).\n",
            "\n",
            "There are so many things to do in this beautiful part of the world. Here\n",
            "Words: 22 Tokens: 30 Chunk:  do in this beautiful part of the world. Here’s a quick overview.\n",
            "\n",
            "Visit a Lighthouse:\n",
            "Bass Harbor Head Light is the only lighthouse\n",
            "Words: 24 Tokens: 30 Chunk: Bass Harbor Head Light is the only lighthouse on Mount Desert Island. The lighthouse has short trails on either side that provide spectacular views.\n",
            "\n",
            "B\n",
            "Words: 24 Tokens: 30 Chunk:  trails on either side that provide spectacular views.\n",
            "\n",
            "Bicycling:\n",
            "Carriage Roads that wind through the park have crushed rock surfaces that are ideal perfect for\n",
            "Words: 25 Tokens: 30 Chunk:  park have crushed rock surfaces that are ideal perfect for bicycling. Cyclists share these roads with horses and pedestrians. Bicycling is not permitted on\n",
            "Words: 21 Tokens: 30 Chunk:  and pedestrians. Bicycling is not permitted on hiking trails.\n",
            "\n",
            "Editor’s Choice – Acadia National Park in Maine - Things To Do\n",
            "Birdwatch\n",
            "Words: 22 Tokens: 30 Chunk:  Park in Maine - Things To Do\n",
            "Birdwatching:\n",
            "Popular areas for this activity are Sieur de Monts Springs, Bear Brook and Beaver Dam\n",
            "Words: 19 Tokens: 30 Chunk:  de Monts Springs, Bear Brook and Beaver Dam Pond, Precipice, Otter Point, Seawall Picnic Area, Wonderland and Ship\n",
            "Words: 19 Tokens: 30 Chunk:  Seawall Picnic Area, Wonderland and Ship Harbor, Schoodic Peninsula, and Cadillac Mountain.\n",
            "\n",
            "Boating:\n",
            "A number of lakes and ponds on\n",
            "Words: 17 Tokens: 30 Chunk: Boating:\n",
            "A number of lakes and ponds on Mount Desert Island permit boating.\n",
            "\n",
            "Climbing:\n",
            "At Otter Cliffs, the park maintains\n",
            "Words: 23 Tokens: 30 Chunk: :\n",
            "At Otter Cliffs, the park maintains fixed anchors on top that must be used instead of trees to belay several climbs. Climbers at\n",
            "Words: 25 Tokens: 30 Chunk:  trees to belay several climbs. Climbers at Great Head and Otter Cliff should know tides and weather forecasts; climbing at these areas is more\n",
            "Words: 25 Tokens: 30 Chunk:  and weather forecasts; climbing at these areas is more difficult and dangerous at high tide or in heavy seas.\n",
            "\n",
            "EarthCache Program:\n",
            "Use your GPS and provided\n",
            "Words: 21 Tokens: 30 Chunk: .\n",
            "\n",
            "EarthCache Program:\n",
            "Use your GPS and provided clues to search for and find multiple EarthCaches. The Story of Glaciers will get you\n",
            "Words: 20 Tokens: 30 Chunk: . The Story of Glaciers will get you started.\n",
            "\n",
            "Fishing:\n",
            "Acadia National Park offers freshwater and saltwater fishing. Lakes and ponds may\n",
            "Words: 21 Tokens: 30 Chunk:  freshwater and saltwater fishing. Lakes and ponds may have trout, landlocked salmon, smallmouth and largemouth bass. Ocean species include mackerel\n",
            "Words: 21 Tokens: 30 Chunk:  largemouth bass. Ocean species include mackerel, bluefish, and striped bass. Freshwater fishing requires a state fishing license; ocean fishing does\n",
            "Words: 21 Tokens: 30 Chunk:  fishing requires a state fishing license; ocean fishing does not.\n",
            "\n",
            "Hiking:\n",
            "Maps provided by the park describes several historic hiking trails.\n",
            "\n",
            "Horseback Riding\n",
            "Words: 21 Tokens: 30 Chunk:  describes several historic hiking trails.\n",
            "\n",
            "Horseback Riding:\n",
            "Most of the park’s 45 miles of carriage roads are available for horseback travel. Get\n",
            "Words: 25 Tokens: 30 Chunk:  carriage roads are available for horseback travel. Get a copy of the Carriage Road User's Map to identify the routes where horses are permitted.\n",
            "\n",
            "Sc\n",
            "Words: 22 Tokens: 30 Chunk:  to identify the routes where horses are permitted.\n",
            "\n",
            "Scenic Drives:\n",
            "The scenic 27-mile scenic loop begins at Hulls Cove Visitor Center and offers\n",
            "Words: 23 Tokens: 30 Chunk:  loop begins at Hulls Cove Visitor Center and offers access to Sand Beach, Thunder Hole, Otter Cliffs, Jordan Pond, and Cadillac Mountain.\n",
            "\n",
            "\n",
            "Words: 19 Tokens: 30 Chunk:  Cliffs, Jordan Pond, and Cadillac Mountain.\n",
            "\n",
            "Swimming:\n",
            "Two park beaches are staffed with lifeguards during the summer. They are Sand\n",
            "Words: 24 Tokens: 30 Chunk:  lifeguards during the summer. They are Sand Beach with ocean swimming in 55 F-degree water and Echo Lake Beach, with somewhat warmer water.\n",
            "\n",
            "\n",
            "Words: 21 Tokens: 30 Chunk:  and Echo Lake Beach, with somewhat warmer water.\n",
            "\n",
            "Tidepooling:\n",
            "Bar Island Sand Bar is great for young children. Accessible off Bridge Street\n",
            "Words: 25 Tokens: 30 Chunk:  great for young children. Accessible off Bridge Street for about 1.5 hours on either side of low tide. Also try Ship Harbor and Wonderland\n",
            "Words: 16 Tokens: 17 Chunk:  of low tide. Also try Ship Harbor and Wonderland west side of Mount Desert Island.\n",
            "\n",
            "\n"
          ]
        }
      ]
    },
    {
      "cell_type": "markdown",
      "source": [
        "Larger chunk size in terms of number of words/tokens will create lesser chunks or paragraphs as usual."
      ],
      "metadata": {
        "id": "S9r_KaECfvRQ"
      }
    },
    {
      "cell_type": "code",
      "source": [
        "text_splitter = TokenTextSplitter(model_name='gpt-3.5-turbo',\n",
        "                                  chunk_size=100,\n",
        "                                  chunk_overlap=30)\n",
        "\n",
        "# create docs\n",
        "docs = text_splitter.create_documents([doc])"
      ],
      "metadata": {
        "id": "NINMAZZ4feWX"
      },
      "execution_count": 37,
      "outputs": []
    },
    {
      "cell_type": "code",
      "source": [
        "len(docs)"
      ],
      "metadata": {
        "colab": {
          "base_uri": "https://localhost:8080/"
        },
        "id": "WrsTSnxnf9iM",
        "outputId": "21222ccd-609b-4630-e196-80a8b74eab7b"
      },
      "execution_count": 38,
      "outputs": [
        {
          "output_type": "execute_result",
          "data": {
            "text/plain": [
              "11"
            ]
          },
          "metadata": {},
          "execution_count": 38
        }
      ]
    },
    {
      "cell_type": "code",
      "source": [
        "docs"
      ],
      "metadata": {
        "colab": {
          "base_uri": "https://localhost:8080/"
        },
        "id": "jvTqckvVf-T3",
        "outputId": "22b5381c-113e-4fea-f71d-459ac1b1a8ef"
      },
      "execution_count": 39,
      "outputs": [
        {
          "output_type": "execute_result",
          "data": {
            "text/plain": [
              "[Document(page_content='\\nBar Harbor is the largest town on Mount Desert Island. Many visitors use Bar Harbor as a based while exploring Acadia National Park and nearby islands. Bar Harbor has plenty to do if you want to enjoy a day in town. There is dining (with an emphasis on lobster and blueberries, of course). And shopping at many interesting boutiques offering the work of Maine artists. You can jump aboard a whale-watching vessel or join a nature cruise or a sea kayak trip. The town has an'),\n",
              " Document(page_content=' the work of Maine artists. You can jump aboard a whale-watching vessel or join a nature cruise or a sea kayak trip. The town has an oceanarium, a zoo and a popular lumberjack show during the warm seasons. Craft beers? We won’t hide them from you.\\n\\nThe park has two museums. Islesford Historical Museum is on Little Cranberry Island, open mid-June to August 31. Sieur de Monts Spring and Nature Center are located two miles south of Bar Harbor'),\n",
              " Document(page_content=' Cranberry Island, open mid-June to August 31. Sieur de Monts Spring and Nature Center are located two miles south of Bar Harbor near the juncture of Park Loop Road and Route 3. The nature center is open May to October. Adjacent to the nature center are the Wild Gardens of Acadia, which display 300 native species of the area nine labeled areas. The gardens are open year-round. Also at this location is the Abbe Museum, which preserves the'),\n",
              " Document(page_content='300 native species of the area nine labeled areas. The gardens are open year-round. Also at this location is the Abbe Museum, which preserves the culture of local Native American tribes (This museum is open during the warm seasons; another branch of the Abbe Museum, in downtown Bar Harbor, is open all year).\\n\\nThere are so many things to do in this beautiful part of the world. Here’s a quick overview.\\n\\nVisit a Lighthouse:\\nBass Harbor Head Light is the only lighthouse'),\n",
              " Document(page_content=' do in this beautiful part of the world. Here’s a quick overview.\\n\\nVisit a Lighthouse:\\nBass Harbor Head Light is the only lighthouse on Mount Desert Island. The lighthouse has short trails on either side that provide spectacular views.\\n\\nBicycling:\\nCarriage Roads that wind through the park have crushed rock surfaces that are ideal perfect for bicycling. Cyclists share these roads with horses and pedestrians. Bicycling is not permitted on hiking trails.\\n\\nEditor’s Choice – Acadia National'),\n",
              " Document(page_content=' bicycling. Cyclists share these roads with horses and pedestrians. Bicycling is not permitted on hiking trails.\\n\\nEditor’s Choice – Acadia National Park in Maine - Things To Do\\nBirdwatching:\\nPopular areas for this activity are Sieur de Monts Springs, Bear Brook and Beaver Dam Pond, Precipice, Otter Point, Seawall Picnic Area, Wonderland and Ship Harbor, Schoodic Peninsula, and Cadillac Mountain.\\n\\nBoating:\\nA number of lakes and ponds on'),\n",
              " Document(page_content=' Seawall Picnic Area, Wonderland and Ship Harbor, Schoodic Peninsula, and Cadillac Mountain.\\n\\nBoating:\\nA number of lakes and ponds on Mount Desert Island permit boating.\\n\\nClimbing:\\nAt Otter Cliffs, the park maintains fixed anchors on top that must be used instead of trees to belay several climbs. Climbers at Great Head and Otter Cliff should know tides and weather forecasts; climbing at these areas is more difficult and dangerous at high tide or in heavy seas'),\n",
              " Document(page_content=' Great Head and Otter Cliff should know tides and weather forecasts; climbing at these areas is more difficult and dangerous at high tide or in heavy seas.\\n\\nEarthCache Program:\\nUse your GPS and provided clues to search for and find multiple EarthCaches. The Story of Glaciers will get you started.\\n\\nFishing:\\nAcadia National Park offers freshwater and saltwater fishing. Lakes and ponds may have trout, landlocked salmon, smallmouth and largemouth bass. Ocean species include mackerel'),\n",
              " Document(page_content=\" freshwater and saltwater fishing. Lakes and ponds may have trout, landlocked salmon, smallmouth and largemouth bass. Ocean species include mackerel, bluefish, and striped bass. Freshwater fishing requires a state fishing license; ocean fishing does not.\\n\\nHiking:\\nMaps provided by the park describes several historic hiking trails.\\n\\nHorseback Riding:\\nMost of the park’s 45 miles of carriage roads are available for horseback travel. Get a copy of the Carriage Road User's Map\"),\n",
              " Document(page_content=\":\\nMost of the park’s 45 miles of carriage roads are available for horseback travel. Get a copy of the Carriage Road User's Map to identify the routes where horses are permitted.\\n\\nScenic Drives:\\nThe scenic 27-mile scenic loop begins at Hulls Cove Visitor Center and offers access to Sand Beach, Thunder Hole, Otter Cliffs, Jordan Pond, and Cadillac Mountain.\\n\\nSwimming:\\nTwo park beaches are staffed with lifeguards during the summer. They are Sand\"),\n",
              " Document(page_content=' Cliffs, Jordan Pond, and Cadillac Mountain.\\n\\nSwimming:\\nTwo park beaches are staffed with lifeguards during the summer. They are Sand Beach with ocean swimming in 55 F-degree water and Echo Lake Beach, with somewhat warmer water.\\n\\nTidepooling:\\nBar Island Sand Bar is great for young children. Accessible off Bridge Street for about 1.5 hours on either side of low tide. Also try Ship Harbor and Wonderland west side of Mount Desert Island.\\n\\n')]"
            ]
          },
          "metadata": {},
          "execution_count": 39
        }
      ]
    },
    {
      "cell_type": "code",
      "source": [
        "enc = tiktoken.encoding_for_model('gpt-3.5-turbo')\n",
        "\n",
        "\n",
        "## using this block we can count the len of each document using every token\n",
        "for i in docs:\n",
        "  print('Words:', len(i.page_content.split(' ')),\n",
        "        'Tokens:', len(enc.encode(i.page_content)),\n",
        "        'Chunk:', i.page_content)"
      ],
      "metadata": {
        "colab": {
          "base_uri": "https://localhost:8080/"
        },
        "id": "-2peq93If-7D",
        "outputId": "6e078a05-dbff-4651-b6ec-8e537ceedf89"
      },
      "execution_count": 40,
      "outputs": [
        {
          "output_type": "stream",
          "name": "stdout",
          "text": [
            "Words: 86 Tokens: 100 Chunk: \n",
            "Bar Harbor is the largest town on Mount Desert Island. Many visitors use Bar Harbor as a based while exploring Acadia National Park and nearby islands. Bar Harbor has plenty to do if you want to enjoy a day in town. There is dining (with an emphasis on lobster and blueberries, of course). And shopping at many interesting boutiques offering the work of Maine artists. You can jump aboard a whale-watching vessel or join a nature cruise or a sea kayak trip. The town has an\n",
            "Words: 79 Tokens: 100 Chunk:  the work of Maine artists. You can jump aboard a whale-watching vessel or join a nature cruise or a sea kayak trip. The town has an oceanarium, a zoo and a popular lumberjack show during the warm seasons. Craft beers? We won’t hide them from you.\n",
            "\n",
            "The park has two museums. Islesford Historical Museum is on Little Cranberry Island, open mid-June to August 31. Sieur de Monts Spring and Nature Center are located two miles south of Bar Harbor\n",
            "Words: 79 Tokens: 100 Chunk:  Cranberry Island, open mid-June to August 31. Sieur de Monts Spring and Nature Center are located two miles south of Bar Harbor near the juncture of Park Loop Road and Route 3. The nature center is open May to October. Adjacent to the nature center are the Wild Gardens of Acadia, which display 300 native species of the area nine labeled areas. The gardens are open year-round. Also at this location is the Abbe Museum, which preserves the\n",
            "Words: 79 Tokens: 100 Chunk: 300 native species of the area nine labeled areas. The gardens are open year-round. Also at this location is the Abbe Museum, which preserves the culture of local Native American tribes (This museum is open during the warm seasons; another branch of the Abbe Museum, in downtown Bar Harbor, is open all year).\n",
            "\n",
            "There are so many things to do in this beautiful part of the world. Here’s a quick overview.\n",
            "\n",
            "Visit a Lighthouse:\n",
            "Bass Harbor Head Light is the only lighthouse\n",
            "Words: 73 Tokens: 100 Chunk:  do in this beautiful part of the world. Here’s a quick overview.\n",
            "\n",
            "Visit a Lighthouse:\n",
            "Bass Harbor Head Light is the only lighthouse on Mount Desert Island. The lighthouse has short trails on either side that provide spectacular views.\n",
            "\n",
            "Bicycling:\n",
            "Carriage Roads that wind through the park have crushed rock surfaces that are ideal perfect for bicycling. Cyclists share these roads with horses and pedestrians. Bicycling is not permitted on hiking trails.\n",
            "\n",
            "Editor’s Choice – Acadia National\n",
            "Words: 64 Tokens: 100 Chunk:  bicycling. Cyclists share these roads with horses and pedestrians. Bicycling is not permitted on hiking trails.\n",
            "\n",
            "Editor’s Choice – Acadia National Park in Maine - Things To Do\n",
            "Birdwatching:\n",
            "Popular areas for this activity are Sieur de Monts Springs, Bear Brook and Beaver Dam Pond, Precipice, Otter Point, Seawall Picnic Area, Wonderland and Ship Harbor, Schoodic Peninsula, and Cadillac Mountain.\n",
            "\n",
            "Boating:\n",
            "A number of lakes and ponds on\n",
            "Words: 73 Tokens: 100 Chunk:  Seawall Picnic Area, Wonderland and Ship Harbor, Schoodic Peninsula, and Cadillac Mountain.\n",
            "\n",
            "Boating:\n",
            "A number of lakes and ponds on Mount Desert Island permit boating.\n",
            "\n",
            "Climbing:\n",
            "At Otter Cliffs, the park maintains fixed anchors on top that must be used instead of trees to belay several climbs. Climbers at Great Head and Otter Cliff should know tides and weather forecasts; climbing at these areas is more difficult and dangerous at high tide or in heavy seas\n",
            "Words: 72 Tokens: 100 Chunk:  Great Head and Otter Cliff should know tides and weather forecasts; climbing at these areas is more difficult and dangerous at high tide or in heavy seas.\n",
            "\n",
            "EarthCache Program:\n",
            "Use your GPS and provided clues to search for and find multiple EarthCaches. The Story of Glaciers will get you started.\n",
            "\n",
            "Fishing:\n",
            "Acadia National Park offers freshwater and saltwater fishing. Lakes and ponds may have trout, landlocked salmon, smallmouth and largemouth bass. Ocean species include mackerel\n",
            "Words: 68 Tokens: 100 Chunk:  freshwater and saltwater fishing. Lakes and ponds may have trout, landlocked salmon, smallmouth and largemouth bass. Ocean species include mackerel, bluefish, and striped bass. Freshwater fishing requires a state fishing license; ocean fishing does not.\n",
            "\n",
            "Hiking:\n",
            "Maps provided by the park describes several historic hiking trails.\n",
            "\n",
            "Horseback Riding:\n",
            "Most of the park’s 45 miles of carriage roads are available for horseback travel. Get a copy of the Carriage Road User's Map\n",
            "Words: 69 Tokens: 100 Chunk: :\n",
            "Most of the park’s 45 miles of carriage roads are available for horseback travel. Get a copy of the Carriage Road User's Map to identify the routes where horses are permitted.\n",
            "\n",
            "Scenic Drives:\n",
            "The scenic 27-mile scenic loop begins at Hulls Cove Visitor Center and offers access to Sand Beach, Thunder Hole, Otter Cliffs, Jordan Pond, and Cadillac Mountain.\n",
            "\n",
            "Swimming:\n",
            "Two park beaches are staffed with lifeguards during the summer. They are Sand\n",
            "Words: 69 Tokens: 97 Chunk:  Cliffs, Jordan Pond, and Cadillac Mountain.\n",
            "\n",
            "Swimming:\n",
            "Two park beaches are staffed with lifeguards during the summer. They are Sand Beach with ocean swimming in 55 F-degree water and Echo Lake Beach, with somewhat warmer water.\n",
            "\n",
            "Tidepooling:\n",
            "Bar Island Sand Bar is great for young children. Accessible off Bridge Street for about 1.5 hours on either side of low tide. Also try Ship Harbor and Wonderland west side of Mount Desert Island.\n",
            "\n",
            "\n"
          ]
        }
      ]
    },
    {
      "cell_type": "markdown",
      "source": [
        "To implement a hard constraint on the chunk size, we can use `RecursiveCharacterTextSplitter.from_tiktoken_encoder`, where each split will be recursively split if it has a larger size and it makes the chunks more meaningful."
      ],
      "metadata": {
        "id": "SS54hRhdgSl5"
      }
    },
    {
      "cell_type": "code",
      "source": [
        "from langchain_text_splitters import RecursiveCharacterTextSplitter\n",
        "\n",
        "# text splitter\n",
        "text_splitter = RecursiveCharacterTextSplitter.from_tiktoken_encoder(\n",
        "    model_name='gpt-3.5-turbo',\n",
        "    chunk_size=100,\n",
        "    chunk_overlap=30\n",
        ")\n",
        "\n",
        "# create documents\n",
        "docs = text_splitter.create_documents([doc])"
      ],
      "metadata": {
        "id": "CpJFRGHmgJ7Y"
      },
      "execution_count": 41,
      "outputs": []
    },
    {
      "cell_type": "code",
      "source": [
        "len(docs)"
      ],
      "metadata": {
        "colab": {
          "base_uri": "https://localhost:8080/"
        },
        "id": "VKaX66ADgu24",
        "outputId": "8525a2cb-d39f-4562-b1df-c684bae526ec"
      },
      "execution_count": 42,
      "outputs": [
        {
          "output_type": "execute_result",
          "data": {
            "text/plain": [
              "12"
            ]
          },
          "metadata": {},
          "execution_count": 42
        }
      ]
    },
    {
      "cell_type": "code",
      "source": [
        "docs"
      ],
      "metadata": {
        "colab": {
          "base_uri": "https://localhost:8080/"
        },
        "id": "i9gUGGQ2gv8K",
        "outputId": "0c53d3d8-1954-4d82-b668-167a4a6d0b37"
      },
      "execution_count": 43,
      "outputs": [
        {
          "output_type": "execute_result",
          "data": {
            "text/plain": [
              "[Document(page_content='Bar Harbor is the largest town on Mount Desert Island. Many visitors use Bar Harbor as a based while exploring Acadia National Park and nearby islands. Bar Harbor has plenty to do if you want to enjoy a day in town. There is dining (with an emphasis on lobster and blueberries, of course). And shopping at many interesting boutiques offering the work of Maine artists. You can jump aboard a whale-watching vessel or join a nature cruise or a sea kayak trip. The town has an'),\n",
              " Document(page_content='the work of Maine artists. You can jump aboard a whale-watching vessel or join a nature cruise or a sea kayak trip. The town has an oceanarium, a zoo and a popular lumberjack show during the warm seasons. Craft beers? We won’t hide them from you.'),\n",
              " Document(page_content='The park has two museums. Islesford Historical Museum is on Little Cranberry Island, open mid-June to August 31. Sieur de Monts Spring and Nature Center are located two miles south of Bar Harbor near the juncture of Park Loop Road and Route 3. The nature center is open May to October. Adjacent to the nature center are the Wild Gardens of Acadia, which display 300 native species of the area nine labeled areas. The gardens are open'),\n",
              " Document(page_content='to the nature center are the Wild Gardens of Acadia, which display 300 native species of the area nine labeled areas. The gardens are open year-round. Also at this location is the Abbe Museum, which preserves the culture of local Native American tribes (This museum is open during the warm seasons; another branch of the Abbe Museum, in downtown Bar Harbor, is open all year).'),\n",
              " Document(page_content='There are so many things to do in this beautiful part of the world. Here’s a quick overview.\\n\\nVisit a Lighthouse:\\nBass Harbor Head Light is the only lighthouse on Mount Desert Island. The lighthouse has short trails on either side that provide spectacular views.'),\n",
              " Document(page_content='Bicycling:\\nCarriage Roads that wind through the park have crushed rock surfaces that are ideal perfect for bicycling. Cyclists share these roads with horses and pedestrians. Bicycling is not permitted on hiking trails.'),\n",
              " Document(page_content='Editor’s Choice – Acadia National Park in Maine - Things To Do\\nBirdwatching:\\nPopular areas for this activity are Sieur de Monts Springs, Bear Brook and Beaver Dam Pond, Precipice, Otter Point, Seawall Picnic Area, Wonderland and Ship Harbor, Schoodic Peninsula, and Cadillac Mountain.\\n\\nBoating:\\nA number of lakes and ponds on Mount Desert Island permit boating.'),\n",
              " Document(page_content='Boating:\\nA number of lakes and ponds on Mount Desert Island permit boating.\\n\\nClimbing:\\nAt Otter Cliffs, the park maintains fixed anchors on top that must be used instead of trees to belay several climbs. Climbers at Great Head and Otter Cliff should know tides and weather forecasts; climbing at these areas is more difficult and dangerous at high tide or in heavy seas.'),\n",
              " Document(page_content='EarthCache Program:\\nUse your GPS and provided clues to search for and find multiple EarthCaches. The Story of Glaciers will get you started.\\n\\nFishing:\\nAcadia National Park offers freshwater and saltwater fishing. Lakes and ponds may have trout, landlocked salmon, smallmouth and largemouth bass. Ocean species include mackerel, bluefish, and striped bass. Freshwater fishing requires a state fishing license; ocean fishing does not.'),\n",
              " Document(page_content=\"Hiking:\\nMaps provided by the park describes several historic hiking trails.\\n\\nHorseback Riding:\\nMost of the park’s 45 miles of carriage roads are available for horseback travel. Get a copy of the Carriage Road User's Map to identify the routes where horses are permitted.\"),\n",
              " Document(page_content='Scenic Drives:\\nThe scenic 27-mile scenic loop begins at Hulls Cove Visitor Center and offers access to Sand Beach, Thunder Hole, Otter Cliffs, Jordan Pond, and Cadillac Mountain.\\n\\nSwimming:\\nTwo park beaches are staffed with lifeguards during the summer. They are Sand Beach with ocean swimming in 55 F-degree water and Echo Lake Beach, with somewhat warmer water.'),\n",
              " Document(page_content='Tidepooling:\\nBar Island Sand Bar is great for young children. Accessible off Bridge Street for about 1.5 hours on either side of low tide. Also try Ship Harbor and Wonderland west side of Mount Desert Island.')]"
            ]
          },
          "metadata": {},
          "execution_count": 43
        }
      ]
    },
    {
      "cell_type": "markdown",
      "source": [
        "Summary:\n",
        "* We can see the chunks are more meaningful and coherent."
      ],
      "metadata": {
        "id": "gycn4fvog7wE"
      }
    },
    {
      "cell_type": "code",
      "source": [
        "enc = tiktoken.encoding_for_model('gpt-3.5-turbo')\n",
        "\n",
        "for d in docs:\n",
        "  print('Words:', len(d.page_content.split(' ')),\n",
        "        'Tokens:', len(enc.encode(d.page_content)),\n",
        "        'Chunk:', d.page_content)"
      ],
      "metadata": {
        "colab": {
          "base_uri": "https://localhost:8080/"
        },
        "id": "47Cehjkvg0kg",
        "outputId": "b05e0626-ba72-4475-a8c1-624f78a6087b"
      },
      "execution_count": 44,
      "outputs": [
        {
          "output_type": "stream",
          "name": "stdout",
          "text": [
            "Words: 86 Tokens: 99 Chunk: Bar Harbor is the largest town on Mount Desert Island. Many visitors use Bar Harbor as a based while exploring Acadia National Park and nearby islands. Bar Harbor has plenty to do if you want to enjoy a day in town. There is dining (with an emphasis on lobster and blueberries, of course). And shopping at many interesting boutiques offering the work of Maine artists. You can jump aboard a whale-watching vessel or join a nature cruise or a sea kayak trip. The town has an\n",
            "Words: 46 Tokens: 57 Chunk: the work of Maine artists. You can jump aboard a whale-watching vessel or join a nature cruise or a sea kayak trip. The town has an oceanarium, a zoo and a popular lumberjack show during the warm seasons. Craft beers? We won’t hide them from you.\n",
            "Words: 77 Tokens: 97 Chunk: The park has two museums. Islesford Historical Museum is on Little Cranberry Island, open mid-June to August 31. Sieur de Monts Spring and Nature Center are located two miles south of Bar Harbor near the juncture of Park Loop Road and Route 3. The nature center is open May to October. Adjacent to the nature center are the Wild Gardens of Acadia, which display 300 native species of the area nine labeled areas. The gardens are open\n",
            "Words: 65 Tokens: 79 Chunk: to the nature center are the Wild Gardens of Acadia, which display 300 native species of the area nine labeled areas. The gardens are open year-round. Also at this location is the Abbe Museum, which preserves the culture of local Native American tribes (This museum is open during the warm seasons; another branch of the Abbe Museum, in downtown Bar Harbor, is open all year).\n",
            "Words: 43 Tokens: 55 Chunk: There are so many things to do in this beautiful part of the world. Here’s a quick overview.\n",
            "\n",
            "Visit a Lighthouse:\n",
            "Bass Harbor Head Light is the only lighthouse on Mount Desert Island. The lighthouse has short trails on either side that provide spectacular views.\n",
            "Words: 32 Tokens: 44 Chunk: Bicycling:\n",
            "Carriage Roads that wind through the park have crushed rock surfaces that are ideal perfect for bicycling. Cyclists share these roads with horses and pedestrians. Bicycling is not permitted on hiking trails.\n",
            "Words: 53 Tokens: 84 Chunk: Editor’s Choice – Acadia National Park in Maine - Things To Do\n",
            "Birdwatching:\n",
            "Popular areas for this activity are Sieur de Monts Springs, Bear Brook and Beaver Dam Pond, Precipice, Otter Point, Seawall Picnic Area, Wonderland and Ship Harbor, Schoodic Peninsula, and Cadillac Mountain.\n",
            "\n",
            "Boating:\n",
            "A number of lakes and ponds on Mount Desert Island permit boating.\n",
            "Words: 61 Tokens: 81 Chunk: Boating:\n",
            "A number of lakes and ponds on Mount Desert Island permit boating.\n",
            "\n",
            "Climbing:\n",
            "At Otter Cliffs, the park maintains fixed anchors on top that must be used instead of trees to belay several climbs. Climbers at Great Head and Otter Cliff should know tides and weather forecasts; climbing at these areas is more difficult and dangerous at high tide or in heavy seas.\n",
            "Words: 60 Tokens: 91 Chunk: EarthCache Program:\n",
            "Use your GPS and provided clues to search for and find multiple EarthCaches. The Story of Glaciers will get you started.\n",
            "\n",
            "Fishing:\n",
            "Acadia National Park offers freshwater and saltwater fishing. Lakes and ponds may have trout, landlocked salmon, smallmouth and largemouth bass. Ocean species include mackerel, bluefish, and striped bass. Freshwater fishing requires a state fishing license; ocean fishing does not.\n",
            "Words: 41 Tokens: 57 Chunk: Hiking:\n",
            "Maps provided by the park describes several historic hiking trails.\n",
            "\n",
            "Horseback Riding:\n",
            "Most of the park’s 45 miles of carriage roads are available for horseback travel. Get a copy of the Carriage Road User's Map to identify the routes where horses are permitted.\n",
            "Words: 55 Tokens: 81 Chunk: Scenic Drives:\n",
            "The scenic 27-mile scenic loop begins at Hulls Cove Visitor Center and offers access to Sand Beach, Thunder Hole, Otter Cliffs, Jordan Pond, and Cadillac Mountain.\n",
            "\n",
            "Swimming:\n",
            "Two park beaches are staffed with lifeguards during the summer. They are Sand Beach with ocean swimming in 55 F-degree water and Echo Lake Beach, with somewhat warmer water.\n",
            "Words: 35 Tokens: 47 Chunk: Tidepooling:\n",
            "Bar Island Sand Bar is great for young children. Accessible off Bridge Street for about 1.5 hours on either side of low tide. Also try Ship Harbor and Wonderland west side of Mount Desert Island.\n"
          ]
        }
      ]
    },
    {
      "cell_type": "markdown",
      "source": [
        "## spaCy\n",
        "* We can also make use of the spaCy NLP library tokenizer in LangChain."
      ],
      "metadata": {
        "id": "E8BlBbpKhTgh"
      }
    },
    {
      "cell_type": "code",
      "source": [
        "from langchain_text_splitters import SpacyTextSplitter\n",
        "\n",
        "# text splitter\n",
        "text_splitter = SpacyTextSplitter(chunk_size=500,\n",
        "                                  chunk_overlap=50)\n",
        "\n",
        "\n",
        "# doc creation\n",
        "docs = text_splitter.create_documents([doc])"
      ],
      "metadata": {
        "colab": {
          "base_uri": "https://localhost:8080/"
        },
        "id": "mepg2Mn3hNpp",
        "outputId": "27328c34-8459-4545-cb6e-86ec7ee9dc0b"
      },
      "execution_count": 45,
      "outputs": [
        {
          "output_type": "stream",
          "name": "stderr",
          "text": [
            "/usr/local/lib/python3.10/dist-packages/spacy/pipeline/lemmatizer.py:211: UserWarning: [W108] The rule-based lemmatizer did not find POS annotation for one or more tokens. Check that your pipeline includes components that assign token.pos, typically 'tagger'+'attribute_ruler' or 'morphologizer'.\n",
            "  warnings.warn(Warnings.W108)\n"
          ]
        }
      ]
    },
    {
      "cell_type": "code",
      "source": [
        "len(docs)"
      ],
      "metadata": {
        "colab": {
          "base_uri": "https://localhost:8080/"
        },
        "id": "dJYXbJ8ohlym",
        "outputId": "1626e693-e2db-481b-cfb2-c71c90db0a7c"
      },
      "execution_count": 46,
      "outputs": [
        {
          "output_type": "execute_result",
          "data": {
            "text/plain": [
              "9"
            ]
          },
          "metadata": {},
          "execution_count": 46
        }
      ]
    },
    {
      "cell_type": "code",
      "source": [
        "docs"
      ],
      "metadata": {
        "colab": {
          "base_uri": "https://localhost:8080/"
        },
        "id": "Y-DiKqfhhnA2",
        "outputId": "a2412b78-6919-4371-84ac-70aa3ac1aa43"
      },
      "execution_count": 47,
      "outputs": [
        {
          "output_type": "execute_result",
          "data": {
            "text/plain": [
              "[Document(page_content='Bar Harbor is the largest town on Mount Desert Island.\\n\\nMany visitors use Bar Harbor as a based while exploring Acadia National Park and nearby islands.\\n\\nBar Harbor has plenty to do if you want to enjoy a day in town.\\n\\nThere is dining (with an emphasis on lobster and blueberries, of course).\\n\\nAnd shopping at many interesting boutiques offering the work of Maine artists.\\n\\nYou can jump aboard a whale-watching vessel or join a nature cruise or a sea kayak trip.'),\n",
              " Document(page_content='The town has an oceanarium, a zoo and a popular lumberjack show during the warm seasons.\\n\\nCraft beers?\\n\\nWe won’t hide them from you.\\n\\n\\n\\nThe park has two museums.\\n\\nIslesford Historical Museum is on Little Cranberry Island, open mid-June to August 31.\\n\\nSieur de Monts Spring and Nature Center are located two miles south of Bar Harbor near the juncture of Park Loop Road and Route 3.\\n\\nThe nature center is open May to October.'),\n",
              " Document(page_content='The nature center is open May to October.\\n\\nAdjacent to the nature center are the Wild Gardens of Acadia, which display 300 native species of the area nine labeled areas.\\n\\nThe gardens are open year-round.\\n\\nAlso at this location is the Abbe Museum, which preserves the culture of local Native American tribes (This museum is open during the warm seasons; another branch of the Abbe Museum, in downtown Bar Harbor, is open all year).'),\n",
              " Document(page_content='There are so many things to do in this beautiful part of the world.\\n\\nHere’s a quick overview.\\n\\n\\n\\nVisit a Lighthouse:\\nBass Harbor Head Light is the only lighthouse on Mount Desert Island.\\n\\nThe lighthouse has short trails on either side that provide spectacular views.\\n\\n\\n\\nBicycling:\\nCarriage Roads that wind through the park have crushed rock surfaces that are ideal perfect for bicycling.\\n\\nCyclists share these roads with horses and pedestrians.\\n\\nBicycling is not permitted on hiking trails.'),\n",
              " Document(page_content='Bicycling is not permitted on hiking trails.\\n\\n\\n\\nEditor’s Choice – Acadia National Park in Maine - Things To Do\\nBirdwatching:\\nPopular areas for this activity are Sieur de Monts Springs, Bear Brook and Beaver Dam Pond, Precipice, Otter Point, Seawall Picnic Area, Wonderland and Ship Harbor, Schoodic Peninsula, and Cadillac Mountain.\\n\\n\\n\\nBoating:\\nA number of lakes and ponds on Mount Desert Island permit boating.\\n\\n\\n\\nClimbing:'),\n",
              " Document(page_content='Climbing:\\n\\n\\nAt Otter Cliffs, the park maintains fixed anchors on top that must be used instead of trees to belay several climbs.\\n\\nClimbers at Great Head and Otter Cliff should know tides and weather forecasts; climbing at these areas is more difficult and dangerous at high tide or in heavy seas.\\n\\n\\n\\nEarthCache Program:\\nUse your GPS and provided clues to search for and find multiple EarthCaches.\\n\\nThe Story of Glaciers will get you started.'),\n",
              " Document(page_content='The Story of Glaciers will get you started.\\n\\n\\n\\nFishing:\\nAcadia National Park offers freshwater and saltwater fishing.\\n\\nLakes and ponds may have trout, landlocked salmon, smallmouth and largemouth bass.\\n\\nOcean species include mackerel, bluefish, and striped bass.\\n\\nFreshwater fishing requires a state fishing license; ocean fishing does not.\\n\\n\\n\\nHiking:\\nMaps provided by the park describes several historic hiking trails.'),\n",
              " Document(page_content=\"Horseback Riding:\\nMost of the park’s 45 miles of carriage roads are available for horseback travel.\\n\\nGet a copy of the Carriage Road User's Map to identify the routes where horses are permitted.\\n\\n\\n\\nScenic Drives:\\nThe scenic 27-mile scenic loop begins at Hulls Cove Visitor Center and offers access to Sand Beach, Thunder Hole, Otter Cliffs, Jordan Pond, and Cadillac Mountain.\\n\\n\\n\\nSwimming:\\nTwo park beaches are staffed with lifeguards during the summer.\"),\n",
              " Document(page_content='They are Sand Beach with ocean swimming in 55 F-degree water and Echo Lake Beach, with somewhat warmer water.\\n\\n\\n\\nTidepooling:\\nBar Island Sand Bar is great for young children.\\n\\nAccessible off Bridge Street for about 1.5 hours on either side of low tide.\\n\\nAlso try Ship Harbor and Wonderland west side of Mount Desert Island.')]"
            ]
          },
          "metadata": {},
          "execution_count": 47
        }
      ]
    },
    {
      "cell_type": "code",
      "source": [
        "for d in docs:\n",
        "  print('Words:', len(d.page_content.split(' ')),\n",
        "        'Tokens:', len(enc.encode(d.page_content)),\n",
        "        'Chunk:', d.page_content)"
      ],
      "metadata": {
        "colab": {
          "base_uri": "https://localhost:8080/"
        },
        "id": "Mjn3FuukhnnG",
        "outputId": "f0470f36-7138-49d5-f072-231225c1b18c"
      },
      "execution_count": 48,
      "outputs": [
        {
          "output_type": "stream",
          "name": "stdout",
          "text": [
            "Words: 77 Tokens: 95 Chunk: Bar Harbor is the largest town on Mount Desert Island.\n",
            "\n",
            "Many visitors use Bar Harbor as a based while exploring Acadia National Park and nearby islands.\n",
            "\n",
            "Bar Harbor has plenty to do if you want to enjoy a day in town.\n",
            "\n",
            "There is dining (with an emphasis on lobster and blueberries, of course).\n",
            "\n",
            "And shopping at many interesting boutiques offering the work of Maine artists.\n",
            "\n",
            "You can jump aboard a whale-watching vessel or join a nature cruise or a sea kayak trip.\n",
            "Words: 69 Tokens: 98 Chunk: The town has an oceanarium, a zoo and a popular lumberjack show during the warm seasons.\n",
            "\n",
            "Craft beers?\n",
            "\n",
            "We won’t hide them from you.\n",
            "\n",
            "\n",
            "\n",
            "The park has two museums.\n",
            "\n",
            "Islesford Historical Museum is on Little Cranberry Island, open mid-June to August 31.\n",
            "\n",
            "Sieur de Monts Spring and Nature Center are located two miles south of Bar Harbor near the juncture of Park Loop Road and Route 3.\n",
            "\n",
            "The nature center is open May to October.\n",
            "Words: 71 Tokens: 89 Chunk: The nature center is open May to October.\n",
            "\n",
            "Adjacent to the nature center are the Wild Gardens of Acadia, which display 300 native species of the area nine labeled areas.\n",
            "\n",
            "The gardens are open year-round.\n",
            "\n",
            "Also at this location is the Abbe Museum, which preserves the culture of local Native American tribes (This museum is open during the warm seasons; another branch of the Abbe Museum, in downtown Bar Harbor, is open all year).\n",
            "Words: 70 Tokens: 100 Chunk: There are so many things to do in this beautiful part of the world.\n",
            "\n",
            "Here’s a quick overview.\n",
            "\n",
            "\n",
            "\n",
            "Visit a Lighthouse:\n",
            "Bass Harbor Head Light is the only lighthouse on Mount Desert Island.\n",
            "\n",
            "The lighthouse has short trails on either side that provide spectacular views.\n",
            "\n",
            "\n",
            "\n",
            "Bicycling:\n",
            "Carriage Roads that wind through the park have crushed rock surfaces that are ideal perfect for bicycling.\n",
            "\n",
            "Cyclists share these roads with horses and pedestrians.\n",
            "\n",
            "Bicycling is not permitted on hiking trails.\n",
            "Words: 59 Tokens: 98 Chunk: Bicycling is not permitted on hiking trails.\n",
            "\n",
            "\n",
            "\n",
            "Editor’s Choice – Acadia National Park in Maine - Things To Do\n",
            "Birdwatching:\n",
            "Popular areas for this activity are Sieur de Monts Springs, Bear Brook and Beaver Dam Pond, Precipice, Otter Point, Seawall Picnic Area, Wonderland and Ship Harbor, Schoodic Peninsula, and Cadillac Mountain.\n",
            "\n",
            "\n",
            "\n",
            "Boating:\n",
            "A number of lakes and ponds on Mount Desert Island permit boating.\n",
            "\n",
            "\n",
            "\n",
            "Climbing:\n",
            "Words: 69 Tokens: 96 Chunk: Climbing:\n",
            "\n",
            "\n",
            "At Otter Cliffs, the park maintains fixed anchors on top that must be used instead of trees to belay several climbs.\n",
            "\n",
            "Climbers at Great Head and Otter Cliff should know tides and weather forecasts; climbing at these areas is more difficult and dangerous at high tide or in heavy seas.\n",
            "\n",
            "\n",
            "\n",
            "EarthCache Program:\n",
            "Use your GPS and provided clues to search for and find multiple EarthCaches.\n",
            "\n",
            "The Story of Glaciers will get you started.\n",
            "Words: 52 Tokens: 86 Chunk: The Story of Glaciers will get you started.\n",
            "\n",
            "\n",
            "\n",
            "Fishing:\n",
            "Acadia National Park offers freshwater and saltwater fishing.\n",
            "\n",
            "Lakes and ponds may have trout, landlocked salmon, smallmouth and largemouth bass.\n",
            "\n",
            "Ocean species include mackerel, bluefish, and striped bass.\n",
            "\n",
            "Freshwater fishing requires a state fishing license; ocean fishing does not.\n",
            "\n",
            "\n",
            "\n",
            "Hiking:\n",
            "Maps provided by the park describes several historic hiking trails.\n",
            "Words: 66 Tokens: 101 Chunk: Horseback Riding:\n",
            "Most of the park’s 45 miles of carriage roads are available for horseback travel.\n",
            "\n",
            "Get a copy of the Carriage Road User's Map to identify the routes where horses are permitted.\n",
            "\n",
            "\n",
            "\n",
            "Scenic Drives:\n",
            "The scenic 27-mile scenic loop begins at Hulls Cove Visitor Center and offers access to Sand Beach, Thunder Hole, Otter Cliffs, Jordan Pond, and Cadillac Mountain.\n",
            "\n",
            "\n",
            "\n",
            "Swimming:\n",
            "Two park beaches are staffed with lifeguards during the summer.\n",
            "Words: 51 Tokens: 69 Chunk: They are Sand Beach with ocean swimming in 55 F-degree water and Echo Lake Beach, with somewhat warmer water.\n",
            "\n",
            "\n",
            "\n",
            "Tidepooling:\n",
            "Bar Island Sand Bar is great for young children.\n",
            "\n",
            "Accessible off Bridge Street for about 1.5 hours on either side of low tide.\n",
            "\n",
            "Also try Ship Harbor and Wonderland west side of Mount Desert Island.\n"
          ]
        }
      ]
    },
    {
      "cell_type": "markdown",
      "source": [
        "Summary:\n",
        "* The spaCy splitter is also \"coherent\" but it is not the same as the RecursiveCharacterTextSplitter."
      ],
      "metadata": {
        "id": "imdFjl5lh3H4"
      }
    },
    {
      "cell_type": "markdown",
      "source": [
        "## SentenceTransformers\n",
        "* The Sentence Transformers library has its own text splitter that is used with `sentence-transformer` language models.\n",
        "* docs: https://api.python.langchain.com/en/latest/sentence_transformers/langchain_text_splitters.sentence_transformers.SentenceTransformersTokenTextSplitter.html\n",
        "* Default behavior is to split text into chunks that fit token window of the sentence transformer model you are using from huggingface."
      ],
      "metadata": {
        "id": "zYUZ88LOh-0S"
      }
    },
    {
      "cell_type": "code",
      "source": [
        "from langchain_text_splitters import SentenceTransformersTokenTextSplitter\n",
        "\n",
        "\n",
        "# splitter\n",
        "splitter = SentenceTransformersTokenTextSplitter(model_name='sentence-transformers/all-mpnet-base-v2',\n",
        "                                                 tokens_per_chunk=100,\n",
        "                                                 chunk_overlap=30)"
      ],
      "metadata": {
        "colab": {
          "base_uri": "https://localhost:8080/",
          "height": 424,
          "referenced_widgets": [
            "02dfb86171e84aa784b046bff2847537",
            "eedc2caaef8e4eea953adc97a072609f",
            "8ddf644eeeed4f24a717a151a426dae0",
            "1bc60a7f0e1841c8b98e3c5e325977f5",
            "04b3a201dad5440b92eb0293a4cc042f",
            "d57ae588cb764dc1b385db6e02325bf4",
            "26e8b4cbf2584bd6bd4e42d7e08010ee",
            "f8ed6cee76db46a08342903d39987700",
            "56e4657f565b4c388ebfd0f51a50fff9",
            "8e0cfa04f2a84c9b8c34657743f4b891",
            "02dfea1f3bd144a29f344896de41f1ff",
            "03fb2ef835224d7786676328b8839f06",
            "d5d434f8d0bf44a681877ea37b42e3ef",
            "7abc5fc51115426d8efcb1edee7236ad",
            "e3f2070fc1e14072a521f07780870889",
            "971201751b584557907972bfb7c494a6",
            "58064013aa5a48ec86a1e604c69f9ab4",
            "03ea8d48b27643e3bbef8909d834e2cd",
            "fc6bfe8d37ab4c7eafb8b8f7788d21e9",
            "df0878acb3664749863b27834b2d9185",
            "3b11082dc8aa46ceba68f2701a60d964",
            "5e9a65751cc84cc8adf7233f23153726",
            "b44f76c7e5c64aa198914277fcd0c8d3",
            "dac21f5b3b504599b61406f2b64f763d",
            "a727ecd661dc4e49b3543cf23c91b27c",
            "9640a69b3cf24ad7b8e6ed5fb7b14b39",
            "07b375ad78b24561915ebe3dd13649ee",
            "8c5630cc67c2416381e281e5c3011797",
            "3823e64261c34ba7a5e37c166bb81347",
            "0e13ab7495424fa5bf8ebf49a5a57018",
            "45494e9801ea469aaa0dea835cca28ae",
            "d35425112fcc4da4a26384aa8ea6c8b6",
            "f95936bfc0b341728a35b887090c842b",
            "c98cba0c5e9b430fa610931c055ada65",
            "75c92c6ba3864f169c0fef26449a9ba2",
            "6e5763acd01041b8853610687a210be6",
            "0f2a512214a34c819dcc1dc376e56942",
            "56139f669d3a4aa1a41c8250eff1e5f2",
            "13fb09cbc25c467e93265786985f1e85",
            "9d07e0f08fa1449cbcc5e45b8c8f496c",
            "bee21cceefcd4649b9ce54b1a787d37b",
            "5db0058043d4449fa03376658f6f4f57",
            "ad3567bffd3944a5b1d78bb544829d28",
            "aa1e74b7093f419a9e2473293233c564",
            "cfa32b9a6d494ce68e124e0586ff48c5",
            "4fce5c8acd6c4fa8a07eb98394bd1263",
            "cf920b7bdc244e9ca566bab01df6d328",
            "2212c5a328c84eb48a2d4d57985869e6",
            "e108f6a18fb14667812cf56fe56f8c7e",
            "ae9d7cc4caac4e0fadaf679d3aec31f7",
            "78871a638a964822836b047550ef5f34",
            "aef02f70aa1f4bf6a1ddca732ae0b494",
            "44556f4617aa4c78a39bea99d12b2968",
            "c5cdd8c1dfec40e096c8fa88b0efcccf",
            "18d810ee293e4d409973e5b3edd97f29",
            "c9a21b69d7c1495a929fe1f9fb9e0a46",
            "2f650218ff9e411ba0a7d82103ee642f",
            "b819affa68eb40d1b765bfcd8c05e01c",
            "8ccc2386197e4e339f50e5a77e8a3d04",
            "a7148278c6944da8ba94ecaecee9f5dd",
            "a59f34f083dc47c9b3c60d3d24ab683e",
            "1d241cd9a35b4d23a3ce81d03200ceb2",
            "346b76fee8a941f0b86c7fd758975443",
            "dd3e3961f37e4955b6849f812c22b6a2",
            "e2cc85c3af144714b940bb9a3a9f42aa",
            "f9ba5c57c00e4640b6c33639fee9ecbc",
            "3ef6c066cc1f4512b9aaa32c1c7a39f0",
            "adddcad711bd4e608c96679e8bfdfcac",
            "b89543ccb0b645b9b258ee186a3a10e2",
            "966d270c3c9245a4b542ae1cacd3687e",
            "fccdaf21c4144703ba7754422a9c92eb",
            "80fdd68978174a258536ec3ad1735eb5",
            "2c9680c91f8e4f1f9a168902d64c1842",
            "8ac2501c91d64c9083f85f14ec00e6d2",
            "1dda402d616c443ea59fe457a8c3a52d",
            "54440f7a5ec242f880f3f6d08d1beaa7",
            "1f01e29b07804764af2992f0bb146088",
            "c1d94aceb14f4848a065bd8ab55b61f9",
            "a67e4493e1d74efa8f5988ee381aa474",
            "3beb05dc3198446881b7921f3825c187",
            "ded2e40ba27746fea0ef67d32ccb06e9",
            "cf9f5d7ff4f84600a0ee2626ac2bdb79",
            "ca3d4edd58c8495c8d34b208d5ab2028",
            "0de4e8f821894961adc6974c31905e63",
            "9eec266331724f2d8d08a12597f4ebd4",
            "7237e60b9c604aeead25b3c85ca0b44c",
            "016b43a28c2544b7b5b0a9e38e34c418",
            "4de0bcf2f86d48bc8a9b166ed2749284",
            "6413b073abcf4bdeba306d734f35711a",
            "98cd8c6d77754c94afa77c82dd93e27f",
            "0d010b1fa0b141fe80b52174bc5602fa",
            "89421337bc114981a708e25afe251987",
            "4bd9f293934c42c5abce66b81c5b54c9",
            "1e75dba906b043fb905dbc86f96bb30b",
            "5d1d63b621774c618b6c8d20b503f02f",
            "84a8e8ebf7e8497fb70cbdf21960e99a",
            "4d7177d762e342de8f2719b0c323941c",
            "16064189e2ff429e869159123ec1af71",
            "33500301df4b47a28e4b5bd8afcca80c",
            "c6476ea6759d48b8b65f582373f0414d",
            "9b776cfe4aff4d959c1dfcc62f51d88c",
            "c2309f1715724b3fa7dbd498e710495f",
            "9f63d7f2c7944cdeb370ab71db36ccaf",
            "c452f3ad98674eada00ffe22f45014b6",
            "80f3813f45e243f39d4f3c8b9222644f",
            "f521f89e7f7e4e09862f47faaa3b4649",
            "63a8ce6306ca43a0b446fcf9705d2b72",
            "5946b6a44704451fbba40263989f0605",
            "dc9536238a2242d0aa1556017923a1be",
            "270ff68ee8fc42ea9bf0cf7f3cc51778",
            "5e471d884f7c4b86b2ae47c1b8b06e19",
            "263ce1bb6bb448f3b8f433483800eb7a",
            "b70b4c517b0a4297ac61733a80d42075",
            "afc9386070ba4fd281430c7608c58bea",
            "90979ec7a2d44b718a41e5a720ba676b",
            "895b2ada8cc142ddb2ab6e4c77e82199",
            "4b1b42eea3e74650b9695fdd0da51426",
            "d9828ed22fc74c22b77ce78e5371a950",
            "d281d7892ef74ca4afe155ecb06c4c10",
            "49d67a48bb7d49a7a0961b5d92f6b1d0",
            "8f7ab2b2686e4c948d7b27c0e9eaba41"
          ]
        },
        "id": "2jiNLSVfhs7j",
        "outputId": "10bcc222-4cbe-43bd-9100-21a1bb7f6303"
      },
      "execution_count": 49,
      "outputs": [
        {
          "output_type": "display_data",
          "data": {
            "text/plain": [
              "modules.json:   0%|          | 0.00/349 [00:00<?, ?B/s]"
            ],
            "application/vnd.jupyter.widget-view+json": {
              "version_major": 2,
              "version_minor": 0,
              "model_id": "02dfb86171e84aa784b046bff2847537"
            }
          },
          "metadata": {}
        },
        {
          "output_type": "display_data",
          "data": {
            "text/plain": [
              "config_sentence_transformers.json:   0%|          | 0.00/116 [00:00<?, ?B/s]"
            ],
            "application/vnd.jupyter.widget-view+json": {
              "version_major": 2,
              "version_minor": 0,
              "model_id": "03fb2ef835224d7786676328b8839f06"
            }
          },
          "metadata": {}
        },
        {
          "output_type": "display_data",
          "data": {
            "text/plain": [
              "README.md:   0%|          | 0.00/10.6k [00:00<?, ?B/s]"
            ],
            "application/vnd.jupyter.widget-view+json": {
              "version_major": 2,
              "version_minor": 0,
              "model_id": "b44f76c7e5c64aa198914277fcd0c8d3"
            }
          },
          "metadata": {}
        },
        {
          "output_type": "display_data",
          "data": {
            "text/plain": [
              "sentence_bert_config.json:   0%|          | 0.00/53.0 [00:00<?, ?B/s]"
            ],
            "application/vnd.jupyter.widget-view+json": {
              "version_major": 2,
              "version_minor": 0,
              "model_id": "c98cba0c5e9b430fa610931c055ada65"
            }
          },
          "metadata": {}
        },
        {
          "output_type": "stream",
          "name": "stderr",
          "text": [
            "/usr/local/lib/python3.10/dist-packages/huggingface_hub/file_download.py:1132: FutureWarning: `resume_download` is deprecated and will be removed in version 1.0.0. Downloads always resume when possible. If you want to force a new download, use `force_download=True`.\n",
            "  warnings.warn(\n"
          ]
        },
        {
          "output_type": "display_data",
          "data": {
            "text/plain": [
              "config.json:   0%|          | 0.00/571 [00:00<?, ?B/s]"
            ],
            "application/vnd.jupyter.widget-view+json": {
              "version_major": 2,
              "version_minor": 0,
              "model_id": "cfa32b9a6d494ce68e124e0586ff48c5"
            }
          },
          "metadata": {}
        },
        {
          "output_type": "display_data",
          "data": {
            "text/plain": [
              "model.safetensors:   0%|          | 0.00/438M [00:00<?, ?B/s]"
            ],
            "application/vnd.jupyter.widget-view+json": {
              "version_major": 2,
              "version_minor": 0,
              "model_id": "c9a21b69d7c1495a929fe1f9fb9e0a46"
            }
          },
          "metadata": {}
        },
        {
          "output_type": "display_data",
          "data": {
            "text/plain": [
              "tokenizer_config.json:   0%|          | 0.00/363 [00:00<?, ?B/s]"
            ],
            "application/vnd.jupyter.widget-view+json": {
              "version_major": 2,
              "version_minor": 0,
              "model_id": "3ef6c066cc1f4512b9aaa32c1c7a39f0"
            }
          },
          "metadata": {}
        },
        {
          "output_type": "display_data",
          "data": {
            "text/plain": [
              "vocab.txt:   0%|          | 0.00/232k [00:00<?, ?B/s]"
            ],
            "application/vnd.jupyter.widget-view+json": {
              "version_major": 2,
              "version_minor": 0,
              "model_id": "c1d94aceb14f4848a065bd8ab55b61f9"
            }
          },
          "metadata": {}
        },
        {
          "output_type": "display_data",
          "data": {
            "text/plain": [
              "tokenizer.json:   0%|          | 0.00/466k [00:00<?, ?B/s]"
            ],
            "application/vnd.jupyter.widget-view+json": {
              "version_major": 2,
              "version_minor": 0,
              "model_id": "6413b073abcf4bdeba306d734f35711a"
            }
          },
          "metadata": {}
        },
        {
          "output_type": "display_data",
          "data": {
            "text/plain": [
              "special_tokens_map.json:   0%|          | 0.00/239 [00:00<?, ?B/s]"
            ],
            "application/vnd.jupyter.widget-view+json": {
              "version_major": 2,
              "version_minor": 0,
              "model_id": "c6476ea6759d48b8b65f582373f0414d"
            }
          },
          "metadata": {}
        },
        {
          "output_type": "display_data",
          "data": {
            "text/plain": [
              "1_Pooling/config.json:   0%|          | 0.00/190 [00:00<?, ?B/s]"
            ],
            "application/vnd.jupyter.widget-view+json": {
              "version_major": 2,
              "version_minor": 0,
              "model_id": "5e471d884f7c4b86b2ae47c1b8b06e19"
            }
          },
          "metadata": {}
        }
      ]
    },
    {
      "cell_type": "code",
      "source": [
        "docs = splitter.create_documents([doc])"
      ],
      "metadata": {
        "id": "yEqWGasNiene"
      },
      "execution_count": 50,
      "outputs": []
    },
    {
      "cell_type": "code",
      "source": [
        "len(docs)"
      ],
      "metadata": {
        "colab": {
          "base_uri": "https://localhost:8080/"
        },
        "id": "3ZHDXJONii3M",
        "outputId": "a5ea455b-a966-458f-8435-1093a7efaf94"
      },
      "execution_count": 51,
      "outputs": [
        {
          "output_type": "execute_result",
          "data": {
            "text/plain": [
              "11"
            ]
          },
          "metadata": {},
          "execution_count": 51
        }
      ]
    },
    {
      "cell_type": "code",
      "source": [
        "docs"
      ],
      "metadata": {
        "colab": {
          "base_uri": "https://localhost:8080/"
        },
        "id": "CbYngqYxiko1",
        "outputId": "302401dd-4179-464a-ec69-df542781c951"
      },
      "execution_count": 52,
      "outputs": [
        {
          "output_type": "execute_result",
          "data": {
            "text/plain": [
              "[Document(page_content='bar harbor is the largest town on mount desert island. many visitors use bar harbor as a based while exploring acadia national park and nearby islands. bar harbor has plenty to do if you want to enjoy a day in town. there is dining ( with an emphasis on lobster and blueberries, of course ). and shopping at many interesting boutiques offering the work of maine artists. you can jump aboard a whale - watching vessel or join a nature cruise or a sea kayak trip. the town has'),\n",
              " Document(page_content='the work of maine artists. you can jump aboard a whale - watching vessel or join a nature cruise or a sea kayak trip. the town has an oceanarium, a zoo and a popular lumberjack show during the warm seasons. craft beers? we won ’ t hide them from you. the park has two museums. islesford historical museum is on little cranberry island, open mid - june to august 31. sieur de monts spring and nature center are located two miles south of'),\n",
              " Document(page_content='on little cranberry island, open mid - june to august 31. sieur de monts spring and nature center are located two miles south of bar harbor near the juncture of park loop road and route 3. the nature center is open may to october. adjacent to the nature center are the wild gardens of acadia, which display 300 native species of the area nine labeled areas. the gardens are open year - round. also at this location is the abbe museum, which preserves the culture'),\n",
              " Document(page_content='species of the area nine labeled areas. the gardens are open year - round. also at this location is the abbe museum, which preserves the culture of local native american tribes ( this museum is open during the warm seasons ; another branch of the abbe museum, in downtown bar harbor, is open all year ). there are so many things to do in this beautiful part of the world. here ’ s a quick overview. visit a lighthouse : bass harbor head light is the only lighthouse on mount'),\n",
              " Document(page_content='do in this beautiful part of the world. here ’ s a quick overview. visit a lighthouse : bass harbor head light is the only lighthouse on mount desert island. the lighthouse has short trails on either side that provide spectacular views. bicycling : carriage roads that wind through the park have crushed rock surfaces that are ideal perfect for bicycling. cyclists share these roads with horses and pedestrians. bicycling is not permitted on hiking trails. editor ’ s choice – acadia national'),\n",
              " Document(page_content='##ing. cyclists share these roads with horses and pedestrians. bicycling is not permitted on hiking trails. editor ’ s choice – acadia national park in maine - things to do birdwatching : popular areas for this activity are sieur de monts springs, bear brook and beaver dam pond, precipice, otter point, seawall picnic area, wonderland and ship harbor, schoodic peninsula, and cadillac mountain. boating : a number of lakes and ponds on mount desert island'),\n",
              " Document(page_content='##wall picnic area, wonderland and ship harbor, schoodic peninsula, and cadillac mountain. boating : a number of lakes and ponds on mount desert island permit boating. climbing : at otter cliffs, the park maintains fixed anchors on top that must be used instead of trees to belay several climbs. climbers at great head and otter cliff should know tides and weather forecasts ; climbing at these areas is more difficult and dangerous at high tide or in heavy seas. earthcache program : use your gps'),\n",
              " Document(page_content='and weather forecasts ; climbing at these areas is more difficult and dangerous at high tide or in heavy seas. earthcache program : use your gps and provided clues to search for and find multiple earthcaches. the story of glaciers will get you started. fishing : acadia national park offers freshwater and saltwater fishing. lakes and ponds may have trout, landlocked salmon, smallmouth and largemouth bass. ocean species include mackerel, bluefish, and striped bass. freshwater fishing'),\n",
              " Document(page_content=\"trout, landlocked salmon, smallmouth and largemouth bass. ocean species include mackerel, bluefish, and striped bass. freshwater fishing requires a state fishing license ; ocean fishing does not. hiking : maps provided by the park describes several historic hiking trails. horseback riding : most of the park ’ s 45 miles of carriage roads are available for horseback travel. get a copy of the carriage road user's map to identify the routes where horses are permitted. scenic drives : the scenic 27\"),\n",
              " Document(page_content=\"for horseback travel. get a copy of the carriage road user's map to identify the routes where horses are permitted. scenic drives : the scenic 27 - mile scenic loop begins at hulls cove visitor center and offers access to sand beach, thunder hole, otter cliffs, jordan pond, and cadillac mountain. swimming : two park beaches are staffed with lifeguards during the summer. they are sand beach with ocean swimming in 55 f - degree water and echo lake beach, with somewhat warmer water. tide\"),\n",
              " Document(page_content='##guards during the summer. they are sand beach with ocean swimming in 55 f - degree water and echo lake beach, with somewhat warmer water. tidepooling : bar island sand bar is great for young children. accessible off bridge street for about 1. 5 hours on either side of low tide. also try ship harbor and wonderland west side of mount desert island.')]"
            ]
          },
          "metadata": {},
          "execution_count": 52
        }
      ]
    },
    {
      "cell_type": "code",
      "source": [
        "for d in docs:\n",
        "  print('Words:', len(d.page_content.split(' ')),\n",
        "        'Characters:', len(d.page_content),\n",
        "        'Chunk:', d.page_content)"
      ],
      "metadata": {
        "colab": {
          "base_uri": "https://localhost:8080/"
        },
        "id": "velh5FviilVi",
        "outputId": "f23f4e9d-28ae-476d-ee6e-5cebca1a84d5"
      },
      "execution_count": 53,
      "outputs": [
        {
          "output_type": "stream",
          "name": "stdout",
          "text": [
            "Words: 89 Characters: 474 Chunk: bar harbor is the largest town on mount desert island. many visitors use bar harbor as a based while exploring acadia national park and nearby islands. bar harbor has plenty to do if you want to enjoy a day in town. there is dining ( with an emphasis on lobster and blueberries, of course ). and shopping at many interesting boutiques offering the work of maine artists. you can jump aboard a whale - watching vessel or join a nature cruise or a sea kayak trip. the town has\n",
            "Words: 83 Characters: 436 Chunk: the work of maine artists. you can jump aboard a whale - watching vessel or join a nature cruise or a sea kayak trip. the town has an oceanarium, a zoo and a popular lumberjack show during the warm seasons. craft beers? we won ’ t hide them from you. the park has two museums. islesford historical museum is on little cranberry island, open mid - june to august 31. sieur de monts spring and nature center are located two miles south of\n",
            "Words: 85 Characters: 462 Chunk: on little cranberry island, open mid - june to august 31. sieur de monts spring and nature center are located two miles south of bar harbor near the juncture of park loop road and route 3. the nature center is open may to october. adjacent to the nature center are the wild gardens of acadia, which display 300 native species of the area nine labeled areas. the gardens are open year - round. also at this location is the abbe museum, which preserves the culture\n",
            "Words: 90 Characters: 474 Chunk: species of the area nine labeled areas. the gardens are open year - round. also at this location is the abbe museum, which preserves the culture of local native american tribes ( this museum is open during the warm seasons ; another branch of the abbe museum, in downtown bar harbor, is open all year ). there are so many things to do in this beautiful part of the world. here ’ s a quick overview. visit a lighthouse : bass harbor head light is the only lighthouse on mount\n",
            "Words: 83 Characters: 492 Chunk: do in this beautiful part of the world. here ’ s a quick overview. visit a lighthouse : bass harbor head light is the only lighthouse on mount desert island. the lighthouse has short trails on either side that provide spectacular views. bicycling : carriage roads that wind through the park have crushed rock surfaces that are ideal perfect for bicycling. cyclists share these roads with horses and pedestrians. bicycling is not permitted on hiking trails. editor ’ s choice – acadia national\n",
            "Words: 75 Characters: 456 Chunk: ##ing. cyclists share these roads with horses and pedestrians. bicycling is not permitted on hiking trails. editor ’ s choice – acadia national park in maine - things to do birdwatching : popular areas for this activity are sieur de monts springs, bear brook and beaver dam pond, precipice, otter point, seawall picnic area, wonderland and ship harbor, schoodic peninsula, and cadillac mountain. boating : a number of lakes and ponds on mount desert island\n",
            "Words: 85 Characters: 497 Chunk: ##wall picnic area, wonderland and ship harbor, schoodic peninsula, and cadillac mountain. boating : a number of lakes and ponds on mount desert island permit boating. climbing : at otter cliffs, the park maintains fixed anchors on top that must be used instead of trees to belay several climbs. climbers at great head and otter cliff should know tides and weather forecasts ; climbing at these areas is more difficult and dangerous at high tide or in heavy seas. earthcache program : use your gps\n",
            "Words: 76 Characters: 486 Chunk: and weather forecasts ; climbing at these areas is more difficult and dangerous at high tide or in heavy seas. earthcache program : use your gps and provided clues to search for and find multiple earthcaches. the story of glaciers will get you started. fishing : acadia national park offers freshwater and saltwater fishing. lakes and ponds may have trout, landlocked salmon, smallmouth and largemouth bass. ocean species include mackerel, bluefish, and striped bass. freshwater fishing\n",
            "Words: 81 Characters: 499 Chunk: trout, landlocked salmon, smallmouth and largemouth bass. ocean species include mackerel, bluefish, and striped bass. freshwater fishing requires a state fishing license ; ocean fishing does not. hiking : maps provided by the park describes several historic hiking trails. horseback riding : most of the park ’ s 45 miles of carriage roads are available for horseback travel. get a copy of the carriage road user's map to identify the routes where horses are permitted. scenic drives : the scenic 27\n",
            "Words: 85 Characters: 489 Chunk: for horseback travel. get a copy of the carriage road user's map to identify the routes where horses are permitted. scenic drives : the scenic 27 - mile scenic loop begins at hulls cove visitor center and offers access to sand beach, thunder hole, otter cliffs, jordan pond, and cadillac mountain. swimming : two park beaches are staffed with lifeguards during the summer. they are sand beach with ocean swimming in 55 f - degree water and echo lake beach, with somewhat warmer water. tide\n",
            "Words: 63 Characters: 350 Chunk: ##guards during the summer. they are sand beach with ocean swimming in 55 f - degree water and echo lake beach, with somewhat warmer water. tidepooling : bar island sand bar is great for young children. accessible off bridge street for about 1. 5 hours on either side of low tide. also try ship harbor and wonderland west side of mount desert island.\n"
          ]
        }
      ]
    },
    {
      "cell_type": "markdown",
      "source": [
        "## Section-based Splitting in Unstructured.io\n",
        "\n",
        "Chunking functions in `unstructured` use metadata and document elements detected with partition functions to split a document into smaller parts for uses cases such as Retrieval Augmented Generation (RAG).\n",
        "\n",
        "`unstructured` uses specific knowledge about each document format to partition the document into semantic units (document elements), we only need to resort to text-splitting when a single element exceeds the desired maximum chunk size. Except in that case, all chunks contain one or more whole elements, preserving the coherence of semantic units established during partitioning.\n",
        "\n",
        "- Chunking is performed on document elements. It is a separate step performed after partitioning, on the elements produced by partitioning. (Although it can be combined with partitioning in a single step.)\n",
        "\n",
        "- Chunking combines consecutive elements to form chunks as large as possible without exceeding the maximum chunk size.\n",
        "\n",
        "- A single element that by itself exceeds the maximum chunk size is divided into two or more chunks using text-splitting.\n",
        "\n",
        "- Chunking produces a sequence of `CompositeElement`, `Table`, or `TableChunk` elements. Each “chunk” is an instance of one of these three types."
      ],
      "metadata": {
        "id": "FI7ejIQ2jT_W"
      }
    },
    {
      "cell_type": "markdown",
      "source": [
        "Chunking Options:\n",
        "\n",
        "The following options are available to tune chunking behaviors. These are keyword arguments that can be used in a partitioning or chunking function call. All these options have defaults and need only be specified when a non-default setting is required. Specific chunking strategies (such as “by-title”) may have additional options.\n",
        "\n",
        "- `max_characters`: (default=500) - the hard maximum size for a chunk. No chunk will exceed this number of characters. A single element that by itself exceeds this size will be divided into two or more chunks using text-splitting.\n",
        "\n",
        "- `new_after_n_chars`: (default=max_characters) - the “soft” maximum size for a chunk. A chunk that already exceeds this number of characters will not be extended, even if the next _element_ would fit without exceeding the specified hard maximum. This can be used in conjunction with `max_characters` to set a “preferred” size, like “I prefer chunks of around 1000 characters, but I’d rather have a chunk of 1500 (max_characters) than resort to text-splitting”. This would be specified with `(..., max_characters=1500, new_after_n_chars=1000)`.\n",
        "\n",
        "- `overlap`: (default=0) - only when using text-splitting to break up an oversized chunk, include this number of characters from the end of the prior chunk as a prefix on the next. This can mitigate the effect of splitting the semantic unit represented by the oversized element at an arbitrary position based on text length.\n",
        "\n",
        "- `combine_text_under_n_chars argument`: This defaults to the same value as `max_characters` such that sequential small section chunks are combined to maximally fill the chunking window to produce a logically larger chunk"
      ],
      "metadata": {
        "id": "rqZ7m8zCjaS_"
      }
    },
    {
      "cell_type": "markdown",
      "source": [
        "There are currently two chunking strategies, `basic` and `by_title`.\n",
        "\n",
        "The `basic` strategy combines sequential elements to maximally fill each chunk while respecting both the specified max_characters (hard-max) and new_after_n_chars (soft-max) option values.\n",
        "\n",
        "The `by_title` chunking strategy preserves section boundaries and optionally page boundaries as well. “Preserving” here means that a single chunk will never contain text that occurred in two different sections."
      ],
      "metadata": {
        "id": "dsPmuPa3jd92"
      }
    },
    {
      "cell_type": "code",
      "source": [
        "!wget -O 'layoutparser_paper.pdf' 'http://arxiv.org/pdf/2103.15348.pdf'"
      ],
      "metadata": {
        "colab": {
          "base_uri": "https://localhost:8080/"
        },
        "id": "8prfDuiwjKPb",
        "outputId": "64ddc47c-1ec6-4038-97d4-d10bb2211634"
      },
      "execution_count": 54,
      "outputs": [
        {
          "output_type": "stream",
          "name": "stdout",
          "text": [
            "--2024-07-03 21:44:12--  http://arxiv.org/pdf/2103.15348.pdf\n",
            "Resolving arxiv.org (arxiv.org)... 151.101.3.42, 151.101.195.42, 151.101.131.42, ...\n",
            "Connecting to arxiv.org (arxiv.org)|151.101.3.42|:80... connected.\n",
            "HTTP request sent, awaiting response... 301 Moved Permanently\n",
            "Location: http://arxiv.org/pdf/2103.15348 [following]\n",
            "--2024-07-03 21:44:12--  http://arxiv.org/pdf/2103.15348\n",
            "Reusing existing connection to arxiv.org:80.\n",
            "HTTP request sent, awaiting response... 200 OK\n",
            "Length: 4686220 (4.5M) [application/pdf]\n",
            "Saving to: ‘layoutparser_paper.pdf’\n",
            "\n",
            "\rlayoutparser_paper.   0%[                    ]       0  --.-KB/s               \rlayoutparser_paper. 100%[===================>]   4.47M  --.-KB/s    in 0.03s   \n",
            "\n",
            "2024-07-03 21:44:12 (168 MB/s) - ‘layoutparser_paper.pdf’ saved [4686220/4686220]\n",
            "\n"
          ]
        }
      ]
    },
    {
      "cell_type": "code",
      "source": [
        "from langchain_community.document_loaders import UnstructuredPDFLoader\n",
        "\n",
        "# takes 3-4 mins on Colab\n",
        "loader = UnstructuredPDFLoader('./layoutparser_paper.pdf',\n",
        "                               strategy='hi_res',\n",
        "                               extract_images_in_pdf=False,\n",
        "                               infer_table_structure=True,\n",
        "                               chunking_strategy=\"by_title\",\n",
        "                               max_characters=4000,\n",
        "                               new_after_n_chars=3800,\n",
        "                               combine_text_under_n_chars=2000,\n",
        "                               mode='elements')\n",
        "data = loader.load()"
      ],
      "metadata": {
        "colab": {
          "base_uri": "https://localhost:8080/",
          "height": 304,
          "referenced_widgets": [
            "718713b40c744aa4ae546fa00e7ead41",
            "ff43fa936813415aa09393eafab94729",
            "164599d1cb9044b78b7cf7d2e58044c6",
            "adea85881cec4c2a9a9cb89b087c0ffc",
            "a7f647b612244639996af84f4e8cf83e",
            "6a09af96ac2b4643ac13ad55ffe8f7ac",
            "9170f96db8f84c9fbaa4cf228784e21d",
            "eac22ab071fb4c4aab2baf95f1b502d9",
            "5f498f26211245a192c24092b9c86a33",
            "da52c8302af746ae9acf0431565f883c",
            "ebbfd93c81424f529f60223dc7970d63",
            "a7198e9ec4c94200b0163eda9c2b4f99",
            "5f3e6166901b4200a7d0acc50243d6b5",
            "ef70e61354674ee7beabf1ddfb5b24d2",
            "29c8b3ae9869478da1ac750f6e954cd8",
            "2b33b87b11cb47c093755aa673e37fee",
            "df8a349280d248cb8f9fa759392c20a0",
            "f43b2414b4124eed9335903105f8e689",
            "1b85aa2b3e764004b69097848683b5b9",
            "2a0ebf2b5f694737bd7380443dbfb0f6",
            "208e0ae3ec614eae9670330435e25aac",
            "c241ec57ca5c4978a44d146e2618d924",
            "9bd6f7eed415487f8d8e628a64ce30d0",
            "32afdaf06d1b441a8c1187ec4310a10a",
            "786dd5baa17c47dcbd627795f44413fe",
            "27cb5b4628ec46ae836a8452bba999c2",
            "cc247d41b183460a8b082107a9d260f3",
            "70787240f6bb47a7be12848ac3adbf23",
            "a6b7af2352c44ab68e1da51c7847969f",
            "084cc8ff096d416bbe20169b07c6f90d",
            "4727389e92324e89823d54ad589e13fb",
            "d5c9d56339414aa1921b3ef6364ac17a",
            "f0ec3efd259c42eab61beacc3b48ace9",
            "dcabe43e4f0047deae65c87de0581722",
            "f3711bc2f22e4cdb88e37c8c45dc0d70",
            "cd71d6a779854ddc9aa78ebc99e947cd",
            "4a8b0401612948969b3643c89a672ff3",
            "09e67ce91d2141a1b543a462a3584771",
            "23bed071db8e49448cf98007875a43ba",
            "794fa0bcae894769aa92d7bdf8d02249",
            "80f4fc028db94032abfe0eba2b8e0a35",
            "5c195320236d410bb981b2797434bee1",
            "4cb7eb13dd524880850c93f6ce630b7c",
            "f9bb22cb2aac4a1699dd89277fe9918d"
          ]
        },
        "id": "TBEGwdgAjhon",
        "outputId": "c5db821c-b84a-4e99-faaf-2fddd706af39"
      },
      "execution_count": 55,
      "outputs": [
        {
          "output_type": "stream",
          "name": "stderr",
          "text": [
            "[nltk_data] Downloading package punkt to /root/nltk_data...\n",
            "[nltk_data]   Unzipping tokenizers/punkt.zip.\n",
            "[nltk_data] Downloading package averaged_perceptron_tagger to\n",
            "[nltk_data]     /root/nltk_data...\n",
            "[nltk_data]   Unzipping taggers/averaged_perceptron_tagger.zip.\n"
          ]
        },
        {
          "output_type": "display_data",
          "data": {
            "text/plain": [
              "yolox_l0.05.onnx:   0%|          | 0.00/217M [00:00<?, ?B/s]"
            ],
            "application/vnd.jupyter.widget-view+json": {
              "version_major": 2,
              "version_minor": 0,
              "model_id": "718713b40c744aa4ae546fa00e7ead41"
            }
          },
          "metadata": {}
        },
        {
          "output_type": "display_data",
          "data": {
            "text/plain": [
              "config.json:   0%|          | 0.00/1.47k [00:00<?, ?B/s]"
            ],
            "application/vnd.jupyter.widget-view+json": {
              "version_major": 2,
              "version_minor": 0,
              "model_id": "a7198e9ec4c94200b0163eda9c2b4f99"
            }
          },
          "metadata": {}
        },
        {
          "output_type": "display_data",
          "data": {
            "text/plain": [
              "model.safetensors:   0%|          | 0.00/115M [00:00<?, ?B/s]"
            ],
            "application/vnd.jupyter.widget-view+json": {
              "version_major": 2,
              "version_minor": 0,
              "model_id": "9bd6f7eed415487f8d8e628a64ce30d0"
            }
          },
          "metadata": {}
        },
        {
          "output_type": "display_data",
          "data": {
            "text/plain": [
              "model.safetensors:   0%|          | 0.00/46.8M [00:00<?, ?B/s]"
            ],
            "application/vnd.jupyter.widget-view+json": {
              "version_major": 2,
              "version_minor": 0,
              "model_id": "dcabe43e4f0047deae65c87de0581722"
            }
          },
          "metadata": {}
        },
        {
          "output_type": "stream",
          "name": "stderr",
          "text": [
            "Some weights of the model checkpoint at microsoft/table-transformer-structure-recognition were not used when initializing TableTransformerForObjectDetection: ['model.backbone.conv_encoder.model.layer2.0.downsample.1.num_batches_tracked', 'model.backbone.conv_encoder.model.layer3.0.downsample.1.num_batches_tracked', 'model.backbone.conv_encoder.model.layer4.0.downsample.1.num_batches_tracked']\n",
            "- This IS expected if you are initializing TableTransformerForObjectDetection from the checkpoint of a model trained on another task or with another architecture (e.g. initializing a BertForSequenceClassification model from a BertForPreTraining model).\n",
            "- This IS NOT expected if you are initializing TableTransformerForObjectDetection from the checkpoint of a model that you expect to be exactly identical (initializing a BertForSequenceClassification model from a BertForSequenceClassification model).\n"
          ]
        }
      ]
    },
    {
      "cell_type": "code",
      "source": [
        "len(data)"
      ],
      "metadata": {
        "colab": {
          "base_uri": "https://localhost:8080/"
        },
        "id": "oWzB4sHqjklv",
        "outputId": "afbd97d5-a0ff-46b5-89c0-f9c1a4d9f92e"
      },
      "execution_count": 56,
      "outputs": [
        {
          "output_type": "execute_result",
          "data": {
            "text/plain": [
              "18"
            ]
          },
          "metadata": {},
          "execution_count": 56
        }
      ]
    },
    {
      "cell_type": "code",
      "source": [
        "[doc.metadata['category'] for doc in data]"
      ],
      "metadata": {
        "colab": {
          "base_uri": "https://localhost:8080/"
        },
        "id": "XJwmbhJZjlmH",
        "outputId": "9bb270ef-804f-444a-ae4f-711d59c50574"
      },
      "execution_count": 57,
      "outputs": [
        {
          "output_type": "execute_result",
          "data": {
            "text/plain": [
              "['CompositeElement',\n",
              " 'CompositeElement',\n",
              " 'CompositeElement',\n",
              " 'CompositeElement',\n",
              " 'CompositeElement',\n",
              " 'Table',\n",
              " 'CompositeElement',\n",
              " 'CompositeElement',\n",
              " 'CompositeElement',\n",
              " 'Table',\n",
              " 'CompositeElement',\n",
              " 'CompositeElement',\n",
              " 'CompositeElement',\n",
              " 'CompositeElement',\n",
              " 'CompositeElement',\n",
              " 'CompositeElement',\n",
              " 'CompositeElement',\n",
              " 'CompositeElement']"
            ]
          },
          "metadata": {},
          "execution_count": 57
        }
      ]
    },
    {
      "cell_type": "code",
      "source": [
        "data[0]"
      ],
      "metadata": {
        "colab": {
          "base_uri": "https://localhost:8080/"
        },
        "id": "sQkpdKGwjqmC",
        "outputId": "42bb8685-5321-487f-9db7-d6cfb208cc44"
      },
      "execution_count": 58,
      "outputs": [
        {
          "output_type": "execute_result",
          "data": {
            "text/plain": [
              "Document(metadata={'source': './layoutparser_paper.pdf', 'filetype': 'application/pdf', 'languages': ['eng'], 'last_modified': '2023-01-23T09:15:33', 'page_number': 1, 'orig_elements': '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', 'file_directory': '.', 'filename': 'layoutparser_paper.pdf', 'category': 'CompositeElement'}, page_content='1 2 0 2\\n\\nn u J 1 2 ] V C . s c [\\n\\n2 v 8 4 3 5 1 . 3 0 1 2 : v i X r a\\n\\nLayoutParser: A Uniﬁed Toolkit for Deep Learning Based Document Image Analysis\\n\\nZejiang Shen! (4), Ruochen Zhang”, Melissa Dell?, Benjamin Charles Germain Lee*, Jacob Carlson’, and Weining Li®\\n\\n1 Allen Institute for AI shannons@allenai.org 2 Brown University ruochen zhang@brown.edu 3 Harvard University {melissadell,jacob carlson}@fas.harvard.edu 4 University of Washington bcgl@cs.washington.edu 5 University of Waterloo w422li@uwaterloo.ca\\n\\nAbstract. Recent advances in document image analysis (DIA) have been primarily driven by the application of neural networks. Ideally, research outcomes could be easily deployed in production and extended for further investigation. However, various factors like loosely organized codebases and sophisticated model conﬁgurations complicate the easy reuse of im- portant innovations by a wide audience. Though there have been on-going eﬀorts to improve reusability and simplify deep learning (DL) model development in disciplines like natural language processing and computer vision, none of them are optimized for challenges in the domain of DIA. This represents a major gap in the existing toolkit, as DIA is central to academic research across a wide range of disciplines in the social sciences and humanities. This paper introduces LayoutParser, an open-source library for streamlining the usage of DL in DIA research and applica- tions. The core LayoutParser library comes with a set of simple and intuitive interfaces for applying and customizing DL models for layout de- tection, character recognition, and many other document processing tasks. To promote extensibility, LayoutParser also incorporates a community platform for sharing both pre-trained models and full document digiti- zation pipelines. We demonstrate that LayoutParser is helpful for both lightweight and large-scale digitization pipelines in real-word use cases. The library is publicly available at https://layout-parser.github.io.\\n\\nKeywords: Document Image Analysis · Deep Learning · Layout Analysis · Character Recognition · Open Source library · Toolkit.')"
            ]
          },
          "metadata": {},
          "execution_count": 58
        }
      ]
    },
    {
      "cell_type": "code",
      "source": [
        "print(data[0].page_content)"
      ],
      "metadata": {
        "colab": {
          "base_uri": "https://localhost:8080/"
        },
        "id": "kkiBYAmDjraI",
        "outputId": "55e2c036-0484-4139-b995-bca1b2f1c09f"
      },
      "execution_count": 59,
      "outputs": [
        {
          "output_type": "stream",
          "name": "stdout",
          "text": [
            "1 2 0 2\n",
            "\n",
            "n u J 1 2 ] V C . s c [\n",
            "\n",
            "2 v 8 4 3 5 1 . 3 0 1 2 : v i X r a\n",
            "\n",
            "LayoutParser: A Uniﬁed Toolkit for Deep Learning Based Document Image Analysis\n",
            "\n",
            "Zejiang Shen! (4), Ruochen Zhang”, Melissa Dell?, Benjamin Charles Germain Lee*, Jacob Carlson’, and Weining Li®\n",
            "\n",
            "1 Allen Institute for AI shannons@allenai.org 2 Brown University ruochen zhang@brown.edu 3 Harvard University {melissadell,jacob carlson}@fas.harvard.edu 4 University of Washington bcgl@cs.washington.edu 5 University of Waterloo w422li@uwaterloo.ca\n",
            "\n",
            "Abstract. Recent advances in document image analysis (DIA) have been primarily driven by the application of neural networks. Ideally, research outcomes could be easily deployed in production and extended for further investigation. However, various factors like loosely organized codebases and sophisticated model conﬁgurations complicate the easy reuse of im- portant innovations by a wide audience. Though there have been on-going eﬀorts to improve reusability and simplify deep learning (DL) model development in disciplines like natural language processing and computer vision, none of them are optimized for challenges in the domain of DIA. This represents a major gap in the existing toolkit, as DIA is central to academic research across a wide range of disciplines in the social sciences and humanities. This paper introduces LayoutParser, an open-source library for streamlining the usage of DL in DIA research and applica- tions. The core LayoutParser library comes with a set of simple and intuitive interfaces for applying and customizing DL models for layout de- tection, character recognition, and many other document processing tasks. To promote extensibility, LayoutParser also incorporates a community platform for sharing both pre-trained models and full document digiti- zation pipelines. We demonstrate that LayoutParser is helpful for both lightweight and large-scale digitization pipelines in real-word use cases. The library is publicly available at https://layout-parser.github.io.\n",
            "\n",
            "Keywords: Document Image Analysis · Deep Learning · Layout Analysis · Character Recognition · Open Source library · Toolkit.\n"
          ]
        }
      ]
    },
    {
      "cell_type": "code",
      "source": [
        "data[1]"
      ],
      "metadata": {
        "colab": {
          "base_uri": "https://localhost:8080/"
        },
        "id": "rEKwlZ7fjtH9",
        "outputId": "4b72b25e-cb58-4e7d-dd70-9c59770147e7"
      },
      "execution_count": 60,
      "outputs": [
        {
          "output_type": "execute_result",
          "data": {
            "text/plain": [
              "Document(metadata={'source': './layoutparser_paper.pdf', 'filetype': 'application/pdf', 'languages': ['eng'], 'last_modified': '2023-01-23T09:15:33', 'page_number': 1, 'orig_elements': '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', 'file_directory': '.', 'filename': 'layoutparser_paper.pdf', 'category': 'CompositeElement'}, page_content='Introduction\\n\\nDeep Learning(DL)-based approaches are the state-of-the-art for a wide range of document image analysis (DIA) tasks including document image classiﬁcation [11,\\n\\n2 Z. Shen et al.\\n\\n37], layout detection [38, 22], table detection [26], and scene text detection [4]. A generalized learning-based framework dramatically reduces the need for the manual speciﬁcation of complicated rules, which is the status quo with traditional methods. DL has the potential to transform DIA pipelines and beneﬁt a broad spectrum of large-scale document digitization projects.\\n\\nHowever, there are several practical diﬃculties for taking advantages of re- cent advances in DL-based methods: 1) DL models are notoriously convoluted for reuse and extension. Existing models are developed using distinct frame- works like TensorFlow [1] or PyTorch [24], and the high-level parameters can be obfuscated by implementation details [8]. It can be a time-consuming and frustrating experience to debug, reproduce, and adapt existing models for DIA, and many researchers who would beneﬁt the most from using these methods lack the technical background to implement them from scratch. 2) Document images contain diverse and disparate patterns across domains, and customized training is often required to achieve a desirable detection accuracy. Currently there is no full-ﬂedged infrastructure for easily curating the target document image datasets and ﬁne-tuning or re-training the models. 3) DIA usually requires a sequence of models and other processing to obtain the ﬁnal outputs. Often research teams use DL models and then perform further document analyses in separate processes, and these pipelines are not documented in any central location (and often not documented at all). This makes it diﬃcult for research teams to learn about how full pipelines are implemented and leads them to invest signiﬁcant resources in reinventing the DIA wheel.\\n\\nLayoutParser provides a uniﬁed toolkit to support DL-based document image analysis and processing. To address the aforementioned challenges, LayoutParser is built with the following components:\\n\\n1. An oﬀ-the-shelf toolkit for applying DL models for layout detection, character recognition, and other DIA tasks (Section 3)\\n\\n2. A rich repository of pre-trained neural network models (Model Zoo) that underlies the oﬀ-the-shelf usage\\n\\n3. Comprehensive tools for eﬃcient document image data annotation and model tuning to support diﬀerent levels of customization\\n\\n4. A DL model hub and community platform for the easy sharing, distribu- tion, and discussion of DIA models and pipelines, to promote reusability, reproducibility, and extensibility (Section 4)\\n\\nThe library implements simple and intuitive Python APIs without sacriﬁcing generalizability and versatility, and can be easily installed via pip. Its convenient functions for handling document image data can be seamlessly integrated with existing DIA pipelines. With detailed documentations and carefully curated tutorials, we hope this tool will beneﬁt a variety of end-users, and will lead to advances in applications in both industry and academic research.\\n\\nLayoutParser is well aligned with recent eﬀorts for improving DL model reusability in other disciplines like natural language processing [8, 34] and com- puter vision [35], but with a focus on unique challenges in DIA. We show LayoutParser can be applied in sophisticated and large-scale digitization projects\\n\\nLayoutParser: A Uniﬁed Toolkit for DL-Based DIA\\n\\nthat require precision, eﬃciency, and robustness, as well as simple and light- weight document processing tasks focusing on eﬃcacy and ﬂexibility (Section 5). LayoutParser is being actively maintained, and support for more deep learning models and novel methods in text-based layout analysis methods [37, 34] is planned.')"
            ]
          },
          "metadata": {},
          "execution_count": 60
        }
      ]
    },
    {
      "cell_type": "code",
      "source": [
        "print(data[1].page_content)"
      ],
      "metadata": {
        "colab": {
          "base_uri": "https://localhost:8080/"
        },
        "id": "WBOL9KMmjt0v",
        "outputId": "ab765682-e609-4d8c-f0df-157ca19a727d"
      },
      "execution_count": 61,
      "outputs": [
        {
          "output_type": "stream",
          "name": "stdout",
          "text": [
            "Introduction\n",
            "\n",
            "Deep Learning(DL)-based approaches are the state-of-the-art for a wide range of document image analysis (DIA) tasks including document image classiﬁcation [11,\n",
            "\n",
            "2 Z. Shen et al.\n",
            "\n",
            "37], layout detection [38, 22], table detection [26], and scene text detection [4]. A generalized learning-based framework dramatically reduces the need for the manual speciﬁcation of complicated rules, which is the status quo with traditional methods. DL has the potential to transform DIA pipelines and beneﬁt a broad spectrum of large-scale document digitization projects.\n",
            "\n",
            "However, there are several practical diﬃculties for taking advantages of re- cent advances in DL-based methods: 1) DL models are notoriously convoluted for reuse and extension. Existing models are developed using distinct frame- works like TensorFlow [1] or PyTorch [24], and the high-level parameters can be obfuscated by implementation details [8]. It can be a time-consuming and frustrating experience to debug, reproduce, and adapt existing models for DIA, and many researchers who would beneﬁt the most from using these methods lack the technical background to implement them from scratch. 2) Document images contain diverse and disparate patterns across domains, and customized training is often required to achieve a desirable detection accuracy. Currently there is no full-ﬂedged infrastructure for easily curating the target document image datasets and ﬁne-tuning or re-training the models. 3) DIA usually requires a sequence of models and other processing to obtain the ﬁnal outputs. Often research teams use DL models and then perform further document analyses in separate processes, and these pipelines are not documented in any central location (and often not documented at all). This makes it diﬃcult for research teams to learn about how full pipelines are implemented and leads them to invest signiﬁcant resources in reinventing the DIA wheel.\n",
            "\n",
            "LayoutParser provides a uniﬁed toolkit to support DL-based document image analysis and processing. To address the aforementioned challenges, LayoutParser is built with the following components:\n",
            "\n",
            "1. An oﬀ-the-shelf toolkit for applying DL models for layout detection, character recognition, and other DIA tasks (Section 3)\n",
            "\n",
            "2. A rich repository of pre-trained neural network models (Model Zoo) that underlies the oﬀ-the-shelf usage\n",
            "\n",
            "3. Comprehensive tools for eﬃcient document image data annotation and model tuning to support diﬀerent levels of customization\n",
            "\n",
            "4. A DL model hub and community platform for the easy sharing, distribu- tion, and discussion of DIA models and pipelines, to promote reusability, reproducibility, and extensibility (Section 4)\n",
            "\n",
            "The library implements simple and intuitive Python APIs without sacriﬁcing generalizability and versatility, and can be easily installed via pip. Its convenient functions for handling document image data can be seamlessly integrated with existing DIA pipelines. With detailed documentations and carefully curated tutorials, we hope this tool will beneﬁt a variety of end-users, and will lead to advances in applications in both industry and academic research.\n",
            "\n",
            "LayoutParser is well aligned with recent eﬀorts for improving DL model reusability in other disciplines like natural language processing [8, 34] and com- puter vision [35], but with a focus on unique challenges in DIA. We show LayoutParser can be applied in sophisticated and large-scale digitization projects\n",
            "\n",
            "LayoutParser: A Uniﬁed Toolkit for DL-Based DIA\n",
            "\n",
            "that require precision, eﬃciency, and robustness, as well as simple and light- weight document processing tasks focusing on eﬃcacy and ﬂexibility (Section 5). LayoutParser is being actively maintained, and support for more deep learning models and novel methods in text-based layout analysis methods [37, 34] is planned.\n"
          ]
        }
      ]
    },
    {
      "cell_type": "code",
      "source": [],
      "metadata": {
        "id": "p-IVnh-IjvOP"
      },
      "execution_count": null,
      "outputs": []
    }
  ]
}