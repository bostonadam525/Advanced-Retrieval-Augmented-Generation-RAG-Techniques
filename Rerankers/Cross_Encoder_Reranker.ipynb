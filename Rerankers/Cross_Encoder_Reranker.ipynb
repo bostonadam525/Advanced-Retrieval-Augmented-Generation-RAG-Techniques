{
  "nbformat": 4,
  "nbformat_minor": 0,
  "metadata": {
    "colab": {
      "provenance": []
    },
    "kernelspec": {
      "name": "python3",
      "display_name": "Python 3"
    },
    "language_info": {
      "name": "python"
    },
    "widgets": {
      "application/vnd.jupyter.widget-state+json": {
        "477413f94eaa424dbce7ac49c64d5a27": {
          "model_module": "@jupyter-widgets/controls",
          "model_name": "HBoxModel",
          "model_module_version": "1.5.0",
          "state": {
            "_dom_classes": [],
            "_model_module": "@jupyter-widgets/controls",
            "_model_module_version": "1.5.0",
            "_model_name": "HBoxModel",
            "_view_count": null,
            "_view_module": "@jupyter-widgets/controls",
            "_view_module_version": "1.5.0",
            "_view_name": "HBoxView",
            "box_style": "",
            "children": [
              "IPY_MODEL_724fef3bf59f41df8ca5e6dd6c76ee6a",
              "IPY_MODEL_0ad732bc20304c2d8a60c191321af16f",
              "IPY_MODEL_4f06ac84076e4177971f6a629e8bd8c4"
            ],
            "layout": "IPY_MODEL_8ebff63d7eba42a79419dd1229af0b4d"
          }
        },
        "724fef3bf59f41df8ca5e6dd6c76ee6a": {
          "model_module": "@jupyter-widgets/controls",
          "model_name": "HTMLModel",
          "model_module_version": "1.5.0",
          "state": {
            "_dom_classes": [],
            "_model_module": "@jupyter-widgets/controls",
            "_model_module_version": "1.5.0",
            "_model_name": "HTMLModel",
            "_view_count": null,
            "_view_module": "@jupyter-widgets/controls",
            "_view_module_version": "1.5.0",
            "_view_name": "HTMLView",
            "description": "",
            "description_tooltip": null,
            "layout": "IPY_MODEL_c1238bb39e74405e8e1f1d9513202061",
            "placeholder": "​",
            "style": "IPY_MODEL_81814d4f707d44b1872777e49b0e54c1",
            "value": "config.json: 100%"
          }
        },
        "0ad732bc20304c2d8a60c191321af16f": {
          "model_module": "@jupyter-widgets/controls",
          "model_name": "FloatProgressModel",
          "model_module_version": "1.5.0",
          "state": {
            "_dom_classes": [],
            "_model_module": "@jupyter-widgets/controls",
            "_model_module_version": "1.5.0",
            "_model_name": "FloatProgressModel",
            "_view_count": null,
            "_view_module": "@jupyter-widgets/controls",
            "_view_module_version": "1.5.0",
            "_view_name": "ProgressView",
            "bar_style": "success",
            "description": "",
            "description_tooltip": null,
            "layout": "IPY_MODEL_92f3b579e53f4e759a094eb1fd8ca6e2",
            "max": 794,
            "min": 0,
            "orientation": "horizontal",
            "style": "IPY_MODEL_073744fecc424712899fdc70feaaa1a1",
            "value": 794
          }
        },
        "4f06ac84076e4177971f6a629e8bd8c4": {
          "model_module": "@jupyter-widgets/controls",
          "model_name": "HTMLModel",
          "model_module_version": "1.5.0",
          "state": {
            "_dom_classes": [],
            "_model_module": "@jupyter-widgets/controls",
            "_model_module_version": "1.5.0",
            "_model_name": "HTMLModel",
            "_view_count": null,
            "_view_module": "@jupyter-widgets/controls",
            "_view_module_version": "1.5.0",
            "_view_name": "HTMLView",
            "description": "",
            "description_tooltip": null,
            "layout": "IPY_MODEL_d147002f40eb4fd5a3684a82f6316a98",
            "placeholder": "​",
            "style": "IPY_MODEL_eac83cb9686448f48abae8597edb4b85",
            "value": " 794/794 [00:00&lt;00:00, 66.3kB/s]"
          }
        },
        "8ebff63d7eba42a79419dd1229af0b4d": {
          "model_module": "@jupyter-widgets/base",
          "model_name": "LayoutModel",
          "model_module_version": "1.2.0",
          "state": {
            "_model_module": "@jupyter-widgets/base",
            "_model_module_version": "1.2.0",
            "_model_name": "LayoutModel",
            "_view_count": null,
            "_view_module": "@jupyter-widgets/base",
            "_view_module_version": "1.2.0",
            "_view_name": "LayoutView",
            "align_content": null,
            "align_items": null,
            "align_self": null,
            "border": null,
            "bottom": null,
            "display": null,
            "flex": null,
            "flex_flow": null,
            "grid_area": null,
            "grid_auto_columns": null,
            "grid_auto_flow": null,
            "grid_auto_rows": null,
            "grid_column": null,
            "grid_gap": null,
            "grid_row": null,
            "grid_template_areas": null,
            "grid_template_columns": null,
            "grid_template_rows": null,
            "height": null,
            "justify_content": null,
            "justify_items": null,
            "left": null,
            "margin": null,
            "max_height": null,
            "max_width": null,
            "min_height": null,
            "min_width": null,
            "object_fit": null,
            "object_position": null,
            "order": null,
            "overflow": null,
            "overflow_x": null,
            "overflow_y": null,
            "padding": null,
            "right": null,
            "top": null,
            "visibility": null,
            "width": null
          }
        },
        "c1238bb39e74405e8e1f1d9513202061": {
          "model_module": "@jupyter-widgets/base",
          "model_name": "LayoutModel",
          "model_module_version": "1.2.0",
          "state": {
            "_model_module": "@jupyter-widgets/base",
            "_model_module_version": "1.2.0",
            "_model_name": "LayoutModel",
            "_view_count": null,
            "_view_module": "@jupyter-widgets/base",
            "_view_module_version": "1.2.0",
            "_view_name": "LayoutView",
            "align_content": null,
            "align_items": null,
            "align_self": null,
            "border": null,
            "bottom": null,
            "display": null,
            "flex": null,
            "flex_flow": null,
            "grid_area": null,
            "grid_auto_columns": null,
            "grid_auto_flow": null,
            "grid_auto_rows": null,
            "grid_column": null,
            "grid_gap": null,
            "grid_row": null,
            "grid_template_areas": null,
            "grid_template_columns": null,
            "grid_template_rows": null,
            "height": null,
            "justify_content": null,
            "justify_items": null,
            "left": null,
            "margin": null,
            "max_height": null,
            "max_width": null,
            "min_height": null,
            "min_width": null,
            "object_fit": null,
            "object_position": null,
            "order": null,
            "overflow": null,
            "overflow_x": null,
            "overflow_y": null,
            "padding": null,
            "right": null,
            "top": null,
            "visibility": null,
            "width": null
          }
        },
        "81814d4f707d44b1872777e49b0e54c1": {
          "model_module": "@jupyter-widgets/controls",
          "model_name": "DescriptionStyleModel",
          "model_module_version": "1.5.0",
          "state": {
            "_model_module": "@jupyter-widgets/controls",
            "_model_module_version": "1.5.0",
            "_model_name": "DescriptionStyleModel",
            "_view_count": null,
            "_view_module": "@jupyter-widgets/base",
            "_view_module_version": "1.2.0",
            "_view_name": "StyleView",
            "description_width": ""
          }
        },
        "92f3b579e53f4e759a094eb1fd8ca6e2": {
          "model_module": "@jupyter-widgets/base",
          "model_name": "LayoutModel",
          "model_module_version": "1.2.0",
          "state": {
            "_model_module": "@jupyter-widgets/base",
            "_model_module_version": "1.2.0",
            "_model_name": "LayoutModel",
            "_view_count": null,
            "_view_module": "@jupyter-widgets/base",
            "_view_module_version": "1.2.0",
            "_view_name": "LayoutView",
            "align_content": null,
            "align_items": null,
            "align_self": null,
            "border": null,
            "bottom": null,
            "display": null,
            "flex": null,
            "flex_flow": null,
            "grid_area": null,
            "grid_auto_columns": null,
            "grid_auto_flow": null,
            "grid_auto_rows": null,
            "grid_column": null,
            "grid_gap": null,
            "grid_row": null,
            "grid_template_areas": null,
            "grid_template_columns": null,
            "grid_template_rows": null,
            "height": null,
            "justify_content": null,
            "justify_items": null,
            "left": null,
            "margin": null,
            "max_height": null,
            "max_width": null,
            "min_height": null,
            "min_width": null,
            "object_fit": null,
            "object_position": null,
            "order": null,
            "overflow": null,
            "overflow_x": null,
            "overflow_y": null,
            "padding": null,
            "right": null,
            "top": null,
            "visibility": null,
            "width": null
          }
        },
        "073744fecc424712899fdc70feaaa1a1": {
          "model_module": "@jupyter-widgets/controls",
          "model_name": "ProgressStyleModel",
          "model_module_version": "1.5.0",
          "state": {
            "_model_module": "@jupyter-widgets/controls",
            "_model_module_version": "1.5.0",
            "_model_name": "ProgressStyleModel",
            "_view_count": null,
            "_view_module": "@jupyter-widgets/base",
            "_view_module_version": "1.2.0",
            "_view_name": "StyleView",
            "bar_color": null,
            "description_width": ""
          }
        },
        "d147002f40eb4fd5a3684a82f6316a98": {
          "model_module": "@jupyter-widgets/base",
          "model_name": "LayoutModel",
          "model_module_version": "1.2.0",
          "state": {
            "_model_module": "@jupyter-widgets/base",
            "_model_module_version": "1.2.0",
            "_model_name": "LayoutModel",
            "_view_count": null,
            "_view_module": "@jupyter-widgets/base",
            "_view_module_version": "1.2.0",
            "_view_name": "LayoutView",
            "align_content": null,
            "align_items": null,
            "align_self": null,
            "border": null,
            "bottom": null,
            "display": null,
            "flex": null,
            "flex_flow": null,
            "grid_area": null,
            "grid_auto_columns": null,
            "grid_auto_flow": null,
            "grid_auto_rows": null,
            "grid_column": null,
            "grid_gap": null,
            "grid_row": null,
            "grid_template_areas": null,
            "grid_template_columns": null,
            "grid_template_rows": null,
            "height": null,
            "justify_content": null,
            "justify_items": null,
            "left": null,
            "margin": null,
            "max_height": null,
            "max_width": null,
            "min_height": null,
            "min_width": null,
            "object_fit": null,
            "object_position": null,
            "order": null,
            "overflow": null,
            "overflow_x": null,
            "overflow_y": null,
            "padding": null,
            "right": null,
            "top": null,
            "visibility": null,
            "width": null
          }
        },
        "eac83cb9686448f48abae8597edb4b85": {
          "model_module": "@jupyter-widgets/controls",
          "model_name": "DescriptionStyleModel",
          "model_module_version": "1.5.0",
          "state": {
            "_model_module": "@jupyter-widgets/controls",
            "_model_module_version": "1.5.0",
            "_model_name": "DescriptionStyleModel",
            "_view_count": null,
            "_view_module": "@jupyter-widgets/base",
            "_view_module_version": "1.2.0",
            "_view_name": "StyleView",
            "description_width": ""
          }
        },
        "1a00f408b2854c84b645de4553d6aa52": {
          "model_module": "@jupyter-widgets/controls",
          "model_name": "HBoxModel",
          "model_module_version": "1.5.0",
          "state": {
            "_dom_classes": [],
            "_model_module": "@jupyter-widgets/controls",
            "_model_module_version": "1.5.0",
            "_model_name": "HBoxModel",
            "_view_count": null,
            "_view_module": "@jupyter-widgets/controls",
            "_view_module_version": "1.5.0",
            "_view_name": "HBoxView",
            "box_style": "",
            "children": [
              "IPY_MODEL_e317bec3113349c1a4a04029e314009b",
              "IPY_MODEL_4f8a2d62be3f4f2f9da8db2e33064d88",
              "IPY_MODEL_4558445969e7433e9836fb75720e53fe"
            ],
            "layout": "IPY_MODEL_c82149953a33492696b5aaa924b2b211"
          }
        },
        "e317bec3113349c1a4a04029e314009b": {
          "model_module": "@jupyter-widgets/controls",
          "model_name": "HTMLModel",
          "model_module_version": "1.5.0",
          "state": {
            "_dom_classes": [],
            "_model_module": "@jupyter-widgets/controls",
            "_model_module_version": "1.5.0",
            "_model_name": "HTMLModel",
            "_view_count": null,
            "_view_module": "@jupyter-widgets/controls",
            "_view_module_version": "1.5.0",
            "_view_name": "HTMLView",
            "description": "",
            "description_tooltip": null,
            "layout": "IPY_MODEL_2095aa09f7e947f19de04ff66d4b7ced",
            "placeholder": "​",
            "style": "IPY_MODEL_b290204de7c24fa1a8a774d6287c77fc",
            "value": "model.safetensors: 100%"
          }
        },
        "4f8a2d62be3f4f2f9da8db2e33064d88": {
          "model_module": "@jupyter-widgets/controls",
          "model_name": "FloatProgressModel",
          "model_module_version": "1.5.0",
          "state": {
            "_dom_classes": [],
            "_model_module": "@jupyter-widgets/controls",
            "_model_module_version": "1.5.0",
            "_model_name": "FloatProgressModel",
            "_view_count": null,
            "_view_module": "@jupyter-widgets/controls",
            "_view_module_version": "1.5.0",
            "_view_name": "ProgressView",
            "bar_style": "success",
            "description": "",
            "description_tooltip": null,
            "layout": "IPY_MODEL_d634cadb2bcc4ac38a49fbfa57546000",
            "max": 90870598,
            "min": 0,
            "orientation": "horizontal",
            "style": "IPY_MODEL_e306e753887d4fb9befd78570384c906",
            "value": 90870598
          }
        },
        "4558445969e7433e9836fb75720e53fe": {
          "model_module": "@jupyter-widgets/controls",
          "model_name": "HTMLModel",
          "model_module_version": "1.5.0",
          "state": {
            "_dom_classes": [],
            "_model_module": "@jupyter-widgets/controls",
            "_model_module_version": "1.5.0",
            "_model_name": "HTMLModel",
            "_view_count": null,
            "_view_module": "@jupyter-widgets/controls",
            "_view_module_version": "1.5.0",
            "_view_name": "HTMLView",
            "description": "",
            "description_tooltip": null,
            "layout": "IPY_MODEL_a17784f432f9421b9f3a3cdca31126d0",
            "placeholder": "​",
            "style": "IPY_MODEL_62f41074467f46e38d873811afa46d55",
            "value": " 90.9M/90.9M [00:01&lt;00:00, 111MB/s]"
          }
        },
        "c82149953a33492696b5aaa924b2b211": {
          "model_module": "@jupyter-widgets/base",
          "model_name": "LayoutModel",
          "model_module_version": "1.2.0",
          "state": {
            "_model_module": "@jupyter-widgets/base",
            "_model_module_version": "1.2.0",
            "_model_name": "LayoutModel",
            "_view_count": null,
            "_view_module": "@jupyter-widgets/base",
            "_view_module_version": "1.2.0",
            "_view_name": "LayoutView",
            "align_content": null,
            "align_items": null,
            "align_self": null,
            "border": null,
            "bottom": null,
            "display": null,
            "flex": null,
            "flex_flow": null,
            "grid_area": null,
            "grid_auto_columns": null,
            "grid_auto_flow": null,
            "grid_auto_rows": null,
            "grid_column": null,
            "grid_gap": null,
            "grid_row": null,
            "grid_template_areas": null,
            "grid_template_columns": null,
            "grid_template_rows": null,
            "height": null,
            "justify_content": null,
            "justify_items": null,
            "left": null,
            "margin": null,
            "max_height": null,
            "max_width": null,
            "min_height": null,
            "min_width": null,
            "object_fit": null,
            "object_position": null,
            "order": null,
            "overflow": null,
            "overflow_x": null,
            "overflow_y": null,
            "padding": null,
            "right": null,
            "top": null,
            "visibility": null,
            "width": null
          }
        },
        "2095aa09f7e947f19de04ff66d4b7ced": {
          "model_module": "@jupyter-widgets/base",
          "model_name": "LayoutModel",
          "model_module_version": "1.2.0",
          "state": {
            "_model_module": "@jupyter-widgets/base",
            "_model_module_version": "1.2.0",
            "_model_name": "LayoutModel",
            "_view_count": null,
            "_view_module": "@jupyter-widgets/base",
            "_view_module_version": "1.2.0",
            "_view_name": "LayoutView",
            "align_content": null,
            "align_items": null,
            "align_self": null,
            "border": null,
            "bottom": null,
            "display": null,
            "flex": null,
            "flex_flow": null,
            "grid_area": null,
            "grid_auto_columns": null,
            "grid_auto_flow": null,
            "grid_auto_rows": null,
            "grid_column": null,
            "grid_gap": null,
            "grid_row": null,
            "grid_template_areas": null,
            "grid_template_columns": null,
            "grid_template_rows": null,
            "height": null,
            "justify_content": null,
            "justify_items": null,
            "left": null,
            "margin": null,
            "max_height": null,
            "max_width": null,
            "min_height": null,
            "min_width": null,
            "object_fit": null,
            "object_position": null,
            "order": null,
            "overflow": null,
            "overflow_x": null,
            "overflow_y": null,
            "padding": null,
            "right": null,
            "top": null,
            "visibility": null,
            "width": null
          }
        },
        "b290204de7c24fa1a8a774d6287c77fc": {
          "model_module": "@jupyter-widgets/controls",
          "model_name": "DescriptionStyleModel",
          "model_module_version": "1.5.0",
          "state": {
            "_model_module": "@jupyter-widgets/controls",
            "_model_module_version": "1.5.0",
            "_model_name": "DescriptionStyleModel",
            "_view_count": null,
            "_view_module": "@jupyter-widgets/base",
            "_view_module_version": "1.2.0",
            "_view_name": "StyleView",
            "description_width": ""
          }
        },
        "d634cadb2bcc4ac38a49fbfa57546000": {
          "model_module": "@jupyter-widgets/base",
          "model_name": "LayoutModel",
          "model_module_version": "1.2.0",
          "state": {
            "_model_module": "@jupyter-widgets/base",
            "_model_module_version": "1.2.0",
            "_model_name": "LayoutModel",
            "_view_count": null,
            "_view_module": "@jupyter-widgets/base",
            "_view_module_version": "1.2.0",
            "_view_name": "LayoutView",
            "align_content": null,
            "align_items": null,
            "align_self": null,
            "border": null,
            "bottom": null,
            "display": null,
            "flex": null,
            "flex_flow": null,
            "grid_area": null,
            "grid_auto_columns": null,
            "grid_auto_flow": null,
            "grid_auto_rows": null,
            "grid_column": null,
            "grid_gap": null,
            "grid_row": null,
            "grid_template_areas": null,
            "grid_template_columns": null,
            "grid_template_rows": null,
            "height": null,
            "justify_content": null,
            "justify_items": null,
            "left": null,
            "margin": null,
            "max_height": null,
            "max_width": null,
            "min_height": null,
            "min_width": null,
            "object_fit": null,
            "object_position": null,
            "order": null,
            "overflow": null,
            "overflow_x": null,
            "overflow_y": null,
            "padding": null,
            "right": null,
            "top": null,
            "visibility": null,
            "width": null
          }
        },
        "e306e753887d4fb9befd78570384c906": {
          "model_module": "@jupyter-widgets/controls",
          "model_name": "ProgressStyleModel",
          "model_module_version": "1.5.0",
          "state": {
            "_model_module": "@jupyter-widgets/controls",
            "_model_module_version": "1.5.0",
            "_model_name": "ProgressStyleModel",
            "_view_count": null,
            "_view_module": "@jupyter-widgets/base",
            "_view_module_version": "1.2.0",
            "_view_name": "StyleView",
            "bar_color": null,
            "description_width": ""
          }
        },
        "a17784f432f9421b9f3a3cdca31126d0": {
          "model_module": "@jupyter-widgets/base",
          "model_name": "LayoutModel",
          "model_module_version": "1.2.0",
          "state": {
            "_model_module": "@jupyter-widgets/base",
            "_model_module_version": "1.2.0",
            "_model_name": "LayoutModel",
            "_view_count": null,
            "_view_module": "@jupyter-widgets/base",
            "_view_module_version": "1.2.0",
            "_view_name": "LayoutView",
            "align_content": null,
            "align_items": null,
            "align_self": null,
            "border": null,
            "bottom": null,
            "display": null,
            "flex": null,
            "flex_flow": null,
            "grid_area": null,
            "grid_auto_columns": null,
            "grid_auto_flow": null,
            "grid_auto_rows": null,
            "grid_column": null,
            "grid_gap": null,
            "grid_row": null,
            "grid_template_areas": null,
            "grid_template_columns": null,
            "grid_template_rows": null,
            "height": null,
            "justify_content": null,
            "justify_items": null,
            "left": null,
            "margin": null,
            "max_height": null,
            "max_width": null,
            "min_height": null,
            "min_width": null,
            "object_fit": null,
            "object_position": null,
            "order": null,
            "overflow": null,
            "overflow_x": null,
            "overflow_y": null,
            "padding": null,
            "right": null,
            "top": null,
            "visibility": null,
            "width": null
          }
        },
        "62f41074467f46e38d873811afa46d55": {
          "model_module": "@jupyter-widgets/controls",
          "model_name": "DescriptionStyleModel",
          "model_module_version": "1.5.0",
          "state": {
            "_model_module": "@jupyter-widgets/controls",
            "_model_module_version": "1.5.0",
            "_model_name": "DescriptionStyleModel",
            "_view_count": null,
            "_view_module": "@jupyter-widgets/base",
            "_view_module_version": "1.2.0",
            "_view_name": "StyleView",
            "description_width": ""
          }
        },
        "a56704e0355d466a991aad603dffa562": {
          "model_module": "@jupyter-widgets/controls",
          "model_name": "HBoxModel",
          "model_module_version": "1.5.0",
          "state": {
            "_dom_classes": [],
            "_model_module": "@jupyter-widgets/controls",
            "_model_module_version": "1.5.0",
            "_model_name": "HBoxModel",
            "_view_count": null,
            "_view_module": "@jupyter-widgets/controls",
            "_view_module_version": "1.5.0",
            "_view_name": "HBoxView",
            "box_style": "",
            "children": [
              "IPY_MODEL_4ad459c30ee5452d85c13eb28f773715",
              "IPY_MODEL_c5456d333ad0404abfce56db1e8dbc9e",
              "IPY_MODEL_63df0a1894ae4daeaf4c797a5e04af71"
            ],
            "layout": "IPY_MODEL_3123b54f629d4a4087f875fab7e3c50d"
          }
        },
        "4ad459c30ee5452d85c13eb28f773715": {
          "model_module": "@jupyter-widgets/controls",
          "model_name": "HTMLModel",
          "model_module_version": "1.5.0",
          "state": {
            "_dom_classes": [],
            "_model_module": "@jupyter-widgets/controls",
            "_model_module_version": "1.5.0",
            "_model_name": "HTMLModel",
            "_view_count": null,
            "_view_module": "@jupyter-widgets/controls",
            "_view_module_version": "1.5.0",
            "_view_name": "HTMLView",
            "description": "",
            "description_tooltip": null,
            "layout": "IPY_MODEL_c6c933b112de4273ac7cb871990fb3a4",
            "placeholder": "​",
            "style": "IPY_MODEL_3256aea55ccc41a5a1dbd2d5f4a50dad",
            "value": "tokenizer_config.json: 100%"
          }
        },
        "c5456d333ad0404abfce56db1e8dbc9e": {
          "model_module": "@jupyter-widgets/controls",
          "model_name": "FloatProgressModel",
          "model_module_version": "1.5.0",
          "state": {
            "_dom_classes": [],
            "_model_module": "@jupyter-widgets/controls",
            "_model_module_version": "1.5.0",
            "_model_name": "FloatProgressModel",
            "_view_count": null,
            "_view_module": "@jupyter-widgets/controls",
            "_view_module_version": "1.5.0",
            "_view_name": "ProgressView",
            "bar_style": "success",
            "description": "",
            "description_tooltip": null,
            "layout": "IPY_MODEL_a03209a9f9fc4a66ad80a41bb37f30c2",
            "max": 316,
            "min": 0,
            "orientation": "horizontal",
            "style": "IPY_MODEL_ae4971ef9ca1415d8625c115c98d8584",
            "value": 316
          }
        },
        "63df0a1894ae4daeaf4c797a5e04af71": {
          "model_module": "@jupyter-widgets/controls",
          "model_name": "HTMLModel",
          "model_module_version": "1.5.0",
          "state": {
            "_dom_classes": [],
            "_model_module": "@jupyter-widgets/controls",
            "_model_module_version": "1.5.0",
            "_model_name": "HTMLModel",
            "_view_count": null,
            "_view_module": "@jupyter-widgets/controls",
            "_view_module_version": "1.5.0",
            "_view_name": "HTMLView",
            "description": "",
            "description_tooltip": null,
            "layout": "IPY_MODEL_4bb611c77d32418fbbc74ae0919a0c7f",
            "placeholder": "​",
            "style": "IPY_MODEL_abf2f12dbfb14c4f9fe3ad08afa38e49",
            "value": " 316/316 [00:00&lt;00:00, 26.1kB/s]"
          }
        },
        "3123b54f629d4a4087f875fab7e3c50d": {
          "model_module": "@jupyter-widgets/base",
          "model_name": "LayoutModel",
          "model_module_version": "1.2.0",
          "state": {
            "_model_module": "@jupyter-widgets/base",
            "_model_module_version": "1.2.0",
            "_model_name": "LayoutModel",
            "_view_count": null,
            "_view_module": "@jupyter-widgets/base",
            "_view_module_version": "1.2.0",
            "_view_name": "LayoutView",
            "align_content": null,
            "align_items": null,
            "align_self": null,
            "border": null,
            "bottom": null,
            "display": null,
            "flex": null,
            "flex_flow": null,
            "grid_area": null,
            "grid_auto_columns": null,
            "grid_auto_flow": null,
            "grid_auto_rows": null,
            "grid_column": null,
            "grid_gap": null,
            "grid_row": null,
            "grid_template_areas": null,
            "grid_template_columns": null,
            "grid_template_rows": null,
            "height": null,
            "justify_content": null,
            "justify_items": null,
            "left": null,
            "margin": null,
            "max_height": null,
            "max_width": null,
            "min_height": null,
            "min_width": null,
            "object_fit": null,
            "object_position": null,
            "order": null,
            "overflow": null,
            "overflow_x": null,
            "overflow_y": null,
            "padding": null,
            "right": null,
            "top": null,
            "visibility": null,
            "width": null
          }
        },
        "c6c933b112de4273ac7cb871990fb3a4": {
          "model_module": "@jupyter-widgets/base",
          "model_name": "LayoutModel",
          "model_module_version": "1.2.0",
          "state": {
            "_model_module": "@jupyter-widgets/base",
            "_model_module_version": "1.2.0",
            "_model_name": "LayoutModel",
            "_view_count": null,
            "_view_module": "@jupyter-widgets/base",
            "_view_module_version": "1.2.0",
            "_view_name": "LayoutView",
            "align_content": null,
            "align_items": null,
            "align_self": null,
            "border": null,
            "bottom": null,
            "display": null,
            "flex": null,
            "flex_flow": null,
            "grid_area": null,
            "grid_auto_columns": null,
            "grid_auto_flow": null,
            "grid_auto_rows": null,
            "grid_column": null,
            "grid_gap": null,
            "grid_row": null,
            "grid_template_areas": null,
            "grid_template_columns": null,
            "grid_template_rows": null,
            "height": null,
            "justify_content": null,
            "justify_items": null,
            "left": null,
            "margin": null,
            "max_height": null,
            "max_width": null,
            "min_height": null,
            "min_width": null,
            "object_fit": null,
            "object_position": null,
            "order": null,
            "overflow": null,
            "overflow_x": null,
            "overflow_y": null,
            "padding": null,
            "right": null,
            "top": null,
            "visibility": null,
            "width": null
          }
        },
        "3256aea55ccc41a5a1dbd2d5f4a50dad": {
          "model_module": "@jupyter-widgets/controls",
          "model_name": "DescriptionStyleModel",
          "model_module_version": "1.5.0",
          "state": {
            "_model_module": "@jupyter-widgets/controls",
            "_model_module_version": "1.5.0",
            "_model_name": "DescriptionStyleModel",
            "_view_count": null,
            "_view_module": "@jupyter-widgets/base",
            "_view_module_version": "1.2.0",
            "_view_name": "StyleView",
            "description_width": ""
          }
        },
        "a03209a9f9fc4a66ad80a41bb37f30c2": {
          "model_module": "@jupyter-widgets/base",
          "model_name": "LayoutModel",
          "model_module_version": "1.2.0",
          "state": {
            "_model_module": "@jupyter-widgets/base",
            "_model_module_version": "1.2.0",
            "_model_name": "LayoutModel",
            "_view_count": null,
            "_view_module": "@jupyter-widgets/base",
            "_view_module_version": "1.2.0",
            "_view_name": "LayoutView",
            "align_content": null,
            "align_items": null,
            "align_self": null,
            "border": null,
            "bottom": null,
            "display": null,
            "flex": null,
            "flex_flow": null,
            "grid_area": null,
            "grid_auto_columns": null,
            "grid_auto_flow": null,
            "grid_auto_rows": null,
            "grid_column": null,
            "grid_gap": null,
            "grid_row": null,
            "grid_template_areas": null,
            "grid_template_columns": null,
            "grid_template_rows": null,
            "height": null,
            "justify_content": null,
            "justify_items": null,
            "left": null,
            "margin": null,
            "max_height": null,
            "max_width": null,
            "min_height": null,
            "min_width": null,
            "object_fit": null,
            "object_position": null,
            "order": null,
            "overflow": null,
            "overflow_x": null,
            "overflow_y": null,
            "padding": null,
            "right": null,
            "top": null,
            "visibility": null,
            "width": null
          }
        },
        "ae4971ef9ca1415d8625c115c98d8584": {
          "model_module": "@jupyter-widgets/controls",
          "model_name": "ProgressStyleModel",
          "model_module_version": "1.5.0",
          "state": {
            "_model_module": "@jupyter-widgets/controls",
            "_model_module_version": "1.5.0",
            "_model_name": "ProgressStyleModel",
            "_view_count": null,
            "_view_module": "@jupyter-widgets/base",
            "_view_module_version": "1.2.0",
            "_view_name": "StyleView",
            "bar_color": null,
            "description_width": ""
          }
        },
        "4bb611c77d32418fbbc74ae0919a0c7f": {
          "model_module": "@jupyter-widgets/base",
          "model_name": "LayoutModel",
          "model_module_version": "1.2.0",
          "state": {
            "_model_module": "@jupyter-widgets/base",
            "_model_module_version": "1.2.0",
            "_model_name": "LayoutModel",
            "_view_count": null,
            "_view_module": "@jupyter-widgets/base",
            "_view_module_version": "1.2.0",
            "_view_name": "LayoutView",
            "align_content": null,
            "align_items": null,
            "align_self": null,
            "border": null,
            "bottom": null,
            "display": null,
            "flex": null,
            "flex_flow": null,
            "grid_area": null,
            "grid_auto_columns": null,
            "grid_auto_flow": null,
            "grid_auto_rows": null,
            "grid_column": null,
            "grid_gap": null,
            "grid_row": null,
            "grid_template_areas": null,
            "grid_template_columns": null,
            "grid_template_rows": null,
            "height": null,
            "justify_content": null,
            "justify_items": null,
            "left": null,
            "margin": null,
            "max_height": null,
            "max_width": null,
            "min_height": null,
            "min_width": null,
            "object_fit": null,
            "object_position": null,
            "order": null,
            "overflow": null,
            "overflow_x": null,
            "overflow_y": null,
            "padding": null,
            "right": null,
            "top": null,
            "visibility": null,
            "width": null
          }
        },
        "abf2f12dbfb14c4f9fe3ad08afa38e49": {
          "model_module": "@jupyter-widgets/controls",
          "model_name": "DescriptionStyleModel",
          "model_module_version": "1.5.0",
          "state": {
            "_model_module": "@jupyter-widgets/controls",
            "_model_module_version": "1.5.0",
            "_model_name": "DescriptionStyleModel",
            "_view_count": null,
            "_view_module": "@jupyter-widgets/base",
            "_view_module_version": "1.2.0",
            "_view_name": "StyleView",
            "description_width": ""
          }
        },
        "a726e44c22a540c18cd141fd89021ef5": {
          "model_module": "@jupyter-widgets/controls",
          "model_name": "HBoxModel",
          "model_module_version": "1.5.0",
          "state": {
            "_dom_classes": [],
            "_model_module": "@jupyter-widgets/controls",
            "_model_module_version": "1.5.0",
            "_model_name": "HBoxModel",
            "_view_count": null,
            "_view_module": "@jupyter-widgets/controls",
            "_view_module_version": "1.5.0",
            "_view_name": "HBoxView",
            "box_style": "",
            "children": [
              "IPY_MODEL_fce071caeb4041b29bf59f1dae81b39d",
              "IPY_MODEL_3486186e53d04167bf127d62031d898d",
              "IPY_MODEL_135603dd44844c57b3686ae009f663c5"
            ],
            "layout": "IPY_MODEL_7b9ca182ecde4e59b7168d97ffd7638e"
          }
        },
        "fce071caeb4041b29bf59f1dae81b39d": {
          "model_module": "@jupyter-widgets/controls",
          "model_name": "HTMLModel",
          "model_module_version": "1.5.0",
          "state": {
            "_dom_classes": [],
            "_model_module": "@jupyter-widgets/controls",
            "_model_module_version": "1.5.0",
            "_model_name": "HTMLModel",
            "_view_count": null,
            "_view_module": "@jupyter-widgets/controls",
            "_view_module_version": "1.5.0",
            "_view_name": "HTMLView",
            "description": "",
            "description_tooltip": null,
            "layout": "IPY_MODEL_c0a53912ce7b420fb6f74a206d7c4ebd",
            "placeholder": "​",
            "style": "IPY_MODEL_b752eae57e06420ebed2b9b037daea5d",
            "value": "vocab.txt: 100%"
          }
        },
        "3486186e53d04167bf127d62031d898d": {
          "model_module": "@jupyter-widgets/controls",
          "model_name": "FloatProgressModel",
          "model_module_version": "1.5.0",
          "state": {
            "_dom_classes": [],
            "_model_module": "@jupyter-widgets/controls",
            "_model_module_version": "1.5.0",
            "_model_name": "FloatProgressModel",
            "_view_count": null,
            "_view_module": "@jupyter-widgets/controls",
            "_view_module_version": "1.5.0",
            "_view_name": "ProgressView",
            "bar_style": "success",
            "description": "",
            "description_tooltip": null,
            "layout": "IPY_MODEL_6d21aef4ba104dd387d17faeb3991f85",
            "max": 231508,
            "min": 0,
            "orientation": "horizontal",
            "style": "IPY_MODEL_d965fcb245834a22b21c0831bfa23e96",
            "value": 231508
          }
        },
        "135603dd44844c57b3686ae009f663c5": {
          "model_module": "@jupyter-widgets/controls",
          "model_name": "HTMLModel",
          "model_module_version": "1.5.0",
          "state": {
            "_dom_classes": [],
            "_model_module": "@jupyter-widgets/controls",
            "_model_module_version": "1.5.0",
            "_model_name": "HTMLModel",
            "_view_count": null,
            "_view_module": "@jupyter-widgets/controls",
            "_view_module_version": "1.5.0",
            "_view_name": "HTMLView",
            "description": "",
            "description_tooltip": null,
            "layout": "IPY_MODEL_9cf960729aab4bb2852db45a67531098",
            "placeholder": "​",
            "style": "IPY_MODEL_8b4260cfce7841baa2c4402ce528b2e3",
            "value": " 232k/232k [00:00&lt;00:00, 6.30MB/s]"
          }
        },
        "7b9ca182ecde4e59b7168d97ffd7638e": {
          "model_module": "@jupyter-widgets/base",
          "model_name": "LayoutModel",
          "model_module_version": "1.2.0",
          "state": {
            "_model_module": "@jupyter-widgets/base",
            "_model_module_version": "1.2.0",
            "_model_name": "LayoutModel",
            "_view_count": null,
            "_view_module": "@jupyter-widgets/base",
            "_view_module_version": "1.2.0",
            "_view_name": "LayoutView",
            "align_content": null,
            "align_items": null,
            "align_self": null,
            "border": null,
            "bottom": null,
            "display": null,
            "flex": null,
            "flex_flow": null,
            "grid_area": null,
            "grid_auto_columns": null,
            "grid_auto_flow": null,
            "grid_auto_rows": null,
            "grid_column": null,
            "grid_gap": null,
            "grid_row": null,
            "grid_template_areas": null,
            "grid_template_columns": null,
            "grid_template_rows": null,
            "height": null,
            "justify_content": null,
            "justify_items": null,
            "left": null,
            "margin": null,
            "max_height": null,
            "max_width": null,
            "min_height": null,
            "min_width": null,
            "object_fit": null,
            "object_position": null,
            "order": null,
            "overflow": null,
            "overflow_x": null,
            "overflow_y": null,
            "padding": null,
            "right": null,
            "top": null,
            "visibility": null,
            "width": null
          }
        },
        "c0a53912ce7b420fb6f74a206d7c4ebd": {
          "model_module": "@jupyter-widgets/base",
          "model_name": "LayoutModel",
          "model_module_version": "1.2.0",
          "state": {
            "_model_module": "@jupyter-widgets/base",
            "_model_module_version": "1.2.0",
            "_model_name": "LayoutModel",
            "_view_count": null,
            "_view_module": "@jupyter-widgets/base",
            "_view_module_version": "1.2.0",
            "_view_name": "LayoutView",
            "align_content": null,
            "align_items": null,
            "align_self": null,
            "border": null,
            "bottom": null,
            "display": null,
            "flex": null,
            "flex_flow": null,
            "grid_area": null,
            "grid_auto_columns": null,
            "grid_auto_flow": null,
            "grid_auto_rows": null,
            "grid_column": null,
            "grid_gap": null,
            "grid_row": null,
            "grid_template_areas": null,
            "grid_template_columns": null,
            "grid_template_rows": null,
            "height": null,
            "justify_content": null,
            "justify_items": null,
            "left": null,
            "margin": null,
            "max_height": null,
            "max_width": null,
            "min_height": null,
            "min_width": null,
            "object_fit": null,
            "object_position": null,
            "order": null,
            "overflow": null,
            "overflow_x": null,
            "overflow_y": null,
            "padding": null,
            "right": null,
            "top": null,
            "visibility": null,
            "width": null
          }
        },
        "b752eae57e06420ebed2b9b037daea5d": {
          "model_module": "@jupyter-widgets/controls",
          "model_name": "DescriptionStyleModel",
          "model_module_version": "1.5.0",
          "state": {
            "_model_module": "@jupyter-widgets/controls",
            "_model_module_version": "1.5.0",
            "_model_name": "DescriptionStyleModel",
            "_view_count": null,
            "_view_module": "@jupyter-widgets/base",
            "_view_module_version": "1.2.0",
            "_view_name": "StyleView",
            "description_width": ""
          }
        },
        "6d21aef4ba104dd387d17faeb3991f85": {
          "model_module": "@jupyter-widgets/base",
          "model_name": "LayoutModel",
          "model_module_version": "1.2.0",
          "state": {
            "_model_module": "@jupyter-widgets/base",
            "_model_module_version": "1.2.0",
            "_model_name": "LayoutModel",
            "_view_count": null,
            "_view_module": "@jupyter-widgets/base",
            "_view_module_version": "1.2.0",
            "_view_name": "LayoutView",
            "align_content": null,
            "align_items": null,
            "align_self": null,
            "border": null,
            "bottom": null,
            "display": null,
            "flex": null,
            "flex_flow": null,
            "grid_area": null,
            "grid_auto_columns": null,
            "grid_auto_flow": null,
            "grid_auto_rows": null,
            "grid_column": null,
            "grid_gap": null,
            "grid_row": null,
            "grid_template_areas": null,
            "grid_template_columns": null,
            "grid_template_rows": null,
            "height": null,
            "justify_content": null,
            "justify_items": null,
            "left": null,
            "margin": null,
            "max_height": null,
            "max_width": null,
            "min_height": null,
            "min_width": null,
            "object_fit": null,
            "object_position": null,
            "order": null,
            "overflow": null,
            "overflow_x": null,
            "overflow_y": null,
            "padding": null,
            "right": null,
            "top": null,
            "visibility": null,
            "width": null
          }
        },
        "d965fcb245834a22b21c0831bfa23e96": {
          "model_module": "@jupyter-widgets/controls",
          "model_name": "ProgressStyleModel",
          "model_module_version": "1.5.0",
          "state": {
            "_model_module": "@jupyter-widgets/controls",
            "_model_module_version": "1.5.0",
            "_model_name": "ProgressStyleModel",
            "_view_count": null,
            "_view_module": "@jupyter-widgets/base",
            "_view_module_version": "1.2.0",
            "_view_name": "StyleView",
            "bar_color": null,
            "description_width": ""
          }
        },
        "9cf960729aab4bb2852db45a67531098": {
          "model_module": "@jupyter-widgets/base",
          "model_name": "LayoutModel",
          "model_module_version": "1.2.0",
          "state": {
            "_model_module": "@jupyter-widgets/base",
            "_model_module_version": "1.2.0",
            "_model_name": "LayoutModel",
            "_view_count": null,
            "_view_module": "@jupyter-widgets/base",
            "_view_module_version": "1.2.0",
            "_view_name": "LayoutView",
            "align_content": null,
            "align_items": null,
            "align_self": null,
            "border": null,
            "bottom": null,
            "display": null,
            "flex": null,
            "flex_flow": null,
            "grid_area": null,
            "grid_auto_columns": null,
            "grid_auto_flow": null,
            "grid_auto_rows": null,
            "grid_column": null,
            "grid_gap": null,
            "grid_row": null,
            "grid_template_areas": null,
            "grid_template_columns": null,
            "grid_template_rows": null,
            "height": null,
            "justify_content": null,
            "justify_items": null,
            "left": null,
            "margin": null,
            "max_height": null,
            "max_width": null,
            "min_height": null,
            "min_width": null,
            "object_fit": null,
            "object_position": null,
            "order": null,
            "overflow": null,
            "overflow_x": null,
            "overflow_y": null,
            "padding": null,
            "right": null,
            "top": null,
            "visibility": null,
            "width": null
          }
        },
        "8b4260cfce7841baa2c4402ce528b2e3": {
          "model_module": "@jupyter-widgets/controls",
          "model_name": "DescriptionStyleModel",
          "model_module_version": "1.5.0",
          "state": {
            "_model_module": "@jupyter-widgets/controls",
            "_model_module_version": "1.5.0",
            "_model_name": "DescriptionStyleModel",
            "_view_count": null,
            "_view_module": "@jupyter-widgets/base",
            "_view_module_version": "1.2.0",
            "_view_name": "StyleView",
            "description_width": ""
          }
        },
        "e1fa2dfef8c840a49c3c68ce6985ce6e": {
          "model_module": "@jupyter-widgets/controls",
          "model_name": "HBoxModel",
          "model_module_version": "1.5.0",
          "state": {
            "_dom_classes": [],
            "_model_module": "@jupyter-widgets/controls",
            "_model_module_version": "1.5.0",
            "_model_name": "HBoxModel",
            "_view_count": null,
            "_view_module": "@jupyter-widgets/controls",
            "_view_module_version": "1.5.0",
            "_view_name": "HBoxView",
            "box_style": "",
            "children": [
              "IPY_MODEL_7f3f7f1f2b8943e8a5220128e1867c91",
              "IPY_MODEL_6d8204caf59d40bda55f581e1bb497f4",
              "IPY_MODEL_ce28b3ad36f2467d8f3ace3dd8d307b8"
            ],
            "layout": "IPY_MODEL_a15884b5d0f54afcb22f089bef5b3a30"
          }
        },
        "7f3f7f1f2b8943e8a5220128e1867c91": {
          "model_module": "@jupyter-widgets/controls",
          "model_name": "HTMLModel",
          "model_module_version": "1.5.0",
          "state": {
            "_dom_classes": [],
            "_model_module": "@jupyter-widgets/controls",
            "_model_module_version": "1.5.0",
            "_model_name": "HTMLModel",
            "_view_count": null,
            "_view_module": "@jupyter-widgets/controls",
            "_view_module_version": "1.5.0",
            "_view_name": "HTMLView",
            "description": "",
            "description_tooltip": null,
            "layout": "IPY_MODEL_dcb9c1a07bdf4b60b5b0abc92aee5c84",
            "placeholder": "​",
            "style": "IPY_MODEL_753b13e437304906b702800ead79516e",
            "value": "special_tokens_map.json: 100%"
          }
        },
        "6d8204caf59d40bda55f581e1bb497f4": {
          "model_module": "@jupyter-widgets/controls",
          "model_name": "FloatProgressModel",
          "model_module_version": "1.5.0",
          "state": {
            "_dom_classes": [],
            "_model_module": "@jupyter-widgets/controls",
            "_model_module_version": "1.5.0",
            "_model_name": "FloatProgressModel",
            "_view_count": null,
            "_view_module": "@jupyter-widgets/controls",
            "_view_module_version": "1.5.0",
            "_view_name": "ProgressView",
            "bar_style": "success",
            "description": "",
            "description_tooltip": null,
            "layout": "IPY_MODEL_27b9970f4cc645f5bfd2dbb0876852be",
            "max": 112,
            "min": 0,
            "orientation": "horizontal",
            "style": "IPY_MODEL_bcab36fd8c1f4567afabad86a0807b2c",
            "value": 112
          }
        },
        "ce28b3ad36f2467d8f3ace3dd8d307b8": {
          "model_module": "@jupyter-widgets/controls",
          "model_name": "HTMLModel",
          "model_module_version": "1.5.0",
          "state": {
            "_dom_classes": [],
            "_model_module": "@jupyter-widgets/controls",
            "_model_module_version": "1.5.0",
            "_model_name": "HTMLModel",
            "_view_count": null,
            "_view_module": "@jupyter-widgets/controls",
            "_view_module_version": "1.5.0",
            "_view_name": "HTMLView",
            "description": "",
            "description_tooltip": null,
            "layout": "IPY_MODEL_5ae9f5b546c74d49952b7395bad49b06",
            "placeholder": "​",
            "style": "IPY_MODEL_42543e70b9ad4a5cb14c038ca8c14e22",
            "value": " 112/112 [00:00&lt;00:00, 4.64kB/s]"
          }
        },
        "a15884b5d0f54afcb22f089bef5b3a30": {
          "model_module": "@jupyter-widgets/base",
          "model_name": "LayoutModel",
          "model_module_version": "1.2.0",
          "state": {
            "_model_module": "@jupyter-widgets/base",
            "_model_module_version": "1.2.0",
            "_model_name": "LayoutModel",
            "_view_count": null,
            "_view_module": "@jupyter-widgets/base",
            "_view_module_version": "1.2.0",
            "_view_name": "LayoutView",
            "align_content": null,
            "align_items": null,
            "align_self": null,
            "border": null,
            "bottom": null,
            "display": null,
            "flex": null,
            "flex_flow": null,
            "grid_area": null,
            "grid_auto_columns": null,
            "grid_auto_flow": null,
            "grid_auto_rows": null,
            "grid_column": null,
            "grid_gap": null,
            "grid_row": null,
            "grid_template_areas": null,
            "grid_template_columns": null,
            "grid_template_rows": null,
            "height": null,
            "justify_content": null,
            "justify_items": null,
            "left": null,
            "margin": null,
            "max_height": null,
            "max_width": null,
            "min_height": null,
            "min_width": null,
            "object_fit": null,
            "object_position": null,
            "order": null,
            "overflow": null,
            "overflow_x": null,
            "overflow_y": null,
            "padding": null,
            "right": null,
            "top": null,
            "visibility": null,
            "width": null
          }
        },
        "dcb9c1a07bdf4b60b5b0abc92aee5c84": {
          "model_module": "@jupyter-widgets/base",
          "model_name": "LayoutModel",
          "model_module_version": "1.2.0",
          "state": {
            "_model_module": "@jupyter-widgets/base",
            "_model_module_version": "1.2.0",
            "_model_name": "LayoutModel",
            "_view_count": null,
            "_view_module": "@jupyter-widgets/base",
            "_view_module_version": "1.2.0",
            "_view_name": "LayoutView",
            "align_content": null,
            "align_items": null,
            "align_self": null,
            "border": null,
            "bottom": null,
            "display": null,
            "flex": null,
            "flex_flow": null,
            "grid_area": null,
            "grid_auto_columns": null,
            "grid_auto_flow": null,
            "grid_auto_rows": null,
            "grid_column": null,
            "grid_gap": null,
            "grid_row": null,
            "grid_template_areas": null,
            "grid_template_columns": null,
            "grid_template_rows": null,
            "height": null,
            "justify_content": null,
            "justify_items": null,
            "left": null,
            "margin": null,
            "max_height": null,
            "max_width": null,
            "min_height": null,
            "min_width": null,
            "object_fit": null,
            "object_position": null,
            "order": null,
            "overflow": null,
            "overflow_x": null,
            "overflow_y": null,
            "padding": null,
            "right": null,
            "top": null,
            "visibility": null,
            "width": null
          }
        },
        "753b13e437304906b702800ead79516e": {
          "model_module": "@jupyter-widgets/controls",
          "model_name": "DescriptionStyleModel",
          "model_module_version": "1.5.0",
          "state": {
            "_model_module": "@jupyter-widgets/controls",
            "_model_module_version": "1.5.0",
            "_model_name": "DescriptionStyleModel",
            "_view_count": null,
            "_view_module": "@jupyter-widgets/base",
            "_view_module_version": "1.2.0",
            "_view_name": "StyleView",
            "description_width": ""
          }
        },
        "27b9970f4cc645f5bfd2dbb0876852be": {
          "model_module": "@jupyter-widgets/base",
          "model_name": "LayoutModel",
          "model_module_version": "1.2.0",
          "state": {
            "_model_module": "@jupyter-widgets/base",
            "_model_module_version": "1.2.0",
            "_model_name": "LayoutModel",
            "_view_count": null,
            "_view_module": "@jupyter-widgets/base",
            "_view_module_version": "1.2.0",
            "_view_name": "LayoutView",
            "align_content": null,
            "align_items": null,
            "align_self": null,
            "border": null,
            "bottom": null,
            "display": null,
            "flex": null,
            "flex_flow": null,
            "grid_area": null,
            "grid_auto_columns": null,
            "grid_auto_flow": null,
            "grid_auto_rows": null,
            "grid_column": null,
            "grid_gap": null,
            "grid_row": null,
            "grid_template_areas": null,
            "grid_template_columns": null,
            "grid_template_rows": null,
            "height": null,
            "justify_content": null,
            "justify_items": null,
            "left": null,
            "margin": null,
            "max_height": null,
            "max_width": null,
            "min_height": null,
            "min_width": null,
            "object_fit": null,
            "object_position": null,
            "order": null,
            "overflow": null,
            "overflow_x": null,
            "overflow_y": null,
            "padding": null,
            "right": null,
            "top": null,
            "visibility": null,
            "width": null
          }
        },
        "bcab36fd8c1f4567afabad86a0807b2c": {
          "model_module": "@jupyter-widgets/controls",
          "model_name": "ProgressStyleModel",
          "model_module_version": "1.5.0",
          "state": {
            "_model_module": "@jupyter-widgets/controls",
            "_model_module_version": "1.5.0",
            "_model_name": "ProgressStyleModel",
            "_view_count": null,
            "_view_module": "@jupyter-widgets/base",
            "_view_module_version": "1.2.0",
            "_view_name": "StyleView",
            "bar_color": null,
            "description_width": ""
          }
        },
        "5ae9f5b546c74d49952b7395bad49b06": {
          "model_module": "@jupyter-widgets/base",
          "model_name": "LayoutModel",
          "model_module_version": "1.2.0",
          "state": {
            "_model_module": "@jupyter-widgets/base",
            "_model_module_version": "1.2.0",
            "_model_name": "LayoutModel",
            "_view_count": null,
            "_view_module": "@jupyter-widgets/base",
            "_view_module_version": "1.2.0",
            "_view_name": "LayoutView",
            "align_content": null,
            "align_items": null,
            "align_self": null,
            "border": null,
            "bottom": null,
            "display": null,
            "flex": null,
            "flex_flow": null,
            "grid_area": null,
            "grid_auto_columns": null,
            "grid_auto_flow": null,
            "grid_auto_rows": null,
            "grid_column": null,
            "grid_gap": null,
            "grid_row": null,
            "grid_template_areas": null,
            "grid_template_columns": null,
            "grid_template_rows": null,
            "height": null,
            "justify_content": null,
            "justify_items": null,
            "left": null,
            "margin": null,
            "max_height": null,
            "max_width": null,
            "min_height": null,
            "min_width": null,
            "object_fit": null,
            "object_position": null,
            "order": null,
            "overflow": null,
            "overflow_x": null,
            "overflow_y": null,
            "padding": null,
            "right": null,
            "top": null,
            "visibility": null,
            "width": null
          }
        },
        "42543e70b9ad4a5cb14c038ca8c14e22": {
          "model_module": "@jupyter-widgets/controls",
          "model_name": "DescriptionStyleModel",
          "model_module_version": "1.5.0",
          "state": {
            "_model_module": "@jupyter-widgets/controls",
            "_model_module_version": "1.5.0",
            "_model_name": "DescriptionStyleModel",
            "_view_count": null,
            "_view_module": "@jupyter-widgets/base",
            "_view_module_version": "1.2.0",
            "_view_name": "StyleView",
            "description_width": ""
          }
        }
      }
    }
  },
  "cells": [
    {
      "cell_type": "markdown",
      "source": [
        "# Cross Encoder Reranker\n",
        "* Notebook by Adam Lang\n",
        "* Date: 3/26/2025\n",
        "\n",
        "# Overview\n",
        "* In this notebook we will implement a cross encoder reranker from SentenceTransformers for 2 stage retrieval.\n",
        "\n",
        "# Advanced RAG Techniques\n",
        "* We will use these advanced retrieval techniques:\n",
        "1. Query expansion\n",
        "2. Cross Encoder with Rerank\n",
        "3. LongContextReorder"
      ],
      "metadata": {
        "id": "pFZmQPkftDtp"
      }
    },
    {
      "cell_type": "markdown",
      "source": [
        "# Install Dependencies"
      ],
      "metadata": {
        "id": "-niLTP3ctJfq"
      }
    },
    {
      "cell_type": "code",
      "source": [
        "%%capture\n",
        "!pip install langchain-openai langchain langchain-chroma tiktoken umap-learn sentence-transformers matplotlib"
      ],
      "metadata": {
        "id": "ZYTPBAeBtPEu"
      },
      "execution_count": 2,
      "outputs": []
    },
    {
      "cell_type": "code",
      "source": [
        "%%capture\n",
        "!pip install langchain_community"
      ],
      "metadata": {
        "id": "VzybIF8CuO05"
      },
      "execution_count": 3,
      "outputs": []
    },
    {
      "cell_type": "code",
      "execution_count": 4,
      "metadata": {
        "id": "hNwJBg7Ws-fT"
      },
      "outputs": [],
      "source": [
        "from langchain_openai import OpenAIEmbeddings\n",
        "from langchain.text_splitter import RecursiveCharacterTextSplitter\n",
        "from langchain_community.document_loaders import TextLoader, DirectoryLoader\n",
        "from langchain_chroma import Chroma\n",
        "from dotenv import load_dotenv, find_dotenv\n",
        "import os"
      ]
    },
    {
      "cell_type": "markdown",
      "source": [
        "# Get Datasets\n",
        "* I am going to load 2 datasets using Pathlib"
      ],
      "metadata": {
        "id": "Qe9DGdoCuXki"
      }
    },
    {
      "cell_type": "code",
      "source": [
        "import requests\n",
        "from pathlib import Path\n",
        "\n",
        "## download if not exists already\n",
        "if Path(\"data1.txt\").is_file():\n",
        "  print(\"data1.txt already exists, skipping download....\")\n",
        "elif Path(\"data2.txt\").is_file():\n",
        "  print(\"data2.txt already exists skipping download...\")\n",
        "else:\n",
        "  print(\"Downloading 2 text files\")\n",
        "  ## 1. get raw github files\n",
        "  request_1 = requests.get(\"https://raw.githubusercontent.com/Coding-Crashkurse/Applied-Advanced-RAG/refs/heads/main/data1.txt\")\n",
        "  request_2 = requests.get(\"https://raw.githubusercontent.com/Coding-Crashkurse/Applied-Advanced-RAG/refs/heads/main/data2.txt\")\n",
        "  ## 2. Open files\n",
        "  with open(\"data1.txt\", \"wb\") as f:\n",
        "    f.write(request_1.content)\n",
        "  with open(\"data2.txt\", \"wb\") as f:\n",
        "    f.write(request_2.content)"
      ],
      "metadata": {
        "colab": {
          "base_uri": "https://localhost:8080/"
        },
        "id": "2ZAgB2zkuK1M",
        "outputId": "55e15afe-b2a3-48bc-c563-04ddffc9f93b"
      },
      "execution_count": 5,
      "outputs": [
        {
          "output_type": "stream",
          "name": "stdout",
          "text": [
            "data1.txt already exists, skipping download....\n"
          ]
        }
      ]
    },
    {
      "cell_type": "markdown",
      "source": [
        "# Directory Loader\n",
        "* Load docs into directory loader."
      ],
      "metadata": {
        "id": "93BvbDEtwJcH"
      }
    },
    {
      "cell_type": "code",
      "source": [
        "## set up loader\n",
        "loader = DirectoryLoader('./', glob=\"./*.txt\", loader_cls=TextLoader)\n",
        "docs = loader.load()"
      ],
      "metadata": {
        "id": "ak2od9NivWDI"
      },
      "execution_count": 6,
      "outputs": []
    },
    {
      "cell_type": "code",
      "source": [
        "## view docs\n",
        "docs"
      ],
      "metadata": {
        "colab": {
          "base_uri": "https://localhost:8080/"
        },
        "id": "Nlj7_IV3xi7S",
        "outputId": "e5f90436-f6a6-4586-b7c9-adf725d13846"
      },
      "execution_count": 7,
      "outputs": [
        {
          "output_type": "execute_result",
          "data": {
            "text/plain": [
              "[Document(metadata={'source': 'data2.txt'}, page_content=\"La Bella Vita offers a gastronomic journey through the rich landscapes of Italian cuisine, encapsulating the essence of Italy's culinary tradition. The restaurant's ambiance, reminiscent of a rustic Italian villa, sets the stage for an authentic dining experience.\\nThe chefs at La Bella Vita are masters of their craft, bringing generations of Italian cooking expertise to the table. The menu features a variety of regional specialties, showcasing the diversity of Italian cuisine. From the northern delicacies like risotto and polenta to the southern favorites like Neapolitan pizza and Sicilian seafood, each dish tells a story of its regional origin.\\nThe pasta selection is a highlight of the menu, featuring classics like lasagna, ravioli, and gnocchi, each prepared with homemade pasta and cooked to perfection. The sauces, ranging from rich and creamy to light and zesty, are made with the freshest ingredients, bringing out the authentic flavors of Italy.\\nThe meat and fish dishes are equally impressive, with offerings like osso buco, saltimbocca, and grilled branzino. These dishes are cooked with traditional methods, ensuring every bite is infused with the depth and richness of Italian culinary tradition.\\nLa Bella Vita also prides itself on its vegetarian and vegan options, catering to all dietary preferences. Dishes like eggplant parmigiana and mushroom risotto are crafted with the same attention to detail and flavor as their meat-based counterparts.\\nThe wine list at La Bella Vita is a carefully curated selection of Italian wines, ranging from well-known labels to hidden gems from small vineyards across Italy. The staff are knowledgeable and can recommend the perfect wine to complement each dish, enhancing the overall dining experience.\\nDesserts at La Bella Vita are a must-try, with a range of traditional Italian sweets. The cannoli, filled with sweet, creamy ricotta, and the affogato, a delightful blend of espresso and gelato, are perfect endings to an exquisite meal.\\nLa Bella Vita also offers a unique dining experience with its private dining rooms and catering services. Whether it's for a special occasion, a business meeting, or a family gathering, the restaurant provides a personalized service that makes every event memorable.\\nThe staff at La Bella Vita are the heart of the restaurant. Their passion for Italian cuisine and culture is evident in their attentive service and willingness to go above and beyond to ensure every guest has an enjoyable dining experience.\\nIn essence, La Bella Vita is not just a restaurant; it's a destination for those who appreciate the art of Italian cuisine. It's a place where food, culture, and passion come together, creating an unforgettable dining experience that keeps guests coming back for more.\"),\n",
              " Document(metadata={'source': 'data1.txt'}, page_content=\"Elmwood Banking & Trust has firmly established itself as a beacon of financial reliability and personalized service in its community. With a deep understanding of its customers' needs, Elmwood offers a plethora of financial products and services, ensuring every individual's and business's financial goals are met with precision and care.\\nThe bank's personal loan offerings are diverse, providing financial solutions for various life events. From home renovations to unexpected expenses, Elmwood's personal loans are structured with flexibility and competitive interest rates, making them accessible to a broad range of customers. For businesses, the bank offers commercial loans that are essential for growth and expansion. These loans are tailored to each business's unique needs, whether it's for upgrading equipment, expanding operations, or increasing working capital.\\nElmwood's wealth management services are a cornerstone of its offerings. The bank's financial advisors are skilled in crafting investment strategies that align with clients' long-term financial objectives. They offer guidance in portfolio management, retirement planning, and estate planning, ensuring clients' financial futures are secure.\\nFor those looking to buy or refinance a home, Elmwood's mortgage options are comprehensive. The bank's mortgage experts work closely with clients to find the best mortgage solutions, whether it's a fixed-rate, adjustable-rate, or a more specialized mortgage product. Their goal is to make the process of home financing as seamless and straightforward as possible, providing support and advice at every step.\\nElmwood Banking & Trust also places a high value on financial education. The bank regularly hosts workshops and seminars on various financial topics, from basic budgeting and savings strategies to more complex investment and tax planning concepts. These educational initiatives are part of Elmwood's commitment to empowering its customers with the knowledge to make informed financial decisions.\\nIn addition to its financial services, Elmwood is deeply ingrained in the community. The bank supports local charities, sponsors community events, and encourages its employees to volunteer, reflecting its commitment to making a positive impact in the community it serves. This community-centric approach is what truly distinguishes Elmwood Banking & Trust as more than just a financial institution, but a pillar of support and growth in its community.\")]"
            ]
          },
          "metadata": {},
          "execution_count": 7
        }
      ]
    },
    {
      "cell_type": "code",
      "source": [
        "## len of docs\n",
        "print(f\"Length of docs: {len(docs)}\")"
      ],
      "metadata": {
        "colab": {
          "base_uri": "https://localhost:8080/"
        },
        "id": "tIGs49KJyjE3",
        "outputId": "7faaed8e-9f09-411c-b357-fbbcd8a5f841"
      },
      "execution_count": 8,
      "outputs": [
        {
          "output_type": "stream",
          "name": "stdout",
          "text": [
            "Length of docs: 2\n"
          ]
        }
      ]
    },
    {
      "cell_type": "markdown",
      "source": [
        "# Text Splitting/Chunking\n",
        "* Now we will split and chunk the text before creating vector embeddings and storing then in a ChromaDB vector database."
      ],
      "metadata": {
        "id": "y4cIn_eXxuK8"
      }
    },
    {
      "cell_type": "code",
      "source": [
        "## init text splitter -- using default RecursiveCharacterTextSplitter\n",
        "text_splitter = RecursiveCharacterTextSplitter(\n",
        "    chunk_size=100,\n",
        "    chunk_overlap=10,\n",
        "    length_function=len,\n",
        ")\n",
        "chunked_docs = text_splitter.split_documents(documents=docs)\n",
        "doc_strings = [doc.page_content for doc in chunked_docs]"
      ],
      "metadata": {
        "id": "uk8WX1Aoxkzc"
      },
      "execution_count": 9,
      "outputs": []
    },
    {
      "cell_type": "markdown",
      "source": [
        "# Setup OpenAI Environments"
      ],
      "metadata": {
        "id": "593qU30py2kh"
      }
    },
    {
      "cell_type": "code",
      "source": [
        "import os\n",
        "from getpass import getpass\n",
        "\n",
        "OPENAI_API_KEY = getpass(\"Enter your OPEN AI API KEY: \")"
      ],
      "metadata": {
        "colab": {
          "base_uri": "https://localhost:8080/"
        },
        "id": "Lj4cnWEzy2ZU",
        "outputId": "b2e8b15b-e4fe-477e-f569-84f720f70b5e"
      },
      "execution_count": 10,
      "outputs": [
        {
          "name": "stdout",
          "output_type": "stream",
          "text": [
            "Enter your OPEN AI API KEY: ··········\n"
          ]
        }
      ]
    },
    {
      "cell_type": "code",
      "source": [
        "## set open ai env variable\n",
        "os.environ['OPENAI_API_KEY'] = OPENAI_API_KEY"
      ],
      "metadata": {
        "id": "XuX8a7dvy2Wc"
      },
      "execution_count": 11,
      "outputs": []
    },
    {
      "cell_type": "markdown",
      "source": [
        "# Embeddings\n",
        "* Now we can create embeddings.\n",
        "* We can use the OpenAI Embeddings."
      ],
      "metadata": {
        "id": "IQCyb3Apyvrn"
      }
    },
    {
      "cell_type": "code",
      "source": [
        "## 1. init embedding model\n",
        "embeddings = OpenAIEmbeddings(model=\"text-embedding-3-small\")\n",
        "\n",
        "## 2. create embeddings of documents\n",
        "vectors = embeddings.embed_documents(doc_strings)"
      ],
      "metadata": {
        "id": "F1apVDt0yvFN"
      },
      "execution_count": 12,
      "outputs": []
    },
    {
      "cell_type": "markdown",
      "source": [
        "# Chroma DB Vector database setup\n",
        "* Note about Chroma DB distance function: need to set distance function to cosine or uses default euclidean!"
      ],
      "metadata": {
        "id": "6ett5eIQzZtc"
      }
    },
    {
      "cell_type": "code",
      "source": [
        "# create vector DB of docs and embeddings\n",
        "chroma_db = Chroma.from_documents(documents=chunked_docs,\n",
        "                                  #collection_name='cross_encoder_data',\n",
        "                                  embedding=embeddings)\n",
        "                                  # need to set distance function to cosine or uses default euclidean!\n",
        "                                  #collection_metadata={'hnsw:space': 'cosine'},\n",
        "                                  #persist_directory=\"./cross_encoder_db\")\n",
        ""
      ],
      "metadata": {
        "id": "qMPFGVs10Jfh"
      },
      "execution_count": 54,
      "outputs": []
    },
    {
      "cell_type": "markdown",
      "source": [
        "Code below is to run if you have already created your embeddings --> indexed and inserted them in to ChromaDB."
      ],
      "metadata": {
        "id": "YrO9aMVz0urM"
      }
    },
    {
      "cell_type": "code",
      "source": [
        "# ## connect and load vector DB\n",
        "# chroma_db = Chroma(persist_directory=\"./cross_encoder_data\",\n",
        "#                    collection_name='cross_encoder_db',\n",
        "#                    embedding_function=embeddings)\n",
        ""
      ],
      "metadata": {
        "id": "m7nK8y-P0tWC"
      },
      "execution_count": 14,
      "outputs": []
    },
    {
      "cell_type": "markdown",
      "source": [
        "# Retriever Setup"
      ],
      "metadata": {
        "id": "SHEKLE971hcZ"
      }
    },
    {
      "cell_type": "code",
      "source": [
        "## similarity retriever\n",
        "retriever = chroma_db.as_retriever(search_kwargs={'k': 6})"
      ],
      "metadata": {
        "id": "MZokI2TK1MKg"
      },
      "execution_count": 55,
      "outputs": []
    },
    {
      "cell_type": "code",
      "source": [
        "## lets see how many docs are in the chroma db\n",
        "print(f\"Number of documents in Chroma DB: {chroma_db._collection.count()}\")\n"
      ],
      "metadata": {
        "colab": {
          "base_uri": "https://localhost:8080/"
        },
        "id": "cP8VbEHiE2J3",
        "outputId": "97940814-073e-4557-b72d-d02f14300c2c"
      },
      "execution_count": 56,
      "outputs": [
        {
          "output_type": "stream",
          "name": "stdout",
          "text": [
            "Number of documents in Chroma DB: 63\n"
          ]
        }
      ]
    },
    {
      "cell_type": "markdown",
      "source": [
        "## Test Chroma DB collection"
      ],
      "metadata": {
        "id": "dcMD5VSNFdV9"
      }
    },
    {
      "cell_type": "code",
      "source": [
        "#If the database is populated, let's test the retriever with a simple query:\n",
        "test_query = \"loans\"  # or any term you expect to be in your documents\n",
        "test_docs = retriever.get_relevant_documents(test_query)\n",
        "print(f\"Number of documents retrieved for test query '{test_query}': {len(test_docs)}\")\n",
        "if test_docs:\n",
        "    print(f\"First document snippet: {test_docs[0].page_content[:100]}...\")\n",
        "else:\n",
        "    print(\"No documents retrieved. This might indicate an issue with the retriever or the database.\")"
      ],
      "metadata": {
        "colab": {
          "base_uri": "https://localhost:8080/"
        },
        "id": "pfPBnzpYE2Gw",
        "outputId": "62a0af58-0236-45b8-9b7f-55ce51393bbd"
      },
      "execution_count": 57,
      "outputs": [
        {
          "output_type": "stream",
          "name": "stdout",
          "text": [
            "Number of documents retrieved for test query 'loans': 6\n",
            "First document snippet: growth and expansion. These loans are tailored to each business's unique needs, whether it's for...\n"
          ]
        }
      ]
    },
    {
      "cell_type": "markdown",
      "source": [
        "# Visualize/Evaluate Embeddings\n",
        "* We can use UMAP for dimensionality reduction to do this."
      ],
      "metadata": {
        "id": "EgwHranY12vq"
      }
    },
    {
      "cell_type": "code",
      "source": [
        "!pip install --upgrade umap-learn"
      ],
      "metadata": {
        "colab": {
          "base_uri": "https://localhost:8080/"
        },
        "id": "Xiq5WDLF3P3U",
        "outputId": "740b3f5b-4744-4baf-8768-a88f10715b0d"
      },
      "execution_count": 1,
      "outputs": [
        {
          "output_type": "stream",
          "name": "stdout",
          "text": [
            "Requirement already satisfied: umap-learn in /usr/local/lib/python3.11/dist-packages (0.5.7)\n",
            "Requirement already satisfied: numpy>=1.17 in /usr/local/lib/python3.11/dist-packages (from umap-learn) (1.26.4)\n",
            "Requirement already satisfied: scipy>=1.3.1 in /usr/local/lib/python3.11/dist-packages (from umap-learn) (1.14.1)\n",
            "Requirement already satisfied: scikit-learn>=0.22 in /usr/local/lib/python3.11/dist-packages (from umap-learn) (1.6.1)\n",
            "Requirement already satisfied: numba>=0.51.2 in /usr/local/lib/python3.11/dist-packages (from umap-learn) (0.60.0)\n",
            "Requirement already satisfied: pynndescent>=0.5 in /usr/local/lib/python3.11/dist-packages (from umap-learn) (0.5.13)\n",
            "Requirement already satisfied: tqdm in /usr/local/lib/python3.11/dist-packages (from umap-learn) (4.67.1)\n",
            "Requirement already satisfied: llvmlite<0.44,>=0.43.0dev0 in /usr/local/lib/python3.11/dist-packages (from numba>=0.51.2->umap-learn) (0.43.0)\n",
            "Requirement already satisfied: joblib>=0.11 in /usr/local/lib/python3.11/dist-packages (from pynndescent>=0.5->umap-learn) (1.4.2)\n",
            "Requirement already satisfied: threadpoolctl>=3.1.0 in /usr/local/lib/python3.11/dist-packages (from scikit-learn>=0.22->umap-learn) (3.6.0)\n"
          ]
        }
      ]
    },
    {
      "cell_type": "code",
      "source": [
        "import umap\n",
        "import numpy as np\n",
        "from tqdm import tqdm\n",
        "\n",
        "## setup umap model -- random state to prevent variance\n",
        "umap_transformer = umap.UMAP(random_state=42,\n",
        "                       transform_seed=42).fit(vectors)"
      ],
      "metadata": {
        "colab": {
          "base_uri": "https://localhost:8080/"
        },
        "id": "B8BstZ5o1zVq",
        "outputId": "b2f2ea18-1723-4bce-ae32-a7627a22de13"
      },
      "execution_count": 58,
      "outputs": [
        {
          "output_type": "stream",
          "name": "stderr",
          "text": [
            "/usr/local/lib/python3.11/dist-packages/sklearn/utils/deprecation.py:151: FutureWarning: 'force_all_finite' was renamed to 'ensure_all_finite' in 1.6 and will be removed in 1.8.\n",
            "  warnings.warn(\n",
            "/usr/local/lib/python3.11/dist-packages/umap/umap_.py:1952: UserWarning: n_jobs value 1 overridden to 1 by setting random_state. Use no seed for parallelism.\n",
            "  warn(\n"
          ]
        }
      ]
    },
    {
      "cell_type": "markdown",
      "source": [
        "## UMAP 2-D embeddings"
      ],
      "metadata": {
        "id": "kbsIHzGb3lMa"
      }
    },
    {
      "cell_type": "code",
      "source": [
        "## function to create 2-D embeddings\n",
        "def umap_embed(vectors, umap_transformer):\n",
        "  \"\"\"\n",
        "  Function to create umap 2-D embeddings.\n",
        "  \"\"\"\n",
        "  umap_embeddings = np.array([umap_transformer.transform([vector])[0] for vector in tqdm(vectors)])\n",
        "  return umap_embeddings"
      ],
      "metadata": {
        "id": "ysf8SgGu2Nap"
      },
      "execution_count": 59,
      "outputs": []
    },
    {
      "cell_type": "code",
      "source": [
        "## create global embeddings\n",
        "global_embeddings = umap_embed(vectors, umap_transformer)\n",
        "global_embeddings"
      ],
      "metadata": {
        "colab": {
          "base_uri": "https://localhost:8080/"
        },
        "id": "sF5pA-sH4J7a",
        "outputId": "d5adfe0f-2507-4168-ad75-1a7739e3fc0d"
      },
      "execution_count": 60,
      "outputs": [
        {
          "output_type": "stream",
          "name": "stderr",
          "text": [
            "  0%|          | 0/63 [00:00<?, ?it/s]/usr/local/lib/python3.11/dist-packages/sklearn/utils/deprecation.py:151: FutureWarning: 'force_all_finite' was renamed to 'ensure_all_finite' in 1.6 and will be removed in 1.8.\n",
            "  warnings.warn(\n",
            "/usr/local/lib/python3.11/dist-packages/sklearn/utils/deprecation.py:151: FutureWarning: 'force_all_finite' was renamed to 'ensure_all_finite' in 1.6 and will be removed in 1.8.\n",
            "  warnings.warn(\n",
            "/usr/local/lib/python3.11/dist-packages/sklearn/utils/deprecation.py:151: FutureWarning: 'force_all_finite' was renamed to 'ensure_all_finite' in 1.6 and will be removed in 1.8.\n",
            "  warnings.warn(\n",
            "/usr/local/lib/python3.11/dist-packages/sklearn/utils/deprecation.py:151: FutureWarning: 'force_all_finite' was renamed to 'ensure_all_finite' in 1.6 and will be removed in 1.8.\n",
            "  warnings.warn(\n",
            "/usr/local/lib/python3.11/dist-packages/sklearn/utils/deprecation.py:151: FutureWarning: 'force_all_finite' was renamed to 'ensure_all_finite' in 1.6 and will be removed in 1.8.\n",
            "  warnings.warn(\n",
            "/usr/local/lib/python3.11/dist-packages/sklearn/utils/deprecation.py:151: FutureWarning: 'force_all_finite' was renamed to 'ensure_all_finite' in 1.6 and will be removed in 1.8.\n",
            "  warnings.warn(\n",
            "/usr/local/lib/python3.11/dist-packages/sklearn/utils/deprecation.py:151: FutureWarning: 'force_all_finite' was renamed to 'ensure_all_finite' in 1.6 and will be removed in 1.8.\n",
            "  warnings.warn(\n",
            "/usr/local/lib/python3.11/dist-packages/sklearn/utils/deprecation.py:151: FutureWarning: 'force_all_finite' was renamed to 'ensure_all_finite' in 1.6 and will be removed in 1.8.\n",
            "  warnings.warn(\n",
            "/usr/local/lib/python3.11/dist-packages/sklearn/utils/deprecation.py:151: FutureWarning: 'force_all_finite' was renamed to 'ensure_all_finite' in 1.6 and will be removed in 1.8.\n",
            "  warnings.warn(\n",
            "/usr/local/lib/python3.11/dist-packages/sklearn/utils/deprecation.py:151: FutureWarning: 'force_all_finite' was renamed to 'ensure_all_finite' in 1.6 and will be removed in 1.8.\n",
            "  warnings.warn(\n",
            "/usr/local/lib/python3.11/dist-packages/sklearn/utils/deprecation.py:151: FutureWarning: 'force_all_finite' was renamed to 'ensure_all_finite' in 1.6 and will be removed in 1.8.\n",
            "  warnings.warn(\n",
            "/usr/local/lib/python3.11/dist-packages/sklearn/utils/deprecation.py:151: FutureWarning: 'force_all_finite' was renamed to 'ensure_all_finite' in 1.6 and will be removed in 1.8.\n",
            "  warnings.warn(\n",
            "/usr/local/lib/python3.11/dist-packages/sklearn/utils/deprecation.py:151: FutureWarning: 'force_all_finite' was renamed to 'ensure_all_finite' in 1.6 and will be removed in 1.8.\n",
            "  warnings.warn(\n",
            "/usr/local/lib/python3.11/dist-packages/sklearn/utils/deprecation.py:151: FutureWarning: 'force_all_finite' was renamed to 'ensure_all_finite' in 1.6 and will be removed in 1.8.\n",
            "  warnings.warn(\n",
            "/usr/local/lib/python3.11/dist-packages/sklearn/utils/deprecation.py:151: FutureWarning: 'force_all_finite' was renamed to 'ensure_all_finite' in 1.6 and will be removed in 1.8.\n",
            "  warnings.warn(\n",
            "/usr/local/lib/python3.11/dist-packages/sklearn/utils/deprecation.py:151: FutureWarning: 'force_all_finite' was renamed to 'ensure_all_finite' in 1.6 and will be removed in 1.8.\n",
            "  warnings.warn(\n",
            "/usr/local/lib/python3.11/dist-packages/sklearn/utils/deprecation.py:151: FutureWarning: 'force_all_finite' was renamed to 'ensure_all_finite' in 1.6 and will be removed in 1.8.\n",
            "  warnings.warn(\n",
            "/usr/local/lib/python3.11/dist-packages/sklearn/utils/deprecation.py:151: FutureWarning: 'force_all_finite' was renamed to 'ensure_all_finite' in 1.6 and will be removed in 1.8.\n",
            "  warnings.warn(\n",
            "/usr/local/lib/python3.11/dist-packages/sklearn/utils/deprecation.py:151: FutureWarning: 'force_all_finite' was renamed to 'ensure_all_finite' in 1.6 and will be removed in 1.8.\n",
            "  warnings.warn(\n",
            "/usr/local/lib/python3.11/dist-packages/sklearn/utils/deprecation.py:151: FutureWarning: 'force_all_finite' was renamed to 'ensure_all_finite' in 1.6 and will be removed in 1.8.\n",
            "  warnings.warn(\n",
            "/usr/local/lib/python3.11/dist-packages/sklearn/utils/deprecation.py:151: FutureWarning: 'force_all_finite' was renamed to 'ensure_all_finite' in 1.6 and will be removed in 1.8.\n",
            "  warnings.warn(\n",
            "/usr/local/lib/python3.11/dist-packages/sklearn/utils/deprecation.py:151: FutureWarning: 'force_all_finite' was renamed to 'ensure_all_finite' in 1.6 and will be removed in 1.8.\n",
            "  warnings.warn(\n",
            "/usr/local/lib/python3.11/dist-packages/sklearn/utils/deprecation.py:151: FutureWarning: 'force_all_finite' was renamed to 'ensure_all_finite' in 1.6 and will be removed in 1.8.\n",
            "  warnings.warn(\n",
            "/usr/local/lib/python3.11/dist-packages/sklearn/utils/deprecation.py:151: FutureWarning: 'force_all_finite' was renamed to 'ensure_all_finite' in 1.6 and will be removed in 1.8.\n",
            "  warnings.warn(\n",
            "/usr/local/lib/python3.11/dist-packages/sklearn/utils/deprecation.py:151: FutureWarning: 'force_all_finite' was renamed to 'ensure_all_finite' in 1.6 and will be removed in 1.8.\n",
            "  warnings.warn(\n",
            "/usr/local/lib/python3.11/dist-packages/sklearn/utils/deprecation.py:151: FutureWarning: 'force_all_finite' was renamed to 'ensure_all_finite' in 1.6 and will be removed in 1.8.\n",
            "  warnings.warn(\n",
            "/usr/local/lib/python3.11/dist-packages/sklearn/utils/deprecation.py:151: FutureWarning: 'force_all_finite' was renamed to 'ensure_all_finite' in 1.6 and will be removed in 1.8.\n",
            "  warnings.warn(\n",
            "/usr/local/lib/python3.11/dist-packages/sklearn/utils/deprecation.py:151: FutureWarning: 'force_all_finite' was renamed to 'ensure_all_finite' in 1.6 and will be removed in 1.8.\n",
            "  warnings.warn(\n",
            "/usr/local/lib/python3.11/dist-packages/sklearn/utils/deprecation.py:151: FutureWarning: 'force_all_finite' was renamed to 'ensure_all_finite' in 1.6 and will be removed in 1.8.\n",
            "  warnings.warn(\n",
            "/usr/local/lib/python3.11/dist-packages/sklearn/utils/deprecation.py:151: FutureWarning: 'force_all_finite' was renamed to 'ensure_all_finite' in 1.6 and will be removed in 1.8.\n",
            "  warnings.warn(\n",
            "/usr/local/lib/python3.11/dist-packages/sklearn/utils/deprecation.py:151: FutureWarning: 'force_all_finite' was renamed to 'ensure_all_finite' in 1.6 and will be removed in 1.8.\n",
            "  warnings.warn(\n",
            "/usr/local/lib/python3.11/dist-packages/sklearn/utils/deprecation.py:151: FutureWarning: 'force_all_finite' was renamed to 'ensure_all_finite' in 1.6 and will be removed in 1.8.\n",
            "  warnings.warn(\n",
            "/usr/local/lib/python3.11/dist-packages/sklearn/utils/deprecation.py:151: FutureWarning: 'force_all_finite' was renamed to 'ensure_all_finite' in 1.6 and will be removed in 1.8.\n",
            "  warnings.warn(\n",
            "/usr/local/lib/python3.11/dist-packages/sklearn/utils/deprecation.py:151: FutureWarning: 'force_all_finite' was renamed to 'ensure_all_finite' in 1.6 and will be removed in 1.8.\n",
            "  warnings.warn(\n",
            " 54%|█████▍    | 34/63 [00:00<00:00, 339.62it/s]/usr/local/lib/python3.11/dist-packages/sklearn/utils/deprecation.py:151: FutureWarning: 'force_all_finite' was renamed to 'ensure_all_finite' in 1.6 and will be removed in 1.8.\n",
            "  warnings.warn(\n",
            "/usr/local/lib/python3.11/dist-packages/sklearn/utils/deprecation.py:151: FutureWarning: 'force_all_finite' was renamed to 'ensure_all_finite' in 1.6 and will be removed in 1.8.\n",
            "  warnings.warn(\n",
            "/usr/local/lib/python3.11/dist-packages/sklearn/utils/deprecation.py:151: FutureWarning: 'force_all_finite' was renamed to 'ensure_all_finite' in 1.6 and will be removed in 1.8.\n",
            "  warnings.warn(\n",
            "/usr/local/lib/python3.11/dist-packages/sklearn/utils/deprecation.py:151: FutureWarning: 'force_all_finite' was renamed to 'ensure_all_finite' in 1.6 and will be removed in 1.8.\n",
            "  warnings.warn(\n",
            "/usr/local/lib/python3.11/dist-packages/sklearn/utils/deprecation.py:151: FutureWarning: 'force_all_finite' was renamed to 'ensure_all_finite' in 1.6 and will be removed in 1.8.\n",
            "  warnings.warn(\n",
            "/usr/local/lib/python3.11/dist-packages/sklearn/utils/deprecation.py:151: FutureWarning: 'force_all_finite' was renamed to 'ensure_all_finite' in 1.6 and will be removed in 1.8.\n",
            "  warnings.warn(\n",
            "/usr/local/lib/python3.11/dist-packages/sklearn/utils/deprecation.py:151: FutureWarning: 'force_all_finite' was renamed to 'ensure_all_finite' in 1.6 and will be removed in 1.8.\n",
            "  warnings.warn(\n",
            "/usr/local/lib/python3.11/dist-packages/sklearn/utils/deprecation.py:151: FutureWarning: 'force_all_finite' was renamed to 'ensure_all_finite' in 1.6 and will be removed in 1.8.\n",
            "  warnings.warn(\n",
            "/usr/local/lib/python3.11/dist-packages/sklearn/utils/deprecation.py:151: FutureWarning: 'force_all_finite' was renamed to 'ensure_all_finite' in 1.6 and will be removed in 1.8.\n",
            "  warnings.warn(\n",
            "/usr/local/lib/python3.11/dist-packages/sklearn/utils/deprecation.py:151: FutureWarning: 'force_all_finite' was renamed to 'ensure_all_finite' in 1.6 and will be removed in 1.8.\n",
            "  warnings.warn(\n",
            "/usr/local/lib/python3.11/dist-packages/sklearn/utils/deprecation.py:151: FutureWarning: 'force_all_finite' was renamed to 'ensure_all_finite' in 1.6 and will be removed in 1.8.\n",
            "  warnings.warn(\n",
            "/usr/local/lib/python3.11/dist-packages/sklearn/utils/deprecation.py:151: FutureWarning: 'force_all_finite' was renamed to 'ensure_all_finite' in 1.6 and will be removed in 1.8.\n",
            "  warnings.warn(\n",
            "/usr/local/lib/python3.11/dist-packages/sklearn/utils/deprecation.py:151: FutureWarning: 'force_all_finite' was renamed to 'ensure_all_finite' in 1.6 and will be removed in 1.8.\n",
            "  warnings.warn(\n",
            "/usr/local/lib/python3.11/dist-packages/sklearn/utils/deprecation.py:151: FutureWarning: 'force_all_finite' was renamed to 'ensure_all_finite' in 1.6 and will be removed in 1.8.\n",
            "  warnings.warn(\n",
            "/usr/local/lib/python3.11/dist-packages/sklearn/utils/deprecation.py:151: FutureWarning: 'force_all_finite' was renamed to 'ensure_all_finite' in 1.6 and will be removed in 1.8.\n",
            "  warnings.warn(\n",
            "/usr/local/lib/python3.11/dist-packages/sklearn/utils/deprecation.py:151: FutureWarning: 'force_all_finite' was renamed to 'ensure_all_finite' in 1.6 and will be removed in 1.8.\n",
            "  warnings.warn(\n",
            "/usr/local/lib/python3.11/dist-packages/sklearn/utils/deprecation.py:151: FutureWarning: 'force_all_finite' was renamed to 'ensure_all_finite' in 1.6 and will be removed in 1.8.\n",
            "  warnings.warn(\n",
            "/usr/local/lib/python3.11/dist-packages/sklearn/utils/deprecation.py:151: FutureWarning: 'force_all_finite' was renamed to 'ensure_all_finite' in 1.6 and will be removed in 1.8.\n",
            "  warnings.warn(\n",
            "/usr/local/lib/python3.11/dist-packages/sklearn/utils/deprecation.py:151: FutureWarning: 'force_all_finite' was renamed to 'ensure_all_finite' in 1.6 and will be removed in 1.8.\n",
            "  warnings.warn(\n",
            "/usr/local/lib/python3.11/dist-packages/sklearn/utils/deprecation.py:151: FutureWarning: 'force_all_finite' was renamed to 'ensure_all_finite' in 1.6 and will be removed in 1.8.\n",
            "  warnings.warn(\n",
            "/usr/local/lib/python3.11/dist-packages/sklearn/utils/deprecation.py:151: FutureWarning: 'force_all_finite' was renamed to 'ensure_all_finite' in 1.6 and will be removed in 1.8.\n",
            "  warnings.warn(\n",
            "/usr/local/lib/python3.11/dist-packages/sklearn/utils/deprecation.py:151: FutureWarning: 'force_all_finite' was renamed to 'ensure_all_finite' in 1.6 and will be removed in 1.8.\n",
            "  warnings.warn(\n",
            "/usr/local/lib/python3.11/dist-packages/sklearn/utils/deprecation.py:151: FutureWarning: 'force_all_finite' was renamed to 'ensure_all_finite' in 1.6 and will be removed in 1.8.\n",
            "  warnings.warn(\n",
            "/usr/local/lib/python3.11/dist-packages/sklearn/utils/deprecation.py:151: FutureWarning: 'force_all_finite' was renamed to 'ensure_all_finite' in 1.6 and will be removed in 1.8.\n",
            "  warnings.warn(\n",
            "/usr/local/lib/python3.11/dist-packages/sklearn/utils/deprecation.py:151: FutureWarning: 'force_all_finite' was renamed to 'ensure_all_finite' in 1.6 and will be removed in 1.8.\n",
            "  warnings.warn(\n",
            "/usr/local/lib/python3.11/dist-packages/sklearn/utils/deprecation.py:151: FutureWarning: 'force_all_finite' was renamed to 'ensure_all_finite' in 1.6 and will be removed in 1.8.\n",
            "  warnings.warn(\n",
            "/usr/local/lib/python3.11/dist-packages/sklearn/utils/deprecation.py:151: FutureWarning: 'force_all_finite' was renamed to 'ensure_all_finite' in 1.6 and will be removed in 1.8.\n",
            "  warnings.warn(\n",
            "/usr/local/lib/python3.11/dist-packages/sklearn/utils/deprecation.py:151: FutureWarning: 'force_all_finite' was renamed to 'ensure_all_finite' in 1.6 and will be removed in 1.8.\n",
            "  warnings.warn(\n",
            "/usr/local/lib/python3.11/dist-packages/sklearn/utils/deprecation.py:151: FutureWarning: 'force_all_finite' was renamed to 'ensure_all_finite' in 1.6 and will be removed in 1.8.\n",
            "  warnings.warn(\n",
            "100%|██████████| 63/63 [00:00<00:00, 350.32it/s]\n"
          ]
        },
        {
          "output_type": "execute_result",
          "data": {
            "text/plain": [
              "array([[  2.9818661 ,   6.75496   ],\n",
              "       [  2.5337164 ,   5.224897  ],\n",
              "       [  2.3525417 ,   5.153891  ],\n",
              "       [  2.9306765 ,   5.6290755 ],\n",
              "       [  0.06753659,   7.4727817 ],\n",
              "       [ -0.03394433,   7.566425  ],\n",
              "       [  0.06731142,   7.076279  ],\n",
              "       [ -0.2131629 ,   6.856114  ],\n",
              "       [  1.9049013 ,   7.932933  ],\n",
              "       [  1.7974608 ,   8.072239  ],\n",
              "       [  3.2798593 ,   5.8210974 ],\n",
              "       [  0.06941492,   6.420033  ],\n",
              "       [  1.5960119 ,   8.219105  ],\n",
              "       [  0.2277978 ,   8.063303  ],\n",
              "       [  2.381305  ,   7.6519623 ],\n",
              "       [  0.03775964,   6.1825643 ],\n",
              "       [  0.5790033 ,   8.381939  ],\n",
              "       [  0.19016473,   7.977628  ],\n",
              "       [  2.9608233 ,   5.49673   ],\n",
              "       [  0.1810786 ,   5.8743925 ],\n",
              "       [  3.0440426 ,   7.1045756 ],\n",
              "       [  0.36769432,   5.568306  ],\n",
              "       [  2.7850888 ,   6.9820046 ],\n",
              "       [  1.9984472 ,   7.6789217 ],\n",
              "       [  2.4743867 ,   7.6599364 ],\n",
              "       [  3.001254  ,   5.451304  ],\n",
              "       [  1.276011  ,   4.254037  ],\n",
              "       [  1.6249491 ,   4.3186655 ],\n",
              "       [  2.7713    ,   5.4043994 ],\n",
              "       [  0.10180261,   4.945943  ],\n",
              "       [  0.2507321 ,   5.3230305 ],\n",
              "       [  2.8347383 ,   5.402596  ],\n",
              "       [  0.20160241,   6.0171084 ],\n",
              "       [  1.7867066 ,   4.5947866 ],\n",
              "       [ -7.456329  ,   7.0024757 ],\n",
              "       [ -6.02279   ,   5.7048035 ],\n",
              "       [ -7.4473724 ,   7.098017  ],\n",
              "       [ -9.795124  ,   5.20186   ],\n",
              "       [ -7.536538  ,   4.977838  ],\n",
              "       [ -7.446012  ,   5.123871  ],\n",
              "       [ -9.531374  ,   4.8435903 ],\n",
              "       [ -7.854784  ,   4.620241  ],\n",
              "       [ -7.971162  ,   4.4801054 ],\n",
              "       [ -9.146097  ,   4.4944425 ],\n",
              "       [ -7.418413  ,   7.052401  ],\n",
              "       [-10.044771  ,   6.027586  ],\n",
              "       [ -9.692242  ,   6.8162436 ],\n",
              "       [ -9.336775  ,   6.940448  ],\n",
              "       [ -7.3891573 ,   7.023661  ],\n",
              "       [ -8.639504  ,   6.8838234 ],\n",
              "       [ -9.212089  ,   4.688949  ],\n",
              "       [ -7.8207493 ,   4.6717095 ],\n",
              "       [ -8.930592  ,   7.0862556 ],\n",
              "       [ -7.778205  ,   6.9743433 ],\n",
              "       [ -8.719265  ,   6.960222  ],\n",
              "       [-10.24483   ,   5.9536986 ],\n",
              "       [ -6.935006  ,   6.8843884 ],\n",
              "       [-10.107992  ,   5.7607975 ],\n",
              "       [ -7.005556  ,   5.1595383 ],\n",
              "       [ -6.7027516 ,   5.231294  ],\n",
              "       [ -6.1603904 ,   5.5717225 ],\n",
              "       [ -6.861424  ,   6.8408732 ],\n",
              "       [ -6.9977846 ,   5.0867968 ]], dtype=float32)"
            ]
          },
          "metadata": {},
          "execution_count": 60
        }
      ]
    },
    {
      "cell_type": "code",
      "source": [
        "import matplotlib.pyplot as plt\n",
        "\n",
        "plt.figure()\n",
        "plt.scatter(global_embeddings[:, 0], global_embeddings[:, 1], s=10)\n",
        "plt.gca().set_aspect('equal', 'datalim')\n",
        "plt.title(\"Embeddings 2-D UMAP plot\")\n",
        "plt.axis()"
      ],
      "metadata": {
        "colab": {
          "base_uri": "https://localhost:8080/",
          "height": 469
        },
        "id": "WrYKyUHRDv13",
        "outputId": "287f5417-95d6-4306-fa06-d622f1c2b179"
      },
      "execution_count": 62,
      "outputs": [
        {
          "output_type": "execute_result",
          "data": {
            "text/plain": [
              "(-10.921064603328706, 3.9560937762260435, 4.047641801834106, 8.588334035873412)"
            ]
          },
          "metadata": {},
          "execution_count": 62
        },
        {
          "output_type": "display_data",
          "data": {
            "text/plain": [
              "<Figure size 640x480 with 1 Axes>"
            ],
            "image/png": "[encoded data removed]"
          },
          "metadata": {}
        }
      ]
    },
    {
      "cell_type": "markdown",
      "source": [
        "Summary\n",
        "* The purpose of this dimensionality reduction was to see the similarites vs. differences in our embeddings.\n",
        "* We have 2 different datasets that we embedded: Bank text, Restaurant text.\n",
        "* And as we can see there are 2 unique clusters in very different vector spaces."
      ],
      "metadata": {
        "id": "h7hCdDHT5HqJ"
      }
    },
    {
      "cell_type": "code",
      "source": [
        "def calc_global_embeddings(query, embeddings, retriever, umap_transformer, embed_function, global_embeddings):\n",
        "    q_embedding = embeddings.embed_query(query)\n",
        "\n",
        "    docs = retriever.get_relevant_documents(query)\n",
        "    page_contents = [doc.page_content for doc in docs]\n",
        "    vectors_content_vectors = embeddings.embed_documents(page_contents)\n",
        "\n",
        "    query_embeddings = embed_function([q_embedding], umap_transformer)\n",
        "    retrieved_embeddings = embed_function(vectors_content_vectors, umap_transformer)\n",
        "\n",
        "    plt.figure()\n",
        "    plt.scatter(global_embeddings[:, 0], global_embeddings[:, 1], s=10, color='gray')\n",
        "    plt.scatter(query_embeddings[:, 0], query_embeddings[:, 1], s=150, marker='X', color='r')\n",
        "    plt.scatter(retrieved_embeddings[:, 0], retrieved_embeddings[:, 1], s=50, facecolors='none', edgecolors='g')\n",
        "    plt.gca().set_aspect('equal', 'datalim')\n",
        "    plt.title(f'{query}')\n",
        "    plt.axis('off')\n",
        "    plt.show()\n"
      ],
      "metadata": {
        "id": "FYIJj86BFnys"
      },
      "execution_count": 63,
      "outputs": []
    },
    {
      "cell_type": "code",
      "source": [
        "def calc_global_embeddings(query, embeddings, retriever, umap_transformer, embed_function, global_embeddings):\n",
        "    q_embedding = embeddings.embed_query(query)\n",
        "\n",
        "    docs = retriever.get_relevant_documents(query)\n",
        "    page_contents = [doc.page_content for doc in docs]\n",
        "    vectors_content_vectors = embeddings.embed_documents(page_contents)\n",
        "\n",
        "    query_embeddings = embed_function([q_embedding], umap_transformer)\n",
        "    retrieved_embeddings = embed_function(vectors_content_vectors, umap_transformer)\n",
        "\n",
        "    plt.figure()\n",
        "    plt.scatter(global_embeddings[:, 0], global_embeddings[:, 1], s=10, color='gray')\n",
        "    plt.scatter(query_embeddings[:, 0], query_embeddings[:, 1], s=150, marker='X', color='r')\n",
        "    plt.scatter(retrieved_embeddings[:, 0], retrieved_embeddings[:, 1], s=50, facecolors='none', edgecolors='g')\n",
        "    plt.gca().set_aspect('equal', 'datalim')\n",
        "    plt.title(f'{query}')\n",
        "    plt.axis()\n",
        "    plt.show()"
      ],
      "metadata": {
        "id": "xpxA__V0F5O2"
      },
      "execution_count": 69,
      "outputs": []
    },
    {
      "cell_type": "code",
      "source": [
        "calc_global_embeddings(\"What loan do you offer?\", embeddings, retriever, umap_transformer, umap_embed, global_embeddings)"
      ],
      "metadata": {
        "colab": {
          "base_uri": "https://localhost:8080/",
          "height": 750
        },
        "id": "QZy5niEaDC7I",
        "outputId": "9e05f70f-8cf2-4c71-f833-6181a8f1a80b"
      },
      "execution_count": 70,
      "outputs": [
        {
          "output_type": "stream",
          "name": "stderr",
          "text": [
            "  0%|          | 0/1 [00:00<?, ?it/s]/usr/local/lib/python3.11/dist-packages/sklearn/utils/deprecation.py:151: FutureWarning: 'force_all_finite' was renamed to 'ensure_all_finite' in 1.6 and will be removed in 1.8.\n",
            "  warnings.warn(\n",
            "100%|██████████| 1/1 [00:00<00:00, 66.09it/s]\n",
            "  0%|          | 0/6 [00:00<?, ?it/s]/usr/local/lib/python3.11/dist-packages/sklearn/utils/deprecation.py:151: FutureWarning: 'force_all_finite' was renamed to 'ensure_all_finite' in 1.6 and will be removed in 1.8.\n",
            "  warnings.warn(\n",
            "/usr/local/lib/python3.11/dist-packages/sklearn/utils/deprecation.py:151: FutureWarning: 'force_all_finite' was renamed to 'ensure_all_finite' in 1.6 and will be removed in 1.8.\n",
            "  warnings.warn(\n",
            "/usr/local/lib/python3.11/dist-packages/sklearn/utils/deprecation.py:151: FutureWarning: 'force_all_finite' was renamed to 'ensure_all_finite' in 1.6 and will be removed in 1.8.\n",
            "  warnings.warn(\n",
            "/usr/local/lib/python3.11/dist-packages/sklearn/utils/deprecation.py:151: FutureWarning: 'force_all_finite' was renamed to 'ensure_all_finite' in 1.6 and will be removed in 1.8.\n",
            "  warnings.warn(\n",
            "/usr/local/lib/python3.11/dist-packages/sklearn/utils/deprecation.py:151: FutureWarning: 'force_all_finite' was renamed to 'ensure_all_finite' in 1.6 and will be removed in 1.8.\n",
            "  warnings.warn(\n",
            "/usr/local/lib/python3.11/dist-packages/sklearn/utils/deprecation.py:151: FutureWarning: 'force_all_finite' was renamed to 'ensure_all_finite' in 1.6 and will be removed in 1.8.\n",
            "  warnings.warn(\n",
            "100%|██████████| 6/6 [00:00<00:00, 103.82it/s]\n"
          ]
        },
        {
          "output_type": "display_data",
          "data": {
            "text/plain": [
              "<Figure size 640x480 with 1 Axes>"
            ],
            "image/png": "[encoded data removed]"
          },
          "metadata": {}
        }
      ]
    },
    {
      "cell_type": "markdown",
      "source": [
        "Summary\n",
        "* We can see the green dots are the retrieved documents in relation to the red X for the bank related query and it was within the bank data cluster."
      ],
      "metadata": {
        "id": "c-jmK4x8GEwG"
      }
    },
    {
      "cell_type": "code",
      "source": [
        "## Test a restaurant related query\n",
        "calc_global_embeddings(\"Do you serve vegetarian food?\", embeddings, retriever, umap_transformer, umap_embed, global_embeddings)"
      ],
      "metadata": {
        "colab": {
          "base_uri": "https://localhost:8080/",
          "height": 750
        },
        "id": "D8_NjEHvD87j",
        "outputId": "62c7f1ba-bd4a-4082-d455-c6b20621ae1f"
      },
      "execution_count": 94,
      "outputs": [
        {
          "output_type": "stream",
          "name": "stderr",
          "text": [
            "  0%|          | 0/1 [00:00<?, ?it/s]/usr/local/lib/python3.11/dist-packages/sklearn/utils/deprecation.py:151: FutureWarning: 'force_all_finite' was renamed to 'ensure_all_finite' in 1.6 and will be removed in 1.8.\n",
            "  warnings.warn(\n",
            "100%|██████████| 1/1 [00:00<00:00, 153.39it/s]\n",
            "  0%|          | 0/6 [00:00<?, ?it/s]/usr/local/lib/python3.11/dist-packages/sklearn/utils/deprecation.py:151: FutureWarning: 'force_all_finite' was renamed to 'ensure_all_finite' in 1.6 and will be removed in 1.8.\n",
            "  warnings.warn(\n",
            "/usr/local/lib/python3.11/dist-packages/sklearn/utils/deprecation.py:151: FutureWarning: 'force_all_finite' was renamed to 'ensure_all_finite' in 1.6 and will be removed in 1.8.\n",
            "  warnings.warn(\n",
            "/usr/local/lib/python3.11/dist-packages/sklearn/utils/deprecation.py:151: FutureWarning: 'force_all_finite' was renamed to 'ensure_all_finite' in 1.6 and will be removed in 1.8.\n",
            "  warnings.warn(\n",
            "/usr/local/lib/python3.11/dist-packages/sklearn/utils/deprecation.py:151: FutureWarning: 'force_all_finite' was renamed to 'ensure_all_finite' in 1.6 and will be removed in 1.8.\n",
            "  warnings.warn(\n",
            "/usr/local/lib/python3.11/dist-packages/sklearn/utils/deprecation.py:151: FutureWarning: 'force_all_finite' was renamed to 'ensure_all_finite' in 1.6 and will be removed in 1.8.\n",
            "  warnings.warn(\n",
            "/usr/local/lib/python3.11/dist-packages/sklearn/utils/deprecation.py:151: FutureWarning: 'force_all_finite' was renamed to 'ensure_all_finite' in 1.6 and will be removed in 1.8.\n",
            "  warnings.warn(\n",
            "100%|██████████| 6/6 [00:00<00:00, 230.75it/s]\n"
          ]
        },
        {
          "output_type": "display_data",
          "data": {
            "text/plain": [
              "<Figure size 640x480 with 1 Axes>"
            ],
            "image/png": "[encoded data removed]"
          },
          "metadata": {}
        }
      ]
    },
    {
      "cell_type": "markdown",
      "source": [
        "Summary\n",
        "* We can see the query landed in the right cluster which is the restaurant text and we can see the Red dot did not hit an exact vector but it was close to a couple of retrieved documents.\n",
        "* This is good to know if we want to improve our queries and embeddings in the future!\n",
        "* Query Expansion and reranking are 2 methods to do this and we will show that next."
      ],
      "metadata": {
        "id": "0m7wo81qGXzZ"
      }
    },
    {
      "cell_type": "markdown",
      "source": [
        "# Query Expansion\n",
        "\n",
        "* Query expansion is a technique used to improve the accuracy of information retrieval systems by enhancing the original user query with additional, contextually relevant terms or phrases.\n",
        "* The goal is to bridge the gap between how users express their intent and how the information is represented in the data repository.\n",
        "\n",
        "## Why is Query Expansion even Necessary?\n",
        "* [source](https://medium.com/@sahin.samia/query-expansion-in-enhancing-retrieval-augmented-generation-rag-d41153317383)\n",
        "1. **Ambiguity**\n",
        "  * Many queries can have multiple semantic and contextual meanings.\n",
        "  * As an example, the word “bank” can refer to the place you get money from, a river bank, or a snow bank (pile of snow).\n",
        "\n",
        "2. **Vocabulary Mismatch**\n",
        "  * Users often use different words or phrases than those used in the documents.\n",
        "  * For example, a query for “car maintenance” might miss results labeled as “vehicle servicing” or “auto repair.”\n",
        "\n",
        "3. **Lack of Context**\n",
        "  * Short or vague queries may not provide enough detail to retrieve the most relevant results, leading to poor precision and recall.\n",
        "\n",
        "## How Query Expansion Works\n",
        "* This refines the original query by incorporating additional terms that are:\n",
        "  * **Synonyms**\n",
        "    * Words with similar meanings, e.g., “house” expanded to “home.”\n",
        "  * **Related Concepts**\n",
        "    * Contextually linked phrases, e.g., “climate change” expanded to “global warming effects.”\n",
        "  * **Contextual Terms**\n",
        "    * Terms derived from the top retrieved results of an initial search."
      ],
      "metadata": {
        "id": "vJn-g3p-G1uL"
      }
    },
    {
      "cell_type": "code",
      "source": [
        "from langchain_openai import ChatOpenAI\n",
        "\n",
        "## setup llm parameters\n",
        "llm = ChatOpenAI(\n",
        "    temperature=0.9, ## change based on app requirements\n",
        "    max_tokens=800,\n",
        "    top_p=0.3,\n",
        "    frequency_penalty=0,\n",
        "    presence_penalty=0,\n",
        ")"
      ],
      "metadata": {
        "id": "07ClgEH8GWMq"
      },
      "execution_count": 95,
      "outputs": []
    },
    {
      "cell_type": "markdown",
      "source": [
        "## Query Expansion setup\n",
        "* Now we take initial query and pass to LLM for query expansion.\n",
        "* We leverage Pydantic for type hints."
      ],
      "metadata": {
        "id": "pyukzObRIxCV"
      }
    },
    {
      "cell_type": "code",
      "source": [
        "from langchain.chains import LLMChain\n",
        "from langchain_core.output_parsers import StrOutputParser\n",
        "from langchain.prompts import PromptTemplate\n",
        "#from pydantic import BaseModel, Field #removed unused import\n",
        "\n",
        "## initial restaurant query\n",
        "query = \"Do you serve vegetarian food?\"\n",
        "\n",
        "#removed unused class\n",
        "# class LineList(BaseModel):\n",
        "#     lines: list[str] = Field(description=\"Lines of text\")\n",
        "\n",
        "\n",
        "class LineListOutputParser(StrOutputParser):\n",
        "    \"\"\"Parse the output of an LLM call to a list of lines.\"\"\"\n",
        "\n",
        "    def parse(self, text: str) -> list[str]:\n",
        "        lines = text.strip().split(\"\\n\")\n",
        "        return {\"lines\": lines}  # <-- Return a dictionary for compatibility with LLMChain\n",
        "\n",
        "    @property\n",
        "    def _type(self) -> str:\n",
        "        return \"line_list\"\n",
        "\n",
        "\n",
        "output_parser = LineListOutputParser()\n",
        "\n",
        "QUERY_PROMPT = PromptTemplate(\n",
        "    input_variables=[\"question\"],\n",
        "    template=\"\"\"You are an AI language model assistant.\n",
        "    Your task is to generate five unique versions of a given user question to retrieve relevant documents from a vector\n",
        "    database.\n",
        "    By generating multiple unique versions of a user question, your goal is to help\n",
        "    the user overcome the limitations of the distance-based similarity search.\n",
        "    Please use synonyms, related concepts, and contextually similar terms when expanding your queries.\n",
        "    As an example: If a user mentions \"waffles\" consider expanding this to \"breakfast foods\" as it is semantically similar.\n",
        "    Provide these alternative questions separated by newlines.\n",
        "    Only provide the query, no numbering.\n",
        "    Original question: {question}\"\"\",\n",
        ")\n",
        "\n",
        "## create chain\n",
        "llm_chain = LLMChain(llm=llm, prompt=QUERY_PROMPT, output_parser=output_parser)\n",
        "## get expanded queries\n",
        "queries = llm_chain.invoke(query)"
      ],
      "metadata": {
        "id": "kfoEi-CJJgn8"
      },
      "execution_count": 98,
      "outputs": []
    },
    {
      "cell_type": "code",
      "source": [
        "## view the expanded queries\n",
        "queries = queries.get(\"text\")\n",
        "queries"
      ],
      "metadata": {
        "colab": {
          "base_uri": "https://localhost:8080/"
        },
        "id": "lD7qEYkGJGAI",
        "outputId": "7b3a003e-cef0-424e-a03b-75d014c726c5"
      },
      "execution_count": 100,
      "outputs": [
        {
          "output_type": "execute_result",
          "data": {
            "text/plain": [
              "{'lines': ['Do you offer plant-based options?',\n",
              "  'Are there vegetarian dishes on the menu?',\n",
              "  'Is there a selection of vegetarian meals available?',\n",
              "  'Do you have any meatless options?',\n",
              "  'Are there any dishes suitable for vegetarians?']}"
            ]
          },
          "metadata": {},
          "execution_count": 100
        }
      ]
    },
    {
      "cell_type": "code",
      "source": [
        "## retrieve docs from vector db\n",
        "docs = [retriever.get_relevant_documents(query) for query in queries]"
      ],
      "metadata": {
        "id": "SlZvX_SFKAmj"
      },
      "execution_count": 101,
      "outputs": []
    },
    {
      "cell_type": "code",
      "source": [
        "## find only unique documents\n",
        "unique_contents = set()\n",
        "unique_docs = []\n",
        "for sublist in docs:\n",
        "    for doc in sublist:\n",
        "        if doc.page_content not in unique_contents:\n",
        "            unique_docs.append(doc)\n",
        "            unique_contents.add(doc.page_content)\n",
        "unique_contents = list(unique_contents)\n",
        "unique_contents"
      ],
      "metadata": {
        "colab": {
          "base_uri": "https://localhost:8080/"
        },
        "id": "wyF8C1rhLuSS",
        "outputId": "6d633ee3-6c1d-469f-abef-3c2170df84cb"
      },
      "execution_count": 102,
      "outputs": [
        {
          "output_type": "execute_result",
          "data": {
            "text/plain": [
              "[\"financial advisors are skilled in crafting investment strategies that align with clients' long-term\",\n",
              " 'from rich and creamy to light and zesty, are made with the freshest ingredients, bringing out the',\n",
              " 'The pasta selection is a highlight of the menu, featuring classics like lasagna, ravioli, and',\n",
              " \"planning, and estate planning, ensuring clients' financial futures are secure.\",\n",
              " 'from well-known labels to hidden gems from small vineyards across Italy. The staff are',\n",
              " 'possible, providing support and advice at every step.']"
            ]
          },
          "metadata": {},
          "execution_count": 102
        }
      ]
    },
    {
      "cell_type": "markdown",
      "source": [
        "Summary\n",
        "* Query expansion has its limitations as we can see.\n",
        "* Lets see what adding a Cross Encoder with reranking can do."
      ],
      "metadata": {
        "id": "W9RoXrvwMK3p"
      }
    },
    {
      "cell_type": "markdown",
      "source": [
        "# Cross Encoder with Reranking\n",
        "* This is the cross encoder we will use from hugging face: `cross-encoder/ms-marco-MiniLM-L6-v2`\n",
        "* Model card: https://huggingface.co/cross-encoder/ms-marco-MiniLM-L6-v2"
      ],
      "metadata": {
        "id": "hmOSjevDMQmT"
      }
    },
    {
      "cell_type": "code",
      "source": [
        "from sentence_transformers import CrossEncoder\n",
        "\n",
        "## load cross encoder model\n",
        "cross_encoder = CrossEncoder('cross-encoder/ms-marco-MiniLM-L-6-v2')"
      ],
      "metadata": {
        "colab": {
          "base_uri": "https://localhost:8080/",
          "height": 177,
          "referenced_widgets": [
            "477413f94eaa424dbce7ac49c64d5a27",
            "724fef3bf59f41df8ca5e6dd6c76ee6a",
            "0ad732bc20304c2d8a60c191321af16f",
            "4f06ac84076e4177971f6a629e8bd8c4",
            "8ebff63d7eba42a79419dd1229af0b4d",
            "c1238bb39e74405e8e1f1d9513202061",
            "81814d4f707d44b1872777e49b0e54c1",
            "92f3b579e53f4e759a094eb1fd8ca6e2",
            "073744fecc424712899fdc70feaaa1a1",
            "d147002f40eb4fd5a3684a82f6316a98",
            "eac83cb9686448f48abae8597edb4b85",
            "1a00f408b2854c84b645de4553d6aa52",
            "e317bec3113349c1a4a04029e314009b",
            "4f8a2d62be3f4f2f9da8db2e33064d88",
            "4558445969e7433e9836fb75720e53fe",
            "c82149953a33492696b5aaa924b2b211",
            "2095aa09f7e947f19de04ff66d4b7ced",
            "b290204de7c24fa1a8a774d6287c77fc",
            "d634cadb2bcc4ac38a49fbfa57546000",
            "e306e753887d4fb9befd78570384c906",
            "a17784f432f9421b9f3a3cdca31126d0",
            "62f41074467f46e38d873811afa46d55",
            "a56704e0355d466a991aad603dffa562",
            "4ad459c30ee5452d85c13eb28f773715",
            "c5456d333ad0404abfce56db1e8dbc9e",
            "63df0a1894ae4daeaf4c797a5e04af71",
            "3123b54f629d4a4087f875fab7e3c50d",
            "c6c933b112de4273ac7cb871990fb3a4",
            "3256aea55ccc41a5a1dbd2d5f4a50dad",
            "a03209a9f9fc4a66ad80a41bb37f30c2",
            "ae4971ef9ca1415d8625c115c98d8584",
            "4bb611c77d32418fbbc74ae0919a0c7f",
            "abf2f12dbfb14c4f9fe3ad08afa38e49",
            "a726e44c22a540c18cd141fd89021ef5",
            "fce071caeb4041b29bf59f1dae81b39d",
            "3486186e53d04167bf127d62031d898d",
            "135603dd44844c57b3686ae009f663c5",
            "7b9ca182ecde4e59b7168d97ffd7638e",
            "c0a53912ce7b420fb6f74a206d7c4ebd",
            "b752eae57e06420ebed2b9b037daea5d",
            "6d21aef4ba104dd387d17faeb3991f85",
            "d965fcb245834a22b21c0831bfa23e96",
            "9cf960729aab4bb2852db45a67531098",
            "8b4260cfce7841baa2c4402ce528b2e3",
            "e1fa2dfef8c840a49c3c68ce6985ce6e",
            "7f3f7f1f2b8943e8a5220128e1867c91",
            "6d8204caf59d40bda55f581e1bb497f4",
            "ce28b3ad36f2467d8f3ace3dd8d307b8",
            "a15884b5d0f54afcb22f089bef5b3a30",
            "dcb9c1a07bdf4b60b5b0abc92aee5c84",
            "753b13e437304906b702800ead79516e",
            "27b9970f4cc645f5bfd2dbb0876852be",
            "bcab36fd8c1f4567afabad86a0807b2c",
            "5ae9f5b546c74d49952b7395bad49b06",
            "42543e70b9ad4a5cb14c038ca8c14e22"
          ]
        },
        "id": "n4A42hKnL7x1",
        "outputId": "0832586f-0a8c-4290-b20e-e72e6503b325"
      },
      "execution_count": 103,
      "outputs": [
        {
          "output_type": "display_data",
          "data": {
            "text/plain": [
              "config.json:   0%|          | 0.00/794 [00:00<?, ?B/s]"
            ],
            "application/vnd.jupyter.widget-view+json": {
              "version_major": 2,
              "version_minor": 0,
              "model_id": "477413f94eaa424dbce7ac49c64d5a27"
            }
          },
          "metadata": {}
        },
        {
          "output_type": "display_data",
          "data": {
            "text/plain": [
              "model.safetensors:   0%|          | 0.00/90.9M [00:00<?, ?B/s]"
            ],
            "application/vnd.jupyter.widget-view+json": {
              "version_major": 2,
              "version_minor": 0,
              "model_id": "1a00f408b2854c84b645de4553d6aa52"
            }
          },
          "metadata": {}
        },
        {
          "output_type": "display_data",
          "data": {
            "text/plain": [
              "tokenizer_config.json:   0%|          | 0.00/316 [00:00<?, ?B/s]"
            ],
            "application/vnd.jupyter.widget-view+json": {
              "version_major": 2,
              "version_minor": 0,
              "model_id": "a56704e0355d466a991aad603dffa562"
            }
          },
          "metadata": {}
        },
        {
          "output_type": "display_data",
          "data": {
            "text/plain": [
              "vocab.txt:   0%|          | 0.00/232k [00:00<?, ?B/s]"
            ],
            "application/vnd.jupyter.widget-view+json": {
              "version_major": 2,
              "version_minor": 0,
              "model_id": "a726e44c22a540c18cd141fd89021ef5"
            }
          },
          "metadata": {}
        },
        {
          "output_type": "display_data",
          "data": {
            "text/plain": [
              "special_tokens_map.json:   0%|          | 0.00/112 [00:00<?, ?B/s]"
            ],
            "application/vnd.jupyter.widget-view+json": {
              "version_major": 2,
              "version_minor": 0,
              "model_id": "e1fa2dfef8c840a49c3c68ce6985ce6e"
            }
          },
          "metadata": {}
        }
      ]
    },
    {
      "cell_type": "markdown",
      "source": [
        "## Create Document Pairs\n",
        "* With a cross encoder the object is to pass each query-doc pair to the cross encoder model in the same vector space."
      ],
      "metadata": {
        "id": "BCtDlNGoMuh7"
      }
    },
    {
      "cell_type": "code",
      "source": [
        "## create pairs\n",
        "pairs = []\n",
        "for doc in unique_contents:\n",
        "  pairs.append([query, doc])"
      ],
      "metadata": {
        "id": "GIFY-zpuMc76"
      },
      "execution_count": 104,
      "outputs": []
    },
    {
      "cell_type": "code",
      "source": [
        "## generate sim scores\n",
        "sim_scores = cross_encoder.predict(pairs)\n",
        "sim_scores"
      ],
      "metadata": {
        "colab": {
          "base_uri": "https://localhost:8080/"
        },
        "id": "BkLzEAsMM_FG",
        "outputId": "46dc3a6b-8b67-400f-f1ce-b061347a4e67"
      },
      "execution_count": 105,
      "outputs": [
        {
          "output_type": "execute_result",
          "data": {
            "text/plain": [
              "array([-11.220272, -10.613697, -10.557279, -11.162832, -11.280336,\n",
              "       -10.640901], dtype=float32)"
            ]
          },
          "metadata": {},
          "execution_count": 105
        }
      ]
    },
    {
      "cell_type": "markdown",
      "source": [
        "## Sort pair docs and Rerank them"
      ],
      "metadata": {
        "id": "a8NhYqG9NMJf"
      }
    },
    {
      "cell_type": "code",
      "source": [
        "## Zip sim scores to unique documents\n",
        "scored_docs = zip(sim_scores, unique_contents)\n",
        "## Sort docs\n",
        "sorted_docs = sorted(scored_docs, reverse=True)\n",
        "sorted_docs"
      ],
      "metadata": {
        "colab": {
          "base_uri": "https://localhost:8080/"
        },
        "id": "MTBzCLo9NGcl",
        "outputId": "bccb0113-68c6-4d24-91f1-7dc6e5964eb4"
      },
      "execution_count": 106,
      "outputs": [
        {
          "output_type": "execute_result",
          "data": {
            "text/plain": [
              "[(-10.557279,\n",
              "  'The pasta selection is a highlight of the menu, featuring classics like lasagna, ravioli, and'),\n",
              " (-10.613697,\n",
              "  'from rich and creamy to light and zesty, are made with the freshest ingredients, bringing out the'),\n",
              " (-10.640901, 'possible, providing support and advice at every step.'),\n",
              " (-11.162832,\n",
              "  \"planning, and estate planning, ensuring clients' financial futures are secure.\"),\n",
              " (-11.220272,\n",
              "  \"financial advisors are skilled in crafting investment strategies that align with clients' long-term\"),\n",
              " (-11.280336,\n",
              "  'from well-known labels to hidden gems from small vineyards across Italy. The staff are')]"
            ]
          },
          "metadata": {},
          "execution_count": 106
        }
      ]
    },
    {
      "cell_type": "code",
      "source": [
        "## rerank to get the 5 most similar documents\n",
        "rerank_docs = [doc for _, doc in sorted_docs][0:5]\n",
        "rerank_docs"
      ],
      "metadata": {
        "colab": {
          "base_uri": "https://localhost:8080/"
        },
        "id": "UG22dq7iNYDh",
        "outputId": "e4d8564a-0a72-4539-fb6f-c6cde18c5ae0"
      },
      "execution_count": 107,
      "outputs": [
        {
          "output_type": "execute_result",
          "data": {
            "text/plain": [
              "['The pasta selection is a highlight of the menu, featuring classics like lasagna, ravioli, and',\n",
              " 'from rich and creamy to light and zesty, are made with the freshest ingredients, bringing out the',\n",
              " 'possible, providing support and advice at every step.',\n",
              " \"planning, and estate planning, ensuring clients' financial futures are secure.\",\n",
              " \"financial advisors are skilled in crafting investment strategies that align with clients' long-term\"]"
            ]
          },
          "metadata": {},
          "execution_count": 107
        }
      ]
    },
    {
      "cell_type": "markdown",
      "source": [
        "# Solving the \"Lost in the Middle Problem\"\n",
        "* Everyone is aware of this issue with long context being \"lost in the middle\" with most LLMs despite the size of their context window.\n",
        "\n",
        "![image.png](data:image/png;base64,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)"
      ],
      "metadata": {
        "id": "ky84xQgUNxXx"
      }
    },
    {
      "cell_type": "markdown",
      "source": [
        "* Source Paper: [Lost in the Middle: How Language Models Use Long Contexts](https://arxiv.org/abs/2307.03172)"
      ],
      "metadata": {
        "id": "LzHNl95xOZAu"
      }
    },
    {
      "cell_type": "markdown",
      "source": [
        "## How this works\n",
        "* [source](https://medium.com/@juanc.olamendy/lost-in-the-middle-a-deep-dive-into-rag-and-langchains-solution-3eccfbe65f49)\n",
        "* Instead of sticking to the traditional retrieval order, LangChain shuffles the deck.\n",
        "  * This places the **most similar documents at the top**, the next set at the bottom, and the least similar ones right in the middle.\n",
        "\n",
        "* The `LongContextReorder` automatically does this!\n",
        "  * Create any retriever object.\n",
        "  * Get the relevant documents using the `get_relevant_documents()` method of that retriever\n",
        "  * Return documents in descending order of their similarity score.\n",
        "  * Pass these documents to an instance of the `LongContextReorder()`\n",
        "  * Get the re-ordered docs where the least relevant ones are at the middle"
      ],
      "metadata": {
        "id": "O5yquZh_O6BS"
      }
    },
    {
      "cell_type": "code",
      "source": [
        "from langchain_community.document_transformers import LongContextReorder"
      ],
      "metadata": {
        "id": "zSEG-BobNokK"
      },
      "execution_count": 108,
      "outputs": []
    },
    {
      "cell_type": "code",
      "source": [
        "## reordering in action\n",
        "reorder = LongContextReorder()\n",
        "reorder_docs = reorder.transform_documents(rerank_docs)\n",
        "reorder_docs"
      ],
      "metadata": {
        "colab": {
          "base_uri": "https://localhost:8080/"
        },
        "id": "Eusw9dJuPdDM",
        "outputId": "948ad4a2-6fb2-4401-b25b-41afc2e86c3e"
      },
      "execution_count": 109,
      "outputs": [
        {
          "output_type": "execute_result",
          "data": {
            "text/plain": [
              "['The pasta selection is a highlight of the menu, featuring classics like lasagna, ravioli, and',\n",
              " 'possible, providing support and advice at every step.',\n",
              " \"financial advisors are skilled in crafting investment strategies that align with clients' long-term\",\n",
              " \"planning, and estate planning, ensuring clients' financial futures are secure.\",\n",
              " 'from rich and creamy to light and zesty, are made with the freshest ingredients, bringing out the']"
            ]
          },
          "metadata": {},
          "execution_count": 109
        }
      ]
    },
    {
      "cell_type": "markdown",
      "source": [
        "Summary\n",
        "* We were able to see 3 advanced retrieval techniques here:\n",
        "\n",
        "1. Query Expansion\n",
        "2. Cross Encoder with Rerank\n",
        "3. LongContextReorder\n",
        "\n",
        "* The final technique gives us the documents in the correct order which can then be sent to the LLM for synthesis and generative outputs.\n",
        "* These are just a few advanced RAG tricks and techniques to reduce information and context loss in RAG-LLM pipelines."
      ],
      "metadata": {
        "id": "E8aay9kXPuuP"
      }
    },
    {
      "cell_type": "code",
      "source": [],
      "metadata": {
        "id": "tf0GRxrjPpQv"
      },
      "execution_count": null,
      "outputs": []
    }
  ]
}